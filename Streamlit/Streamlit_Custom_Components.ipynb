{
 "cells": [
  {
   "cell_type": "markdown",
   "metadata": {},
   "source": [
    "# Streamlit Custom Components"
   ]
  },
  {
   "cell_type": "markdown",
   "metadata": {},
   "source": [
    "## Creating a New Component Project\n",
    "- Good idea to use a dedicated conda environment or virtual environment\n",
    "- Copy contents of `component-template/template` to a new project folder\n",
    "- Rename all of the `my_component` or similar references to the name of your component\n",
    "    - `__init__.py` file\n",
    "    - `setup.py` file as needed for installation\n",
    "    - `/frontend/src/MyComponent.tsx` file\n",
    "        - filename as well as references within\n",
    "    - `/frontend/src/index.tsx`\n",
    "        - import statement to reflect new names\n",
    "        - `ReactDOM.render()` function to reflect new name\n",
    "    - `/frontend/package.json`\n",
    "        - edit the `name`, `version`, \n",
    "- cd to the `frontend` directory of this new project\n",
    "    - in a terminal, run `npm install` then `npm start` to serve the component's front end on the local host dev server (port 3001)\n",
    "- If you edit any of the names above, rerun `npm install` and `npm start`\n",
    "- In PyCharm or other IDE, open the full project folder\n",
    "    - start a terminal and run `streamlit run my_component/__init__.py` to serve the component on the local host (port 8501)"
   ]
  },
  {
   "cell_type": "markdown",
   "metadata": {},
   "source": [
    "## Starting the Browser for Developing/Testing\n",
    "- Be sure that `npm install` was run correctly above\n",
    "1. Run `npm start` in the `frontend` dir\n",
    "2. Run `streamlit run frontend/__init__.py` from the package directory (usually in an IDE (such as PyCharm) terminal)"
   ]
  },
  {
   "cell_type": "markdown",
   "metadata": {},
   "source": [
    "## If Using MaterialUI (common)\n",
    "- from the `frontend` dir, run `npm install @material-ui/core`"
   ]
  },
  {
   "cell_type": "markdown",
   "metadata": {},
   "source": [
    "### Using MaterialUI Code\n",
    "- There is a lot of code available for copy/paste at [https://material-ui.com/](https://material-ui.com/)\n",
    "    - Choose Documentation, then look for `Components` in the sidebar\n",
    "    - Toggle the `<>` show the full source to see all of the code\n",
    "    - Copy any objects you want to your code\n",
    "        - you may need to include additional `import { object_name } from '@material-ui/core'` statements\n",
    "        - you also may need to copy helper functions\n",
    "            - be aware for TypeScript errors, and check for specifying `: any` as the type for the function arguments in function definitions\n",
    "- You may need to edit the appearance using MaterialUI styling, especially if the object overflows its iFrame bounds\n",
    "    - Basics located at [https://material-ui.com/styles/basics/](https://material-ui.com/styles/basics/)"
   ]
  },
  {
   "cell_type": "markdown",
   "metadata": {},
   "source": [
    "## Editing the Frontend\n",
    "- Edit the `/frontend/src/MyComponent.tsx` file\n",
    "    - tsx files are files relating to React.js using JSX syntax"
   ]
  },
  {
   "cell_type": "markdown",
   "metadata": {},
   "source": [
    "## Editing the Backend (Python)\n",
    "- Edit the `/my_component/__init__.py` file"
   ]
  },
  {
   "cell_type": "markdown",
   "metadata": {},
   "source": [
    "## Frontend (MyComponents.tsx) Basics"
   ]
  },
  {
   "cell_type": "markdown",
   "metadata": {},
   "source": [
    "- Should rename this file to be the name of your component\n",
    "- The `class MyComponent extends StreamlitComponentBase<State> {}` class\n",
    "    - args passed in python to the `_component_func()` (see below) are accessible through the dictionary `this.props.args[prop_name]`\n",
    "        - `prop_name` is the argument name supplied to the `_component_func()` in `__init__.py`\n",
    "        - you can add all the custom args you want to the `_component_func()` when you call it and access it in this way from the frontend\n",
    "        - be sure that the args passed in `__init__.py` match args accessed in this way\n",
    "    - the `public render()` function contains the code to display the component and collect data associated with it\n",
    "    - the `private onClicked` function in the example is the handler for the button object in the example\n",
    "        - this handler increments the numClicks state variable each time the button is clicked\n",
    "        - see the `this.onClicked` part of the `public render` function\n",
    "    - any value set using the `Streamlit.setComponentValue()` function will be passed as a return value to the component\n",
    "- IMPORTANT!\n",
    "    - Return values are defined in the `.tsx` file"
   ]
  },
  {
   "cell_type": "markdown",
   "metadata": {},
   "source": [
    "```typescript\n",
    "\n",
    "import {\n",
    "  Streamlit,\n",
    "  StreamlitComponentBase,\n",
    "  withStreamlitConnection\n",
    "} from \"streamlit-component-lib\";\n",
    "import React, { ReactNode } from \"react\"\n",
    "\n",
    "\n",
    "// this section sets the state of numClicks, so the page remembers this value\n",
    "// this value is incremented by clicking the button, set by the private onClicked() handler\n",
    "interface State {\n",
    "  numClicks: number\n",
    "}\n",
    "\n",
    "/**\n",
    " * This is a React-based component template. The `render()` function is called\n",
    " * automatically when your component should be re-rendered.\n",
    " */\n",
    "class MyComponent extends StreamlitComponentBase<State> {\n",
    "  public state = { numClicks: 0 }\n",
    "\n",
    "  public render = (): ReactNode => {\n",
    "    // Arguments that are passed to the plugin in Python are accessible\n",
    "    // via `this.props.args`. Here, we access the \"name\" arg.\n",
    "    const name = this.props.args[\"name\"]\n",
    "    const greeting = this.props.args[\"greeting\"]\n",
    "\n",
    "    // Show a button and some text.\n",
    "    // When the button is clicked, we'll increment our \"numClicks\" state\n",
    "    // variable, and send its new value back to Streamlit, where it'll\n",
    "    // be available to the Python program.\n",
    "    return (\n",
    "      <span>\n",
    "        {greeting}, {name}! &nbsp;\n",
    "        <button onClick={this.onClicked} disabled={this.props.disabled}>\n",
    "          Click Me!\n",
    "        </button>\n",
    "      </span>\n",
    "    )\n",
    "  }\n",
    "\n",
    "  /** Click handler for our \"Click Me!\" button. */\n",
    "  private onClicked = (): void => {\n",
    "    // Increment state.numClicks, and pass the new value back to\n",
    "    // Streamlit via `Streamlit.setComponentValue`.\n",
    "    this.setState(\n",
    "      prevState => ({ numClicks: prevState.numClicks + 1 }),\n",
    "      () => Streamlit.setComponentValue(this.state.numClicks)\n",
    "    )\n",
    "  }\n",
    "}\n",
    "\n",
    "// \"withStreamlitConnection\" is a wrapper function. It bootstraps the\n",
    "// connection between your component and the Streamlit app, and handles\n",
    "// passing arguments from Python -> Component.\n",
    "//\n",
    "// You don't need to edit withStreamlitConnection (but you're welcome to!).\n",
    "export default withStreamlitConnection(MyComponent)\n",
    "\n",
    "\n",
    "```"
   ]
  },
  {
   "cell_type": "code",
   "execution_count": null,
   "metadata": {},
   "outputs": [],
   "source": []
  },
  {
   "cell_type": "markdown",
   "metadata": {},
   "source": [
    "## Backend (Python, __init__.py) Basics"
   ]
  },
  {
   "cell_type": "markdown",
   "metadata": {},
   "source": [
    "- Need to `import streamlit.components.v1 as components`\n",
    "- Most important function is the `components.declare_components()` function"
   ]
  },
  {
   "cell_type": "markdown",
   "metadata": {},
   "source": [
    "#### declare_components()\n",
    "- Takes two args\n",
    "    - readable name for the component (`name=my_component` or whatever)\n",
    "    - url (url of the host `http://localhost:3001` during dev by default)\n",
    "- Returns a function that allows you to create instances of the component\n",
    "    - illustrated as `_component_func()` below"
   ]
  },
  {
   "cell_type": "markdown",
   "metadata": {},
   "source": [
    "#### _component_func()\n",
    "- Can name this function other things, just using `_component_func()` in this example\n",
    "- When calling this function, you must provide unique values of the `key` arg to prevent errors (not required if only using this func once)\n",
    "- Can pass any number of custom arguments to this function when calling, which can be accessed in the frontend using `this.props.args[arg_name]`\n",
    "    - be sure that args passed match args accessed in `MyComponents.tsx`\n",
    "- Returns values received from the UI\n",
    "- It's customary to use a wrapper function to create instances (see example below)"
   ]
  },
  {
   "cell_type": "markdown",
   "metadata": {},
   "source": [
    "```python\n",
    "# __init__.py\n",
    "# basic example of creating a component\n",
    "\n",
    "import streamlit as st\n",
    "import streamlit.components.v1 as components\n",
    "\n",
    "\n",
    "# create the component function using declare_components\n",
    "_component_func = components.declare_components(\n",
    "    name='my_component',\n",
    "    url='http://localhost:3001'  # need to change this for production\n",
    ")\n",
    "\n",
    "\n",
    "# examples of creating instances of the component\n",
    "_ = _component_func()\n",
    "return_value = _component_func(custom_var1='value1', custom_var2='value2', key='foo')\n",
    "return_value2 = _component_func(key='bar')\n",
    "return_value3 = _component_func(key='baz')\n",
    "\n",
    "\n",
    "# using a wrapper function\n",
    "def my_component(name, greeting='Hello', key=None):\n",
    "    \"\"\"Create a new instance of \"my_component\".\n",
    "\n",
    "    Parameters\n",
    "    ----------\n",
    "    name: str\n",
    "        The name of the thing we're saying hello to. The component will display\n",
    "        the text \"Hello, {name}!\"\n",
    "    key: str or None\n",
    "        An optional key that uniquely identifies this component. If this is\n",
    "        None, and the component's arguments are changed, the component will\n",
    "        be re-mounted in the Streamlit frontend and lose its current state.\n",
    "    greeting: str or 'Hello'\n",
    "        An optional additional greeting to supply.\n",
    "\n",
    "    Returns\n",
    "    -------\n",
    "    int\n",
    "        The number of times the component's \"Click Me\" button has been clicked.\n",
    "        (This is the value passed to `Streamlit.setComponentValue` on the\n",
    "        frontend.)\n",
    "         \n",
    "\n",
    "    \"\"\"\n",
    "    # Call through to our private component function. Arguments we pass here\n",
    "    # will be sent to the frontend, where they'll be available in an \"args\"\n",
    "    # dictionary.\n",
    "    #\n",
    "    # \"default\" is a special argument that specifies the initial return\n",
    "    # value of the component before the user has interacted with it.\n",
    "    component_value = _component_func(name=name, greeting=greeting, key=key, default=0)\n",
    "\n",
    "    # We could modify the value returned from the component if we wanted.\n",
    "    # There's no need to do this in our simple example - but it's an option.\n",
    "    return component_value\n",
    "    \n",
    "\n",
    "# exmaple one using the wrapper function\n",
    "\n",
    "# calling the wrapper func returns the component_value\n",
    "value = my_component(name='World', key='foo-bar-baz')\n",
    "\n",
    "# displaying info\n",
    "st.markdown(f\"You've clicked the button {int(value)} times!\")\n",
    "\n",
    "st.markdown('---')\n",
    "\n",
    "# example two accepting the name as a user input, supplying a default if no input is provided\n",
    "# the name_input isn't used here, but is accessed in the MyComponents.tsx file using this.props.args['name']\n",
    "name_input = st.text_input('Enter a name', value='Streamlit')\n",
    "num_clicks = my_component(name=name_input, greeting='Ahoy', key='unique_value')\n",
    "st.markdown(f\"You've clicked the button {int(num_clicks)} times!\")\n",
    "```"
   ]
  },
  {
   "cell_type": "code",
   "execution_count": null,
   "metadata": {},
   "outputs": [],
   "source": []
  },
  {
   "cell_type": "markdown",
   "metadata": {},
   "source": [
    "## Packaging for Use/Deployment"
   ]
  },
  {
   "cell_type": "markdown",
   "metadata": {},
   "source": [
    "1. In the `/frontend` dir\n",
    "    - run `npm run build`\n",
    "    - check for release statuses and such\n",
    "    - view instructions at [https://docs.streamlit.io/en/stable/publish_streamlit_components.html#promote-your-component](https://docs.streamlit.io/en/stable/publish_streamlit_components.html#promote-your-component)"
   ]
  },
  {
   "cell_type": "code",
   "execution_count": null,
   "metadata": {},
   "outputs": [],
   "source": []
  }
 ],
 "metadata": {
  "kernelspec": {
   "display_name": "Python 3",
   "language": "python",
   "name": "python3"
  },
  "language_info": {
   "codemirror_mode": {
    "name": "ipython",
    "version": 3
   },
   "file_extension": ".py",
   "mimetype": "text/x-python",
   "name": "python",
   "nbconvert_exporter": "python",
   "pygments_lexer": "ipython3",
   "version": "3.7.7"
  }
 },
 "nbformat": 4,
 "nbformat_minor": 4
}
