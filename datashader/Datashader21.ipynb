{
 "cells": [
  {
   "cell_type": "markdown",
   "id": "correct-dependence",
   "metadata": {},
   "source": [
    "# [Datashader: Visualizing Big Data](https://know.anaconda.com/Visualizing-Big-Data-LP.html)\n",
    "### James A. Bednar, Sr. Manager, Technical Consulting at Anaconda\n",
    "*Wednesday, January 27, 2021 at 2pm EST/11am PST*\n",
    "\n",
    "Datashader is a groundbreaking Python library for rendering even the largest datasets quickly and accurately. Recent improvements to Bokeh, Plotly, and HoloViews now make it much more practical for any data scientist or analyst to use Datashader for interactive data exploration.\n",
    "\n",
    "In this webinar, we'll show you how easy it is to use Datashader with your laptop, Dask cluster, or NVIDIA GPU to understand all your data, letting you see everything in unprecedented detail without major software-engineering investments.\n",
    "\n",
    "## General links\n",
    "\n",
    "- Today's examples: [bit.ly/datashader21](https://bit.ly/datashader21) (this page) \n",
    "- Many others: [examples.pyviz.org](https://examples.pyviz.org), [datashader.org](https://datashader.org)\n",
    "- Full tutorial on Datashader/HoloViews/Panel: [holoviz.org](https://holoviz.org)\n",
    "- If you want help applying Datashader to your own data, or have ideas for new features: [sales@anaconda.com](sales@anaconda.com)"
   ]
  },
  {
   "cell_type": "markdown",
   "id": "affecting-potato",
   "metadata": {},
   "source": [
    "## Examples covered during the webinar:\n",
    "\n",
    "- Introductory examples\n",
    "  * [Ship traffic](https://nbviewer.jupyter.org/urls/notebooks.anaconda.org/jbednar/ship_traffic/download/%3Fversion%3D)\n",
    "  * [Glaciers](https://examples.pyviz.org/glaciers/glaciers.html)\n",
    "  * [Attractors](https://examples.pyviz.org/attractors/attractors.html)\n",
    "- Other types of data\n",
    "  * [NYC buildings](https://examples.pyviz.org/nyc_buildings)\n",
    "  * [Datashader timeseries](https://datashader.org/user_guide/Timeseries.html)\n",
    "  * [Datashader trajectories](https://datashader.org/user_guide/Trajectories.html)\n",
    "  * [Datashader networks](https://datashader.org/user_guide/Networks.html)\n",
    "  * [HoloViews Datashader support](http://holoviews.org/user_guide/Large_Data.html)\n",
    "- GPU examples\n",
    "  * [OSM](https://examples.pyviz.org/osm/osm-1billion.html)\n",
    "  * [Census](https://examples.pyviz.org/census)\n",
    "  * [Datashader dashboard](https://examples.pyviz.org/datashader_dashboard/dashboard.html)\n",
    "- Datashader datatype support\n",
    "  * [Datashader data objects](https://datashader.org/user_guide/Performance.html#Data-objects)\n",
    "- Other plotting libraries\n",
    "  * [Matplotlib interactivity](https://datashader.org/getting_started/Interactivity.html)\n",
    "  * [Plotly HoloViews](https://dash.plotly.com/holoviews#combining-datashader-and-linked-selections)\n"
   ]
  }
 ],
 "metadata": {
  "kernelspec": {
   "display_name": "Python 3",
   "language": "python",
   "name": "python3"
  },
  "language_info": {
   "codemirror_mode": {
    "name": "ipython",
    "version": 3
   },
   "file_extension": ".py",
   "mimetype": "text/x-python",
   "name": "python",
   "nbconvert_exporter": "python",
   "pygments_lexer": "ipython3",
   "version": "3.7.9"
  }
 },
 "nbformat": 4,
 "nbformat_minor": 5
}
