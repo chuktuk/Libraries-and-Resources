{
 "cells": [
  {
   "cell_type": "markdown",
   "id": "54f2eccb",
   "metadata": {},
   "source": [
    "# Edit Prediction Dates\n",
    "- This notebook's purpose is to take the predictions loaded into Mongo and spread out the date ranges for testing the model performance metrics with different options"
   ]
  },
  {
   "cell_type": "code",
   "execution_count": 1,
   "id": "eb6ddaaa",
   "metadata": {},
   "outputs": [],
   "source": [
    "import pymongo\n",
    "import pandas as pd\n",
    "from datetime import datetime as dt\n",
    "from datetime import timedelta as td\n",
    "import os\n",
    "from dotenv import load_dotenv"
   ]
  },
  {
   "cell_type": "code",
   "execution_count": 2,
   "id": "3d299d0f",
   "metadata": {},
   "outputs": [
    {
     "data": {
      "text/plain": [
       "True"
      ]
     },
     "execution_count": 2,
     "metadata": {},
     "output_type": "execute_result"
    }
   ],
   "source": [
    "load_dotenv(os.getenv('DOTENV'))"
   ]
  },
  {
   "cell_type": "code",
   "execution_count": 3,
   "id": "220db867",
   "metadata": {},
   "outputs": [],
   "source": [
    "client = pymongo.MongoClient(os.getenv('MONGO_URI'))\n",
    "db = client['pocMLModelMonitoring']\n",
    "col = db['iris_knn']"
   ]
  },
  {
   "cell_type": "code",
   "execution_count": 4,
   "id": "43fa2587",
   "metadata": {},
   "outputs": [
    {
     "data": {
      "text/plain": [
       "30027"
      ]
     },
     "execution_count": 4,
     "metadata": {},
     "output_type": "execute_result"
    }
   ],
   "source": [
    "docs = col.find({}).sort('prediction_timestamp', pymongo.ASCENDING)\n",
    "docs = [doc for doc in docs]\n",
    "len(docs)"
   ]
  },
  {
   "cell_type": "code",
   "execution_count": 5,
   "id": "938d708f",
   "metadata": {},
   "outputs": [
    {
     "data": {
      "text/plain": [
       "{'_id': ObjectId('60b772c94bc6858738fedd2e'),\n",
       " 'data': [5.0, 3.4, 1.5, 0.2],\n",
       " 'prediction': 'setosa'}"
      ]
     },
     "execution_count": 5,
     "metadata": {},
     "output_type": "execute_result"
    }
   ],
   "source": [
    "docs[0]"
   ]
  },
  {
   "cell_type": "code",
   "execution_count": 6,
   "id": "76b230a7",
   "metadata": {},
   "outputs": [
    {
     "data": {
      "text/plain": [
       "{'_id': ObjectId('60b14dc372051a271b6e28d4'),\n",
       " 'data': [7.0, 3.1, 5.5, 2.2],\n",
       " 'prediction': 'virginica',\n",
       " 'prediction_timestamp': datetime.datetime(2021, 5, 28, 16, 8, 35, 94000)}"
      ]
     },
     "execution_count": 6,
     "metadata": {},
     "output_type": "execute_result"
    }
   ],
   "source": [
    "docs[-1]"
   ]
  },
  {
   "cell_type": "code",
   "execution_count": 11,
   "id": "d546022d",
   "metadata": {},
   "outputs": [],
   "source": [
    "no_timestamp = [doc for doc in docs if not doc.get('timestamp')]"
   ]
  },
  {
   "cell_type": "code",
   "execution_count": 12,
   "id": "9df6c49a",
   "metadata": {},
   "outputs": [
    {
     "data": {
      "text/plain": [
       "27"
      ]
     },
     "execution_count": 12,
     "metadata": {},
     "output_type": "execute_result"
    }
   ],
   "source": [
    "len(no_timestamp)"
   ]
  },
  {
   "cell_type": "code",
   "execution_count": 13,
   "id": "0136db65",
   "metadata": {},
   "outputs": [
    {
     "data": {
      "text/plain": [
       "{'_id': ObjectId('60b772c94bc6858738fedd2e'),\n",
       " 'data': [5.0, 3.4, 1.5, 0.2],\n",
       " 'prediction': 'setosa'}"
      ]
     },
     "execution_count": 13,
     "metadata": {},
     "output_type": "execute_result"
    }
   ],
   "source": [
    "no_timestamp[0]"
   ]
  },
  {
   "cell_type": "code",
   "execution_count": 14,
   "id": "68195ed2",
   "metadata": {},
   "outputs": [
    {
     "data": {
      "text/plain": [
       "{'_id': ObjectId('60b14dc372051a271b6e28d4'),\n",
       " 'data': [7.0, 3.1, 5.5, 2.2],\n",
       " 'prediction': 'virginica',\n",
       " 'prediction_timestamp': datetime.datetime(2021, 5, 28, 16, 8, 35, 94000)}"
      ]
     },
     "execution_count": 14,
     "metadata": {},
     "output_type": "execute_result"
    }
   ],
   "source": [
    "no_timestamp[-1]"
   ]
  },
  {
   "cell_type": "code",
   "execution_count": 15,
   "id": "7c658a6a",
   "metadata": {},
   "outputs": [],
   "source": [
    "for doc in no_timestamp:\n",
    "    if 'prediction_timestamp' in doc.keys():\n",
    "        ts = doc['prediction_timestamp']\n",
    "        del(doc['prediction_timestamp'])\n",
    "        doc['timestamp'] = ts\n",
    "    else:\n",
    "        doc['timestamp'] = dt.now()"
   ]
  },
  {
   "cell_type": "code",
   "execution_count": 16,
   "id": "6ccba7cc",
   "metadata": {},
   "outputs": [
    {
     "data": {
      "text/plain": [
       "[{'_id': ObjectId('60b772c94bc6858738fedd2e'),\n",
       "  'data': [5.0, 3.4, 1.5, 0.2],\n",
       "  'prediction': 'setosa',\n",
       "  'timestamp': datetime.datetime(2021, 6, 8, 8, 21, 36, 432738)},\n",
       " {'_id': ObjectId('60b772c94bc6858738fedd2f'),\n",
       "  'data': [7.8, 3.1, 6.2, 2.4],\n",
       "  'prediction': 'virginica',\n",
       "  'timestamp': datetime.datetime(2021, 6, 8, 8, 21, 36, 432738)},\n",
       " {'_id': ObjectId('60b772c94bc6858738fedd30'),\n",
       "  'data': [7.0, 3.1, 5.5, 2.2],\n",
       "  'prediction': 'virginica',\n",
       "  'timestamp': datetime.datetime(2021, 6, 8, 8, 21, 36, 432738)},\n",
       " {'_id': ObjectId('60ad62d59ca321faf69e1aba'),\n",
       "  'data': [5.0, 3.4, 1.5, 0.2],\n",
       "  'prediction': 'setosa',\n",
       "  'label': 'setosa',\n",
       "  'timestamp': datetime.datetime(2020, 1, 1, 0, 0)},\n",
       " {'_id': ObjectId('60ad62d59ca321faf69e1abb'),\n",
       "  'data': [7.8, 3.1, 6.2, 2.4],\n",
       "  'prediction': 'virginica',\n",
       "  'label': 'virginica',\n",
       "  'timestamp': datetime.datetime(2020, 1, 1, 0, 0)},\n",
       " {'_id': ObjectId('60ad62d59ca321faf69e1abc'),\n",
       "  'data': [7.0, 3.1, 5.5, 2.2],\n",
       "  'prediction': 'virginica',\n",
       "  'label': 'virginica',\n",
       "  'timestamp': datetime.datetime(2020, 1, 1, 0, 0)},\n",
       " {'_id': ObjectId('60ae3b4691302ff675141de6'),\n",
       "  'data': [5.0, 3.4, 1.5, 0.2],\n",
       "  'prediction': 'setosa',\n",
       "  'label': 'setosa',\n",
       "  'timestamp': datetime.datetime(2021, 1, 1, 0, 0)},\n",
       " {'_id': ObjectId('60ae3b4691302ff675141de7'),\n",
       "  'data': [7.8, 3.1, 6.2, 2.4],\n",
       "  'prediction': 'virginica',\n",
       "  'label': 'virginica',\n",
       "  'timestamp': datetime.datetime(2021, 1, 1, 0, 0)},\n",
       " {'_id': ObjectId('60ae3b4691302ff675141de8'),\n",
       "  'data': [7.0, 3.1, 5.5, 2.2],\n",
       "  'prediction': 'virginica',\n",
       "  'label': 'virginica',\n",
       "  'timestamp': datetime.datetime(2021, 1, 1, 0, 0)},\n",
       " {'_id': ObjectId('60af9bcaf0aae2f444972efd'),\n",
       "  'data': [5.0, 3.4, 1.5, 0.2],\n",
       "  'prediction': 'setosa',\n",
       "  'timestamp': datetime.datetime(2021, 5, 27, 9, 16, 58, 43000)},\n",
       " {'_id': ObjectId('60af9bcaf0aae2f444972efe'),\n",
       "  'data': [7.8, 3.1, 6.2, 2.4],\n",
       "  'prediction': 'virginica',\n",
       "  'timestamp': datetime.datetime(2021, 5, 27, 9, 16, 58, 43000)},\n",
       " {'_id': ObjectId('60af9bcaf0aae2f444972eff'),\n",
       "  'data': [7.0, 3.1, 5.5, 2.2],\n",
       "  'prediction': 'virginica',\n",
       "  'timestamp': datetime.datetime(2021, 5, 27, 9, 16, 58, 43000)},\n",
       " {'_id': ObjectId('60af9cb1760fbd92d06365a6'),\n",
       "  'data': [5.0, 3.4, 1.5, 0.2],\n",
       "  'prediction': 'setosa',\n",
       "  'label': 'setosa',\n",
       "  'timestamp': datetime.datetime(2021, 5, 27, 9, 20, 49, 232000)},\n",
       " {'_id': ObjectId('60af9cb1760fbd92d06365a7'),\n",
       "  'data': [7.8, 3.1, 6.2, 2.4],\n",
       "  'prediction': 'virginica',\n",
       "  'label': 'virginica',\n",
       "  'timestamp': datetime.datetime(2021, 5, 27, 9, 20, 49, 232000)},\n",
       " {'_id': ObjectId('60af9cb1760fbd92d06365a8'),\n",
       "  'data': [7.0, 3.1, 5.5, 2.2],\n",
       "  'prediction': 'virginica',\n",
       "  'label': 'virginica',\n",
       "  'timestamp': datetime.datetime(2021, 5, 27, 9, 20, 49, 232000)},\n",
       " {'_id': ObjectId('60b14423237521f092b9adc2'),\n",
       "  'data': [5.0, 3.4, 1.5, 0.2],\n",
       "  'prediction': 'setosa',\n",
       "  'timestamp': datetime.datetime(2021, 5, 28, 15, 27, 31, 417000)},\n",
       " {'_id': ObjectId('60b14423237521f092b9adc3'),\n",
       "  'data': [7.8, 3.1, 6.2, 2.4],\n",
       "  'prediction': 'virginica',\n",
       "  'timestamp': datetime.datetime(2021, 5, 28, 15, 27, 31, 417000)},\n",
       " {'_id': ObjectId('60b14423237521f092b9adc4'),\n",
       "  'data': [7.0, 3.1, 5.5, 2.2],\n",
       "  'prediction': 'virginica',\n",
       "  'timestamp': datetime.datetime(2021, 5, 28, 15, 27, 31, 417000)},\n",
       " {'_id': ObjectId('60b14456237521f092b9adc7'),\n",
       "  'data': [5.0, 3.4, 1.5, 0.2],\n",
       "  'prediction': 'setosa',\n",
       "  'timestamp': datetime.datetime(2021, 5, 28, 15, 28, 22, 497000)},\n",
       " {'_id': ObjectId('60b14456237521f092b9adc8'),\n",
       "  'data': [7.8, 3.1, 6.2, 2.4],\n",
       "  'prediction': 'virginica',\n",
       "  'timestamp': datetime.datetime(2021, 5, 28, 15, 28, 22, 497000)},\n",
       " {'_id': ObjectId('60b14456237521f092b9adc9'),\n",
       "  'data': [7.0, 3.1, 5.5, 2.2],\n",
       "  'prediction': 'virginica',\n",
       "  'timestamp': datetime.datetime(2021, 5, 28, 15, 28, 22, 497000)},\n",
       " {'_id': ObjectId('60b1448d237521f092b9adcc'),\n",
       "  'data': [5.0, 3.4, 1.5, 0.2],\n",
       "  'prediction': 'setosa',\n",
       "  'timestamp': datetime.datetime(2021, 5, 28, 15, 29, 17, 485000)},\n",
       " {'_id': ObjectId('60b1448d237521f092b9adcd'),\n",
       "  'data': [7.8, 3.1, 6.2, 2.4],\n",
       "  'prediction': 'virginica',\n",
       "  'timestamp': datetime.datetime(2021, 5, 28, 15, 29, 17, 485000)},\n",
       " {'_id': ObjectId('60b1448d237521f092b9adce'),\n",
       "  'data': [7.0, 3.1, 5.5, 2.2],\n",
       "  'prediction': 'virginica',\n",
       "  'timestamp': datetime.datetime(2021, 5, 28, 15, 29, 17, 485000)},\n",
       " {'_id': ObjectId('60b14dc372051a271b6e28d2'),\n",
       "  'data': [5.0, 3.4, 1.5, 0.2],\n",
       "  'prediction': 'setosa',\n",
       "  'timestamp': datetime.datetime(2021, 5, 28, 16, 8, 35, 94000)},\n",
       " {'_id': ObjectId('60b14dc372051a271b6e28d3'),\n",
       "  'data': [7.8, 3.1, 6.2, 2.4],\n",
       "  'prediction': 'virginica',\n",
       "  'timestamp': datetime.datetime(2021, 5, 28, 16, 8, 35, 94000)},\n",
       " {'_id': ObjectId('60b14dc372051a271b6e28d4'),\n",
       "  'data': [7.0, 3.1, 5.5, 2.2],\n",
       "  'prediction': 'virginica',\n",
       "  'timestamp': datetime.datetime(2021, 5, 28, 16, 8, 35, 94000)}]"
      ]
     },
     "execution_count": 16,
     "metadata": {},
     "output_type": "execute_result"
    }
   ],
   "source": [
    "no_timestamp"
   ]
  },
  {
   "cell_type": "code",
   "execution_count": 19,
   "id": "0ffad185",
   "metadata": {},
   "outputs": [
    {
     "data": {
      "text/plain": [
       "27"
      ]
     },
     "execution_count": 19,
     "metadata": {},
     "output_type": "execute_result"
    }
   ],
   "source": [
    "modified = 0\n",
    "for doc in no_timestamp:\n",
    "    result = col.update_one({'_id': doc['_id']}, {'$set': {'timestamp': doc['timestamp']}})\n",
    "    modified += result.modified_count\n",
    "modified"
   ]
  },
  {
   "cell_type": "code",
   "execution_count": 20,
   "id": "f529262e",
   "metadata": {},
   "outputs": [
    {
     "data": {
      "text/plain": [
       "24"
      ]
     },
     "execution_count": 20,
     "metadata": {},
     "output_type": "execute_result"
    }
   ],
   "source": [
    "result = col.update_many({'prediction_timestamp': {'$exists': 1}}, {'$unset': {'prediction_timestamp': ''}})\n",
    "result.modified_count"
   ]
  },
  {
   "cell_type": "code",
   "execution_count": null,
   "id": "35b541e2",
   "metadata": {},
   "outputs": [],
   "source": []
  },
  {
   "cell_type": "code",
   "execution_count": null,
   "id": "47e57c75",
   "metadata": {},
   "outputs": [],
   "source": []
  },
  {
   "cell_type": "code",
   "execution_count": 22,
   "id": "1fd8b14e",
   "metadata": {},
   "outputs": [
    {
     "data": {
      "text/plain": [
       "0"
      ]
     },
     "execution_count": 22,
     "metadata": {},
     "output_type": "execute_result"
    }
   ],
   "source": [
    "docs = col.find({'timestamp': {'$exists': False}})\n",
    "docs = [doc for doc in docs]\n",
    "len(docs)"
   ]
  },
  {
   "cell_type": "code",
   "execution_count": null,
   "id": "d0de2e7b",
   "metadata": {},
   "outputs": [],
   "source": []
  },
  {
   "cell_type": "code",
   "execution_count": 23,
   "id": "ba7ad719",
   "metadata": {},
   "outputs": [],
   "source": [
    "import numpy as np"
   ]
  },
  {
   "cell_type": "code",
   "execution_count": 33,
   "id": "4f8878e9",
   "metadata": {},
   "outputs": [],
   "source": [
    "spread = np.arange(start=0, stop=(365*5), dtype=np.dtype(int))"
   ]
  },
  {
   "cell_type": "code",
   "execution_count": 34,
   "id": "9918f753",
   "metadata": {},
   "outputs": [
    {
     "data": {
      "text/plain": [
       "array([   0,    1,    2, ..., 1822, 1823, 1824])"
      ]
     },
     "execution_count": 34,
     "metadata": {},
     "output_type": "execute_result"
    }
   ],
   "source": [
    "spread"
   ]
  },
  {
   "cell_type": "code",
   "execution_count": 35,
   "id": "14805f41",
   "metadata": {},
   "outputs": [],
   "source": [
    "arr = np.random.choice(spread, size=30027, replace=True)"
   ]
  },
  {
   "cell_type": "code",
   "execution_count": 36,
   "id": "5c0dc8c0",
   "metadata": {},
   "outputs": [
    {
     "data": {
      "text/plain": [
       "dtype('int32')"
      ]
     },
     "execution_count": 36,
     "metadata": {},
     "output_type": "execute_result"
    }
   ],
   "source": [
    "arr.dtype"
   ]
  },
  {
   "cell_type": "code",
   "execution_count": 37,
   "id": "f2c34745",
   "metadata": {},
   "outputs": [],
   "source": [
    "start = dt.now()"
   ]
  },
  {
   "cell_type": "code",
   "execution_count": 38,
   "id": "de8c2294",
   "metadata": {},
   "outputs": [],
   "source": [
    "arr = start - arr * td(days=1)"
   ]
  },
  {
   "cell_type": "code",
   "execution_count": 41,
   "id": "15d7c3a9",
   "metadata": {},
   "outputs": [],
   "source": [
    "arr.sort()"
   ]
  },
  {
   "cell_type": "code",
   "execution_count": 42,
   "id": "069e9b10",
   "metadata": {},
   "outputs": [
    {
     "data": {
      "text/plain": [
       "array([datetime.datetime(2016, 6, 10, 8, 42, 28, 358475),\n",
       "       datetime.datetime(2016, 6, 10, 8, 42, 28, 358475),\n",
       "       datetime.datetime(2016, 6, 10, 8, 42, 28, 358475), ...,\n",
       "       datetime.datetime(2021, 6, 8, 8, 42, 28, 358475),\n",
       "       datetime.datetime(2021, 6, 8, 8, 42, 28, 358475),\n",
       "       datetime.datetime(2021, 6, 8, 8, 42, 28, 358475)], dtype=object)"
      ]
     },
     "execution_count": 42,
     "metadata": {},
     "output_type": "execute_result"
    }
   ],
   "source": [
    "arr"
   ]
  },
  {
   "cell_type": "code",
   "execution_count": 43,
   "id": "19511789",
   "metadata": {},
   "outputs": [
    {
     "data": {
      "text/plain": [
       "30027"
      ]
     },
     "execution_count": 43,
     "metadata": {},
     "output_type": "execute_result"
    }
   ],
   "source": [
    "len(arr)"
   ]
  },
  {
   "cell_type": "code",
   "execution_count": 44,
   "id": "0d97e9d2",
   "metadata": {},
   "outputs": [
    {
     "data": {
      "text/plain": [
       "30027"
      ]
     },
     "execution_count": 44,
     "metadata": {},
     "output_type": "execute_result"
    }
   ],
   "source": [
    "docs = col.find({})\n",
    "docs = [doc for doc in docs]\n",
    "len(docs)"
   ]
  },
  {
   "cell_type": "code",
   "execution_count": 45,
   "id": "c6263742",
   "metadata": {},
   "outputs": [
    {
     "data": {
      "text/plain": [
       "30027"
      ]
     },
     "execution_count": 45,
     "metadata": {},
     "output_type": "execute_result"
    }
   ],
   "source": [
    "modified = 0\n",
    "for idx, doc in enumerate(docs):\n",
    "    result = col.update_one({'_id': doc['_id']}, {'$set': {'timestamp': arr[idx]}})\n",
    "    modified += result.modified_count\n",
    "modified"
   ]
  },
  {
   "cell_type": "code",
   "execution_count": 46,
   "id": "d0741627",
   "metadata": {},
   "outputs": [],
   "source": [
    "query_date = '2021-01-01'\n",
    "query_date = dt.strptime(query_date, '%Y-%m-%d')"
   ]
  },
  {
   "cell_type": "code",
   "execution_count": 49,
   "id": "471356e0",
   "metadata": {},
   "outputs": [
    {
     "data": {
      "text/plain": [
       "2697"
      ]
     },
     "execution_count": 49,
     "metadata": {},
     "output_type": "execute_result"
    }
   ],
   "source": [
    "edit_docs = col.find({'timestamp': {'$gte': query_date}})\n",
    "edit_docs = [doc for doc in edit_docs]\n",
    "len(edit_docs)"
   ]
  },
  {
   "cell_type": "code",
   "execution_count": 50,
   "id": "bdbaaf88",
   "metadata": {},
   "outputs": [
    {
     "data": {
      "text/plain": [
       "{'_id': ObjectId('60b774ee4bc6858738ff47d9'),\n",
       " 'data': [4.953994340401033,\n",
       "  2.381260105023531,\n",
       "  5.245934967068404,\n",
       "  2.374900405078157],\n",
       " 'prediction': 'virginica',\n",
       " 'label': 'virginica',\n",
       " 'timestamp': datetime.datetime(2021, 1, 1, 8, 42, 28, 358000)}"
      ]
     },
     "execution_count": 50,
     "metadata": {},
     "output_type": "execute_result"
    }
   ],
   "source": [
    "edit_docs[0]"
   ]
  },
  {
   "cell_type": "code",
   "execution_count": 51,
   "id": "37e229c8",
   "metadata": {},
   "outputs": [
    {
     "data": {
      "text/plain": [
       "{'_id': ObjectId('60b774ee4bc6858738ff5261'),\n",
       " 'data': [7.009314553501851,\n",
       "  2.665991758622333,\n",
       "  5.060582608452697,\n",
       "  1.9850569105876488],\n",
       " 'prediction': 'virginica',\n",
       " 'label': 'virginica',\n",
       " 'timestamp': datetime.datetime(2021, 6, 8, 8, 42, 28, 358000)}"
      ]
     },
     "execution_count": 51,
     "metadata": {},
     "output_type": "execute_result"
    }
   ],
   "source": [
    "edit_docs[-1]"
   ]
  },
  {
   "cell_type": "code",
   "execution_count": 53,
   "id": "5fe3612d",
   "metadata": {},
   "outputs": [],
   "source": [
    "for doc in edit_docs:\n",
    "    if 'label' in doc.keys():\n",
    "        data = doc['data']\n",
    "        if doc['label'] == 'virginica':\n",
    "            for idx, val in enumerate(data):\n",
    "                data[idx] += abs(np.random.normal(data[idx], (data[idx]*0.25), 1))\n",
    "        elif doc['label'] == 'versicolor':\n",
    "            for idx, val in enumerate(data):\n",
    "                data[idx] -=  abs(np.random.normal(data[idx], (data[idx]*0.25), 1))\n",
    "        else:\n",
    "            for idx, val in enumerate(data):\n",
    "                data[idx] += abs(np.random.normal(data[idx], (data[idx]*0.75), 1))\n",
    "        try:\n",
    "            del(doc['prediction'])\n",
    "        except:\n",
    "            pass\n",
    "    else:\n",
    "        continue"
   ]
  },
  {
   "cell_type": "code",
   "execution_count": 54,
   "id": "68b47213",
   "metadata": {},
   "outputs": [
    {
     "data": {
      "text/plain": [
       "{'_id': ObjectId('60b774ee4bc6858738ff5261'),\n",
       " 'data': [array([13.31436574]),\n",
       "  array([4.78882988]),\n",
       "  array([11.68193805]),\n",
       "  array([3.51173616])],\n",
       " 'label': 'virginica',\n",
       " 'timestamp': datetime.datetime(2021, 6, 8, 8, 42, 28, 358000)}"
      ]
     },
     "execution_count": 54,
     "metadata": {},
     "output_type": "execute_result"
    }
   ],
   "source": [
    "edit_docs[-1]"
   ]
  },
  {
   "cell_type": "code",
   "execution_count": 58,
   "id": "904261e9",
   "metadata": {},
   "outputs": [],
   "source": [
    "for doc in edit_docs:\n",
    "    doc['data'] = [float(i[0]) for i in doc['data']]"
   ]
  },
  {
   "cell_type": "code",
   "execution_count": 59,
   "id": "8ab7c70b",
   "metadata": {},
   "outputs": [
    {
     "data": {
      "text/plain": [
       "{'_id': ObjectId('60b774ee4bc6858738ff5261'),\n",
       " 'data': [13.314365743453312,\n",
       "  4.788829879228439,\n",
       "  11.68193805412978,\n",
       "  3.5117361552696185],\n",
       " 'label': 'virginica',\n",
       " 'timestamp': datetime.datetime(2021, 6, 8, 8, 42, 28, 358000)}"
      ]
     },
     "execution_count": 59,
     "metadata": {},
     "output_type": "execute_result"
    }
   ],
   "source": [
    "edit_docs[-1]"
   ]
  },
  {
   "cell_type": "code",
   "execution_count": 60,
   "id": "6872a335",
   "metadata": {},
   "outputs": [
    {
     "data": {
      "text/plain": [
       "2697"
      ]
     },
     "execution_count": 60,
     "metadata": {},
     "output_type": "execute_result"
    }
   ],
   "source": [
    "modified = 0\n",
    "for doc in edit_docs:\n",
    "    result = col.update_one({'_id': doc['_id']}, {'$set': {'data': list(doc['data'])}, '$unset': {'prediction': ''}})\n",
    "    modified += result.modified_count\n",
    "modified"
   ]
  },
  {
   "cell_type": "code",
   "execution_count": 61,
   "id": "7fd7fb93",
   "metadata": {},
   "outputs": [],
   "source": [
    "from joblib import load"
   ]
  },
  {
   "cell_type": "code",
   "execution_count": 62,
   "id": "ec979400",
   "metadata": {},
   "outputs": [],
   "source": [
    "knn = load('C:/users/CRTUCKER/documents/notes_and_resources/python_model_deployment/app/static/model/iris_knn.joblib')"
   ]
  },
  {
   "cell_type": "code",
   "execution_count": 67,
   "id": "70192079",
   "metadata": {},
   "outputs": [
    {
     "data": {
      "text/plain": [
       "(4,)"
      ]
     },
     "execution_count": 67,
     "metadata": {},
     "output_type": "execute_result"
    }
   ],
   "source": [
    "np.array(edit_docs[0]['data']).shape"
   ]
  },
  {
   "cell_type": "code",
   "execution_count": 72,
   "id": "1b299107",
   "metadata": {},
   "outputs": [
    {
     "data": {
      "text/plain": [
       "2"
      ]
     },
     "execution_count": 72,
     "metadata": {},
     "output_type": "execute_result"
    }
   ],
   "source": [
    "knn.predict(np.array(edit_docs[0]['data']).reshape(1, -1))[0]"
   ]
  },
  {
   "cell_type": "code",
   "execution_count": 70,
   "id": "b500dbae",
   "metadata": {},
   "outputs": [],
   "source": [
    "target_names = ['setosa', 'versicolor', 'virginica']"
   ]
  },
  {
   "cell_type": "code",
   "execution_count": 73,
   "id": "d52af081",
   "metadata": {},
   "outputs": [],
   "source": [
    "for doc in edit_docs:\n",
    "    pred = knn.predict(np.array(doc['data']).reshape(1, -1))\n",
    "    doc['prediction'] = target_names[pred[0]]"
   ]
  },
  {
   "cell_type": "code",
   "execution_count": 75,
   "id": "cdd6f598",
   "metadata": {},
   "outputs": [
    {
     "data": {
      "text/plain": [
       "{'_id': ObjectId('60b774ee4bc6858738ff5261'),\n",
       " 'data': [13.314365743453312,\n",
       "  4.788829879228439,\n",
       "  11.68193805412978,\n",
       "  3.5117361552696185],\n",
       " 'label': 'virginica',\n",
       " 'timestamp': datetime.datetime(2021, 6, 8, 8, 42, 28, 358000),\n",
       " 'prediction': 'virginica'}"
      ]
     },
     "execution_count": 75,
     "metadata": {},
     "output_type": "execute_result"
    }
   ],
   "source": [
    "edit_docs[-1]"
   ]
  },
  {
   "cell_type": "code",
   "execution_count": 76,
   "id": "7c922f68",
   "metadata": {},
   "outputs": [
    {
     "data": {
      "text/plain": [
       "2697"
      ]
     },
     "execution_count": 76,
     "metadata": {},
     "output_type": "execute_result"
    }
   ],
   "source": [
    "modified = 0\n",
    "for doc in edit_docs:\n",
    "    result = col.update_one({'_id': doc['_id']}, {'$set': {'prediction': doc['prediction']}})\n",
    "    modified += result.modified_count\n",
    "modified"
   ]
  },
  {
   "cell_type": "code",
   "execution_count": null,
   "id": "befd6264",
   "metadata": {},
   "outputs": [],
   "source": []
  },
  {
   "cell_type": "code",
   "execution_count": null,
   "id": "9bf0c6b5",
   "metadata": {},
   "outputs": [],
   "source": []
  },
  {
   "cell_type": "markdown",
   "id": "66d10cbd",
   "metadata": {},
   "source": [
    "## Need to redistribute (evenly) predictions based on dates\n",
    "- Modify Setosa's after 1-1-2021\n",
    "- Modify a few more Versicolors after 1-1-2021"
   ]
  },
  {
   "cell_type": "code",
   "execution_count": 88,
   "id": "f78c357b",
   "metadata": {},
   "outputs": [],
   "source": [
    "setosas = col.find({'label': 'setosa'})\n",
    "setosas = [doc for doc in setosas]"
   ]
  },
  {
   "cell_type": "code",
   "execution_count": 89,
   "id": "c4019957",
   "metadata": {},
   "outputs": [
    {
     "data": {
      "text/plain": [
       "10003"
      ]
     },
     "execution_count": 89,
     "metadata": {},
     "output_type": "execute_result"
    }
   ],
   "source": [
    "len(setosas)"
   ]
  },
  {
   "cell_type": "code",
   "execution_count": 90,
   "id": "2031acdf",
   "metadata": {},
   "outputs": [
    {
     "data": {
      "text/plain": [
       "datetime.datetime(2018, 2, 9, 8, 42, 28, 358000)"
      ]
     },
     "execution_count": 90,
     "metadata": {},
     "output_type": "execute_result"
    }
   ],
   "source": [
    "max([i['timestamp'] for i in setosas])"
   ]
  },
  {
   "cell_type": "code",
   "execution_count": 93,
   "id": "b0c69be1",
   "metadata": {},
   "outputs": [],
   "source": [
    "timestamps = np.array([i['timestamp'] for i in setosas])"
   ]
  },
  {
   "cell_type": "code",
   "execution_count": 98,
   "id": "1c14af0a",
   "metadata": {},
   "outputs": [],
   "source": [
    "diffs = dt.now() - timestamps\n",
    "min_diff = diffs.min()"
   ]
  },
  {
   "cell_type": "code",
   "execution_count": 100,
   "id": "b24aa14e",
   "metadata": {},
   "outputs": [
    {
     "data": {
      "text/plain": [
       "1215"
      ]
     },
     "execution_count": 100,
     "metadata": {},
     "output_type": "execute_result"
    }
   ],
   "source": [
    "min_diff.days"
   ]
  },
  {
   "cell_type": "code",
   "execution_count": 101,
   "id": "b1325bc0",
   "metadata": {},
   "outputs": [
    {
     "data": {
      "text/plain": [
       "1"
      ]
     },
     "execution_count": 101,
     "metadata": {},
     "output_type": "execute_result"
    }
   ],
   "source": [
    "1 % 2"
   ]
  },
  {
   "cell_type": "code",
   "execution_count": 102,
   "id": "4e98ba95",
   "metadata": {},
   "outputs": [
    {
     "data": {
      "text/plain": [
       "0"
      ]
     },
     "execution_count": 102,
     "metadata": {},
     "output_type": "execute_result"
    }
   ],
   "source": [
    "4 % 2"
   ]
  },
  {
   "cell_type": "code",
   "execution_count": 103,
   "id": "b17626ed",
   "metadata": {},
   "outputs": [],
   "source": [
    "def is_odd(x):\n",
    "    rem = x % 2\n",
    "    if rem == 1:\n",
    "        return True"
   ]
  },
  {
   "cell_type": "code",
   "execution_count": 107,
   "id": "a0db1eb7",
   "metadata": {},
   "outputs": [],
   "source": [
    "days = [(i.days - min_diff.days) if is_odd(i.days) else 0 for i in list(diffs)]"
   ]
  },
  {
   "cell_type": "code",
   "execution_count": 119,
   "id": "baad1ef1",
   "metadata": {},
   "outputs": [
    {
     "data": {
      "text/plain": [
       "[0,\n",
       " 0,\n",
       " 0,\n",
       " 608,\n",
       " 608,\n",
       " 608,\n",
       " 608,\n",
       " 608,\n",
       " 608,\n",
       " 608,\n",
       " 608,\n",
       " 608,\n",
       " 608,\n",
       " 608,\n",
       " 608,\n",
       " 608,\n",
       " 608,\n",
       " 0,\n",
       " 0,\n",
       " 0,\n",
       " 0,\n",
       " 0,\n",
       " 0,\n",
       " 0,\n",
       " 0,\n",
       " 0,\n",
       " 0,\n",
       " 0,\n",
       " 0,\n",
       " 0,\n",
       " 0,\n",
       " 0,\n",
       " 0,\n",
       " 0,\n",
       " 0,\n",
       " 606,\n",
       " 606,\n",
       " 606,\n",
       " 606,\n",
       " 606,\n",
       " 606,\n",
       " 606,\n",
       " 606,\n",
       " 606,\n",
       " 606,\n",
       " 606,\n",
       " 606,\n",
       " 606,\n",
       " 606,\n",
       " 606,\n",
       " 606,\n",
       " 606,\n",
       " 606,\n",
       " 606,\n",
       " 606,\n",
       " 606,\n",
       " 606,\n",
       " 606,\n",
       " 606,\n",
       " 606,\n",
       " 606,\n",
       " 606,\n",
       " 0,\n",
       " 0,\n",
       " 0,\n",
       " 0,\n",
       " 0,\n",
       " 0,\n",
       " 0,\n",
       " 0,\n",
       " 0,\n",
       " 0,\n",
       " 0,\n",
       " 0,\n",
       " 0,\n",
       " 0,\n",
       " 0,\n",
       " 0,\n",
       " 0,\n",
       " 0,\n",
       " 604,\n",
       " 604,\n",
       " 604,\n",
       " 604,\n",
       " 604,\n",
       " 604,\n",
       " 604,\n",
       " 604,\n",
       " 604,\n",
       " 604,\n",
       " 604,\n",
       " 604,\n",
       " 604,\n",
       " 604,\n",
       " 604,\n",
       " 604,\n",
       " 604,\n",
       " 0,\n",
       " 0,\n",
       " 0,\n",
       " 0,\n",
       " 0,\n",
       " 0,\n",
       " 0,\n",
       " 0,\n",
       " 0,\n",
       " 0,\n",
       " 0,\n",
       " 0,\n",
       " 0,\n",
       " 0,\n",
       " 0,\n",
       " 0,\n",
       " 0,\n",
       " 0,\n",
       " 602,\n",
       " 602,\n",
       " 602,\n",
       " 602,\n",
       " 602,\n",
       " 602,\n",
       " 602,\n",
       " 602,\n",
       " 602,\n",
       " 602,\n",
       " 602,\n",
       " 602,\n",
       " 602,\n",
       " 602,\n",
       " 0,\n",
       " 0,\n",
       " 0,\n",
       " 0,\n",
       " 0,\n",
       " 0,\n",
       " 0,\n",
       " 0,\n",
       " 0,\n",
       " 0,\n",
       " 0,\n",
       " 0,\n",
       " 0,\n",
       " 0,\n",
       " 0,\n",
       " 0,\n",
       " 0,\n",
       " 0,\n",
       " 0,\n",
       " 0,\n",
       " 0,\n",
       " 0,\n",
       " 0,\n",
       " 0,\n",
       " 0,\n",
       " 600,\n",
       " 600,\n",
       " 600,\n",
       " 600,\n",
       " 600,\n",
       " 600,\n",
       " 600,\n",
       " 600,\n",
       " 600,\n",
       " 600,\n",
       " 600,\n",
       " 600,\n",
       " 600,\n",
       " 600,\n",
       " 600,\n",
       " 600,\n",
       " 0,\n",
       " 0,\n",
       " 0,\n",
       " 0,\n",
       " 0,\n",
       " 0,\n",
       " 0,\n",
       " 0,\n",
       " 0,\n",
       " 0,\n",
       " 0,\n",
       " 0,\n",
       " 0,\n",
       " 0,\n",
       " 0,\n",
       " 0,\n",
       " 0,\n",
       " 598,\n",
       " 598,\n",
       " 598,\n",
       " 598,\n",
       " 598,\n",
       " 598,\n",
       " 598,\n",
       " 598,\n",
       " 598,\n",
       " 598,\n",
       " 598,\n",
       " 598,\n",
       " 598,\n",
       " 598,\n",
       " 598,\n",
       " 598,\n",
       " 598,\n",
       " 0,\n",
       " 0,\n",
       " 0,\n",
       " 0,\n",
       " 0,\n",
       " 0,\n",
       " 0,\n",
       " 0,\n",
       " 0,\n",
       " 0,\n",
       " 0,\n",
       " 0,\n",
       " 0,\n",
       " 0,\n",
       " 596,\n",
       " 596,\n",
       " 596,\n",
       " 596,\n",
       " 596,\n",
       " 596,\n",
       " 0,\n",
       " 0,\n",
       " 0,\n",
       " 0,\n",
       " 0,\n",
       " 0,\n",
       " 0,\n",
       " 0,\n",
       " 0,\n",
       " 0,\n",
       " 0,\n",
       " 0,\n",
       " 0,\n",
       " 0,\n",
       " 0,\n",
       " 0,\n",
       " 594,\n",
       " 594,\n",
       " 594,\n",
       " 594,\n",
       " 594,\n",
       " 594,\n",
       " 594,\n",
       " 594,\n",
       " 594,\n",
       " 594,\n",
       " 594,\n",
       " 0,\n",
       " 0,\n",
       " 0,\n",
       " 0,\n",
       " 0,\n",
       " 0,\n",
       " 0,\n",
       " 0,\n",
       " 0,\n",
       " 0,\n",
       " 0,\n",
       " 0,\n",
       " 0,\n",
       " 0,\n",
       " 0,\n",
       " 592,\n",
       " 592,\n",
       " 592,\n",
       " 592,\n",
       " 592,\n",
       " 592,\n",
       " 592,\n",
       " 592,\n",
       " 592,\n",
       " 592,\n",
       " 592,\n",
       " 592,\n",
       " 592,\n",
       " 592,\n",
       " 0,\n",
       " 0,\n",
       " 0,\n",
       " 0,\n",
       " 0,\n",
       " 0,\n",
       " 0,\n",
       " 0,\n",
       " 0,\n",
       " 0,\n",
       " 0,\n",
       " 0,\n",
       " 0,\n",
       " 0,\n",
       " 0,\n",
       " 0,\n",
       " 590,\n",
       " 590,\n",
       " 590,\n",
       " 590,\n",
       " 590,\n",
       " 590,\n",
       " 590,\n",
       " 590,\n",
       " 590,\n",
       " 590,\n",
       " 590,\n",
       " 590,\n",
       " 590,\n",
       " 590,\n",
       " 590,\n",
       " 590,\n",
       " 590,\n",
       " 590,\n",
       " 590,\n",
       " 0,\n",
       " 0,\n",
       " 0,\n",
       " 0,\n",
       " 0,\n",
       " 0,\n",
       " 0,\n",
       " 0,\n",
       " 0,\n",
       " 0,\n",
       " 0,\n",
       " 0,\n",
       " 0,\n",
       " 0,\n",
       " 588,\n",
       " 588,\n",
       " 588,\n",
       " 588,\n",
       " 588,\n",
       " 588,\n",
       " 588,\n",
       " 588,\n",
       " 588,\n",
       " 588,\n",
       " 588,\n",
       " 588,\n",
       " 588,\n",
       " 588,\n",
       " 588,\n",
       " 588,\n",
       " 0,\n",
       " 0,\n",
       " 0,\n",
       " 0,\n",
       " 0,\n",
       " 0,\n",
       " 0,\n",
       " 0,\n",
       " 0,\n",
       " 0,\n",
       " 0,\n",
       " 0,\n",
       " 0,\n",
       " 0,\n",
       " 0,\n",
       " 0,\n",
       " 0,\n",
       " 586,\n",
       " 586,\n",
       " 586,\n",
       " 586,\n",
       " 586,\n",
       " 586,\n",
       " 586,\n",
       " 586,\n",
       " 586,\n",
       " 586,\n",
       " 586,\n",
       " 0,\n",
       " 0,\n",
       " 0,\n",
       " 0,\n",
       " 0,\n",
       " 0,\n",
       " 0,\n",
       " 0,\n",
       " 0,\n",
       " 0,\n",
       " 0,\n",
       " 0,\n",
       " 0,\n",
       " 584,\n",
       " 584,\n",
       " 584,\n",
       " 584,\n",
       " 584,\n",
       " 584,\n",
       " 584,\n",
       " 584,\n",
       " 584,\n",
       " 584,\n",
       " 584,\n",
       " 584,\n",
       " 584,\n",
       " 584,\n",
       " 584,\n",
       " 584,\n",
       " 584,\n",
       " 584,\n",
       " 0,\n",
       " 0,\n",
       " 0,\n",
       " 0,\n",
       " 0,\n",
       " 0,\n",
       " 0,\n",
       " 0,\n",
       " 0,\n",
       " 0,\n",
       " 0,\n",
       " 0,\n",
       " 0,\n",
       " 0,\n",
       " 0,\n",
       " 0,\n",
       " 0,\n",
       " 0,\n",
       " 0,\n",
       " 0,\n",
       " 582,\n",
       " 582,\n",
       " 582,\n",
       " 582,\n",
       " 582,\n",
       " 582,\n",
       " 582,\n",
       " 582,\n",
       " 582,\n",
       " 582,\n",
       " 582,\n",
       " 582,\n",
       " 582,\n",
       " 582,\n",
       " 582,\n",
       " 582,\n",
       " 582,\n",
       " 582,\n",
       " 582,\n",
       " 0,\n",
       " 0,\n",
       " 0,\n",
       " 0,\n",
       " 0,\n",
       " 0,\n",
       " 0,\n",
       " 0,\n",
       " 0,\n",
       " 0,\n",
       " 0,\n",
       " 0,\n",
       " 0,\n",
       " 580,\n",
       " 580,\n",
       " 580,\n",
       " 580,\n",
       " 580,\n",
       " 580,\n",
       " 580,\n",
       " 580,\n",
       " 580,\n",
       " 580,\n",
       " 580,\n",
       " 580,\n",
       " 580,\n",
       " 580,\n",
       " 580,\n",
       " 0,\n",
       " 0,\n",
       " 0,\n",
       " 0,\n",
       " 0,\n",
       " 0,\n",
       " 0,\n",
       " 0,\n",
       " 0,\n",
       " 0,\n",
       " 0,\n",
       " 0,\n",
       " 0,\n",
       " 578,\n",
       " 578,\n",
       " 578,\n",
       " 578,\n",
       " 578,\n",
       " 578,\n",
       " 578,\n",
       " 578,\n",
       " 578,\n",
       " 578,\n",
       " 578,\n",
       " 578,\n",
       " 578,\n",
       " 578,\n",
       " 578,\n",
       " 578,\n",
       " 578,\n",
       " 578,\n",
       " 578,\n",
       " 578,\n",
       " 578,\n",
       " 578,\n",
       " 578,\n",
       " 578,\n",
       " 578,\n",
       " 0,\n",
       " 0,\n",
       " 0,\n",
       " 0,\n",
       " 0,\n",
       " 0,\n",
       " 0,\n",
       " 0,\n",
       " 0,\n",
       " 0,\n",
       " 0,\n",
       " 0,\n",
       " 0,\n",
       " 0,\n",
       " 0,\n",
       " 0,\n",
       " 0,\n",
       " 0,\n",
       " 0,\n",
       " 0,\n",
       " 0,\n",
       " 0,\n",
       " 0,\n",
       " 576,\n",
       " 576,\n",
       " 576,\n",
       " 576,\n",
       " 576,\n",
       " 576,\n",
       " 576,\n",
       " 576,\n",
       " 576,\n",
       " 576,\n",
       " 576,\n",
       " 576,\n",
       " 576,\n",
       " 576,\n",
       " 576,\n",
       " 0,\n",
       " 0,\n",
       " 0,\n",
       " 0,\n",
       " 0,\n",
       " 0,\n",
       " 0,\n",
       " 0,\n",
       " 0,\n",
       " 574,\n",
       " 574,\n",
       " 574,\n",
       " 574,\n",
       " 574,\n",
       " 574,\n",
       " 574,\n",
       " 574,\n",
       " 574,\n",
       " 574,\n",
       " 574,\n",
       " 574,\n",
       " 574,\n",
       " 574,\n",
       " 574,\n",
       " 574,\n",
       " 574,\n",
       " 574,\n",
       " 574,\n",
       " 574,\n",
       " 0,\n",
       " 0,\n",
       " 0,\n",
       " 0,\n",
       " 0,\n",
       " 0,\n",
       " 0,\n",
       " 0,\n",
       " 0,\n",
       " 0,\n",
       " 0,\n",
       " 572,\n",
       " 572,\n",
       " 572,\n",
       " 572,\n",
       " 572,\n",
       " 572,\n",
       " 572,\n",
       " 572,\n",
       " 572,\n",
       " 572,\n",
       " 572,\n",
       " 572,\n",
       " 572,\n",
       " 0,\n",
       " 0,\n",
       " 0,\n",
       " 0,\n",
       " 0,\n",
       " 0,\n",
       " 0,\n",
       " 0,\n",
       " 0,\n",
       " 0,\n",
       " 0,\n",
       " 0,\n",
       " 570,\n",
       " 570,\n",
       " 570,\n",
       " 570,\n",
       " 570,\n",
       " 570,\n",
       " 570,\n",
       " 570,\n",
       " 570,\n",
       " 570,\n",
       " 570,\n",
       " 570,\n",
       " 570,\n",
       " 570,\n",
       " 570,\n",
       " 570,\n",
       " 0,\n",
       " 0,\n",
       " 0,\n",
       " 0,\n",
       " 0,\n",
       " 0,\n",
       " 0,\n",
       " 0,\n",
       " 0,\n",
       " 0,\n",
       " 0,\n",
       " 0,\n",
       " 0,\n",
       " 0,\n",
       " 568,\n",
       " 568,\n",
       " 568,\n",
       " 568,\n",
       " 568,\n",
       " 568,\n",
       " 568,\n",
       " 568,\n",
       " 568,\n",
       " 568,\n",
       " 568,\n",
       " 568,\n",
       " 568,\n",
       " 568,\n",
       " 568,\n",
       " 568,\n",
       " 568,\n",
       " 568,\n",
       " 568,\n",
       " 0,\n",
       " 0,\n",
       " 0,\n",
       " 0,\n",
       " 0,\n",
       " 0,\n",
       " 0,\n",
       " 0,\n",
       " 0,\n",
       " 0,\n",
       " 0,\n",
       " 0,\n",
       " 0,\n",
       " 0,\n",
       " 0,\n",
       " 0,\n",
       " 0,\n",
       " 0,\n",
       " 0,\n",
       " 0,\n",
       " 566,\n",
       " 566,\n",
       " 566,\n",
       " 566,\n",
       " 566,\n",
       " 566,\n",
       " 566,\n",
       " 566,\n",
       " 566,\n",
       " 566,\n",
       " 566,\n",
       " 566,\n",
       " 566,\n",
       " 566,\n",
       " 0,\n",
       " 0,\n",
       " 0,\n",
       " 0,\n",
       " 0,\n",
       " 0,\n",
       " 0,\n",
       " 0,\n",
       " 0,\n",
       " 0,\n",
       " 0,\n",
       " 0,\n",
       " 0,\n",
       " 0,\n",
       " 0,\n",
       " 0,\n",
       " 0,\n",
       " 0,\n",
       " 0,\n",
       " 0,\n",
       " 0,\n",
       " 0,\n",
       " 0,\n",
       " 0,\n",
       " 0,\n",
       " 0,\n",
       " 564,\n",
       " 564,\n",
       " 564,\n",
       " 564,\n",
       " 564,\n",
       " 564,\n",
       " 564,\n",
       " 564,\n",
       " 564,\n",
       " 564,\n",
       " 564,\n",
       " 564,\n",
       " 564,\n",
       " 564,\n",
       " 564,\n",
       " 564,\n",
       " 564,\n",
       " 564,\n",
       " 0,\n",
       " 0,\n",
       " 0,\n",
       " 0,\n",
       " 0,\n",
       " 0,\n",
       " 0,\n",
       " 0,\n",
       " 0,\n",
       " 0,\n",
       " 0,\n",
       " 0,\n",
       " 0,\n",
       " 0,\n",
       " 0,\n",
       " 0,\n",
       " 0,\n",
       " 0,\n",
       " 0,\n",
       " 0,\n",
       " 562,\n",
       " 562,\n",
       " 562,\n",
       " 562,\n",
       " 562,\n",
       " 562,\n",
       " 562,\n",
       " 562,\n",
       " 562,\n",
       " 562,\n",
       " 562,\n",
       " 562,\n",
       " 562,\n",
       " 562,\n",
       " 562,\n",
       " 562,\n",
       " 562,\n",
       " 562,\n",
       " 562,\n",
       " 562,\n",
       " 0,\n",
       " 0,\n",
       " 0,\n",
       " 0,\n",
       " 0,\n",
       " 0,\n",
       " 0,\n",
       " 0,\n",
       " 0,\n",
       " 0,\n",
       " 0,\n",
       " 560,\n",
       " 560,\n",
       " 560,\n",
       " 560,\n",
       " 560,\n",
       " 560,\n",
       " 560,\n",
       " 560,\n",
       " 560,\n",
       " 560,\n",
       " 560,\n",
       " 560,\n",
       " 560,\n",
       " 560,\n",
       " 560,\n",
       " 560,\n",
       " 560,\n",
       " 560,\n",
       " 0,\n",
       " 0,\n",
       " 0,\n",
       " 0,\n",
       " 0,\n",
       " 0,\n",
       " 0,\n",
       " 0,\n",
       " 0,\n",
       " 0,\n",
       " 0,\n",
       " 0,\n",
       " 558,\n",
       " 558,\n",
       " 558,\n",
       " 558,\n",
       " 558,\n",
       " 558,\n",
       " 558,\n",
       " 558,\n",
       " 558,\n",
       " 558,\n",
       " 558,\n",
       " 558,\n",
       " 558,\n",
       " 558,\n",
       " 558,\n",
       " 558,\n",
       " 0,\n",
       " 0,\n",
       " 0,\n",
       " 0,\n",
       " 0,\n",
       " 0,\n",
       " 0,\n",
       " 0,\n",
       " 0,\n",
       " 0,\n",
       " 0,\n",
       " 0,\n",
       " 556,\n",
       " 556,\n",
       " 556,\n",
       " 556,\n",
       " 556,\n",
       " 556,\n",
       " 556,\n",
       " 556,\n",
       " 556,\n",
       " 556,\n",
       " 556,\n",
       " 556,\n",
       " 556,\n",
       " 556,\n",
       " 556,\n",
       " 556,\n",
       " 556,\n",
       " 556,\n",
       " 0,\n",
       " 0,\n",
       " 0,\n",
       " 0,\n",
       " 0,\n",
       " 0,\n",
       " 0,\n",
       " 0,\n",
       " 0,\n",
       " 0,\n",
       " 0,\n",
       " 0,\n",
       " 0,\n",
       " 0,\n",
       " 0,\n",
       " 554,\n",
       " 554,\n",
       " 554,\n",
       " 554,\n",
       " 554,\n",
       " 554,\n",
       " 554,\n",
       " 554,\n",
       " 554,\n",
       " 554,\n",
       " 554,\n",
       " 554,\n",
       " 554,\n",
       " 554,\n",
       " 0,\n",
       " 0,\n",
       " 0,\n",
       " 0,\n",
       " 0,\n",
       " 0,\n",
       " 0,\n",
       " 0,\n",
       " 0,\n",
       " 0,\n",
       " 0,\n",
       " 0,\n",
       " 0,\n",
       " 0,\n",
       " 552,\n",
       " 552,\n",
       " 552,\n",
       " 552,\n",
       " 552,\n",
       " 552,\n",
       " 552,\n",
       " 552,\n",
       " 552,\n",
       " 552,\n",
       " 552,\n",
       " 552,\n",
       " 552,\n",
       " 552,\n",
       " 552,\n",
       " 552,\n",
       " 552,\n",
       " 552,\n",
       " 0,\n",
       " 0,\n",
       " 0,\n",
       " 0,\n",
       " 0,\n",
       " 0,\n",
       " 0,\n",
       " 0,\n",
       " 0,\n",
       " 0,\n",
       " 0,\n",
       " 0,\n",
       " 0,\n",
       " 0,\n",
       " 0,\n",
       " 0,\n",
       " 0,\n",
       " 0,\n",
       " 550,\n",
       " 550,\n",
       " 550,\n",
       " 550,\n",
       " 550,\n",
       " 550,\n",
       " 550,\n",
       " 550,\n",
       " 550,\n",
       " 550,\n",
       " 550,\n",
       " 550,\n",
       " 550,\n",
       " 550,\n",
       " 550,\n",
       " 0,\n",
       " 0,\n",
       " 0,\n",
       " 0,\n",
       " 0,\n",
       " 0,\n",
       " 0,\n",
       " 0,\n",
       " 0,\n",
       " 0,\n",
       " 0,\n",
       " 0,\n",
       " 0,\n",
       " 0,\n",
       " 0,\n",
       " 0,\n",
       " 0,\n",
       " 0,\n",
       " 0,\n",
       " 0,\n",
       " 0,\n",
       " 0,\n",
       " 548,\n",
       " 548,\n",
       " 548,\n",
       " 548,\n",
       " 548,\n",
       " 548,\n",
       " 548,\n",
       " 548,\n",
       " 548,\n",
       " 548,\n",
       " 548,\n",
       " 548,\n",
       " 548,\n",
       " 0,\n",
       " 0,\n",
       " 0,\n",
       " 0,\n",
       " 0,\n",
       " ...]"
      ]
     },
     "execution_count": 119,
     "metadata": {},
     "output_type": "execute_result"
    }
   ],
   "source": [
    "days"
   ]
  },
  {
   "cell_type": "code",
   "execution_count": 122,
   "id": "f430c5c3",
   "metadata": {},
   "outputs": [],
   "source": [
    "for idx, delta in enumerate(days):\n",
    "    timestamps[idx] += td(days=days[idx])"
   ]
  },
  {
   "cell_type": "code",
   "execution_count": 123,
   "id": "0b13e536",
   "metadata": {},
   "outputs": [
    {
     "data": {
      "text/plain": [
       "datetime.datetime(2021, 6, 9, 8, 42, 28, 358000)"
      ]
     },
     "execution_count": 123,
     "metadata": {},
     "output_type": "execute_result"
    }
   ],
   "source": [
    "timestamps.max()"
   ]
  },
  {
   "cell_type": "code",
   "execution_count": 129,
   "id": "7a7b7591",
   "metadata": {},
   "outputs": [
    {
     "data": {
      "text/plain": [
       "1453"
      ]
     },
     "execution_count": 129,
     "metadata": {},
     "output_type": "execute_result"
    }
   ],
   "source": [
    "len([i for i in timestamps if i.year==2020])"
   ]
  },
  {
   "cell_type": "code",
   "execution_count": 130,
   "id": "b2f4f0b5",
   "metadata": {},
   "outputs": [],
   "source": [
    "for idx, doc in enumerate(setosas):\n",
    "    doc['timestamp'] = timestamps[idx]"
   ]
  },
  {
   "cell_type": "code",
   "execution_count": 131,
   "id": "cf090b4a",
   "metadata": {},
   "outputs": [
    {
     "data": {
      "text/plain": [
       "4931"
      ]
     },
     "execution_count": 131,
     "metadata": {},
     "output_type": "execute_result"
    }
   ],
   "source": [
    "modified = 0\n",
    "for doc in setosas:\n",
    "    result = col.update_one({'_id': doc['_id']}, {'$set': {'timestamp': doc['timestamp']}})\n",
    "    modified += result.modified_count\n",
    "modified"
   ]
  },
  {
   "cell_type": "code",
   "execution_count": 138,
   "id": "294e37f8",
   "metadata": {},
   "outputs": [],
   "source": [
    "to_edit = col.find({'label': 'setosa', 'timestamp': {'$gte': dt.strptime('2021-01-01', '%Y-%m-%d')}})\n",
    "to_edit = [doc for doc in to_edit]"
   ]
  },
  {
   "cell_type": "code",
   "execution_count": 139,
   "id": "17b86667",
   "metadata": {},
   "outputs": [
    {
     "data": {
      "text/plain": [
       "656"
      ]
     },
     "execution_count": 139,
     "metadata": {},
     "output_type": "execute_result"
    }
   ],
   "source": [
    "len(to_edit)"
   ]
  },
  {
   "cell_type": "code",
   "execution_count": 141,
   "id": "34808128",
   "metadata": {},
   "outputs": [],
   "source": [
    "for doc in to_edit:\n",
    "    data = doc['data']\n",
    "    for idx, val in enumerate(data):\n",
    "        data[idx] += abs(np.random.normal(abs(data[idx]), abs(data[idx]*0.75), 1))\n",
    "    try:\n",
    "        del(doc['prediction'])\n",
    "    except:\n",
    "        pass"
   ]
  },
  {
   "cell_type": "code",
   "execution_count": 143,
   "id": "40994369",
   "metadata": {},
   "outputs": [],
   "source": [
    "for doc in to_edit:\n",
    "    doc['data'] = [i[0] for i in doc['data']]"
   ]
  },
  {
   "cell_type": "code",
   "execution_count": 144,
   "id": "87361bbf",
   "metadata": {},
   "outputs": [
    {
     "data": {
      "text/plain": [
       "{'_id': ObjectId('60b774ee4bc6858738fedd32'),\n",
       " 'data': [11.882539136048447,\n",
       "  9.955657080987251,\n",
       "  4.657151484641796,\n",
       "  1.020305552407145],\n",
       " 'label': 'setosa',\n",
       " 'timestamp': datetime.datetime(2021, 6, 9, 8, 42, 28, 358000)}"
      ]
     },
     "execution_count": 144,
     "metadata": {},
     "output_type": "execute_result"
    }
   ],
   "source": [
    "to_edit[0]"
   ]
  },
  {
   "cell_type": "code",
   "execution_count": 145,
   "id": "e0777005",
   "metadata": {},
   "outputs": [
    {
     "data": {
      "text/plain": [
       "656"
      ]
     },
     "execution_count": 145,
     "metadata": {},
     "output_type": "execute_result"
    }
   ],
   "source": [
    "modified = 0\n",
    "for doc in to_edit:\n",
    "    result = col.update_one({'_id': doc['_id']}, {'$set': {'data': doc['data']}})\n",
    "    modified += result.modified_count\n",
    "modified"
   ]
  },
  {
   "cell_type": "code",
   "execution_count": null,
   "id": "764c6e7a",
   "metadata": {},
   "outputs": [],
   "source": []
  },
  {
   "cell_type": "code",
   "execution_count": 146,
   "id": "5eb862ef",
   "metadata": {},
   "outputs": [
    {
     "data": {
      "text/plain": [
       "9723"
      ]
     },
     "execution_count": 146,
     "metadata": {},
     "output_type": "execute_result"
    }
   ],
   "source": [
    "virgs = col.find({'label': 'virginica'})\n",
    "virgs = [doc for doc in virgs]\n",
    "len(virgs)"
   ]
  },
  {
   "cell_type": "code",
   "execution_count": 147,
   "id": "9c9bf785",
   "metadata": {},
   "outputs": [],
   "source": [
    "timestamps = [i['timestamp'] for i in virgs]"
   ]
  },
  {
   "cell_type": "code",
   "execution_count": 149,
   "id": "cce58b46",
   "metadata": {},
   "outputs": [],
   "source": [
    "timestamps = np.array(timestamps)"
   ]
  },
  {
   "cell_type": "code",
   "execution_count": 150,
   "id": "22d77c7e",
   "metadata": {},
   "outputs": [
    {
     "data": {
      "text/plain": [
       "datetime.datetime(2021, 6, 8, 8, 42, 28, 358000)"
      ]
     },
     "execution_count": 150,
     "metadata": {},
     "output_type": "execute_result"
    }
   ],
   "source": [
    "timestamps.max()"
   ]
  },
  {
   "cell_type": "code",
   "execution_count": 151,
   "id": "0b4dcd14",
   "metadata": {},
   "outputs": [
    {
     "data": {
      "text/plain": [
       "datetime.datetime(2016, 6, 10, 8, 42, 28, 358000)"
      ]
     },
     "execution_count": 151,
     "metadata": {},
     "output_type": "execute_result"
    }
   ],
   "source": [
    "timestamps.min()"
   ]
  },
  {
   "cell_type": "code",
   "execution_count": 158,
   "id": "cfb46a54",
   "metadata": {},
   "outputs": [
    {
     "data": {
      "text/plain": [
       "4861.5"
      ]
     },
     "execution_count": 158,
     "metadata": {},
     "output_type": "execute_result"
    }
   ],
   "source": [
    "9723/2"
   ]
  },
  {
   "cell_type": "code",
   "execution_count": 159,
   "id": "a9146b2e",
   "metadata": {},
   "outputs": [
    {
     "data": {
      "text/plain": [
       "datetime.datetime(2020, 8, 4, 8, 42, 28, 358000)"
      ]
     },
     "execution_count": 159,
     "metadata": {},
     "output_type": "execute_result"
    }
   ],
   "source": [
    "timestamps[4861]"
   ]
  },
  {
   "cell_type": "code",
   "execution_count": 160,
   "id": "e4eaa15b",
   "metadata": {},
   "outputs": [
    {
     "data": {
      "text/plain": [
       "datetime.timedelta(days=1824)"
      ]
     },
     "execution_count": 160,
     "metadata": {},
     "output_type": "execute_result"
    }
   ],
   "source": [
    "timestamps.max() - timestamps.min()"
   ]
  },
  {
   "cell_type": "code",
   "execution_count": 161,
   "id": "f2d2de51",
   "metadata": {},
   "outputs": [
    {
     "data": {
      "text/plain": [
       "912.0"
      ]
     },
     "execution_count": 161,
     "metadata": {},
     "output_type": "execute_result"
    }
   ],
   "source": [
    "1824/2"
   ]
  },
  {
   "cell_type": "code",
   "execution_count": 162,
   "id": "4905d09d",
   "metadata": {},
   "outputs": [],
   "source": [
    "samples = np.arange(0, 1824, dtype=int, step=1)"
   ]
  },
  {
   "cell_type": "code",
   "execution_count": 164,
   "id": "3219931e",
   "metadata": {},
   "outputs": [],
   "source": [
    "adjustment = np.random.choice(samples, size=9723, replace=True)"
   ]
  },
  {
   "cell_type": "code",
   "execution_count": 172,
   "id": "4bd55a20",
   "metadata": {},
   "outputs": [
    {
     "data": {
      "text/plain": [
       "array([   0,    0,    0, ..., 1823, 1823, 1823])"
      ]
     },
     "execution_count": 172,
     "metadata": {},
     "output_type": "execute_result"
    }
   ],
   "source": [
    "adjustment.sort()\n",
    "adjustment"
   ]
  },
  {
   "cell_type": "code",
   "execution_count": 174,
   "id": "f23a7c3c",
   "metadata": {},
   "outputs": [],
   "source": [
    "baseline = timestamps.min()\n",
    "for idx, doc in enumerate(virgs):\n",
    "    doc['timestamp'] = baseline + td(days=int(adjustment[idx]))"
   ]
  },
  {
   "cell_type": "code",
   "execution_count": 175,
   "id": "de9d1ec6",
   "metadata": {},
   "outputs": [
    {
     "data": {
      "text/plain": [
       "9717"
      ]
     },
     "execution_count": 175,
     "metadata": {},
     "output_type": "execute_result"
    }
   ],
   "source": [
    "modified = 0\n",
    "for doc in virgs:\n",
    "    result = col.update_one({'_id': doc['_id']}, {'$set': {'timestamp': doc['timestamp']}})\n",
    "    modified += result.modified_count\n",
    "modified"
   ]
  },
  {
   "cell_type": "code",
   "execution_count": null,
   "id": "944dc9cb",
   "metadata": {},
   "outputs": [],
   "source": []
  },
  {
   "cell_type": "code",
   "execution_count": null,
   "id": "13261236",
   "metadata": {},
   "outputs": [],
   "source": []
  },
  {
   "cell_type": "code",
   "execution_count": 176,
   "id": "79472ce5",
   "metadata": {},
   "outputs": [
    {
     "data": {
      "text/plain": [
       "10283"
      ]
     },
     "execution_count": 176,
     "metadata": {},
     "output_type": "execute_result"
    }
   ],
   "source": [
    "vers = col.find({'label': 'versicolor'})\n",
    "vers = [doc for doc in vers]\n",
    "len(vers)"
   ]
  },
  {
   "cell_type": "code",
   "execution_count": 178,
   "id": "83478e73",
   "metadata": {},
   "outputs": [],
   "source": [
    "timestamps = np.array([i['timestamp'] for i in vers])"
   ]
  },
  {
   "cell_type": "code",
   "execution_count": 179,
   "id": "c6d9d247",
   "metadata": {},
   "outputs": [
    {
     "data": {
      "text/plain": [
       "datetime.datetime(2018, 2, 9, 8, 42, 28, 358000)"
      ]
     },
     "execution_count": 179,
     "metadata": {},
     "output_type": "execute_result"
    }
   ],
   "source": [
    "timestamps.min()"
   ]
  },
  {
   "cell_type": "code",
   "execution_count": 180,
   "id": "a9b8388b",
   "metadata": {},
   "outputs": [
    {
     "data": {
      "text/plain": [
       "datetime.datetime(2021, 6, 8, 8, 42, 28, 358000)"
      ]
     },
     "execution_count": 180,
     "metadata": {},
     "output_type": "execute_result"
    }
   ],
   "source": [
    "timestamps.max()"
   ]
  },
  {
   "cell_type": "code",
   "execution_count": 181,
   "id": "4e07fc92",
   "metadata": {},
   "outputs": [
    {
     "data": {
      "text/plain": [
       "datetime.datetime(2016, 6, 10, 8, 42, 28, 358000)"
      ]
     },
     "execution_count": 181,
     "metadata": {},
     "output_type": "execute_result"
    }
   ],
   "source": [
    "baseline"
   ]
  },
  {
   "cell_type": "code",
   "execution_count": 182,
   "id": "dad898ad",
   "metadata": {},
   "outputs": [],
   "source": [
    "adjustment = np.random.choice(samples, size=10283, replace=True)"
   ]
  },
  {
   "cell_type": "code",
   "execution_count": 183,
   "id": "94b37390",
   "metadata": {},
   "outputs": [],
   "source": [
    "for idx, doc in enumerate(vers):\n",
    "    doc['timestamp'] = baseline + td(days=int(adjustment[idx]))"
   ]
  },
  {
   "cell_type": "code",
   "execution_count": 184,
   "id": "61069950",
   "metadata": {},
   "outputs": [
    {
     "data": {
      "text/plain": [
       "10276"
      ]
     },
     "execution_count": 184,
     "metadata": {},
     "output_type": "execute_result"
    }
   ],
   "source": [
    "modified = 0\n",
    "for doc in vers:\n",
    "    result = col.update_one({'_id': doc['_id']}, {'$set': {'timestamp': doc['timestamp']}})\n",
    "    modified += result.modified_count\n",
    "modified"
   ]
  },
  {
   "cell_type": "code",
   "execution_count": null,
   "id": "648f0de9",
   "metadata": {},
   "outputs": [],
   "source": []
  },
  {
   "cell_type": "code",
   "execution_count": null,
   "id": "d860a999",
   "metadata": {},
   "outputs": [],
   "source": []
  },
  {
   "cell_type": "code",
   "execution_count": null,
   "id": "4d3b9aff",
   "metadata": {},
   "outputs": [],
   "source": []
  },
  {
   "cell_type": "code",
   "execution_count": null,
   "id": "a8228a6e",
   "metadata": {},
   "outputs": [],
   "source": []
  },
  {
   "cell_type": "code",
   "execution_count": null,
   "id": "deb31ff2",
   "metadata": {},
   "outputs": [],
   "source": []
  },
  {
   "cell_type": "code",
   "execution_count": null,
   "id": "cb4f3778",
   "metadata": {},
   "outputs": [],
   "source": []
  },
  {
   "cell_type": "code",
   "execution_count": null,
   "id": "1c41f7d6",
   "metadata": {},
   "outputs": [],
   "source": []
  },
  {
   "cell_type": "code",
   "execution_count": null,
   "id": "19aca795",
   "metadata": {},
   "outputs": [],
   "source": []
  },
  {
   "cell_type": "code",
   "execution_count": null,
   "id": "534a9b62",
   "metadata": {},
   "outputs": [],
   "source": []
  },
  {
   "cell_type": "code",
   "execution_count": 77,
   "id": "899bea94",
   "metadata": {},
   "outputs": [],
   "source": [
    "from sklearn.metrics import confusion_matrix\n",
    "import math"
   ]
  },
  {
   "cell_type": "code",
   "execution_count": 78,
   "id": "8577e104",
   "metadata": {},
   "outputs": [],
   "source": [
    "# custom date string format exception\n",
    "class IncorrectDateFormat(ValueError):\n",
    "    def __init__(self, date_string):\n",
    "        self.date_string = date_string\n",
    "        self.message = f'date string {date_string} must be in format \"YYYY-MM-DD\"'\n",
    "        super().__init__(self.message)"
   ]
  },
  {
   "cell_type": "code",
   "execution_count": 196,
   "id": "af56b80c",
   "metadata": {},
   "outputs": [],
   "source": [
    "def get_model_performance(collection, mode='all', start_date=None, end_date=None, pct=None, count=None):\n",
    "    \"\"\"Query labeled data only from the iris_knn predictions collection in MongoDB.\n",
    "\n",
    "    collection: Mongo collection: the mongo collection with the model performance metrics\n",
    "    mode: str: either 'all', 'dates', 'pct', or 'count'. if mode=='dates', specify a date range using start_date\n",
    "               and end date.\n",
    "    start_date: datetime: required if mode=='dates' else not used (inclusive of start_date)\n",
    "    end_date: datetime: required if mode=='dates' else not used (exclusive of end_date)\n",
    "    pct: float: decimal percent for the percent of labeled records to use for model performance metrics\n",
    "    count: int: number of labeled documents to use for model performance metrics\n",
    "    \"\"\"\n",
    "\n",
    "    if mode == 'all':\n",
    "        params = {}\n",
    "        criteria = 'all records'\n",
    "    elif mode == 'dates':\n",
    "        if not start_date or not end_date:\n",
    "            raise ValueError('start_date and end_date are required when mode=\"dates\"')\n",
    "        if not isinstance(start_date, str) or not isinstance(end_date, str):\n",
    "            raise TypeError('start_date and end_date must be supplied as strings in format \"YYYY-MM-DD\"')\n",
    "        try:\n",
    "            start_date = dt.strptime(start_date, '%Y-%m-%d')\n",
    "            end_date = dt.strptime(end_date, '%Y-%m-%d')\n",
    "        except ValueError:\n",
    "            raise IncorrectDateFormat\n",
    "\n",
    "        params = {\n",
    "            '$and':\n",
    "                [\n",
    "                    {'timestamp': {'$gte': start_date}},\n",
    "                    {'timestamp': {'$lt': end_date}}\n",
    "                ]\n",
    "        }\n",
    "        criteria = {'start_date': start_date, 'end_date': end_date}\n",
    "    elif mode == 'pct':\n",
    "        if not pct:\n",
    "            raise ValueError('pct is required when mode=\"pct\"')\n",
    "        if not isinstance(pct, int) and not isinstance(pct, float):\n",
    "            raise TypeError('pct must be a decimal number between 0-1 (30% should be supplied as 0.3)')\n",
    "        if 1 < pct < 0:\n",
    "            raise ValueError('pct must be a decimal number between 0-1 (30% should be supplied as 0.3)')\n",
    "        params = {}\n",
    "        criteria = {'pct': pct}\n",
    "    elif mode == 'count':\n",
    "        if not count:\n",
    "            raise ValueError('count is required when mode=\"count\"')\n",
    "        if not isinstance(count, int):\n",
    "            raise TypeError('count must be supplied as an integer')\n",
    "        params = {}\n",
    "        criteria = {'count': count}\n",
    "    else:\n",
    "        raise ValueError('mode must be either \"all\", \"dates\", \"pct\", or \"count\"')\n",
    "\n",
    "    params['label'] = {'$exists': True, '$ne': None}\n",
    "\n",
    "    # pred_col = get_mongo_collection(database='pocMLModelMonitoring', collection='iris_knn')\n",
    "\n",
    "    pred_docs = collection.find(params, {'prediction': 1, 'label': 1}).sort('prediction_timestamp', pymongo.DESCENDING)\n",
    "    pred_docs = [doc for doc in pred_docs]\n",
    "\n",
    "    if mode == 'pct':\n",
    "        num_docs = math.ceil(len(pred_docs) * pct)\n",
    "        pred_docs = pred_docs[:num_docs]\n",
    "    elif mode == 'count':\n",
    "        if count < len(pred_docs):\n",
    "            pred_docs = pred_docs[:count]\n",
    "        else:\n",
    "            # if count is greater than the number of docs, include this in the criteria\n",
    "            criteria = {'count': count, 'found': len(pred_docs)}\n",
    "\n",
    "    if not pred_docs:\n",
    "        # exit the function if nothing is found\n",
    "        return\n",
    "\n",
    "    dff = pd.DataFrame(pred_docs)\n",
    "\n",
    "    target_names = ['setosa', 'versicolor', 'virginica']\n",
    "\n",
    "    # calculate the confusion matrix\n",
    "    # adding the labels ensures the correct index order for the species\n",
    "    conf_matrix = confusion_matrix(dff['label'], dff['prediction'], labels=target_names)\n",
    "    \n",
    "    print(conf_matrix)\n",
    "\n",
    "    # model accuracy\n",
    "    accuracy = np.sum([conf_matrix[i][i] for i in range(conf_matrix.shape[0])]) / np.sum(conf_matrix)\n",
    "\n",
    "    # precision, recall, and f1 scores\n",
    "    precision = {}\n",
    "    recall = {}\n",
    "    f1 = {}\n",
    "\n",
    "    targets_found = sorted(list(dff['label'].unique()))\n",
    "\n",
    "    if 'setosa' in targets_found:\n",
    "        precision['setosa'] = conf_matrix[0][0] / np.sum(conf_matrix[:, 0])\n",
    "        recall['setosa'] = conf_matrix[0][0] / np.sum(conf_matrix[0])\n",
    "        f1['setosa'] = 2 * (precision['setosa'] * recall['setosa']) / (precision['setosa'] + recall['setosa'])\n",
    "    else:\n",
    "        precision['setosa'] = None\n",
    "        recall['setosa'] = None\n",
    "        f1['setosa'] = None\n",
    "\n",
    "    if 'versicolor' in targets_found:\n",
    "        precision['versicolor'] = conf_matrix[1][1] / np.sum(conf_matrix[:, 1])\n",
    "        recall['versicolor'] = conf_matrix[1][1] / np.sum(conf_matrix[1])\n",
    "        f1['versicolor'] = 2 * (precision['versicolor'] * recall['versicolor']) / (\n",
    "                    precision['versicolor'] + recall['versicolor'])\n",
    "    else:\n",
    "        precision['versicolor'] = None\n",
    "        recall['versicolor'] = None\n",
    "        f1['versicolor'] = None\n",
    "\n",
    "    if 'virginica' in targets_found:\n",
    "        precision['virginica'] = conf_matrix[2][2] / np.sum(conf_matrix[:, 2])\n",
    "        recall['virginica'] = conf_matrix[2][2] / np.sum(conf_matrix[2])\n",
    "        f1['virginica'] = 2 * (precision['virginica'] * recall['virginica']) / (\n",
    "                    precision['virginica'] + recall['virginica'])\n",
    "    else:\n",
    "        precision['virginica'] = None\n",
    "        recall['virginica'] = None\n",
    "        f1['virginica'] = None\n",
    "\n",
    "    sample_size = int(np.sum(conf_matrix))\n",
    "\n",
    "    class_balance = {}\n",
    "    for species in target_names:\n",
    "        if species not in targets_found:\n",
    "            class_balance[species] = 0.0\n",
    "        else:\n",
    "            class_balance[species] = dff['label'].value_counts()[species] / dff.shape[0]\n",
    "\n",
    "    #     # get the mongo collection\n",
    "    #     col = get_mongo_collection(database='pocMLModelMonitoring', collection='irisKnnPerformance')\n",
    "\n",
    "    # synthesize the observation\n",
    "    document = {\n",
    "        'timestamp': dt.now(),\n",
    "        'measurement_mode': mode,\n",
    "        'query_criteria': criteria,\n",
    "        'model_accuracy': accuracy,\n",
    "        'precision': precision,\n",
    "        'recall': recall,\n",
    "        'F1': f1,\n",
    "        'class_balance': class_balance,\n",
    "        'sample_size': sample_size\n",
    "    }\n",
    "\n",
    "    #     # write the data\n",
    "    #     result = col.insert_one(document)\n",
    "\n",
    "    # return the result object\n",
    "    # return result\n",
    "\n",
    "    return document"
   ]
  },
  {
   "cell_type": "code",
   "execution_count": 185,
   "id": "59c8df5d",
   "metadata": {},
   "outputs": [
    {
     "name": "stdout",
     "output_type": "stream",
     "text": [
      "[[10003     0     0]\n",
      " [  144  9687   452]\n",
      " [    0   313  9410]]\n"
     ]
    },
    {
     "data": {
      "text/plain": [
       "{'timestamp': datetime.datetime(2021, 6, 8, 12, 14, 49, 822772),\n",
       " 'measurement_mode': 'all',\n",
       " 'query_criteria': 'all records',\n",
       " 'model_accuracy': 0.9697090872738179,\n",
       " 'precision': {'setosa': 0.985808613383266,\n",
       "  'versicolor': 0.9687,\n",
       "  'virginica': 0.9541675116609207},\n",
       " 'recall': {'setosa': 1.0,\n",
       "  'versicolor': 0.9420402606243314,\n",
       "  'virginica': 0.9678082896225445},\n",
       " 'F1': {'setosa': 0.9928535980148884,\n",
       "  'versicolor': 0.9551841443573434,\n",
       "  'virginica': 0.9609394945111056},\n",
       " 'class_balance': {'setosa': 0.3333333333333333,\n",
       "  'versicolor': 0.34266386750641475,\n",
       "  'virginica': 0.32400279916025193},\n",
       " 'sample_size': 30009}"
      ]
     },
     "execution_count": 185,
     "metadata": {},
     "output_type": "execute_result"
    }
   ],
   "source": [
    "document = get_model_performance(col, mode='all', start_date=None, end_date=None, pct=None, count=None)\n",
    "document"
   ]
  },
  {
   "cell_type": "code",
   "execution_count": 186,
   "id": "b7bad757",
   "metadata": {},
   "outputs": [
    {
     "name": "stdout",
     "output_type": "stream",
     "text": [
      "[[2109    0    0]\n",
      " [  49 2786  133]\n",
      " [   0    0 2755]]\n"
     ]
    },
    {
     "data": {
      "text/plain": [
       "{'timestamp': datetime.datetime(2021, 6, 8, 12, 14, 55, 365303),\n",
       " 'measurement_mode': 'dates',\n",
       " 'query_criteria': {'start_date': datetime.datetime(2020, 1, 1, 0, 0),\n",
       "  'end_date': datetime.datetime(2021, 12, 31, 0, 0)},\n",
       " 'model_accuracy': 0.9767620020429009,\n",
       " 'precision': {'setosa': 0.9772937905468025,\n",
       "  'versicolor': 1.0,\n",
       "  'virginica': 0.9539473684210527},\n",
       " 'recall': {'setosa': 1.0, 'versicolor': 0.9386792452830188, 'virginica': 1.0},\n",
       " 'F1': {'setosa': 0.9885165221467072,\n",
       "  'versicolor': 0.9683698296836982,\n",
       "  'virginica': 0.9764309764309764},\n",
       " 'class_balance': {'setosa': 0.26927987742594484,\n",
       "  'versicolor': 0.37895812053115424,\n",
       "  'virginica': 0.3517620020429009},\n",
       " 'sample_size': 7832}"
      ]
     },
     "execution_count": 186,
     "metadata": {},
     "output_type": "execute_result"
    }
   ],
   "source": [
    "document = get_model_performance(col, mode='dates', start_date='2020-01-01', end_date='2021-12-31', pct=None, count=None)\n",
    "document"
   ]
  },
  {
   "cell_type": "code",
   "execution_count": 188,
   "id": "a6224bc8",
   "metadata": {},
   "outputs": [
    {
     "name": "stdout",
     "output_type": "stream",
     "text": [
      "[[3631    0    0]\n",
      " [  80 4737  224]\n",
      " [   0    0 4703]]\n"
     ]
    },
    {
     "data": {
      "text/plain": [
       "{'timestamp': datetime.datetime(2021, 6, 8, 12, 15, 49, 902424),\n",
       " 'measurement_mode': 'dates',\n",
       " 'query_criteria': {'start_date': datetime.datetime(2019, 1, 1, 0, 0),\n",
       "  'end_date': datetime.datetime(2021, 12, 31, 0, 0)},\n",
       " 'model_accuracy': 0.9772710280373832,\n",
       " 'precision': {'setosa': 0.9784424683373754,\n",
       "  'versicolor': 1.0,\n",
       "  'virginica': 0.9545362289425614},\n",
       " 'recall': {'setosa': 1.0, 'versicolor': 0.9396945050585201, 'virginica': 1.0},\n",
       " 'F1': {'setosa': 0.9891037864342141,\n",
       "  'versicolor': 0.9689097975046022,\n",
       "  'virginica': 0.9767393561786085},\n",
       " 'class_balance': {'setosa': 0.2714766355140187,\n",
       "  'versicolor': 0.3768971962616822,\n",
       "  'virginica': 0.35162616822429904},\n",
       " 'sample_size': 13375}"
      ]
     },
     "execution_count": 188,
     "metadata": {},
     "output_type": "execute_result"
    }
   ],
   "source": [
    "document = get_model_performance(col, mode='dates', start_date='2019-01-01', end_date='2021-12-31', pct=None, count=None)\n",
    "document"
   ]
  },
  {
   "cell_type": "code",
   "execution_count": 189,
   "id": "457595c2",
   "metadata": {},
   "outputs": [
    {
     "name": "stdout",
     "output_type": "stream",
     "text": [
      "[[5291    0    0]\n",
      " [ 111 6686  313]\n",
      " [   0    0 6640]]\n"
     ]
    },
    {
     "data": {
      "text/plain": [
       "{'timestamp': datetime.datetime(2021, 6, 8, 12, 15, 50, 892425),\n",
       " 'measurement_mode': 'dates',\n",
       " 'query_criteria': {'start_date': datetime.datetime(2018, 1, 1, 0, 0),\n",
       "  'end_date': datetime.datetime(2021, 12, 31, 0, 0)},\n",
       " 'model_accuracy': 0.9777322619610315,\n",
       " 'precision': {'setosa': 0.9794520547945206,\n",
       "  'versicolor': 1.0,\n",
       "  'virginica': 0.9549834603768158},\n",
       " 'recall': {'setosa': 1.0, 'versicolor': 0.940365682137834, 'virginica': 1.0},\n",
       " 'F1': {'setosa': 0.9896193771626297,\n",
       "  'versicolor': 0.9692664540446505,\n",
       "  'virginica': 0.9769734422129038},\n",
       " 'class_balance': {'setosa': 0.2778740612362796,\n",
       "  'versicolor': 0.3734047581534583,\n",
       "  'virginica': 0.3487211806102621},\n",
       " 'sample_size': 19041}"
      ]
     },
     "execution_count": 189,
     "metadata": {},
     "output_type": "execute_result"
    }
   ],
   "source": [
    "document = get_model_performance(col, mode='dates', start_date='2018-01-01', end_date='2021-12-31', pct=None, count=None)\n",
    "document"
   ]
  },
  {
   "cell_type": "code",
   "execution_count": 190,
   "id": "5be6200a",
   "metadata": {},
   "outputs": [
    {
     "name": "stdout",
     "output_type": "stream",
     "text": [
      "[[6372    0    0]\n",
      " [  64 4948  227]\n",
      " [   0  313 4704]]\n"
     ]
    },
    {
     "data": {
      "text/plain": [
       "{'timestamp': datetime.datetime(2021, 6, 8, 12, 15, 54, 144429),\n",
       " 'measurement_mode': 'dates',\n",
       " 'query_criteria': {'start_date': datetime.datetime(2015, 1, 1, 0, 0),\n",
       "  'end_date': datetime.datetime(2018, 12, 31, 0, 0)},\n",
       " 'model_accuracy': 0.9636757276882367,\n",
       " 'precision': {'setosa': 0.9900559353635798,\n",
       "  'versicolor': 0.9405056072989926,\n",
       "  'virginica': 0.9539647130399513},\n",
       " 'recall': {'setosa': 1.0,\n",
       "  'versicolor': 0.9444550486734109,\n",
       "  'virginica': 0.9376121187960933},\n",
       " 'F1': {'setosa': 0.9950031230480949,\n",
       "  'versicolor': 0.9424761904761905,\n",
       "  'virginica': 0.9457177322074789},\n",
       " 'class_balance': {'setosa': 0.3832090449843637,\n",
       "  'versicolor': 0.3150709646379601,\n",
       "  'virginica': 0.3017199903776762},\n",
       " 'sample_size': 16628}"
      ]
     },
     "execution_count": 190,
     "metadata": {},
     "output_type": "execute_result"
    }
   ],
   "source": [
    "document = get_model_performance(col, mode='dates', start_date='2015-01-01', end_date='2018-12-31', pct=None, count=None)\n",
    "document"
   ]
  },
  {
   "cell_type": "code",
   "execution_count": 191,
   "id": "6d5a26e4",
   "metadata": {},
   "outputs": [
    {
     "name": "stdout",
     "output_type": "stream",
     "text": [
      "[[656   0   0]\n",
      " [ 15 820  36]\n",
      " [  0   0 854]]\n"
     ]
    },
    {
     "data": {
      "text/plain": [
       "{'timestamp': datetime.datetime(2021, 6, 8, 12, 16, 10, 514602),\n",
       " 'measurement_mode': 'dates',\n",
       " 'query_criteria': {'start_date': datetime.datetime(2021, 1, 1, 0, 0),\n",
       "  'end_date': datetime.datetime(2021, 12, 31, 0, 0)},\n",
       " 'model_accuracy': 0.9785804283914322,\n",
       " 'precision': {'setosa': 0.977645305514158,\n",
       "  'versicolor': 1.0,\n",
       "  'virginica': 0.9595505617977528},\n",
       " 'recall': {'setosa': 1.0, 'versicolor': 0.9414466130884042, 'virginica': 1.0},\n",
       " 'F1': {'setosa': 0.9886963074604371,\n",
       "  'versicolor': 0.9698403311649912,\n",
       "  'virginica': 0.9793577981651376},\n",
       " 'class_balance': {'setosa': 0.2755144897102058,\n",
       "  'versicolor': 0.3658126837463251,\n",
       "  'virginica': 0.3586728265434691},\n",
       " 'sample_size': 2381}"
      ]
     },
     "execution_count": 191,
     "metadata": {},
     "output_type": "execute_result"
    }
   ],
   "source": [
    "document = get_model_performance(col, mode='dates', start_date='2021-01-01', end_date='2021-12-31', pct=None, count=None)\n",
    "document"
   ]
  },
  {
   "cell_type": "code",
   "execution_count": null,
   "id": "ff225865",
   "metadata": {},
   "outputs": [],
   "source": []
  },
  {
   "cell_type": "code",
   "execution_count": 197,
   "id": "2f7b828f",
   "metadata": {},
   "outputs": [],
   "source": [
    "years = [i for i in range(2016, 2022)]\n",
    "months = [i for i in range(1, 13)]"
   ]
  },
  {
   "cell_type": "code",
   "execution_count": 201,
   "id": "779fd013",
   "metadata": {},
   "outputs": [
    {
     "name": "stdout",
     "output_type": "stream",
     "text": [
      "[[174   0   0]\n",
      " [  1 108   9]\n",
      " [  0 109   6]]\n",
      "[[234   0   0]\n",
      " [  2 154   7]\n",
      " [  0 175   0]]\n",
      "[[254   0   0]\n",
      " [  0 159   9]\n",
      " [  0  29 135]]\n",
      "[[260   0   0]\n",
      " [  0 153   9]\n",
      " [  0   0 160]]\n",
      "[[218   0   0]\n",
      " [  0 163   4]\n",
      " [  0   0 171]]\n",
      "[[289   0   0]\n",
      " [  5 138   9]\n",
      " [  0   0 161]]"
     ]
    },
    {
     "name": "stderr",
     "output_type": "stream",
     "text": [
      "<ipython-input-196-b058af62bfc1>:117: RuntimeWarning: invalid value encountered in double_scalars\n",
      "  f1['virginica'] = 2 * (precision['virginica'] * recall['virginica']) / (\n"
     ]
    },
    {
     "name": "stdout",
     "output_type": "stream",
     "text": [
      "\n",
      "[[271   0   0]\n",
      " [  0 138   8]\n",
      " [  0   0 176]]\n",
      "[[255   0   0]\n",
      " [  1 158   7]\n",
      " [  0   0 173]]\n",
      "[[224   0   0]\n",
      " [  1 142   4]\n",
      " [  0   0 147]]\n",
      "[[286   0   0]\n",
      " [  7 173  10]\n",
      " [  0   0 166]]\n",
      "[[237   0   0]\n",
      " [  1 167  13]\n",
      " [  0   0 155]]\n",
      "[[256   0   0]\n",
      " [  1 167   9]\n",
      " [  0   0 172]]\n",
      "[[235   0   0]\n",
      " [  2 160   7]\n",
      " [  0   0 163]]\n",
      "[[280   0   0]\n",
      " [  3 151   8]\n",
      " [  0   0 144]]\n",
      "[[255   0   0]\n",
      " [  1 175   4]\n",
      " [  0   0 181]]\n",
      "[[286   0   0]\n",
      " [  3 184   4]\n",
      " [  0   0 141]]\n",
      "[[250   0   0]\n",
      " [  3 178   5]\n",
      " [  0   0 190]]\n",
      "[[238   0   0]\n",
      " [  2 164   6]\n",
      " [  0   0 164]]\n",
      "[[210   0   0]\n",
      " [  0 169   7]\n",
      " [  0   0 165]]\n",
      "[[269   0   0]\n",
      " [  3 172   9]\n",
      " [  0   0 158]]\n",
      "[[157   0   0]\n",
      " [  3 150   8]\n",
      " [  0   0 149]]\n",
      "[[125   0   0]\n",
      " [  3 159   8]\n",
      " [  0   0 159]]\n",
      "[[125   0   0]\n",
      " [  3 146   8]\n",
      " [  0   0 166]]\n",
      "[[118   0   0]\n",
      " [  2 157  10]\n",
      " [  0   0 157]]\n",
      "[[133   0   0]\n",
      " [  4 160   7]\n",
      " [  0   0 157]]\n",
      "[[116   0   0]\n",
      " [  2 164   7]\n",
      " [  0   0 198]]\n",
      "[[122   0   0]\n",
      " [  3 157  12]\n",
      " [  0   0 172]]\n",
      "[[132   0   0]\n",
      " [  2 183   4]\n",
      " [  0   0 154]]\n",
      "[[116   0   0]\n",
      " [  1 169   3]\n",
      " [  0   0 167]]\n",
      "[[130   0   0]\n",
      " [  3 162   9]\n",
      " [  0   0 171]]\n",
      "[[117   0   0]\n",
      " [  2 170   4]\n",
      " [  0   0 129]]\n",
      "[[139   0   0]\n",
      " [  1 147  10]\n",
      " [  0   0 158]]\n",
      "[[106   0   0]\n",
      " [  4 156   3]\n",
      " [  0   0 132]]\n",
      "[[110   0   0]\n",
      " [  4 177  13]\n",
      " [  0   0 175]]\n",
      "[[132   0   0]\n",
      " [  3 168   3]\n",
      " [  0   0 173]]\n",
      "[[110   0   0]\n",
      " [  3 163   3]\n",
      " [  0   0 159]]\n",
      "[[110   0   0]\n",
      " [  1 164   8]\n",
      " [  0   0 173]]\n",
      "[[130   0   0]\n",
      " [  2 161   9]\n",
      " [  0   0 167]]\n",
      "[[146   0   0]\n",
      " [  7 177   4]\n",
      " [  0   0 179]]\n",
      "[[134   0   0]\n",
      " [  2 184  10]\n",
      " [  0   0 158]]\n",
      "[[130   0   0]\n",
      " [  0 156  11]\n",
      " [  0   0 154]]\n",
      "[[125   0   0]\n",
      " [  1 140  12]\n",
      " [  0   0 171]]\n",
      "[[150   0   0]\n",
      " [  3 158   5]\n",
      " [  0   0 149]]\n",
      "[[112   0   0]\n",
      " [  3 189   6]\n",
      " [  0   0 174]]\n",
      "[[117   0   0]\n",
      " [  5 165   4]\n",
      " [  0   0 159]]\n",
      "[[141   0   0]\n",
      " [  4 170  10]\n",
      " [  0   0 180]]\n",
      "[[109   0   0]\n",
      " [  0 143   6]\n",
      " [  0   0 148]]\n",
      "[[121   0   0]\n",
      " [  1 165   8]\n",
      " [  0   0 167]]\n",
      "[[136   0   0]\n",
      " [  4 152   7]\n",
      " [  0   0 146]]\n",
      "[[ 99   0   0]\n",
      " [  5 162   9]\n",
      " [  0   0 142]]\n",
      "[[126   0   0]\n",
      " [  2 168  13]\n",
      " [  0   0 170]]\n",
      "[[126   0   0]\n",
      " [  2 151   7]\n",
      " [  0   0 143]]\n",
      "[[127   0   0]\n",
      " [  3 168   6]\n",
      " [  0   0 156]]\n",
      "[[126   0   0]\n",
      " [  4 155   9]\n",
      " [  0   0 161]]\n",
      "[[113   0   0]\n",
      " [  1 178  12]\n",
      " [  0   0 155]]\n",
      "[[126   0   0]\n",
      " [  3 138   6]\n",
      " [  0   0 180]]\n",
      "[[102   0   0]\n",
      " [  1 164   8]\n",
      " [  0   0 141]]\n",
      "[[134   0   0]\n",
      " [  3 169   8]\n",
      " [  0   0 180]]\n",
      "[[139   0   0]\n",
      " [  5 142   9]\n",
      " [  0   0 175]]\n",
      "[[ 97   0   0]\n",
      " [  2 173   4]\n",
      " [  0   0 150]]\n",
      "[[58  0  0]\n",
      " [ 1 34  1]\n",
      " [ 0  0 28]]\n"
     ]
    }
   ],
   "source": [
    "results = []\n",
    "for year in years:\n",
    "    for month in months:\n",
    "        if month != 12:\n",
    "            if len(str(month+1)) == 1:\n",
    "                str_month = f'0{month+1}'\n",
    "            else:\n",
    "                str_month = month+1\n",
    "            end_date = f'{year}-{str_month}-01'\n",
    "        else:\n",
    "            end_date = f'{year+1}-01-01'\n",
    "        \n",
    "        document = get_model_performance(col, mode='dates', start_date=f'{year}-{month}-01', end_date=end_date, pct=None, count=None)\n",
    "        results.append(document)"
   ]
  },
  {
   "cell_type": "code",
   "execution_count": 202,
   "id": "afbe720b",
   "metadata": {},
   "outputs": [
    {
     "data": {
      "text/plain": [
       "[None,\n",
       " None,\n",
       " None,\n",
       " None,\n",
       " None,\n",
       " {'timestamp': datetime.datetime(2021, 6, 8, 12, 32, 18, 973297),\n",
       "  'measurement_mode': 'dates',\n",
       "  'query_criteria': {'start_date': datetime.datetime(2016, 6, 1, 0, 0),\n",
       "   'end_date': datetime.datetime(2016, 7, 1, 0, 0)},\n",
       "  'model_accuracy': 0.7076167076167076,\n",
       "  'precision': {'setosa': 0.9942857142857143,\n",
       "   'versicolor': 0.4976958525345622,\n",
       "   'virginica': 0.4},\n",
       "  'recall': {'setosa': 1.0,\n",
       "   'versicolor': 0.9152542372881356,\n",
       "   'virginica': 0.05217391304347826},\n",
       "  'F1': {'setosa': 0.9971346704871061,\n",
       "   'versicolor': 0.6447761194029851,\n",
       "   'virginica': 0.09230769230769231},\n",
       "  'class_balance': {'setosa': 0.4275184275184275,\n",
       "   'versicolor': 0.28992628992628994,\n",
       "   'virginica': 0.28255528255528256},\n",
       "  'sample_size': 407},\n",
       " {'timestamp': datetime.datetime(2021, 6, 8, 12, 32, 19, 8287),\n",
       "  'measurement_mode': 'dates',\n",
       "  'query_criteria': {'start_date': datetime.datetime(2016, 7, 1, 0, 0),\n",
       "   'end_date': datetime.datetime(2016, 8, 1, 0, 0)},\n",
       "  'model_accuracy': 0.6783216783216783,\n",
       "  'precision': {'setosa': 0.9915254237288136,\n",
       "   'versicolor': 0.46808510638297873,\n",
       "   'virginica': 0.0},\n",
       "  'recall': {'setosa': 1.0,\n",
       "   'versicolor': 0.9447852760736196,\n",
       "   'virginica': 0.0},\n",
       "  'F1': {'setosa': 0.9957446808510638,\n",
       "   'versicolor': 0.6260162601626017,\n",
       "   'virginica': nan},\n",
       "  'class_balance': {'setosa': 0.4090909090909091,\n",
       "   'versicolor': 0.28496503496503495,\n",
       "   'virginica': 0.30594405594405594},\n",
       "  'sample_size': 572},\n",
       " {'timestamp': datetime.datetime(2021, 6, 8, 12, 32, 19, 42287),\n",
       "  'measurement_mode': 'dates',\n",
       "  'query_criteria': {'start_date': datetime.datetime(2016, 8, 1, 0, 0),\n",
       "   'end_date': datetime.datetime(2016, 9, 1, 0, 0)},\n",
       "  'model_accuracy': 0.9351535836177475,\n",
       "  'precision': {'setosa': 1.0,\n",
       "   'versicolor': 0.8457446808510638,\n",
       "   'virginica': 0.9375},\n",
       "  'recall': {'setosa': 1.0,\n",
       "   'versicolor': 0.9464285714285714,\n",
       "   'virginica': 0.823170731707317},\n",
       "  'F1': {'setosa': 1.0,\n",
       "   'versicolor': 0.8932584269662921,\n",
       "   'virginica': 0.8766233766233766},\n",
       "  'class_balance': {'setosa': 0.4334470989761092,\n",
       "   'versicolor': 0.28668941979522183,\n",
       "   'virginica': 0.27986348122866894},\n",
       "  'sample_size': 586},\n",
       " {'timestamp': datetime.datetime(2021, 6, 8, 12, 32, 19, 79287),\n",
       "  'measurement_mode': 'dates',\n",
       "  'query_criteria': {'start_date': datetime.datetime(2016, 9, 1, 0, 0),\n",
       "   'end_date': datetime.datetime(2016, 10, 1, 0, 0)},\n",
       "  'model_accuracy': 0.9845360824742269,\n",
       "  'precision': {'setosa': 1.0,\n",
       "   'versicolor': 1.0,\n",
       "   'virginica': 0.9467455621301775},\n",
       "  'recall': {'setosa': 1.0,\n",
       "   'versicolor': 0.9444444444444444,\n",
       "   'virginica': 1.0},\n",
       "  'F1': {'setosa': 1.0,\n",
       "   'versicolor': 0.9714285714285714,\n",
       "   'virginica': 0.9726443768996961},\n",
       "  'class_balance': {'setosa': 0.44673539518900346,\n",
       "   'versicolor': 0.27835051546391754,\n",
       "   'virginica': 0.27491408934707906},\n",
       "  'sample_size': 582},\n",
       " {'timestamp': datetime.datetime(2021, 6, 8, 12, 32, 19, 113286),\n",
       "  'measurement_mode': 'dates',\n",
       "  'query_criteria': {'start_date': datetime.datetime(2016, 10, 1, 0, 0),\n",
       "   'end_date': datetime.datetime(2016, 11, 1, 0, 0)},\n",
       "  'model_accuracy': 0.9928057553956835,\n",
       "  'precision': {'setosa': 1.0,\n",
       "   'versicolor': 1.0,\n",
       "   'virginica': 0.9771428571428571},\n",
       "  'recall': {'setosa': 1.0,\n",
       "   'versicolor': 0.9760479041916168,\n",
       "   'virginica': 1.0},\n",
       "  'F1': {'setosa': 1.0,\n",
       "   'versicolor': 0.9878787878787879,\n",
       "   'virginica': 0.9884393063583815},\n",
       "  'class_balance': {'setosa': 0.3920863309352518,\n",
       "   'versicolor': 0.30035971223021585,\n",
       "   'virginica': 0.30755395683453235},\n",
       "  'sample_size': 556},\n",
       " {'timestamp': datetime.datetime(2021, 6, 8, 12, 32, 19, 149289),\n",
       "  'measurement_mode': 'dates',\n",
       "  'query_criteria': {'start_date': datetime.datetime(2016, 11, 1, 0, 0),\n",
       "   'end_date': datetime.datetime(2016, 12, 1, 0, 0)},\n",
       "  'model_accuracy': 0.9767441860465116,\n",
       "  'precision': {'setosa': 0.9829931972789115,\n",
       "   'versicolor': 1.0,\n",
       "   'virginica': 0.9470588235294117},\n",
       "  'recall': {'setosa': 1.0,\n",
       "   'versicolor': 0.9078947368421053,\n",
       "   'virginica': 1.0},\n",
       "  'F1': {'setosa': 0.9914236706689538,\n",
       "   'versicolor': 0.9517241379310345,\n",
       "   'virginica': 0.972809667673716},\n",
       "  'class_balance': {'setosa': 0.48006644518272423,\n",
       "   'versicolor': 0.25249169435215946,\n",
       "   'virginica': 0.26744186046511625},\n",
       "  'sample_size': 602},\n",
       " {'timestamp': datetime.datetime(2021, 6, 8, 12, 32, 19, 186290),\n",
       "  'measurement_mode': 'dates',\n",
       "  'query_criteria': {'start_date': datetime.datetime(2016, 12, 1, 0, 0),\n",
       "   'end_date': datetime.datetime(2017, 1, 1, 0, 0)},\n",
       "  'model_accuracy': 0.9865092748735245,\n",
       "  'precision': {'setosa': 1.0,\n",
       "   'versicolor': 1.0,\n",
       "   'virginica': 0.9565217391304348},\n",
       "  'recall': {'setosa': 1.0,\n",
       "   'versicolor': 0.9452054794520548,\n",
       "   'virginica': 1.0},\n",
       "  'F1': {'setosa': 1.0,\n",
       "   'versicolor': 0.971830985915493,\n",
       "   'virginica': 0.9777777777777777},\n",
       "  'class_balance': {'setosa': 0.45699831365935917,\n",
       "   'versicolor': 0.24620573355817876,\n",
       "   'virginica': 0.29679595278246207},\n",
       "  'sample_size': 593},\n",
       " {'timestamp': datetime.datetime(2021, 6, 8, 12, 32, 19, 224291),\n",
       "  'measurement_mode': 'dates',\n",
       "  'query_criteria': {'start_date': datetime.datetime(2017, 1, 1, 0, 0),\n",
       "   'end_date': datetime.datetime(2017, 2, 1, 0, 0)},\n",
       "  'model_accuracy': 0.9865319865319865,\n",
       "  'precision': {'setosa': 0.99609375,\n",
       "   'versicolor': 1.0,\n",
       "   'virginica': 0.9611111111111111},\n",
       "  'recall': {'setosa': 1.0,\n",
       "   'versicolor': 0.9518072289156626,\n",
       "   'virginica': 1.0},\n",
       "  'F1': {'setosa': 0.9980430528375733,\n",
       "   'versicolor': 0.9753086419753086,\n",
       "   'virginica': 0.9801699716713881},\n",
       "  'class_balance': {'setosa': 0.4292929292929293,\n",
       "   'versicolor': 0.27946127946127947,\n",
       "   'virginica': 0.29124579124579125},\n",
       "  'sample_size': 594},\n",
       " {'timestamp': datetime.datetime(2021, 6, 8, 12, 32, 19, 259293),\n",
       "  'measurement_mode': 'dates',\n",
       "  'query_criteria': {'start_date': datetime.datetime(2017, 2, 1, 0, 0),\n",
       "   'end_date': datetime.datetime(2017, 3, 1, 0, 0)},\n",
       "  'model_accuracy': 0.9903474903474904,\n",
       "  'precision': {'setosa': 0.9955555555555555,\n",
       "   'versicolor': 1.0,\n",
       "   'virginica': 0.9735099337748344},\n",
       "  'recall': {'setosa': 1.0,\n",
       "   'versicolor': 0.9659863945578231,\n",
       "   'virginica': 1.0},\n",
       "  'F1': {'setosa': 0.9977728285077951,\n",
       "   'versicolor': 0.9826989619377162,\n",
       "   'virginica': 0.9865771812080537},\n",
       "  'class_balance': {'setosa': 0.43243243243243246,\n",
       "   'versicolor': 0.28378378378378377,\n",
       "   'virginica': 0.28378378378378377},\n",
       "  'sample_size': 518},\n",
       " {'timestamp': datetime.datetime(2021, 6, 8, 12, 32, 19, 296291),\n",
       "  'measurement_mode': 'dates',\n",
       "  'query_criteria': {'start_date': datetime.datetime(2017, 3, 1, 0, 0),\n",
       "   'end_date': datetime.datetime(2017, 4, 1, 0, 0)},\n",
       "  'model_accuracy': 0.9735202492211839,\n",
       "  'precision': {'setosa': 0.9761092150170648,\n",
       "   'versicolor': 1.0,\n",
       "   'virginica': 0.9431818181818182},\n",
       "  'recall': {'setosa': 1.0,\n",
       "   'versicolor': 0.9105263157894737,\n",
       "   'virginica': 1.0},\n",
       "  'F1': {'setosa': 0.9879101899827288,\n",
       "   'versicolor': 0.9531680440771351,\n",
       "   'virginica': 0.9707602339181286},\n",
       "  'class_balance': {'setosa': 0.4454828660436137,\n",
       "   'versicolor': 0.29595015576323985,\n",
       "   'virginica': 0.2585669781931464},\n",
       "  'sample_size': 642},\n",
       " {'timestamp': datetime.datetime(2021, 6, 8, 12, 32, 19, 332289),\n",
       "  'measurement_mode': 'dates',\n",
       "  'query_criteria': {'start_date': datetime.datetime(2017, 4, 1, 0, 0),\n",
       "   'end_date': datetime.datetime(2017, 5, 1, 0, 0)},\n",
       "  'model_accuracy': 0.9755671902268761,\n",
       "  'precision': {'setosa': 0.9957983193277311,\n",
       "   'versicolor': 1.0,\n",
       "   'virginica': 0.9226190476190477},\n",
       "  'recall': {'setosa': 1.0,\n",
       "   'versicolor': 0.9226519337016574,\n",
       "   'virginica': 1.0},\n",
       "  'F1': {'setosa': 0.9978947368421053,\n",
       "   'versicolor': 0.9597701149425287,\n",
       "   'virginica': 0.9597523219814241},\n",
       "  'class_balance': {'setosa': 0.41361256544502617,\n",
       "   'versicolor': 0.3158813263525305,\n",
       "   'virginica': 0.2705061082024433},\n",
       "  'sample_size': 573},\n",
       " {'timestamp': datetime.datetime(2021, 6, 8, 12, 32, 19, 367293),\n",
       "  'measurement_mode': 'dates',\n",
       "  'query_criteria': {'start_date': datetime.datetime(2017, 5, 1, 0, 0),\n",
       "   'end_date': datetime.datetime(2017, 6, 1, 0, 0)},\n",
       "  'model_accuracy': 0.9834710743801653,\n",
       "  'precision': {'setosa': 0.9961089494163424,\n",
       "   'versicolor': 1.0,\n",
       "   'virginica': 0.9502762430939227},\n",
       "  'recall': {'setosa': 1.0, 'versicolor': 0.943502824858757, 'virginica': 1.0},\n",
       "  'F1': {'setosa': 0.9980506822612086,\n",
       "   'versicolor': 0.9709302325581396,\n",
       "   'virginica': 0.9745042492917847},\n",
       "  'class_balance': {'setosa': 0.4231404958677686,\n",
       "   'versicolor': 0.29256198347107437,\n",
       "   'virginica': 0.28429752066115704},\n",
       "  'sample_size': 605},\n",
       " {'timestamp': datetime.datetime(2021, 6, 8, 12, 32, 19, 406291),\n",
       "  'measurement_mode': 'dates',\n",
       "  'query_criteria': {'start_date': datetime.datetime(2017, 6, 1, 0, 0),\n",
       "   'end_date': datetime.datetime(2017, 7, 1, 0, 0)},\n",
       "  'model_accuracy': 0.9841269841269841,\n",
       "  'precision': {'setosa': 0.9915611814345991,\n",
       "   'versicolor': 1.0,\n",
       "   'virginica': 0.9588235294117647},\n",
       "  'recall': {'setosa': 1.0,\n",
       "   'versicolor': 0.9467455621301775,\n",
       "   'virginica': 1.0},\n",
       "  'F1': {'setosa': 0.9957627118644067,\n",
       "   'versicolor': 0.9726443768996961,\n",
       "   'virginica': 0.9789789789789789},\n",
       "  'class_balance': {'setosa': 0.4144620811287478,\n",
       "   'versicolor': 0.2980599647266314,\n",
       "   'virginica': 0.2874779541446208},\n",
       "  'sample_size': 567},\n",
       " {'timestamp': datetime.datetime(2021, 6, 8, 12, 32, 19, 443292),\n",
       "  'measurement_mode': 'dates',\n",
       "  'query_criteria': {'start_date': datetime.datetime(2017, 7, 1, 0, 0),\n",
       "   'end_date': datetime.datetime(2017, 8, 1, 0, 0)},\n",
       "  'model_accuracy': 0.9812286689419796,\n",
       "  'precision': {'setosa': 0.9893992932862191,\n",
       "   'versicolor': 1.0,\n",
       "   'virginica': 0.9473684210526315},\n",
       "  'recall': {'setosa': 1.0,\n",
       "   'versicolor': 0.9320987654320988,\n",
       "   'virginica': 1.0},\n",
       "  'F1': {'setosa': 0.9946714031971582,\n",
       "   'versicolor': 0.9648562300319489,\n",
       "   'virginica': 0.972972972972973},\n",
       "  'class_balance': {'setosa': 0.4778156996587031,\n",
       "   'versicolor': 0.2764505119453925,\n",
       "   'virginica': 0.24573378839590443},\n",
       "  'sample_size': 586},\n",
       " {'timestamp': datetime.datetime(2021, 6, 8, 12, 32, 19, 479288),\n",
       "  'measurement_mode': 'dates',\n",
       "  'query_criteria': {'start_date': datetime.datetime(2017, 8, 1, 0, 0),\n",
       "   'end_date': datetime.datetime(2017, 9, 1, 0, 0)},\n",
       "  'model_accuracy': 0.9918831168831169,\n",
       "  'precision': {'setosa': 0.99609375,\n",
       "   'versicolor': 1.0,\n",
       "   'virginica': 0.9783783783783784},\n",
       "  'recall': {'setosa': 1.0,\n",
       "   'versicolor': 0.9722222222222222,\n",
       "   'virginica': 1.0},\n",
       "  'F1': {'setosa': 0.9980430528375733,\n",
       "   'versicolor': 0.9859154929577464,\n",
       "   'virginica': 0.9890710382513661},\n",
       "  'class_balance': {'setosa': 0.413961038961039,\n",
       "   'versicolor': 0.2922077922077922,\n",
       "   'virginica': 0.29383116883116883},\n",
       "  'sample_size': 616},\n",
       " {'timestamp': datetime.datetime(2021, 6, 8, 12, 32, 19, 514289),\n",
       "  'measurement_mode': 'dates',\n",
       "  'query_criteria': {'start_date': datetime.datetime(2017, 9, 1, 0, 0),\n",
       "   'end_date': datetime.datetime(2017, 10, 1, 0, 0)},\n",
       "  'model_accuracy': 0.988673139158576,\n",
       "  'precision': {'setosa': 0.9896193771626297,\n",
       "   'versicolor': 1.0,\n",
       "   'virginica': 0.9724137931034482},\n",
       "  'recall': {'setosa': 1.0,\n",
       "   'versicolor': 0.9633507853403142,\n",
       "   'virginica': 1.0},\n",
       "  'F1': {'setosa': 0.994782608695652,\n",
       "   'versicolor': 0.9813333333333333,\n",
       "   'virginica': 0.9860139860139859},\n",
       "  'class_balance': {'setosa': 0.4627831715210356,\n",
       "   'versicolor': 0.30906148867313915,\n",
       "   'virginica': 0.22815533980582525},\n",
       "  'sample_size': 618},\n",
       " {'timestamp': datetime.datetime(2021, 6, 8, 12, 32, 19, 550290),\n",
       "  'measurement_mode': 'dates',\n",
       "  'query_criteria': {'start_date': datetime.datetime(2017, 10, 1, 0, 0),\n",
       "   'end_date': datetime.datetime(2017, 11, 1, 0, 0)},\n",
       "  'model_accuracy': 0.987220447284345,\n",
       "  'precision': {'setosa': 0.9881422924901185,\n",
       "   'versicolor': 1.0,\n",
       "   'virginica': 0.9743589743589743},\n",
       "  'recall': {'setosa': 1.0, 'versicolor': 0.956989247311828, 'virginica': 1.0},\n",
       "  'F1': {'setosa': 0.9940357852882703,\n",
       "   'versicolor': 0.978021978021978,\n",
       "   'virginica': 0.9870129870129869},\n",
       "  'class_balance': {'setosa': 0.3993610223642173,\n",
       "   'versicolor': 0.2971246006389776,\n",
       "   'virginica': 0.3035143769968051},\n",
       "  'sample_size': 626},\n",
       " {'timestamp': datetime.datetime(2021, 6, 8, 12, 32, 19, 586293),\n",
       "  'measurement_mode': 'dates',\n",
       "  'query_criteria': {'start_date': datetime.datetime(2017, 11, 1, 0, 0),\n",
       "   'end_date': datetime.datetime(2017, 12, 1, 0, 0)},\n",
       "  'model_accuracy': 0.9860627177700348,\n",
       "  'precision': {'setosa': 0.9916666666666667,\n",
       "   'versicolor': 1.0,\n",
       "   'virginica': 0.9647058823529412},\n",
       "  'recall': {'setosa': 1.0,\n",
       "   'versicolor': 0.9534883720930233,\n",
       "   'virginica': 1.0},\n",
       "  'F1': {'setosa': 0.99581589958159,\n",
       "   'versicolor': 0.9761904761904763,\n",
       "   'virginica': 0.9820359281437125},\n",
       "  'class_balance': {'setosa': 0.4146341463414634,\n",
       "   'versicolor': 0.29965156794425085,\n",
       "   'virginica': 0.2857142857142857},\n",
       "  'sample_size': 574},\n",
       " {'timestamp': datetime.datetime(2021, 6, 8, 12, 32, 19, 623292),\n",
       "  'measurement_mode': 'dates',\n",
       "  'query_criteria': {'start_date': datetime.datetime(2017, 12, 1, 0, 0),\n",
       "   'end_date': datetime.datetime(2018, 1, 1, 0, 0)},\n",
       "  'model_accuracy': 0.9872958257713249,\n",
       "  'precision': {'setosa': 1.0,\n",
       "   'versicolor': 1.0,\n",
       "   'virginica': 0.9593023255813954},\n",
       "  'recall': {'setosa': 1.0,\n",
       "   'versicolor': 0.9602272727272727,\n",
       "   'virginica': 1.0},\n",
       "  'F1': {'setosa': 1.0,\n",
       "   'versicolor': 0.9797101449275363,\n",
       "   'virginica': 0.9792284866468843},\n",
       "  'class_balance': {'setosa': 0.3811252268602541,\n",
       "   'versicolor': 0.3194192377495463,\n",
       "   'virginica': 0.29945553539019965},\n",
       "  'sample_size': 551},\n",
       " {'timestamp': datetime.datetime(2021, 6, 8, 12, 32, 19, 664288),\n",
       "  'measurement_mode': 'dates',\n",
       "  'query_criteria': {'start_date': datetime.datetime(2018, 1, 1, 0, 0),\n",
       "   'end_date': datetime.datetime(2018, 2, 1, 0, 0)},\n",
       "  'model_accuracy': 0.9803600654664485,\n",
       "  'precision': {'setosa': 0.9889705882352942,\n",
       "   'versicolor': 1.0,\n",
       "   'virginica': 0.9461077844311377},\n",
       "  'recall': {'setosa': 1.0,\n",
       "   'versicolor': 0.9347826086956522,\n",
       "   'virginica': 1.0},\n",
       "  'F1': {'setosa': 0.9944547134935305,\n",
       "   'versicolor': 0.9662921348314606,\n",
       "   'virginica': 0.9723076923076923},\n",
       "  'class_balance': {'setosa': 0.4402618657937807,\n",
       "   'versicolor': 0.3011456628477905,\n",
       "   'virginica': 0.25859247135842883},\n",
       "  'sample_size': 611},\n",
       " {'timestamp': datetime.datetime(2021, 6, 8, 12, 32, 19, 703292),\n",
       "  'measurement_mode': 'dates',\n",
       "  'query_criteria': {'start_date': datetime.datetime(2018, 2, 1, 0, 0),\n",
       "   'end_date': datetime.datetime(2018, 3, 1, 0, 0)},\n",
       "  'model_accuracy': 0.9764453961456103,\n",
       "  'precision': {'setosa': 0.98125,\n",
       "   'versicolor': 1.0,\n",
       "   'virginica': 0.9490445859872612},\n",
       "  'recall': {'setosa': 1.0,\n",
       "   'versicolor': 0.9316770186335404,\n",
       "   'virginica': 1.0},\n",
       "  'F1': {'setosa': 0.9905362776025236,\n",
       "   'versicolor': 0.9646302250803859,\n",
       "   'virginica': 0.9738562091503268},\n",
       "  'class_balance': {'setosa': 0.3361884368308351,\n",
       "   'versicolor': 0.34475374732334046,\n",
       "   'virginica': 0.31905781584582443},\n",
       "  'sample_size': 467},\n",
       " {'timestamp': datetime.datetime(2021, 6, 8, 12, 32, 19, 743291),\n",
       "  'measurement_mode': 'dates',\n",
       "  'query_criteria': {'start_date': datetime.datetime(2018, 3, 1, 0, 0),\n",
       "   'end_date': datetime.datetime(2018, 4, 1, 0, 0)},\n",
       "  'model_accuracy': 0.9757709251101322,\n",
       "  'precision': {'setosa': 0.9765625,\n",
       "   'versicolor': 1.0,\n",
       "   'virginica': 0.9520958083832335},\n",
       "  'recall': {'setosa': 1.0,\n",
       "   'versicolor': 0.9352941176470588,\n",
       "   'virginica': 1.0},\n",
       "  'F1': {'setosa': 0.9881422924901185,\n",
       "   'versicolor': 0.9665653495440729,\n",
       "   'virginica': 0.9754601226993864},\n",
       "  'class_balance': {'setosa': 0.2753303964757709,\n",
       "   'versicolor': 0.3744493392070485,\n",
       "   'virginica': 0.3502202643171806},\n",
       "  'sample_size': 454},\n",
       " {'timestamp': datetime.datetime(2021, 6, 8, 12, 32, 19, 781291),\n",
       "  'measurement_mode': 'dates',\n",
       "  'query_criteria': {'start_date': datetime.datetime(2018, 4, 1, 0, 0),\n",
       "   'end_date': datetime.datetime(2018, 5, 1, 0, 0)},\n",
       "  'model_accuracy': 0.9754464285714286,\n",
       "  'precision': {'setosa': 0.9765625,\n",
       "   'versicolor': 1.0,\n",
       "   'virginica': 0.9540229885057471},\n",
       "  'recall': {'setosa': 1.0,\n",
       "   'versicolor': 0.9299363057324841,\n",
       "   'virginica': 1.0},\n",
       "  'F1': {'setosa': 0.9881422924901185,\n",
       "   'versicolor': 0.9636963696369637,\n",
       "   'virginica': 0.976470588235294},\n",
       "  'class_balance': {'setosa': 0.27901785714285715,\n",
       "   'versicolor': 0.35044642857142855,\n",
       "   'virginica': 0.3705357142857143},\n",
       "  'sample_size': 448},\n",
       " {'timestamp': datetime.datetime(2021, 6, 8, 12, 32, 19, 821292),\n",
       "  'measurement_mode': 'dates',\n",
       "  'query_criteria': {'start_date': datetime.datetime(2018, 5, 1, 0, 0),\n",
       "   'end_date': datetime.datetime(2018, 6, 1, 0, 0)},\n",
       "  'model_accuracy': 0.972972972972973,\n",
       "  'precision': {'setosa': 0.9833333333333333,\n",
       "   'versicolor': 1.0,\n",
       "   'virginica': 0.9401197604790419},\n",
       "  'recall': {'setosa': 1.0,\n",
       "   'versicolor': 0.9289940828402367,\n",
       "   'virginica': 1.0},\n",
       "  'F1': {'setosa': 0.9915966386554621,\n",
       "   'versicolor': 0.9631901840490796,\n",
       "   'virginica': 0.9691358024691358},\n",
       "  'class_balance': {'setosa': 0.26576576576576577,\n",
       "   'versicolor': 0.38063063063063063,\n",
       "   'virginica': 0.3536036036036036},\n",
       "  'sample_size': 444},\n",
       " {'timestamp': datetime.datetime(2021, 6, 8, 12, 32, 19, 859292),\n",
       "  'measurement_mode': 'dates',\n",
       "  'query_criteria': {'start_date': datetime.datetime(2018, 6, 1, 0, 0),\n",
       "   'end_date': datetime.datetime(2018, 7, 1, 0, 0)},\n",
       "  'model_accuracy': 0.9761388286334056,\n",
       "  'precision': {'setosa': 0.9708029197080292,\n",
       "   'versicolor': 1.0,\n",
       "   'virginica': 0.9573170731707317},\n",
       "  'recall': {'setosa': 1.0, 'versicolor': 0.935672514619883, 'virginica': 1.0},\n",
       "  'F1': {'setosa': 0.9851851851851852,\n",
       "   'versicolor': 0.9667673716012084,\n",
       "   'virginica': 0.9781931464174455},\n",
       "  'class_balance': {'setosa': 0.2885032537960954,\n",
       "   'versicolor': 0.37093275488069416,\n",
       "   'virginica': 0.3405639913232104},\n",
       "  'sample_size': 461},\n",
       " {'timestamp': datetime.datetime(2021, 6, 8, 12, 32, 19, 897288),\n",
       "  'measurement_mode': 'dates',\n",
       "  'query_criteria': {'start_date': datetime.datetime(2018, 7, 1, 0, 0),\n",
       "   'end_date': datetime.datetime(2018, 8, 1, 0, 0)},\n",
       "  'model_accuracy': 0.9815195071868583,\n",
       "  'precision': {'setosa': 0.9830508474576272,\n",
       "   'versicolor': 1.0,\n",
       "   'virginica': 0.9658536585365853},\n",
       "  'recall': {'setosa': 1.0,\n",
       "   'versicolor': 0.9479768786127167,\n",
       "   'virginica': 1.0},\n",
       "  'F1': {'setosa': 0.9914529914529915,\n",
       "   'versicolor': 0.973293768545994,\n",
       "   'virginica': 0.9826302729528535},\n",
       "  'class_balance': {'setosa': 0.23819301848049282,\n",
       "   'versicolor': 0.35523613963039014,\n",
       "   'virginica': 0.406570841889117},\n",
       "  'sample_size': 487},\n",
       " {'timestamp': datetime.datetime(2021, 6, 8, 12, 32, 19, 934293),\n",
       "  'measurement_mode': 'dates',\n",
       "  'query_criteria': {'start_date': datetime.datetime(2018, 8, 1, 0, 0),\n",
       "   'end_date': datetime.datetime(2018, 9, 1, 0, 0)},\n",
       "  'model_accuracy': 0.9678111587982833,\n",
       "  'precision': {'setosa': 0.976,\n",
       "   'versicolor': 1.0,\n",
       "   'virginica': 0.9347826086956522},\n",
       "  'recall': {'setosa': 1.0,\n",
       "   'versicolor': 0.9127906976744186,\n",
       "   'virginica': 1.0},\n",
       "  'F1': {'setosa': 0.9878542510121457,\n",
       "   'versicolor': 0.9544072948328268,\n",
       "   'virginica': 0.9662921348314606},\n",
       "  'class_balance': {'setosa': 0.26180257510729615,\n",
       "   'versicolor': 0.36909871244635195,\n",
       "   'virginica': 0.36909871244635195},\n",
       "  'sample_size': 466},\n",
       " {'timestamp': datetime.datetime(2021, 6, 8, 12, 32, 19, 974289),\n",
       "  'measurement_mode': 'dates',\n",
       "  'query_criteria': {'start_date': datetime.datetime(2018, 9, 1, 0, 0),\n",
       "   'end_date': datetime.datetime(2018, 10, 1, 0, 0)},\n",
       "  'model_accuracy': 0.9873684210526316,\n",
       "  'precision': {'setosa': 0.9850746268656716,\n",
       "   'versicolor': 1.0,\n",
       "   'virginica': 0.9746835443037974},\n",
       "  'recall': {'setosa': 1.0,\n",
       "   'versicolor': 0.9682539682539683,\n",
       "   'virginica': 1.0},\n",
       "  'F1': {'setosa': 0.9924812030075187,\n",
       "   'versicolor': 0.9838709677419354,\n",
       "   'virginica': 0.9871794871794872},\n",
       "  'class_balance': {'setosa': 0.27789473684210525,\n",
       "   'versicolor': 0.39789473684210525,\n",
       "   'virginica': 0.32421052631578945},\n",
       "  'sample_size': 475},\n",
       " {'timestamp': datetime.datetime(2021, 6, 8, 12, 32, 20, 13293),\n",
       "  'measurement_mode': 'dates',\n",
       "  'query_criteria': {'start_date': datetime.datetime(2018, 10, 1, 0, 0),\n",
       "   'end_date': datetime.datetime(2018, 11, 1, 0, 0)},\n",
       "  'model_accuracy': 0.9912280701754386,\n",
       "  'precision': {'setosa': 0.9914529914529915,\n",
       "   'versicolor': 1.0,\n",
       "   'virginica': 0.9823529411764705},\n",
       "  'recall': {'setosa': 1.0, 'versicolor': 0.976878612716763, 'virginica': 1.0},\n",
       "  'F1': {'setosa': 0.9957081545064378,\n",
       "   'versicolor': 0.9883040935672515,\n",
       "   'virginica': 0.9910979228486646},\n",
       "  'class_balance': {'setosa': 0.2543859649122807,\n",
       "   'versicolor': 0.3793859649122807,\n",
       "   'virginica': 0.36622807017543857},\n",
       "  'sample_size': 456},\n",
       " {'timestamp': datetime.datetime(2021, 6, 8, 12, 32, 20, 50292),\n",
       "  'measurement_mode': 'dates',\n",
       "  'query_criteria': {'start_date': datetime.datetime(2018, 11, 1, 0, 0),\n",
       "   'end_date': datetime.datetime(2018, 12, 1, 0, 0)},\n",
       "  'model_accuracy': 0.9747368421052631,\n",
       "  'precision': {'setosa': 0.9774436090225563,\n",
       "   'versicolor': 1.0,\n",
       "   'virginica': 0.95},\n",
       "  'recall': {'setosa': 1.0,\n",
       "   'versicolor': 0.9310344827586207,\n",
       "   'virginica': 1.0},\n",
       "  'F1': {'setosa': 0.988593155893536,\n",
       "   'versicolor': 0.9642857142857143,\n",
       "   'virginica': 0.9743589743589743},\n",
       "  'class_balance': {'setosa': 0.2736842105263158,\n",
       "   'versicolor': 0.3663157894736842,\n",
       "   'virginica': 0.36},\n",
       "  'sample_size': 475},\n",
       " {'timestamp': datetime.datetime(2021, 6, 8, 12, 32, 20, 95293),\n",
       "  'measurement_mode': 'dates',\n",
       "  'query_criteria': {'start_date': datetime.datetime(2018, 12, 1, 0, 0),\n",
       "   'end_date': datetime.datetime(2019, 1, 1, 0, 0)},\n",
       "  'model_accuracy': 0.985781990521327,\n",
       "  'precision': {'setosa': 0.9831932773109243,\n",
       "   'versicolor': 1.0,\n",
       "   'virginica': 0.9699248120300752},\n",
       "  'recall': {'setosa': 1.0,\n",
       "   'versicolor': 0.9659090909090909,\n",
       "   'virginica': 1.0},\n",
       "  'F1': {'setosa': 0.9915254237288135,\n",
       "   'versicolor': 0.9826589595375723,\n",
       "   'virginica': 0.9847328244274809},\n",
       "  'class_balance': {'setosa': 0.2772511848341232,\n",
       "   'versicolor': 0.41706161137440756,\n",
       "   'virginica': 0.3056872037914692},\n",
       "  'sample_size': 422},\n",
       " {'timestamp': datetime.datetime(2021, 6, 8, 12, 32, 20, 134293),\n",
       "  'measurement_mode': 'dates',\n",
       "  'query_criteria': {'start_date': datetime.datetime(2019, 1, 1, 0, 0),\n",
       "   'end_date': datetime.datetime(2019, 2, 1, 0, 0)},\n",
       "  'model_accuracy': 0.9758241758241758,\n",
       "  'precision': {'setosa': 0.9928571428571429,\n",
       "   'versicolor': 1.0,\n",
       "   'virginica': 0.9404761904761905},\n",
       "  'recall': {'setosa': 1.0, 'versicolor': 0.930379746835443, 'virginica': 1.0},\n",
       "  'F1': {'setosa': 0.996415770609319,\n",
       "   'versicolor': 0.9639344262295081,\n",
       "   'virginica': 0.9693251533742331},\n",
       "  'class_balance': {'setosa': 0.3054945054945055,\n",
       "   'versicolor': 0.34725274725274724,\n",
       "   'virginica': 0.34725274725274724},\n",
       "  'sample_size': 455},\n",
       " {'timestamp': datetime.datetime(2021, 6, 8, 12, 32, 20, 170290),\n",
       "  'measurement_mode': 'dates',\n",
       "  'query_criteria': {'start_date': datetime.datetime(2019, 2, 1, 0, 0),\n",
       "   'end_date': datetime.datetime(2019, 3, 1, 0, 0)},\n",
       "  'model_accuracy': 0.9825436408977556,\n",
       "  'precision': {'setosa': 0.9636363636363636,\n",
       "   'versicolor': 1.0,\n",
       "   'virginica': 0.9777777777777777},\n",
       "  'recall': {'setosa': 1.0,\n",
       "   'versicolor': 0.9570552147239264,\n",
       "   'virginica': 1.0},\n",
       "  'F1': {'setosa': 0.9814814814814815,\n",
       "   'versicolor': 0.9780564263322884,\n",
       "   'virginica': 0.9887640449438202},\n",
       "  'class_balance': {'setosa': 0.26433915211970077,\n",
       "   'versicolor': 0.40648379052369077,\n",
       "   'virginica': 0.32917705735660846},\n",
       "  'sample_size': 401},\n",
       " {'timestamp': datetime.datetime(2021, 6, 8, 12, 32, 20, 207292),\n",
       "  'measurement_mode': 'dates',\n",
       "  'query_criteria': {'start_date': datetime.datetime(2019, 3, 1, 0, 0),\n",
       "   'end_date': datetime.datetime(2019, 4, 1, 0, 0)},\n",
       "  'model_accuracy': 0.964509394572025,\n",
       "  'precision': {'setosa': 0.9649122807017544,\n",
       "   'versicolor': 1.0,\n",
       "   'virginica': 0.9308510638297872},\n",
       "  'recall': {'setosa': 1.0,\n",
       "   'versicolor': 0.9123711340206185,\n",
       "   'virginica': 1.0},\n",
       "  'F1': {'setosa': 0.9821428571428572,\n",
       "   'versicolor': 0.9541778975741241,\n",
       "   'virginica': 0.9641873278236914},\n",
       "  'class_balance': {'setosa': 0.22964509394572025,\n",
       "   'versicolor': 0.40501043841336115,\n",
       "   'virginica': 0.3653444676409186},\n",
       "  'sample_size': 479},\n",
       " {'timestamp': datetime.datetime(2021, 6, 8, 12, 32, 20, 245292),\n",
       "  'measurement_mode': 'dates',\n",
       "  'query_criteria': {'start_date': datetime.datetime(2019, 4, 1, 0, 0),\n",
       "   'end_date': datetime.datetime(2019, 5, 1, 0, 0)},\n",
       "  'model_accuracy': 0.9874739039665971,\n",
       "  'precision': {'setosa': 0.9777777777777777,\n",
       "   'versicolor': 1.0,\n",
       "   'virginica': 0.9829545454545454},\n",
       "  'recall': {'setosa': 1.0,\n",
       "   'versicolor': 0.9655172413793104,\n",
       "   'virginica': 1.0},\n",
       "  'F1': {'setosa': 0.9887640449438202,\n",
       "   'versicolor': 0.9824561403508771,\n",
       "   'virginica': 0.9914040114613181},\n",
       "  'class_balance': {'setosa': 0.2755741127348643,\n",
       "   'versicolor': 0.36325678496868474,\n",
       "   'virginica': 0.36116910229645094},\n",
       "  'sample_size': 479},\n",
       " {'timestamp': datetime.datetime(2021, 6, 8, 12, 32, 20, 288294),\n",
       "  'measurement_mode': 'dates',\n",
       "  'query_criteria': {'start_date': datetime.datetime(2019, 5, 1, 0, 0),\n",
       "   'end_date': datetime.datetime(2019, 6, 1, 0, 0)},\n",
       "  'model_accuracy': 0.9863013698630136,\n",
       "  'precision': {'setosa': 0.9734513274336283,\n",
       "   'versicolor': 1.0,\n",
       "   'virginica': 0.9814814814814815},\n",
       "  'recall': {'setosa': 1.0,\n",
       "   'versicolor': 0.9644970414201184,\n",
       "   'virginica': 1.0},\n",
       "  'F1': {'setosa': 0.9865470852017937,\n",
       "   'versicolor': 0.9819277108433735,\n",
       "   'virginica': 0.9906542056074767},\n",
       "  'class_balance': {'setosa': 0.2511415525114155,\n",
       "   'versicolor': 0.3858447488584475,\n",
       "   'virginica': 0.363013698630137},\n",
       "  'sample_size': 438},\n",
       " {'timestamp': datetime.datetime(2021, 6, 8, 12, 32, 20, 327299),\n",
       "  'measurement_mode': 'dates',\n",
       "  'query_criteria': {'start_date': datetime.datetime(2019, 6, 1, 0, 0),\n",
       "   'end_date': datetime.datetime(2019, 7, 1, 0, 0)},\n",
       "  'model_accuracy': 0.9802631578947368,\n",
       "  'precision': {'setosa': 0.990990990990991,\n",
       "   'versicolor': 1.0,\n",
       "   'virginica': 0.9558011049723757},\n",
       "  'recall': {'setosa': 1.0,\n",
       "   'versicolor': 0.9479768786127167,\n",
       "   'virginica': 1.0},\n",
       "  'F1': {'setosa': 0.9954751131221719,\n",
       "   'versicolor': 0.973293768545994,\n",
       "   'virginica': 0.9774011299435028},\n",
       "  'class_balance': {'setosa': 0.2412280701754386,\n",
       "   'versicolor': 0.3793859649122807,\n",
       "   'virginica': 0.3793859649122807},\n",
       "  'sample_size': 456},\n",
       " {'timestamp': datetime.datetime(2021, 6, 8, 12, 32, 20, 367293),\n",
       "  'measurement_mode': 'dates',\n",
       "  'query_criteria': {'start_date': datetime.datetime(2019, 7, 1, 0, 0),\n",
       "   'end_date': datetime.datetime(2019, 8, 1, 0, 0)},\n",
       "  'model_accuracy': 0.976545842217484,\n",
       "  'precision': {'setosa': 0.9848484848484849,\n",
       "   'versicolor': 1.0,\n",
       "   'virginica': 0.9488636363636364},\n",
       "  'recall': {'setosa': 1.0, 'versicolor': 0.936046511627907, 'virginica': 1.0},\n",
       "  'F1': {'setosa': 0.9923664122137404,\n",
       "   'versicolor': 0.966966966966967,\n",
       "   'virginica': 0.9737609329446064},\n",
       "  'class_balance': {'setosa': 0.2771855010660981,\n",
       "   'versicolor': 0.36673773987206826,\n",
       "   'virginica': 0.35607675906183367},\n",
       "  'sample_size': 469},\n",
       " {'timestamp': datetime.datetime(2021, 6, 8, 12, 32, 20, 405294),\n",
       "  'measurement_mode': 'dates',\n",
       "  'query_criteria': {'start_date': datetime.datetime(2019, 8, 1, 0, 0),\n",
       "   'end_date': datetime.datetime(2019, 9, 1, 0, 0)},\n",
       "  'model_accuracy': 0.9785575048732943,\n",
       "  'precision': {'setosa': 0.954248366013072,\n",
       "   'versicolor': 1.0,\n",
       "   'virginica': 0.9781420765027322},\n",
       "  'recall': {'setosa': 1.0,\n",
       "   'versicolor': 0.9414893617021277,\n",
       "   'virginica': 1.0},\n",
       "  'F1': {'setosa': 0.9765886287625418,\n",
       "   'versicolor': 0.9698630136986303,\n",
       "   'virginica': 0.988950276243094},\n",
       "  'class_balance': {'setosa': 0.28460038986354774,\n",
       "   'versicolor': 0.3664717348927875,\n",
       "   'virginica': 0.3489278752436647},\n",
       "  'sample_size': 513},\n",
       " {'timestamp': datetime.datetime(2021, 6, 8, 12, 32, 20, 443388),\n",
       "  'measurement_mode': 'dates',\n",
       "  'query_criteria': {'start_date': datetime.datetime(2019, 9, 1, 0, 0),\n",
       "   'end_date': datetime.datetime(2019, 10, 1, 0, 0)},\n",
       "  'model_accuracy': 0.9754098360655737,\n",
       "  'precision': {'setosa': 0.9852941176470589,\n",
       "   'versicolor': 1.0,\n",
       "   'virginica': 0.9404761904761905},\n",
       "  'recall': {'setosa': 1.0,\n",
       "   'versicolor': 0.9387755102040817,\n",
       "   'virginica': 1.0},\n",
       "  'F1': {'setosa': 0.9925925925925926,\n",
       "   'versicolor': 0.968421052631579,\n",
       "   'virginica': 0.9693251533742331},\n",
       "  'class_balance': {'setosa': 0.27459016393442626,\n",
       "   'versicolor': 0.4016393442622951,\n",
       "   'virginica': 0.3237704918032787},\n",
       "  'sample_size': 488},\n",
       " {'timestamp': datetime.datetime(2021, 6, 8, 12, 32, 20, 482291),\n",
       "  'measurement_mode': 'dates',\n",
       "  'query_criteria': {'start_date': datetime.datetime(2019, 10, 1, 0, 0),\n",
       "   'end_date': datetime.datetime(2019, 11, 1, 0, 0)},\n",
       "  'model_accuracy': 0.975609756097561,\n",
       "  'precision': {'setosa': 1.0,\n",
       "   'versicolor': 1.0,\n",
       "   'virginica': 0.9333333333333333},\n",
       "  'recall': {'setosa': 1.0,\n",
       "   'versicolor': 0.9341317365269461,\n",
       "   'virginica': 1.0},\n",
       "  'F1': {'setosa': 1.0,\n",
       "   'versicolor': 0.9659442724458205,\n",
       "   'virginica': 0.9655172413793104},\n",
       "  'class_balance': {'setosa': 0.28824833702882485,\n",
       "   'versicolor': 0.37028824833702884,\n",
       "   'virginica': 0.34146341463414637},\n",
       "  'sample_size': 451},\n",
       " {'timestamp': datetime.datetime(2021, 6, 8, 12, 32, 20, 521295),\n",
       "  'measurement_mode': 'dates',\n",
       "  'query_criteria': {'start_date': datetime.datetime(2019, 11, 1, 0, 0),\n",
       "   'end_date': datetime.datetime(2019, 12, 1, 0, 0)},\n",
       "  'model_accuracy': 0.9710467706013363,\n",
       "  'precision': {'setosa': 0.9920634920634921,\n",
       "   'versicolor': 1.0,\n",
       "   'virginica': 0.9344262295081968},\n",
       "  'recall': {'setosa': 1.0,\n",
       "   'versicolor': 0.9150326797385621,\n",
       "   'virginica': 1.0},\n",
       "  'F1': {'setosa': 0.9960159362549801,\n",
       "   'versicolor': 0.9556313993174061,\n",
       "   'virginica': 0.9661016949152543},\n",
       "  'class_balance': {'setosa': 0.27839643652561247,\n",
       "   'versicolor': 0.34075723830734966,\n",
       "   'virginica': 0.38084632516703787},\n",
       "  'sample_size': 449},\n",
       " {'timestamp': datetime.datetime(2021, 6, 8, 12, 32, 20, 559292),\n",
       "  'measurement_mode': 'dates',\n",
       "  'query_criteria': {'start_date': datetime.datetime(2019, 12, 1, 0, 0),\n",
       "   'end_date': datetime.datetime(2020, 1, 1, 0, 0)},\n",
       "  'model_accuracy': 0.9827956989247312,\n",
       "  'precision': {'setosa': 0.9803921568627451,\n",
       "   'versicolor': 1.0,\n",
       "   'virginica': 0.9675324675324676},\n",
       "  'recall': {'setosa': 1.0,\n",
       "   'versicolor': 0.9518072289156626,\n",
       "   'virginica': 1.0},\n",
       "  'F1': {'setosa': 0.99009900990099,\n",
       "   'versicolor': 0.9753086419753086,\n",
       "   'virginica': 0.9834983498349835},\n",
       "  'class_balance': {'setosa': 0.3225806451612903,\n",
       "   'versicolor': 0.35698924731182796,\n",
       "   'virginica': 0.3204301075268817},\n",
       "  'sample_size': 465},\n",
       " {'timestamp': datetime.datetime(2021, 6, 8, 12, 32, 20, 597293),\n",
       "  'measurement_mode': 'dates',\n",
       "  'query_criteria': {'start_date': datetime.datetime(2020, 1, 1, 0, 0),\n",
       "   'end_date': datetime.datetime(2020, 2, 1, 0, 0)},\n",
       "  'model_accuracy': 0.981404958677686,\n",
       "  'precision': {'setosa': 0.9739130434782609,\n",
       "   'versicolor': 1.0,\n",
       "   'virginica': 0.9666666666666667},\n",
       "  'recall': {'setosa': 1.0,\n",
       "   'versicolor': 0.9545454545454546,\n",
       "   'virginica': 1.0},\n",
       "  'F1': {'setosa': 0.986784140969163,\n",
       "   'versicolor': 0.9767441860465117,\n",
       "   'virginica': 0.983050847457627},\n",
       "  'class_balance': {'setosa': 0.23140495867768596,\n",
       "   'versicolor': 0.4090909090909091,\n",
       "   'virginica': 0.359504132231405},\n",
       "  'sample_size': 484},\n",
       " {'timestamp': datetime.datetime(2021, 6, 8, 12, 32, 20, 634293),\n",
       "  'measurement_mode': 'dates',\n",
       "  'query_criteria': {'start_date': datetime.datetime(2020, 2, 1, 0, 0),\n",
       "   'end_date': datetime.datetime(2020, 3, 1, 0, 0)},\n",
       "  'model_accuracy': 0.98,\n",
       "  'precision': {'setosa': 0.9590163934426229,\n",
       "   'versicolor': 1.0,\n",
       "   'virginica': 0.9754601226993865},\n",
       "  'recall': {'setosa': 1.0,\n",
       "   'versicolor': 0.9482758620689655,\n",
       "   'virginica': 1.0},\n",
       "  'F1': {'setosa': 0.9790794979079497,\n",
       "   'versicolor': 0.9734513274336283,\n",
       "   'virginica': 0.9875776397515528},\n",
       "  'class_balance': {'setosa': 0.26,\n",
       "   'versicolor': 0.38666666666666666,\n",
       "   'virginica': 0.35333333333333333},\n",
       "  'sample_size': 450},\n",
       " {'timestamp': datetime.datetime(2021, 6, 8, 12, 32, 20, 672292),\n",
       "  'measurement_mode': 'dates',\n",
       "  'query_criteria': {'start_date': datetime.datetime(2020, 3, 1, 0, 0),\n",
       "   'end_date': datetime.datetime(2020, 4, 1, 0, 0)},\n",
       "  'model_accuracy': 0.9722772277227723,\n",
       "  'precision': {'setosa': 0.9724137931034482,\n",
       "   'versicolor': 1.0,\n",
       "   'virginica': 0.9473684210526315},\n",
       "  'recall': {'setosa': 1.0,\n",
       "   'versicolor': 0.9239130434782609,\n",
       "   'virginica': 1.0},\n",
       "  'F1': {'setosa': 0.9860139860139859,\n",
       "   'versicolor': 0.96045197740113,\n",
       "   'virginica': 0.972972972972973},\n",
       "  'class_balance': {'setosa': 0.27920792079207923,\n",
       "   'versicolor': 0.36435643564356435,\n",
       "   'virginica': 0.3564356435643564},\n",
       "  'sample_size': 505},\n",
       " {'timestamp': datetime.datetime(2021, 6, 8, 12, 32, 20, 710295),\n",
       "  'measurement_mode': 'dates',\n",
       "  'query_criteria': {'start_date': datetime.datetime(2020, 4, 1, 0, 0),\n",
       "   'end_date': datetime.datetime(2020, 5, 1, 0, 0)},\n",
       "  'model_accuracy': 0.9852216748768473,\n",
       "  'precision': {'setosa': 1.0,\n",
       "   'versicolor': 1.0,\n",
       "   'virginica': 0.961038961038961},\n",
       "  'recall': {'setosa': 1.0, 'versicolor': 0.959731543624161, 'virginica': 1.0},\n",
       "  'F1': {'setosa': 1.0,\n",
       "   'versicolor': 0.9794520547945206,\n",
       "   'virginica': 0.9801324503311257},\n",
       "  'class_balance': {'setosa': 0.2684729064039409,\n",
       "   'versicolor': 0.3669950738916256,\n",
       "   'virginica': 0.3645320197044335},\n",
       "  'sample_size': 406},\n",
       " {'timestamp': datetime.datetime(2021, 6, 8, 12, 32, 20, 750292),\n",
       "  'measurement_mode': 'dates',\n",
       "  'query_criteria': {'start_date': datetime.datetime(2020, 5, 1, 0, 0),\n",
       "   'end_date': datetime.datetime(2020, 6, 1, 0, 0)},\n",
       "  'model_accuracy': 0.9805194805194806,\n",
       "  'precision': {'setosa': 0.9918032786885246,\n",
       "   'versicolor': 1.0,\n",
       "   'virginica': 0.9542857142857143},\n",
       "  'recall': {'setosa': 1.0,\n",
       "   'versicolor': 0.9482758620689655,\n",
       "   'virginica': 1.0},\n",
       "  'F1': {'setosa': 0.9958847736625513,\n",
       "   'versicolor': 0.9734513274336283,\n",
       "   'virginica': 0.976608187134503},\n",
       "  'class_balance': {'setosa': 0.2619047619047619,\n",
       "   'versicolor': 0.37662337662337664,\n",
       "   'virginica': 0.36147186147186144},\n",
       "  'sample_size': 462},\n",
       " {'timestamp': datetime.datetime(2021, 6, 8, 12, 32, 20, 792289),\n",
       "  'measurement_mode': 'dates',\n",
       "  'query_criteria': {'start_date': datetime.datetime(2020, 6, 1, 0, 0),\n",
       "   'end_date': datetime.datetime(2020, 7, 1, 0, 0)},\n",
       "  'model_accuracy': 0.9752808988764045,\n",
       "  'precision': {'setosa': 0.9714285714285714,\n",
       "   'versicolor': 1.0,\n",
       "   'virginica': 0.954248366013072},\n",
       "  'recall': {'setosa': 1.0,\n",
       "   'versicolor': 0.9325153374233128,\n",
       "   'virginica': 1.0},\n",
       "  'F1': {'setosa': 0.9855072463768115,\n",
       "   'versicolor': 0.9650793650793651,\n",
       "   'virginica': 0.9765886287625418},\n",
       "  'class_balance': {'setosa': 0.3056179775280899,\n",
       "   'versicolor': 0.36629213483146067,\n",
       "   'virginica': 0.32808988764044944},\n",
       "  'sample_size': 445},\n",
       " {'timestamp': datetime.datetime(2021, 6, 8, 12, 32, 20, 831291),\n",
       "  'measurement_mode': 'dates',\n",
       "  'query_criteria': {'start_date': datetime.datetime(2020, 7, 1, 0, 0),\n",
       "   'end_date': datetime.datetime(2020, 8, 1, 0, 0)},\n",
       "  'model_accuracy': 0.9664268585131894,\n",
       "  'precision': {'setosa': 0.9519230769230769,\n",
       "   'versicolor': 1.0,\n",
       "   'virginica': 0.9403973509933775},\n",
       "  'recall': {'setosa': 1.0,\n",
       "   'versicolor': 0.9204545454545454,\n",
       "   'virginica': 1.0},\n",
       "  'F1': {'setosa': 0.9753694581280787,\n",
       "   'versicolor': 0.9585798816568047,\n",
       "   'virginica': 0.969283276450512},\n",
       "  'class_balance': {'setosa': 0.23741007194244604,\n",
       "   'versicolor': 0.42206235011990406,\n",
       "   'virginica': 0.3405275779376499},\n",
       "  'sample_size': 417},\n",
       " {'timestamp': datetime.datetime(2021, 6, 8, 12, 32, 20, 872291),\n",
       "  'measurement_mode': 'dates',\n",
       "  'query_criteria': {'start_date': datetime.datetime(2020, 8, 1, 0, 0),\n",
       "   'end_date': datetime.datetime(2020, 9, 1, 0, 0)},\n",
       "  'model_accuracy': 0.9686847599164927,\n",
       "  'precision': {'setosa': 0.984375,\n",
       "   'versicolor': 1.0,\n",
       "   'virginica': 0.9289617486338798},\n",
       "  'recall': {'setosa': 1.0,\n",
       "   'versicolor': 0.9180327868852459,\n",
       "   'virginica': 1.0},\n",
       "  'F1': {'setosa': 0.9921259842519685,\n",
       "   'versicolor': 0.9572649572649572,\n",
       "   'virginica': 0.9631728045325779},\n",
       "  'class_balance': {'setosa': 0.2630480167014614,\n",
       "   'versicolor': 0.38204592901878914,\n",
       "   'virginica': 0.35490605427974947},\n",
       "  'sample_size': 479},\n",
       " {'timestamp': datetime.datetime(2021, 6, 8, 12, 32, 20, 911294),\n",
       "  'measurement_mode': 'dates',\n",
       "  'query_criteria': {'start_date': datetime.datetime(2020, 9, 1, 0, 0),\n",
       "   'end_date': datetime.datetime(2020, 10, 1, 0, 0)},\n",
       "  'model_accuracy': 0.9790209790209791,\n",
       "  'precision': {'setosa': 0.984375,\n",
       "   'versicolor': 1.0,\n",
       "   'virginica': 0.9533333333333334},\n",
       "  'recall': {'setosa': 1.0, 'versicolor': 0.94375, 'virginica': 1.0},\n",
       "  'F1': {'setosa': 0.9921259842519685,\n",
       "   'versicolor': 0.9710610932475884,\n",
       "   'virginica': 0.9761092150170648},\n",
       "  'class_balance': {'setosa': 0.2937062937062937,\n",
       "   'versicolor': 0.372960372960373,\n",
       "   'virginica': 0.3333333333333333},\n",
       "  'sample_size': 429},\n",
       " {'timestamp': datetime.datetime(2021, 6, 8, 12, 32, 20, 951292),\n",
       "  'measurement_mode': 'dates',\n",
       "  'query_criteria': {'start_date': datetime.datetime(2020, 10, 1, 0, 0),\n",
       "   'end_date': datetime.datetime(2020, 11, 1, 0, 0)},\n",
       "  'model_accuracy': 0.9804347826086957,\n",
       "  'precision': {'setosa': 0.9769230769230769,\n",
       "   'versicolor': 1.0,\n",
       "   'virginica': 0.9629629629629629},\n",
       "  'recall': {'setosa': 1.0,\n",
       "   'versicolor': 0.9491525423728814,\n",
       "   'virginica': 1.0},\n",
       "  'F1': {'setosa': 0.9883268482490272,\n",
       "   'versicolor': 0.9739130434782608,\n",
       "   'virginica': 0.9811320754716981},\n",
       "  'class_balance': {'setosa': 0.27608695652173915,\n",
       "   'versicolor': 0.3847826086956522,\n",
       "   'virginica': 0.3391304347826087},\n",
       "  'sample_size': 460},\n",
       " {'timestamp': datetime.datetime(2021, 6, 8, 12, 32, 20, 989293),\n",
       "  'measurement_mode': 'dates',\n",
       "  'query_criteria': {'start_date': datetime.datetime(2020, 11, 1, 0, 0),\n",
       "   'end_date': datetime.datetime(2020, 12, 1, 0, 0)},\n",
       "  'model_accuracy': 0.9714285714285714,\n",
       "  'precision': {'setosa': 0.9692307692307692,\n",
       "   'versicolor': 1.0,\n",
       "   'virginica': 0.9470588235294117},\n",
       "  'recall': {'setosa': 1.0,\n",
       "   'versicolor': 0.9226190476190477,\n",
       "   'virginica': 1.0},\n",
       "  'F1': {'setosa': 0.9843749999999999,\n",
       "   'versicolor': 0.9597523219814241,\n",
       "   'virginica': 0.972809667673716},\n",
       "  'class_balance': {'setosa': 0.27692307692307694,\n",
       "   'versicolor': 0.36923076923076925,\n",
       "   'virginica': 0.35384615384615387},\n",
       "  'sample_size': 455},\n",
       " {'timestamp': datetime.datetime(2021, 6, 8, 12, 32, 21, 28293),\n",
       "  'measurement_mode': 'dates',\n",
       "  'query_criteria': {'start_date': datetime.datetime(2020, 12, 1, 0, 0),\n",
       "   'end_date': datetime.datetime(2021, 1, 1, 0, 0)},\n",
       "  'model_accuracy': 0.971677559912854,\n",
       "  'precision': {'setosa': 0.9912280701754386,\n",
       "   'versicolor': 1.0,\n",
       "   'virginica': 0.9281437125748503},\n",
       "  'recall': {'setosa': 1.0,\n",
       "   'versicolor': 0.9319371727748691,\n",
       "   'virginica': 1.0},\n",
       "  'F1': {'setosa': 0.9955947136563876,\n",
       "   'versicolor': 0.964769647696477,\n",
       "   'virginica': 0.9627329192546584},\n",
       "  'class_balance': {'setosa': 0.24618736383442266,\n",
       "   'versicolor': 0.41612200435729846,\n",
       "   'virginica': 0.33769063180827885},\n",
       "  'sample_size': 459},\n",
       " {'timestamp': datetime.datetime(2021, 6, 8, 12, 32, 21, 80293),\n",
       "  'measurement_mode': 'dates',\n",
       "  'query_criteria': {'start_date': datetime.datetime(2021, 1, 1, 0, 0),\n",
       "   'end_date': datetime.datetime(2021, 2, 1, 0, 0)},\n",
       "  'model_accuracy': 0.9801324503311258,\n",
       "  'precision': {'setosa': 0.9767441860465116,\n",
       "   'versicolor': 1.0,\n",
       "   'virginica': 0.967741935483871},\n",
       "  'recall': {'setosa': 1.0,\n",
       "   'versicolor': 0.9387755102040817,\n",
       "   'virginica': 1.0},\n",
       "  'F1': {'setosa': 0.988235294117647,\n",
       "   'versicolor': 0.968421052631579,\n",
       "   'virginica': 0.9836065573770492},\n",
       "  'class_balance': {'setosa': 0.2781456953642384,\n",
       "   'versicolor': 0.32450331125827814,\n",
       "   'virginica': 0.3973509933774834},\n",
       "  'sample_size': 453},\n",
       " {'timestamp': datetime.datetime(2021, 6, 8, 12, 32, 21, 130293),\n",
       "  'measurement_mode': 'dates',\n",
       "  'query_criteria': {'start_date': datetime.datetime(2021, 2, 1, 0, 0),\n",
       "   'end_date': datetime.datetime(2021, 3, 1, 0, 0)},\n",
       "  'model_accuracy': 0.9783653846153846,\n",
       "  'precision': {'setosa': 0.9902912621359223,\n",
       "   'versicolor': 1.0,\n",
       "   'virginica': 0.9463087248322147},\n",
       "  'recall': {'setosa': 1.0,\n",
       "   'versicolor': 0.9479768786127167,\n",
       "   'virginica': 1.0},\n",
       "  'F1': {'setosa': 0.9951219512195122,\n",
       "   'versicolor': 0.973293768545994,\n",
       "   'virginica': 0.9724137931034482},\n",
       "  'class_balance': {'setosa': 0.24519230769230768,\n",
       "   'versicolor': 0.41586538461538464,\n",
       "   'virginica': 0.3389423076923077},\n",
       "  'sample_size': 416},\n",
       " {'timestamp': datetime.datetime(2021, 6, 8, 12, 32, 21, 182293),\n",
       "  'measurement_mode': 'dates',\n",
       "  'query_criteria': {'start_date': datetime.datetime(2021, 3, 1, 0, 0),\n",
       "   'end_date': datetime.datetime(2021, 4, 1, 0, 0)},\n",
       "  'model_accuracy': 0.9777327935222672,\n",
       "  'precision': {'setosa': 0.9781021897810219,\n",
       "   'versicolor': 1.0,\n",
       "   'virginica': 0.9574468085106383},\n",
       "  'recall': {'setosa': 1.0,\n",
       "   'versicolor': 0.9388888888888889,\n",
       "   'virginica': 1.0},\n",
       "  'F1': {'setosa': 0.988929889298893,\n",
       "   'versicolor': 0.9684813753581661,\n",
       "   'virginica': 0.9782608695652174},\n",
       "  'class_balance': {'setosa': 0.27125506072874495,\n",
       "   'versicolor': 0.3643724696356275,\n",
       "   'virginica': 0.3643724696356275},\n",
       "  'sample_size': 494},\n",
       " {'timestamp': datetime.datetime(2021, 6, 8, 12, 32, 21, 222292),\n",
       "  'measurement_mode': 'dates',\n",
       "  'query_criteria': {'start_date': datetime.datetime(2021, 4, 1, 0, 0),\n",
       "   'end_date': datetime.datetime(2021, 5, 1, 0, 0)},\n",
       "  'model_accuracy': 0.9702127659574468,\n",
       "  'precision': {'setosa': 0.9652777777777778,\n",
       "   'versicolor': 1.0,\n",
       "   'virginica': 0.9510869565217391},\n",
       "  'recall': {'setosa': 1.0,\n",
       "   'versicolor': 0.9102564102564102,\n",
       "   'virginica': 1.0},\n",
       "  'F1': {'setosa': 0.9823321554770319,\n",
       "   'versicolor': 0.953020134228188,\n",
       "   'virginica': 0.9749303621169916},\n",
       "  'class_balance': {'setosa': 0.2957446808510638,\n",
       "   'versicolor': 0.33191489361702126,\n",
       "   'virginica': 0.3723404255319149},\n",
       "  'sample_size': 470},\n",
       " {'timestamp': datetime.datetime(2021, 6, 8, 12, 32, 21, 265292),\n",
       "  'measurement_mode': 'dates',\n",
       "  'query_criteria': {'start_date': datetime.datetime(2021, 5, 1, 0, 0),\n",
       "   'end_date': datetime.datetime(2021, 6, 1, 0, 0)},\n",
       "  'model_accuracy': 0.9859154929577465,\n",
       "  'precision': {'setosa': 0.9797979797979798,\n",
       "   'versicolor': 1.0,\n",
       "   'virginica': 0.974025974025974},\n",
       "  'recall': {'setosa': 1.0,\n",
       "   'versicolor': 0.9664804469273743,\n",
       "   'virginica': 1.0},\n",
       "  'F1': {'setosa': 0.989795918367347,\n",
       "   'versicolor': 0.9829545454545454,\n",
       "   'virginica': 0.9868421052631579},\n",
       "  'class_balance': {'setosa': 0.22769953051643194,\n",
       "   'versicolor': 0.42018779342723006,\n",
       "   'virginica': 0.352112676056338},\n",
       "  'sample_size': 426},\n",
       " {'timestamp': datetime.datetime(2021, 6, 8, 12, 32, 21, 314289),\n",
       "  'measurement_mode': 'dates',\n",
       "  'query_criteria': {'start_date': datetime.datetime(2021, 6, 1, 0, 0),\n",
       "   'end_date': datetime.datetime(2021, 7, 1, 0, 0)},\n",
       "  'model_accuracy': 0.9836065573770492,\n",
       "  'precision': {'setosa': 0.9830508474576272,\n",
       "   'versicolor': 1.0,\n",
       "   'virginica': 0.9655172413793104},\n",
       "  'recall': {'setosa': 1.0,\n",
       "   'versicolor': 0.9444444444444444,\n",
       "   'virginica': 1.0},\n",
       "  'F1': {'setosa': 0.9914529914529915,\n",
       "   'versicolor': 0.9714285714285714,\n",
       "   'virginica': 0.9824561403508771},\n",
       "  'class_balance': {'setosa': 0.47540983606557374,\n",
       "   'versicolor': 0.29508196721311475,\n",
       "   'virginica': 0.22950819672131148},\n",
       "  'sample_size': 122},\n",
       " None,\n",
       " None,\n",
       " None,\n",
       " None,\n",
       " None,\n",
       " None]"
      ]
     },
     "execution_count": 202,
     "metadata": {},
     "output_type": "execute_result"
    }
   ],
   "source": [
    "results"
   ]
  },
  {
   "cell_type": "code",
   "execution_count": 206,
   "id": "c4638e9d",
   "metadata": {},
   "outputs": [],
   "source": [
    "results = [i for i in results if i]"
   ]
  },
  {
   "cell_type": "code",
   "execution_count": 207,
   "id": "696135c0",
   "metadata": {},
   "outputs": [],
   "source": [
    "results_col = db['testPerfResults2']"
   ]
  },
  {
   "cell_type": "code",
   "execution_count": 208,
   "id": "5709af84",
   "metadata": {},
   "outputs": [
    {
     "data": {
      "text/plain": [
       "61"
      ]
     },
     "execution_count": 208,
     "metadata": {},
     "output_type": "execute_result"
    }
   ],
   "source": [
    "result = results_col.insert_many(results)\n",
    "len(result.inserted_ids)"
   ]
  },
  {
   "cell_type": "code",
   "execution_count": null,
   "id": "872144bf",
   "metadata": {},
   "outputs": [],
   "source": []
  }
 ],
 "metadata": {
  "kernelspec": {
   "display_name": "Python 3",
   "language": "python",
   "name": "python3"
  },
  "language_info": {
   "codemirror_mode": {
    "name": "ipython",
    "version": 3
   },
   "file_extension": ".py",
   "mimetype": "text/x-python",
   "name": "python",
   "nbconvert_exporter": "python",
   "pygments_lexer": "ipython3",
   "version": "3.8.1"
  }
 },
 "nbformat": 4,
 "nbformat_minor": 5
}
