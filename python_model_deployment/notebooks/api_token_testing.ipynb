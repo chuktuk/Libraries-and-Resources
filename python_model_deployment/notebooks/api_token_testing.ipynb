{
 "cells": [
  {
   "cell_type": "markdown",
   "id": "0ec7888a",
   "metadata": {},
   "source": [
    "# API Token Testing"
   ]
  },
  {
   "cell_type": "code",
   "execution_count": 1,
   "id": "f2ead54f",
   "metadata": {},
   "outputs": [],
   "source": [
    "import jwt\n",
    "from passlib.hash import sha256_crypt\n",
    "from datetime import timedelta as td, datetime as dt\n",
    "from flask import current_app as app"
   ]
  },
  {
   "cell_type": "code",
   "execution_count": 2,
   "id": "af276265",
   "metadata": {},
   "outputs": [],
   "source": [
    "from pymongo import MongoClient"
   ]
  },
  {
   "cell_type": "code",
   "execution_count": 3,
   "id": "d07ad89a",
   "metadata": {},
   "outputs": [
    {
     "data": {
      "text/plain": [
       "True"
      ]
     },
     "execution_count": 3,
     "metadata": {},
     "output_type": "execute_result"
    }
   ],
   "source": [
    "import os\n",
    "from dotenv import load_dotenv\n",
    "load_dotenv(os.getenv('DOTENV'))"
   ]
  },
  {
   "cell_type": "code",
   "execution_count": 4,
   "id": "af71d502",
   "metadata": {},
   "outputs": [],
   "source": [
    "class Token:\n",
    "    def __init__(self):\n",
    "        self.__repr__ = 'API Access Token Manager'\n",
    "    \n",
    "    # connect to mongodb apiHashes collection\n",
    "    @staticmethod\n",
    "    def _get_apis_collection():\n",
    "        client = MongoClient(os.getenv('MONGO_URI'))\n",
    "        db = client['pocMLModelMonitoring']\n",
    "        col = db['apis']\n",
    "        return col\n",
    "\n",
    "    # get token\n",
    "    def encode_auth_token(self, user_id):\n",
    "        try:\n",
    "            # get a list of the hashed apis in use\n",
    "            col = self._get_apis_collection()\n",
    "            docs = col.find({})\n",
    "            apis = [doc.get('api_encrypted', 'Nope') for doc in docs]\n",
    "            \n",
    "            payload = {\n",
    "                    # set API-token expiration for 10 seconds for testing purposes\n",
    "                    'exp': dt.utcnow() + td(days=1), # td(milliseconds=10000),\n",
    "                    'iat': dt.utcnow(),\n",
    "                    'sub': user_id\n",
    "                }\n",
    "            auth_token = jwt.encode(\n",
    "                    payload,\n",
    "    #                 app.config.get('SECRET_KEY'),\n",
    "                    os.getenv('SECRET_KEY'),\n",
    "                    algorithm='HS256'\n",
    "                )\n",
    "        \n",
    "            if not len(apis) == 0 and any([sha256_crypt.verify(auth_token, api) for api in apis]):\n",
    "                rerun = True\n",
    "                # ensure that no duplicate auth_tokens are in the database\n",
    "                while rerun:\n",
    "                    payload = {\n",
    "                        # set API-token expiration for 10 seconds for testing purposes\n",
    "                        'exp': dt.utcnow() + td(days=1), # td(milliseconds=10000),\n",
    "                        'iat': dt.utcnow(),\n",
    "                        'sub': user_id\n",
    "                    }\n",
    "\n",
    "                    auth_token = jwt.encode(\n",
    "                        payload,\n",
    "        #                 app.config.get('SECRET_KEY'),\n",
    "                        os.getenv('SECRET_KEY'),\n",
    "                        algorithm='HS256'\n",
    "                    )\n",
    "\n",
    "                    # break the loop if no existing auth_tokens match the current auth_token\n",
    "                    if not any([sha256_crypt.verify(auth_token, api) for api in apis]):\n",
    "                        rerun = False\n",
    "            \n",
    "            result = col.insert_one({'user_id': user_id, 'api_encrypted': sha256_crypt.hash(auth_token)})\n",
    "            \n",
    "            return auth_token\n",
    "        except Exception as e:\n",
    "            return e\n",
    "\n",
    "    # revoke token\n",
    "    def revoke_token(self, auth_token):\n",
    "        # thoughts: store tokens in mongodb\n",
    "        # add a revoked field to mongo and check it or valid or something like that\n",
    "        # tokens must not be expired or revoked to proceed\n",
    "#         col = self._get_apis_collection()\n",
    "#         result = col.update_one({'api_encrypted': hash(auth_token)}, {'$set': {'revoked': True}}, upsert=True)\n",
    "#         if result.matched_count == 1 or upserted_id:\n",
    "#             return True\n",
    "        \n",
    "        # get a list of the hashed apis in use\n",
    "        col = self._get_apis_collection()\n",
    "        docs = col.find({})\n",
    "        apis = [doc.get('api_encrypted', 'Nope') for doc in docs]\n",
    "        \n",
    "        test_results = [sha256_crypt.verify(auth_token, api) for api in apis]\n",
    "        idxs = [idx for idx, value in enumerate(test_results) if value]\n",
    "        \n",
    "        if idxs:\n",
    "            for idx in idxs:\n",
    "                result = col.update_one({'api_encrypted': apis[idx]}, {'$set': {'revoked': True}}, upsert=False)\n",
    "#             message = f'{len(idxs)} found token(s) were revoked'\n",
    "        else:\n",
    "            result = col.insert_one({'api_encrypted': sha256_crypt.hash(auth_token), 'revoked': True})\n",
    "#             message = 'token not found, but added as revoked'\n",
    "\n",
    "    # decode a token\n",
    "    def decode_auth_token(self, auth_token):\n",
    "        try:\n",
    "#             payload = jwt.decode(auth_token, app.config.get('SECRET_KEY'))\n",
    "            payload = jwt.decode(auth_token, os.getenv('SECRET_KEY'), algorithms=['HS256'])\n",
    "            user_id = payload['sub']\n",
    "        \n",
    "            # ensure the api is legit and not revoked\n",
    "            col = self._get_apis_collection()\n",
    "            docs = col.find({})\n",
    "            docs = [doc for doc in docs]\n",
    "            \n",
    "            # if there are no tokens in the db, current token is invalid\n",
    "            if not docs:\n",
    "                raise jwt.InvalidTokenError\n",
    "            \n",
    "            # search for the api in the db, if verified, check for revoked\n",
    "            # if verified but not revoked, return the user_id\n",
    "            for doc in docs:\n",
    "                if sha256_crypt.verify(auth_token, doc.get('api_encrypted')):\n",
    "                    verified = True\n",
    "                    revoked = doc.get('revoked')\n",
    "                    if revoked:\n",
    "                        return False, 'This API token has been revoked.'\n",
    "                    if verified:\n",
    "                        return True, payload['sub']\n",
    "            else:\n",
    "                raise jwt.InvalidTokenError\n",
    "        \n",
    "        except jwt.ExpiredSignatureError:\n",
    "            return False, 'API Token expired. Please request a new token.'\n",
    "        except jwt.InvalidTokenError:\n",
    "            return False, 'Invalid API Token. Please request a new token.'"
   ]
  },
  {
   "cell_type": "code",
   "execution_count": 5,
   "id": "87b46fda",
   "metadata": {},
   "outputs": [
    {
     "name": "stdout",
     "output_type": "stream",
     "text": [
      "Help on method decode in module jwt.api_jwt:\n",
      "\n",
      "decode(jwt: str, key: str = '', algorithms: List[str] = None, options: Dict = None, **kwargs) -> Dict[str, Any] method of jwt.api_jwt.PyJWT instance\n",
      "\n"
     ]
    }
   ],
   "source": [
    "help(jwt.decode)"
   ]
  },
  {
   "cell_type": "code",
   "execution_count": 6,
   "id": "ad48509c",
   "metadata": {},
   "outputs": [],
   "source": [
    "token = Token()"
   ]
  },
  {
   "cell_type": "code",
   "execution_count": 7,
   "id": "b2d0e107",
   "metadata": {},
   "outputs": [],
   "source": [
    "API_KEY = token.encode_auth_token('crtucker')"
   ]
  },
  {
   "cell_type": "code",
   "execution_count": null,
   "id": "98b4677e",
   "metadata": {},
   "outputs": [],
   "source": []
  },
  {
   "cell_type": "code",
   "execution_count": null,
   "id": "57f67cb6",
   "metadata": {},
   "outputs": [],
   "source": []
  },
  {
   "cell_type": "code",
   "execution_count": 8,
   "id": "8c17e215",
   "metadata": {},
   "outputs": [
    {
     "name": "stdout",
     "output_type": "stream",
     "text": [
      "API verified?: True\n",
      "Result: crtucker\n"
     ]
    }
   ],
   "source": [
    "# test decoding within 10 sec\n",
    "verified, result = token.decode_auth_token(API_KEY)\n",
    "print(f'API verified?: {verified}')\n",
    "print(f'Result: {result}')"
   ]
  },
  {
   "cell_type": "code",
   "execution_count": 9,
   "id": "8c0b440f",
   "metadata": {},
   "outputs": [],
   "source": [
    "import time\n",
    "time.sleep(12)"
   ]
  },
  {
   "cell_type": "code",
   "execution_count": 10,
   "id": "d3760a1f",
   "metadata": {},
   "outputs": [
    {
     "name": "stdout",
     "output_type": "stream",
     "text": [
      "API verified?: False\n",
      "Result: API Token expired. Please request a new token.\n"
     ]
    }
   ],
   "source": [
    "# test decoding after 10 sec passed\n",
    "verified, result = token.decode_auth_token(API_KEY)\n",
    "print(f'API verified?: {verified}')\n",
    "print(f'Result: {result}')"
   ]
  },
  {
   "cell_type": "code",
   "execution_count": null,
   "id": "bda408e8",
   "metadata": {},
   "outputs": [],
   "source": []
  },
  {
   "cell_type": "code",
   "execution_count": null,
   "id": "2b1c19bf",
   "metadata": {},
   "outputs": [],
   "source": []
  },
  {
   "cell_type": "code",
   "execution_count": null,
   "id": "5e2416f2",
   "metadata": {},
   "outputs": [],
   "source": []
  },
  {
   "cell_type": "code",
   "execution_count": 11,
   "id": "82e8f21b",
   "metadata": {},
   "outputs": [],
   "source": [
    "# test revoking a token\n",
    "REVOKE_THIS_API = token.encode_auth_token('revoke_me')"
   ]
  },
  {
   "cell_type": "code",
   "execution_count": 12,
   "id": "fec83a4e",
   "metadata": {},
   "outputs": [
    {
     "name": "stdout",
     "output_type": "stream",
     "text": [
      "API verified?: True\n",
      "Result: revoke_me\n"
     ]
    }
   ],
   "source": [
    "verified, result = token.decode_auth_token(REVOKE_THIS_API)\n",
    "print(f'API verified?: {verified}')\n",
    "print(f'Result: {result}')"
   ]
  },
  {
   "cell_type": "code",
   "execution_count": 13,
   "id": "a8f7bea2",
   "metadata": {},
   "outputs": [],
   "source": [
    "token.revoke_token(REVOKE_THIS_API)"
   ]
  },
  {
   "cell_type": "code",
   "execution_count": 14,
   "id": "498a6e35",
   "metadata": {},
   "outputs": [
    {
     "name": "stdout",
     "output_type": "stream",
     "text": [
      "API verified?: False\n",
      "Result: This API token has been revoked.\n"
     ]
    }
   ],
   "source": [
    "verified, result = token.decode_auth_token(REVOKE_THIS_API)\n",
    "print(f'API verified?: {verified}')\n",
    "print(f'Result: {result}')"
   ]
  },
  {
   "cell_type": "code",
   "execution_count": null,
   "id": "53fa6bce",
   "metadata": {},
   "outputs": [],
   "source": []
  },
  {
   "cell_type": "code",
   "execution_count": null,
   "id": "b74718bc",
   "metadata": {},
   "outputs": [],
   "source": []
  },
  {
   "cell_type": "code",
   "execution_count": 15,
   "id": "23bbcdd4",
   "metadata": {},
   "outputs": [
    {
     "name": "stdout",
     "output_type": "stream",
     "text": [
      "API verified?: False\n",
      "Result: Invalid API Token. Please request a new token.\n"
     ]
    }
   ],
   "source": [
    "# test a token that doesn't exist\n",
    "verified, result = token.decode_auth_token('blahblahIwanttoconnectandIshouldnt')\n",
    "print(f'API verified?: {verified}')\n",
    "print(f'Result: {result}')"
   ]
  },
  {
   "cell_type": "code",
   "execution_count": null,
   "id": "b6467053",
   "metadata": {},
   "outputs": [],
   "source": []
  },
  {
   "cell_type": "code",
   "execution_count": null,
   "id": "bb35bba0",
   "metadata": {},
   "outputs": [],
   "source": []
  },
  {
   "cell_type": "code",
   "execution_count": 16,
   "id": "25a72c1e",
   "metadata": {},
   "outputs": [],
   "source": [
    "# test revoking a token that doesn't exist\n",
    "token.revoke_token('thisisafaketokenletsseeifitgetsrevokedanyway')"
   ]
  },
  {
   "cell_type": "code",
   "execution_count": null,
   "id": "93b19355",
   "metadata": {},
   "outputs": [],
   "source": []
  },
  {
   "cell_type": "code",
   "execution_count": null,
   "id": "18781078",
   "metadata": {},
   "outputs": [],
   "source": []
  },
  {
   "cell_type": "code",
   "execution_count": null,
   "id": "b63462a7",
   "metadata": {},
   "outputs": [],
   "source": []
  }
 ],
 "metadata": {
  "kernelspec": {
   "display_name": "Python 3",
   "language": "python",
   "name": "python3"
  },
  "language_info": {
   "codemirror_mode": {
    "name": "ipython",
    "version": 3
   },
   "file_extension": ".py",
   "mimetype": "text/x-python",
   "name": "python",
   "nbconvert_exporter": "python",
   "pygments_lexer": "ipython3",
   "version": "3.8.1"
  }
 },
 "nbformat": 4,
 "nbformat_minor": 5
}
