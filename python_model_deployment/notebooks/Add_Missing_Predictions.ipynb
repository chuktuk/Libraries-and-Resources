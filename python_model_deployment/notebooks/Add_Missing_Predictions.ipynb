{
 "cells": [
  {
   "cell_type": "code",
   "execution_count": 1,
   "id": "60b55699",
   "metadata": {},
   "outputs": [],
   "source": [
    "from pymongo import MongoClient\n",
    "import os\n",
    "from dotenv import load_dotenv\n",
    "from joblib import load"
   ]
  },
  {
   "cell_type": "code",
   "execution_count": 2,
   "id": "3ee732df",
   "metadata": {},
   "outputs": [],
   "source": [
    "import numpy as np"
   ]
  },
  {
   "cell_type": "code",
   "execution_count": 3,
   "id": "e7ed6357",
   "metadata": {},
   "outputs": [
    {
     "data": {
      "text/plain": [
       "True"
      ]
     },
     "execution_count": 3,
     "metadata": {},
     "output_type": "execute_result"
    }
   ],
   "source": [
    "load_dotenv(os.getenv('DOTENV'))"
   ]
  },
  {
   "cell_type": "code",
   "execution_count": 4,
   "id": "675ddb77",
   "metadata": {},
   "outputs": [],
   "source": [
    "client = MongoClient(os.getenv('MONGO_URI'))\n",
    "db = client['pocMLModelMonitoring']\n",
    "col = db['iris_knn']"
   ]
  },
  {
   "cell_type": "code",
   "execution_count": 5,
   "id": "9b27fd47",
   "metadata": {},
   "outputs": [
    {
     "data": {
      "text/plain": [
       "0"
      ]
     },
     "execution_count": 5,
     "metadata": {},
     "output_type": "execute_result"
    }
   ],
   "source": [
    "docs = col.find({'prediction': {'$exists': False}})\n",
    "docs = [doc for doc in docs]\n",
    "len(docs)"
   ]
  },
  {
   "cell_type": "code",
   "execution_count": 6,
   "id": "447bea93",
   "metadata": {},
   "outputs": [
    {
     "data": {
      "text/plain": [
       "18"
      ]
     },
     "execution_count": 6,
     "metadata": {},
     "output_type": "execute_result"
    }
   ],
   "source": [
    "docs = col.find({'label': {'$exists': False}})\n",
    "docs = [doc for doc in docs]\n",
    "len(docs)"
   ]
  },
  {
   "cell_type": "code",
   "execution_count": 7,
   "id": "0faa121c",
   "metadata": {},
   "outputs": [
    {
     "data": {
      "text/plain": [
       "[{'_id': ObjectId('60af9bcaf0aae2f444972efd'),\n",
       "  'data': [5.0, 3.4, 1.5, 0.2],\n",
       "  'prediction': 'setosa',\n",
       "  'timestamp': datetime.datetime(2016, 6, 10, 8, 42, 28, 358000)},\n",
       " {'_id': ObjectId('60af9bcaf0aae2f444972efe'),\n",
       "  'data': [7.8, 3.1, 6.2, 2.4],\n",
       "  'prediction': 'virginica',\n",
       "  'timestamp': datetime.datetime(2016, 6, 10, 8, 42, 28, 358000)},\n",
       " {'_id': ObjectId('60af9bcaf0aae2f444972eff'),\n",
       "  'data': [7.0, 3.1, 5.5, 2.2],\n",
       "  'prediction': 'virginica',\n",
       "  'timestamp': datetime.datetime(2016, 6, 10, 8, 42, 28, 358000)},\n",
       " {'_id': ObjectId('60b14423237521f092b9adc2'),\n",
       "  'data': [5.0, 3.4, 1.5, 0.2],\n",
       "  'prediction': 'setosa',\n",
       "  'timestamp': datetime.datetime(2016, 6, 10, 8, 42, 28, 358000)},\n",
       " {'_id': ObjectId('60b14423237521f092b9adc3'),\n",
       "  'data': [7.8, 3.1, 6.2, 2.4],\n",
       "  'prediction': 'virginica',\n",
       "  'timestamp': datetime.datetime(2016, 6, 10, 8, 42, 28, 358000)},\n",
       " {'_id': ObjectId('60b14423237521f092b9adc4'),\n",
       "  'data': [7.0, 3.1, 5.5, 2.2],\n",
       "  'prediction': 'virginica',\n",
       "  'timestamp': datetime.datetime(2016, 6, 10, 8, 42, 28, 358000)},\n",
       " {'_id': ObjectId('60b14456237521f092b9adc7'),\n",
       "  'data': [5.0, 3.4, 1.5, 0.2],\n",
       "  'prediction': 'setosa',\n",
       "  'timestamp': datetime.datetime(2016, 6, 10, 8, 42, 28, 358000)},\n",
       " {'_id': ObjectId('60b14456237521f092b9adc8'),\n",
       "  'data': [7.8, 3.1, 6.2, 2.4],\n",
       "  'prediction': 'virginica',\n",
       "  'timestamp': datetime.datetime(2016, 6, 10, 8, 42, 28, 358000)},\n",
       " {'_id': ObjectId('60b14456237521f092b9adc9'),\n",
       "  'data': [7.0, 3.1, 5.5, 2.2],\n",
       "  'prediction': 'virginica',\n",
       "  'timestamp': datetime.datetime(2016, 6, 10, 8, 42, 28, 358000)},\n",
       " {'_id': ObjectId('60b1448d237521f092b9adcc'),\n",
       "  'data': [5.0, 3.4, 1.5, 0.2],\n",
       "  'prediction': 'setosa',\n",
       "  'timestamp': datetime.datetime(2016, 6, 10, 8, 42, 28, 358000)},\n",
       " {'_id': ObjectId('60b1448d237521f092b9adcd'),\n",
       "  'data': [7.8, 3.1, 6.2, 2.4],\n",
       "  'prediction': 'virginica',\n",
       "  'timestamp': datetime.datetime(2016, 6, 10, 8, 42, 28, 358000)},\n",
       " {'_id': ObjectId('60b1448d237521f092b9adce'),\n",
       "  'data': [7.0, 3.1, 5.5, 2.2],\n",
       "  'prediction': 'virginica',\n",
       "  'timestamp': datetime.datetime(2016, 6, 10, 8, 42, 28, 358000)},\n",
       " {'_id': ObjectId('60b14dc372051a271b6e28d2'),\n",
       "  'data': [5.0, 3.4, 1.5, 0.2],\n",
       "  'prediction': 'setosa',\n",
       "  'timestamp': datetime.datetime(2016, 6, 11, 8, 42, 28, 358000)},\n",
       " {'_id': ObjectId('60b14dc372051a271b6e28d3'),\n",
       "  'data': [7.8, 3.1, 6.2, 2.4],\n",
       "  'prediction': 'virginica',\n",
       "  'timestamp': datetime.datetime(2016, 6, 11, 8, 42, 28, 358000)},\n",
       " {'_id': ObjectId('60b14dc372051a271b6e28d4'),\n",
       "  'data': [7.0, 3.1, 5.5, 2.2],\n",
       "  'prediction': 'virginica',\n",
       "  'timestamp': datetime.datetime(2016, 6, 11, 8, 42, 28, 358000)},\n",
       " {'_id': ObjectId('60b772c94bc6858738fedd2e'),\n",
       "  'data': [5.0, 3.4, 1.5, 0.2],\n",
       "  'prediction': 'setosa',\n",
       "  'timestamp': datetime.datetime(2016, 6, 11, 8, 42, 28, 358000)},\n",
       " {'_id': ObjectId('60b772c94bc6858738fedd2f'),\n",
       "  'data': [7.8, 3.1, 6.2, 2.4],\n",
       "  'prediction': 'virginica',\n",
       "  'timestamp': datetime.datetime(2016, 6, 11, 8, 42, 28, 358000)},\n",
       " {'_id': ObjectId('60b772c94bc6858738fedd30'),\n",
       "  'data': [7.0, 3.1, 5.5, 2.2],\n",
       "  'prediction': 'virginica',\n",
       "  'timestamp': datetime.datetime(2016, 6, 11, 8, 42, 28, 358000)}]"
      ]
     },
     "execution_count": 7,
     "metadata": {},
     "output_type": "execute_result"
    }
   ],
   "source": [
    "docs"
   ]
  },
  {
   "cell_type": "code",
   "execution_count": null,
   "id": "8e8beff5",
   "metadata": {},
   "outputs": [],
   "source": []
  }
 ],
 "metadata": {
  "kernelspec": {
   "display_name": "Python 3",
   "language": "python",
   "name": "python3"
  },
  "language_info": {
   "codemirror_mode": {
    "name": "ipython",
    "version": 3
   },
   "file_extension": ".py",
   "mimetype": "text/x-python",
   "name": "python",
   "nbconvert_exporter": "python",
   "pygments_lexer": "ipython3",
   "version": "3.8.1"
  }
 },
 "nbformat": 4,
 "nbformat_minor": 5
}
