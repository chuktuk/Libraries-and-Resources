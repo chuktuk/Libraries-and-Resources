{
 "cells": [
  {
   "cell_type": "markdown",
   "metadata": {},
   "source": [
    "# Machine Learning Examples\n",
    "#### See Machine Learning Notes Notebook for More Info"
   ]
  },
  {
   "cell_type": "markdown",
   "metadata": {},
   "source": [
    "## scikit-learn and the iris data\n",
    "- Supervised Learning\n",
    "- Classification"
   ]
  },
  {
   "cell_type": "code",
   "execution_count": 101,
   "metadata": {},
   "outputs": [],
   "source": [
    "# import packages\n",
    "from sklearn import datasets\n",
    "from sklearn import linear_model\n",
    "from sklearn.neighbors import KNeighborsClassifier\n",
    "from sklearn.metrics import classification_report\n",
    "from sklearn.metrics import confusion_matrix\n",
    "from sklearn.metrics import roc_curve\n",
    "from sklearn.metrics import roc_auc_score\n",
    "from sklearn.impute import SimpleImputer\n",
    "from sklearn.feature_extraction.text import CountVectorizer, HashingVectorizer, TfidfVectorizer\n",
    "from sklearn.preprocessing import StandardScaler, FunctionTransformer, PolynomialFeatures, normalize\n",
    "from sklearn.pipeline import Pipeline, FeatureUnion\n",
    "from sklearn.multiclass import OneVsRestClassifier\n",
    "from sklearn.manifold import TSNE\n",
    "from sklearn.naive_bayes import MultinomialNB\n",
    "from sklearn.model_selection import train_test_split\n",
    "from sklearn.model_selection import cross_val_score\n",
    "from sklearn.model_selection import GridSearchCV, RandomizedSearchCV\n",
    "# RandomizedSearchCV works just like GridSearchCV with syntax\n",
    "# it uses less memory because it doesn't evaluate every single combination of hyperparameters\n",
    "from sklearn.cluster import KMeans\n",
    "from sklearn.decomposition import PCA, TruncatedSVD, NMF\n",
    "from scipy.cluster.hierarchy import linkage, dendrogram, fcluster\n",
    "\n",
    "\n",
    "import pandas as pd\n",
    "import numpy as np\n",
    "import seaborn as sns\n",
    "import matplotlib.pyplot as plt\n",
    "\n",
    "# set default plotting\n",
    "plt.style.use('ggplot')"
   ]
  },
  {
   "cell_type": "markdown",
   "metadata": {},
   "source": [
    "## General Notes\n",
    "- Split data to separate the labels and the data\n",
    "```python\n",
    "# splitting data to remove the target variables and convert to numpy array\n",
    "x = df.drop('Target_variable', axis=1).values\n",
    "y = df.Target_variable.values\n",
    "```\n",
    "\n",
    "- Pipelines can simplify code\n",
    "    - output of a step is the input for the next step\n",
    "    - each step is a tuple `('name', object implementing .fit() .transform() methods)`\n",
    "- Can add interactions between features to a model\n",
    "    - `interaction = PolynomialFeatures(degree=2, interaction_only=True, include_bias=False)`\n",
    "        - `interaction_only=True` means don't multiply a column by itself\n",
    "        - `include_bias` allows you to include a bias term\n",
    "            - y value when x is 0 (y intercept if linear model)\n",
    "    - `interaction.fit_transform(x)` where x is the feature data\n",
    "    - does not work with sparse matrices\n",
    "- Hashing Trick\n",
    "    - increases memory efficiency, especially with lots of features (i.e. when adding interaction features)\n",
    "        - useful on large datasets\n",
    "    - set a max number of hashes (columns in 'feature' array) to map to\n",
    "        - some features will map to the same column, but oddly this has little effect on model accuracy\n",
    "    - for bag-o-words, use `HashingVectorizer` instead of `CountVectorizer`\n",
    "        - add extra args so we can do a straight substitute for CountVectorizer\n",
    "            `norm=None, non_negative=True`"
   ]
  },
  {
   "cell_type": "markdown",
   "metadata": {},
   "source": [
    "### Preprocessing Data for scikit-learn"
   ]
  },
  {
   "cell_type": "markdown",
   "metadata": {},
   "source": [
    "#### Categorical Data\n",
    "- for categorical data with n different options, create n new columns and use binary data 0/1 to denote which category an observation has\n",
    "    - it is possible to eliminate one of the categories, since if an observation is 0 for all of the other categories, then it will be the missing one\n",
    "        - if you don't do this, you are duplicating some information, which might be an issue for some models\n",
    "- how to do this\n",
    "    - can do this manually using `.map()`\n",
    "    - use sklearn `OneHotEncoder()`\n",
    "    - use pandas `get_dummies(drop_first=True)`"
   ]
  },
  {
   "cell_type": "code",
   "execution_count": 2,
   "metadata": {},
   "outputs": [
    {
     "data": {
      "text/html": [
       "<div>\n",
       "<style scoped>\n",
       "    .dataframe tbody tr th:only-of-type {\n",
       "        vertical-align: middle;\n",
       "    }\n",
       "\n",
       "    .dataframe tbody tr th {\n",
       "        vertical-align: top;\n",
       "    }\n",
       "\n",
       "    .dataframe thead th {\n",
       "        text-align: right;\n",
       "    }\n",
       "</style>\n",
       "<table border=\"1\" class=\"dataframe\">\n",
       "  <thead>\n",
       "    <tr style=\"text-align: right;\">\n",
       "      <th></th>\n",
       "      <th>Sex</th>\n",
       "      <th>Color</th>\n",
       "      <th>Age</th>\n",
       "    </tr>\n",
       "  </thead>\n",
       "  <tbody>\n",
       "    <tr>\n",
       "      <th>0</th>\n",
       "      <td>M</td>\n",
       "      <td>blue</td>\n",
       "      <td>1</td>\n",
       "    </tr>\n",
       "    <tr>\n",
       "      <th>1</th>\n",
       "      <td>F</td>\n",
       "      <td>red</td>\n",
       "      <td>2</td>\n",
       "    </tr>\n",
       "    <tr>\n",
       "      <th>2</th>\n",
       "      <td>F</td>\n",
       "      <td>yellow</td>\n",
       "      <td>3</td>\n",
       "    </tr>\n",
       "    <tr>\n",
       "      <th>3</th>\n",
       "      <td>M</td>\n",
       "      <td>blue</td>\n",
       "      <td>4</td>\n",
       "    </tr>\n",
       "    <tr>\n",
       "      <th>4</th>\n",
       "      <td>M</td>\n",
       "      <td>yellow</td>\n",
       "      <td>5</td>\n",
       "    </tr>\n",
       "    <tr>\n",
       "      <th>5</th>\n",
       "      <td>F</td>\n",
       "      <td>blue</td>\n",
       "      <td>6</td>\n",
       "    </tr>\n",
       "    <tr>\n",
       "      <th>6</th>\n",
       "      <td>F</td>\n",
       "      <td>blue</td>\n",
       "      <td>7</td>\n",
       "    </tr>\n",
       "  </tbody>\n",
       "</table>\n",
       "</div>"
      ],
      "text/plain": [
       "  Sex   Color  Age\n",
       "0   M    blue    1\n",
       "1   F     red    2\n",
       "2   F  yellow    3\n",
       "3   M    blue    4\n",
       "4   M  yellow    5\n",
       "5   F    blue    6\n",
       "6   F    blue    7"
      ]
     },
     "execution_count": 2,
     "metadata": {},
     "output_type": "execute_result"
    }
   ],
   "source": [
    "# example of transforming the data this way\n",
    "df = pd.DataFrame({'Sex': ['M', 'F', 'F', 'M', 'M', 'F', 'F'], \n",
    "                   'Color': ['blue', 'red', 'yellow', 'blue', 'yellow', 'blue', 'blue'],\n",
    "                   'Age': [1, 2, 3, 4, 5, 6, 7]})\n",
    "df"
   ]
  },
  {
   "cell_type": "code",
   "execution_count": 3,
   "metadata": {},
   "outputs": [
    {
     "data": {
      "text/html": [
       "<div>\n",
       "<style scoped>\n",
       "    .dataframe tbody tr th:only-of-type {\n",
       "        vertical-align: middle;\n",
       "    }\n",
       "\n",
       "    .dataframe tbody tr th {\n",
       "        vertical-align: top;\n",
       "    }\n",
       "\n",
       "    .dataframe thead th {\n",
       "        text-align: right;\n",
       "    }\n",
       "</style>\n",
       "<table border=\"1\" class=\"dataframe\">\n",
       "  <thead>\n",
       "    <tr style=\"text-align: right;\">\n",
       "      <th></th>\n",
       "      <th>Age</th>\n",
       "      <th>Sex_M</th>\n",
       "      <th>Color_red</th>\n",
       "      <th>Color_yellow</th>\n",
       "    </tr>\n",
       "  </thead>\n",
       "  <tbody>\n",
       "    <tr>\n",
       "      <th>0</th>\n",
       "      <td>1</td>\n",
       "      <td>1</td>\n",
       "      <td>0</td>\n",
       "      <td>0</td>\n",
       "    </tr>\n",
       "    <tr>\n",
       "      <th>1</th>\n",
       "      <td>2</td>\n",
       "      <td>0</td>\n",
       "      <td>1</td>\n",
       "      <td>0</td>\n",
       "    </tr>\n",
       "    <tr>\n",
       "      <th>2</th>\n",
       "      <td>3</td>\n",
       "      <td>0</td>\n",
       "      <td>0</td>\n",
       "      <td>1</td>\n",
       "    </tr>\n",
       "    <tr>\n",
       "      <th>3</th>\n",
       "      <td>4</td>\n",
       "      <td>1</td>\n",
       "      <td>0</td>\n",
       "      <td>0</td>\n",
       "    </tr>\n",
       "    <tr>\n",
       "      <th>4</th>\n",
       "      <td>5</td>\n",
       "      <td>1</td>\n",
       "      <td>0</td>\n",
       "      <td>1</td>\n",
       "    </tr>\n",
       "    <tr>\n",
       "      <th>5</th>\n",
       "      <td>6</td>\n",
       "      <td>0</td>\n",
       "      <td>0</td>\n",
       "      <td>0</td>\n",
       "    </tr>\n",
       "    <tr>\n",
       "      <th>6</th>\n",
       "      <td>7</td>\n",
       "      <td>0</td>\n",
       "      <td>0</td>\n",
       "      <td>0</td>\n",
       "    </tr>\n",
       "  </tbody>\n",
       "</table>\n",
       "</div>"
      ],
      "text/plain": [
       "   Age  Sex_M  Color_red  Color_yellow\n",
       "0    1      1          0             0\n",
       "1    2      0          1             0\n",
       "2    3      0          0             1\n",
       "3    4      1          0             0\n",
       "4    5      1          0             1\n",
       "5    6      0          0             0\n",
       "6    7      0          0             0"
      ]
     },
     "execution_count": 3,
     "metadata": {},
     "output_type": "execute_result"
    }
   ],
   "source": [
    "df_dum = pd.get_dummies(df, drop_first=True)\n",
    "df_dum"
   ]
  },
  {
   "cell_type": "markdown",
   "metadata": {},
   "source": [
    "#### Missing Values\n",
    "- can drop the rows entirely\n",
    "- usually not preferred to drop a column (feature) entirely\n",
    "- if too much data would be lost, can impute (make an educated guess) for missing values\n",
    "    - ex. use the mean of all non-missing entries and fill the missing values using sklearn imputer"
   ]
  },
  {
   "cell_type": "code",
   "execution_count": 4,
   "metadata": {},
   "outputs": [
    {
     "data": {
      "text/html": [
       "<div>\n",
       "<style scoped>\n",
       "    .dataframe tbody tr th:only-of-type {\n",
       "        vertical-align: middle;\n",
       "    }\n",
       "\n",
       "    .dataframe tbody tr th {\n",
       "        vertical-align: top;\n",
       "    }\n",
       "\n",
       "    .dataframe thead th {\n",
       "        text-align: right;\n",
       "    }\n",
       "</style>\n",
       "<table border=\"1\" class=\"dataframe\">\n",
       "  <thead>\n",
       "    <tr style=\"text-align: right;\">\n",
       "      <th></th>\n",
       "      <th>values</th>\n",
       "    </tr>\n",
       "  </thead>\n",
       "  <tbody>\n",
       "    <tr>\n",
       "      <th>0</th>\n",
       "      <td>0.0</td>\n",
       "    </tr>\n",
       "    <tr>\n",
       "      <th>1</th>\n",
       "      <td>1.0</td>\n",
       "    </tr>\n",
       "    <tr>\n",
       "      <th>2</th>\n",
       "      <td>2.0</td>\n",
       "    </tr>\n",
       "    <tr>\n",
       "      <th>3</th>\n",
       "      <td>1.0</td>\n",
       "    </tr>\n",
       "    <tr>\n",
       "      <th>4</th>\n",
       "      <td>NaN</td>\n",
       "    </tr>\n",
       "    <tr>\n",
       "      <th>5</th>\n",
       "      <td>1.0</td>\n",
       "    </tr>\n",
       "    <tr>\n",
       "      <th>6</th>\n",
       "      <td>2.0</td>\n",
       "    </tr>\n",
       "    <tr>\n",
       "      <th>7</th>\n",
       "      <td>0.0</td>\n",
       "    </tr>\n",
       "    <tr>\n",
       "      <th>8</th>\n",
       "      <td>NaN</td>\n",
       "    </tr>\n",
       "  </tbody>\n",
       "</table>\n",
       "</div>"
      ],
      "text/plain": [
       "   values\n",
       "0     0.0\n",
       "1     1.0\n",
       "2     2.0\n",
       "3     1.0\n",
       "4     NaN\n",
       "5     1.0\n",
       "6     2.0\n",
       "7     0.0\n",
       "8     NaN"
      ]
     },
     "execution_count": 4,
     "metadata": {},
     "output_type": "execute_result"
    }
   ],
   "source": [
    "df = pd.DataFrame({'values': [0, 1, 2, 1, np.nan, 1, 2, 0, np.nan]})\n",
    "df"
   ]
  },
  {
   "cell_type": "code",
   "execution_count": 5,
   "metadata": {},
   "outputs": [],
   "source": [
    "# using SimpleImputer, axis=0 means to calculate the mean of the column\n",
    "imp = SimpleImputer(missing_values=np.nan, strategy='mean')\n",
    "x = df['values'].values\n",
    "x = x.reshape(-1, 1)\n",
    "imp.fit(x)\n",
    "x = imp.transform(x)"
   ]
  },
  {
   "cell_type": "code",
   "execution_count": 6,
   "metadata": {},
   "outputs": [
    {
     "data": {
      "text/plain": [
       "array([[0.],\n",
       "       [1.],\n",
       "       [2.],\n",
       "       [1.],\n",
       "       [1.],\n",
       "       [1.],\n",
       "       [2.],\n",
       "       [0.],\n",
       "       [1.]])"
      ]
     },
     "execution_count": 6,
     "metadata": {},
     "output_type": "execute_result"
    }
   ],
   "source": [
    "x"
   ]
  },
  {
   "cell_type": "markdown",
   "metadata": {},
   "source": [
    "Imputing with a pipeline\n",
    "```python\n",
    "imp = SimpleImputer(missing_values=np.nan, strategy='mean')\n",
    "logreg = linear_model.LogisticRegression()\n",
    "steps = [('imputation', imp), ('logistic_regression', logreg)]\n",
    "pipeline = Pipeline(steps)\n",
    "x_train, x_test, y_train, y_test = train_test_split(x, y, test_size=0.4, random_state=42)\n",
    "pipeline.fit(x_train, y_train)\n",
    "y_pred = pipeline.predict(x_test)\n",
    "pipeline.score(x_test, y_test)\n",
    "```"
   ]
  },
  {
   "cell_type": "markdown",
   "metadata": {},
   "source": [
    "#### Centering and Scaling Data (Normalizing)\n",
    "- Standardization: subtract by mean and divide by variance\n",
    "- Other methods as well\n",
    "- sklearn's StandardScaler object will standardize\n",
    "    - StandardScaler considers all of the features together (i.e. removing the mean/variance)\n",
    "    - Normalizer does each feature independently\n",
    "- can add to a pipeline\n",
    "\n",
    "```python\n",
    "# can use x_scaled(data) on the current dataset or on new test data or other unseen data\n",
    "from sklearn.preprocessing import StandardScaler\n",
    "x_scaled = StandardScaler(x)\n",
    "\n",
    "\n",
    "# in a pipeline for k-nn classifiers\n",
    "steps = [('scaler': StandardScaler()),\n",
    "         ('knn': KNeighborsClassifer())]\n",
    "pipeline = Pipeline(steps)\n",
    "\n",
    "\n",
    "# cross validation and scaling in a pipeline with k-nn\n",
    "steps = [('scaler': StandardScaler()),\n",
    "         ('knn': KNeighborsClassifer())]\n",
    "pipeline = Pipeline(steps)\n",
    "\n",
    "# value of the knn__n_neighbors var is a list or array of values to try (for k here)\n",
    "parameters = {knn__n_neighbors=np.arange(1, 50)}\n",
    "\n",
    "x_train, x_test, y_train, y_test = train_test_split(x, y, test_size=0.3, random_state=42)\n",
    "\n",
    "cv = GridSearchCV(pipeline, param_grid=parameters)\n",
    "cv.fit(x_train, y_train)\n",
    "y_pred = cv.predict(x_test)\n",
    "\n",
    "# print params\n",
    "print(cv.best_params_)\n",
    "# print accuracy\n",
    "print(cv.score(x_test, y_test))\n",
    "#print classification report\n",
    "print(classification_report(y_test, y_pred))\n",
    "```\n",
    "\n"
   ]
  },
  {
   "cell_type": "markdown",
   "metadata": {},
   "source": [
    "#### Possible to GridSearch Over a Pipeline"
   ]
  },
  {
   "cell_type": "markdown",
   "metadata": {},
   "source": [
    "#### Using StandardScaler by itself\n",
    "```python\n",
    "from sklearn.preprocessing import StandardScaler\n",
    "scaler = StandardScaler()\n",
    "\n",
    "scaler.fit(feature_data)\n",
    "\n",
    "# need to feed the feature data\n",
    "scaled_data = scaler.transform(feature_data)\n",
    "\n",
    "# can transform the test data or any other data\n",
    "transformed_data = scaler.transform(any_data)\n",
    "\n",
    "# for the feature data, could fit_transform() in one step\n",
    "scaled_data = scaler.fit_transform(feature_data)\n",
    "\n",
    "```"
   ]
  },
  {
   "cell_type": "code",
   "execution_count": null,
   "metadata": {},
   "outputs": [],
   "source": []
  },
  {
   "cell_type": "code",
   "execution_count": null,
   "metadata": {},
   "outputs": [],
   "source": []
  },
  {
   "cell_type": "markdown",
   "metadata": {},
   "source": [
    "### Iris EDA"
   ]
  },
  {
   "cell_type": "code",
   "execution_count": 7,
   "metadata": {},
   "outputs": [
    {
     "data": {
      "text/plain": [
       "module"
      ]
     },
     "execution_count": 7,
     "metadata": {},
     "output_type": "execute_result"
    }
   ],
   "source": [
    "type(datasets)"
   ]
  },
  {
   "cell_type": "code",
   "execution_count": 8,
   "metadata": {},
   "outputs": [],
   "source": [
    "# load the data\n",
    "# uses the load_iris() method of the datasets module\n",
    "# returns a sklearn 'Bunch'\n",
    "iris = datasets.load_iris()"
   ]
  },
  {
   "cell_type": "code",
   "execution_count": 9,
   "metadata": {},
   "outputs": [
    {
     "data": {
      "text/plain": [
       "sklearn.utils.Bunch"
      ]
     },
     "execution_count": 9,
     "metadata": {},
     "output_type": "execute_result"
    }
   ],
   "source": [
    "type(iris)"
   ]
  },
  {
   "cell_type": "markdown",
   "metadata": {},
   "source": [
    "Bunch datatype from sklearn is similar to a dictionary and contains key/value pairs"
   ]
  },
  {
   "cell_type": "code",
   "execution_count": 10,
   "metadata": {},
   "outputs": [
    {
     "name": "stdout",
     "output_type": "stream",
     "text": [
      "dict_keys(['data', 'target', 'target_names', 'DESCR', 'feature_names', 'filename'])\n"
     ]
    }
   ],
   "source": [
    "print(iris.keys())"
   ]
  },
  {
   "cell_type": "markdown",
   "metadata": {},
   "source": [
    "This shows what is in the Bunch object\n",
    "- data\n",
    "- target: target data\n",
    "- target_names\n",
    "- DESCR: description\n",
    "- feature_names"
   ]
  },
  {
   "cell_type": "code",
   "execution_count": 11,
   "metadata": {},
   "outputs": [
    {
     "name": "stdout",
     "output_type": "stream",
     "text": [
      "<class 'numpy.ndarray'> <class 'numpy.ndarray'>\n"
     ]
    }
   ],
   "source": [
    "# both datasets are numpy arrays\n",
    "print(type(iris.data), type(iris.target))"
   ]
  },
  {
   "cell_type": "code",
   "execution_count": 12,
   "metadata": {},
   "outputs": [
    {
     "data": {
      "text/plain": [
       "(150, 4)"
      ]
     },
     "execution_count": 12,
     "metadata": {},
     "output_type": "execute_result"
    }
   ],
   "source": [
    "# 150 rows (samples) and 4 columns (features)\n",
    "iris.data.shape"
   ]
  },
  {
   "cell_type": "markdown",
   "metadata": {},
   "source": [
    "Note: in the target data, 0 = setosa, 1 = versicolor, 2 = virginica"
   ]
  },
  {
   "cell_type": "code",
   "execution_count": 13,
   "metadata": {},
   "outputs": [
    {
     "data": {
      "text/plain": [
       "array(['setosa', 'versicolor', 'virginica'], dtype='<U10')"
      ]
     },
     "execution_count": 13,
     "metadata": {},
     "output_type": "execute_result"
    }
   ],
   "source": [
    "# index values from this array are the values in the target data\n",
    "iris.target_names"
   ]
  },
  {
   "cell_type": "code",
   "execution_count": 14,
   "metadata": {},
   "outputs": [],
   "source": [
    "# assign data to variables\n",
    "x = iris.data\n",
    "y = iris.target\n",
    "df = pd.DataFrame(x, columns=iris.feature_names)"
   ]
  },
  {
   "cell_type": "code",
   "execution_count": 15,
   "metadata": {},
   "outputs": [
    {
     "data": {
      "text/html": [
       "<div>\n",
       "<style scoped>\n",
       "    .dataframe tbody tr th:only-of-type {\n",
       "        vertical-align: middle;\n",
       "    }\n",
       "\n",
       "    .dataframe tbody tr th {\n",
       "        vertical-align: top;\n",
       "    }\n",
       "\n",
       "    .dataframe thead th {\n",
       "        text-align: right;\n",
       "    }\n",
       "</style>\n",
       "<table border=\"1\" class=\"dataframe\">\n",
       "  <thead>\n",
       "    <tr style=\"text-align: right;\">\n",
       "      <th></th>\n",
       "      <th>sepal length (cm)</th>\n",
       "      <th>sepal width (cm)</th>\n",
       "      <th>petal length (cm)</th>\n",
       "      <th>petal width (cm)</th>\n",
       "    </tr>\n",
       "  </thead>\n",
       "  <tbody>\n",
       "    <tr>\n",
       "      <th>0</th>\n",
       "      <td>5.1</td>\n",
       "      <td>3.5</td>\n",
       "      <td>1.4</td>\n",
       "      <td>0.2</td>\n",
       "    </tr>\n",
       "    <tr>\n",
       "      <th>1</th>\n",
       "      <td>4.9</td>\n",
       "      <td>3.0</td>\n",
       "      <td>1.4</td>\n",
       "      <td>0.2</td>\n",
       "    </tr>\n",
       "    <tr>\n",
       "      <th>2</th>\n",
       "      <td>4.7</td>\n",
       "      <td>3.2</td>\n",
       "      <td>1.3</td>\n",
       "      <td>0.2</td>\n",
       "    </tr>\n",
       "    <tr>\n",
       "      <th>3</th>\n",
       "      <td>4.6</td>\n",
       "      <td>3.1</td>\n",
       "      <td>1.5</td>\n",
       "      <td>0.2</td>\n",
       "    </tr>\n",
       "    <tr>\n",
       "      <th>4</th>\n",
       "      <td>5.0</td>\n",
       "      <td>3.6</td>\n",
       "      <td>1.4</td>\n",
       "      <td>0.2</td>\n",
       "    </tr>\n",
       "  </tbody>\n",
       "</table>\n",
       "</div>"
      ],
      "text/plain": [
       "   sepal length (cm)  sepal width (cm)  petal length (cm)  petal width (cm)\n",
       "0                5.1               3.5                1.4               0.2\n",
       "1                4.9               3.0                1.4               0.2\n",
       "2                4.7               3.2                1.3               0.2\n",
       "3                4.6               3.1                1.5               0.2\n",
       "4                5.0               3.6                1.4               0.2"
      ]
     },
     "execution_count": 15,
     "metadata": {},
     "output_type": "execute_result"
    }
   ],
   "source": [
    "df.head()"
   ]
  },
  {
   "cell_type": "code",
   "execution_count": 16,
   "metadata": {},
   "outputs": [
    {
     "data": {
      "image/png": "[encoded data removed]",
      "text/plain": [
       "<Figure size 576x576 with 16 Axes>"
      ]
     },
     "metadata": {},
     "output_type": "display_data"
    }
   ],
   "source": [
    "# visualize the data\n",
    "_ = pd.plotting.scatter_matrix(df, c=y, figsize=[8,8], s=150, marker='D')"
   ]
  },
  {
   "cell_type": "markdown",
   "metadata": {},
   "source": [
    "#### Iris k-NN Using sklearn"
   ]
  },
  {
   "cell_type": "markdown",
   "metadata": {},
   "source": [
    "Use the k-NN algorithm on the iris dataset\n",
    "- good basic algorithm for this problem\n",
    "    - classification of labeled data"
   ]
  },
  {
   "cell_type": "code",
   "execution_count": 17,
   "metadata": {},
   "outputs": [],
   "source": [
    "# create an instance of a k neighbors classifier\n",
    "knn = KNeighborsClassifier(n_neighbors=7)"
   ]
  },
  {
   "cell_type": "code",
   "execution_count": 18,
   "metadata": {},
   "outputs": [
    {
     "data": {
      "text/plain": [
       "KNeighborsClassifier(algorithm='auto', leaf_size=30, metric='minkowski',\n",
       "                     metric_params=None, n_jobs=None, n_neighbors=7, p=2,\n",
       "                     weights='uniform')"
      ]
     },
     "execution_count": 18,
     "metadata": {},
     "output_type": "execute_result"
    }
   ],
   "source": [
    "# train the data using the labeled dataset\n",
    "# two arguments, features as numpy array, and the labels as an array\n",
    "# array of labels must be 1d, the same length as the number of observations in the features array\n",
    "# features must be continuous values for this method\n",
    "# must be no missing values\n",
    "knn.fit(iris['data'], iris['target'])"
   ]
  },
  {
   "cell_type": "code",
   "execution_count": 19,
   "metadata": {},
   "outputs": [],
   "source": [
    "# generate some data for prediction\n",
    "new_data = np.array([[5.0, 3.4, 1.5, 0.2], [7.8, 3.1 , 6.2, 2.4], [7., 3.1, 5.5, 2.2]])"
   ]
  },
  {
   "cell_type": "code",
   "execution_count": 20,
   "metadata": {},
   "outputs": [],
   "source": [
    "# make predictions on unlabeled data\n",
    "# new_array should have the same number of features in the same order as the training array\n",
    "prediction = knn.predict(new_data)"
   ]
  },
  {
   "cell_type": "code",
   "execution_count": 21,
   "metadata": {},
   "outputs": [
    {
     "name": "stdout",
     "output_type": "stream",
     "text": [
      "Prediction [0 2 2]\n"
     ]
    }
   ],
   "source": [
    "# print the predictions\n",
    "print('Prediction {}'.format(prediction))"
   ]
  },
  {
   "cell_type": "code",
   "execution_count": 22,
   "metadata": {},
   "outputs": [
    {
     "data": {
      "text/plain": [
       "['setosa', 'virginica', 'virginica']"
      ]
     },
     "execution_count": 22,
     "metadata": {},
     "output_type": "execute_result"
    }
   ],
   "source": [
    "# print the results as species names\n",
    "[iris.target_names[prediction[i]] for i in range(len(prediction))]"
   ]
  },
  {
   "cell_type": "markdown",
   "metadata": {},
   "source": [
    "This was run once on all of the training data\n",
    "- There was no cross validation for the number of k to use\n",
    "- There was no test data to evaluate the model"
   ]
  },
  {
   "cell_type": "markdown",
   "metadata": {},
   "source": [
    "#### Measuring Model Performance\n",
    "- accuracy = # correct predictions / total number of data points\n",
    "- should use unseen data not used to train to test this\n",
    "    - for production models divide the data into 60% train, 20% validation, 20% test\n",
    "    - another option is cross validation, dividing the training data into folds, reiterating the model construction and k optimization each time (like below) and taking the average of the accuracy each time to choose the best k"
   ]
  },
  {
   "cell_type": "markdown",
   "metadata": {},
   "source": [
    "This example only divides into train/test\n",
    "- But this would be similar to the 4/5 fold test for cross validation as well"
   ]
  },
  {
   "cell_type": "code",
   "execution_count": 23,
   "metadata": {},
   "outputs": [],
   "source": [
    "# use the sklearn test_train_split function to randomly split the data\n",
    "# iris.data contains the feature measurements, iris.target contains the labels (y values)\n",
    "# test_size specifies the proportion of the data to save for the test set, default is 25% test/75% train\n",
    "# random_state just sets the seed for the random number generator\n",
    "# stratify = y ensures that our labels are represented in train/test sets in the same proportion as the source data\n",
    "x_train, x_test, y_train, y_test = train_test_split(iris.data, iris.target, test_size=0.3, \n",
    "                                                    random_state=21, stratify=iris.target)"
   ]
  },
  {
   "cell_type": "code",
   "execution_count": null,
   "metadata": {},
   "outputs": [],
   "source": []
  },
  {
   "cell_type": "code",
   "execution_count": 24,
   "metadata": {},
   "outputs": [
    {
     "data": {
      "text/plain": [
       "KNeighborsClassifier(algorithm='auto', leaf_size=30, metric='minkowski',\n",
       "                     metric_params=None, n_jobs=None, n_neighbors=7, p=2,\n",
       "                     weights='uniform')"
      ]
     },
     "execution_count": 24,
     "metadata": {},
     "output_type": "execute_result"
    }
   ],
   "source": [
    "# set the number of neighbors and create classifier instance\n",
    "# train the model\n",
    "knn = KNeighborsClassifier(n_neighbors=7)\n",
    "knn.fit(x_train, y_train)"
   ]
  },
  {
   "cell_type": "code",
   "execution_count": 25,
   "metadata": {},
   "outputs": [],
   "source": [
    "# make the preditions on the test data\n",
    "y_pred = knn.predict(x_test)"
   ]
  },
  {
   "cell_type": "code",
   "execution_count": 26,
   "metadata": {},
   "outputs": [
    {
     "name": "stdout",
     "output_type": "stream",
     "text": [
      "[2 1 2 2 1 0 1 0 0 1 0 2 0 2 2 0 0 0 1 0 2 2 2 0 1 1 1 0 0 1 2 2 0 0 1 2 2\n",
      " 1 1 2 1 1 0 2 1]\n"
     ]
    }
   ],
   "source": [
    "print(y_pred)"
   ]
  },
  {
   "cell_type": "code",
   "execution_count": 27,
   "metadata": {},
   "outputs": [
    {
     "data": {
      "text/plain": [
       "0.9555555555555556"
      ]
     },
     "execution_count": 27,
     "metadata": {},
     "output_type": "execute_result"
    }
   ],
   "source": [
    "# evaluate the model using the test features and the test labels\n",
    "# do not supply the actual values from the .predict() method\n",
    "knn.score(x_test, y_test)"
   ]
  },
  {
   "cell_type": "code",
   "execution_count": 28,
   "metadata": {},
   "outputs": [
    {
     "data": {
      "image/png": "[encoded data removed]",
      "text/plain": [
       "<Figure size 432x288 with 1 Axes>"
      ]
     },
     "metadata": {},
     "output_type": "display_data"
    }
   ],
   "source": [
    "# Setup arrays to store train and test accuracies\n",
    "# view the plot to help pick the best k to use\n",
    "neighbors = np.arange(1, 9)\n",
    "train_accuracy = np.empty(len(neighbors))\n",
    "test_accuracy = np.empty(len(neighbors))\n",
    "\n",
    "# Loop over different values of k\n",
    "for i, k in enumerate(neighbors):\n",
    "    # Setup a k-NN Classifier with k neighbors: knn\n",
    "    knn = KNeighborsClassifier(n_neighbors=k)\n",
    "\n",
    "    # Fit the classifier to the training data\n",
    "    knn.fit(x_train, y_train)\n",
    "    \n",
    "    #Compute accuracy on the training set\n",
    "    train_accuracy[i] = knn.score(x_train, y_train)\n",
    "\n",
    "    #Compute accuracy on the testing set\n",
    "    test_accuracy[i] = knn.score(x_test, y_test)\n",
    "\n",
    "# Generate plot\n",
    "plt.title('k-NN: Varying Number of Neighbors')\n",
    "plt.plot(neighbors, test_accuracy, label = 'Testing Accuracy')\n",
    "plt.plot(neighbors, train_accuracy, label = 'Training Accuracy')\n",
    "plt.legend()\n",
    "plt.xlabel('Number of Neighbors')\n",
    "plt.ylabel('Accuracy')\n",
    "plt.show()"
   ]
  },
  {
   "cell_type": "markdown",
   "metadata": {},
   "source": [
    "Best k value is between 3-5"
   ]
  },
  {
   "cell_type": "markdown",
   "metadata": {},
   "source": [
    "#### Hyperparameter Tuning for k Using GridSearchCV"
   ]
  },
  {
   "cell_type": "markdown",
   "metadata": {},
   "source": [
    "- with multiple hyperparameters, this method will try all combinations of the hyperparameters (what you want)"
   ]
  },
  {
   "cell_type": "code",
   "execution_count": 29,
   "metadata": {},
   "outputs": [],
   "source": [
    "# split the data\n",
    "x_train, x_test, y_train, y_test = train_test_split(iris.data, iris.target, test_size=0.3, \n",
    "                                                    random_state=21, stratify=iris.target)"
   ]
  },
  {
   "cell_type": "code",
   "execution_count": 30,
   "metadata": {},
   "outputs": [
    {
     "name": "stdout",
     "output_type": "stream",
     "text": [
      "{'n_neighbors': 3} 0.9714285714285714\n"
     ]
    }
   ],
   "source": [
    "# specify the grid of values to test\n",
    "# multiple hyperparameters would each receive a key in the dictionary with its related range\n",
    "param_grid = {'n_neighbors': np.arange(1, 50)}\n",
    "\n",
    "knn = KNeighborsClassifier()\n",
    "\n",
    "knn_cv = GridSearchCV(knn, param_grid, cv=5)\n",
    "\n",
    "knn_cv.fit(x_train, y_train)\n",
    "\n",
    "# print the best value(s) for each hyperparameter and the mean of the best validation score\n",
    "print(knn_cv.best_params_, knn_cv.best_score_)"
   ]
  },
  {
   "cell_type": "code",
   "execution_count": null,
   "metadata": {},
   "outputs": [],
   "source": []
  },
  {
   "cell_type": "code",
   "execution_count": null,
   "metadata": {},
   "outputs": [],
   "source": []
  },
  {
   "cell_type": "code",
   "execution_count": null,
   "metadata": {},
   "outputs": [],
   "source": []
  },
  {
   "cell_type": "markdown",
   "metadata": {},
   "source": [
    "#### Evaluating Model Performance with a Confusion Matrix"
   ]
  },
  {
   "cell_type": "code",
   "execution_count": 31,
   "metadata": {},
   "outputs": [],
   "source": [
    "# assign data to variables\n",
    "x = iris.data\n",
    "y = iris.target\n",
    "df = pd.DataFrame(x, columns=iris.feature_names)"
   ]
  },
  {
   "cell_type": "code",
   "execution_count": 32,
   "metadata": {},
   "outputs": [],
   "source": [
    "# fit and train the model and predict on the test set\n",
    "\n",
    "knn = KNeighborsClassifier(n_neighbors=5)\n",
    "\n",
    "x_train, x_test, y_train, y_test = train_test_split(x, y, test_size=0.4, random_state=42)\n",
    "\n",
    "knn.fit(x_train, y_train)\n",
    "\n",
    "y_pred = knn.predict(x_test)"
   ]
  },
  {
   "cell_type": "code",
   "execution_count": 33,
   "metadata": {},
   "outputs": [
    {
     "name": "stdout",
     "output_type": "stream",
     "text": [
      "[[23  0  0]\n",
      " [ 0 19  0]\n",
      " [ 0  1 17]]\n"
     ]
    }
   ],
   "source": [
    "# print the confusion matrix\n",
    "# labels are 0, 1, 2\n",
    "# predictions are columns\n",
    "# observations are rows\n",
    "# all correct, except that 1 was predicted as 1 that was actually a 2\n",
    "print(confusion_matrix(y_test, y_pred))"
   ]
  },
  {
   "cell_type": "code",
   "execution_count": 34,
   "metadata": {},
   "outputs": [
    {
     "name": "stdout",
     "output_type": "stream",
     "text": [
      "              precision    recall  f1-score   support\n",
      "\n",
      "           0       1.00      1.00      1.00        23\n",
      "           1       0.95      1.00      0.97        19\n",
      "           2       1.00      0.94      0.97        18\n",
      "\n",
      "    accuracy                           0.98        60\n",
      "   macro avg       0.98      0.98      0.98        60\n",
      "weighted avg       0.98      0.98      0.98        60\n",
      "\n"
     ]
    }
   ],
   "source": [
    "# print the classification report\n",
    "print(classification_report(y_test, y_pred))"
   ]
  },
  {
   "cell_type": "markdown",
   "metadata": {},
   "source": [
    "#### Logistic Regression for Classification"
   ]
  },
  {
   "cell_type": "markdown",
   "metadata": {},
   "source": [
    "- Classifying binary decisions\n",
    "    - 0 or 1\n",
    "- Default threshold is 0.5\n",
    "    - 0.5 or higher probability is classified as 1, while less is 0\n",
    "- ROC curve (receiver operating characteristic)\n",
    "    - trying all possible options for the threshold between 0-1\n",
    "    - alters the number of true positives (y) plotted against false positives (x)\n",
    "- AUC (area under the ROC curve)\n",
    "    - if true positive = 1 and false positive = 0, that is the max area under the curve\n",
    "    - the larger area under the curve, the better the model"
   ]
  },
  {
   "cell_type": "markdown",
   "metadata": {},
   "source": [
    "- To use log_reg for multiple classes\n",
    "    - `OneVsRestClassifier(LogisticRegression())` to create your model object"
   ]
  },
  {
   "cell_type": "code",
   "execution_count": 35,
   "metadata": {},
   "outputs": [],
   "source": [
    "# Pima Indians diabetes data\n",
    "diabetes = pd.read_csv('diabetes.csv')"
   ]
  },
  {
   "cell_type": "code",
   "execution_count": 36,
   "metadata": {},
   "outputs": [
    {
     "data": {
      "text/html": [
       "<div>\n",
       "<style scoped>\n",
       "    .dataframe tbody tr th:only-of-type {\n",
       "        vertical-align: middle;\n",
       "    }\n",
       "\n",
       "    .dataframe tbody tr th {\n",
       "        vertical-align: top;\n",
       "    }\n",
       "\n",
       "    .dataframe thead th {\n",
       "        text-align: right;\n",
       "    }\n",
       "</style>\n",
       "<table border=\"1\" class=\"dataframe\">\n",
       "  <thead>\n",
       "    <tr style=\"text-align: right;\">\n",
       "      <th></th>\n",
       "      <th>Pregnancies</th>\n",
       "      <th>Glucose</th>\n",
       "      <th>BloodPressure</th>\n",
       "      <th>SkinThickness</th>\n",
       "      <th>Insulin</th>\n",
       "      <th>BMI</th>\n",
       "      <th>DiabetesPedigreeFunction</th>\n",
       "      <th>Age</th>\n",
       "      <th>Outcome</th>\n",
       "    </tr>\n",
       "  </thead>\n",
       "  <tbody>\n",
       "    <tr>\n",
       "      <th>0</th>\n",
       "      <td>6</td>\n",
       "      <td>148</td>\n",
       "      <td>72</td>\n",
       "      <td>35</td>\n",
       "      <td>0</td>\n",
       "      <td>33.6</td>\n",
       "      <td>0.627</td>\n",
       "      <td>50</td>\n",
       "      <td>1</td>\n",
       "    </tr>\n",
       "    <tr>\n",
       "      <th>1</th>\n",
       "      <td>1</td>\n",
       "      <td>85</td>\n",
       "      <td>66</td>\n",
       "      <td>29</td>\n",
       "      <td>0</td>\n",
       "      <td>26.6</td>\n",
       "      <td>0.351</td>\n",
       "      <td>31</td>\n",
       "      <td>0</td>\n",
       "    </tr>\n",
       "    <tr>\n",
       "      <th>2</th>\n",
       "      <td>8</td>\n",
       "      <td>183</td>\n",
       "      <td>64</td>\n",
       "      <td>0</td>\n",
       "      <td>0</td>\n",
       "      <td>23.3</td>\n",
       "      <td>0.672</td>\n",
       "      <td>32</td>\n",
       "      <td>1</td>\n",
       "    </tr>\n",
       "    <tr>\n",
       "      <th>3</th>\n",
       "      <td>1</td>\n",
       "      <td>89</td>\n",
       "      <td>66</td>\n",
       "      <td>23</td>\n",
       "      <td>94</td>\n",
       "      <td>28.1</td>\n",
       "      <td>0.167</td>\n",
       "      <td>21</td>\n",
       "      <td>0</td>\n",
       "    </tr>\n",
       "    <tr>\n",
       "      <th>4</th>\n",
       "      <td>0</td>\n",
       "      <td>137</td>\n",
       "      <td>40</td>\n",
       "      <td>35</td>\n",
       "      <td>168</td>\n",
       "      <td>43.1</td>\n",
       "      <td>2.288</td>\n",
       "      <td>33</td>\n",
       "      <td>1</td>\n",
       "    </tr>\n",
       "  </tbody>\n",
       "</table>\n",
       "</div>"
      ],
      "text/plain": [
       "   Pregnancies  Glucose  BloodPressure  SkinThickness  Insulin   BMI  \\\n",
       "0            6      148             72             35        0  33.6   \n",
       "1            1       85             66             29        0  26.6   \n",
       "2            8      183             64              0        0  23.3   \n",
       "3            1       89             66             23       94  28.1   \n",
       "4            0      137             40             35      168  43.1   \n",
       "\n",
       "   DiabetesPedigreeFunction  Age  Outcome  \n",
       "0                     0.627   50        1  \n",
       "1                     0.351   31        0  \n",
       "2                     0.672   32        1  \n",
       "3                     0.167   21        0  \n",
       "4                     2.288   33        1  "
      ]
     },
     "execution_count": 36,
     "metadata": {},
     "output_type": "execute_result"
    }
   ],
   "source": [
    "diabetes.head()"
   ]
  },
  {
   "cell_type": "code",
   "execution_count": 37,
   "metadata": {},
   "outputs": [],
   "source": [
    "# divide the data into features and target\n",
    "# to simplify, only using one feature\n",
    "x = diabetes.BMI.values\n",
    "y = diabetes.Outcome.values\n",
    "names = diabetes.drop('Outcome', axis=1).columns\n",
    "\n",
    "x = x.reshape(-1,1)"
   ]
  },
  {
   "cell_type": "code",
   "execution_count": null,
   "metadata": {},
   "outputs": [],
   "source": []
  },
  {
   "cell_type": "code",
   "execution_count": 38,
   "metadata": {},
   "outputs": [
    {
     "name": "stdout",
     "output_type": "stream",
     "text": [
      "[[181  25]\n",
      " [ 81  21]]\n",
      "              precision    recall  f1-score   support\n",
      "\n",
      "           0       0.69      0.88      0.77       206\n",
      "           1       0.46      0.21      0.28       102\n",
      "\n",
      "    accuracy                           0.66       308\n",
      "   macro avg       0.57      0.54      0.53       308\n",
      "weighted avg       0.61      0.66      0.61       308\n",
      "\n"
     ]
    },
    {
     "name": "stderr",
     "output_type": "stream",
     "text": [
      "C:\\Users\\chuck.tucker\\AppData\\Local\\Continuum\\anaconda3\\lib\\site-packages\\sklearn\\linear_model\\logistic.py:432: FutureWarning: Default solver will be changed to 'lbfgs' in 0.22. Specify a solver to silence this warning.\n",
      "  FutureWarning)\n"
     ]
    }
   ],
   "source": [
    "# build, fit, and predict using the model\n",
    "\n",
    "logreg = linear_model.LogisticRegression(solver='lbfgs')\n",
    "\n",
    "x_train, x_test, y_train, y_test = train_test_split(x, y, test_size=0.4, random_state=42)\n",
    "\n",
    "logreg.fit(x_train, y_train)\n",
    "\n",
    "y_pred = logreg.predict(x_test)\n",
    "\n",
    "# compute and print the confusion matrix and classification report\n",
    "print(confusion_matrix(y_test, y_pred))\n",
    "print(classification_report(y_test, y_pred))"
   ]
  },
  {
   "cell_type": "code",
   "execution_count": null,
   "metadata": {},
   "outputs": [],
   "source": []
  },
  {
   "cell_type": "code",
   "execution_count": 39,
   "metadata": {},
   "outputs": [
    {
     "data": {
      "image/png": "[encoded data removed]",
      "text/plain": [
       "<Figure size 432x288 with 1 Axes>"
      ]
     },
     "metadata": {},
     "output_type": "display_data"
    }
   ],
   "source": [
    "# plot ROC curve\n",
    "\n",
    "# build the predicted probabilities\n",
    "# returns an array with two columns: each column contains probabilities for the target values\n",
    "# we are selecting the probability of being a 1\n",
    "y_pred_prob = logreg.predict_proba(x_test)[:,1]\n",
    "\n",
    "# unpack into false positive rate, true positive rate, and thresholds\n",
    "fpr, tpr, thresholds = roc_curve(y_test, y_pred_prob)\n",
    "\n",
    "_ = plt.plot([0,1], [0,1], 'k--')\n",
    "_ = plt.plot(fpr, tpr, label='Logistic Regression')\n",
    "_ = plt.xlabel('False Positive Rate')\n",
    "_ = plt.ylabel('True Positive Rate')\n",
    "_ = plt.title('Logistic Regression ROC Curve')"
   ]
  },
  {
   "cell_type": "code",
   "execution_count": 40,
   "metadata": {},
   "outputs": [
    {
     "name": "stdout",
     "output_type": "stream",
     "text": [
      "0.6582191128878737\n"
     ]
    }
   ],
   "source": [
    "# compute the AUC directly\n",
    "print(roc_auc_score(y_test, y_pred_prob))"
   ]
  },
  {
   "cell_type": "code",
   "execution_count": 41,
   "metadata": {},
   "outputs": [
    {
     "name": "stdout",
     "output_type": "stream",
     "text": [
      "[0.6987963  0.67472222 0.68935185 0.74735849 0.63490566]\n",
      "0.6890269042627533\n"
     ]
    },
    {
     "name": "stderr",
     "output_type": "stream",
     "text": [
      "C:\\Users\\chuck.tucker\\AppData\\Local\\Continuum\\anaconda3\\lib\\site-packages\\sklearn\\linear_model\\logistic.py:432: FutureWarning: Default solver will be changed to 'lbfgs' in 0.22. Specify a solver to silence this warning.\n",
      "  FutureWarning)\n",
      "C:\\Users\\chuck.tucker\\AppData\\Local\\Continuum\\anaconda3\\lib\\site-packages\\sklearn\\linear_model\\logistic.py:432: FutureWarning: Default solver will be changed to 'lbfgs' in 0.22. Specify a solver to silence this warning.\n",
      "  FutureWarning)\n",
      "C:\\Users\\chuck.tucker\\AppData\\Local\\Continuum\\anaconda3\\lib\\site-packages\\sklearn\\linear_model\\logistic.py:432: FutureWarning: Default solver will be changed to 'lbfgs' in 0.22. Specify a solver to silence this warning.\n",
      "  FutureWarning)\n",
      "C:\\Users\\chuck.tucker\\AppData\\Local\\Continuum\\anaconda3\\lib\\site-packages\\sklearn\\linear_model\\logistic.py:432: FutureWarning: Default solver will be changed to 'lbfgs' in 0.22. Specify a solver to silence this warning.\n",
      "  FutureWarning)\n",
      "C:\\Users\\chuck.tucker\\AppData\\Local\\Continuum\\anaconda3\\lib\\site-packages\\sklearn\\linear_model\\logistic.py:432: FutureWarning: Default solver will be changed to 'lbfgs' in 0.22. Specify a solver to silence this warning.\n",
      "  FutureWarning)\n"
     ]
    }
   ],
   "source": [
    "# computing the AUC using cross validatoin\n",
    "cv_scores = cross_val_score(logreg, x, y, cv=5, scoring='roc_auc')\n",
    "print(cv_scores)\n",
    "print(np.mean(cv_scores))"
   ]
  },
  {
   "cell_type": "markdown",
   "metadata": {},
   "source": [
    "#### Hyperparameter Tuning Using GridSearchCV"
   ]
  },
  {
   "cell_type": "markdown",
   "metadata": {},
   "source": [
    "- Logistic regression uses a hyperparameter C\n",
    "    - C controls the inverse of the regularization strength\n",
    "        - large C will overfit, while too small C will underfit"
   ]
  },
  {
   "cell_type": "code",
   "execution_count": 42,
   "metadata": {},
   "outputs": [
    {
     "name": "stdout",
     "output_type": "stream",
     "text": [
      "<class 'pandas.core.frame.DataFrame'>\n",
      "RangeIndex: 768 entries, 0 to 767\n",
      "Data columns (total 9 columns):\n",
      "Pregnancies                 768 non-null int64\n",
      "Glucose                     768 non-null int64\n",
      "BloodPressure               768 non-null int64\n",
      "SkinThickness               541 non-null float64\n",
      "Insulin                     394 non-null float64\n",
      "BMI                         757 non-null float64\n",
      "DiabetesPedigreeFunction    768 non-null float64\n",
      "Age                         768 non-null int64\n",
      "Outcome                     768 non-null int64\n",
      "dtypes: float64(4), int64(5)\n",
      "memory usage: 54.1 KB\n"
     ]
    }
   ],
   "source": [
    "diabetes.Insulin.replace(0, np.nan, inplace=True)\n",
    "diabetes.SkinThickness.replace(0, np.nan, inplace=True)\n",
    "diabetes.BMI.replace(0, np.nan, inplace=True)\n",
    "diabetes.info()"
   ]
  },
  {
   "cell_type": "code",
   "execution_count": 43,
   "metadata": {},
   "outputs": [],
   "source": [
    "# using SimpleImputer, axis=0 means to calculate the mean of the column\n",
    "imp = SimpleImputer(missing_values=np.nan, strategy='mean')\n",
    "x = diabetes.BMI.values\n",
    "x = x.reshape(-1, 1)\n",
    "imp.fit(x)\n",
    "x = imp.transform(x)"
   ]
  },
  {
   "cell_type": "code",
   "execution_count": null,
   "metadata": {},
   "outputs": [],
   "source": []
  },
  {
   "cell_type": "code",
   "execution_count": 44,
   "metadata": {},
   "outputs": [],
   "source": [
    "# split the data\n",
    "# divide the data into features and target\n",
    "# to simplify, only using one feature\n",
    "y = diabetes.Outcome.values\n",
    "names = diabetes.drop('Outcome', axis=1).columns\n",
    "\n",
    "x_train, x_test, y_train, y_test = train_test_split(x, y, test_size=0.4, random_state=42)"
   ]
  },
  {
   "cell_type": "code",
   "execution_count": 45,
   "metadata": {},
   "outputs": [
    {
     "name": "stdout",
     "output_type": "stream",
     "text": [
      "{'C': 0.4393970560760795, 'penalty': 'l2'} 0.6739130434782609\n"
     ]
    }
   ],
   "source": [
    "# setup the hyperparameter grid\n",
    "c_space = np.logspace(-5, 8, 15)\n",
    "param_grid = {'C': c_space, 'penalty': ['l1', 'l2']}\n",
    "\n",
    "\n",
    "# create an instance of the model\n",
    "logreg = linear_model.LogisticRegression(solver='liblinear')\n",
    "\n",
    "# create an instance of the gridsearch object\n",
    "logreg_cv = GridSearchCV(logreg, param_grid, cv=5)\n",
    "\n",
    "# fit the data\n",
    "logreg_cv.fit(x_train, y_train)\n",
    "\n",
    "# print the results\n",
    "print(logreg_cv.best_params_, logreg_cv.best_score_)"
   ]
  },
  {
   "cell_type": "code",
   "execution_count": 46,
   "metadata": {},
   "outputs": [
    {
     "name": "stdout",
     "output_type": "stream",
     "text": [
      "0.6655844155844156\n",
      "[[187  19]\n",
      " [ 84  18]]\n",
      "              precision    recall  f1-score   support\n",
      "\n",
      "           0       0.69      0.91      0.78       206\n",
      "           1       0.49      0.18      0.26       102\n",
      "\n",
      "    accuracy                           0.67       308\n",
      "   macro avg       0.59      0.54      0.52       308\n",
      "weighted avg       0.62      0.67      0.61       308\n",
      "\n"
     ]
    }
   ],
   "source": [
    "logreg_test = linear_model.LogisticRegression(solver='liblinear', C=0.439, penalty='l2')\n",
    "\n",
    "logreg_test.fit(x_train, y_train)\n",
    "\n",
    "y_pred = logreg_test.predict(x_test)\n",
    "\n",
    "# compute and print the confusion matrix and classification report\n",
    "print(logreg_test.score(x_test, y_test))\n",
    "print(confusion_matrix(y_test, y_pred))\n",
    "print(classification_report(y_test, y_pred))"
   ]
  },
  {
   "cell_type": "code",
   "execution_count": null,
   "metadata": {},
   "outputs": [],
   "source": []
  },
  {
   "cell_type": "markdown",
   "metadata": {},
   "source": [
    "Imputing using a pipeline and running the model all at once"
   ]
  },
  {
   "cell_type": "code",
   "execution_count": 47,
   "metadata": {},
   "outputs": [],
   "source": [
    "x = diabetes.BMI.values\n",
    "x = x.reshape(-1, 1)\n",
    "y = diabetes.Outcome.values"
   ]
  },
  {
   "cell_type": "code",
   "execution_count": 48,
   "metadata": {},
   "outputs": [
    {
     "name": "stderr",
     "output_type": "stream",
     "text": [
      "C:\\Users\\chuck.tucker\\AppData\\Local\\Continuum\\anaconda3\\lib\\site-packages\\sklearn\\linear_model\\logistic.py:432: FutureWarning: Default solver will be changed to 'lbfgs' in 0.22. Specify a solver to silence this warning.\n",
      "  FutureWarning)\n"
     ]
    },
    {
     "data": {
      "text/plain": [
       "0.6525974025974026"
      ]
     },
     "execution_count": 48,
     "metadata": {},
     "output_type": "execute_result"
    }
   ],
   "source": [
    "imp = SimpleImputer(missing_values=np.nan, strategy='mean')\n",
    "logreg = linear_model.LogisticRegression(solver='lbfgs')\n",
    "steps = [('imputation', imp), ('logistic_regression', logreg)]\n",
    "pipeline = Pipeline(steps)\n",
    "x_train, x_test, y_train, y_test = train_test_split(x, y, test_size=0.4, random_state=42)\n",
    "pipeline.fit(x_train, y_train)\n",
    "y_pred = pipeline.predict(x_test)\n",
    "pipeline.score(x_test, y_test)"
   ]
  },
  {
   "cell_type": "code",
   "execution_count": null,
   "metadata": {},
   "outputs": [],
   "source": []
  },
  {
   "cell_type": "code",
   "execution_count": null,
   "metadata": {},
   "outputs": [],
   "source": []
  },
  {
   "cell_type": "code",
   "execution_count": null,
   "metadata": {},
   "outputs": [],
   "source": []
  },
  {
   "cell_type": "markdown",
   "metadata": {},
   "source": [
    "## Regression Example"
   ]
  },
  {
   "cell_type": "markdown",
   "metadata": {},
   "source": [
    "#### splitting data to remove the target variables and convert to numpy array\n",
    "```python\n",
    "# separate variables\n",
    "x = df.drop('Target_variable', axis=1).values\n",
    "y = df.Target_variable.values\n",
    "\n",
    "# may need to reshape single columns\n",
    "x_one_feature = x[:,5]\n",
    "x_one_feature.reshape(-1, 1)\n",
    "y.reshape(-1, 1)\n",
    "```"
   ]
  },
  {
   "cell_type": "code",
   "execution_count": 49,
   "metadata": {},
   "outputs": [],
   "source": [
    "# load the boston housing dataset\n",
    "boston = datasets.load_boston()"
   ]
  },
  {
   "cell_type": "code",
   "execution_count": 50,
   "metadata": {},
   "outputs": [
    {
     "name": "stdout",
     "output_type": "stream",
     "text": [
      "dict_keys(['data', 'target', 'feature_names', 'DESCR', 'filename'])\n"
     ]
    }
   ],
   "source": [
    "print(boston.keys())"
   ]
  },
  {
   "cell_type": "markdown",
   "metadata": {},
   "source": [
    "This shows what is in the Bunch object\n",
    "- data\n",
    "- target: target data\n",
    "- target_names\n",
    "- DESCR: description\n",
    "- feature_names"
   ]
  },
  {
   "cell_type": "code",
   "execution_count": 51,
   "metadata": {},
   "outputs": [
    {
     "name": "stdout",
     "output_type": "stream",
     "text": [
      "<class 'numpy.ndarray'> <class 'numpy.ndarray'>\n"
     ]
    }
   ],
   "source": [
    "# both datasets are numpy arrays\n",
    "print(type(boston.data), type(boston.target))"
   ]
  },
  {
   "cell_type": "code",
   "execution_count": 52,
   "metadata": {},
   "outputs": [
    {
     "data": {
      "text/plain": [
       "((506, 13), (506,))"
      ]
     },
     "execution_count": 52,
     "metadata": {},
     "output_type": "execute_result"
    }
   ],
   "source": [
    "# 506 rows (samples) and 13 columns (features)\n",
    "boston.data.shape, boston.target.shape"
   ]
  },
  {
   "cell_type": "code",
   "execution_count": 53,
   "metadata": {},
   "outputs": [
    {
     "data": {
      "text/plain": [
       "array([24. , 21.6, 34.7, 33.4, 36.2])"
      ]
     },
     "execution_count": 53,
     "metadata": {},
     "output_type": "execute_result"
    }
   ],
   "source": [
    "# these are the median prices we are trying to predict\n",
    "boston.target[0:5]"
   ]
  },
  {
   "cell_type": "code",
   "execution_count": 54,
   "metadata": {},
   "outputs": [],
   "source": [
    "# assign data to variables\n",
    "x = boston.data\n",
    "y = boston.target\n",
    "df = pd.DataFrame(x, columns=boston.feature_names)"
   ]
  },
  {
   "cell_type": "code",
   "execution_count": 55,
   "metadata": {},
   "outputs": [
    {
     "data": {
      "text/html": [
       "<div>\n",
       "<style scoped>\n",
       "    .dataframe tbody tr th:only-of-type {\n",
       "        vertical-align: middle;\n",
       "    }\n",
       "\n",
       "    .dataframe tbody tr th {\n",
       "        vertical-align: top;\n",
       "    }\n",
       "\n",
       "    .dataframe thead th {\n",
       "        text-align: right;\n",
       "    }\n",
       "</style>\n",
       "<table border=\"1\" class=\"dataframe\">\n",
       "  <thead>\n",
       "    <tr style=\"text-align: right;\">\n",
       "      <th></th>\n",
       "      <th>CRIM</th>\n",
       "      <th>ZN</th>\n",
       "      <th>INDUS</th>\n",
       "      <th>CHAS</th>\n",
       "      <th>NOX</th>\n",
       "      <th>RM</th>\n",
       "      <th>AGE</th>\n",
       "      <th>DIS</th>\n",
       "      <th>RAD</th>\n",
       "      <th>TAX</th>\n",
       "      <th>PTRATIO</th>\n",
       "      <th>B</th>\n",
       "      <th>LSTAT</th>\n",
       "    </tr>\n",
       "  </thead>\n",
       "  <tbody>\n",
       "    <tr>\n",
       "      <th>0</th>\n",
       "      <td>0.00632</td>\n",
       "      <td>18.0</td>\n",
       "      <td>2.31</td>\n",
       "      <td>0.0</td>\n",
       "      <td>0.538</td>\n",
       "      <td>6.575</td>\n",
       "      <td>65.2</td>\n",
       "      <td>4.0900</td>\n",
       "      <td>1.0</td>\n",
       "      <td>296.0</td>\n",
       "      <td>15.3</td>\n",
       "      <td>396.90</td>\n",
       "      <td>4.98</td>\n",
       "    </tr>\n",
       "    <tr>\n",
       "      <th>1</th>\n",
       "      <td>0.02731</td>\n",
       "      <td>0.0</td>\n",
       "      <td>7.07</td>\n",
       "      <td>0.0</td>\n",
       "      <td>0.469</td>\n",
       "      <td>6.421</td>\n",
       "      <td>78.9</td>\n",
       "      <td>4.9671</td>\n",
       "      <td>2.0</td>\n",
       "      <td>242.0</td>\n",
       "      <td>17.8</td>\n",
       "      <td>396.90</td>\n",
       "      <td>9.14</td>\n",
       "    </tr>\n",
       "    <tr>\n",
       "      <th>2</th>\n",
       "      <td>0.02729</td>\n",
       "      <td>0.0</td>\n",
       "      <td>7.07</td>\n",
       "      <td>0.0</td>\n",
       "      <td>0.469</td>\n",
       "      <td>7.185</td>\n",
       "      <td>61.1</td>\n",
       "      <td>4.9671</td>\n",
       "      <td>2.0</td>\n",
       "      <td>242.0</td>\n",
       "      <td>17.8</td>\n",
       "      <td>392.83</td>\n",
       "      <td>4.03</td>\n",
       "    </tr>\n",
       "    <tr>\n",
       "      <th>3</th>\n",
       "      <td>0.03237</td>\n",
       "      <td>0.0</td>\n",
       "      <td>2.18</td>\n",
       "      <td>0.0</td>\n",
       "      <td>0.458</td>\n",
       "      <td>6.998</td>\n",
       "      <td>45.8</td>\n",
       "      <td>6.0622</td>\n",
       "      <td>3.0</td>\n",
       "      <td>222.0</td>\n",
       "      <td>18.7</td>\n",
       "      <td>394.63</td>\n",
       "      <td>2.94</td>\n",
       "    </tr>\n",
       "    <tr>\n",
       "      <th>4</th>\n",
       "      <td>0.06905</td>\n",
       "      <td>0.0</td>\n",
       "      <td>2.18</td>\n",
       "      <td>0.0</td>\n",
       "      <td>0.458</td>\n",
       "      <td>7.147</td>\n",
       "      <td>54.2</td>\n",
       "      <td>6.0622</td>\n",
       "      <td>3.0</td>\n",
       "      <td>222.0</td>\n",
       "      <td>18.7</td>\n",
       "      <td>396.90</td>\n",
       "      <td>5.33</td>\n",
       "    </tr>\n",
       "  </tbody>\n",
       "</table>\n",
       "</div>"
      ],
      "text/plain": [
       "      CRIM    ZN  INDUS  CHAS    NOX     RM   AGE     DIS  RAD    TAX  \\\n",
       "0  0.00632  18.0   2.31   0.0  0.538  6.575  65.2  4.0900  1.0  296.0   \n",
       "1  0.02731   0.0   7.07   0.0  0.469  6.421  78.9  4.9671  2.0  242.0   \n",
       "2  0.02729   0.0   7.07   0.0  0.469  7.185  61.1  4.9671  2.0  242.0   \n",
       "3  0.03237   0.0   2.18   0.0  0.458  6.998  45.8  6.0622  3.0  222.0   \n",
       "4  0.06905   0.0   2.18   0.0  0.458  7.147  54.2  6.0622  3.0  222.0   \n",
       "\n",
       "   PTRATIO       B  LSTAT  \n",
       "0     15.3  396.90   4.98  \n",
       "1     17.8  396.90   9.14  \n",
       "2     17.8  392.83   4.03  \n",
       "3     18.7  394.63   2.94  \n",
       "4     18.7  396.90   5.33  "
      ]
     },
     "execution_count": 55,
     "metadata": {},
     "output_type": "execute_result"
    }
   ],
   "source": [
    "df.head()"
   ]
  },
  {
   "cell_type": "code",
   "execution_count": 56,
   "metadata": {},
   "outputs": [],
   "source": [
    "# select only one feature for testing purposes\n",
    "x_rooms = df.RM.values"
   ]
  },
  {
   "cell_type": "code",
   "execution_count": 57,
   "metadata": {},
   "outputs": [
    {
     "data": {
      "image/png": "[encoded data removed]",
      "text/plain": [
       "<Figure size 432x288 with 1 Axes>"
      ]
     },
     "metadata": {},
     "output_type": "display_data"
    }
   ],
   "source": [
    "_ = plt.plot(x_rooms, y, marker='.', linestyle='None', color='blue')\n",
    "_ = plt.xlabel('Number of Rooms')\n",
    "_ = plt.ylabel('Median Value in Thousands')\n",
    "_ = plt.title('House Median Value by\\nNumber of Rooms in Boston')"
   ]
  },
  {
   "cell_type": "code",
   "execution_count": 58,
   "metadata": {},
   "outputs": [],
   "source": [
    "# fit the regression model\n",
    "\n",
    "# create an instance of LinearRegression object\n",
    "reg = linear_model.LinearRegression()\n",
    "\n",
    "# need to reshape the data to supply a 2d array\n",
    "# use .reshape(-1, 1) if working with a 1d array\n",
    "# changes from a simple array of numbers, to a column of numbers\n",
    "x_rooms = x_rooms.reshape(-1, 1)\n",
    "y = y.reshape(-1, 1)\n",
    "\n",
    "# fit the model\n",
    "reg.fit(x_rooms, y)\n",
    "\n",
    "# create the prediction space between the min and max x values\n",
    "prediction_space = np.linspace(min(x_rooms), max(x_rooms)).reshape(-1, 1)"
   ]
  },
  {
   "cell_type": "code",
   "execution_count": 59,
   "metadata": {},
   "outputs": [
    {
     "name": "stdout",
     "output_type": "stream",
     "text": [
      "R-squared: 0.4835254559913343\n"
     ]
    }
   ],
   "source": [
    "# display the R^2 value\n",
    "print('R-squared:', reg.score(x_rooms, y))"
   ]
  },
  {
   "cell_type": "code",
   "execution_count": 60,
   "metadata": {},
   "outputs": [
    {
     "data": {
      "image/png": "[encoded data removed]",
      "text/plain": [
       "<Figure size 432x288 with 1 Axes>"
      ]
     },
     "metadata": {},
     "output_type": "display_data"
    }
   ],
   "source": [
    "# plot the resulting regression model over the scatter plot\n",
    "\n",
    "r2 = 'R-squared = ' + str(round(reg.score(x_rooms, y),2))\n",
    "\n",
    "_ = plt.plot(x_rooms, y, marker='.', linestyle='None', color='blue')\n",
    "_ = plt.plot(prediction_space, reg.predict(prediction_space), color='black', linewidth=3)\n",
    "_ = plt.xlabel('Number of Rooms')\n",
    "_ = plt.ylabel('Median House Price in Thousands')\n",
    "_ = plt.title('Regression Model for House Price\\nvs. Number of Rooms in Boston')\n",
    "_ = plt.text(4, 40, r2)"
   ]
  },
  {
   "cell_type": "code",
   "execution_count": 61,
   "metadata": {},
   "outputs": [
    {
     "name": "stdout",
     "output_type": "stream",
     "text": [
      "coefficient:  [[9.10210898]] intercept:  [-34.67062078]\n"
     ]
    }
   ],
   "source": [
    "# display the model parameters\n",
    "print('coefficient: ', reg.coef_, 'intercept: ', reg.intercept_)"
   ]
  },
  {
   "cell_type": "code",
   "execution_count": null,
   "metadata": {},
   "outputs": [],
   "source": []
  },
  {
   "cell_type": "code",
   "execution_count": null,
   "metadata": {},
   "outputs": [],
   "source": []
  },
  {
   "cell_type": "code",
   "execution_count": 62,
   "metadata": {},
   "outputs": [
    {
     "data": {
      "text/plain": [
       "<matplotlib.axes._subplots.AxesSubplot at 0x206ee1d7dd8>"
      ]
     },
     "execution_count": 62,
     "metadata": {},
     "output_type": "execute_result"
    },
    {
     "data": {
      "image/png": "[encoded data removed]",
      "text/plain": [
       "<Figure size 432x288 with 2 Axes>"
      ]
     },
     "metadata": {},
     "output_type": "display_data"
    }
   ],
   "source": [
    "# view a heatmap to check for other variables that might explain some additional variation in y\n",
    "# df.corr() computes pairwise correlations between the columns\n",
    "# green means + correlation and red mean - correlation\n",
    "sns.heatmap(df.corr(), square=True, cmap='RdYlGn')"
   ]
  },
  {
   "cell_type": "markdown",
   "metadata": {},
   "source": [
    "This time, using all of the features from the Boston housing data\n",
    "- normally, you would 'regularize' the data first, rather than just plug and play like this\n",
    "    - regularization penalizes large coefficients for features\n",
    "    - helps prevent overfitting\n",
    "- example of this below"
   ]
  },
  {
   "cell_type": "code",
   "execution_count": 63,
   "metadata": {},
   "outputs": [],
   "source": [
    "# divide the data into train/test\n",
    "x_train, x_test, y_train, y_test = train_test_split(x, y, test_size=0.3, random_state=42)\n",
    "\n",
    "# instantiate the regression object\n",
    "reg_all = linear_model.LinearRegression()\n",
    "\n",
    "# fit the model\n",
    "reg_all.fit(x_train, y_train)\n",
    "\n",
    "# assess the model\n",
    "y_pred = reg_all.predict(x_test)\n",
    "\n",
    "# compute r-squared for accuracy measure\n",
    "rsquared = reg_all.score(x_test, y_test)"
   ]
  },
  {
   "cell_type": "code",
   "execution_count": 64,
   "metadata": {},
   "outputs": [
    {
     "name": "stdout",
     "output_type": "stream",
     "text": [
      "0.711226005748496\n"
     ]
    }
   ],
   "source": [
    "print(rsquared)"
   ]
  },
  {
   "cell_type": "code",
   "execution_count": 65,
   "metadata": {},
   "outputs": [
    {
     "name": "stdout",
     "output_type": "stream",
     "text": [
      "[[-1.33470103e-01  3.58089136e-02  4.95226452e-02  3.11983512e+00\n",
      "  -1.54170609e+01  4.05719923e+00 -1.08208352e-02 -1.38599824e+00\n",
      "   2.42727340e-01 -8.70223437e-03 -9.10685208e-01  1.17941159e-02\n",
      "  -5.47113313e-01]] [31.63108404]\n"
     ]
    }
   ],
   "source": [
    "# view model params\n",
    "# model params with coef exp of +1 or +00 have the largest effect\n",
    "print(reg_all.coef_, reg_all.intercept_)"
   ]
  },
  {
   "cell_type": "code",
   "execution_count": 66,
   "metadata": {},
   "outputs": [
    {
     "data": {
      "text/html": [
       "<div>\n",
       "<style scoped>\n",
       "    .dataframe tbody tr th:only-of-type {\n",
       "        vertical-align: middle;\n",
       "    }\n",
       "\n",
       "    .dataframe tbody tr th {\n",
       "        vertical-align: top;\n",
       "    }\n",
       "\n",
       "    .dataframe thead th {\n",
       "        text-align: right;\n",
       "    }\n",
       "</style>\n",
       "<table border=\"1\" class=\"dataframe\">\n",
       "  <thead>\n",
       "    <tr style=\"text-align: right;\">\n",
       "      <th></th>\n",
       "      <th>features</th>\n",
       "      <th>estimatedCoefficients</th>\n",
       "    </tr>\n",
       "  </thead>\n",
       "  <tbody>\n",
       "    <tr>\n",
       "      <th>0</th>\n",
       "      <td>CRIM</td>\n",
       "      <td>-0.133470</td>\n",
       "    </tr>\n",
       "    <tr>\n",
       "      <th>1</th>\n",
       "      <td>ZN</td>\n",
       "      <td>0.035809</td>\n",
       "    </tr>\n",
       "    <tr>\n",
       "      <th>2</th>\n",
       "      <td>INDUS</td>\n",
       "      <td>0.049523</td>\n",
       "    </tr>\n",
       "    <tr>\n",
       "      <th>3</th>\n",
       "      <td>CHAS</td>\n",
       "      <td>3.119835</td>\n",
       "    </tr>\n",
       "    <tr>\n",
       "      <th>4</th>\n",
       "      <td>NOX</td>\n",
       "      <td>-15.417061</td>\n",
       "    </tr>\n",
       "    <tr>\n",
       "      <th>5</th>\n",
       "      <td>RM</td>\n",
       "      <td>4.057199</td>\n",
       "    </tr>\n",
       "    <tr>\n",
       "      <th>6</th>\n",
       "      <td>AGE</td>\n",
       "      <td>-0.010821</td>\n",
       "    </tr>\n",
       "    <tr>\n",
       "      <th>7</th>\n",
       "      <td>DIS</td>\n",
       "      <td>-1.385998</td>\n",
       "    </tr>\n",
       "    <tr>\n",
       "      <th>8</th>\n",
       "      <td>RAD</td>\n",
       "      <td>0.242727</td>\n",
       "    </tr>\n",
       "    <tr>\n",
       "      <th>9</th>\n",
       "      <td>TAX</td>\n",
       "      <td>-0.008702</td>\n",
       "    </tr>\n",
       "    <tr>\n",
       "      <th>10</th>\n",
       "      <td>PTRATIO</td>\n",
       "      <td>-0.910685</td>\n",
       "    </tr>\n",
       "    <tr>\n",
       "      <th>11</th>\n",
       "      <td>B</td>\n",
       "      <td>0.011794</td>\n",
       "    </tr>\n",
       "    <tr>\n",
       "      <th>12</th>\n",
       "      <td>LSTAT</td>\n",
       "      <td>-0.547113</td>\n",
       "    </tr>\n",
       "  </tbody>\n",
       "</table>\n",
       "</div>"
      ],
      "text/plain": [
       "   features  estimatedCoefficients\n",
       "0      CRIM              -0.133470\n",
       "1        ZN               0.035809\n",
       "2     INDUS               0.049523\n",
       "3      CHAS               3.119835\n",
       "4       NOX             -15.417061\n",
       "5        RM               4.057199\n",
       "6       AGE              -0.010821\n",
       "7       DIS              -1.385998\n",
       "8       RAD               0.242727\n",
       "9       TAX              -0.008702\n",
       "10  PTRATIO              -0.910685\n",
       "11        B               0.011794\n",
       "12    LSTAT              -0.547113"
      ]
     },
     "execution_count": 66,
     "metadata": {},
     "output_type": "execute_result"
    }
   ],
   "source": [
    "pd.DataFrame({'features': np.array(boston.feature_names), 'estimatedCoefficients': reg_all.coef_[0]})[['features', 'estimatedCoefficients']]"
   ]
  },
  {
   "cell_type": "markdown",
   "metadata": {},
   "source": [
    "#### Cross Validation for Linear Regression Using scikit-learn\n",
    "- Boston housing dataset"
   ]
  },
  {
   "cell_type": "code",
   "execution_count": 67,
   "metadata": {},
   "outputs": [
    {
     "name": "stdout",
     "output_type": "stream",
     "text": [
      "[ 0.63919994  0.71386698  0.58702344  0.07923081 -0.25294154]\n",
      "0.3532759243958772\n"
     ]
    }
   ],
   "source": [
    "# assign data to variables\n",
    "\n",
    "# features\n",
    "x = boston.data\n",
    "\n",
    "# target\n",
    "y = boston.target\n",
    "\n",
    "# instantiate the model\n",
    "reg = linear_model.LinearRegression()\n",
    "\n",
    "# do the cross validation with cv=5 for 5-fold validation\n",
    "# returns an array of cross validation scores of length 'cv'\n",
    "# r-squared is reported as this is the default for linear regression\n",
    "cv_results = cross_val_score(reg, x, y, cv=5)\n",
    "\n",
    "print(cv_results)\n",
    "print(np.mean(cv_results))"
   ]
  },
  {
   "cell_type": "markdown",
   "metadata": {},
   "source": [
    "#### Linear Regression with Regularization"
   ]
  },
  {
   "cell_type": "markdown",
   "metadata": {},
   "source": [
    "- Ridge Regression\n",
    "    - loss function is OLS + the sum of the squared features coefficients times a hyperparameter (alpha or lambda depending on who you ask)\n",
    "    - must choose an alpha, similar to how k is chosen for k-NN\n",
    "    - 0 for alpha/lambda returns OLS and can lead to overfitting, and very high alpha overpenalizes leading to an extremely simple model that underfits"
   ]
  },
  {
   "cell_type": "code",
   "execution_count": 68,
   "metadata": {},
   "outputs": [
    {
     "name": "stdout",
     "output_type": "stream",
     "text": [
      "0.6996938275127313\n"
     ]
    }
   ],
   "source": [
    "# divide the data into train/test\n",
    "x_train, x_test, y_train, y_test = train_test_split(x, y, test_size=0.3, random_state=42)\n",
    "\n",
    "# choose alpha value\n",
    "# normalize=True ensures variables are on the same scale (divide by variances?)\n",
    "ridge = linear_model.Ridge(alpha=0.1, normalize=True)\n",
    "ridge.fit(x_train, y_train)\n",
    "ridge_pred = ridge.predict(x_test)\n",
    "print(ridge.score(x_test, y_test))"
   ]
  },
  {
   "cell_type": "markdown",
   "metadata": {},
   "source": [
    "Ridge Regression to Select alpha from DataCamp"
   ]
  },
  {
   "cell_type": "code",
   "execution_count": 69,
   "metadata": {},
   "outputs": [],
   "source": [
    "# ridge regression to select alpha\n",
    "\n",
    "def display_plot(cv_scores, cv_scores_std):\n",
    "    fig = plt.figure()\n",
    "    ax = fig.add_subplot(1,1,1)\n",
    "    ax.plot(alpha_space, cv_scores)\n",
    "\n",
    "    std_error = cv_scores_std / np.sqrt(10)\n",
    "\n",
    "    ax.fill_between(alpha_space, cv_scores + std_error, cv_scores - std_error, alpha=0.2)\n",
    "    ax.set_ylabel('CV Score +/- Std Error')\n",
    "    ax.set_xlabel('Alpha')\n",
    "    ax.axhline(np.max(cv_scores), linestyle='--', color='.5')\n",
    "    ax.set_xlim([alpha_space[0], alpha_space[-1]])\n",
    "    ax.set_xscale('log')\n",
    "    plt.show()"
   ]
  },
  {
   "cell_type": "code",
   "execution_count": 70,
   "metadata": {},
   "outputs": [
    {
     "data": {
      "image/png": "[encoded data removed]",
      "text/plain": [
       "<Figure size 432x288 with 1 Axes>"
      ]
     },
     "metadata": {},
     "output_type": "display_data"
    }
   ],
   "source": [
    "# Setup the array of alphas and lists to store scores\n",
    "alpha_space = np.logspace(-4, 0, 50)\n",
    "ridge_scores = []\n",
    "ridge_scores_std = []\n",
    "\n",
    "# Create a ridge regressor: ridge\n",
    "ridge = linear_model.Ridge(normalize=True)\n",
    "\n",
    "# Compute scores over range of alphas\n",
    "for alpha in alpha_space:\n",
    "\n",
    "    # Specify the alpha value to use: ridge.alpha\n",
    "    ridge.alpha = alpha\n",
    "    \n",
    "    # Perform 10-fold CV: ridge_cv_scores\n",
    "    ridge_cv_scores = cross_val_score(ridge, x, y, cv=10)\n",
    "    \n",
    "    # Append the mean of ridge_cv_scores to ridge_scores\n",
    "    ridge_scores.append(np.mean(ridge_cv_scores))\n",
    "    \n",
    "    # Append the std of ridge_cv_scores to ridge_scores_std\n",
    "    ridge_scores_std.append(np.std(ridge_cv_scores))\n",
    "\n",
    "# Display the plot\n",
    "display_plot(ridge_scores, ridge_scores_std)"
   ]
  },
  {
   "cell_type": "markdown",
   "metadata": {},
   "source": [
    "Hyperparameter tuning to get alpha using GridSearchCV\n",
    "- Not sure if the first instance of ridge should use normalize=True or not"
   ]
  },
  {
   "cell_type": "code",
   "execution_count": 71,
   "metadata": {},
   "outputs": [
    {
     "name": "stdout",
     "output_type": "stream",
     "text": [
      "{'alpha': 0.0} 0.6880930139238904\n"
     ]
    }
   ],
   "source": [
    "# divide the data into train/test\n",
    "x_train, x_test, y_train, y_test = train_test_split(x, y, test_size=0.3, random_state=42)\n",
    "\n",
    "# specify the grid of values to test\n",
    "# multiple hyperparameters would each receive a key in the dictionary with its related range\n",
    "param_grid = {'alpha': np.arange(0, 1, 0.01)}\n",
    "\n",
    "ridge = linear_model.Ridge()\n",
    "\n",
    "ridge_cv = GridSearchCV(ridge, param_grid, cv=5)\n",
    "\n",
    "ridge_cv.fit(x_train, y_train)\n",
    "\n",
    "# print the best value(s) for each hyperparameter and the mean of the best validation score\n",
    "print(ridge_cv.best_params_, ridge_cv.best_score_)"
   ]
  },
  {
   "cell_type": "code",
   "execution_count": 72,
   "metadata": {},
   "outputs": [
    {
     "name": "stdout",
     "output_type": "stream",
     "text": [
      "0.6249053531380654\n"
     ]
    }
   ],
   "source": [
    "# choose alpha value\n",
    "# normalize=True ensures variables are on the same scale (divide by variances?)\n",
    "ridge = linear_model.Ridge(alpha=0.99, normalize=True)\n",
    "ridge.fit(x_train, y_train)\n",
    "ridge_pred = ridge.predict(x_test)\n",
    "print(ridge.score(x_test, y_test))"
   ]
  },
  {
   "cell_type": "code",
   "execution_count": null,
   "metadata": {},
   "outputs": [],
   "source": []
  },
  {
   "cell_type": "markdown",
   "metadata": {},
   "source": [
    "- Lasso Regression\n",
    "    - loss function is OLS + sum of the absolute values of the feature coefficients times the hyperparameter alpha/lambda\n",
    "    - less overall penalty for large feature coefficients\n",
    "    - **helps with features selection**\n",
    "        - tends to shrink coefficients of less important features to exactly 0 (dimension reduction)"
   ]
  },
  {
   "cell_type": "code",
   "execution_count": 73,
   "metadata": {},
   "outputs": [
    {
     "name": "stdout",
     "output_type": "stream",
     "text": [
      "0.5950229535328551\n"
     ]
    }
   ],
   "source": [
    "# divide the data into train/test\n",
    "x_train, x_test, y_train, y_test = train_test_split(x, y, test_size=0.3, random_state=42)\n",
    "\n",
    "# choose alpha value\n",
    "# normalize=True ensures variables are on the same scale (divide by variances?)\n",
    "lasso = linear_model.Lasso(alpha=0.1, normalize=True)\n",
    "lasso.fit(x_train, y_train)\n",
    "lasso_pred = lasso.predict(x_test)\n",
    "print(lasso.score(x_test, y_test))"
   ]
  },
  {
   "cell_type": "markdown",
   "metadata": {},
   "source": [
    "- Feature Selection with Lasso Regression\n",
    "    - be sure to include normalize=True\n",
    "- Choose only features with coefficients that are not 0"
   ]
  },
  {
   "cell_type": "code",
   "execution_count": 74,
   "metadata": {},
   "outputs": [
    {
     "name": "stdout",
     "output_type": "stream",
     "text": [
      "[-0.          0.         -0.          0.         -0.          2.95469455\n",
      " -0.          0.         -0.         -0.         -0.24795837  0.\n",
      " -0.42817439]\n"
     ]
    },
    {
     "data": {
      "image/png": "[encoded data removed]",
      "text/plain": [
       "<Figure size 432x288 with 1 Axes>"
      ]
     },
     "metadata": {},
     "output_type": "display_data"
    }
   ],
   "source": [
    "# assign data to variables\n",
    "x = boston.data\n",
    "y = boston.target\n",
    "df = pd.DataFrame(x, columns=boston.feature_names)\n",
    "\n",
    "# extract feature names omitting the target\n",
    "names = df.columns\n",
    "\n",
    "lasso = linear_model.Lasso(alpha=0.1, normalize=True)\n",
    "\n",
    "# extract the .coef_ attribute from the model\n",
    "lasso_coef = lasso.fit(x, y).coef_\n",
    "\n",
    "print(lasso_coef)\n",
    "\n",
    "_ = plt.plot(range(len(names)), lasso_coef)\n",
    "_ = plt.xticks(range(len(names)), names, rotation=60)\n",
    "_ = plt.ylabel('Coefficients')\n",
    "_ = plt.title('Feature Coefficients of Lasso Regression')"
   ]
  },
  {
   "cell_type": "code",
   "execution_count": null,
   "metadata": {},
   "outputs": [],
   "source": []
  },
  {
   "cell_type": "code",
   "execution_count": null,
   "metadata": {},
   "outputs": [],
   "source": []
  },
  {
   "cell_type": "markdown",
   "metadata": {},
   "source": [
    "## NLP Basics\n",
    "- Strategies\n",
    "    - Bag of Words\n",
    "        - use each word individually and count the number of appearances as the features\n",
    "    - N-grams\n",
    "        - use combinations of words as features\n",
    "        - 2-grams uses every combination of adjacent 2-words\n",
    "            - 'This movie was very horrible and I hated it.'\n",
    "                - 'This movie', 'movie was', 'was very', 'very horrible', 'horrible and', 'and I', 'I hated', 'hated it'\n",
    "- Create your vocabulary\n",
    "    - `vectorizer_object.fit(text_feature_data)`\n",
    "- Tips/Tricks\n",
    "    - tokenize on punctuation to avoid hyphens/underscores etc. if present (could help)\n",
    "        - `CountVectorizer(token_pattern=TOKENS_ALPHANUMERIC)`\n",
    "    - include uni-grams and bi-grams in the model\n",
    "        - `CountVectorizer(ngram_range=(1,2))`\n",
    "    - include interactions (can be used with non-text data too)\n",
    "        - `interaction = PolynomialFeatures(degree=2, interaction_only=True, include_bias=False)`\n",
    "            - can add whatever degree you want, but 2 is the interaction between 2 features (at a time)\n",
    "    - use `HashingVectorizer` instead of `CountVectorizer`\n",
    "        - needs extra args for straight replace `norm=None, non_negative=True`\n",
    "- Vectorize the text (turn it into a vector of 1's (appearance) and 0's (non appearance))\n",
    "    ```python\n",
    "    # using a pipeline and bag of words\n",
    "    X_train, y_train, X_test, y_test = train_test_split(df.text_column, pd.get_dummies(df.y_values), test_size=0.25)\n",
    "    \n",
    "    pl = Pipeline([\n",
    "                   ('vec', Vectorizer()),\n",
    "                   ('clf', OneVsRestClassifier(LogisticRegresssion())\n",
    "                 )]\n",
    "        \n",
    "    pl.fit(X_train, y_train)\n",
    "    pl.score(X_test, y_test)\n",
    "    ```"
   ]
  },
  {
   "cell_type": "markdown",
   "metadata": {},
   "source": [
    "- Using HashingVectorizer\n",
    "\n",
    "```python\n",
    "# Import HashingVectorizer\n",
    "from sklearn.feature_extraction.text import HashingVectorizer\n",
    "\n",
    "# Get text data: text_data\n",
    "text_data = combine_text_columns(X_train)\n",
    "\n",
    "# Create the token pattern: TOKENS_ALPHANUMERIC\n",
    "TOKENS_ALPHANUMERIC = '[A-Za-z0-9]+(?=\\\\s+)' \n",
    "\n",
    "# Instantiate the HashingVectorizer: hashing_vec\n",
    "# can drop this into a pipeline ('vec', HashingVectorizer...)\n",
    "hashing_vec = HashingVectorizer(norm=None, non_negative=True, token_pattern=TOKENS_ALPHANUMERIC, ngram_range(1,2))\n",
    "\n",
    "# Fit and transform the Hashing Vectorizer\n",
    "hashed_text = hashing_vec.fit_transform(text_data)\n",
    "```"
   ]
  },
  {
   "cell_type": "markdown",
   "metadata": {},
   "source": [
    "## Working with Text and Numeric Data in One Model\n",
    "- Strategy\n",
    "    - split the train/test data\n",
    "    - get text data and numeric data separately using FunctionTransformer()\n",
    "    - can combine all text columns into a single column\n",
    "    - create separate pipelines\n",
    "    - combine the data using FeatureUnion()"
   ]
  },
  {
   "cell_type": "markdown",
   "metadata": {},
   "source": [
    "#### Numeric/text data example\n",
    "```python\n",
    "\n",
    "# validate=False tells sklearn not to check for NaN's or validate the dtypes\n",
    "\n",
    "# lambda function is just getting the 'text' column from the 'x' dataframe passed\n",
    "# this can be called independently with a df as an arg or passed to a pipeline\n",
    "# if calling independently use get_text_data.fit_transform(df)\n",
    "get_text_data = FunctionTransformer(lambda x: x['text'], validate=False)\n",
    "\n",
    "# lambda function is just getting the columns 'num1' and 'num2' from the 'x' dataframe passed\n",
    "# this can be called independently with a df as an arg or passed to a pipeline\n",
    "# if calling independently use get_numeric_data.fit_transform(df)\n",
    "get_numeric_data = FunctionTransformer(lambda: x: x[['num1', 'num2']], validate=False)\n",
    "\n",
    "# create the separate pipelines using your function transformers\n",
    "numeric_pipeline = Pipeline([\n",
    "                             ('selector', get_numeric_data),\n",
    "                             ('imputer', SimpleImputer())\n",
    "                           ])\n",
    "\n",
    "text_pipeline = Pipeline([\n",
    "                             ('selector', get_text_data),\n",
    "                             ('vectorizer', CountVectorizer())\n",
    "                           ])\n",
    "\n",
    "# combin the text and numeric data features\n",
    "union = FeatureUnion([\n",
    "                      ('numeric', numeric_pipeline),\n",
    "                      ('text', text_pipeline)\n",
    "                    ])\n",
    "\n",
    "# create the union pipeline\n",
    "pl = Pipeline([\n",
    "                ('union', FeatureUnion([\n",
    "                                        ('numeric', numeric_pipeline),\n",
    "                                        ('text', text_pipeline)\n",
    "                                       ])),\n",
    "                ('clf', OneVsRestClassifier(LogisticRegression()))\n",
    "             ])\n",
    "\n",
    "# fit the data\n",
    "pl.fit(X_train, y_train)\n",
    "\n",
    "# get the accuracy\n",
    "pl.score(X_test, y_test)\n",
    "```"
   ]
  },
  {
   "cell_type": "code",
   "execution_count": null,
   "metadata": {},
   "outputs": [],
   "source": []
  },
  {
   "cell_type": "markdown",
   "metadata": {},
   "source": [
    "## Unsupervised Learning"
   ]
  },
  {
   "cell_type": "markdown",
   "metadata": {},
   "source": [
    "### K-Means Clustering"
   ]
  },
  {
   "cell_type": "code",
   "execution_count": 75,
   "metadata": {},
   "outputs": [],
   "source": [
    "# load iris data\n",
    "iris = datasets.load_iris()\n",
    "\n",
    "# assign data to variables\n",
    "x = iris.data\n",
    "y = iris.target\n",
    "df = pd.DataFrame(x, columns=iris.feature_names)"
   ]
  },
  {
   "cell_type": "code",
   "execution_count": 76,
   "metadata": {},
   "outputs": [
    {
     "name": "stdout",
     "output_type": "stream",
     "text": [
      "<class 'numpy.ndarray'> (150, 4)\n"
     ]
    }
   ],
   "source": [
    "print(type(x), x.shape)"
   ]
  },
  {
   "cell_type": "code",
   "execution_count": 77,
   "metadata": {},
   "outputs": [
    {
     "data": {
      "text/plain": [
       "KMeans(algorithm='auto', copy_x=True, init='k-means++', max_iter=300,\n",
       "       n_clusters=3, n_init=10, n_jobs=None, precompute_distances='auto',\n",
       "       random_state=None, tol=0.0001, verbose=0)"
      ]
     },
     "execution_count": 77,
     "metadata": {},
     "output_type": "execute_result"
    }
   ],
   "source": [
    "# build the model\n",
    "model = KMeans(n_clusters=3)\n",
    "\n",
    "# fit the model\n",
    "model.fit(x)"
   ]
  },
  {
   "cell_type": "code",
   "execution_count": 78,
   "metadata": {},
   "outputs": [],
   "source": [
    "# predict using the model on the same data used to train\n",
    "pred = model.predict(x)\n",
    "\n",
    "# assign the centroids to variables\n",
    "centroids = model.cluster_centers_\n",
    "\n",
    "# Assign the columns of centroids: centroids_x, centroids_y\n",
    "centroids_x = centroids[:,0]\n",
    "centroids_y = centroids[:,2]"
   ]
  },
  {
   "cell_type": "code",
   "execution_count": 79,
   "metadata": {},
   "outputs": [],
   "source": [
    "# can assign labels based on this model by feeding a new array with 4 columns to model.predict(new_data)\n",
    "\n",
    "# should use StandardScaler for KMeans if the features don't have equal variances/ranges"
   ]
  },
  {
   "cell_type": "code",
   "execution_count": 80,
   "metadata": {},
   "outputs": [
    {
     "data": {
      "image/png": "[encoded data removed]",
      "text/plain": [
       "<Figure size 432x288 with 1 Axes>"
      ]
     },
     "metadata": {},
     "output_type": "display_data"
    }
   ],
   "source": [
    "# visualize the clusters using 2 of the 4 features\n",
    "xs = x[:,0]   # get the first column\n",
    "ys = x[:,2]   # get the third column\n",
    "\n",
    "\n",
    "# build the plot with the scatter of the data and include cluster centers (centroids)\n",
    "_ = plt.scatter(xs, ys, c=pred)\n",
    "_ = plt.scatter(centroids_x, centroids_y, marker='D', s=50)\n",
    "_ = plt.title('K-Means Clustering of Iris Data')\n",
    "_ = plt.xlabel('Sepal Length (cm)')\n",
    "_ = plt.ylabel('Petal Length (cm)')"
   ]
  },
  {
   "cell_type": "code",
   "execution_count": 81,
   "metadata": {},
   "outputs": [
    {
     "name": "stdout",
     "output_type": "stream",
     "text": [
      "Model Inertia: 78.85144142614601\n"
     ]
    }
   ],
   "source": [
    "# evaluate the model\n",
    "\n",
    "# display the inertia (measure involving spread of clusters/distance of points from centroid)\n",
    "print('Model Inertia: {}'.format(model.inertia_))"
   ]
  },
  {
   "cell_type": "code",
   "execution_count": 82,
   "metadata": {},
   "outputs": [
    {
     "data": {
      "image/png": "[encoded data removed]",
      "text/plain": [
       "<Figure size 432x288 with 1 Axes>"
      ]
     },
     "metadata": {},
     "output_type": "display_data"
    }
   ],
   "source": [
    "# evaluating the inertia for different k choices\n",
    "# elbox method for choosing the best k\n",
    "ks = []\n",
    "ins = []\n",
    "\n",
    "for i in range(10):\n",
    "    # start at 1\n",
    "    k = i + 1\n",
    "    \n",
    "    # build the model\n",
    "    model = KMeans(n_clusters=k)\n",
    "\n",
    "    # fit the model\n",
    "    model.fit(x)\n",
    "    \n",
    "    # store the results\n",
    "    ks.append(k)\n",
    "    ins.append(model.inertia_)\n",
    "\n",
    "inerts = pd.DataFrame({'k': ks, 'inertia': ins})\n",
    "\n",
    "_ = plt.plot(inerts.k, inerts.inertia, marker='o', color='b')\n",
    "_ = plt.title('K vs. Inertia for Iris Data')\n",
    "_ = plt.xlabel('K Clusters')\n",
    "_ = plt.ylabel('Inertia')"
   ]
  },
  {
   "cell_type": "code",
   "execution_count": 83,
   "metadata": {},
   "outputs": [
    {
     "data": {
      "image/png": "[encoded data removed]",
      "text/plain": [
       "<Figure size 864x576 with 1 Axes>"
      ]
     },
     "metadata": {},
     "output_type": "display_data"
    }
   ],
   "source": [
    "# using hierarchical clustering on iris data\n",
    "mergings = linkage(x, method='average')\n",
    "\n",
    "_ = plt.figure(figsize=(12,8))\n",
    "_ = dendrogram(mergings, labels=y, leaf_rotation=0, leaf_font_size=8)\n",
    "_ = plt.title('Iris Dengrogram')\n",
    "_ = plt.xlabel('Species Code')\n",
    "_ = plt.ylabel('Distance')"
   ]
  },
  {
   "cell_type": "code",
   "execution_count": 84,
   "metadata": {},
   "outputs": [],
   "source": [
    "# store the cluster assignments and compare to the species codes\n",
    "labels = fcluster(mergings, 0.3, criterion='distance')\n",
    "\n",
    "check = pd.DataFrame({'labels': labels, 'species_code': y})\n",
    "check.sort_values('labels', inplace=True)"
   ]
  },
  {
   "cell_type": "code",
   "execution_count": 85,
   "metadata": {},
   "outputs": [
    {
     "data": {
      "image/png": "[encoded data removed]",
      "text/plain": [
       "<Figure size 432x288 with 1 Axes>"
      ]
     },
     "metadata": {},
     "output_type": "display_data"
    }
   ],
   "source": [
    "# visualize the results\n",
    "# the 0 cluster came out well\n",
    "# 1 and 2 were kinda mixed, as evident on the dengrogram\n",
    "_ = plt.scatter(check.labels, check.species_code, c=check.species_code)"
   ]
  },
  {
   "cell_type": "markdown",
   "metadata": {},
   "source": [
    "## t-SNE for Visualizing High Dimensional Data in 2-d"
   ]
  },
  {
   "cell_type": "code",
   "execution_count": 86,
   "metadata": {},
   "outputs": [
    {
     "data": {
      "image/png": "[encoded data removed]",
      "text/plain": [
       "<Figure size 432x288 with 1 Axes>"
      ]
     },
     "metadata": {},
     "output_type": "display_data"
    }
   ],
   "source": [
    "# t-SNE with the 4-d iris data\n",
    "\n",
    "# good learning rate choices are usually between 50 and 200\n",
    "# trial and error to get a good one\n",
    "model = TSNE(learning_rate=100)\n",
    "\n",
    "# fit transform the data\n",
    "transformed = model.fit_transform(x)\n",
    "\n",
    "# create x/y for scatter plot\n",
    "xs = transformed[:,0]\n",
    "ys = transformed[:,1]\n",
    "\n",
    "# create the plot\n",
    "# axis values/scales are not really interpretable\n",
    "_ = plt.scatter(xs, ys, c=y, cmap='Set2')\n",
    "_ = plt.title('t-SNE Representation of Iris 4-D Data')"
   ]
  },
  {
   "cell_type": "markdown",
   "metadata": {},
   "source": [
    "#### Principal Component Analysis (PCA) on Iris Data\n",
    "- Generate PCA Features\n",
    "    - create PCA object\n",
    "    - cit and transform to the sample data\n",
    "    - you can view the components (no dimension reduction yet)\n",
    "- To Find Principal Components\n",
    "    - these are the components with significant variance (intrinsic dimension)"
   ]
  },
  {
   "cell_type": "code",
   "execution_count": 87,
   "metadata": {},
   "outputs": [
    {
     "name": "stdout",
     "output_type": "stream",
     "text": [
      "[[ 0.36138659 -0.08452251  0.85667061  0.3582892 ]\n",
      " [ 0.65658877  0.73016143 -0.17337266 -0.07548102]\n",
      " [-0.58202985  0.59791083  0.07623608  0.54583143]\n",
      " [-0.31548719  0.3197231   0.47983899 -0.75365743]]\n"
     ]
    }
   ],
   "source": [
    "# create PCA instance\n",
    "# can specify n_components for PCA objects, and want to use the intrinsic dimension of the data if known\n",
    "# this is necessary for dimension reduction, otherwise you will get the same number of features as the data\n",
    "pca = PCA()\n",
    "\n",
    "# fit on sample data\n",
    "pca.fit(x)\n",
    "\n",
    "# can use to transform sample data or test/unseen data\n",
    "x_pca = pca.transform(x)\n",
    "\n",
    "# this new transformed array still has the same number of features as the original data\n",
    "# the rows are still observations and the columns are now the transformed PCA features\n",
    "# pca features are not correlated even if the original features were\n",
    "\n",
    "# components_ attribute of a pca transform object will provide the principal components\n",
    "# returns a numpy array with one row for each component\n",
    "print(pca.components_)"
   ]
  },
  {
   "cell_type": "code",
   "execution_count": 88,
   "metadata": {},
   "outputs": [
    {
     "name": "stdout",
     "output_type": "stream",
     "text": [
      "[4.22824171 0.24267075 0.0782095  0.02383509]\n"
     ]
    }
   ],
   "source": [
    "# the explained variance of each feature is contained in the explained_variance_ attribute\n",
    "# only features above a chosen threshold are used for the principal components\n",
    "print(pca.explained_variance_)"
   ]
  },
  {
   "cell_type": "code",
   "execution_count": 89,
   "metadata": {},
   "outputs": [
    {
     "data": {
      "image/png": "[encoded data removed]",
      "text/plain": [
       "<Figure size 432x288 with 1 Axes>"
      ]
     },
     "metadata": {},
     "output_type": "display_data"
    }
   ],
   "source": [
    "# plot the variances of the PCA features\n",
    "\n",
    "# create range enumerating the pca features\n",
    "features = range(pca.n_components_)\n",
    "\n",
    "# make a bar plot of variances\n",
    "_ = plt.bar(features, pca.explained_variance_)\n",
    "_ = plt.xticks(features)\n",
    "_ = plt.xlabel('PCA Feature')\n",
    "_ = plt.ylabel('Variance')\n",
    "_ = plt.title('PCA for Iris Data Set')"
   ]
  },
  {
   "cell_type": "markdown",
   "metadata": {},
   "source": [
    "This plot shows that the intrinsic dimension for iris data is really 1"
   ]
  },
  {
   "cell_type": "code",
   "execution_count": 90,
   "metadata": {},
   "outputs": [],
   "source": [
    "y2 = pd.DataFrame({'species': y})"
   ]
  },
  {
   "cell_type": "code",
   "execution_count": 91,
   "metadata": {},
   "outputs": [],
   "source": [
    "species = y2.species.map({0: 'blue', 1: 'red', 2: 'green'})"
   ]
  },
  {
   "cell_type": "code",
   "execution_count": 92,
   "metadata": {},
   "outputs": [
    {
     "data": {
      "image/png": "[encoded data removed]",
      "text/plain": [
       "<Figure size 432x288 with 1 Axes>"
      ]
     },
     "metadata": {},
     "output_type": "display_data"
    }
   ],
   "source": [
    "# reducing the dimension of the iris data to 1 (intrinsic dimension)\n",
    "model = PCA(n_components=1)\n",
    "\n",
    "transformed = model.fit_transform(x)\n",
    "\n",
    "xs = np.zeros(transformed.shape)\n",
    "\n",
    "_ = plt.scatter(xs, transformed, c=species, cmap='Set2', alpha=0.3)\n",
    "_ = plt.ylabel('Principal Component Value')\n",
    "_ = plt.title('Iris PCA with 1 Principal Component')"
   ]
  },
  {
   "cell_type": "code",
   "execution_count": 93,
   "metadata": {},
   "outputs": [
    {
     "data": {
      "image/png": "[encoded data removed]",
      "text/plain": [
       "<Figure size 432x288 with 1 Axes>"
      ]
     },
     "metadata": {},
     "output_type": "display_data"
    }
   ],
   "source": [
    "# same analysis using 2 PC's\n",
    "\n",
    "model = PCA(n_components=2)\n",
    "\n",
    "transformed = model.fit_transform(x)\n",
    "\n",
    "xs = transformed[:,0]\n",
    "ys = transformed[:,1]\n",
    "\n",
    "_ = plt.scatter(xs, ys, c=y, cmap='Set2')\n",
    "_ = plt.xlabel('Principal Component 1')\n",
    "_ = plt.ylabel('Principal Component 2')\n",
    "_ = plt.title('Iris Data with 2 Principal Components')"
   ]
  },
  {
   "cell_type": "markdown",
   "metadata": {},
   "source": [
    "#### Sparse Arrays and PCA\n",
    "- use `TruncatedSVD()` instead of `PCA()`\n",
    "    - specify the `n_components` the same way as PCA\n",
    "    - other syntax for fitting/transforming is the same"
   ]
  },
  {
   "cell_type": "markdown",
   "metadata": {},
   "source": [
    "#### Dimension Reduction Using Non-negative Matrix Factorization (NMF)\n",
    "- works on sparse arrays and regular arrays\n",
    "- same basic syntax as PCA(), but you must specify n_components"
   ]
  },
  {
   "cell_type": "code",
   "execution_count": 94,
   "metadata": {},
   "outputs": [
    {
     "data": {
      "text/html": [
       "<div>\n",
       "<style scoped>\n",
       "    .dataframe tbody tr th:only-of-type {\n",
       "        vertical-align: middle;\n",
       "    }\n",
       "\n",
       "    .dataframe tbody tr th {\n",
       "        vertical-align: top;\n",
       "    }\n",
       "\n",
       "    .dataframe thead th {\n",
       "        text-align: right;\n",
       "    }\n",
       "</style>\n",
       "<table border=\"1\" class=\"dataframe\">\n",
       "  <thead>\n",
       "    <tr style=\"text-align: right;\">\n",
       "      <th></th>\n",
       "      <th>critic</th>\n",
       "      <th>fresh</th>\n",
       "      <th>imdb</th>\n",
       "      <th>publication</th>\n",
       "      <th>quote</th>\n",
       "      <th>review_date</th>\n",
       "      <th>rtid</th>\n",
       "      <th>title</th>\n",
       "    </tr>\n",
       "  </thead>\n",
       "  <tbody>\n",
       "    <tr>\n",
       "      <th>1</th>\n",
       "      <td>Derek Adams</td>\n",
       "      <td>fresh</td>\n",
       "      <td>114709</td>\n",
       "      <td>Time Out</td>\n",
       "      <td>So ingenious in concept, design and execution ...</td>\n",
       "      <td>2009-10-04</td>\n",
       "      <td>9559</td>\n",
       "      <td>Toy story</td>\n",
       "    </tr>\n",
       "    <tr>\n",
       "      <th>2</th>\n",
       "      <td>Richard Corliss</td>\n",
       "      <td>fresh</td>\n",
       "      <td>114709</td>\n",
       "      <td>TIME Magazine</td>\n",
       "      <td>The year's most inventive comedy.</td>\n",
       "      <td>2008-08-31</td>\n",
       "      <td>9559</td>\n",
       "      <td>Toy story</td>\n",
       "    </tr>\n",
       "    <tr>\n",
       "      <th>3</th>\n",
       "      <td>David Ansen</td>\n",
       "      <td>fresh</td>\n",
       "      <td>114709</td>\n",
       "      <td>Newsweek</td>\n",
       "      <td>A winning animated feature that has something ...</td>\n",
       "      <td>2008-08-18</td>\n",
       "      <td>9559</td>\n",
       "      <td>Toy story</td>\n",
       "    </tr>\n",
       "    <tr>\n",
       "      <th>4</th>\n",
       "      <td>Leonard Klady</td>\n",
       "      <td>fresh</td>\n",
       "      <td>114709</td>\n",
       "      <td>Variety</td>\n",
       "      <td>The film sports a provocative and appealing st...</td>\n",
       "      <td>2008-06-09</td>\n",
       "      <td>9559</td>\n",
       "      <td>Toy story</td>\n",
       "    </tr>\n",
       "    <tr>\n",
       "      <th>5</th>\n",
       "      <td>Jonathan Rosenbaum</td>\n",
       "      <td>fresh</td>\n",
       "      <td>114709</td>\n",
       "      <td>Chicago Reader</td>\n",
       "      <td>An entertaining computer-generated, hyperreali...</td>\n",
       "      <td>2008-03-10</td>\n",
       "      <td>9559</td>\n",
       "      <td>Toy story</td>\n",
       "    </tr>\n",
       "  </tbody>\n",
       "</table>\n",
       "</div>"
      ],
      "text/plain": [
       "               critic  fresh    imdb     publication  \\\n",
       "1         Derek Adams  fresh  114709        Time Out   \n",
       "2     Richard Corliss  fresh  114709   TIME Magazine   \n",
       "3         David Ansen  fresh  114709        Newsweek   \n",
       "4       Leonard Klady  fresh  114709         Variety   \n",
       "5  Jonathan Rosenbaum  fresh  114709  Chicago Reader   \n",
       "\n",
       "                                               quote review_date  rtid  \\\n",
       "1  So ingenious in concept, design and execution ...  2009-10-04  9559   \n",
       "2                  The year's most inventive comedy.  2008-08-31  9559   \n",
       "3  A winning animated feature that has something ...  2008-08-18  9559   \n",
       "4  The film sports a provocative and appealing st...  2008-06-09  9559   \n",
       "5  An entertaining computer-generated, hyperreali...  2008-03-10  9559   \n",
       "\n",
       "       title  \n",
       "1  Toy story  \n",
       "2  Toy story  \n",
       "3  Toy story  \n",
       "4  Toy story  \n",
       "5  Toy story  "
      ]
     },
     "execution_count": 94,
     "metadata": {},
     "output_type": "execute_result"
    }
   ],
   "source": [
    "# using rotten tomatoes dataset\n",
    "critics = pd.read_csv('../Springboard_Portfolio/9_ML_Naive_Bayes/critics.csv')\n",
    "#let's drop rows with missing quotes\n",
    "critics = critics[~critics.quote.isnull()]\n",
    "critics.head()"
   ]
  },
  {
   "cell_type": "code",
   "execution_count": 95,
   "metadata": {},
   "outputs": [],
   "source": [
    "# create the feature data and labels\n",
    "tfidf = TfidfVectorizer(min_df=1, stop_words='english')\n",
    "X = tfidf.fit_transform(critics.quote)\n",
    "X = X.tocsc()  # some versions of sklearn return COO format\n",
    "y = (critics.fresh == 'fresh').values.astype(np.int)"
   ]
  },
  {
   "cell_type": "code",
   "execution_count": 96,
   "metadata": {},
   "outputs": [],
   "source": [
    "# split the data\n",
    "X_train, X_test, y_train, y_test = train_test_split(X, y, test_size=0.3, \n",
    "                                                    random_state=21, stratify=y)"
   ]
  },
  {
   "cell_type": "code",
   "execution_count": 97,
   "metadata": {},
   "outputs": [
    {
     "data": {
      "text/plain": [
       "NMF(alpha=0.0, beta_loss='frobenius', init=None, l1_ratio=0.0, max_iter=200,\n",
       "    n_components=50, random_state=None, shuffle=False, solver='cd', tol=0.0001,\n",
       "    verbose=0)"
      ]
     },
     "execution_count": 97,
     "metadata": {},
     "output_type": "execute_result"
    }
   ],
   "source": [
    "# fit the NMF model using the training data\n",
    "model = NMF(n_components=50)\n",
    "model.fit(X_train)"
   ]
  },
  {
   "cell_type": "code",
   "execution_count": 98,
   "metadata": {},
   "outputs": [],
   "source": [
    "# transform the data using NMF\n",
    "nmf_features = model.transform(X_train)"
   ]
  },
  {
   "cell_type": "code",
   "execution_count": null,
   "metadata": {},
   "outputs": [],
   "source": []
  },
  {
   "cell_type": "markdown",
   "metadata": {},
   "source": [
    "#### Build a recommender series based on similarities in text"
   ]
  },
  {
   "cell_type": "code",
   "execution_count": 127,
   "metadata": {},
   "outputs": [],
   "source": [
    "# calculate cosine similarities\n",
    "norm_features = normalize(nmf_features)\n",
    "\n",
    "# create dataframe of the features, could add labels as an index if you have them\n",
    "df = pd.DataFrame(norm_features)"
   ]
  },
  {
   "cell_type": "code",
   "execution_count": 128,
   "metadata": {},
   "outputs": [],
   "source": [
    "# build similarity index for one entry\n",
    "current_review = df.iloc[0]\n",
    "similarities = df.dot(current_review)"
   ]
  },
  {
   "cell_type": "code",
   "execution_count": 129,
   "metadata": {},
   "outputs": [
    {
     "name": "stdout",
     "output_type": "stream",
     "text": [
      "0        1.000000\n",
      "9741     0.979001\n",
      "1231     0.978443\n",
      "10197    0.977042\n",
      "489      0.975257\n",
      "dtype: float64\n"
     ]
    }
   ],
   "source": [
    "# print the indexes and cosine similarities for the largest similarities\n",
    "# this can be used to build a recommender system based on similarities in text\n",
    "print(similarities.nlargest())"
   ]
  },
  {
   "cell_type": "markdown",
   "metadata": {},
   "source": [
    "Trying to run a Naive Bayes model based on this, but I'm not sure that this works"
   ]
  },
  {
   "cell_type": "code",
   "execution_count": 99,
   "metadata": {},
   "outputs": [
    {
     "data": {
      "text/plain": [
       "MultinomialNB(alpha=1, class_prior=None, fit_prior=True)"
      ]
     },
     "execution_count": 99,
     "metadata": {},
     "output_type": "execute_result"
    }
   ],
   "source": [
    "# build a Naive Bayes model using just the training data\n",
    "clf = MultinomialNB(alpha=1)\n",
    "clf.fit(nmf_features, y_train)"
   ]
  },
  {
   "cell_type": "code",
   "execution_count": 100,
   "metadata": {},
   "outputs": [
    {
     "name": "stdout",
     "output_type": "stream",
     "text": [
      "0.6093463092177746\n",
      "0.6093381880488328\n"
     ]
    }
   ],
   "source": [
    "# print the accuracy on the training and test data\n",
    "print(clf.score(nmf_features, y_train))\n",
    "print(clf.score(model.transform(X_test), y_test))"
   ]
  },
  {
   "cell_type": "code",
   "execution_count": null,
   "metadata": {},
   "outputs": [],
   "source": []
  }
 ],
 "metadata": {
  "kernelspec": {
   "display_name": "Python 3",
   "language": "python",
   "name": "python3"
  },
  "language_info": {
   "codemirror_mode": {
    "name": "ipython",
    "version": 3
   },
   "file_extension": ".py",
   "mimetype": "text/x-python",
   "name": "python",
   "nbconvert_exporter": "python",
   "pygments_lexer": "ipython3",
   "version": "3.7.6"
  }
 },
 "nbformat": 4,
 "nbformat_minor": 4
}
