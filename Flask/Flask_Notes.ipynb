{
 "cells": [
  {
   "cell_type": "markdown",
   "metadata": {},
   "source": [
    "# Flask Notes"
   ]
  },
  {
   "cell_type": "markdown",
   "metadata": {},
   "source": [
    "## Installation and Environment Setup"
   ]
  },
  {
   "cell_type": "markdown",
   "metadata": {},
   "source": [
    "- I have created a conda environment for running flask that contains most of my favorite/most used packages\n",
    "- The steps below outline how to reproduce this environment from the Anaconda prompt"
   ]
  },
  {
   "cell_type": "markdown",
   "metadata": {},
   "source": [
    "<p style=\"background:black;text-align:left\">\n",
    "    <code style=\"background:black;color:white;margin:3px\"><br> (base) C:\\Users\\User\\Documents> conda update -n base conda<br> (base) C:\\Users\\User\\Documents> conda create -n flask_env python=3.8<br> (base) C:\\Users\\User\\Documents> conda activate flask_env<br> (flask_env) C:\\Users\\User\\Documents> conda install -c conda-forge notebook ipywidgets nodejs<br> (flask_env) C:\\Users\\User\\Documents> conda install pandas scikit-learn geopandas<br> (flask_env) C:\\Users\\User\\Documents> pip install plotly==4.9.0<br> (flask_env) C:\\Users\\User\\Documents> pip install nbserverproxy paramiko pymongo JayDeBeApi xmltodict pgpy flask dash dask pytest coverage<br> (flask_env) C:\\Users\\User\\Documents> conda install -c plotly plotly-orca psutil requests<br> (flask_env) C:\\Users\\User\\Documents> jupyter serverextension enable --py nbserverproxy\n",
    "    </code>\n",
    "    </p>"
   ]
  },
  {
   "cell_type": "markdown",
   "metadata": {},
   "source": [
    "## The Flask Class and Your app"
   ]
  },
  {
   "cell_type": "markdown",
   "metadata": {},
   "source": [
    "- The Flask object implements a Web Server Gateway Interface (WSGI or WIZ-ghee) app and acts as the central object\n",
    "- **Never name a flask app `flask.py`**\n",
    "    - This will interfere with flask\n",
    "- It is passed the name of the module or package of the application\n",
    "    - Either the folder name with the `__init__.py` file inside or the name of a `.py` file\n",
    "- Usually, you creat a Flask instance in the main module or in the `__init__.py` file like this:\n",
    "> ```python\n",
    "from flask import Flask\n",
    "app = Flask(__name__)\n",
    "```"
   ]
  },
  {
   "cell_type": "markdown",
   "metadata": {},
   "source": [
    "#### More info on the parameter passed to `Flask()`\n",
    "- If using a single module, *ALWAYS* pass `__name__`\n",
    "- If you are using a package, it's usually best practice to hardcode the name of your package there\n",
    "- Example: app is defined in `myapplication/app.py`\n",
    "> ```python\n",
    "app = Flask('myapplication') #or\n",
    "app = Flask(__name__.split('.')[0])\n",
    "```"
   ]
  },
  {
   "cell_type": "markdown",
   "metadata": {},
   "source": [
    "## Flask Hello World App\n",
    "```python\n",
    "from flask import Flask\n",
    "\n",
    "# create an instance of Flask\n",
    "app = Flask(__name__)\n",
    "\n",
    "# the route() decorator tells Flask what URL should trigger this function\n",
    "@app.route('/')\n",
    "def hello_world():\n",
    "    return 'Hello World!'\n",
    "```"
   ]
  },
  {
   "cell_type": "markdown",
   "metadata": {},
   "source": [
    "## Running a Flask App\n",
    "- This runs on a local host in the browser\n",
    "- See [Deployment Options](https://flask.palletsprojects.com/en/1.1.x/deploying/#deployment)\n",
    "\n",
    "- You can also use this syntax:\n",
    "<p style=\"background:black;text-align:left\">\n",
    "    <code style=\"background:black;color:white;margin:3px\"><br> C:\\path\\to\\app> set FLASK_APP=filename.py<br> C:\\path\\to\\app> python -m flask run\n",
    "    </code>\n",
    "    </p>\n",
    "\n",
    "#### cmd or Anaconda Prompt\n",
    "<p style=\"background:black;text-align:left\">\n",
    "    <code style=\"background:black;color:white;margin:3px\"><br> C:\\path\\to\\app> set FLASK_APP=filename.py<br> C:\\path\\to\\app> flask run\n",
    "    </code>\n",
    "    </p>\n",
    "    \n",
    "#### Linux style terminal\n",
    "<p style=\"background:black;text-align:left\">\n",
    "    <code style=\"background:black;color:white;margin:3px\"><br> user@host:~/path/to/app$ export FLASK_APP=filename.py\n",
    " user@host:~/path/to/app$ flask run\n",
    "    </code>\n",
    "    </p>\n",
    "    \n",
    "#### PowerShell\n",
    "<p style=\"background:black;text-align:left\">\n",
    "    <code style=\"background:black;color:white;margin:3px\"><br> C:\\path\\to\\app> $env:FLASK_APP=filename.py<br> C:\\path\\to\\app> flask run\n",
    "    </code>\n",
    "    </p>\n",
    "    \n",
    "- Copy and paste the URL after the `Running on:` console output in your browser\n",
    "- Use `ctrl + c` in the terminal window to stop the session"
   ]
  },
  {
   "cell_type": "markdown",
   "metadata": {},
   "source": [
    "## Enabling Development/Debug Mode\n",
    "- The app will update while being hosted with any code changes\n",
    "- Debug mode will be enabled\n",
    "> When setting the `FLASK_APP` variable, set `FLASK_ENV=development`\n",
    "- You can set back to the default value `FLASK_ENV=production` if wanting to change this"
   ]
  },
  {
   "cell_type": "markdown",
   "metadata": {},
   "source": [
    "## App Routing and URL's\n",
    "- Specify meaningful routes to your app's urls\n",
    "- Examples:\n",
    "\n",
    "```python\n",
    "@app.route('/')\n",
    "def index():\n",
    "    return 'Index Page'\n",
    "\n",
    "@app.route('/hello')\n",
    "def hello():\n",
    "    return 'Hello World'\n",
    "```"
   ]
  },
  {
   "cell_type": "markdown",
   "metadata": {},
   "source": [
    "## URL Variables\n",
    "- Can add variable sections to a URL using `<variable_name>`\n",
    "- The function receives the `<variable_name>` as a keyword arg\n",
    "- Can also use a converter to specify the type fo the argument with `<converter:variable_name>`\n",
    "    - Converter types:\n",
    "        - string (default)\n",
    "        - int\n",
    "        - float\n",
    "        - path\n",
    "        - uuid\n",
    "> Note: Always use markupsafe in conjunction with this to avoid injection attacks (see example)\n",
    "        \n",
    "```python\n",
    "from markupsafe import escape\n",
    "\n",
    "# variable passed as keyword arg to function\n",
    "@app.route('/user/<username>')\n",
    "def show_user_profile(username):\n",
    "    # show the user's profile\n",
    "    return f'User {escape(username)}'\n",
    "\n",
    "# when post_id is always an integer\n",
    "@app.route('/post/<int:post_id>')\n",
    "def show_post(post_id):\n",
    "    # show the post with teh specified id\n",
    "    return f'Post {post_id}'\n",
    "\n",
    "@app.route('/path/<path:subpath>')\n",
    "def show_subpath(subpath):\n",
    "    # show the subpath after /path/\n",
    "    return f'Subpath {escape(subpath)}'\n",
    "```"
   ]
  },
  {
   "cell_type": "markdown",
   "metadata": {},
   "source": [
    "## URL Redirection Behavior\n",
    "- Trailing slashes after a path affect what happens\n",
    "```python\n",
    "# points to a directory (folder) like location\n",
    "# if you don't use the /, it redirects using the slash\n",
    "@app.route('/projects/')\n",
    "def projects():\n",
    "    return 'The Project page'\n",
    "```\n",
    "\n",
    "```python\n",
    "# no trailing / is like pointing to a file\n",
    "# if you access this page with a /, 404 Not Found error, must omit slash in url to access\n",
    "@app.route('/about')\n",
    "def about():\n",
    "    return 'The about page'\n",
    "```"
   ]
  },
  {
   "cell_type": "markdown",
   "metadata": {},
   "source": [
    "## URL Building\n",
    "- The `url_for()` function is used to build URL's to specific functions\n",
    "- First arg is the function name, additional kwargs are variables for the URL\n",
    "    - Unknown variable parts are appended as query parameters\n",
    "- See example below that prints out urls using the url_for function"
   ]
  },
  {
   "cell_type": "code",
   "execution_count": 1,
   "metadata": {},
   "outputs": [
    {
     "name": "stdout",
     "output_type": "stream",
     "text": [
      "/\n",
      "/login\n",
      "/login?next=%2F\n",
      "/user/John%20Doe\n"
     ]
    }
   ],
   "source": [
    "from flask import Flask, url_for\n",
    "from markupsafe import escape\n",
    "\n",
    "# initialize the app\n",
    "app = Flask(__name__)\n",
    "\n",
    "# definte the index route function\n",
    "@app.route('/')\n",
    "def index():\n",
    "    return 'index'\n",
    "\n",
    "# define the login route function\n",
    "@app.route('/login')\n",
    "def login():\n",
    "    return 'login'\n",
    "\n",
    "# define the user page function\n",
    "@app.route('/user/<username>')\n",
    "def profile(username):\n",
    "    return f\"{escape(username)}'s profile\"\n",
    "\n",
    "# use test_request_context() function to tell Flask to behave as if it's handling a request\n",
    "with app.test_request_context():\n",
    "    # 'index' is the name of the function for which to get the url, then print\n",
    "    print(url_for('index'))\n",
    "    \n",
    "    print(url_for('login'))\n",
    "    print(url_for('login', next='/'))\n",
    "    print(url_for('profile', username='John Doe'))"
   ]
  },
  {
   "cell_type": "markdown",
   "metadata": {},
   "source": [
    "- Results above explained\n",
    "    - Index and login should be straightforward\n",
    "    - Login with next arg, next is passed as a variable to the URL, and / was encoded as %2F\n",
    "        - Since the 'next' item isn't an arg for the login function, it was passed in the url\n",
    "    - Profile passed the username as part of the url (not a variable) since it was given as an arg for the profile function"
   ]
  },
  {
   "cell_type": "markdown",
   "metadata": {},
   "source": [
    "## HTTP Methods\n",
    "- By default, `route()` only answers to GET requests\n",
    "    - Use the `methods` arg of `route()` to handle different methods\n",
    "    \n",
    "```python\n",
    "from flask import request\n",
    "\n",
    "@app.route('/login', methods=['GET', 'POST'])\n",
    "def login():\n",
    "    if request.method == 'POST':\n",
    "        return do_the_login()\n",
    "    else:\n",
    "        return show_the_login_form()\n",
    "```\n",
    "\n",
    "- Notes\n",
    "    - If GET is present, Flask auto-adds support for the HEAD method and handles HEAD requests according to [HTTP RFC](https://www.ietf.org/rfc/rfc2068.txt)\n",
    "    - OPTIONS is also auto-added"
   ]
  },
  {
   "cell_type": "markdown",
   "metadata": {},
   "source": [
    "## Module App vs. Package App\n",
    "- Module App Structure<br>\n",
    "<pre>/application.py</pre>\n",
    "<pre>/templates</pre>\n",
    "<pre style={'tab-size': 4}>    /hello.html</pre>\n",
    "<pre>/static</pre>\n",
    "<pre style={'tab-size': 4}>    /style.css</pre>\n",
    "<br>\n",
    "- Package App Structure<br>\n",
    "<pre>/application</pre>\n",
    "<pre style={'tab-size': 4}>    /__init__.py</pre>\n",
    "<pre style={'tab-size': 4}>    /templates</pre>\n",
    "<pre style={'tab-size': 4}>        /hello.html</pre>\n",
    "<pre style={'tab-size': 4}>    /static</pre>\n",
    "<pre style={'tab-size': 4}>        /style.css</pre>"
   ]
  },
  {
   "cell_type": "markdown",
   "metadata": {},
   "source": [
    "## Static Files\n",
    "- Like .js, .css, and image files\n",
    "- Put them in the `/static/` directory next to your module or within your package\n",
    "\n",
    "```python\n",
    "# generating urls for static files\n",
    "# filename is static/style.css\n",
    "url_for('static', filename='style.css')\n",
    "```"
   ]
  },
  {
   "cell_type": "markdown",
   "metadata": {},
   "source": [
    "## Rendering Templates\n",
    "- Use instead of trying to generate html within python (requires escaping)\n",
    "- Jinja is configured to *auto-escape* any user inputs rendered in HTML\n",
    "- Use the `render_template` option\n",
    "- Put them in the `templates` folder next to your module app or inside your package app\n",
    "- Uses the full power of [Jinja2 Templates](http://jinja.pocoo.org/docs/templates/)\n",
    "\n",
    "```python\n",
    "from flask import render_template\n",
    "\n",
    "@app.route('/hello/')\n",
    "@app.route('/hello/<name>')\n",
    "def hello(name=None):\n",
    "    return render_template('hello.html', name=name)\n",
    "```"
   ]
  },
  {
   "cell_type": "markdown",
   "metadata": {},
   "source": [
    "#### Jinja Basic Syntax\n",
    "- Anything between `{{` and `}}` is an expression that will be output\n",
    "- `{%` and `%}` represent control flow (like if/for)\n",
    "- Blocks are denoted with start/end tags rather than indentation"
   ]
  },
  {
   "cell_type": "markdown",
   "metadata": {},
   "source": [
    "#### Jinja Blocks for Templates\n",
    "- Format is `{% block ##### %}`\n",
    "    - `title` -> the title displayed in the browser's tab and window\n",
    "    - `header` -> the title displayed on the page\n",
    "    - `content` -> where the content of the page goes"
   ]
  },
  {
   "cell_type": "markdown",
   "metadata": {},
   "source": [
    "#### Example Template Using Jinja Syntax\n",
    "```html\n",
    "<!doctype html>\n",
    "<title>Hello from Flask</title>\n",
    "{% if name %}\n",
    "  <h1>Hello {{ name }}!</h1>\n",
    "{% else %}\n",
    "  <h1>Hello World!</h1>\n",
    "{% endif %}\n",
    "```"
   ]
  },
  {
   "cell_type": "markdown",
   "metadata": {},
   "source": [
    "#### Template Locations\n",
    "- Base templates usually go in the templates dir\n",
    "- Templates for a blueprint usually go in a dir within templates that has the same name as the blueprint"
   ]
  },
  {
   "cell_type": "markdown",
   "metadata": {},
   "source": [
    "#### More Info on Templates\n",
    "- You have access to the `requests`, `session`, and `g` objects as well as the `get_flashed_messages()` function\n",
    "    - [requests](https://flask.palletsprojects.com/en/1.1.x/api/#flask.request)\n",
    "    - [session](https://flask.palletsprojects.com/en/1.1.x/api/#flask.session)\n",
    "    - [g](https://flask.palletsprojects.com/en/1.1.x/api/#flask.g)\n",
    "    - [get_flashed_messages()](https://flask.palletsprojects.com/en/1.1.x/api/#flask.get_flashed_messages)\n",
    "- Templates are especially useful if inheritance is used\n",
    "    - [Template Inheritance](https://flask.palletsprojects.com/en/1.1.x/patterns/templateinheritance/#template-inheritance)\n",
    "    - Can keep header, navigation, and footer on all pages"
   ]
  },
  {
   "cell_type": "markdown",
   "metadata": {},
   "source": [
    "## Accessing Request Data\n",
    "- Flask uses Context Locals\n",
    "    - Makes life easier unless unit testing\n",
    "        - Use `with app.test_request_context()` to bind test requests for unit testing"
   ]
  },
  {
   "cell_type": "markdown",
   "metadata": {},
   "source": [
    "#### Example of accessing/using the request object\n",
    "```python\n",
    "from flask import request\n",
    "\n",
    "@app.route('/login', methods=['POST', 'GET'])\n",
    "def login():\n",
    "    error = None\n",
    "    if request.method == 'POST':\n",
    "        # this is a function defined elsewhere and used here for example\n",
    "        # this function accesses the form attribute of the request object and gets two items that were submitted\n",
    "        if valid_login(request.form['username'], request.form['password']):\n",
    "            return log_the_user_in(request.form['username'])\n",
    "        else:\n",
    "            error = 'Invalid username/password'\n",
    "    \n",
    "    # this is execute if the request is a GET method\n",
    "    # or if the log_the_user_in function returns False\n",
    "    return render_template('login.html', error=error)\n",
    "```"
   ]
  },
  {
   "cell_type": "markdown",
   "metadata": {},
   "source": [
    "#### Accessing keys from the form attribute\n",
    "- `KeyError` is raised if the key doesn't exist in the form, resulting in HTTP 400 Bad Request page if not caught\n",
    "```python\n",
    "# best practice to use .get or catch KeyErrors\n",
    "searchword = request.args.get('key', '')\n",
    "```"
   ]
  },
  {
   "cell_type": "markdown",
   "metadata": {},
   "source": [
    "## File Uploads\n",
    "- Be sure to set `enctype='multipart/form-data'` attribute on your html form, or the browser won't transmit the files\n",
    "- Uploaded files are stored in memory or a temp location on the filesystem\n",
    "- Access them using the `request.files` attribute\n",
    "- Files behave like a python file object\n",
    "    - In addition has a `save()` method to store on the filesystem of the server"
   ]
  },
  {
   "cell_type": "markdown",
   "metadata": {},
   "source": [
    "#### File Upload Examples\n",
    "- More examples [here](https://flask.palletsprojects.com/en/1.1.x/patterns/fileuploads/#uploading-files)\n",
    "\n",
    "```python\n",
    "from flask import request\n",
    "\n",
    "@app.route('/upload')\n",
    "def upload_file():\n",
    "    if request.method == 'POST':\n",
    "        f = request.files['the_file']\n",
    "        f.save('/var/www/uploads/uploaded_file.txt')\n",
    "```"
   ]
  },
  {
   "cell_type": "markdown",
   "metadata": {},
   "source": [
    "#### Filename Attribute\n",
    "- Filenames can be forged, so never trust this attribute\n",
    "- There is a `secure_filename()` function Werkzeug provides\n",
    "\n",
    "```python\n",
    "from flask import request\n",
    "from werkzeug.utils import secure_filename\n",
    "\n",
    "@app.route('/upload', methods=['GET', 'POST'])\n",
    "def upload_file():\n",
    "    if request.method == 'POST':\n",
    "        f = request.files['the_file']\n",
    "        f.save('/var/www/uploads/' + secure_filename(f.filename))\n",
    "```"
   ]
  },
  {
   "cell_type": "markdown",
   "metadata": {},
   "source": [
    "## Cookies\n",
    "- Access with the `cookies` attribute\n",
    "- Can `set_cookie`\n",
    "- Different than `Sessions` in flask, so don't use if using `Sessions`\n",
    "    - Sessions are usually better for managing user data"
   ]
  },
  {
   "cell_type": "markdown",
   "metadata": {},
   "source": [
    "```python\n",
    "# reading cookies\n",
    "from flask import request\n",
    "\n",
    "@app.route('/')\n",
    "def index():\n",
    "    username = request.cookies.get('username')\n",
    "    # .get avoides keyerrors\n",
    "```"
   ]
  },
  {
   "cell_type": "markdown",
   "metadata": {},
   "source": [
    "```python\n",
    "# setting cookies\n",
    "from flask import make_response\n",
    "\n",
    "@app.route('/')\n",
    "def index():\n",
    "    resp = make_response(render_template(...))\n",
    "    resp.set_cookie('username', 'a user')\n",
    "    return resp\n",
    "```"
   ]
  },
  {
   "cell_type": "markdown",
   "metadata": {},
   "source": [
    "## Redirects and Errors\n",
    "- See [Error Handlers](https://flask.palletsprojects.com/en/1.1.x/errorhandling/#error-handlers) for more details\n",
    "\n",
    "```python\n",
    "from flask import abort, redirect, url_for\n",
    "\n",
    "@app.route('/')\n",
    "def index():\n",
    "    \n",
    "    # this function will redirect no matter what (pointless)\n",
    "    # but can use this in if statements or other uses\n",
    "    return redirect(url_for('login'))\n",
    "\n",
    "# even more pointless since the redirect to login will abort to a page that the user can't access\n",
    "@app.route('/login')\n",
    "def login():\n",
    "    \n",
    "    # abort will display an error page based on the number provided, 401 is accessed denied\n",
    "    # default is a black and white error page\n",
    "    abort(401)\n",
    "    this_is_never_executed()\n",
    "```"
   ]
  },
  {
   "cell_type": "markdown",
   "metadata": {},
   "source": [
    "```python\n",
    "from flask import render_template\n",
    "\n",
    "# use errorhandler() to customize the error page\n",
    "@app.errorhandler(404)\n",
    "def page_not_found(error):\n",
    "    return render_template('page_not_found.html'), 404\n",
    "\n",
    "# the 404 after render_template sets the status code of the page (404 == not found)\n",
    "# default status code == 200 (all is well)\n",
    "```"
   ]
  },
  {
   "cell_type": "markdown",
   "metadata": {},
   "source": [
    "## View Functions\n",
    "- Code to respond to requests to the application\n",
    "- Flask uses patterns to match incoming request URL to the view that should handle it\n",
    "- The view returns data that Flask turns into an outgoing response\n",
    "- Flask can also generate a URL to view based on its name and args"
   ]
  },
  {
   "cell_type": "markdown",
   "metadata": {},
   "source": [
    "## Blueprints\n",
    "- A way to organize a group of related views and other code\n",
    "- Register views/code with a blueprint instead of the app\n",
    "- Register the blueprint with the app in the factory function"
   ]
  },
  {
   "cell_type": "markdown",
   "metadata": {},
   "source": [
    "## About Response Objects\n",
    "- The return value from a view function (`app.route()` I think) is automatically converted into a response object\n",
    "- If the return value is a string, it's converted into a response object with the string as the response body, 200 status code, and text/html mimetype\n",
    "- If the return value is a dict, jsonify() is called to produce a response\n",
    "- Logic\n",
    "    1. If a response object of the correct type is returned it's directly returned from the view\n",
    "    2. If it's a string, a response object is created with that data and default parameters\n",
    "    3. If it's a dict, a response object is created using `jsonify`\n",
    "    4. If a tuple is returned, the items in the tuple can provide extra information\n",
    "        - must be in one of the following forms\n",
    "            - `(response, status)`\n",
    "            - `(response, headers)`\n",
    "            - `(response, status, headers)`\n",
    "        - the `status` will override the status code and `headers` can be a list or dictionary of additional header values\n",
    "    5. If nothing works, flask will assume the return value is a valid WSGI application and convert that into a response object"
   ]
  },
  {
   "cell_type": "markdown",
   "metadata": {},
   "source": [
    "#### Work with the response object inside the view to modify it\n",
    "- Use `make_response()`\n",
    "\n",
    "```python\n",
    "@app.errorhandler(404)\n",
    "def not_found(error):\n",
    "    resp = make_response(render_template('error.html'), 404)\n",
    "    resp.headers['X-Something'] = 'A value'\n",
    "    return resp\n",
    "```"
   ]
  },
  {
   "cell_type": "markdown",
   "metadata": {},
   "source": [
    "## APIs with JSON\n",
    "- A common response when writing an API is JSON\n",
    "- Return a dict to convert it to a JSON response\n",
    "\n",
    "```python\n",
    "@app.route('/me')\n",
    "def me_api():\n",
    "    user = get_current_user()\n",
    "    return {\n",
    "        'username': user.username,\n",
    "        'theme': user.theme,\n",
    "        'image': url_for('user_image', filename=user.image),\n",
    "    }\n",
    "\n",
    "# or for other purposes, use jsonify\n",
    "@app.route('/users')\n",
    "def users_api():\n",
    "    users = get_all_users()\n",
    "    return jsonify([user.to_json() for user in users])\n",
    "```"
   ]
  },
  {
   "cell_type": "markdown",
   "metadata": {},
   "source": [
    "## Sessions\n",
    "- Better than cookies because users can look at cookie contents but not modify them unless they know the secret key used for signing\n",
    "- A good way to generate random keys below\n",
    "\n",
    "```python\n",
    "import os\n",
    "\n",
    "print(os.urandom(16))\n",
    "```"
   ]
  },
  {
   "cell_type": "markdown",
   "metadata": {},
   "source": [
    "```python\n",
    "# session example\n",
    "\n",
    "from flask import Flask, session, redirect, url_for, request\n",
    "from markupsafe import escape\n",
    "\n",
    "app = Flask(__name__)\n",
    "\n",
    "# set the secret key to some random bytes (keep secred or encrypted using pgp)\n",
    "app.secret_key = b'_dsk43#kUd/zKd//lkd]'\n",
    "\n",
    "@app.route('/')\n",
    "def index():\n",
    "    if 'username' in session:\n",
    "        return f'Logged in as {escape(session[\"username\"])}'\n",
    "    return 'You are not logged in'\n",
    "\n",
    "@app.route('/login', methods=['GET', 'POST'])\n",
    "def login():\n",
    "    if request.method == 'POST':\n",
    "        session['username'] = request.form['username']\n",
    "        return redirect(url_for('index'))\n",
    "    return '''\n",
    "        <form method='post'>\n",
    "            <p><input type=text name=username></p>\n",
    "            <p><input type=submit value=Login></p>\n",
    "        </form>\n",
    "        '''\n",
    "\n",
    "@app.route('/logout')\n",
    "def logout():\n",
    "    # remove the username from the session if it's there\n",
    "    session.pop('username', None)\n",
    "    return redirect(url_for('index'))\n",
    "```"
   ]
  },
  {
   "cell_type": "markdown",
   "metadata": {},
   "source": [
    "A note on cookie-based sessions: Flask will take the values you put into the session object and serialize them into a cookie. If you are finding some values do not persist across requests, cookies are indeed enabled, and you are not getting a clear error message, check the size of the cookie in your page responses compared to the size supported by web browsers.\n",
    "\n",
    "Besides the default client-side based sessions, if you want to handle sessions on the server-side instead, there are several Flask extensions that support this."
   ]
  },
  {
   "cell_type": "markdown",
   "metadata": {},
   "source": [
    "## Flashing Messages\n",
    "- You can 'record a message' at the end of a request and access it on the next and only next request\n",
    "- Note: flashing messages too large for session cookies causes message flashing to fail\n",
    "- More details on flashing [here](https://flask.palletsprojects.com/en/1.1.x/patterns/flashing/#message-flashing-pattern)"
   ]
  },
  {
   "cell_type": "markdown",
   "metadata": {},
   "source": [
    "#### Flashing Example for a Login"
   ]
  },
  {
   "cell_type": "markdown",
   "metadata": {},
   "source": [
    "```python\n",
    "from flask import Flask, flash, redirect, render_template, request, url_for\n",
    "\n",
    "app = Flask(__name__)\n",
    "app.secret_key = b'_48dkKDN/dikx]/'\n",
    "\n",
    "@app.route('/')\n",
    "def index():\n",
    "    return render_template('index.html')\n",
    "\n",
    "@app.route('/login', methods=['GET', 'POST'])\n",
    "def login():\n",
    "    error = None\n",
    "    if request.method == 'POST':\n",
    "        if request.form['username'] != 'admin' or request.form['password'] != 'secret':\n",
    "            error = 'Invalid Credentials'\n",
    "        else:\n",
    "            \n",
    "            # flashing message\n",
    "            flash('You were successfully logged in')\n",
    "            return redirect(url_for('index'))\n",
    "    return render_template('login.html', error=error)\n",
    "```"
   ]
  },
  {
   "cell_type": "markdown",
   "metadata": {},
   "source": [
    "```html\n",
    "<!-- the layout.html template which does the magic -->\n",
    "<!doctype html>\n",
    "<title>My Application</title>\n",
    "{% with messages = get_flashed_messages() %}\n",
    "  {% if messages %}\n",
    "    <ul class=flashes>\n",
    "        {% for message in messages %}\n",
    "        <li>{{ message }}</li>\n",
    "        {% endfor %}\n",
    "    </ul>\n",
    "  {% endif %}\n",
    "{% endwith %}\n",
    "{% block body %}{% endblock %}\n",
    "```"
   ]
  },
  {
   "cell_type": "markdown",
   "metadata": {},
   "source": [
    "```html\n",
    "<!-- the index.html template which inherits the layout.html form -->\n",
    "{% extends 'layout.html' %}\n",
    "{% block body %}\n",
    "  <h1>Overview</h1>\n",
    "  <p>Do you want to <a href=\"{{ url_for('login') }}\">log in?</a></p>\n",
    "{% endblock %}\n",
    "```"
   ]
  },
  {
   "cell_type": "markdown",
   "metadata": {},
   "source": [
    "```html\n",
    "<!-- login.html file which inherits layout.html -->\n",
    "{% extends 'layout.html' %}\n",
    "{% block body %}\n",
    "  <h1>Login</h1>\n",
    "  {% if error %}\n",
    "    <p class=error><strong>Error:</strong>  {{ error }}</p>\n",
    "  {% endif %}\n",
    "  <form method=post>\n",
    "      <dl>\n",
    "          <dt>Username:\n",
    "          <dd><input type=text name=username value=\"{{ request.form.username }}\">\n",
    "          <dt>Password:\n",
    "          <dd><input type=password name=password>\n",
    "      </dl>\n",
    "      <p><input type=submit value=Login></p>\n",
    "  </form>\n",
    "{% endblock %}\n",
    "```"
   ]
  },
  {
   "cell_type": "markdown",
   "metadata": {},
   "source": [
    "## Flask Logging\n",
    "- Flask has a built-in logger that looks similar to the logger I've used before\n",
    "- See [Flask Logger](https://flask.palletsprojects.com/en/1.1.x/api/#flask.Flask.logger)\n",
    "- See also [Application Errors](https://flask.palletsprojects.com/en/1.1.x/errorhandling/#application-errors)"
   ]
  },
  {
   "cell_type": "markdown",
   "metadata": {},
   "source": [
    "## Flask Extensions\n",
    "- [Flask Extensions](https://flask.palletsprojects.com/en/1.1.x/extensions/#extensions)"
   ]
  },
  {
   "cell_type": "code",
   "execution_count": null,
   "metadata": {},
   "outputs": [],
   "source": []
  },
  {
   "cell_type": "code",
   "execution_count": null,
   "metadata": {},
   "outputs": [],
   "source": []
  },
  {
   "cell_type": "markdown",
   "metadata": {},
   "source": [
    "## More Details on Flask Workings\n",
    "- See the app in /flask-tutorial\n",
    "    - flaskr/ (package)\n",
    "        - static/\n",
    "            - style.css\n",
    "        - templates/\n",
    "            - auth/\n",
    "                - login.html\n",
    "                - register.html\n",
    "            - blog/\n",
    "                - create.html\n",
    "                - index.html\n",
    "                - update.html\n",
    "            - base.html\n",
    "                - the base template that is extended by other templates in auth/ and blog/\n",
    "        - __init__.py (package identifier containing the app factory function)\n",
    "        - auth.py\n",
    "            - authentication functions blueprint\n",
    "            - registered in factory function\n",
    "        - blog.py\n",
    "            - blog blueprint \n",
    "            - registered in factory function\n",
    "        - db.py\n",
    "            - includes a click.command() that defines a command line command [Command Line Interface](https://flask.palletsprojects.com/en/1.1.x/cli/#cli)\n",
    "            - init_db function registered with factory function\n",
    "        - schema.sql\n",
    "            - DDL used to create/restore user database with SQLite\n",
    "    - instance/ (instance folder)\n",
    "        - flaskr.sqlite\n",
    "            - created when `flask init-db` command was run from the cli in flask-tutorial directory along with `instance` folder\n",
    "            - that command executed the `db.init_db()` function which ran the sql in `/flaskr/schema.sql`\n",
    "    - tests/\n",
    "        - conftest.py\n",
    "            - code needed to configure the unit tests when running in test mode\n",
    "            - also created a temp database file to hold dummy data for the tests\n",
    "        - data.sql\n",
    "            - code to add dummy data to the temp_db for the unit tests\n",
    "        - test_auth.py\n",
    "            - tests for the authorization\n",
    "        - test_blog.py\n",
    "            - tests for the blog\n",
    "        - test_db.py\n",
    "            - tests for the database\n",
    "        - test_factory.py\n",
    "            - test functions for the app factory\n",
    "    - venv/\n",
    "        - contains the virtual environment\n",
    "    - MANIFEST.in\n",
    "        - contains data needed to run <code style=\"background:black;color:white;margin:3px\">pip install -e .</code> to install the app (see below)\n",
    "    - README.md\n",
    "        - contains info about the app\n",
    "    - setup.cfg\n",
    "        - unrequired, but sets up some unit test testing parameters\n",
    "    - setup.py\n",
    "        - contains info necessary to run <code style=\"background:black;color:white;margin:3px\">pip install -e .</code> to install the app (see below)"
   ]
  },
  {
   "cell_type": "markdown",
   "metadata": {},
   "source": [
    "## Installing Custom Flask Apps\n",
    "- Requires the `setup.py` and `MANIFEST.in` files as outlined in the `flask-tutorial` app\n",
    "- Run the following command from the `flask-tutorial` dir with a virtual env activated:\n",
    "<br><code style=\"background:black;color:white;margin:3px\">pip install -e .</code>\n",
    "- Installing will allow the app to run from any dir using `flask run` after set/export the `FLASK_APP=flaskr` and `FLASK_ENV` vars\n",
    "    - You also need to intialize any app specific files like running `flask init-db` for the flask-tutorial app\n",
    "- More info on packaging python projects can be found [here](https://packaging.python.org/tutorials/packaging-projects/)\n",
    "- This is required for running unit tests built the same way the flaskr unit test is implemented"
   ]
  },
  {
   "cell_type": "markdown",
   "metadata": {},
   "source": [
    "## Notes on Unit Testing\n",
    "- Ensure `pytest` and `coverage` are installed in the venv\n",
    "- Ensure you have installed the flask app in the venv using the instructions above\n",
    "- Running `pytest` in the project dir will run the unit tests\n",
    "- Running `pytest -v` will show each function name and the result\n",
    "- Running `coverage run -m pytest` will measure the code coverage\n",
    "- Run `coverage report` to get a simple output of this\n",
    "- Run `coverage html` if you want to generate html files in the `htmlcov` dir within the project\n",
    "    - view the `index.html` file for the report"
   ]
  },
  {
   "cell_type": "markdown",
   "metadata": {},
   "source": [
    "## Deploying to a Production Server"
   ]
  },
  {
   "cell_type": "markdown",
   "metadata": {},
   "source": [
    "### Build and Install\n",
    "- Ensure wheel is installed `pip install wheel`\n",
    "- From the main app dir run `python setup.py bdist_wheel`\n",
    "    - this should create `dist/flaskr-1.0.0-py3-none-any.whl` for the flask-tutorial app\n",
    "- Now you can install on another machine using these steps\n",
    "    - create and activate a new virtual env on the new machine\n",
    "    - run `pip install flaskr-1.0.0-py3-none-any.whl`\n",
    "    - run either `set/export FLASK_APP=flaskr` and `flask init-db`\n",
    "    - Note: the `instance` dir is located at `venv/var/flaskr-instance` instead of in the main app dir\n",
    "    - Configure the secret key\n",
    "        - create `venv/var/flaskr-instance/config.py` and add `SECRET_KEY = b''` using random bytes chars\n",
    "            - you can generate these using `python -c 'import os; print(os.urandom(16))'`\n",
    "        - configure any other vars that are needed here too for custom apps\n",
    "- Use a production server to serve the app\n",
    "    - See [Deployment Options](https://flask.palletsprojects.com/en/1.1.x/deploying/) for some examples"
   ]
  },
  {
   "cell_type": "markdown",
   "metadata": {},
   "source": [
    "## Further Flask Exploration\n",
    "- [Jinja](https://palletsprojects.com/p/jinja/)\n",
    "- [Click](https://palletsprojects.com/p/click/)\n",
    "- [Werkzeug](https://palletsprojects.com/p/werkzeug/)\n",
    "- [ItsDangerous](https://palletsprojects.com/p/itsdangerous/)\n",
    "- [Extensions](https://flask.palletsprojects.com/en/1.1.x/extensions/#extensions)"
   ]
  },
  {
   "cell_type": "code",
   "execution_count": null,
   "metadata": {},
   "outputs": [],
   "source": []
  }
 ],
 "metadata": {
  "kernelspec": {
   "display_name": "Python 3",
   "language": "python",
   "name": "python3"
  },
  "language_info": {
   "codemirror_mode": {
    "name": "ipython",
    "version": 3
   },
   "file_extension": ".py",
   "mimetype": "text/x-python",
   "name": "python",
   "nbconvert_exporter": "python",
   "pygments_lexer": "ipython3",
   "version": "3.7.7"
  },
  "widgets": {
   "application/vnd.jupyter.widget-state+json": {
    "state": {},
    "version_major": 2,
    "version_minor": 0
   }
  }
 },
 "nbformat": 4,
 "nbformat_minor": 4
}
