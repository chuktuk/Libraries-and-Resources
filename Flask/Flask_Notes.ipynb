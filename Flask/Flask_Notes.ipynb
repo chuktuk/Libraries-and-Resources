{
 "cells": [
  {
   "cell_type": "markdown",
   "metadata": {},
   "source": [
    "# Flask Notes"
   ]
  },
  {
   "cell_type": "markdown",
   "metadata": {},
   "source": [
    "## Installation and Environment Setup"
   ]
  },
  {
   "cell_type": "markdown",
   "metadata": {},
   "source": [
    "- I have created a conda environment for running flask that contains most of my favorite/most used packages\n",
    "- The steps below outline how to reproduce this environment from the Anaconda prompt"
   ]
  },
  {
   "cell_type": "markdown",
   "metadata": {},
   "source": [
    "<p style=\"background:black;text-align:left\">\n",
    "    <code style=\"background:black;color:white;margin:3px\"><br> (base) C:\\Users\\User\\Documents> conda update -n base conda<br> (base) C:\\Users\\User\\Documents> conda create -n flask_env python=3.8<br> (base) C:\\Users\\User\\Documents> conda activate flask_env<br> (flask_env) C:\\Users\\User\\Documents> conda install -c conda-forge notebook ipywidgets nodejs<br> (flask_env) C:\\Users\\User\\Documents> conda install pandas scikit-learn geopandas<br> (flask_env) C:\\Users\\User\\Documents> pip install plotly==4.9.0<br> (flask_env) C:\\Users\\User\\Documents> pip install nbserverproxy paramiko pymongo JayDeBeApi xmltodict pgpy flask dash dask<br> (flask_env) C:\\Users\\User\\Documents> conda install -c plotly plotly-orca psutil requests<br> (flask_env) C:\\Users\\User\\Documents> jupyter serverextension enable --py nbserverproxy\n",
    "    </code>\n",
    "    </p>"
   ]
  },
  {
   "cell_type": "markdown",
   "metadata": {},
   "source": [
    "## The Flask Class and Your app"
   ]
  },
  {
   "cell_type": "markdown",
   "metadata": {},
   "source": [
    "- The Flask object implements a Web Server Gateway Interface (WSGI or WIZ-ghee) app and acts as the central object\n",
    "- **Never name a flask app `flask.py`**\n",
    "    - This will interfere with flask\n",
    "- It is passed the name of the module or package of the application\n",
    "    - Either the folder name with the `__init__.py` file inside or the name of a `.py` file\n",
    "- Usually, you creat a Flask instance in the main module or in the `__init__.py` file like this:\n",
    "> ```python\n",
    "from flask import Flask\n",
    "app = Flask(__name__)\n",
    "```"
   ]
  },
  {
   "cell_type": "markdown",
   "metadata": {},
   "source": [
    "#### More info on the parameter passed to `Flask()`\n",
    "- If using a single module, *ALWAYS* pass `__name__`\n",
    "- If you are using a package, it's usually best practice to hardcode the name of your package there\n",
    "- Example: app is defined in `myapplication/app.py`\n",
    "> ```python\n",
    "app = Flask('myapplication') #or\n",
    "app = Flask(__name__.split('.')[0])\n",
    "```"
   ]
  },
  {
   "cell_type": "markdown",
   "metadata": {},
   "source": [
    "## Flask Hello World App\n",
    "```python\n",
    "from flask import Flask\n",
    "\n",
    "# create an instance of Flask\n",
    "app = Flask(__name__)\n",
    "\n",
    "# the route() decorator tells Flask what URL should trigger this function\n",
    "@app.route('/')\n",
    "def hello_world():\n",
    "    return 'Hello World!'\n",
    "```"
   ]
  },
  {
   "cell_type": "markdown",
   "metadata": {},
   "source": [
    "## Running a Flask App\n",
    "- This runs on a local host in the browser\n",
    "- See [Deployment Options](https://flask.palletsprojects.com/en/1.1.x/deploying/#deployment)\n",
    "\n",
    "#### cmd or Anaconda Prompt\n",
    "<p style=\"background:black;text-align:left\">\n",
    "    <code style=\"background:black;color:white;margin:3px\"><br> C:\\path\\to\\app> set FLASK_APP=filename.py<br> C:\\path\\to\\app> flask run\n",
    "    </code>\n",
    "    </p>\n",
    "    \n",
    "#### Linux style terminal\n",
    "<p style=\"background:black;text-align:left\">\n",
    "    <code style=\"background:black;color:white;margin:3px\"><br> user@host:~/path/to/app$ export FLASK_APP=filename.py\n",
    " user@host:~/path/to/app$ flask run\n",
    "    </code>\n",
    "    </p>\n",
    "    \n",
    "#### PowerShell\n",
    "<p style=\"background:black;text-align:left\">\n",
    "    <code style=\"background:black;color:white;margin:3px\"><br> C:\\path\\to\\app> $env:FLASK_APP=filename.py<br> C:\\path\\to\\app> flask run\n",
    "    </code>\n",
    "    </p>\n",
    "    \n",
    "- Copy and paste the URL after the `Running on:` console output in your browser\n",
    "- Use `ctrl + c` in the terminal window to stop the session"
   ]
  },
  {
   "cell_type": "markdown",
   "metadata": {},
   "source": [
    "## Enabling Development/Debug Mode\n",
    "- The app will update while being hosted with any code changes\n",
    "- Debug mode will be enabled\n",
    "> When setting the `FLASK_APP` variable, set `FLASK_ENV=development`\n",
    "- You can set back to the default value `FLASK_ENV=production` if wanting to change this"
   ]
  },
  {
   "cell_type": "markdown",
   "metadata": {},
   "source": [
    "## App Routing and URL's\n",
    "- Specify meaningful routes to your app's urls\n",
    "- Examples:\n",
    "\n",
    "```python\n",
    "@app.route('/')\n",
    "def index():\n",
    "    return 'Index Page'\n",
    "\n",
    "@app.route('/hello')\n",
    "def hello():\n",
    "    return 'Hello World'\n",
    "```"
   ]
  },
  {
   "cell_type": "markdown",
   "metadata": {},
   "source": [
    "## URL Variables\n",
    "- Can add variable sections to a URL using `<variable_name>`\n",
    "- The function receives the `<variable_name>` as a keyword arg\n",
    "- Can also use a converter to specify the type fo the argument with `<converter:variable_name>`\n",
    "    - Converter types:\n",
    "        - string (default)\n",
    "        - int\n",
    "        - float\n",
    "        - path\n",
    "        - uuid\n",
    "> Note: Always use markupsafe in conjunction with this to avoid injection attacks (see example)\n",
    "        \n",
    "```python\n",
    "from markupsafe import escape\n",
    "\n",
    "# variable passed as keyword arg to function\n",
    "@app.route('/user/<username>')\n",
    "def show_user_profile(username):\n",
    "    # show the user's profile\n",
    "    return f'User {escape(username)}'\n",
    "\n",
    "# when post_id is always an integer\n",
    "@app.route('/post/<int:post_id>')\n",
    "def show_post(post_id):\n",
    "    # show the post with teh specified id\n",
    "    return f'Post {post_id}'\n",
    "\n",
    "@app.route('/path/<path:subpath')\n",
    "def show_subpath(subpath):\n",
    "    # show the subpath after /path/\n",
    "    return f'Subpath {escape(subpath)}'\n",
    "```"
   ]
  },
  {
   "cell_type": "code",
   "execution_count": null,
   "metadata": {},
   "outputs": [],
   "source": []
  },
  {
   "cell_type": "code",
   "execution_count": null,
   "metadata": {},
   "outputs": [],
   "source": []
  }
 ],
 "metadata": {
  "kernelspec": {
   "display_name": "Python 3",
   "language": "python",
   "name": "python3"
  },
  "language_info": {
   "codemirror_mode": {
    "name": "ipython",
    "version": 3
   },
   "file_extension": ".py",
   "mimetype": "text/x-python",
   "name": "python",
   "nbconvert_exporter": "python",
   "pygments_lexer": "ipython3",
   "version": "3.8.5"
  }
 },
 "nbformat": 4,
 "nbformat_minor": 4
}
