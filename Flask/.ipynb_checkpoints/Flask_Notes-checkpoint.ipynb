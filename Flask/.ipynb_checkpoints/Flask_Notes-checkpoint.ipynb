{
 "cells": [
  {
   "cell_type": "markdown",
   "metadata": {},
   "source": [
    "# Flask Notes"
   ]
  },
  {
   "cell_type": "markdown",
   "metadata": {},
   "source": [
    "## Installation and Environment Setup"
   ]
  },
  {
   "cell_type": "markdown",
   "metadata": {},
   "source": [
    "- I have created a conda environment for running flask that contains most of my favorite/most used packages\n",
    "- The steps below outline how to reproduce this environment from the Anaconda prompt"
   ]
  },
  {
   "cell_type": "markdown",
   "metadata": {},
   "source": [
    "<p style=\"background:black;text-align:left\">\n",
    "    <code style=\"background:black;color:white;margin:3px\"><br> (base) C:\\Users\\User\\Documents> conda update -n base conda<br> (base) C:\\Users\\User\\Documents> conda create -n flask_env python=3.8<br> (base) C:\\Users\\User\\Documents> conda activate flask_env<br> (flask_env) C:\\Users\\User\\Documents> conda install -c conda-forge notebook ipywidgets nodejs<br> (flask_env) C:\\Users\\User\\Documents> conda install pandas scikit-learn<br> (flask_env) C:\\Users\\User\\Documents> pip install plotly==4.9.0<br> (flask_env) C:\\Users\\User\\Documents> pip install nbserverproxy paramiko pymongo JayDeBeApi xmltodict pgpy flask dash dask<br> (flask_env) C:\\Users\\User\\Documents> conda install -c plotly plotly-orca psutil requests<br> (flask_env) C:\\Users\\User\\Documents> jupyter serverextension enable --py nbserverproxy\n",
    "    </code>\n",
    "    </p>"
   ]
  },
  {
   "cell_type": "code",
   "execution_count": null,
   "metadata": {},
   "outputs": [],
   "source": []
  }
 ],
 "metadata": {
  "kernelspec": {
   "display_name": "Python 3",
   "language": "python",
   "name": "python3"
  },
  "language_info": {
   "codemirror_mode": {
    "name": "ipython",
    "version": 3
   },
   "file_extension": ".py",
   "mimetype": "text/x-python",
   "name": "python",
   "nbconvert_exporter": "python",
   "pygments_lexer": "ipython3",
   "version": "3.8.5"
  }
 },
 "nbformat": 4,
 "nbformat_minor": 4
}
