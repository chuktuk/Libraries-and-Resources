{
 "cells": [
  {
   "cell_type": "markdown",
   "id": "ffd5301b-c52d-4884-9020-1d3516188362",
   "metadata": {},
   "source": [
    "# Interpretable Machine Learning with Python\n",
    "#### Book Notes and Code Examples"
   ]
  },
  {
   "cell_type": "code",
   "execution_count": null,
   "id": "f8efe1dd-2d8a-4ec2-92a8-04754836a20d",
   "metadata": {},
   "outputs": [],
   "source": []
  },
  {
   "cell_type": "markdown",
   "id": "b4764cd0-b555-4747-96ff-04d8b8eedb5e",
   "metadata": {},
   "source": [
    "## Ch 1: Interpretation, Interpretability, and Explainability; and Why Does It Matter?"
   ]
  },
  {
   "cell_type": "code",
   "execution_count": null,
   "id": "94d4e5f4-2f36-42db-a324-2273067f70f8",
   "metadata": {},
   "outputs": [],
   "source": []
  },
  {
   "cell_type": "markdown",
   "id": "71fcd5eb-14d0-4266-a474-2ff6d8a459ed",
   "metadata": {},
   "source": [
    "### First Example: Linear Model of Height and Weight"
   ]
  },
  {
   "cell_type": "code",
   "execution_count": 1,
   "id": "8aa1bfb4-57fe-4b53-a945-65578fafb138",
   "metadata": {},
   "outputs": [],
   "source": [
    "import math\n",
    "import requests\n",
    "from bs4 import BeautifulSoup\n",
    "import pandas as pd\n",
    "from sklearn import linear_model\n",
    "from sklearn.metrics import mean_absolute_error\n",
    "import matplotlib.pyplot as plt\n",
    "from scipy.stats import pearsonr"
   ]
  },
  {
   "cell_type": "code",
   "execution_count": 8,
   "id": "9e4900f6-4a3c-4660-8097-ec7ccba299be",
   "metadata": {},
   "outputs": [],
   "source": [
    "# original data set is giving errors, using MLB data instead\n",
    "url = 'http://wiki.stat.ucla.edu/socr/index.php/SOCR_Data_MLB_HeightsWeights'\n",
    "page = requests.get(url)"
   ]
  },
  {
   "cell_type": "code",
   "execution_count": 9,
   "id": "1e39e6dc-b97a-41f0-9294-a212c425e6da",
   "metadata": {},
   "outputs": [],
   "source": [
    "soup = BeautifulSoup(page.content, 'html.parser')\n",
    "tbl = soup.find('table', {'class': 'wikitable'})"
   ]
  },
  {
   "cell_type": "code",
   "execution_count": 12,
   "id": "3200e651-b998-4984-b097-703b164e8bc6",
   "metadata": {},
   "outputs": [],
   "source": [
    "# tbl Height(inches) Weight(pounds)"
   ]
  },
  {
   "cell_type": "code",
   "execution_count": 13,
   "id": "1975c089-67fa-4936-afc9-0a548719fe63",
   "metadata": {},
   "outputs": [],
   "source": [
    "height_weight_df = pd.read_html(str(tbl))[0][['Height(inches)', 'Weight(pounds)']]"
   ]
  },
  {
   "cell_type": "code",
   "execution_count": 14,
   "id": "be27bc0e-38d1-4e0c-b7a7-32e166e0bc1c",
   "metadata": {},
   "outputs": [
    {
     "name": "stdout",
     "output_type": "stream",
     "text": [
      "1034\n"
     ]
    }
   ],
   "source": [
    "num_records = height_weight_df.shape[0]\n",
    "print(num_records)"
   ]
  },
  {
   "cell_type": "code",
   "execution_count": 17,
   "id": "cf2e462c-5360-477c-b060-8eab2cc51f95",
   "metadata": {},
   "outputs": [
    {
     "name": "stdout",
     "output_type": "stream",
     "text": [
      "<class 'pandas.core.frame.DataFrame'>\n",
      "RangeIndex: 1034 entries, 0 to 1033\n",
      "Data columns (total 2 columns):\n",
      " #   Column          Non-Null Count  Dtype  \n",
      "---  ------          --------------  -----  \n",
      " 0   Height(inches)  1034 non-null   int64  \n",
      " 1   Weight(pounds)  1033 non-null   float64\n",
      "dtypes: float64(1), int64(1)\n",
      "memory usage: 16.3 KB\n"
     ]
    }
   ],
   "source": [
    "height_weight_df.info()"
   ]
  },
  {
   "cell_type": "code",
   "execution_count": 18,
   "id": "fb6f42cc-bd87-4bf8-b588-86ca23034f97",
   "metadata": {},
   "outputs": [],
   "source": [
    "height_weight_df.dropna(how='any', inplace=True)"
   ]
  },
  {
   "cell_type": "code",
   "execution_count": 19,
   "id": "cdf712f2-887e-41de-929d-315295adfa85",
   "metadata": {},
   "outputs": [
    {
     "name": "stdout",
     "output_type": "stream",
     "text": [
      "1033\n"
     ]
    }
   ],
   "source": [
    "num_records = height_weight_df.shape[0]\n",
    "print(num_records)"
   ]
  },
  {
   "cell_type": "code",
   "execution_count": 20,
   "id": "f650d68f-492f-4997-b8bb-c99d5be25b94",
   "metadata": {},
   "outputs": [],
   "source": [
    "x = height_weight_df['Height(inches)'].values.reshape(num_records, 1)\n",
    "y = height_weight_df['Weight(pounds)'].values.reshape(num_records, 1)"
   ]
  },
  {
   "cell_type": "code",
   "execution_count": 21,
   "id": "a56dac5e-b83f-4daf-b33b-686c4fe11bb3",
   "metadata": {},
   "outputs": [],
   "source": [
    "model = linear_model.LinearRegression()\n",
    "_ = model.fit(x, y)"
   ]
  },
  {
   "cell_type": "code",
   "execution_count": 22,
   "id": "bf9c8485-f89a-424c-9790-293fff7a57b2",
   "metadata": {},
   "outputs": [
    {
     "name": "stdout",
     "output_type": "stream",
     "text": [
      "ŷ =-155.09163607275406 + 4.841058964983448 x\n"
     ]
    }
   ],
   "source": [
    "print(f'ŷ ={model.intercept_[0]} + {model.coef_.T[0][0]} x')"
   ]
  },
  {
   "cell_type": "code",
   "execution_count": 23,
   "id": "50ead930-f82b-4df2-8359-ee4999b4b9c0",
   "metadata": {},
   "outputs": [],
   "source": [
    "y_pred = model.predict(x)"
   ]
  },
  {
   "cell_type": "code",
   "execution_count": 24,
   "id": "7ac054b1-0239-4476-a4d0-9d1f892d069d",
   "metadata": {},
   "outputs": [
    {
     "name": "stdout",
     "output_type": "stream",
     "text": [
      "14.093079331241574\n"
     ]
    }
   ],
   "source": [
    "mae = mean_absolute_error(y, y_pred)\n",
    "print(mae)"
   ]
  },
  {
   "cell_type": "code",
   "execution_count": 25,
   "id": "421a7790-54aa-4a47-b93a-174bb2c10395",
   "metadata": {},
   "outputs": [
    {
     "data": {
      "text/plain": [
       "Text(0, 0.5, 'Weight(pounds)')"
      ]
     },
     "execution_count": 25,
     "metadata": {},
     "output_type": "execute_result"
    },
    {
     "data": {
      "image/png": "[encoded data removed]",
      "text/plain": [
       "<Figure size 432x288 with 1 Axes>"
      ]
     },
     "metadata": {
      "needs_background": "light"
     },
     "output_type": "display_data"
    }
   ],
   "source": [
    "plt.scatter(x, y, color='black')\n",
    "plt.plot(x, y_pred, color='blue', linewidth=3)\n",
    "plt.plot(x, y_pred+mae, color='lightgray')\n",
    "plt.plot(x, y_pred-mae, color='lightgray')\n",
    "plt.xlabel('Height(inches)')\n",
    "plt.ylabel('Weight(pounds)')"
   ]
  },
  {
   "cell_type": "code",
   "execution_count": 26,
   "id": "752e33b1-fe4f-4c11-a6bb-721ba658641c",
   "metadata": {},
   "outputs": [
    {
     "name": "stdout",
     "output_type": "stream",
     "text": [
      "0.5318858630270029\n"
     ]
    }
   ],
   "source": [
    "corr, pval = pearsonr(x[:,0], y[:,0])\n",
    "print(corr)"
   ]
  },
  {
   "cell_type": "code",
   "execution_count": 27,
   "id": "f0a6d88e-7274-4558-b914-447e9b6a3f99",
   "metadata": {},
   "outputs": [
    {
     "name": "stdout",
     "output_type": "stream",
     "text": [
      "1.6552817721656576e-76 True\n"
     ]
    }
   ],
   "source": [
    "print(pval, pval < 0.05)"
   ]
  },
  {
   "cell_type": "code",
   "execution_count": null,
   "id": "fd8ca944-a4e6-4a86-aecb-18ab5e473769",
   "metadata": {},
   "outputs": [],
   "source": []
  },
  {
   "cell_type": "code",
   "execution_count": null,
   "id": "f825e290-3f53-4221-b359-56c4cc7451b1",
   "metadata": {},
   "outputs": [],
   "source": []
  },
  {
   "cell_type": "markdown",
   "id": "04467db1-ded2-408a-af3d-448219f4be40",
   "metadata": {},
   "source": [
    "### Bias in Feature Selection\n",
    "- The model above isn't great at explaining weight using just height\n",
    "- It could be better if we add more features, but what features should we add?\n",
    "- **Selection Bias**: including features that are representative for the entire sample or population\n",
    "- **Omitted Variable Bias**: leaving out one or more relevant variables"
   ]
  },
  {
   "cell_type": "markdown",
   "id": "b1d662ef-69dc-40d1-b892-ef779f6665d4",
   "metadata": {},
   "source": [
    "### Model Interpretability Relies in Part on:\n",
    "1. Can we explain that predictions were made fairly?\n",
    "2. Can we trace the predictions reliably back to something or someone?\n",
    "3. Can we explain how predictions were made? Can we explain how the model works?\n",
    "-- *Can we trust the model?*"
   ]
  },
  {
   "cell_type": "markdown",
   "id": "262d5544-407b-45cc-a6b7-81175eaba67f",
   "metadata": {},
   "source": [
    "### **FAT**\n",
    "- F: fairness\n",
    "- A: accountability\n",
    "- T: transparency"
   ]
  },
  {
   "cell_type": "code",
   "execution_count": null,
   "id": "b7733124-39e8-4b57-80a4-969d0e274764",
   "metadata": {},
   "outputs": [],
   "source": []
  },
  {
   "cell_type": "markdown",
   "id": "9c6fbbb8-c478-4ffe-83f8-1b07ae51fa78",
   "metadata": {},
   "source": [
    "## Interpretability vs Explainability"
   ]
  },
  {
   "cell_type": "markdown",
   "id": "76903db8-55e6-49ec-92c1-e56019cc0dfc",
   "metadata": {},
   "source": [
    "### **Interpretability** "
   ]
  },
  {
   "cell_type": "markdown",
   "id": "684dddbc-8812-4fe7-a2c7-d31ea517cfdc",
   "metadata": {},
   "source": [
    "- The extent to which humans (including non SME's) can understand a model's cause/effect (input/output)\n",
    "- Why does an input produce a specific output?\n",
    "- What are the requirements and constraints of the input data?\n",
    "- What are the confidence bounds of the predictions?\n",
    "- Why does one variable have a more substantial effect than another?\n",
    "- Explain predictions and justify that a model is the right model"
   ]
  },
  {
   "cell_type": "markdown",
   "id": "e34c8d35-2d15-4f72-baa0-af95633431be",
   "metadata": {},
   "source": [
    "**Post-hoc Interpretability**\n",
    "- Interpreting models after model training\n",
    "    - Need to make decisions that don't compromise a model's trustworthiness\n",
    "    - Models can be 'opaque' or 'less interpretable' than other model choices in this case"
   ]
  },
  {
   "cell_type": "markdown",
   "id": "90df0173-400b-4a9e-99c1-61473a795e45",
   "metadata": {},
   "source": [
    "**When does interpretability matter?**\n",
    "- Two excpetions noted in literature (not needed)\n",
    "    - When incorrect results have no (or very little) consequences (mail postal code recognition)\n",
    "    - When there are consequences, but they have been sufficiently studied/validated (traffic-alert and collision-avoidance systems TCAS)\n",
    "- **Is needed when:**\n",
    "    - Minable for scientific knowledge\n",
    "    - Reliable and safe\n",
    "    - Ethical\n",
    "    - Conclusive and consistent"
   ]
  },
  {
   "cell_type": "markdown",
   "id": "1d9c4217-e5d6-4805-855b-9016afa2eb24",
   "metadata": {},
   "source": [
    "#### Black Box Models (only inputs/outputs observable)\n",
    "- Mechanisms not completely understood\n",
    "- 'Opaque models'\n",
    "- Complex mechanisms"
   ]
  },
  {
   "cell_type": "markdown",
   "id": "e971a63d-292f-4cf6-97f4-95af9f5c1bbf",
   "metadata": {},
   "source": [
    "#### White Box Models (Transparent, can see the inner workings of the model)\n",
    "- *Intrinsically interpretable*\n",
    "- Simple mechanisms"
   ]
  },
  {
   "cell_type": "markdown",
   "id": "063a87da-e472-4ea2-bb36-3a3d613f5e0b",
   "metadata": {},
   "source": [
    "### Explainability"
   ]
  },
  {
   "cell_type": "markdown",
   "id": "91b87cc8-dbf5-40a1-af54-d5f2b856fdcb",
   "metadata": {},
   "source": [
    "- Everything that interpretability is + some more\n",
    "- Goes deeper on the transparency part -> demands human-friendly explanations for a model's inner workings and the training process (not just model inference)\n",
    "    - model, design, and algorithmic transparency"
   ]
  },
  {
   "cell_type": "markdown",
   "id": "e829c266-5363-4275-a30c-552e367d18a5",
   "metadata": {},
   "source": [
    "- Types of *Transparency*\n",
    "    - Model transparency\n",
    "        - Explain how a model is trained step by step\n",
    "    - Design transparency\n",
    "        - Explain choices made (model architecture/hyperparameters)\n",
    "    - Algorithmic transparency\n",
    "        - Explain automated optimizations (hyperparameter tuning algorithms (e.g. grid search), and note any that cannot be reproduced due to random nature (e.g. randomized search cv), early stopping, stochastic gradient descent that make the algorithm non-transparent"
   ]
  },
  {
   "cell_type": "markdown",
   "id": "dcd0fe4a-4e26-4aaf-98ac-4c00db6c9a61",
   "metadata": {},
   "source": [
    "- **Opaque models** in some cases would raise more doubts than trust to dive into the math/algorithm involved for a few reasons:\n",
    "    - Not 'statistically grounded'\n",
    "        - training maps an input to an output, leaving behind what appears to be an arbitrary trail of parameters, which while optimized to a cost function, are not grounded in statistical theory\n",
    "    - Uncertainty and non-reproducibility\n",
    "        - some opaque models use random values to initialize parameters, thus resulting in different results when reproducing training vs. transparent models; or they make use of stochastic discrimination (e.g. Random Forest)\n",
    "    - Overfitting and the curse of dimensionality\n",
    "        - many of these models operate in high-dimensional space, making it harder to generalize, which also increases the chance of overfitting\n",
    "    - Human cognition and the curse of dimensionality\n",
    "        - humans are not very good at understanding high dimensional spaces\n",
    "    - Occam's razor\n",
    "        - humans have a bias for simplicity, and can lose trust in something overly complicated"
   ]
  },
  {
   "cell_type": "markdown",
   "id": "9203b548-3efd-47fd-8bdd-3768a88195a9",
   "metadata": {},
   "source": [
    "**Why and When Does Explainability Matter?**\n",
    "- Scientific Research\n",
    "    - reproducibility is essential, and statistically grounded optimization methods are especially desirable when causality needs to be proven\n",
    "- Clinical trials\n",
    "    - reproducibility is essential, and results must be statistically grounded. Overfitting would be very bad, so simple models are preferred with the fewest dimensions possible and uncomplicated models\n",
    "- Consumer product testing\n",
    "    - similar issues as with clinical trials when life-and-death safety is on the line\n",
    "- Public policy and law\n",
    "    - algorithmic governance, fishbowl transparency vs. reasoned transparency. Fishbowl transparency is closer to that of the clinical trials/consumer product testing above, while reasoned transparency can be ad-hoc.\n",
    "- Criminal investigation and regulatory compliance audits\n",
    "    - tracing the decision trail, like with accidents at a chemical factory. This is needed to facilitate accountability and legal liability. This might be mandated by authorities in other situations."
   ]
  },
  {
   "cell_type": "code",
   "execution_count": null,
   "id": "b90d1929-9049-402a-8bf4-483662935143",
   "metadata": {},
   "outputs": [],
   "source": []
  }
 ],
 "metadata": {
  "kernelspec": {
   "display_name": "Python 3",
   "language": "python",
   "name": "python3"
  },
  "language_info": {
   "codemirror_mode": {
    "name": "ipython",
    "version": 3
   },
   "file_extension": ".py",
   "mimetype": "text/x-python",
   "name": "python",
   "nbconvert_exporter": "python",
   "pygments_lexer": "ipython3",
   "version": "3.9.5"
  }
 },
 "nbformat": 4,
 "nbformat_minor": 5
}
