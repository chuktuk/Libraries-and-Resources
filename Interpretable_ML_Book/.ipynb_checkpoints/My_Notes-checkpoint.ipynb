{
 "cells": [
  {
   "cell_type": "markdown",
   "id": "ffd5301b-c52d-4884-9020-1d3516188362",
   "metadata": {},
   "source": [
    "# Interpretable Machine Learning with Python\n",
    "#### Book Notes and Code Examples"
   ]
  },
  {
   "cell_type": "code",
   "execution_count": null,
   "id": "f8efe1dd-2d8a-4ec2-92a8-04754836a20d",
   "metadata": {},
   "outputs": [],
   "source": []
  },
  {
   "cell_type": "markdown",
   "id": "b4764cd0-b555-4747-96ff-04d8b8eedb5e",
   "metadata": {},
   "source": [
    "## Ch 1: Interpretation, Interpretability, and Explainability; and Why Does It Matter?"
   ]
  },
  {
   "cell_type": "code",
   "execution_count": null,
   "id": "32abb880-d86f-4d60-b272-48245c40e5e8",
   "metadata": {},
   "outputs": [],
   "source": []
  }
 ],
 "metadata": {
  "kernelspec": {
   "display_name": "Python 3",
   "language": "python",
   "name": "python3"
  },
  "language_info": {
   "codemirror_mode": {
    "name": "ipython",
    "version": 3
   },
   "file_extension": ".py",
   "mimetype": "text/x-python",
   "name": "python",
   "nbconvert_exporter": "python",
   "pygments_lexer": "ipython3",
   "version": "3.7.10"
  }
 },
 "nbformat": 4,
 "nbformat_minor": 5
}
