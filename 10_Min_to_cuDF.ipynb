{
 "cells": [
  {
   "cell_type": "code",
   "execution_count": 1,
   "id": "9c2f66ee-820a-48ac-a5a2-96199decb0e5",
   "metadata": {},
   "outputs": [],
   "source": [
    "import os\n",
    "\n",
    "import cupy as cp\n",
    "import pandas as pd\n",
    "import cudf\n",
    "import dask_cudf\n",
    "\n",
    "cp.random.seed(12)"
   ]
  },
  {
   "cell_type": "code",
   "execution_count": 2,
   "id": "1c898655-f955-4f5e-8b3e-e4df00d4ca8b",
   "metadata": {},
   "outputs": [],
   "source": [
    "df = cudf.read_parquet('data/2000-01.parquet')"
   ]
  },
  {
   "cell_type": "code",
   "execution_count": 3,
   "id": "220ebe58-7fe0-4ff9-8e76-7a8463fa9572",
   "metadata": {},
   "outputs": [
    {
     "data": {
      "text/plain": [
       "(2592000, 5)"
      ]
     },
     "execution_count": 3,
     "metadata": {},
     "output_type": "execute_result"
    }
   ],
   "source": [
    "df.shape"
   ]
  },
  {
   "cell_type": "code",
   "execution_count": 4,
   "id": "5bf75e72-6ef7-4570-99a2-36888724f472",
   "metadata": {},
   "outputs": [
    {
     "data": {
      "text/html": [
       "<div>\n",
       "<style scoped>\n",
       "    .dataframe tbody tr th:only-of-type {\n",
       "        vertical-align: middle;\n",
       "    }\n",
       "\n",
       "    .dataframe tbody tr th {\n",
       "        vertical-align: top;\n",
       "    }\n",
       "\n",
       "    .dataframe thead th {\n",
       "        text-align: right;\n",
       "    }\n",
       "</style>\n",
       "<table border=\"1\" class=\"dataframe\">\n",
       "  <thead>\n",
       "    <tr style=\"text-align: right;\">\n",
       "      <th></th>\n",
       "      <th>timestamp</th>\n",
       "      <th>id</th>\n",
       "      <th>name</th>\n",
       "      <th>x</th>\n",
       "      <th>y</th>\n",
       "    </tr>\n",
       "    <tr>\n",
       "      <th>index</th>\n",
       "      <th></th>\n",
       "      <th></th>\n",
       "      <th></th>\n",
       "      <th></th>\n",
       "      <th></th>\n",
       "    </tr>\n",
       "  </thead>\n",
       "  <tbody>\n",
       "    <tr>\n",
       "      <th>0</th>\n",
       "      <td>2000-01-01 00:00:00</td>\n",
       "      <td>975</td>\n",
       "      <td>Frank</td>\n",
       "      <td>0.214951</td>\n",
       "      <td>-0.066426</td>\n",
       "    </tr>\n",
       "    <tr>\n",
       "      <th>1</th>\n",
       "      <td>2000-01-01 00:00:01</td>\n",
       "      <td>1039</td>\n",
       "      <td>Oliver</td>\n",
       "      <td>-0.547168</td>\n",
       "      <td>0.230221</td>\n",
       "    </tr>\n",
       "    <tr>\n",
       "      <th>2</th>\n",
       "      <td>2000-01-01 00:00:02</td>\n",
       "      <td>990</td>\n",
       "      <td>Alice</td>\n",
       "      <td>-0.777825</td>\n",
       "      <td>-0.867442</td>\n",
       "    </tr>\n",
       "    <tr>\n",
       "      <th>3</th>\n",
       "      <td>2000-01-01 00:00:03</td>\n",
       "      <td>972</td>\n",
       "      <td>Ursula</td>\n",
       "      <td>0.065803</td>\n",
       "      <td>-0.224570</td>\n",
       "    </tr>\n",
       "    <tr>\n",
       "      <th>4</th>\n",
       "      <td>2000-01-01 00:00:04</td>\n",
       "      <td>1035</td>\n",
       "      <td>Kevin</td>\n",
       "      <td>0.130403</td>\n",
       "      <td>0.604034</td>\n",
       "    </tr>\n",
       "  </tbody>\n",
       "</table>\n",
       "</div>"
      ],
      "text/plain": [
       "                timestamp    id    name         x         y\n",
       "index                                                      \n",
       "0     2000-01-01 00:00:00   975   Frank  0.214951 -0.066426\n",
       "1     2000-01-01 00:00:01  1039  Oliver -0.547168  0.230221\n",
       "2     2000-01-01 00:00:02   990   Alice -0.777825 -0.867442\n",
       "3     2000-01-01 00:00:03   972  Ursula  0.065803 -0.224570\n",
       "4     2000-01-01 00:00:04  1035   Kevin  0.130403  0.604034"
      ]
     },
     "execution_count": 4,
     "metadata": {},
     "output_type": "execute_result"
    }
   ],
   "source": [
    "df.head()"
   ]
  },
  {
   "cell_type": "code",
   "execution_count": 5,
   "id": "edc123b8-53ac-49d0-9051-290238429a57",
   "metadata": {},
   "outputs": [
    {
     "data": {
      "text/html": [
       "<div>\n",
       "<style scoped>\n",
       "    .dataframe tbody tr th:only-of-type {\n",
       "        vertical-align: middle;\n",
       "    }\n",
       "\n",
       "    .dataframe tbody tr th {\n",
       "        vertical-align: top;\n",
       "    }\n",
       "\n",
       "    .dataframe thead th {\n",
       "        text-align: right;\n",
       "    }\n",
       "</style>\n",
       "<table border=\"1\" class=\"dataframe\">\n",
       "  <thead>\n",
       "    <tr style=\"text-align: right;\">\n",
       "      <th></th>\n",
       "      <th>timestamp</th>\n",
       "      <th>id</th>\n",
       "      <th>name</th>\n",
       "      <th>x</th>\n",
       "      <th>y</th>\n",
       "    </tr>\n",
       "    <tr>\n",
       "      <th>index</th>\n",
       "      <th></th>\n",
       "      <th></th>\n",
       "      <th></th>\n",
       "      <th></th>\n",
       "      <th></th>\n",
       "    </tr>\n",
       "  </thead>\n",
       "  <tbody>\n",
       "    <tr>\n",
       "      <th>86395</th>\n",
       "      <td>2000-01-10 23:59:55</td>\n",
       "      <td>960</td>\n",
       "      <td>Norbert</td>\n",
       "      <td>-0.738383</td>\n",
       "      <td>0.001738</td>\n",
       "    </tr>\n",
       "    <tr>\n",
       "      <th>86396</th>\n",
       "      <td>2000-01-10 23:59:56</td>\n",
       "      <td>1014</td>\n",
       "      <td>Laura</td>\n",
       "      <td>-0.091394</td>\n",
       "      <td>-0.222904</td>\n",
       "    </tr>\n",
       "    <tr>\n",
       "      <th>86397</th>\n",
       "      <td>2000-01-10 23:59:57</td>\n",
       "      <td>1035</td>\n",
       "      <td>Yvonne</td>\n",
       "      <td>-0.049637</td>\n",
       "      <td>-0.122041</td>\n",
       "    </tr>\n",
       "    <tr>\n",
       "      <th>86398</th>\n",
       "      <td>2000-01-10 23:59:58</td>\n",
       "      <td>976</td>\n",
       "      <td>Ingrid</td>\n",
       "      <td>-0.384199</td>\n",
       "      <td>-0.099714</td>\n",
       "    </tr>\n",
       "    <tr>\n",
       "      <th>86399</th>\n",
       "      <td>2000-01-10 23:59:59</td>\n",
       "      <td>1011</td>\n",
       "      <td>Jerry</td>\n",
       "      <td>-0.468021</td>\n",
       "      <td>0.477467</td>\n",
       "    </tr>\n",
       "  </tbody>\n",
       "</table>\n",
       "</div>"
      ],
      "text/plain": [
       "                timestamp    id     name         x         y\n",
       "index                                                       \n",
       "86395 2000-01-10 23:59:55   960  Norbert -0.738383  0.001738\n",
       "86396 2000-01-10 23:59:56  1014    Laura -0.091394 -0.222904\n",
       "86397 2000-01-10 23:59:57  1035   Yvonne -0.049637 -0.122041\n",
       "86398 2000-01-10 23:59:58   976   Ingrid -0.384199 -0.099714\n",
       "86399 2000-01-10 23:59:59  1011    Jerry -0.468021  0.477467"
      ]
     },
     "execution_count": 5,
     "metadata": {},
     "output_type": "execute_result"
    }
   ],
   "source": [
    "df.tail()"
   ]
  },
  {
   "cell_type": "code",
   "execution_count": 6,
   "id": "86b59d28-a728-4fc7-b83b-c8f9cd15c5e6",
   "metadata": {},
   "outputs": [
    {
     "data": {
      "text/plain": [
       "cudf.core.dataframe.DataFrame"
      ]
     },
     "execution_count": 6,
     "metadata": {},
     "output_type": "execute_result"
    }
   ],
   "source": [
    "type(df)"
   ]
  },
  {
   "cell_type": "code",
   "execution_count": 7,
   "id": "671e0ac0-643a-4574-aa55-0db8262b3c58",
   "metadata": {},
   "outputs": [
    {
     "data": {
      "text/html": [
       "<div>\n",
       "<style scoped>\n",
       "    .dataframe tbody tr th:only-of-type {\n",
       "        vertical-align: middle;\n",
       "    }\n",
       "\n",
       "    .dataframe tbody tr th {\n",
       "        vertical-align: top;\n",
       "    }\n",
       "\n",
       "    .dataframe thead th {\n",
       "        text-align: right;\n",
       "    }\n",
       "</style>\n",
       "<table border=\"1\" class=\"dataframe\">\n",
       "  <thead>\n",
       "    <tr style=\"text-align: right;\">\n",
       "      <th></th>\n",
       "      <th>timestamp</th>\n",
       "      <th>id</th>\n",
       "      <th>name</th>\n",
       "      <th>x</th>\n",
       "      <th>y</th>\n",
       "    </tr>\n",
       "    <tr>\n",
       "      <th>index</th>\n",
       "      <th></th>\n",
       "      <th></th>\n",
       "      <th></th>\n",
       "      <th></th>\n",
       "      <th></th>\n",
       "    </tr>\n",
       "  </thead>\n",
       "  <tbody>\n",
       "    <tr>\n",
       "      <th>2</th>\n",
       "      <td>2000-01-01 00:00:02</td>\n",
       "      <td>990</td>\n",
       "      <td>Alice</td>\n",
       "      <td>-0.777825</td>\n",
       "      <td>-0.867442</td>\n",
       "    </tr>\n",
       "    <tr>\n",
       "      <th>5</th>\n",
       "      <td>2000-01-01 00:00:05</td>\n",
       "      <td>1007</td>\n",
       "      <td>Alice</td>\n",
       "      <td>-0.715288</td>\n",
       "      <td>0.467646</td>\n",
       "    </tr>\n",
       "    <tr>\n",
       "      <th>40</th>\n",
       "      <td>2000-01-01 00:00:40</td>\n",
       "      <td>1014</td>\n",
       "      <td>Alice</td>\n",
       "      <td>-0.666317</td>\n",
       "      <td>0.456537</td>\n",
       "    </tr>\n",
       "    <tr>\n",
       "      <th>61</th>\n",
       "      <td>2000-01-01 00:01:01</td>\n",
       "      <td>1015</td>\n",
       "      <td>Alice</td>\n",
       "      <td>-0.077106</td>\n",
       "      <td>0.327120</td>\n",
       "    </tr>\n",
       "    <tr>\n",
       "      <th>111</th>\n",
       "      <td>2000-01-01 00:01:51</td>\n",
       "      <td>1002</td>\n",
       "      <td>Alice</td>\n",
       "      <td>-0.676069</td>\n",
       "      <td>-0.752535</td>\n",
       "    </tr>\n",
       "  </tbody>\n",
       "</table>\n",
       "</div>"
      ],
      "text/plain": [
       "                timestamp    id   name         x         y\n",
       "index                                                     \n",
       "2     2000-01-01 00:00:02   990  Alice -0.777825 -0.867442\n",
       "5     2000-01-01 00:00:05  1007  Alice -0.715288  0.467646\n",
       "40    2000-01-01 00:00:40  1014  Alice -0.666317  0.456537\n",
       "61    2000-01-01 00:01:01  1015  Alice -0.077106  0.327120\n",
       "111   2000-01-01 00:01:51  1002  Alice -0.676069 -0.752535"
      ]
     },
     "execution_count": 7,
     "metadata": {},
     "output_type": "execute_result"
    }
   ],
   "source": [
    "df.sort_values('name').head()"
   ]
  },
  {
   "cell_type": "code",
   "execution_count": 8,
   "id": "52f04885-19e0-4d5f-9c36-bef96d1a5848",
   "metadata": {},
   "outputs": [
    {
     "data": {
      "text/plain": [
       "2592000"
      ]
     },
     "execution_count": 8,
     "metadata": {},
     "output_type": "execute_result"
    }
   ],
   "source": [
    "len(df.index)"
   ]
  },
  {
   "cell_type": "code",
   "execution_count": 10,
   "id": "e9974ff5-8ece-4b1d-a762-b8140a7c5ac7",
   "metadata": {},
   "outputs": [
    {
     "data": {
      "text/plain": [
       "-0.0003122162057010518"
      ]
     },
     "execution_count": 10,
     "metadata": {},
     "output_type": "execute_result"
    }
   ],
   "source": [
    "df['x'].mean()"
   ]
  },
  {
   "cell_type": "code",
   "execution_count": 11,
   "id": "04ecd7ae-30ed-4750-98e1-845b835d520d",
   "metadata": {},
   "outputs": [
    {
     "data": {
      "text/plain": [
       "2592000"
      ]
     },
     "execution_count": 11,
     "metadata": {},
     "output_type": "execute_result"
    }
   ],
   "source": [
    "df['x'].count()"
   ]
  },
  {
   "cell_type": "code",
   "execution_count": 12,
   "id": "626b258f-9cf9-4d70-8936-b17b9219b6a1",
   "metadata": {},
   "outputs": [],
   "source": [
    "x_mean_by_name = df.groupby('name')['x'].mean()"
   ]
  },
  {
   "cell_type": "code",
   "execution_count": 13,
   "id": "0bee8bd0-359c-4346-8ef6-78844a0c742a",
   "metadata": {},
   "outputs": [
    {
     "data": {
      "text/plain": [
       "(26,)"
      ]
     },
     "execution_count": 13,
     "metadata": {},
     "output_type": "execute_result"
    }
   ],
   "source": [
    "x_mean_by_name.shape"
   ]
  },
  {
   "cell_type": "code",
   "execution_count": 14,
   "id": "baab3559-cff7-406d-ad3e-25339f4a513d",
   "metadata": {},
   "outputs": [
    {
     "data": {
      "text/plain": [
       "name\n",
       "Alice      -0.000451\n",
       "Bob        -0.003964\n",
       "Charlie    -0.003123\n",
       "Dan         0.003863\n",
       "Edith      -0.000875\n",
       "Frank       0.001855\n",
       "George     -0.000439\n",
       "Hannah      0.000771\n",
       "Ingrid      0.000342\n",
       "Jerry       0.000512\n",
       "Kevin      -0.001705\n",
       "Laura       0.001074\n",
       "Michael     0.000081\n",
       "Norbert    -0.002193\n",
       "Oliver     -0.001725\n",
       "Patricia    0.000033\n",
       "Quinn       0.000675\n",
       "Ray        -0.000274\n",
       "Sarah       0.000381\n",
       "Tim        -0.002564\n",
       "Ursula     -0.000375\n",
       "Victor     -0.000221\n",
       "Wendy       0.000914\n",
       "Xavier      0.000232\n",
       "Yvonne     -0.002146\n",
       "Zelda       0.001200\n",
       "Name: x, dtype: float64"
      ]
     },
     "execution_count": 14,
     "metadata": {},
     "output_type": "execute_result"
    }
   ],
   "source": [
    "x_mean_by_name"
   ]
  },
  {
   "cell_type": "code",
   "execution_count": 25,
   "id": "8a27e00b-3a83-4294-b867-7cde629ded93",
   "metadata": {},
   "outputs": [
    {
     "data": {
      "text/plain": [
       "Jerry       100562\n",
       "Wendy       100430\n",
       "Michael     100274\n",
       "Victor       99960\n",
       "Oliver       99953\n",
       "Bob          99939\n",
       "Dan          99932\n",
       "Kevin        99906\n",
       "Alice        99859\n",
       "Yvonne       99823\n",
       "Hannah       99806\n",
       "Edith        99781\n",
       "Ray          99730\n",
       "Zelda        99697\n",
       "Patricia     99613\n",
       "Sarah        99595\n",
       "Ursula       99560\n",
       "Quinn        99517\n",
       "Norbert      99512\n",
       "George       99454\n",
       "Charlie      99433\n",
       "Ingrid       99341\n",
       "Laura        99329\n",
       "Xavier       99159\n",
       "Tim          99037\n",
       "Frank        98798\n",
       "Name: name, dtype: int32"
      ]
     },
     "execution_count": 25,
     "metadata": {},
     "output_type": "execute_result"
    }
   ],
   "source": [
    "df['name'].value_counts()"
   ]
  },
  {
   "cell_type": "code",
   "execution_count": 19,
   "id": "f9f97f15-ee37-45ae-b447-89289ce1b048",
   "metadata": {},
   "outputs": [],
   "source": [
    "df['z'] = df['x'] + 1"
   ]
  },
  {
   "cell_type": "code",
   "execution_count": 20,
   "id": "96d1d04a-7710-4a44-8cb6-421d4151a2ed",
   "metadata": {},
   "outputs": [
    {
     "data": {
      "text/plain": [
       "0.9996877837942988"
      ]
     },
     "execution_count": 20,
     "metadata": {},
     "output_type": "execute_result"
    }
   ],
   "source": [
    "df['z'].mean()"
   ]
  },
  {
   "cell_type": "code",
   "execution_count": 21,
   "id": "1d816557-6a98-4b8c-b6d1-bab56ed3cafb",
   "metadata": {},
   "outputs": [
    {
     "data": {
      "text/plain": [
       "-0.0003122162057010518"
      ]
     },
     "execution_count": 21,
     "metadata": {},
     "output_type": "execute_result"
    }
   ],
   "source": [
    "df['x'].mean()"
   ]
  },
  {
   "cell_type": "code",
   "execution_count": 22,
   "id": "70efb1c0-2793-445b-b4cc-5f1ca5c61988",
   "metadata": {},
   "outputs": [
    {
     "data": {
      "text/plain": [
       "0.9993755675885977"
      ]
     },
     "execution_count": 22,
     "metadata": {},
     "output_type": "execute_result"
    }
   ],
   "source": [
    "df['x'].mean() + df['z'].mean()"
   ]
  },
  {
   "cell_type": "code",
   "execution_count": 23,
   "id": "75dd7dc8-5666-4d83-933e-3e6d67f6d893",
   "metadata": {},
   "outputs": [
    {
     "data": {
      "text/plain": [
       "(1295294, 6)"
      ]
     },
     "execution_count": 23,
     "metadata": {},
     "output_type": "execute_result"
    }
   ],
   "source": [
    "df[df['z'] > 1].shape"
   ]
  },
  {
   "cell_type": "code",
   "execution_count": 27,
   "id": "fbe71328-05c6-4253-a3fe-0afbcfffbeb3",
   "metadata": {},
   "outputs": [
    {
     "data": {
      "text/plain": [
       "(31757, 6)"
      ]
     },
     "execution_count": 27,
     "metadata": {},
     "output_type": "execute_result"
    }
   ],
   "source": [
    "d = 1007\n",
    "df.query('id == @d').shape"
   ]
  },
  {
   "cell_type": "code",
   "execution_count": null,
   "id": "37e77e70-4422-4026-8e0b-4c5ce527f558",
   "metadata": {},
   "outputs": [],
   "source": []
  }
 ],
 "metadata": {
  "kernelspec": {
   "display_name": "Python 3",
   "language": "python",
   "name": "python3"
  },
  "language_info": {
   "codemirror_mode": {
    "name": "ipython",
    "version": 3
   },
   "file_extension": ".py",
   "mimetype": "text/x-python",
   "name": "python",
   "nbconvert_exporter": "python",
   "pygments_lexer": "ipython3",
   "version": "3.8.6"
  },
  "widgets": {
   "application/vnd.jupyter.widget-state+json": {
    "state": {},
    "version_major": 2,
    "version_minor": 0
   }
  }
 },
 "nbformat": 4,
 "nbformat_minor": 5
}
