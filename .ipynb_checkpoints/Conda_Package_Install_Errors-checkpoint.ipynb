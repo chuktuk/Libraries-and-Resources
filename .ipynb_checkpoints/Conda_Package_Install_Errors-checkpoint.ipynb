{
 "cells": [
  {
   "cell_type": "markdown",
   "id": "allied-injury",
   "metadata": {},
   "source": [
    "# Conda HTTP Error for Conda Installs"
   ]
  },
  {
   "cell_type": "markdown",
   "id": "young-ordinary",
   "metadata": {},
   "source": [
    "- Often caused by firewalls or self-sign certificates"
   ]
  },
  {
   "cell_type": "code",
   "execution_count": null,
   "id": "smaller-nebraska",
   "metadata": {},
   "outputs": [],
   "source": []
  },
  {
   "cell_type": "markdown",
   "id": "incorrect-fault",
   "metadata": {},
   "source": [
    "## Note\n",
    "- Upgrading conda via `conda update -n base -c defaults conda` or potentially other methods can reset the cacert.pem file\n",
    "- This will require readding the certificates"
   ]
  },
  {
   "cell_type": "code",
   "execution_count": null,
   "id": "enabling-torture",
   "metadata": {},
   "outputs": [],
   "source": []
  },
  {
   "cell_type": "markdown",
   "id": "modern-winner",
   "metadata": {},
   "source": [
    "## Diagnostics\n",
    "- `conda info -s`\n",
    "- `conda config --show`\n",
    "- `conda config --set <parameter> value`"
   ]
  },
  {
   "cell_type": "code",
   "execution_count": null,
   "id": "sudden-first",
   "metadata": {},
   "outputs": [],
   "source": []
  },
  {
   "cell_type": "markdown",
   "id": "announced-selection",
   "metadata": {},
   "source": [
    "1. Navigate to the page that is giving the error in a browser\n",
    "    - often [https://repo.anaconda.com/pkgs/main/win-64/current_repodata.json](https://repo.anaconda.com/pkgs/main/win-64/current_repodata.json)\n",
    "2. Right-click the lock by https\n",
    "3. Click Certificate\n",
    "4. Path tab -> click the top level -> View Certificate\n",
    "5. Details tab -> Copy to file\n",
    "6. Base-64 encoding -> save with type=all files -> change extension to .pem\n",
    "7. Repeat for any other levels you can in the certificate\n",
    "8. Copy the certificate text to C:/users/<user_name>/anaconda3/lib/site-packages/certifi/cacert.pem\n",
    "    - may also need to copy to C:/users/<user_name>/appdata/local/continuum/anaconda3/lib/site-packages/certifi/cacert.pem\n",
    "9. In anaconda prompt\n",
    "    - `conda config --set ssl_verify C:/users/<user_name>/appdata/local/continuum/anaconda3/lib/site-packages/certifi/cacert.pem`\n",
    "    - `set REQUESTS_CA_BUNDLE=C:/users/<user_name>/appdata/local/continuum/anaconda3/lib/site-packages/certifi/cacert.pem`\n",
    "10. For step 9, use the path from step 8 if the path in step 9 doesn't exist"
   ]
  },
  {
   "cell_type": "markdown",
   "id": "unusual-synthesis",
   "metadata": {},
   "source": [
    "## For pip installs\n",
    "- `pip install --trusted-host pypi.org --trusted-host files.pythonhosted.org`\n",
    "    - additional commands like `--upgrade` or `-U` go at the end of this"
   ]
  },
  {
   "cell_type": "code",
   "execution_count": null,
   "id": "expanded-douglas",
   "metadata": {},
   "outputs": [],
   "source": []
  }
 ],
 "metadata": {
  "kernelspec": {
   "display_name": "Python 3",
   "language": "python",
   "name": "python3"
  },
  "language_info": {
   "codemirror_mode": {
    "name": "ipython",
    "version": 3
   },
   "file_extension": ".py",
   "mimetype": "text/x-python",
   "name": "python",
   "nbconvert_exporter": "python",
   "pygments_lexer": "ipython3",
   "version": "3.7.7"
  }
 },
 "nbformat": 4,
 "nbformat_minor": 5
}
