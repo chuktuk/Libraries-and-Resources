{
 "cells": [
  {
   "cell_type": "markdown",
   "metadata": {},
   "source": [
    "# Conda Essentials"
   ]
  },
  {
   "cell_type": "markdown",
   "metadata": {},
   "source": [
    "#### Basics\n",
    "- Note: many of these commands are specific to the working environment\n",
    "- `conda --help`\n",
    "    - gives some basic command info\n",
    "    - **you can add `--help` after many commands for documentation**\n",
    "- `conda --version`\n",
    "    - provides version info\n",
    "- `conda list`\n",
    "    - lists all anaconda packages that are installed, a version, a build, and maybe a channel\n",
    "    - can add a specific package name or a regex in single quotes ''\n",
    "        - `conda list 'numpy|pandas'`\n",
    "    - by default, searches the current environment\n",
    "        - add the `--name ENVNAME` switch to check another environment\n",
    "- `conda search PKGNAME`\n",
    "    - will list the available versions to install for a package\n",
    "    - `conda search 'numpy=1.13.1=py36*' --info`\n",
    "        - will check object dependencies using numpy ver 1.13.1 and python ver 3.6.0\n",
    "        - can use wildcard * to check all py3.6* versions for example\n",
    "        - can omit the =py36 part to just chuck the numpy part\n",
    "        - quotes only used when either combining stuff or using the regex *\n",
    "- `conda install`\n",
    "    - use to install packages\n",
    "    - you can specify version if you want, just be sure to use single quotes ''\n",
    "        - `conda install foo=1.3.17`\n",
    "    - can use regex or comparisons to specify a range of packages to choose from\n",
    "        - `conda install 'bar-lib=1.0|1.4*'`\n",
    "            - '*' is a wildcard character\n",
    "        - `conda install 'bar-lib>1.3.4,<1.1'`\n",
    "- `conda update PKGNAME`\n",
    "    - will update a package or packages\n",
    "    - include multiple packages on the same command with only a space as delimiter\n",
    "- `conda remove PKGNAME`\n",
    "    - will remove a package"
   ]
  },
  {
   "cell_type": "markdown",
   "metadata": {},
   "source": [
    "#### Symantic Versioning\n",
    "- Most packages follow this method of versioning to identify which version\n",
    "    - `MAJOR.MINOR.PATCH`\n",
    "        - example conda version 4.7.12\n",
    "        "
   ]
  },
  {
   "cell_type": "markdown",
   "metadata": {},
   "source": [
    "#### Channels\n",
    "- Can create channels with an Anaconda cloud account\n",
    "    - allow users to publish stuff\n",
    "- Searching channels (when you know the channel names to search)\n",
    "    - use `--channel CHANNELNAME` or `-c CHANNELNAME`\n",
    "    - `conda search --channel conda-forge --channel sseefeld --platform osx-64 textadapter`\n",
    "        - will search all the supplied channels for the specific platform and package supplied\n",
    "- Searching across channels (when you don't know the channel name to search)\n",
    "    - first, install the `anaconda-client` package\n",
    "    - `anaconda search PKGNAME`\n",
    "- conda-forge\n",
    "    - is more vetted than other public channels, but like github, anyone can upload packages here\n",
    "- Installing from a channel\n",
    "    - `conda install --channel CHANNELNAME PKGNAME`\n",
    "        - datacamp had a company name between channelname and pkgname, not sure why"
   ]
  },
  {
   "cell_type": "markdown",
   "metadata": {},
   "source": [
    "#### Conda Environments\n",
    "- Allow multiple sets of packages to be installed on the same system\n",
    "    - each environment has compatible packages/versions\n",
    "    - individual packages may not be compatible on other environments\n",
    "        - i.e. python vers 3.6 on one and 3.7 on another to run packages incompatible with 3.7\n",
    "- List all conda environments\n",
    "    - `conda env list`\n",
    "        - asterisk marks the active environment\n",
    "- Create an Evironment\n",
    "    - `conda create --name ENVNAME`\n",
    "        - you can also specify optional parameters like certain versions to start with\n",
    "            - `conda create --name recent-pd python=3.6 pandas=0.22 scipy statsmodels`\n",
    "            - not specifying a version will choose the latest compatible version\n",
    "        - from an existing .yml file\n",
    "            - `conda env create --file file-name.yml --name ENVNAME`\n",
    "- Switch Environments\n",
    "    - `conda activate ENVNAME`\n",
    "        - will take you to the ENVNAME you specify\n",
    "    - `conda deactivate`\n",
    "        - will take you back to the root/base environment (or maybe the last environment you were in?)\n",
    "- Remove (delete) an environment\n",
    "    - `conda env remove --name ENVNAME`\n",
    "- Export an environment (to use on another machine)\n",
    "    - `conda env export`\n",
    "        - supply optional `--name ENVNAME` to export an environment other than the active one\n",
    "        - supply optional `--file FILENAME.yml` to choose the filename, but always use '.yml'"
   ]
  }
 ],
 "metadata": {
  "kernelspec": {
   "display_name": "Python 3",
   "language": "python",
   "name": "python3"
  },
  "language_info": {
   "codemirror_mode": {
    "name": "ipython",
    "version": 3
   },
   "file_extension": ".py",
   "mimetype": "text/x-python",
   "name": "python",
   "nbconvert_exporter": "python",
   "pygments_lexer": "ipython3",
   "version": "3.6.9"
  }
 },
 "nbformat": 4,
 "nbformat_minor": 4
}
