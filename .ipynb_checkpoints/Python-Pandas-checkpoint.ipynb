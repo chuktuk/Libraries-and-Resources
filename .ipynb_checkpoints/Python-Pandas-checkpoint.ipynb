{
 "cells": [
  {
   "cell_type": "markdown",
   "metadata": {},
   "source": [
    "# Pandas Library"
   ]
  },
  {
   "cell_type": "code",
   "execution_count": 2,
   "metadata": {},
   "outputs": [],
   "source": [
    "# import pandas as pd\n",
    "import pandas as pd"
   ]
  },
  {
   "cell_type": "markdown",
   "metadata": {},
   "source": [
    "## Importing Flat Files\n",
    "- Such as csv and txt files with rows and cols\n",
    "- `dataframe = pd.read_csv(filename[, sep][, comment][, na_values][, nrows][, header])`\n",
    "    - `sep` is pandas version of delimiter with default `','`\n",
    "    - `comment` takes the char that comments appear after (for python it's '#')\n",
    "    - `na_values` takes a list of strings to identify as NA or NaN\n",
    "    - `nrows` specifies an integer for the number of rows to retrieve\n",
    "    - `header=None` if no header\n",
    "    - view this dataframe with `.head()` method `dataframe.head()`"
   ]
  },
  {
   "cell_type": "markdown",
   "metadata": {},
   "source": [
    "## Convert Dataframe to Numpy Array\n",
    "- `array = dataframe.values`\n",
    "    - these \"values\" must all be the same type"
   ]
  }
 ],
 "metadata": {
  "kernelspec": {
   "display_name": "Python 3",
   "language": "python",
   "name": "python3"
  },
  "language_info": {
   "codemirror_mode": {
    "name": "ipython",
    "version": 3
   },
   "file_extension": ".py",
   "mimetype": "text/x-python",
   "name": "python",
   "nbconvert_exporter": "python",
   "pygments_lexer": "ipython3",
   "version": "3.7.3"
  }
 },
 "nbformat": 4,
 "nbformat_minor": 2
}
