{
 "cells": [
  {
   "cell_type": "markdown",
   "metadata": {},
   "source": [
    "# Statistics Using Python"
   ]
  },
  {
   "cell_type": "code",
   "execution_count": 1,
   "metadata": {},
   "outputs": [],
   "source": [
    "# import packages\n",
    "import numpy as np\n",
    "import pandas as pd\n",
    "import seaborn as sns\n",
    "import matplotlib.pyplot as plt\n",
    "\n",
    "# default style for plt plots to seaborn\n",
    "sns.set()"
   ]
  },
  {
   "cell_type": "markdown",
   "metadata": {},
   "source": [
    "## Exploratory Data Analysis (EDA)\n",
    "- It's best practice to do quick exploration prior to advanced analysis\n",
    "    - viewing structure\n",
    "    - checking for NaN's\n",
    "    - calculating summary stats\n",
    "    - plotting histograms\n",
    "    - plotting boxplots to check for outliers, percentiles, and median\n",
    "        - line is median, box is IQR, whiskers go to 1.5 IQR or range (whichever is greater), dots outliers\n",
    "    - bee swarm plots to check distribution\n",
    "        - avoids binning bias from histograms\n",
    "        - however don't do well with too many data points\n",
    "    - empirical cumulative distribution function (ECDF)\n",
    "        - very good plot, do this early to examine the data\n",
    "        - often include multiple columns (or separate by categories) if it makes sense to do this\n",
    "        - good function for returning the x, y values for an ECDF\n",
    "        \n",
    "```python\n",
    "def ecdf(data):\n",
    "\"\"\"Return x, y data for an ECDF receiving a 1d array, list, or series.\"\"\"\n",
    "         \n",
    "    # compute the number of points\n",
    "    n = len(data)\n",
    "            \n",
    "    # sort the x data and store\n",
    "    x = np.sort(data)\n",
    "            \n",
    "    # compute y using the distribution\n",
    "    y = np.arange(1, n+1) / n\n",
    "            \n",
    "    # return x and y\n",
    "    return x, y\n",
    "```"
   ]
  },
  {
   "cell_type": "markdown",
   "metadata": {},
   "source": [
    "#### Summary Stats\n",
    "- Good idea to check quick summary stats\n",
    "    - `np.mean()`\n",
    "    - `np.median()` (50th percentile)\n",
    "    - `np.percentile(data, list)`\n",
    "        - supply a list of the percentiles you want to compute as ints or a single value\n",
    "        - interquartile range (IQR) is 25%-75%\n",
    "    - `np.var()` variance\n",
    "    - `np.std()` stdev"
   ]
  },
  {
   "cell_type": "markdown",
   "metadata": {},
   "source": [
    "#### Simple Correlation\n",
    "- Covariance\n",
    "    - `np.cov(arr1, arr2)`\n",
    "        - returns a 2d array of covariance (entry `[0,1]` has the data of interest)\n",
    "        - `co_var = np.cov(arr1, arr2)` then `real_co_var = co_var[0,1]`\n",
    "    - mean of the product of the x/y distance from the mean\n",
    "        - ((x - x_mean)(y - y_mean)) / number of observations\n",
    "        - positive covariance means a positive correlation, negative means negative corr\n",
    "    - function\n",
    "    \n",
    "```python\n",
    "def co_var(x, y):\n",
    "    \"\"\"Compute covariance between two arrays.\"\"\"\n",
    "    \n",
    "    # Compute covariance matrix: cov_mat\n",
    "    cov_mat = np.cov(x,y) \n",
    "\n",
    "    # Return entry [0,1]\n",
    "    return cov_mat[0,1]\n",
    "```\n",
    "\n",
    "- Pearson Correlation Coefficient\n",
    "    - `np.corrcoef(arr1, arr2)`\n",
    "        - returns a 2d array (entry `[0,1]` has the data of interest)\n",
    "        - see covariance above for data extraction\n",
    "    - Greek letter lowercase rho (kinda like a p)\n",
    "    - covariance / (np.std(x) * np.std(y))\n",
    "        - variability due to covariance / independent variability\n",
    "    - dimensionless (no units)\n",
    "    - range -1 complete negative corr, to 0 no corr, to 1 complete positive corr\n",
    "    - closer to -1 or 1, the more tightly packed points are, the better the corr\n",
    "    - function:\n",
    "    \n",
    "```python\n",
    "def pearson_r(x, y):\n",
    "    \"\"\"Compute Pearson correlation coefficient between two arrays.\"\"\"\n",
    "    \n",
    "    # Compute correlation matrix: corr_mat\n",
    "    corr_mat = np.corrcoef(x,y) \n",
    "\n",
    "    # Return entry [0,1]\n",
    "    return corr_mat[0,1]\n",
    "```"
   ]
  },
  {
   "cell_type": "code",
   "execution_count": null,
   "metadata": {},
   "outputs": [],
   "source": []
  }
 ],
 "metadata": {
  "kernelspec": {
   "display_name": "Python 3",
   "language": "python",
   "name": "python3"
  },
  "language_info": {
   "codemirror_mode": {
    "name": "ipython",
    "version": 3
   },
   "file_extension": ".py",
   "mimetype": "text/x-python",
   "name": "python",
   "nbconvert_exporter": "python",
   "pygments_lexer": "ipython3",
   "version": "3.7.3"
  }
 },
 "nbformat": 4,
 "nbformat_minor": 4
}
