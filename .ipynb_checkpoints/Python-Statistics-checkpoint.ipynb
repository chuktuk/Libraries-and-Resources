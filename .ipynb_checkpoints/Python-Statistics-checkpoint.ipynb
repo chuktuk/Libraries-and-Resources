{
 "cells": [
  {
   "cell_type": "markdown",
   "metadata": {},
   "source": [
    "# Statistics Using Python"
   ]
  },
  {
   "cell_type": "code",
   "execution_count": 1,
   "metadata": {},
   "outputs": [],
   "source": [
    "# import packages\n",
    "import math\n",
    "import io\n",
    "import scipy\n",
    "import numpy as np\n",
    "import pandas as pd\n",
    "import seaborn as sns\n",
    "import matplotlib.pyplot as plt\n",
    "\n",
    "# import pymc3\n",
    "# need to type the line below this into the cmd prompt\n",
    "# set MKL_THREADING_LAYER=GNU\n",
    "import pymc3\n",
    "\n",
    "# default style for plt plots to seaborn\n",
    "sns.set()"
   ]
  },
  {
   "cell_type": "markdown",
   "metadata": {},
   "source": [
    "## Exploratory Data Analysis (EDA)\n",
    "- It's best practice to do quick exploration prior to advanced analysis\n",
    "    - viewing structure\n",
    "    - checking for NaN's\n",
    "    - calculating summary stats\n",
    "    - plotting histograms\n",
    "    - plotting boxplots to check for outliers, percentiles, and median\n",
    "        - line is median, box is IQR, whiskers go to 1.5 IQR or range (whichever is greater), dots outliers\n",
    "    - bee swarm plots to check distribution\n",
    "        - avoids binning bias from histograms\n",
    "        - however don't do well with too many data points\n",
    "    - empirical cumulative distribution function (ECDF)\n",
    "        - very good plot, do this early to examine the data\n",
    "        - often include multiple columns (or separate by categories) if it makes sense to do this\n",
    "        - good function for returning the x, y values for an ECDF\n",
    "        - x label should be the value your looking at, y label is CDF\n",
    "        \n",
    "```python\n",
    "def ecdf(data):\n",
    "\"\"\"Return x, y data for an ECDF receiving a 1d array, list, or series.\"\"\"\n",
    "         \n",
    "    # compute the number of points\n",
    "    n = len(data)\n",
    "            \n",
    "    # sort the x data and store\n",
    "    x = np.sort(data)\n",
    "            \n",
    "    # compute y using the distribution\n",
    "    y = np.arange(1, n+1) / n\n",
    "            \n",
    "    # return x and y\n",
    "    return x, y\n",
    "```"
   ]
  },
  {
   "cell_type": "markdown",
   "metadata": {},
   "source": [
    "#### Summary Stats\n",
    "- Good idea to check quick summary stats\n",
    "    - `np.mean()`\n",
    "    - `np.median()` (50th percentile)\n",
    "    - `np.percentile(data, list)`\n",
    "        - supply a list of the percentiles you want to compute as ints or a single value\n",
    "        - interquartile range (IQR) is 25%-75%\n",
    "    - `np.var()` variance\n",
    "    - `np.std()` stdev\n",
    "    - `df.column.value_counts()`\n",
    "        - set `normalize=True` to get percentages"
   ]
  },
  {
   "cell_type": "markdown",
   "metadata": {},
   "source": [
    "#### Simple Correlation\n",
    "- Covariance\n",
    "    - `np.cov(arr1, arr2)`\n",
    "        - returns a 2d array of covariance (entry `[0,1]` has the data of interest)\n",
    "        - `co_var = np.cov(arr1, arr2)` then `real_co_var = co_var[0,1]`\n",
    "    - mean of the product of the x/y distance from the mean\n",
    "        - ((x - x_mean)(y - y_mean)) / number of observations\n",
    "        - positive covariance means a positive correlation, negative means negative corr\n",
    "    - function\n",
    "    \n",
    "```python\n",
    "def co_var(x, y):\n",
    "    \"\"\"Compute covariance between two arrays.\"\"\"\n",
    "    \n",
    "    # Compute covariance matrix: cov_mat\n",
    "    cov_mat = np.cov(x,y) \n",
    "\n",
    "    # Return entry [0,1]\n",
    "    return cov_mat[0,1]\n",
    "```\n",
    "\n",
    "- Pearson Correlation Coefficient\n",
    "    - `np.corrcoef(arr1, arr2)`\n",
    "        - returns a 2d array (entry `[0,1]` has the data of interest)\n",
    "        - see covariance above for data extraction\n",
    "    - Greek letter lowercase rho (kinda like a p)\n",
    "    - covariance / (np.std(x) * np.std(y))\n",
    "        - variability due to covariance / independent variability\n",
    "    - dimensionless (no units)\n",
    "    - range -1 complete negative corr, to 0 no corr, to 1 complete positive corr\n",
    "    - closer to -1 or 1, the more tightly packed points are, the better the corr\n",
    "    - function:\n",
    "    \n",
    "```python\n",
    "def pearson_r(x, y):\n",
    "    \"\"\"Compute Pearson correlation coefficient between two arrays.\"\"\"\n",
    "    \n",
    "    # Compute correlation matrix: corr_mat\n",
    "    corr_mat = np.corrcoef(x,y) \n",
    "\n",
    "    # Return entry [0,1]\n",
    "    return corr_mat[0,1]\n",
    "```"
   ]
  },
  {
   "cell_type": "markdown",
   "metadata": {},
   "source": [
    "## Probabilities\n",
    "#### Basic Info\n",
    "- Random Numbers\n",
    "    - `np.random` module\n",
    "        - `np.random.random([size=])`\n",
    "            - random number generator (0 < n < 1)\n",
    "            - `size=` specify the number of random numbers to generate\n",
    "        - `np.random.seed()`\n",
    "            - 'seeds' a number for the random number generator \n",
    "            - the same seed gives the same sequence for generated random numbers (pseudo-random)\n",
    "- Simulating Events\n",
    "    - use for loops to do simulations\n",
    "    - may need to initialize an empty numpy array\n",
    "        - `empty_array = np.empty(n)` where n is the number of entries you want\n",
    "    - Syntax:\n",
    "        - `for _ in range(n):` to loop/simulate n times\n",
    "            - can just use `_` because we don't care about using it as a variable\n",
    "            - update some counter or other such thing in the loop\n",
    "- Hacker Statistics\n",
    "    - simulate data to draw inferences to the population vs. actually sampling\n",
    "    - sort of like resampling\n",
    "    - **Strategy:**\n",
    "        - determine how to simulate the data\n",
    "        - simulate many many times\n",
    "        - compute probability as the fraction of trials that have the outcome of interest"
   ]
  },
  {
   "cell_type": "markdown",
   "metadata": {},
   "source": [
    "#### Discrete Outcomes\n",
    "- Bernoulli Trial\n",
    "    - T/F binary type trials (heads/tails)\n",
    "- Probability Mass Function (PMF)\n",
    "    - set of probabilities of discrete outcomes\n",
    "        - discrete outcomes like 1-6 when rolling dice\n",
    "    - generate by simulating something a whole bunch of times\n",
    "    - **Plotting a PMF**\n",
    "        - this is the primary shape of the distribution\n",
    "        - create an array of possible outcomes, and link that to the probability of those outcomes\n",
    "        - plot hist of possible outcome/number successes on the x and probability of that outcome on the y\n",
    "- Binomial Distribution\n",
    "    - Distribution where the outcome of a single event is binary (heads/tails, default/not default)\n",
    "    - Sampling from the binomial distribution\n",
    "        - `np.random.binomial(n, p, size=None)`\n",
    "            - `n` is the number of trials\n",
    "                - if trying to get the probability of flipping 4 heads/4 attempts, this number is 4\n",
    "            - `p` is the probability of success (decimal)\n",
    "                - in coin flip example, this is 0.5 (probability of 1 heads)\n",
    "            - `size` is the output shape, default is None\n",
    "                - can supply scalar or an array or nothing at all\n",
    "                - can also think of size as the number of random samples to take from the binomial distribution\n",
    "            - output\n",
    "                - tells you the number of successes achieved from each set of trials\n",
    "                - in coin flip example, the max output for a single event is 4 (4/4 heads)\n",
    "                - setting the size=10, will provide an array of 10 events (each consisting of 4 flips)\n",
    "                    - the value of each item is the number of successes (how many heads were observed)\n",
    "- Poisson Distribution\n",
    "    - Poisson process:\n",
    "        - timing of the next event is completely independent of when the previous event happened\n",
    "    - poisson distribution -> number of arrivals in a given amount of time and has an average rate of arrival\n",
    "        - limit of the binomial distribution for low probability of success and a large number of trials (rare events)\n",
    "    - sampling the poisson distribution\n",
    "        - `np.random.poisson(lam, size=None)`\n",
    "            - `lam` is the expectation of interval or average interval\n",
    "            - size is the number of times to sample\n",
    "            - output: values drawn from the sample"
   ]
  },
  {
   "cell_type": "code",
   "execution_count": 2,
   "metadata": {},
   "outputs": [
    {
     "data": {
      "text/plain": [
       "array([1, 3, 4, 2, 3, 3, 2, 3, 2, 1])"
      ]
     },
     "execution_count": 2,
     "metadata": {},
     "output_type": "execute_result"
    }
   ],
   "source": [
    "# use binomial function\n",
    "# 4 is the number of trials (flip a coin 4 times)\n",
    "# 4 will be the max of any values (all events true i.e. all heads)\n",
    "# 0.5 is the probability of a single success (flipping a heads)\n",
    "# 10 is the number of samples to take (flip 4 coins, 10 times)\n",
    "np.random.binomial(4, 0.5, 10)"
   ]
  },
  {
   "cell_type": "code",
   "execution_count": 3,
   "metadata": {},
   "outputs": [
    {
     "data": {
      "text/plain": [
       "array([ 8, 11,  3,  2,  5,  8,  4,  5,  3,  4])"
      ]
     },
     "execution_count": 3,
     "metadata": {},
     "output_type": "execute_result"
    }
   ],
   "source": [
    "# use poisson function\n",
    "# 6 is the average arrival rate\n",
    "# 10 is the number of times to sample\n",
    "np.random.poisson(6, 10)"
   ]
  },
  {
   "cell_type": "code",
   "execution_count": 4,
   "metadata": {},
   "outputs": [
    {
     "name": "stdout",
     "output_type": "stream",
     "text": [
      "0.008\n"
     ]
    }
   ],
   "source": [
    "# example problem:\n",
    "# average number of no hitters per year is 251/115 (~ 2.18)\n",
    "# is 7 no hitters a season anomalous?\n",
    "\n",
    "# get a large sample from the poisson distribution around the average\n",
    "n_nohitters = np.random.poisson(251/115, 10000)\n",
    "\n",
    "# calculate the number of those greater than 7\n",
    "n_large = np.sum(n_nohitters >= 7)\n",
    "\n",
    "# calculate probability of getting 7 or more\n",
    "p_large = n_large/10000\n",
    "\n",
    "# print the probability of 7 or more\n",
    "print(p_large)"
   ]
  },
  {
   "cell_type": "code",
   "execution_count": 12,
   "metadata": {},
   "outputs": [
    {
     "data": {
      "text/plain": [
       "Text(0.5, 1.0, 'Probability Distribution\\nfor Number of MLB No-Hitters')"
      ]
     },
     "execution_count": 12,
     "metadata": {},
     "output_type": "execute_result"
    },
    {
     "data": {
      "image/png": "[encoded data removed]",
      "text/plain": [
       "<Figure size 432x288 with 1 Axes>"
      ]
     },
     "metadata": {
      "needs_background": "light"
     },
     "output_type": "display_data"
    }
   ],
   "source": [
    "# plot the associated poisson distribution from the question above\n",
    "\n",
    "plt.hist(n_nohitters, density=True)\n",
    "\n",
    "# add location of 7 to the plot\n",
    "plt.axvline(7, color='k', linestyle='dashed', linewidth=1)\n",
    "\n",
    "# add text to the line\n",
    "#plt.text(x.mean()*1.1, max_ylim*0.9, 'Mean: {:.2f}'.format(x.mean()))\n",
    "plt.text(x=7.25, y=0.275, s='7 No Hitters')\n",
    "\n",
    "plt.xlabel('Number of No Hitters')\n",
    "plt.ylabel('Probability')\n",
    "plt.title('Probability Distribution\\nfor Number of MLB No-Hitters')"
   ]
  },
  {
   "cell_type": "markdown",
   "metadata": {},
   "source": [
    "#### Continuous Variables\n",
    "- Probability Density Function (PDF)\n",
    "    - set of probabilities for continuous outcomes\n",
    "    - the area under the curve is the probability\n",
    "        - use the cumulative distribution function (CDF) to see exact probabilities\n",
    "            - y-axis value is the probability that an observation is that value or lower\n",
    "- Normal Distribution\n",
    "    - aka 'Gaussian distribution'\n",
    "    - continuous variable with one peak and symmetric distribution\n",
    "    - mean determines where the peak is, std determines how wide it is\n",
    "        - not necessarily the sample mean and std\n",
    "    - **comparing samples to the normal distribution**\n",
    "        - could plot hist of observations and a normal curve, not necessarily the best\n",
    "            - binning bias, by choosing different numbers of bins\n",
    "        - **better way**\n",
    "            - calculate theoretical cdf\n",
    "                - use ecdf function with `samples = np.random.normal(mean, std, size=)`\n",
    "                    - sample mean and std are ok estimates to use here\n",
    "                    - `x_theor, y_theor = ecdf(samples)`\n",
    "            - calculate observed ecdf\n",
    "                - `x, y = ecdf(data)`\n",
    "        - compare plots\n",
    "            - `plt.plot(x_theor, y_theor)` produces a smooth line plot of theoretical values\n",
    "            - `plt.plot(x, y, marker='.', linestyle='none')` plots scatter of observed values\n",
    "- Exponential Distribution\n",
    "    - continuous analog for the geometric distribution (discrete)\n",
    "    - waiting time of arrivals from a poisson process are exponentially distributed\n",
    "        - more like an exponential decay with low probabilities of long wait times and high for short\n",
    "    - sampling this distribution\n",
    "        - `np.random.exponential(scale, size=None)`\n",
    "            - scale = beta = 1/lambda (datacamp calls this the 'mean')"
   ]
  },
  {
   "cell_type": "markdown",
   "metadata": {},
   "source": [
    "## Statistical Inference\n",
    "- Some different python packages for stat inf\n",
    "    - scipy.stats\n",
    "    - statsmodels\n",
    "    - numpy (hacker stats)\n",
    "- Optimal Parameters\n",
    "    - parameters that bring the model in closest agreement with the data\n",
    "        - like mean, std for sampling from a distrbution (np.random.normal() etc.)\n",
    "    - if the model is wrong, the optimal parameters are not meaningful\n",
    "- Linear Regression\n",
    "    - **least squares**\n",
    "        - minimize the sum of the squared residuals to find best fit\n",
    "        - `np.polyfit(x, y, deg)` works with polynomial functions (including 1st degree linear)\n",
    "            - `x` and `y` are the x/y data\n",
    "            - `deg` is the degree to fit (1 for linear)\n",
    "            - output\n",
    "                - polynomial coefficients, highest power first\n",
    "                - if y was 2-D, coeff. for k-th dataset are in `p[:,k]`\n",
    "                - for linear regression, output is `slope, intercept`\n",
    "    - see `pearson_r` function above for correlation coefficient\n",
    "    - add a regression line to a plot\n",
    "        - include your scatter plot `plt.plot(x_data, y_data, marker='.', linestyle='none')`\n",
    "        - `slope, intercept = np.polyfit(x_data, y_data, 1)`\n",
    "        - `x = np.array([min, max])` choose min/max x values for your line\n",
    "        - `y = slope * x + intercept`\n",
    "        - `plt.plot(x, y)`\n",
    "    - checking the optimization (just for fun)\n",
    "        - generate a list of possible slopes (m values for y = mx + b)\n",
    "            - `m_vals = np.linspace(min, max, samples)`\n",
    "                - specify the min value for potential slope, max value, and how many values to get (~200 ok)\n",
    "            - `rss = np.empty_like(m_vals)`\n",
    "                - initialize empty array the same size/shape as m_vals for **residual sum of squares**\n",
    "            - `for i, m in enumerate(m_vals): rss[i] = np.sum((y_data - m * x_data - b)**2)`\n",
    "                - loop through to populate your array, substitute y_data and x_data with actual data\n",
    "                - b should be calculated using np.polyfit() to find the slope\n",
    "            - `plt.plot(m_vals, rss, '-')` to view the plot"
   ]
  },
  {
   "cell_type": "markdown",
   "metadata": {},
   "source": [
    "## Confidence Intervals\n",
    "- Range of values with chosen percentages that show the probability of getting the true value\n",
    "    - 95% confidence interval goes from 2.5% quantile to 97.5% quantile\n",
    "    - Can generate by simulating many times if you know the shape of the distribution"
   ]
  },
  {
   "cell_type": "markdown",
   "metadata": {},
   "source": [
    "## Bootstrapping\n",
    "- Generating a large family of samples from the one you have (sample with replacement)\n",
    "    - Do not need to make assumptions about the shape of the distribution\n",
    "- `df.column.sample(n, replace=True)`\n",
    "    - `n` the number of samples to take\n",
    "    - `replace=False` by default, set True to sample with replacement\n",
    "- Use bootstrapping to get a histogram of the population mean using a smaller sample for 'variable' column in 'df'\n",
    "    ```python\n",
    "    bootstrap = pd.DataFrame({'variable_mean': [df.sample(100,replace=True).variable.mean() for i in range(1000)]})\n",
    "    bootstrap.variable_mean.hist(histtype='step')\n",
    "    # draw original mean as a line on top of the histogram\n",
    "    plt.axvline(df.variable.mean(),color='C1') \n",
    "    ```\n",
    "- How this works\n",
    "    - This code creates a series of 1000 different 'means'\n",
    "    - Each 'mean' is generated by resampling the data 100 times with replacement\n",
    "- Generate 95% confidence intervals\n",
    "    ```python\n",
    "    bootstrap.variable_mean.quantile(0.025), bootstrap.variable_mean.quantile(0.975)\n",
    "    ```"
   ]
  },
  {
   "cell_type": "code",
   "execution_count": null,
   "metadata": {},
   "outputs": [],
   "source": []
  }
 ],
 "metadata": {
  "kernelspec": {
   "display_name": "Python 3",
   "language": "python",
   "name": "python3"
  },
  "language_info": {
   "codemirror_mode": {
    "name": "ipython",
    "version": 3
   },
   "file_extension": ".py",
   "mimetype": "text/x-python",
   "name": "python",
   "nbconvert_exporter": "python",
   "pygments_lexer": "ipython3",
   "version": "3.7.3"
  }
 },
 "nbformat": 4,
 "nbformat_minor": 4
}
