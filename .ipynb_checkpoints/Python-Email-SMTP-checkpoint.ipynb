{
 "cells": [
  {
   "cell_type": "markdown",
   "metadata": {},
   "source": [
    "# Emailing with SMTP"
   ]
  },
  {
   "cell_type": "markdown",
   "metadata": {},
   "source": [
    "- Simple Mail Transfer Protocol (SMTP)"
   ]
  },
  {
   "cell_type": "markdown",
   "metadata": {},
   "source": [
    "## smtplib module\n",
    "\n",
    "- Defines an SMTP client session object that can be used to send mail to any internet machine with an SMTP or ESMTP listener daemon."
   ]
  },
  {
   "cell_type": "markdown",
   "metadata": {},
   "source": [
    "- Very basic syntax for creating an SMTP object\n",
    "\n",
    "```python\n",
    "import smtplib\n",
    "\n",
    "smtpObj = smtplib.SMTP([host[, port[, local_hostname]]])\n",
    "```"
   ]
  },
  {
   "cell_type": "markdown",
   "metadata": {},
   "source": [
    "- **host**: host running senders SMTP server\n",
    "    - specify as IP address or a domain name like tutorialspoint.com\n",
    "- **port**: if providing **host**, you must specify a **port** where SMTP is listening (usually 25)\n",
    "- **local_hostname**: if the SMTP server is running on your local machine, just use *localhost* for this option"
   ]
  },
  {
   "cell_type": "markdown",
   "metadata": {},
   "source": [
    "## Simplest version of an email app\n",
    "- Where there is an SMTP server on the local machine (not likely)\n",
    "- If not running SMTP server on local machine, replace 'localhost' line with syntax below\n",
    "\n",
    "```python\n",
    "# to connect to your SMTP server\n",
    "smtplib.SMTP('mail.your-domain.com', 25)\n",
    "```"
   ]
  },
  {
   "cell_type": "markdown",
   "metadata": {},
   "source": [
    "```python\n",
    "#!/usr/bin/python3\n",
    "\n",
    "import smtplib\n",
    "\n",
    "sender = 'from@fromdomain.com'\n",
    "receivers = ['to@todomain.com']\n",
    "\n",
    "message = \"\"\"From: From Person <from@fromdomain.com>\n",
    "To: To Person <to@todomain.com>\n",
    "Subject: Basic SMTP Email\n",
    "\n",
    "Email message here.\n",
    "\"\"\"\n",
    "\n",
    "try:\n",
    "    smtpObj = smtplib.SMTP('localhost')\n",
    "    smtpObj = sendmail(sender, receivers, message)\n",
    "    print('Email sent successfully!')\n",
    "except SMTPException as e:\n",
    "    Print('Unable to send email. Error message: ', e)\n",
    "```"
   ]
  },
  {
   "cell_type": "markdown",
   "metadata": {},
   "source": [
    "## HTML Messages\n",
    "- Must specify `MIME-Version: 1.0` and `Content-type: text/html` on separate lines between the `To` and `Subject` lines in the `message`\n",
    "    - If you do this, you can then writ the message using HTML tags in the `Email message here.` part"
   ]
  },
  {
   "cell_type": "markdown",
   "metadata": {},
   "source": [
    "## Sending Attachments\n",
    "- Must set `Content-type: multipart/mixed; boundary=%s` see below\n",
    "    - boundaries are started with two hyphens followed by a unique number, which cannot appear in the message part of the email\n",
    "    - a final boundary denoting the final section must also end with two hyphens\n",
    "- Attached files should be encoded with the `pack('m')` function to have base64 encoding before transmission"
   ]
  },
  {
   "cell_type": "markdown",
   "metadata": {},
   "source": [
    "```python\n",
    "#!/usr/bin/python3\n",
    "\n",
    "import smtplib\n",
    "import base64\n",
    "\n",
    "filename = '/tmp/test.txt'\n",
    "\n",
    "# read the file and encode it into base64 format\n",
    "with open(filename, 'rb') as file:\n",
    "    filecontent = file.read()\n",
    "encodedcontent = base64.b64encode(filecontent)\n",
    "\n",
    "sender = 'from@fromdomain.com'\n",
    "receivers = ['to@todomain.com']\n",
    "\n",
    "marker = 123456789\n",
    "\n",
    "# outline the body of the message\n",
    "body = \"\"\"\n",
    "Test email to send an attachment.\n",
    "\"\"\"\n",
    "\n",
    "# define the main headers\n",
    "part1 = \"\"\"From: From Person <from@fromdomain.com>\n",
    "To: To Person <to@todomain.com>\n",
    "Subject: Sending Attachment\n",
    "MIME-Version: 1.0\n",
    "Content-Type: multipart/mixed; boundary=%s\n",
    "--%s\n",
    "\"\"\" % (marker, marker)\n",
    "\n",
    "# define the message action\n",
    "part2 = \"\"\"Content-Type: text/plain\n",
    "Content-Transfer-Encoding:8bit\n",
    "\n",
    "%s\n",
    "--%s\n",
    "\"\"\" % (body, marker)\n",
    "\n",
    "# define the attachment section\n",
    "part3 = \"\"\"Content-Type: multipart/mixed; name=\\\"%s\\\"\n",
    "Content-Transfer-Encoding:base64\n",
    "Content-Disposition: attachment; filename=%s\n",
    "\n",
    "%s\n",
    "--%s--\n",
    "\"\"\" %(filename, filename, encodedcontent, marker)\n",
    "message = part1 + part2 + part3\n",
    "\n",
    "try:\n",
    "    smtpObj = smtplib.SMTP('localhost')\n",
    "    smtpObj.sendmail(sender, receivers, message)\n",
    "    print('Successfully sent email!')\n",
    "except Exception as e:\n",
    "    print('Unable to send email. Error message: ', e)\n",
    "```"
   ]
  },
  {
   "cell_type": "code",
   "execution_count": null,
   "metadata": {},
   "outputs": [],
   "source": []
  }
 ],
 "metadata": {
  "kernelspec": {
   "display_name": "Python 3",
   "language": "python",
   "name": "python3"
  },
  "language_info": {
   "codemirror_mode": {
    "name": "ipython",
    "version": 3
   },
   "file_extension": ".py",
   "mimetype": "text/x-python",
   "name": "python",
   "nbconvert_exporter": "python",
   "pygments_lexer": "ipython3",
   "version": "3.7.7"
  }
 },
 "nbformat": 4,
 "nbformat_minor": 4
}
