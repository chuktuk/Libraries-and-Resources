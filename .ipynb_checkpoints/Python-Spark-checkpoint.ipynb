{
 "cells": [
  {
   "cell_type": "markdown",
   "metadata": {},
   "source": [
    "# Spark\n",
    "[http://spark.apache.org/docs/2.1.0/api/python/pyspark.html](http://spark.apache.org/docs/2.1.0/api/python/pyspark.html)"
   ]
  },
  {
   "cell_type": "markdown",
   "metadata": {},
   "source": [
    "## Installation\n",
    "- Install GOW\n",
    "    - [https://github.com/bmatzelle/gow/releases](https://github.com/bmatzelle/gow/releases)\n",
    "- Install Spark\n",
    "    - [https://www.apache.org/dyn/closer.lua/spark/spark-3.0.0-preview2/spark-3.0.0-preview2-bin-hadoop3.2.tgz](https://www.apache.org/dyn/closer.lua/spark/spark-3.0.0-preview2/spark-3.0.0-preview2-bin-hadoop3.2.tgz)\n",
    "    - create a directory to hold the spark installation, and move the downloaded .tgz file there\n",
    "    - navigate to that directory in the command prompt\n",
    "    - upzip using `gzip -d filename.tgz`\n",
    "    - untar using `tar xvf filename.tar`\n",
    "    - navigate to the new spark folder in the cmd prompt\n",
    "    - cd into bin and add winutils using command below\n",
    "    - `curl -k -L -o winutils.exe https://github.com/steveloughran/winutils/tree/master/hadoop-3.0.0/bin/winutils.exe?raw=true`\n",
    "    - ensure Java 8 is installed to path [https://medium.com/big-data-engineering/how-to-install-apache-spark-2-x-in-your-pc-e2047246ffc3](https://medium.com/big-data-engineering/how-to-install-apache-spark-2-x-in-your-pc-e2047246ffc3)\n",
    "    - in command prompt, set spark variables\n",
    "    - `setx SPARK_HOME C:\\Opt\\spark\\spark-3.0.0-preview2-bin-hadoop3.2`\n",
    "    - `setx HADOOP_HOME C:\\Opt\\spark\\spark-3.0.0-preview2-bin-hadoop3.2`\n",
    "    - `setx PYSPARK_DRIVER_PYTHON jupyter`\n",
    "    - `setx PYSPARK_DRIVER_PYTHON_OPTS lab`\n",
    "    - add `C:\\Opt\\spark\\spark-3.0.0-preview2-bin-hadoop3.2\\bin\\` to the PATH variables\n",
    "    \n",
    "    - launcing from cmd prompt `pyspark --master local[2]`\n",
    "        - launches on the local machine with 2 cores\n",
    "    - test it with the code below"
   ]
  },
  {
   "cell_type": "code",
   "execution_count": 1,
   "metadata": {},
   "outputs": [],
   "source": [
    "# test pyspark connection\n",
    "sc = SparkContext.getOrCreate()"
   ]
  },
  {
   "cell_type": "code",
   "execution_count": 2,
   "metadata": {},
   "outputs": [
    {
     "name": "stdout",
     "output_type": "stream",
     "text": [
      "Number of random points: 1000000\n",
      "Mean: [ 0.00041406 -0.00094501]\n",
      "stdev: [0.57734155 0.57763974]\n"
     ]
    }
   ],
   "source": [
    "import numpy as np\n",
    "\n",
    "TOTAL = 1000000\n",
    "dots = sc.parallelize([2.0 * np.random.random(2) - 1.0 for i in range(TOTAL)]).cache()\n",
    "print(\"Number of random points:\", dots.count())\n",
    "\n",
    "stats = dots.stats()\n",
    "print('Mean:', stats.mean())\n",
    "print('stdev:', stats.stdev())"
   ]
  },
  {
   "cell_type": "code",
   "execution_count": 3,
   "metadata": {},
   "outputs": [
    {
     "data": {
      "text/plain": [
       "<matplotlib.collections.PathCollection at 0x1fc39827d68>"
      ]
     },
     "execution_count": 3,
     "metadata": {},
     "output_type": "execute_result"
    },
    {
     "data": {
      "image/png": "[encoded data removed]",
      "text/plain": [
       "<Figure size 720x360 with 2 Axes>"
      ]
     },
     "metadata": {
      "needs_background": "light"
     },
     "output_type": "display_data"
    }
   ],
   "source": [
    "%matplotlib inline\n",
    "from operator import itemgetter\n",
    "from matplotlib import pyplot as plt\n",
    "\n",
    "plt.figure(figsize = (10, 5))\n",
    "\n",
    "# Plot 1\n",
    "plt.subplot(1, 2, 1)\n",
    "plt.xlim((-1.0, 1.0))\n",
    "plt.ylim((-1.0, 1.0))\n",
    "\n",
    "sample = dots.sample(False, 0.01)\n",
    "X = sample.map(itemgetter(0)).collect()\n",
    "Y = sample.map(itemgetter(1)).collect()\n",
    "plt.scatter(X, Y)\n",
    "\n",
    "# Plot 2\n",
    "plt.subplot(1, 2, 2)\n",
    "plt.xlim((-1.0, 1.0))\n",
    "plt.ylim((-1.0, 1.0))\n",
    "\n",
    "inCircle = lambda v: np.linalg.norm(v) <= 1.0\n",
    "dotsIn = sample.filter(inCircle).cache()\n",
    "dotsOut = sample.filter(lambda v: not inCircle(v)).cache()\n",
    "\n",
    "# inside circle\n",
    "Xin = dotsIn.map(itemgetter(0)).collect()\n",
    "Yin = dotsIn.map(itemgetter(1)).collect()\n",
    "plt.scatter(Xin, Yin, color = 'r')\n",
    "\n",
    "# outside circle\n",
    "Xout = dotsOut.map(itemgetter(0)).collect()\n",
    "Yout = dotsOut.map(itemgetter(1)).collect()\n",
    "plt.scatter(Xout, Yout)"
   ]
  },
  {
   "cell_type": "markdown",
   "metadata": {},
   "source": [
    "## Spark Framework\n",
    "- Platform for cluster computing\n",
    "- Data is spread over multiple nodes in each cluster\n",
    "    - each node only handles a small amount of data, increasing speed\n",
    "    - results in parallel computing, as computations are carried out simultaneously\n",
    "- Considerations\n",
    "    - is my data too big for one machine?\n",
    "    - can my computations be easily parallelized?"
   ]
  },
  {
   "cell_type": "markdown",
   "metadata": {},
   "source": [
    "## Connecting to a Cluster\n",
    "- The master computer is connected to all other nodes\n",
    "    - this manages the data and splits up the calculations\n",
    "- The other computers in the cluster are workers\n",
    "    - workers get data and calculations to run from the master\n",
    "    - they return the results to the master\n",
    "- Create an instance of the `SparkContext` class"
   ]
  },
  {
   "cell_type": "markdown",
   "metadata": {},
   "source": [
    "## Spark Data Structures\n",
    "- The Resilient Distributed Dataset (RDD) is spark's core data structure\n",
    "    - this lets spark split the data across multiple nodes in a cluster\n",
    "    - RDD's are hard to work with directly\n",
    "- Spark Dataframe abstraction\n",
    "    - built on top of RDD\n",
    "    - easier to use than direct RDD's"
   ]
  },
  {
   "cell_type": "markdown",
   "metadata": {},
   "source": [
    "## Working with Spark Dataframes\n",
    "- Create a `SparkSession` from the `SparkContext`\n",
    "    - `SparkContext` is the connection to the cluster\n",
    "    - `SparkSession` is the interface to that connection"
   ]
  },
  {
   "cell_type": "markdown",
   "metadata": {},
   "source": [
    "## Creating a Spark Session\n",
    "- Creating multiple sessions and contexts can cause issues\n",
    "    - the `SparkSession.builder.getOrCreate()` method will return an existing session if there is one, and create one if there isn't one yet"
   ]
  },
  {
   "cell_type": "code",
   "execution_count": 5,
   "metadata": {},
   "outputs": [
    {
     "name": "stdout",
     "output_type": "stream",
     "text": [
      "<pyspark.sql.session.SparkSession object at 0x000001FC387FA208>\n"
     ]
    }
   ],
   "source": [
    "# Import SparkSession from pyspark.sql\n",
    "from pyspark.sql import SparkSession\n",
    "\n",
    "# Create my_spark\n",
    "my_spark = SparkSession.builder.getOrCreate()\n",
    "\n",
    "# Print my_spark\n",
    "print(my_spark)"
   ]
  },
  {
   "cell_type": "markdown",
   "metadata": {},
   "source": [
    "## Working with Spark Sessions\n",
    "- `.sql(query)` will run a sql like query\n",
    "- `.toPandas()` will store results in a pandas dataframe\n",
    "- `.createDataFrame()` takes a pandas dataframe and returns a spark dataframe\n",
    "- `spark.read.csv(file_path, header=True)` read in files to a dataframe\n",
    "- `sdf.show()` show the contents of a spark dataframe"
   ]
  },
  {
   "cell_type": "code",
   "execution_count": null,
   "metadata": {},
   "outputs": [],
   "source": []
  }
 ],
 "metadata": {
  "kernelspec": {
   "display_name": "Python 3",
   "language": "python",
   "name": "python3"
  },
  "language_info": {
   "codemirror_mode": {
    "name": "ipython",
    "version": 3
   },
   "file_extension": ".py",
   "mimetype": "text/x-python",
   "name": "python",
   "nbconvert_exporter": "python",
   "pygments_lexer": "ipython3",
   "version": "3.7.3"
  }
 },
 "nbformat": 4,
 "nbformat_minor": 4
}
