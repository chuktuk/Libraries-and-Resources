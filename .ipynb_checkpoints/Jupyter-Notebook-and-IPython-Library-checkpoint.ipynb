{
 "cells": [
  {
   "cell_type": "markdown",
   "metadata": {},
   "source": [
    "# Jupyter Notebook and IPython"
   ]
  },
  {
   "cell_type": "markdown",
   "metadata": {},
   "source": [
    "## Running Jupyter Notebook\n",
    "- In the anaconda shell\n",
    "    - navigate to the directory where you want to create/access a Jupyter notebook file\n",
    "    - enter `Jupyter notebook`\n",
    "    - leave the command prompt open and running until you quit Jupyter notebook\n",
    "- You can also start from the `Anaconda Navigator` program\n",
    "- The notebook uses your computer as the server and starts a kernel on localhost\n",
    "    - if the preferred port is in use, it will search for an open port automatically"
   ]
  },
  {
   "cell_type": "markdown",
   "metadata": {},
   "source": [
    "## Markdown\n",
    "- To change a cell to markdown, use the dropdown select box or 'cell'->'cell type' from the menu\n",
    "- Create Headings\n",
    "    - use one `#` for HTML style H1\n",
    "    - use two `##` for H2, and so on\n",
    "- Create bullet/numbered lists\n",
    "    - use \\- or \\* to start a list\n",
    "    - indent then use \\- or \\* to do subsets\n",
    "    - use a number, period, space to do a numbered list, and indent for mulitple levels\n",
    "    - only one primary list type per cell, but secondary levels can be bullets or numbers\n",
    "- Escape character\n",
    "    - use \\\\ or sometimes \\\\\\\\ to escape certain chars and display them\n",
    "    - can also use monospace font to display special chars\n",
    "- Monospace font\n",
    "    - to make monospace font, put text between back single quote mark (same key as ~)\n",
    "    - use `monospace` for files, paths, text users should enter, or messages text users see\n",
    "- Bold/italic text\n",
    "    - use \\*\\***for bold**\\*\\*\n",
    "    - use \\**for italic*\\*\n",
    "    - use \\ to escape the \\* char and output it\n",
    "- Horizontal lines\n",
    "    - three \\* symbols, and it spans the entire width of the window\n",
    "***\n",
    "- Geometric shapes\n",
    "    - use \"\\&\\#reference_number;\"\n",
    "    - Visit  [UTF-8 Geometric Shapes](https://tinyurl.com/y5amtg8v) for codes from w3schools.com\n",
    "- Images\n",
    "    - you can drag/drop images into markdown cells\n",
    "    - use <img=src alt= title= /> html code to add images to other cell types\n",
    "- Internal links\n",
    "    - `[section title](#section-title)`\n",
    "        - or\n",
    "    - add `<a id=\"section_id\"></a>` right above section title\n",
    "    - then `[section title](#section_id)`\n",
    "- External links\n",
    "    - use `[link text](url)`\n",
    "- Mathematical symbols\n",
    "    - put math symbols between \\\\$math goes here\\\\$\n",
    "    - escaping dollar signs appears to be tricky in the same cell\n",
    "    - $2 + 2 = 4$\n",
    "- Line breaks\n",
    "    - use the HTML `<br>` to force a line break\n",
    "- Indent quoting\n",
    "    - type the \\> char, a space, then your text\n",
    "> This text is an example of indent quoting\n",
    "- Click the `run` button to view the output\n",
    "    - double click a cell to edit a cell"
   ]
  },
  {
   "cell_type": "code",
   "execution_count": null,
   "metadata": {},
   "outputs": [],
   "source": []
  }
 ],
 "metadata": {
  "kernelspec": {
   "display_name": "Python 3",
   "language": "python",
   "name": "python3"
  },
  "language_info": {
   "codemirror_mode": {
    "name": "ipython",
    "version": 3
   },
   "file_extension": ".py",
   "mimetype": "text/x-python",
   "name": "python",
   "nbconvert_exporter": "python",
   "pygments_lexer": "ipython3",
   "version": "3.7.3"
  }
 },
 "nbformat": 4,
 "nbformat_minor": 2
}
