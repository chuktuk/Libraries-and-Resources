{
 "cells": [
  {
   "cell_type": "markdown",
   "metadata": {},
   "source": [
    "# Numpy Library"
   ]
  },
  {
   "cell_type": "code",
   "execution_count": 1,
   "metadata": {},
   "outputs": [],
   "source": [
    "# import numpy as np\n",
    "import numpy as np\n",
    "\n",
    "# import pandas\n",
    "import pandas as pd\n",
    "\n",
    "# import pyplot\n",
    "import matplotlib.pyplot as plt\n",
    "\n",
    "# set inline to display plots in the cell\n",
    "%matplotlib inline\n",
    "\n",
    "# import seaborn set plot style\n",
    "import seaborn; seaborn.set()"
   ]
  },
  {
   "cell_type": "markdown",
   "metadata": {},
   "source": [
    "## Numpy General Info\n",
    "- Numpy arrays must contain all the same datatype\n",
    "    - if a list contains floats and ints, all will be converted to floats if possible\n",
    "    - use Pandas if wanting a dataframe with multiple data types"
   ]
  },
  {
   "cell_type": "markdown",
   "metadata": {},
   "source": [
    "## Importing Flat Files\n",
    "- Consider using Pandas for this purpose\n",
    "    - **especially when data are of different types**\n",
    "- Flat files are row/col files like csv and txt files\n",
    "- `array = np.loadtxt(filename, delimiter[, skiprows][, usecols][, dtype])`\n",
    "    - usually store this in a var (numpy array)\n",
    "    - default deliminiter is whitespace, so usually need to specify\n",
    "        - ',' for csv\n",
    "        - '\\t' for tab delimited\n",
    "    - if first row is header, need to `skiprows=1` or get type error\n",
    "    - to only read certain columns `usecols=[0, 2]` only 1st and 3rd col\n",
    "    - can set `dtype` if importing `str` for example\n",
    "        - no quotes around the dtype `dtype=str`\n",
    "- `array = np.genfromtxt(filename, delimiter[, names][, usecols][, dtype])\n",
    "    - creates a \"structured array\" that can include multiple data types\n",
    "        - this is a 1d array, each element is a row from the file\n",
    "    - can use with files that include different data types\n",
    "        - need to pass `dtype=None` for it to figure this out\n",
    "    - `names=True` means that there is a header\n",
    "    - row access\n",
    "        - `data = np.genfromtxt(...)`\n",
    "        - `data[i]` access the \"ith\" row\n",
    "    - column access\n",
    "        - `data['col_name']` access col_name column\n",
    "- `array = np.recfromcsv(filename[, delimiter][, names][, dtype])` \n",
    "    - behaves like `np.genfromtxt()` with a default `delimiter=','`, `names=True`, and `dtype=None`"
   ]
  },
  {
   "cell_type": "markdown",
   "metadata": {},
   "source": [
    "## Creating Numpy Arrays\n",
    "- `np.array(list)`\n",
    "    - can supply the list as a variable or as a list of values in `[]`\n",
    "    - can specify type of array `dtype='type'` for 'int', 'float32', etc."
   ]
  },
  {
   "cell_type": "markdown",
   "metadata": {},
   "source": [
    "#### Numpy Data Types\n",
    "- set using `dtype='datatype'` or `dtype=np.datatype` in args\n",
    "    - `bool_` True or False store as a byte\n",
    "    - `int_` default integer type, normally either int64 or int32\n",
    "    - `intc` identical to C int (int32 or int64)\n",
    "    - `intp` int used for indexing\n",
    "    - `int8` byte (-128 to 127)\n",
    "    - `int16` integer (-32768 to 32767)\n",
    "    - `int32` integer (-2147483648 to 2147483647)\n",
    "    - `int64` integer (well, the biggest one)\n",
    "    - `uint8` unsigned int (0 to 255)\n",
    "    - `uint16` unsigned int (0 to 65535)\n",
    "    - `uint32` unsigned int (0 to 4294967295)\n",
    "    - `uint64` unsigned int (the biggest one)\n",
    "    - `float_` shorthand for float64\n",
    "    - `float16` half-precision float: sign bit, 5 bits exponent, 10 bits mantissa\n",
    "    - `float32` single-precision float: sign bit, 8 bits exponent, 23 bits mantissa\n",
    "    - `float64` double-precision float: sign bit, 11 bits exponent, 52 bits mantissa\n",
    "    - `complex_` short for complex128\n",
    "    - `complex64` complex number, with 32-bit floats\n",
    "    - `complex128` complex number, with 64-bit floats\n",
    "- more advanced type specification possible at [numpy documentation](http://numpy.org)"
   ]
  },
  {
   "cell_type": "markdown",
   "metadata": {},
   "source": [
    "#### Create Arrays from Lists"
   ]
  },
  {
   "cell_type": "code",
   "execution_count": 2,
   "metadata": {},
   "outputs": [
    {
     "data": {
      "text/plain": [
       "array([1., 2., 3., 4., 5., 6.], dtype=float32)"
      ]
     },
     "execution_count": 2,
     "metadata": {},
     "output_type": "execute_result"
    }
   ],
   "source": [
    "# create an array from a list using np.array()\n",
    "np.array([1, 2, 3, 4, 5, 6], dtype='float32')"
   ]
  },
  {
   "cell_type": "code",
   "execution_count": 3,
   "metadata": {},
   "outputs": [
    {
     "data": {
      "text/plain": [
       "array([ 2,  4,  6,  8, 10])"
      ]
     },
     "execution_count": 3,
     "metadata": {},
     "output_type": "execute_result"
    }
   ],
   "source": [
    "# create an array from a list stored in a variable using np.asarray()\n",
    "mylist = [2, 4, 6, 8, 10]\n",
    "np.asarray(mylist, dtype='int')"
   ]
  },
  {
   "cell_type": "markdown",
   "metadata": {},
   "source": [
    "#### Explicit Multidimensional Array"
   ]
  },
  {
   "cell_type": "code",
   "execution_count": 4,
   "metadata": {},
   "outputs": [
    {
     "data": {
      "text/plain": [
       "array([[2, 3, 4],\n",
       "       [4, 5, 6],\n",
       "       [6, 7, 8]])"
      ]
     },
     "execution_count": 4,
     "metadata": {},
     "output_type": "execute_result"
    }
   ],
   "source": [
    "# creates three rows [2, 4, 6] as starting i values, with ranges +3 over i\n",
    "# row 1 range(2, 5), row 2 range(4, 7), row 3 range(6, 9)\n",
    "np.array([range(i, i + 3) for i in [2, 4, 6]])"
   ]
  },
  {
   "cell_type": "markdown",
   "metadata": {},
   "source": [
    "#### Creating Arrays from Scratch\n",
    "- This section contains info on generating random arrays too\n",
    "- Can specify a *seed* when using the `np.random` package\n",
    "    - `np.random.seed(num)` where \"num\" is an integer you supply\n",
    "    - calling `np.random` using the same parameters will result in the same random numbers after this!\n",
    "    - this could be useful for reproducibility in some cases"
   ]
  },
  {
   "cell_type": "code",
   "execution_count": 5,
   "metadata": {},
   "outputs": [
    {
     "data": {
      "text/plain": [
       "array([0, 0, 0, 0, 0, 0, 0, 0, 0, 0])"
      ]
     },
     "execution_count": 5,
     "metadata": {},
     "output_type": "execute_result"
    }
   ],
   "source": [
    "# length-10 int array filled with zeros using np.zeros(num, dtype)\n",
    "# instead of 10, use (rows, columns) for multi-dimensional array\n",
    "np.zeros(10, dtype=int)"
   ]
  },
  {
   "cell_type": "code",
   "execution_count": 6,
   "metadata": {},
   "outputs": [
    {
     "data": {
      "text/plain": [
       "array([[1., 1., 1., 1., 1.],\n",
       "       [1., 1., 1., 1., 1.],\n",
       "       [1., 1., 1., 1., 1.]])"
      ]
     },
     "execution_count": 6,
     "metadata": {},
     "output_type": "execute_result"
    }
   ],
   "source": [
    "# 3x5 arrays of floats filled with ones using np.ones\n",
    "np.ones((3, 5), dtype=float)"
   ]
  },
  {
   "cell_type": "code",
   "execution_count": 7,
   "metadata": {},
   "outputs": [
    {
     "data": {
      "text/plain": [
       "array([[3.14, 3.14, 3.14, 3.14, 3.14, 3.14],\n",
       "       [3.14, 3.14, 3.14, 3.14, 3.14, 3.14],\n",
       "       [3.14, 3.14, 3.14, 3.14, 3.14, 3.14],\n",
       "       [3.14, 3.14, 3.14, 3.14, 3.14, 3.14]])"
      ]
     },
     "execution_count": 7,
     "metadata": {},
     "output_type": "execute_result"
    }
   ],
   "source": [
    "# create an array where you specify the value to fill using np.full\n",
    "np.full((4, 6), 3.14, dtype=float)"
   ]
  },
  {
   "cell_type": "code",
   "execution_count": 8,
   "metadata": {},
   "outputs": [
    {
     "data": {
      "text/plain": [
       "array([ 0,  2,  4,  6,  8, 10, 12, 14, 16, 18])"
      ]
     },
     "execution_count": 8,
     "metadata": {},
     "output_type": "execute_result"
    }
   ],
   "source": [
    "# create an array specifying a start, stop, and step using np.arange()\n",
    "# similar to the range() function\n",
    "# args are (start_val, stop_not_included, step)\n",
    "np.arange(0, 20, 2)"
   ]
  },
  {
   "cell_type": "code",
   "execution_count": 9,
   "metadata": {},
   "outputs": [
    {
     "data": {
      "text/plain": [
       "array([0.  , 0.25, 0.5 , 0.75, 1.  ])"
      ]
     },
     "execution_count": 9,
     "metadata": {},
     "output_type": "execute_result"
    }
   ],
   "source": [
    "# create an array from start to stop with evenly spaced steps between using np.linspace()\n",
    "# args are (first_val, last_val, num_of_vals)\n",
    "np.linspace(0, 1, 5)"
   ]
  },
  {
   "cell_type": "code",
   "execution_count": 10,
   "metadata": {},
   "outputs": [
    {
     "data": {
      "text/plain": [
       "array([[0.72047604, 0.74213012, 0.07740536],\n",
       "       [0.56637407, 0.22210673, 0.79518334],\n",
       "       [0.85086735, 0.58243167, 0.04885497],\n",
       "       [0.84088073, 0.52614439, 0.6558584 ]])"
      ]
     },
     "execution_count": 10,
     "metadata": {},
     "output_type": "execute_result"
    }
   ],
   "source": [
    "# create array of uniformly dist random values between 0-1 using np.random.random()\n",
    "# can set the \"seed\" using np.random.seed(value)\n",
    "np.random.random((4, 3))"
   ]
  },
  {
   "cell_type": "code",
   "execution_count": 11,
   "metadata": {},
   "outputs": [
    {
     "data": {
      "text/plain": [
       "array([[ 0.62006619, -0.25732739, -0.70316967],\n",
       "       [ 0.58411115,  0.17072945, -0.41969198],\n",
       "       [-0.21419022, -0.83458606, -0.66619124]])"
      ]
     },
     "execution_count": 11,
     "metadata": {},
     "output_type": "execute_result"
    }
   ],
   "source": [
    "# create array of normally dist random values mean of 0 and stdev of 1\n",
    "# can set the \"seed\" using np.random.seed(value)\n",
    "# args are (mu, sigma, shape_or_number_of_vals)\n",
    "# mu = mean, sigma = stdev\n",
    "np.random.normal(0, 1, (3, 3))"
   ]
  },
  {
   "cell_type": "code",
   "execution_count": 12,
   "metadata": {},
   "outputs": [
    {
     "data": {
      "text/plain": [
       "array([[1, 7, 9, 6, 4],\n",
       "       [8, 6, 7, 4, 0],\n",
       "       [3, 2, 1, 1, 7],\n",
       "       [8, 2, 6, 8, 9],\n",
       "       [2, 2, 8, 7, 9]])"
      ]
     },
     "execution_count": 12,
     "metadata": {},
     "output_type": "execute_result"
    }
   ],
   "source": [
    "# create array of random ints using np.random.randint()\n",
    "# can set the \"seed\" using np.random.seed(value)\n",
    "# args are (start, stop_not_included, shape_or_num_of_vals)\n",
    "np.random.randint(0, 10, (5, 5))"
   ]
  },
  {
   "cell_type": "code",
   "execution_count": 13,
   "metadata": {},
   "outputs": [
    {
     "data": {
      "text/plain": [
       "array([[1., 0., 0., 0.],\n",
       "       [0., 1., 0., 0.],\n",
       "       [0., 0., 1., 0.],\n",
       "       [0., 0., 0., 1.]])"
      ]
     },
     "execution_count": 13,
     "metadata": {},
     "output_type": "execute_result"
    }
   ],
   "source": [
    "# create identity matrix (1's on diagonal, all else 0's) using np.eye()\n",
    "# always a square matrix\n",
    "# dtype looks like float by default\n",
    "np.eye(4)"
   ]
  },
  {
   "cell_type": "markdown",
   "metadata": {},
   "source": [
    "## Array Attributes\n",
    "- This attributes section will use the following x1, x2, and x3 arrays as examples:\n",
    "    - these are 1d, 2d, and 3d arrays respectively\n",
    "- Attributes\n",
    "    - access using `object.attribute`\n",
    "    - `ndim` number of dimensions\n",
    "    - `shape` size of each dimension\n",
    "    - `size` total size (number of items)\n",
    "    - `dtype` data type of array\n",
    "    - `itemsize` size in bytes of each array element\n",
    "    - `nbytes` total size in bytes of the array\n",
    "        - `nbytes` should equal `itemsize` times `size`"
   ]
  },
  {
   "cell_type": "code",
   "execution_count": 14,
   "metadata": {},
   "outputs": [],
   "source": [
    "# seed for reproducibility with np.random\n",
    "np.random.seed(0)\n",
    "\n",
    "x1 = np.random.randint(10, size=6) # 1d array len=6\n",
    "x2 = np.random.randint(10, size=(3, 4)) # 2d array 3x4\n",
    "x3 = np.random.randint(10, size=(3, 4, 5)) # 3d array 3x4x5"
   ]
  },
  {
   "cell_type": "code",
   "execution_count": 15,
   "metadata": {},
   "outputs": [
    {
     "name": "stdout",
     "output_type": "stream",
     "text": [
      "x1 ndim:  1\n",
      "x2 ndim:  2\n",
      "x3 ndim:  3\n"
     ]
    }
   ],
   "source": [
    "# print number of dimensions\n",
    "print(\"x1 ndim: \", x1.ndim)\n",
    "print(\"x2 ndim: \", x2.ndim)\n",
    "print(\"x3 ndim: \", x3.ndim)"
   ]
  },
  {
   "cell_type": "code",
   "execution_count": 16,
   "metadata": {},
   "outputs": [
    {
     "name": "stdout",
     "output_type": "stream",
     "text": [
      "x1 nbytes:  24\n",
      "x2 nbytes:  48\n",
      "x3 nbytes:  240\n"
     ]
    }
   ],
   "source": [
    "# print total size using nbytes\n",
    "print(\"x1 nbytes: \", x1.nbytes)\n",
    "print(\"x2 nbytes: \", x2.nbytes)\n",
    "print(\"x3 nbytes: \", x3.nbytes)"
   ]
  },
  {
   "cell_type": "markdown",
   "metadata": {},
   "source": [
    "## Accessing Array Elements\n",
    "#### Access a single value (uses 0 indexing)\n",
    "- `array[index]` for 1d\n",
    "- `array[row_index, column_index]` for 2d\n",
    "- `array[box_index, row_index, column_index]` for 3d"
   ]
  },
  {
   "cell_type": "code",
   "execution_count": 17,
   "metadata": {},
   "outputs": [
    {
     "data": {
      "text/plain": [
       "array([[[8, 1, 5, 9, 8],\n",
       "        [9, 4, 3, 0, 3],\n",
       "        [5, 0, 2, 3, 8],\n",
       "        [1, 3, 3, 3, 7]],\n",
       "\n",
       "       [[0, 1, 9, 9, 0],\n",
       "        [4, 7, 3, 2, 7],\n",
       "        [2, 0, 0, 4, 5],\n",
       "        [5, 6, 8, 4, 1]],\n",
       "\n",
       "       [[4, 9, 8, 1, 1],\n",
       "        [7, 9, 9, 3, 6],\n",
       "        [7, 2, 0, 3, 5],\n",
       "        [9, 4, 4, 6, 4]]])"
      ]
     },
     "execution_count": 17,
     "metadata": {},
     "output_type": "execute_result"
    }
   ],
   "source": [
    "# show x3 values\n",
    "x3"
   ]
  },
  {
   "cell_type": "code",
   "execution_count": 18,
   "metadata": {},
   "outputs": [
    {
     "data": {
      "text/plain": [
       "0"
      ]
     },
     "execution_count": 18,
     "metadata": {},
     "output_type": "execute_result"
    }
   ],
   "source": [
    "# select the middle box (index of 1), then first row first column\n",
    "x3[1, 0, 0]"
   ]
  },
  {
   "cell_type": "markdown",
   "metadata": {},
   "source": [
    "#### Array Slicing\n",
    "- assigning an array slice or value to a variable can allow you to change the variable's value\n",
    "    - **this will in turn modify the original array too!**\n",
    "    - to create a copy of an array that won't modify the original use `copy()`\n",
    "        - `subarray_copy = array[rows, cols].copy()` \n",
    "- 1d arrays\n",
    "    - `array[start:stop:step]`\n",
    "    - `array[:5]` first 5 elements (index 0 through 4)\n",
    "    - `array[5:]` elements starting with index 5 until the end\n",
    "    - `array[4:7]` elements from index 4 through index 6\n",
    "    - `array[::2]` every other element\n",
    "    - `array[1::2]` every other element starting at index 1\n",
    "    - `array[::-1]` all elements reversed\n",
    "    - `array[5::-2]` every other element in reverse from index 5 to 0 (1 really)"
   ]
  },
  {
   "cell_type": "code",
   "execution_count": 19,
   "metadata": {},
   "outputs": [
    {
     "data": {
      "text/plain": [
       "array([5, 0, 3, 3, 7, 9])"
      ]
     },
     "execution_count": 19,
     "metadata": {},
     "output_type": "execute_result"
    }
   ],
   "source": [
    "x1"
   ]
  },
  {
   "cell_type": "code",
   "execution_count": 20,
   "metadata": {},
   "outputs": [
    {
     "data": {
      "text/plain": [
       "array([0, 3, 3])"
      ]
     },
     "execution_count": 20,
     "metadata": {},
     "output_type": "execute_result"
    }
   ],
   "source": [
    "x1[1:4]"
   ]
  },
  {
   "cell_type": "code",
   "execution_count": 21,
   "metadata": {},
   "outputs": [
    {
     "data": {
      "text/plain": [
       "array([9, 7, 3, 3, 0, 5])"
      ]
     },
     "execution_count": 21,
     "metadata": {},
     "output_type": "execute_result"
    }
   ],
   "source": [
    "x1[::-1]"
   ]
  },
  {
   "cell_type": "markdown",
   "metadata": {},
   "source": [
    "- multidimensional arrays\n",
    "    - creating subarrays\n",
    "        - `array[:rows, :cols]` accesses :rows number of rows and :cols number of columns\n",
    "            - `array[:2, :3]` two rows, three columns\n",
    "        - `array[:rows, ::cols]` ::cols acts like a step\n",
    "            - `array[:3, ::2]` three rows, every other column\n",
    "        - `array[::-1, ::-1]` reverses the rows and reverses the columns\n",
    "    - accessing rows and columns\n",
    "        - `array[:, col]` accesses all rows in column at specified index\n",
    "        - `array[row, :]` accesses entire row at specified index"
   ]
  },
  {
   "cell_type": "code",
   "execution_count": 22,
   "metadata": {},
   "outputs": [
    {
     "data": {
      "text/plain": [
       "array([[3, 5, 2, 4],\n",
       "       [7, 6, 8, 8],\n",
       "       [1, 6, 7, 7]])"
      ]
     },
     "execution_count": 22,
     "metadata": {},
     "output_type": "execute_result"
    }
   ],
   "source": [
    "# view x2\n",
    "x2"
   ]
  },
  {
   "cell_type": "code",
   "execution_count": 23,
   "metadata": {},
   "outputs": [
    {
     "name": "stdout",
     "output_type": "stream",
     "text": [
      "[1 6 7 7]\n"
     ]
    }
   ],
   "source": [
    "# assign 3rd row to a subarray variable\n",
    "# modifying this subarray will change the original\n",
    "x2sub = x2[2, :]\n",
    "print(x2sub)"
   ]
  },
  {
   "cell_type": "code",
   "execution_count": 24,
   "metadata": {},
   "outputs": [
    {
     "name": "stdout",
     "output_type": "stream",
     "text": [
      "[[ 3  5  2  4]\n",
      " [ 7  6  8  8]\n",
      " [99  6  7  7]]\n"
     ]
    }
   ],
   "source": [
    "# modifying the subarray modifies the original array\n",
    "x2sub[0] = 99\n",
    "print(x2)"
   ]
  },
  {
   "cell_type": "code",
   "execution_count": 25,
   "metadata": {},
   "outputs": [
    {
     "name": "stdout",
     "output_type": "stream",
     "text": [
      "[99  6  7  7]\n",
      "[1 6 7 7]\n",
      "\n",
      "[[ 3  5  2  4]\n",
      " [ 7  6  8  8]\n",
      " [99  6  7  7]]\n"
     ]
    }
   ],
   "source": [
    "# copies can be modified without altering the original\n",
    "x2subcopy = x2[2, :].copy()\n",
    "print(x2subcopy)\n",
    "x2subcopy[0] = 1\n",
    "print(x2subcopy)\n",
    "print()\n",
    "print(x2)"
   ]
  },
  {
   "cell_type": "markdown",
   "metadata": {},
   "source": [
    "## Reshaping Arrays\n",
    "- Most flexible is the `reshape()` method\n",
    "    - the size of your original array must match the new array\n",
    "- Another way is to convert 1d array to 2d or matrix with `newaxis` keyword\n",
    "    - you can use this to change a row to a column and vice versa"
   ]
  },
  {
   "cell_type": "code",
   "execution_count": 26,
   "metadata": {},
   "outputs": [
    {
     "name": "stdout",
     "output_type": "stream",
     "text": [
      "[[1 2 3]\n",
      " [4 5 6]\n",
      " [7 8 9]]\n"
     ]
    }
   ],
   "source": [
    "# reshaping an array requires new and old to be the correct size\n",
    "nums = np.arange(1, 10, 1) # create 1d array 1-9 step of 1\n",
    "nums2 = nums.reshape((3, 3))\n",
    "print(nums2)"
   ]
  },
  {
   "cell_type": "code",
   "execution_count": 27,
   "metadata": {},
   "outputs": [
    {
     "name": "stdout",
     "output_type": "stream",
     "text": [
      "[1 2 3 4 5 6 7 8 9]\n",
      "[[1]\n",
      " [2]\n",
      " [3]\n",
      " [4]\n",
      " [5]\n",
      " [6]\n",
      " [7]\n",
      " [8]\n",
      " [9]]\n",
      "[1 2 3 4 5 6 7 8 9]\n"
     ]
    }
   ],
   "source": [
    "# reshape using the newaxis keyword to convert a row to a column\n",
    "# the original array is not modified\n",
    "print(nums)\n",
    "print(nums[:, np.newaxis])\n",
    "print(nums)"
   ]
  },
  {
   "cell_type": "markdown",
   "metadata": {},
   "source": [
    "## Array Concatenating and Splitting\n",
    "#### Concatenating\n",
    "- `np.concatenate([array_list][, axis])`, `np.vstack([array_list])`, `np.hstack([array_list])`\n",
    "- `np.concatenate([array_list][, axis])` will stitch multiple arrays together into one\n",
    "    - `axis=0` by default and is 0 indexed\n",
    "        - can supply this to change how multi-d arrays are appended\n",
    "    - 1d arrays are appended, resulting in a longer 1d array\n",
    "    - 2d arrays are appended the same by default, so 3x3 + 2x3 will yield 5x3\n",
    "        - number of columns stays the same, additional rows are added by default\n",
    "        - change to `axis=1` to add columns rather than rows\n",
    "    - 3d arrays or arrays of mixed dimensions, use np.vstack (vertical) or np.hstack (horizontal)\n",
    "        - your number of cols or rows must match for vstack or hstack respectively\n",
    "- `np.dstack([array_list])` will stack along the third axis"
   ]
  },
  {
   "cell_type": "code",
   "execution_count": 28,
   "metadata": {},
   "outputs": [
    {
     "data": {
      "text/plain": [
       "array([[1, 2, 3],\n",
       "       [4, 5, 6],\n",
       "       [1, 2, 3],\n",
       "       [4, 5, 6]])"
      ]
     },
     "execution_count": 28,
     "metadata": {},
     "output_type": "execute_result"
    }
   ],
   "source": [
    "# np.concatenate() example with default axis\n",
    "grid = np.array([[1, 2, 3],\n",
    "                 [4, 5, 6]])\n",
    "np.concatenate([grid, grid])"
   ]
  },
  {
   "cell_type": "code",
   "execution_count": 29,
   "metadata": {},
   "outputs": [
    {
     "data": {
      "text/plain": [
       "array([[1, 2, 3, 1, 2, 3],\n",
       "       [4, 5, 6, 4, 5, 6]])"
      ]
     },
     "execution_count": 29,
     "metadata": {},
     "output_type": "execute_result"
    }
   ],
   "source": [
    "# np.concatenate() with axis=1\n",
    "np.concatenate([grid, grid], axis=1)"
   ]
  },
  {
   "cell_type": "code",
   "execution_count": 30,
   "metadata": {},
   "outputs": [
    {
     "data": {
      "text/plain": [
       "array([[ 1,  2,  3],\n",
       "       [ 4,  5,  6],\n",
       "       [ 7,  8,  9],\n",
       "       [10, 11, 12],\n",
       "       [13, 14, 15]])"
      ]
     },
     "execution_count": 30,
     "metadata": {},
     "output_type": "execute_result"
    }
   ],
   "source": [
    "# np.vstack() example\n",
    "# number of columns must match\n",
    "grid2 = np.array([[ 7,  8,  9],\n",
    "                  [10, 11, 12],\n",
    "                  [13, 14, 15]])\n",
    "np.vstack([grid, grid2])"
   ]
  },
  {
   "cell_type": "code",
   "execution_count": 31,
   "metadata": {},
   "outputs": [
    {
     "data": {
      "text/plain": [
       "array([[1, 2, 3, 4, 3],\n",
       "       [4, 5, 6, 7, 9]])"
      ]
     },
     "execution_count": 31,
     "metadata": {},
     "output_type": "execute_result"
    }
   ],
   "source": [
    "# np.hstack() example\n",
    "# number of rows must match\n",
    "grid3 = np.array([[4, 3],\n",
    "                  [7, 9]])\n",
    "np.hstack([grid, grid3])"
   ]
  },
  {
   "cell_type": "code",
   "execution_count": 32,
   "metadata": {},
   "outputs": [
    {
     "data": {
      "text/plain": [
       "array([[[1, 2, 3, 1, 2, 3],\n",
       "        [4, 5, 6, 4, 5, 6]],\n",
       "\n",
       "       [[1, 2, 3, 1, 2, 3],\n",
       "        [4, 5, 6, 4, 5, 6]]])"
      ]
     },
     "execution_count": 32,
     "metadata": {},
     "output_type": "execute_result"
    }
   ],
   "source": [
    "# np.dstack() example\n",
    "# default is mapping which appears to add horizontally sort of\n",
    "# [1, 2, 3] (first entry is mapped to [1, 2, 3] in next box)\n",
    "grid3d = np.array([[[1, 2, 3],\n",
    "                    [4, 5, 6]],\n",
    "                  \n",
    "                   [[1, 2, 3],\n",
    "                    [4, 5, 6]]])\n",
    "np.dstack([grid3d, grid3d])"
   ]
  },
  {
   "cell_type": "markdown",
   "metadata": {},
   "source": [
    "#### Splitting\n",
    "- `np.split(array, index(es))`, `np.hsplit(array, index(es))`, `np.vsplit(array, index(es))`\n",
    "    - supply an index or a list of indexes\n",
    "    - the number of arrays returned is (number of indexes supplied + 1)\n",
    "    - each index supplied is the beginning of a new array\n",
    "- `np.split()` would work well with 1d arrays\n",
    "- `np.hsplit()` for horizontal splits and `np.vsplit()` for vertical splits\n",
    "- `np.dsplit()` can split along the 3rd axis"
   ]
  },
  {
   "cell_type": "code",
   "execution_count": 33,
   "metadata": {},
   "outputs": [
    {
     "name": "stdout",
     "output_type": "stream",
     "text": [
      "[1 2 3] [4 5] [6 7 8 9]\n"
     ]
    }
   ],
   "source": [
    "# np.split example\n",
    "# 2nd array starts at index 3\n",
    "# 3rd array starts at index 5\n",
    "x = [1, 2, 3, 4, 5, 6, 7, 8, 9]\n",
    "x1, x2, x3 = np.split(x, [3, 5])\n",
    "print(x1, x2, x3)"
   ]
  },
  {
   "cell_type": "code",
   "execution_count": 34,
   "metadata": {},
   "outputs": [
    {
     "name": "stdout",
     "output_type": "stream",
     "text": [
      "[[ 0  1  2  3]\n",
      " [ 4  5  6  7]\n",
      " [ 8  9 10 11]\n",
      " [12 13 14 15]]\n",
      "[[0 1 2 3]\n",
      " [4 5 6 7]]\n",
      "[[ 8  9 10 11]\n",
      " [12 13 14 15]]\n"
     ]
    }
   ],
   "source": [
    "# np.vsplit example\n",
    "# index provides the row index for splitting\n",
    "# 2nd arrary starts at the row of the first index provided and so on\n",
    "grid = np.arange(16).reshape((4, 4))\n",
    "upper, lower = np.vsplit(grid, [2])\n",
    "print(grid)\n",
    "print(upper)\n",
    "print(lower)"
   ]
  },
  {
   "cell_type": "code",
   "execution_count": 35,
   "metadata": {},
   "outputs": [
    {
     "name": "stdout",
     "output_type": "stream",
     "text": [
      "[[ 0  1  2  3]\n",
      " [ 4  5  6  7]\n",
      " [ 8  9 10 11]\n",
      " [12 13 14 15]]\n",
      "[[ 0  1]\n",
      " [ 4  5]\n",
      " [ 8  9]\n",
      " [12 13]]\n",
      "[[ 2  3]\n",
      " [ 6  7]\n",
      " [10 11]\n",
      " [14 15]]\n"
     ]
    }
   ],
   "source": [
    "# np.hsplit example\n",
    "# index provides the col index for splitting\n",
    "# 2nd array starts at col of first index provided and so on\n",
    "left, right = np.hsplit(grid, [2])\n",
    "print(grid)\n",
    "print(left)\n",
    "print(right)"
   ]
  },
  {
   "cell_type": "markdown",
   "metadata": {},
   "source": [
    "## Universal Functions (UFuncs)\n",
    "- Python looping is inherently slow because Python is flexible and needs to type check every iteration\n",
    "    - Use vectorized operations (built-in ufuncs are such) whenever possible to improve performance\n",
    "    - The key is to **avoid for loops** with operations on large arrays\n",
    "        - use ufuncs or perform operations directly with the arrays\n",
    "        - this allows the code to be crunched in optimized C code without checking data types   "
   ]
  },
  {
   "cell_type": "markdown",
   "metadata": {},
   "source": [
    "#### Arithmetic\n",
    "- Many operations have numpy equivalents to use\n",
    "    - if a standard operation is listed below, it is vectorized and good to use\n",
    "        - even if it has a numpy equivalent\n",
    "- Use the `out=` argument of a ufunc (np. version) to specify where the output should go\n",
    "    - this avoids the creation of temporary arrays and saves resources\n",
    "    - can specify just an object `out=y`\n",
    "    - can specify a location `out=y[::2]` for every other char\n",
    "        - could use this to add a row or a column potentially\n",
    "- Use standard Python arithmetic operators, they do have equivalent ufunc and behave the same\n",
    "    - perform these operations on scalars, arrays, or combinations of the two\n",
    "    - `+` equiv `np.add`\n",
    "    - `-` equiv `np.subtract`\n",
    "    - `-` equiv `np.negative` for numbers\n",
    "    - `*` equiv `np.multiply`\n",
    "    - `/` equiv `np.divide`\n",
    "    - `//` equiv `np.floor_divide` divide and round down\n",
    "    - `**` equiv `np.power`\n",
    "    - `%` equiv `np.mod`\n",
    "- Boolean Comparisons\n",
    "    - can return an array filled with Boolean values\n",
    "    - see section on Boolean Masking below\n",
    "    - `>`\n",
    "    - `<`\n",
    "    - `>=`\n",
    "    - `<=`\n",
    "    - `!=`\n",
    "    - `==`\n",
    "    - Can combine using built-in biwise logic operators\n",
    "        - `&` and\n",
    "        - `|` or\n",
    "        - `^` xor (not really that sure about this one)\n",
    "        - `~` bitwise not\n",
    "- Absolute value\n",
    "    - `abs(object)` equiv to `np.absolute()` or `np.abs()`\n",
    "        - returns the magnitude in the case of complex data\n",
    "- Trig functions\n",
    "    - work on values as well as arrays\n",
    "    - values that should be 0 may be floats, so round if necessary\n",
    "    - `np.pi` returns the value of pi\n",
    "    - `np.sin(angle)`\n",
    "    - `np.cos(angle)`\n",
    "    - `np.tan(angle)`\n",
    "    - `np.arcsin(opp/hyp)`\n",
    "    - `np.arccos(adj/hyp)`\n",
    "    - `np.arctan(opp/adj)`\n",
    "- Exponents and logs\n",
    "    - work on values as well as arrays\n",
    "    - `np.exp(num)` raises \"e\" to the \"num\" power\n",
    "    - `np.exp2(num)` raises \"2\" to the \"num\" power\n",
    "    - `np.power(base, num)` raises \"base\" to the \"num\" power\n",
    "    - `np.log(num)` is the \"ln(num)\" (base e)\n",
    "    - `np.log2(num)` is the log base 2 of \"num\"\n",
    "    - `np.log10(num)` is the log base 10 of \"num\"\n",
    "    - when input is a very small number, use for higher precision\n",
    "        - `np.expm1(num)` \"exp(num) -1\"\n",
    "        - `np.log1p(num)` \"log(1 + num)\"\n",
    "- For more ufuncs\n",
    "    - visit [numpy documentation](https://docs.scipy.org/doc/)\n",
    "    - check out scipy.special `from scipy import special`"
   ]
  },
  {
   "cell_type": "markdown",
   "metadata": {},
   "source": [
    "#### Aggregations\n",
    "- `.reduce(object)` method\n",
    "    - will run the function specified until only one result remains\n",
    "- `.accumulate(object)` method\n",
    "    - will store the running totals in an array and return that array\n",
    "- Examples below are simplified\n",
    "    - in fact there are better ways to do these examples using dedicated np functions\n",
    "    - see the \"summary stats\" next section"
   ]
  },
  {
   "cell_type": "code",
   "execution_count": 36,
   "metadata": {},
   "outputs": [
    {
     "name": "stdout",
     "output_type": "stream",
     "text": [
      "15\n",
      "120\n"
     ]
    }
   ],
   "source": [
    "# .reduce() examples\n",
    "x = np.arange(1, 6)\n",
    "print(np.add.reduce(x)) # adds all the values of x together\n",
    "print(np.multiply.reduce(x)) # multiplies all the values of x together"
   ]
  },
  {
   "cell_type": "code",
   "execution_count": 37,
   "metadata": {},
   "outputs": [
    {
     "name": "stdout",
     "output_type": "stream",
     "text": [
      "[ 1  3  6 10 15]\n",
      "[  1   2   6  24 120]\n"
     ]
    }
   ],
   "source": [
    "# .accumulate() examples\n",
    "print(np.add.accumulate(x)) # running total of sum of values in x\n",
    "print(np.multiply.accumulate(x)) # running total of x value products"
   ]
  },
  {
   "cell_type": "markdown",
   "metadata": {},
   "source": [
    "#### Aggregation Function for Summary Stats\n",
    "- As functions (with NaN-safe versions)\n",
    "    - `np.sum(array)` `np.nansum()` sums all of the values\n",
    "    - `np.min(array)` `np.nanmin()` returns the min value\n",
    "    - `np.max(array)` `np.nanmax()` returns the max value\n",
    "- As methods\n",
    "    - `array.sum()` `array.nansum()`\n",
    "    - `array.min()` `array.nanmin()`\n",
    "    - `array.max()` `array.nanmax()`\n",
    "- Multidimensional Aggregates    \n",
    "    - Default action to aggregate over the entire array (all values)\n",
    "    - **change the `axis` arg to modify this**\n",
    "    - set `axis=0` to return an aggregate value for each column\n",
    "    - set `axis=1` to return an aggregate value for each row\n",
    "    - when used on a 2d array, the result is a 1d array\n",
    "- Additional functions (which may have associated methods)\n",
    "    - also listed is the NaN-safe version that ignores missing values\n",
    "    - `np.prod(array)` `np.nanprod()` compute product of elements\n",
    "    - `np.mean(array)` `np.nanmean()` mean\n",
    "    - `np.std(array)` `np.nanstd()` standard deviation\n",
    "    - `np.var(array)` `np.nanvar()` variance (std**2)\n",
    "    - `np.argmin(array)` `np.nanargmin()` index of min value\n",
    "    - `np.argmax(array)` `np.nanargmax()` index of max value\n",
    "    - `np.median(array)` `np.nanmedian()` median value\n",
    "    - `np.percentile(array)` `np.nanpercentile()` rank-based stats of elements\n",
    "    - `np.any(array)` evaluate whether any elements are True\n",
    "        - returns single Boolean unless specified axis\n",
    "    - `np.all(array)` evaluate whter all elements are True"
   ]
  },
  {
   "cell_type": "markdown",
   "metadata": {},
   "source": [
    "#### Example that Imports Data and Visualizes Summary Data"
   ]
  },
  {
   "cell_type": "code",
   "execution_count": 38,
   "metadata": {},
   "outputs": [
    {
     "name": "stdout",
     "output_type": "stream",
     "text": [
      "[189 170 189 163 183 171 185 168 173 183 173 173 175 178 183 193 178 173\n",
      " 174 183 183 168 170 178 182 180 183 178 182 188 175 179 183 193 182 183\n",
      " 177 185 188 188 182 185]\n"
     ]
    }
   ],
   "source": [
    "# packages were imported at the top of the notebook\n",
    "# pandas used to import the file (sample data from O'Reilly)\n",
    "# pyplot and seaborn used to visualize data\n",
    "data = pd.read_csv('DSHB_Data/president_heights.csv')\n",
    "heights = np.array(data['height(cm)'])\n",
    "print(heights)"
   ]
  },
  {
   "cell_type": "code",
   "execution_count": 39,
   "metadata": {},
   "outputs": [
    {
     "name": "stdout",
     "output_type": "stream",
     "text": [
      "Mean Height:   179.73809523809524\n",
      "Standard Dev:  6.931843442745892\n",
      "Min Height:    163\n",
      "Max Height:    193\n"
     ]
    }
   ],
   "source": [
    "# print summary stats over the entire array\n",
    "print(\"Mean Height:  \", heights.mean())\n",
    "print(\"Standard Dev: \", heights.std())\n",
    "print(\"Min Height:   \", heights.min())\n",
    "print(\"Max Height:   \", heights.max())"
   ]
  },
  {
   "cell_type": "code",
   "execution_count": 40,
   "metadata": {},
   "outputs": [
    {
     "name": "stdout",
     "output_type": "stream",
     "text": [
      "25th percentile:  174.25\n",
      "Median:           182.0\n",
      "75th percentile:  183.0\n"
     ]
    }
   ],
   "source": [
    "# print median and 25th & 75th quantiles\n",
    "print(\"25th percentile: \", np.percentile(heights, 25))\n",
    "print(\"Median:          \", np.median(heights))\n",
    "print(\"75th percentile: \", np.percentile(heights, 75))"
   ]
  },
  {
   "cell_type": "code",
   "execution_count": 41,
   "metadata": {},
   "outputs": [
    {
     "data": {
      "image/png": "[encoded data removed]",
      "text/plain": [
       "<Figure size 432x288 with 1 Axes>"
      ]
     },
     "metadata": {
      "needs_background": "light"
     },
     "output_type": "display_data"
    }
   ],
   "source": [
    "# visualize data using a histogram\n",
    "# already called %matplotlib inline magic\n",
    "# pyplot and seaborn plot set already imported\n",
    "plt.hist(heights)\n",
    "plt.title('Height Distribution of US Presidents')\n",
    "plt.xlabel('height (cm)')\n",
    "plt.ylabel('number');"
   ]
  },
  {
   "cell_type": "markdown",
   "metadata": {},
   "source": [
    "## Broadcasting\n",
    "- Allows computations using arrays of different sizes and dimensions\n",
    "\n",
    "#### Rules of Broadcasting\n",
    "- If the two arrays differ in number of dimensions:\n",
    "    - the shape of the one with fewer dimensions is padded with ones on its leading (left) side\n",
    "- If the shape does not match in any dimension:\n",
    "    - the array with shape equal to 1 in that dimension is stretched to match the other shape\n",
    "    - only occurs if the length of the one dimensional array is the same length as that dimension in the other array\n",
    "- If in any dimension the sizes disagree and neither is equal to 1 or length requirement above fails:\n",
    "    - an error is raised\n",
    "    \n",
    "#### Can Test These Rules to See if Arrays Are Compatible\n",
    "- Rule 1: padd with ones on the left\n",
    "- Rule 2: stretch the ones to match the other shape\n",
    "- Rule 3: dimensions must match\n",
    "\n",
    "- Examples: Each example is using two arrays 'm' and 'a'\n",
    "    - Example 1\n",
    "        - m.shape = (2, 3)\n",
    "        - a.shape = (3,) -> pad 1's on left gives (1, 3) -> stretch gives (2, 3), so they're compatible\n",
    "    - Example 2\n",
    "        - m.shape = (3, 1)\n",
    "        - a.shape = (3,) -> pad 1's on left give (1, 3) -> stretch gives (3, 3) and (3, 3), compatible\n",
    "    - Example 3\n",
    "        - m.shape = (3, 2)\n",
    "        - a.shape = (3,) -> pad 1's -> (1, 3) -> stretch -> (3, 3) is not compatible with (3, 2)"
   ]
  },
  {
   "cell_type": "code",
   "execution_count": 42,
   "metadata": {},
   "outputs": [
    {
     "name": "stdout",
     "output_type": "stream",
     "text": [
      "[[1. 1. 1.]\n",
      " [1. 1. 1.]\n",
      " [1. 1. 1.]]\n"
     ]
    },
    {
     "data": {
      "text/plain": [
       "array([[6., 6., 6.],\n",
       "       [6., 6., 6.],\n",
       "       [6., 6., 6.]])"
      ]
     },
     "execution_count": 42,
     "metadata": {},
     "output_type": "execute_result"
    }
   ],
   "source": [
    "# broadcasting a scalar onto an array\n",
    "m = np.ones((3, 3))\n",
    "print(m)\n",
    "a = 5\n",
    "m + a"
   ]
  },
  {
   "cell_type": "code",
   "execution_count": 43,
   "metadata": {},
   "outputs": [
    {
     "data": {
      "text/plain": [
       "array([[1., 2., 3.],\n",
       "       [1., 2., 3.],\n",
       "       [1., 2., 3.]])"
      ]
     },
     "execution_count": 43,
     "metadata": {},
     "output_type": "execute_result"
    }
   ],
   "source": [
    "# broadcasting a one dimensional array of the same row length\n",
    "b = np.array([0, 1, 2])\n",
    "m + b"
   ]
  },
  {
   "cell_type": "code",
   "execution_count": 44,
   "metadata": {},
   "outputs": [
    {
     "name": "stdout",
     "output_type": "stream",
     "text": [
      "[0 1 2]\n",
      "[[0]\n",
      " [1]\n",
      " [2]]\n"
     ]
    }
   ],
   "source": [
    "# broadcasting arrays of different shapes\n",
    "# first to show their shape\n",
    "a = np.arange(3)\n",
    "b = np.arange(3)[:, np.newaxis]\n",
    "\n",
    "print(a)\n",
    "print(b)"
   ]
  },
  {
   "cell_type": "code",
   "execution_count": 45,
   "metadata": {},
   "outputs": [
    {
     "data": {
      "text/plain": [
       "array([[0, 1, 2],\n",
       "       [1, 2, 3],\n",
       "       [2, 3, 4]])"
      ]
     },
     "execution_count": 45,
     "metadata": {},
     "output_type": "execute_result"
    }
   ],
   "source": [
    "# now to broadcast\n",
    "# can you see the pattern?\n",
    "# b is broadcasted onto a and extends a into b's dimensions\n",
    "a + b"
   ]
  },
  {
   "cell_type": "code",
   "execution_count": 57,
   "metadata": {},
   "outputs": [
    {
     "name": "stdout",
     "output_type": "stream",
     "text": [
      "[[1. 1. 1. 1.]\n",
      " [1. 1. 1. 1.]\n",
      " [1. 1. 1. 1.]]\n",
      "[[0]\n",
      " [1]\n",
      " [2]]\n"
     ]
    }
   ],
   "source": [
    "# test the rules about array of 1 dimension\n",
    "c = np.ones((3, 4))\n",
    "d = np.arange(3)[:, np.newaxis]\n",
    "\n",
    "print(c)\n",
    "print(d)"
   ]
  },
  {
   "cell_type": "code",
   "execution_count": 58,
   "metadata": {},
   "outputs": [
    {
     "data": {
      "text/plain": [
       "array([[1., 1., 1., 1.],\n",
       "       [2., 2., 2., 2.],\n",
       "       [3., 3., 3., 3.]])"
      ]
     },
     "execution_count": 58,
     "metadata": {},
     "output_type": "execute_result"
    }
   ],
   "source": [
    "c + d"
   ]
  },
  {
   "cell_type": "markdown",
   "metadata": {},
   "source": [
    "## Boolean Operations and Masking\n",
    "- Using Boolean criteria to extract, modify, count, or manipulate array data\n",
    "- Efficient process, utilizing UFunc functionality\n",
    "- Can return arrays filled with Boolean values based on comparison"
   ]
  },
  {
   "cell_type": "code",
   "execution_count": 59,
   "metadata": {},
   "outputs": [
    {
     "data": {
      "text/plain": [
       "array([[5, 0, 3, 3],\n",
       "       [7, 9, 3, 5],\n",
       "       [2, 4, 7, 6]])"
      ]
     },
     "execution_count": 59,
     "metadata": {},
     "output_type": "execute_result"
    }
   ],
   "source": [
    "# generate an array for following Boolean examples\n",
    "rng = np.random.RandomState(0)\n",
    "x = rng.randint(10, size=(3,4))\n",
    "x"
   ]
  },
  {
   "cell_type": "code",
   "execution_count": 60,
   "metadata": {},
   "outputs": [
    {
     "data": {
      "text/plain": [
       "array([[ True,  True,  True,  True],\n",
       "       [False, False,  True,  True],\n",
       "       [ True,  True, False, False]])"
      ]
     },
     "execution_count": 60,
     "metadata": {},
     "output_type": "execute_result"
    }
   ],
   "source": [
    "# return Boolean array showing where x < 6\n",
    "x < 6"
   ]
  },
  {
   "cell_type": "code",
   "execution_count": 61,
   "metadata": {},
   "outputs": [
    {
     "data": {
      "text/plain": [
       "8"
      ]
     },
     "execution_count": 61,
     "metadata": {},
     "output_type": "execute_result"
    }
   ],
   "source": [
    "# count the number of values where x < 6\n",
    "# use np.count_nonzero (False interpreted as 0 and True as 1)\n",
    "np.count_nonzero(x < 6)"
   ]
  },
  {
   "cell_type": "code",
   "execution_count": 62,
   "metadata": {},
   "outputs": [
    {
     "data": {
      "text/plain": [
       "8"
      ]
     },
     "execution_count": 62,
     "metadata": {},
     "output_type": "execute_result"
    }
   ],
   "source": [
    "# same result as non_zero function if we sum (True interpreted as 1, False as 0)\n",
    "np.sum(x < 6)"
   ]
  },
  {
   "cell_type": "code",
   "execution_count": 63,
   "metadata": {},
   "outputs": [
    {
     "data": {
      "text/plain": [
       "array([4, 2, 2])"
      ]
     },
     "execution_count": 63,
     "metadata": {},
     "output_type": "execute_result"
    }
   ],
   "source": [
    "# .sum function allows us to do along a single dimension\n",
    "# how many values less than 6 in each row?\n",
    "np.sum(x < 6, axis=1)"
   ]
  },
  {
   "cell_type": "code",
   "execution_count": 65,
   "metadata": {},
   "outputs": [
    {
     "name": "stdout",
     "output_type": "stream",
     "text": [
      "True\n",
      "False\n"
     ]
    }
   ],
   "source": [
    "# first run, are any values greater than 8?\n",
    "# second run, are all values equal to 6?\n",
    "# only used 'print' to display both outputs\n",
    "print(np.any(x > 8))\n",
    "print(np.all(x == 6))"
   ]
  },
  {
   "cell_type": "code",
   "execution_count": 66,
   "metadata": {},
   "outputs": [
    {
     "data": {
      "text/plain": [
       "array([False,  True, False])"
      ]
     },
     "execution_count": 66,
     "metadata": {},
     "output_type": "execute_result"
    }
   ],
   "source": [
    "# any and all work along each axis too\n",
    "# any values above 8 in each row?\n",
    "np.any(x > 8, axis=1)"
   ]
  },
  {
   "cell_type": "code",
   "execution_count": 67,
   "metadata": {},
   "outputs": [
    {
     "data": {
      "text/plain": [
       "(365,)"
      ]
     },
     "execution_count": 67,
     "metadata": {},
     "output_type": "execute_result"
    }
   ],
   "source": [
    "# Seattle rainfall examples\n",
    "# use pandas to import the csv file\n",
    "rainfall = pd.read_csv('DSHB_Data/Seattle2014.csv')['PRCP'].values\n",
    "inches = rainfall / 254 # convert mm to inches\n",
    "inches.shape"
   ]
  },
  {
   "cell_type": "code",
   "execution_count": 69,
   "metadata": {},
   "outputs": [
    {
     "name": "stdout",
     "output_type": "stream",
     "text": [
      "Number of days without rain:               215\n",
      "Number of days with rain:                  150\n",
      "Days with more than 0.5 inches of rain:    37\n",
      "Rainy days with < 0.2 inches:              75\n"
     ]
    }
   ],
   "source": [
    "# Using Booleans and logic operators to print summary data on Seattle rainfall\n",
    "print(\"Number of days without rain:              \", np.sum(inches == 0))\n",
    "print(\"Number of days with rain:                 \", np.sum(inches != 0))\n",
    "print(\"Days with more than 0.5 inches of rain:   \", np.sum(inches > 0.5))\n",
    "print(\"Rainy days with < 0.2 inches:             \", np.sum((inches > 0) & (inches < 0.2)))"
   ]
  },
  {
   "cell_type": "markdown",
   "metadata": {},
   "source": [
    "#### Boolean Masking\n",
    "- Using the results of a Boolean comparison to subset\n",
    "- Use the returned Boolean array as an index to subset the data"
   ]
  },
  {
   "cell_type": "code",
   "execution_count": 71,
   "metadata": {},
   "outputs": [
    {
     "data": {
      "text/plain": [
       "array([0, 3, 3, 3, 2, 4])"
      ]
     },
     "execution_count": 71,
     "metadata": {},
     "output_type": "execute_result"
    }
   ],
   "source": [
    "# use the 'x' array created earlier\n",
    "# return one dimensional array of all values < 5\n",
    "x[x < 5]"
   ]
  },
  {
   "cell_type": "code",
   "execution_count": 73,
   "metadata": {},
   "outputs": [
    {
     "name": "stdout",
     "output_type": "stream",
     "text": [
      "Median precip on rainy days in 2014 (inches):       0.19488188976377951\n",
      "Median precip on summer days in 2014 (inches):      0.0\n",
      "Maximum precip on summer days in 2014 (inches):     0.8503937007874016\n",
      "Median precip on non-summer days in 2014 (inches):  0.20078740157480315\n"
     ]
    }
   ],
   "source": [
    "# using Boolean masking on the Seattle rain data\n",
    "rainy = (inches > 0) # create mask of all rainy days\n",
    "\n",
    "# construct a mask of all summer days (June 21st is the 172nd day)\n",
    "summer = (np.arange(365) - 172 < 90) & (np.arange(365) - 172 > 0)\n",
    "\n",
    "print(\"Median precip on rainy days in 2014 (inches):      \",\n",
    "     np.median(inches[rainy]))\n",
    "print(\"Median precip on summer days in 2014 (inches):     \",\n",
    "     np.median(inches[summer]))\n",
    "print(\"Maximum precip on summer days in 2014 (inches):    \",\n",
    "     np.max(inches[summer]))\n",
    "print(\"Median precip on non-summer days in 2014 (inches): \",\n",
    "     np.median(inches[rainy & ~summer]))"
   ]
  },
  {
   "cell_type": "markdown",
   "metadata": {},
   "source": [
    "#### Using `and`/`or`/`!=` vs. Using `&`/`|`/`~`\n",
    "- `and`/`or` evaluate the 'entire object'\n",
    "- `&`/`|` evalute the 'bits' within each object\n",
    "\n",
    "- This means that to evaluate on the elements or 'bits' within an array, you should use `&`/`|`\n",
    "    - This is nearly always the case with numpy arrays\n",
    "- `and`/`or` will try to evaluate on the entire array and could produce an error"
   ]
  },
  {
   "cell_type": "markdown",
   "metadata": {},
   "source": [
    "## Fancy Indexing\n",
    "- Passing arrays of indices rather than scalar values (like previous examples)\n",
    "- Returned result is the shape of the 'index array' rather than the 'indexed array'"
   ]
  },
  {
   "cell_type": "code",
   "execution_count": null,
   "metadata": {},
   "outputs": [],
   "source": []
  }
 ],
 "metadata": {
  "kernelspec": {
   "display_name": "Python 3",
   "language": "python",
   "name": "python3"
  },
  "language_info": {
   "codemirror_mode": {
    "name": "ipython",
    "version": 3
   },
   "file_extension": ".py",
   "mimetype": "text/x-python",
   "name": "python",
   "nbconvert_exporter": "python",
   "pygments_lexer": "ipython3",
   "version": "3.7.3"
  }
 },
 "nbformat": 4,
 "nbformat_minor": 2
}
