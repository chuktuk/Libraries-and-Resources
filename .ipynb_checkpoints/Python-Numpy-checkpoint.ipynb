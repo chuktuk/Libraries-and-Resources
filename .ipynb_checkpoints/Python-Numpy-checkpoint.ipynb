{
 "cells": [
  {
   "cell_type": "markdown",
   "metadata": {},
   "source": [
    "# Numpy Library"
   ]
  },
  {
   "cell_type": "code",
   "execution_count": 1,
   "metadata": {},
   "outputs": [],
   "source": [
    "# import numpy as np\n",
    "import numpy as np"
   ]
  },
  {
   "cell_type": "markdown",
   "metadata": {},
   "source": [
    "## Numpy General Info\n",
    "- Numpy arrays must contain all the same datatype\n",
    "    - if a list contains floats and ints, all will be converted to floats if possible\n",
    "    - use Pandas if wanting a dataframe with multiple data types"
   ]
  },
  {
   "cell_type": "markdown",
   "metadata": {},
   "source": [
    "## Creating Numpy Arrays\n",
    "- `np.array(list)`\n",
    "    - can supply the list as a variable or as a list of values in `[]`\n",
    "    - can specify type of array `dtype='type'` for 'int', 'float32', etc."
   ]
  },
  {
   "cell_type": "markdown",
   "metadata": {},
   "source": [
    "#### Numpy Data Types\n",
    "- set using `dtype='datatype'` or `dtype=np.datatype` in args\n",
    "    - `bool_` True or False store as a byte\n",
    "    - `int_` default integer type, normally either int64 or int32\n",
    "    - `intc` identical to C int (int32 or int64)\n",
    "    - `intp` int used for indexing\n",
    "    - `int8` byte (-128 to 127)\n",
    "    - `int16` integer (-32768 to 32767)\n",
    "    - `int32` integer (-2147483648 to 2147483647)\n",
    "    - `int64` integer (well, the biggest one)\n",
    "    - `uint8` unsigned int (0 to 255)\n",
    "    - `uint16` unsigned int (0 to 65535)\n",
    "    - `uint32` unsigned int (0 to 4294967295)\n",
    "    - `uint64` unsigned int (the biggest one)\n",
    "    - `float_` shorthand for float64\n",
    "    - `float16` half-precision float: sign bit, 5 bits exponent, 10 bits mantissa\n",
    "    - `float32` single-precision float: sign bit, 8 bits exponent, 23 bits mantissa\n",
    "    - `float64` double-precision float: sign bit, 11 bits exponent, 52 bits mantissa\n",
    "    - `complex_` short for complex128\n",
    "    - `complex64` complex number, with 32-bit floats\n",
    "    - `complex128` complex number, with 64-bit floats\n",
    "- more advanced type specification possible at [numpy documentation](http://numpy.org)"
   ]
  },
  {
   "cell_type": "markdown",
   "metadata": {},
   "source": [
    "#### Create Arrays from Lists"
   ]
  },
  {
   "cell_type": "code",
   "execution_count": 2,
   "metadata": {},
   "outputs": [
    {
     "data": {
      "text/plain": [
       "array([1., 2., 3., 4., 5., 6.], dtype=float32)"
      ]
     },
     "execution_count": 2,
     "metadata": {},
     "output_type": "execute_result"
    }
   ],
   "source": [
    "# create an array from a list using np.array()\n",
    "np.array([1, 2, 3, 4, 5, 6], dtype='float32')"
   ]
  },
  {
   "cell_type": "code",
   "execution_count": 3,
   "metadata": {},
   "outputs": [
    {
     "data": {
      "text/plain": [
       "array([ 2,  4,  6,  8, 10])"
      ]
     },
     "execution_count": 3,
     "metadata": {},
     "output_type": "execute_result"
    }
   ],
   "source": [
    "# create an array from a list stored in a variable using np.asarray()\n",
    "mylist = [2, 4, 6, 8, 10]\n",
    "np.asarray(mylist, dtype='int')"
   ]
  },
  {
   "cell_type": "markdown",
   "metadata": {},
   "source": [
    "#### Explicit Multidimensional Array"
   ]
  },
  {
   "cell_type": "code",
   "execution_count": 4,
   "metadata": {},
   "outputs": [
    {
     "data": {
      "text/plain": [
       "array([[2, 3, 4],\n",
       "       [4, 5, 6],\n",
       "       [6, 7, 8]])"
      ]
     },
     "execution_count": 4,
     "metadata": {},
     "output_type": "execute_result"
    }
   ],
   "source": [
    "# creates three rows [2, 4, 6] as starting i values, with ranges +3 over i\n",
    "# row 1 range(2, 5), row 2 range(4, 7), row 3 range(6, 9)\n",
    "np.array([range(i, i + 3) for i in [2, 4, 6]])"
   ]
  },
  {
   "cell_type": "markdown",
   "metadata": {},
   "source": [
    "#### Creating Arrays from Scratch\n",
    "- This section contains info on generating random arrays too\n",
    "- Can specify a *seed* when using the `np.random` package\n",
    "    - `np.random.seed(num)` where \"num\" is an integer you supply\n",
    "    - calling `np.random` using the same parameters will result in the same random numbers after this!\n",
    "    - this could be useful for reproducibility in some cases"
   ]
  },
  {
   "cell_type": "code",
   "execution_count": 5,
   "metadata": {},
   "outputs": [
    {
     "data": {
      "text/plain": [
       "array([0, 0, 0, 0, 0, 0, 0, 0, 0, 0])"
      ]
     },
     "execution_count": 5,
     "metadata": {},
     "output_type": "execute_result"
    }
   ],
   "source": [
    "# length-10 int array filled with zeros using np.zeros(num, dtype)\n",
    "# instead of 10, use (rows, columns) for multi-dimensional array\n",
    "np.zeros(10, dtype=int)"
   ]
  },
  {
   "cell_type": "code",
   "execution_count": 6,
   "metadata": {},
   "outputs": [
    {
     "data": {
      "text/plain": [
       "array([[1., 1., 1., 1., 1.],\n",
       "       [1., 1., 1., 1., 1.],\n",
       "       [1., 1., 1., 1., 1.]])"
      ]
     },
     "execution_count": 6,
     "metadata": {},
     "output_type": "execute_result"
    }
   ],
   "source": [
    "# 3x5 arrays of floats filled with ones using np.ones\n",
    "np.ones((3, 5), dtype=float)"
   ]
  },
  {
   "cell_type": "code",
   "execution_count": 7,
   "metadata": {},
   "outputs": [
    {
     "data": {
      "text/plain": [
       "array([[3.14, 3.14, 3.14, 3.14, 3.14, 3.14],\n",
       "       [3.14, 3.14, 3.14, 3.14, 3.14, 3.14],\n",
       "       [3.14, 3.14, 3.14, 3.14, 3.14, 3.14],\n",
       "       [3.14, 3.14, 3.14, 3.14, 3.14, 3.14]])"
      ]
     },
     "execution_count": 7,
     "metadata": {},
     "output_type": "execute_result"
    }
   ],
   "source": [
    "# create an array where you specify the value to fill using np.full\n",
    "np.full((4, 6), 3.14, dtype=float)"
   ]
  },
  {
   "cell_type": "code",
   "execution_count": 8,
   "metadata": {},
   "outputs": [
    {
     "data": {
      "text/plain": [
       "array([ 0,  2,  4,  6,  8, 10, 12, 14, 16, 18])"
      ]
     },
     "execution_count": 8,
     "metadata": {},
     "output_type": "execute_result"
    }
   ],
   "source": [
    "# create an array specifying a start, stop, and step using np.arange()\n",
    "# similar to the range() function\n",
    "# args are (start_val, stop_not_included, step)\n",
    "np.arange(0, 20, 2)"
   ]
  },
  {
   "cell_type": "code",
   "execution_count": 9,
   "metadata": {},
   "outputs": [
    {
     "data": {
      "text/plain": [
       "array([0.  , 0.25, 0.5 , 0.75, 1.  ])"
      ]
     },
     "execution_count": 9,
     "metadata": {},
     "output_type": "execute_result"
    }
   ],
   "source": [
    "# create an array from start to stop with evenly spaced steps between using np.linspace()\n",
    "# args are (first_val, last_val, num_of_vals)\n",
    "np.linspace(0, 1, 5)"
   ]
  },
  {
   "cell_type": "code",
   "execution_count": 10,
   "metadata": {},
   "outputs": [
    {
     "data": {
      "text/plain": [
       "array([[0.42612091, 0.05404904, 0.61917176],\n",
       "       [0.91756015, 0.40350819, 0.43864779],\n",
       "       [0.94485459, 0.72154563, 0.53934867],\n",
       "       [0.40858448, 0.85792318, 0.4036805 ]])"
      ]
     },
     "execution_count": 10,
     "metadata": {},
     "output_type": "execute_result"
    }
   ],
   "source": [
    "# create array of uniformly dist random values between 0-1 using np.random.random()\n",
    "# can set the \"seed\" using np.random.seed(value)\n",
    "np.random.random((4, 3))"
   ]
  },
  {
   "cell_type": "code",
   "execution_count": 11,
   "metadata": {},
   "outputs": [
    {
     "data": {
      "text/plain": [
       "array([[ 2.18861427,  0.36082674, -0.30132037],\n",
       "       [ 0.64900333, -1.93967227,  0.1892487 ],\n",
       "       [-1.51084923, -0.02018161, -1.62519225]])"
      ]
     },
     "execution_count": 11,
     "metadata": {},
     "output_type": "execute_result"
    }
   ],
   "source": [
    "# create array of normally dist random values mean of 0 and stdev of 1\n",
    "# can set the \"seed\" using np.random.seed(value)\n",
    "# args are (mu, sigma, shape_or_number_of_vals)\n",
    "# mu = mean, sigma = stdev\n",
    "np.random.normal(0, 1, (3, 3))"
   ]
  },
  {
   "cell_type": "code",
   "execution_count": 12,
   "metadata": {},
   "outputs": [
    {
     "data": {
      "text/plain": [
       "array([[6, 3, 3, 3, 3],\n",
       "       [3, 3, 6, 9, 7],\n",
       "       [9, 6, 9, 9, 9],\n",
       "       [5, 3, 4, 0, 3],\n",
       "       [8, 2, 4, 6, 4]])"
      ]
     },
     "execution_count": 12,
     "metadata": {},
     "output_type": "execute_result"
    }
   ],
   "source": [
    "# create array of random ints using np.random.randint()\n",
    "# can set the \"seed\" using np.random.seed(value)\n",
    "# args are (start, stop_not_included, shape_or_num_of_vals)\n",
    "np.random.randint(0, 10, (5, 5))"
   ]
  },
  {
   "cell_type": "code",
   "execution_count": 13,
   "metadata": {},
   "outputs": [
    {
     "data": {
      "text/plain": [
       "array([[1., 0., 0., 0.],\n",
       "       [0., 1., 0., 0.],\n",
       "       [0., 0., 1., 0.],\n",
       "       [0., 0., 0., 1.]])"
      ]
     },
     "execution_count": 13,
     "metadata": {},
     "output_type": "execute_result"
    }
   ],
   "source": [
    "# create identity matrix (1's on diagonal, all else 0's) using np.eye()\n",
    "# always a square matrix\n",
    "# dtype looks like float by default\n",
    "np.eye(4)"
   ]
  },
  {
   "cell_type": "code",
   "execution_count": null,
   "metadata": {},
   "outputs": [],
   "source": []
  }
 ],
 "metadata": {
  "kernelspec": {
   "display_name": "Python 3",
   "language": "python",
   "name": "python3"
  },
  "language_info": {
   "codemirror_mode": {
    "name": "ipython",
    "version": 3
   },
   "file_extension": ".py",
   "mimetype": "text/x-python",
   "name": "python",
   "nbconvert_exporter": "python",
   "pygments_lexer": "ipython3",
   "version": "3.7.3"
  }
 },
 "nbformat": 4,
 "nbformat_minor": 2
}
