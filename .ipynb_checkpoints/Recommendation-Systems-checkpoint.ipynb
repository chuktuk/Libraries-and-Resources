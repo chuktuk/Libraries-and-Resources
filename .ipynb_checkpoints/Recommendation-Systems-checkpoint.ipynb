{
 "cells": [
  {
   "cell_type": "markdown",
   "metadata": {},
   "source": [
    "# Recommendation Systems"
   ]
  },
  {
   "cell_type": "markdown",
   "metadata": {},
   "source": [
    "## Collaborative Filtering\n",
    "- Use info about who purchased what to build recommendations\n",
    "    - uses item info and user info\n",
    "    - built entirely from user ratings\n",
    "- User-based\n",
    "    - look at users with similar items to recommend more items\n",
    "- Item-based\n",
    "    - useful if the user base is much larger than the item base\n",
    "    - useful if item ratings are stable (good items/bad items)\n",
    "    - recommend items with high ratings\n",
    "- Cold start problem\n",
    "    - if you have no ratings, there is nothing for comparison\n",
    "    - solve by having new users rate items they have previously purchased"
   ]
  },
  {
   "cell_type": "markdown",
   "metadata": {},
   "source": [
    "## Content-Based Filtering\n",
    "- Use item descriptions to build categories of items for recommendations\n",
    "    - item features and similarities between items are used to create recommendations"
   ]
  },
  {
   "cell_type": "markdown",
   "metadata": {},
   "source": [
    "## Combination of Collaborative and Content-Based\n",
    "- Often preferred over one or the other"
   ]
  },
  {
   "cell_type": "markdown",
   "metadata": {},
   "source": [
    "## Singular Value Decomposition (SVD)\n",
    "- Used for the Netflix prize\n",
    "- Resource\n",
    "    - youtube: Leskovec, Rajaraman, Ullman\n",
    "- Basics\n",
    "    - any matrix (like products and users with values as ratings) can be represented by 3 matrices\n",
    "    - decompose original matrix with missing values (ratings)\n",
    "    - reconstruct the original matrix to fill in the missing values and predict ratings"
   ]
  },
  {
   "cell_type": "markdown",
   "metadata": {},
   "source": [
    "## Missing data strategies\n",
    "- Omitting samples\n",
    "- Using mean rating\n",
    "- Regression\n",
    "    - use a classifier to train on ratings and predict ratings for a new user\n",
    "    - k-NN is good because it looks at nearest neighbors (most similar points)\n",
    "    - **Calculating Similarity**\n",
    "        - pearson correlation coefficient\n",
    "            - when ignoring missing data (items) this overinflates similarities between users with few ratings\n",
    "            - can set thresholds to only use when users have n common ratings\n",
    "        - cosine similarity\n",
    "        - both measures generally provide the same similarity"
   ]
  }
 ],
 "metadata": {
  "kernelspec": {
   "display_name": "Python 3",
   "language": "python",
   "name": "python3"
  },
  "language_info": {
   "codemirror_mode": {
    "name": "ipython",
    "version": 3
   },
   "file_extension": ".py",
   "mimetype": "text/x-python",
   "name": "python",
   "nbconvert_exporter": "python",
   "pygments_lexer": "ipython3",
   "version": "3.7.3"
  }
 },
 "nbformat": 4,
 "nbformat_minor": 4
}
