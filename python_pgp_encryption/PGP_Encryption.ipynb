{
 "cells": [
  {
   "cell_type": "markdown",
   "metadata": {},
   "source": [
    "# PGP Encryption Implementation in Python"
   ]
  },
  {
   "cell_type": "markdown",
   "metadata": {},
   "source": [
    "- This implementation is performed on Windows 10\n",
    "- The `pgpy` module is built on top of *OpenPGP*\n",
    "- Must first `pip install PGPy`"
   ]
  },
  {
   "cell_type": "markdown",
   "metadata": {},
   "source": [
    "## Generating keys"
   ]
  },
  {
   "cell_type": "code",
   "execution_count": 1,
   "metadata": {},
   "outputs": [],
   "source": [
    "import pgpy\n",
    "from pgpy.constants import PubKeyAlgorithm, KeyFlags, HashAlgorithm, SymmetricKeyAlgorithm, CompressionAlgorithm"
   ]
  },
  {
   "cell_type": "code",
   "execution_count": 2,
   "metadata": {},
   "outputs": [
    {
     "name": "stdout",
     "output_type": "stream",
     "text": [
      "Help on method new in module pgpy.pgp:\n",
      "\n",
      "new(key_algorithm, key_size, created=None) method of abc.ABCMeta instance\n",
      "    Generate a new PGP key\n",
      "    \n",
      "    :param key_algorithm: Key algorithm to use.\n",
      "    :type key_algorithm: A :py:obj:`~constants.PubKeyAlgorithm`\n",
      "    :param key_size: Key size in bits, unless `key_algorithm` is :py:obj:`~constants.PubKeyAlgorithm.ECDSA` or\n",
      "           :py:obj:`~constants.PubKeyAlgorithm.ECDH`, in which case it should be the Curve OID to use.\n",
      "    :type key_size: ``int`` or :py:obj:`~constants.EllipticCurveOID`\n",
      "    \n",
      "    :param created: When was the key created? (None or unset means now)\n",
      "    :type created: :py:obj:`~datetime.datetime` or None\n",
      "    :return: A newly generated :py:obj:`PGPKey`\n",
      "\n"
     ]
    }
   ],
   "source": [
    "help(pgpy.PGPKey.new)"
   ]
  },
  {
   "cell_type": "code",
   "execution_count": 3,
   "metadata": {},
   "outputs": [],
   "source": [
    "# generate an RSA primary key\n",
    "# 4096 is the key size in bits \n",
    "# unless key_algorithm is PubKeyAlorithm.ECDSA or .ECDH, then it's the Curve OID\n",
    "key = pgpy.PGPKey.new(key_algorithm=PubKeyAlgorithm.RSAEncryptOrSign, key_size=4096)"
   ]
  },
  {
   "cell_type": "code",
   "execution_count": 4,
   "metadata": {},
   "outputs": [],
   "source": [
    "#help(key)"
   ]
  },
  {
   "cell_type": "markdown",
   "metadata": {},
   "source": [
    "- The new key is not usable without any user ID's\n",
    "- Must create and add user ID's to the key"
   ]
  },
  {
   "cell_type": "code",
   "execution_count": 5,
   "metadata": {},
   "outputs": [
    {
     "name": "stdout",
     "output_type": "stream",
     "text": [
      "Help on method new in module pgpy.pgp:\n",
      "\n",
      "new(pn, comment='', email='') method of builtins.type instance\n",
      "    Create a new User ID or photo.\n",
      "    \n",
      "    :param pn: User ID name, or photo. If this is a ``bytearray``, it will be loaded as a photo.\n",
      "               Otherwise, it will be used as the name field for a User ID.\n",
      "    :type pn: ``bytearray``, ``str``, ``unicode``\n",
      "    :param comment: The comment field for a User ID. Ignored if this is a photo.\n",
      "    :type comment: ``str``, ``unicode``\n",
      "    :param email: The email address field for a User ID. Ignored if this is a photo.\n",
      "    :type email: ``str``, ``unicode``\n",
      "    :returns: :py:obj:`PGPUID`\n",
      "\n"
     ]
    }
   ],
   "source": [
    "help(pgpy.PGPUID.new)"
   ]
  },
  {
   "cell_type": "code",
   "execution_count": 6,
   "metadata": {},
   "outputs": [],
   "source": [
    "# create a new user id for the key we created\n",
    "# pn is the username or a bytearray for an image\n",
    "# email is the email of the user, ignore if pn is an image\n",
    "uid = pgpy.PGPUID.new(pn='Chuck Tucker', comment='SC side username', email='chuck.tucker@santeecooper.com')"
   ]
  },
  {
   "cell_type": "markdown",
   "metadata": {},
   "source": [
    "- Must add the user ID(s) to the key\n",
    "- This is where preferences are set\n",
    "- Until we do this, there are no built-in key preferences"
   ]
  },
  {
   "cell_type": "code",
   "execution_count": 7,
   "metadata": {},
   "outputs": [
    {
     "name": "stdout",
     "output_type": "stream",
     "text": [
      "Help on method add_uid in module pgpy.pgp:\n",
      "\n",
      "add_uid(uid, selfsign=True, **prefs) method of pgpy.pgp.PGPKey instance\n",
      "    Add a User ID to this key.\n",
      "    \n",
      "    :param uid: The user id to add\n",
      "    :type uid: :py:obj:`~pgpy.PGPUID`\n",
      "    :param selfsign: Whether or not to self-sign the user id before adding it\n",
      "    :type selfsign: ``bool``\n",
      "    \n",
      "    Valid optional keyword arguments are identical to those of self-signatures for :py:meth:`PGPKey.certify`.\n",
      "    Any such keyword arguments are ignored if selfsign is ``False``\n",
      "\n"
     ]
    }
   ],
   "source": [
    "help(key.add_uid)"
   ]
  },
  {
   "cell_type": "code",
   "execution_count": 8,
   "metadata": {},
   "outputs": [],
   "source": [
    "# this is similar to GnuPG 2.1.x defaults, with no expieration or preferred keyserver\n",
    "# cand add an expiration argument using from datetime import timedelta\n",
    "# key_expires=timedelta(days=365) for a one year expiration\n",
    "key.add_uid(uid=uid, usage={KeyFlags.Sign, KeyFlags.EncryptCommunications, KeyFlags.EncryptStorage},\n",
    "           hashes=[HashAlgorithm.SHA256, HashAlgorithm.SHA384, HashAlgorithm.SHA512, HashAlgorithm.SHA224],\n",
    "           ciphers=[SymmetricKeyAlgorithm.AES256, SymmetricKeyAlgorithm.AES192, SymmetricKeyAlgorithm.AES128],\n",
    "           compression=[CompressionAlgorithm.ZLIB, CompressionAlgorithm.BZ2, CompressionAlgorithm.ZIP, CompressionAlgorithm.Uncompressed])"
   ]
  },
  {
   "cell_type": "code",
   "execution_count": 9,
   "metadata": {},
   "outputs": [
    {
     "data": {
      "text/plain": [
       "False"
      ]
     },
     "execution_count": 9,
     "metadata": {},
     "output_type": "execute_result"
    }
   ],
   "source": [
    "# checking some key parameters\n",
    "key.is_public"
   ]
  },
  {
   "cell_type": "code",
   "execution_count": 10,
   "metadata": {},
   "outputs": [
    {
     "data": {
      "text/plain": [
       "False"
      ]
     },
     "execution_count": 10,
     "metadata": {},
     "output_type": "execute_result"
    }
   ],
   "source": [
    "key.is_protected"
   ]
  },
  {
   "cell_type": "markdown",
   "metadata": {},
   "source": [
    "- It is usually recommended to password protect private keys"
   ]
  },
  {
   "cell_type": "code",
   "execution_count": 11,
   "metadata": {},
   "outputs": [],
   "source": [
    "# protecting a private key\n",
    "key.protect('P@ssw0rd', SymmetricKeyAlgorithm.AES256, HashAlgorithm.SHA256)"
   ]
  },
  {
   "cell_type": "code",
   "execution_count": 12,
   "metadata": {},
   "outputs": [
    {
     "data": {
      "text/plain": [
       "True"
      ]
     },
     "execution_count": 12,
     "metadata": {},
     "output_type": "execute_result"
    }
   ],
   "source": [
    "# key is now protected\n",
    "key.is_protected"
   ]
  },
  {
   "cell_type": "markdown",
   "metadata": {},
   "source": [
    "- Unlocking a key is required to use it\n",
    "- Always use the with block here\n",
    "- Key remains protected the entire time, it just becomes usable"
   ]
  },
  {
   "cell_type": "markdown",
   "metadata": {},
   "source": [
    "- To Encrypting a message\n",
    "    - Requires a public key, decryption is done with a private key\n",
    "    - Add the public key to the private key created earlier\n",
    "    - I tried to do this much later in this tutorial, and I got some errors\n",
    "        - It appears you can only run `with key.unlock()` once before throwing strange exceptions\n",
    "    - Be sure to add public keys by this point"
   ]
  },
  {
   "cell_type": "code",
   "execution_count": 13,
   "metadata": {},
   "outputs": [],
   "source": [
    "# add a public key for encryption as a subkey\n",
    "# you need to unlock a protected key to do this\n",
    "rsa_pub_key = key.pubkey"
   ]
  },
  {
   "cell_type": "code",
   "execution_count": null,
   "metadata": {},
   "outputs": [],
   "source": []
  },
  {
   "cell_type": "code",
   "execution_count": 14,
   "metadata": {},
   "outputs": [
    {
     "data": {
      "text/plain": [
       "True"
      ]
     },
     "execution_count": 14,
     "metadata": {},
     "output_type": "execute_result"
    }
   ],
   "source": [
    "rsa_pub_key.is_public"
   ]
  },
  {
   "cell_type": "code",
   "execution_count": 15,
   "metadata": {},
   "outputs": [
    {
     "data": {
      "text/plain": [
       "'-----BEGIN PGP PUBLIC KEY BLOCK-----\\n\\nxsFNBF7VTZoBEACmdYezYCk80281xiOBhpEWG1fqr2S8JMHNoUF/vI3YTrHl1gbO\\nFHYXnN3K+KeZxsJIp4WMBqvWwlv/0DggXBuZdFYKPZycEIPPAjMRTL61W8TLsbtr\\nMrjNf6MKABCGcxwIDqlBk90nvb1oxGnIZ0TV7bdtnADFsSfQUZWBoUQz02R9k2Ay\\nDNfBeI3nLNYn6/5vooAcvQbIW69uSpsMolSzBVCC8yq0pFwApbCsntTCXDGwkjq+\\nEP/QcxlEWbe9em5xlhdznldQq8WCkuHk6zqOyu4ny/Xgfnc5NpVfV3TMA0FeP+CX\\nlseo3moz1h6WVQB/3tW5tlFugeWXsiJrnCkDjOCJmjCXmC07W0bKllkYbcWMkC2x\\nrzGLE/69gBLSM63iKO0DK0iFs35KnPFyArMtH/Vc/d5/h8YTTkcLqI8YLopxfXK0\\n6IhK6Syd9RqiDithOSM9VfPpsvD0eP2MRxHYygn1/IqFuQWt56z4r6vbjXQZn+Vi\\np64uyxMl351GsDO+SxKJJUDnCm4C5qPsuqoatvXCPjD0NldaBYKcByp9jxHwAlEL\\nPDkgDf6aaNDF4NxGLlPff6P9Fdzg7Mft6ifJFrAc+BFXyi8SWQ1hwMvVVRi1MLgr\\npSpPJw36eF1jdggdGqXLZuzRIk1CJ0So+zeOSplGjnnm4qZoo6btAHVoRwARAQAB\\nzT9DaHVjayBUdWNrZXIgKFNDIHNpZGUgdXNlcm5hbWUpIDxjaHVjay50dWNrZXJA\\nc2FudGVlY29vcGVyLmNvbT7CwXMEEwEIAB0FAl7VTZsCGw4ECwkIBwUVCAkKCwUW\\nAgMBAAIeAQAKCRAv5ej1uuhpfhdjD/97+pulzChkUHglk2fSzccnkI3VWdKPsXRJ\\nuN/W2DYP8FpBbRJUhvDZKOtRZjQi4/hEQ63SJdyXjL3Z3o+n+jGvmvgjs3oJ1ee3\\nlCr2i1uVPqYEJZLzOqRGdA64/vHoSS3fKQil3sTfPq19ZHOrYUgxTOU4G3hkOPSH\\n9/7u7bf5VB/ojeb4DMlBzPHPySA4+XvlLCUMmKq2wAIZvPjE32FzrJQfXUcJv7RO\\nzuyCmqOL2wIk5meLwhkGA38LzbziXYF2DJNb5Ps1JvyioiezIatyCays+1yqmAiB\\njEKur89rBniek4GUIfJ7jHw3ng9tfdw/dulkCVfBjjc8kn3IHWGv4oev67uIBRz7\\n9hNY4bMziWHAi6wCTU/91NyxhdOuISj9KXHFD5JqVW5s4BYTgHNI7KbBGm0lDrSK\\nvdUVAxCqOqP9AyfHg0qbvs4bK4ltZet4WaCNRuR9PyZpEXftmWgW1X8BMx0utBaA\\nZ4arb0hvyuOR78jGn42WRUzV7gYtu13oArOfXQjaGov31O3hQTGNiJ1onOmmojWP\\nDHEEZp/DQ8Z8GTFNkCnNKOd7vL78og38G/ZAmABmzCgvlx0eGgUGdySxVDDhseYf\\nefclvA5iA9Qff17bgsgeBTj5VDzsMB9weRwgY86mavXN+AjWXhAa8+faJKsZGUXe\\n3Gd/z5/GMg==\\n=CO9Y\\n-----END PGP PUBLIC KEY BLOCK-----\\n'"
      ]
     },
     "execution_count": 15,
     "metadata": {},
     "output_type": "execute_result"
    }
   ],
   "source": [
    "str(rsa_pub_key)"
   ]
  },
  {
   "cell_type": "code",
   "execution_count": null,
   "metadata": {},
   "outputs": [],
   "source": []
  },
  {
   "cell_type": "code",
   "execution_count": 16,
   "metadata": {},
   "outputs": [],
   "source": [
    "# sign the key to be able to retrieve it\n",
    "# not necessary if using file to store the key\n",
    "\n",
    "# with key.unlock('P@ssw0rd'):\n",
    "#     key.sign('RMS')"
   ]
  },
  {
   "cell_type": "markdown",
   "metadata": {},
   "source": [
    "## Before loading into a keyring, you may need to add an identifier to the key to retrieve it\n",
    "- See the docs on `help(kr)` below"
   ]
  },
  {
   "cell_type": "markdown",
   "metadata": {},
   "source": [
    "- Loading keys into a keyring\n",
    "    - good if intending to maintain multiple keys in memory for extended periods"
   ]
  },
  {
   "cell_type": "code",
   "execution_count": 17,
   "metadata": {},
   "outputs": [],
   "source": [
    "# import os\n",
    "# from glob import glob"
   ]
  },
  {
   "cell_type": "code",
   "execution_count": 18,
   "metadata": {},
   "outputs": [],
   "source": [
    "# loading keys into a keyring\n",
    "# kr = pgpy.PGPKeyring(glob(os.path.expanduser('~/.gnupg/*ring.gpg')))"
   ]
  },
  {
   "cell_type": "code",
   "execution_count": null,
   "metadata": {},
   "outputs": [],
   "source": []
  },
  {
   "cell_type": "code",
   "execution_count": 19,
   "metadata": {},
   "outputs": [],
   "source": [
    "# load the key\n",
    "# kr.load(key)"
   ]
  },
  {
   "cell_type": "markdown",
   "metadata": {},
   "source": [
    "#### Retrieving a key from a keyring\n",
    "- Haven't been able to implement this\n",
    "- Will try from file"
   ]
  },
  {
   "cell_type": "code",
   "execution_count": 20,
   "metadata": {},
   "outputs": [],
   "source": [
    "# kr.fingerprints()"
   ]
  },
  {
   "cell_type": "code",
   "execution_count": 21,
   "metadata": {},
   "outputs": [],
   "source": [
    "# kr.key('93D1 578B C5FC B1F7 AEBC  F28F F099 8F1F 4D54 FFD3')"
   ]
  },
  {
   "cell_type": "code",
   "execution_count": null,
   "metadata": {},
   "outputs": [],
   "source": []
  },
  {
   "cell_type": "markdown",
   "metadata": {},
   "source": [
    "## Store key in a file"
   ]
  },
  {
   "cell_type": "code",
   "execution_count": 22,
   "metadata": {},
   "outputs": [],
   "source": [
    "# private key is ASCII armored\n",
    "# this key is also protected, so should be secure\n",
    "with open('pv_key_file.asc', 'w') as pv_key_file:\n",
    "    pv_key_file.write(str(key))"
   ]
  },
  {
   "cell_type": "markdown",
   "metadata": {},
   "source": [
    "## Load key from file"
   ]
  },
  {
   "cell_type": "code",
   "execution_count": 23,
   "metadata": {},
   "outputs": [],
   "source": [
    "key2, _ = pgpy.PGPKey.from_file('pv_key_file.asc')"
   ]
  },
  {
   "cell_type": "code",
   "execution_count": 24,
   "metadata": {},
   "outputs": [
    {
     "data": {
      "text/plain": [
       "False"
      ]
     },
     "execution_count": 24,
     "metadata": {},
     "output_type": "execute_result"
    }
   ],
   "source": [
    "key2.is_public"
   ]
  },
  {
   "cell_type": "code",
   "execution_count": 25,
   "metadata": {},
   "outputs": [
    {
     "data": {
      "text/plain": [
       "True"
      ]
     },
     "execution_count": 25,
     "metadata": {},
     "output_type": "execute_result"
    }
   ],
   "source": [
    "key2.is_protected"
   ]
  },
  {
   "cell_type": "code",
   "execution_count": 26,
   "metadata": {},
   "outputs": [],
   "source": [
    "# add the public key to the private key as a subkey\n",
    "# may not need to do this, since we can get the pubkey straight from the protected key\n",
    "# see above\n",
    "\n",
    "\n",
    "# with key.unlock('P@ssw0rd') as ukey:\n",
    "    \n",
    "#     # add the public key to allow encryption of messages\n",
    "#     ukey.add_subkey(rsa_pub_key, usage={KeyFlags.Authentication, KeyFlags.EncryptStorage, KeyFlags.EncryptCommunications})"
   ]
  },
  {
   "cell_type": "code",
   "execution_count": null,
   "metadata": {},
   "outputs": [],
   "source": []
  },
  {
   "cell_type": "markdown",
   "metadata": {},
   "source": [
    "- Exporting keys in OpenPGP compliant binary or ASCII-armored formats"
   ]
  },
  {
   "cell_type": "code",
   "execution_count": 27,
   "metadata": {},
   "outputs": [],
   "source": [
    "# binary\n",
    "keybytes = bytes(key)\n",
    "\n",
    "# ASCII armored\n",
    "keystr = str(key)"
   ]
  },
  {
   "cell_type": "code",
   "execution_count": 28,
   "metadata": {},
   "outputs": [
    {
     "data": {
      "text/plain": [
       "b'\\xc5\\xc6\\x86\\x04^\\xd5M\\x9a\\x01\\x10\\x00\\xa6u\\x87\\xb3`)<\\xd3o5\\xc6#\\x81\\x86\\x91\\x16\\x1bW\\xea\\xafd\\xbc$\\xc1\\xcd\\xa1A\\x7f\\xbc\\x8d\\xd8N\\xb1\\xe5\\xd6\\x06\\xce\\x14v\\x17\\x9c\\xdd\\xca\\xf8\\xa7\\x99\\xc6\\xc2H\\xa7\\x85\\x8c\\x06\\xab\\xd6\\xc2[\\xff\\xd08 \\\\\\x1b\\x99tV\\n=\\x9c\\x9c\\x10\\x83\\xcf\\x023\\x11L\\xbe\\xb5[\\xc4\\xcb\\xb1\\xbbk2\\xb8\\xcd\\x7f\\xa3\\n\\x00\\x10\\x86s\\x1c\\x08\\x0e\\xa9A\\x93\\xdd\\'\\xbd\\xbdh\\xc4i\\xc8gD\\xd5\\xed\\xb7m\\x9c\\x00\\xc5\\xb1\\'\\xd0Q\\x95\\x81\\xa1D3\\xd3d}\\x93`2\\x0c\\xd7\\xc1x\\x8d\\xe7,\\xd6\\'\\xeb\\xfeo\\xa2\\x80\\x1c\\xbd\\x06\\xc8[\\xafnJ\\x9b\\x0c\\xa2T\\xb3\\x05P\\x82\\xf3*\\xb4\\xa4\\\\\\x00\\xa5\\xb0\\xac\\x9e\\xd4\\xc2\\\\1\\xb0\\x92:\\xbe\\x10\\xff\\xd0s\\x19DY\\xb7\\xbdznq\\x96\\x17s\\x9eWP\\xab\\xc5\\x82\\x92\\xe1\\xe4\\xeb:\\x8e\\xca\\xee\\'\\xcb\\xf5\\xe0~w96\\x95_Wt\\xcc\\x03A^?\\xe0\\x97\\x96\\xc7\\xa8\\xdej3\\xd6\\x1e\\x96U\\x00\\x7f\\xde\\xd5\\xb9\\xb6Qn\\x81\\xe5\\x97\\xb2\"k\\x9c)\\x03\\x8c\\xe0\\x89\\x9a0\\x97\\x98-;[F\\xca\\x96Y\\x18m\\xc5\\x8c\\x90-\\xb1\\xaf1\\x8b\\x13\\xfe\\xbd\\x80\\x12\\xd23\\xad\\xe2(\\xed\\x03+H\\x85\\xb3~J\\x9c\\xf1r\\x02\\xb3-\\x1f\\xf5\\\\\\xfd\\xde\\x7f\\x87\\xc6\\x13NG\\x0b\\xa8\\x8f\\x18.\\x8aq}r\\xb4\\xe8\\x88J\\xe9,\\x9d\\xf5\\x1a\\xa2\\x0e+a9#=U\\xf3\\xe9\\xb2\\xf0\\xf4x\\xfd\\x8cG\\x11\\xd8\\xca\\t\\xf5\\xfc\\x8a\\x85\\xb9\\x05\\xad\\xe7\\xac\\xf8\\xaf\\xab\\xdb\\x8dt\\x19\\x9f\\xe5b\\xa7\\xae.\\xcb\\x13%\\xdf\\x9dF\\xb03\\xbeK\\x12\\x89%@\\xe7\\nn\\x02\\xe6\\xa3\\xec\\xba\\xaa\\x1a\\xb6\\xf5\\xc2>0\\xf46WZ\\x05\\x82\\x9c\\x07*}\\x8f\\x11\\xf0\\x02Q\\x0b<9 \\r\\xfe\\x9ah\\xd0\\xc5\\xe0\\xdcF.S\\xdf\\x7f\\xa3\\xfd\\x15\\xdc\\xe0\\xec\\xc7\\xed\\xea\\'\\xc9\\x16\\xb0\\x1c\\xf8\\x11W\\xca/\\x12Y\\ra\\xc0\\xcb\\xd5U\\x18\\xb50\\xb8+\\xa5*O\\'\\r\\xfax]cv\\x08\\x1d\\x1a\\xa5\\xcbf\\xec\\xd1\"MB\\'D\\xa8\\xfb7\\x8eJ\\x99F\\x8ey\\xe6\\xe2\\xa6h\\xa3\\xa6\\xed\\x00uhG\\x00\\x11\\x01\\x00\\x01\\xfe\\t\\x03\\x08\\x17\\x03\\x11\\xaa{\\x01\\xd7\\x98\\xe3\\x14]x\\xb2?\\x9e\\xb5te\\x82\\xadL\\x7f\\xd3Z\\x93A\\xa4B*,\\xb7\\xc1|\\x93\\xb6\\x15^t\\xb5Yc\\x1cq\\xb2a\\xd9\\n\\x11\\xf1\\xe3\\x84Ls,L\\n\\x03\\xf5B\\x16\\x05BM\\x15\\x92\\xd0\\x80W\\xd7\\x83\\xeb\\x9dd\\xf8|=\\x83\\xa3\\xa7\\xe2w\\xd9GU\\xd6\\xb7\\x80\\xe10Bc\\xcd\\x92\\x82\\x17\\xce1\\xac\\nL-1F;\\\\\\xad\\x14\\n\\xf56M>8l\\xd9\\xcc\\x81\\xc7\\xf6\\xd9\\x7f\\xe5{\\xb6{\\x8f\\xce\\t\\'\\xc7\\xbaW\\xdds\\x98J\"\\xae\\x8cp\\x1b\\x89\\xbf\\xf9\\xc9q\\xcb\\x8f\\xa9\\xf6\\xb9\\xa1\\xe7\\x82#Z\\xdb\\x83\\x1a\\xf8Q\\x188?l\\x02Y\\xb5T\\xd4\\x162}\\x80\\xcc\\xef\\x05\\xf4\\x18{wt\\x85\\x91\\x0cG*=V\\xea@p\\x0c\\xf4\\xb8\\xdfc\\xfb:v\\x8a\\xd6s\\x9b-W\\xdd\\x06BU\\x1d\\x94\\xa6(\\x8e.\\xfes\\xc2!\\xa2\\xcd1\\x8c\\xb2k\\xef$;V\\xc0EP\\n\\xc1\\xaf\\x1e\\x1fM\\x9e-VR\\xe6\\xca\\x9d\\xf6\\xb3\\xe36u\\xb3\\x8a\\x1d\\x7fV\\xe9\\xc8\\r\\xc1\\x8d\\r/\\xd1NP\\xb2^8\\x9blR{yF\\x93A\\xa5\\xa4\\n\\xaa\\xef\\x87m\\xe790\\xc9\\xd0\\xafk\\xb6\\xb6\\r\\xd2PU?\\x96\\xab\\xf6\\x1f\\x18\\x10n-g\\xad\\x01\\x8dh\\xa0A\\xcd\\xce\\xe4\\xec3\\xb3\\xaf\\x12\\xf3\\xc4bd\\xeb #\\x08\\xc2\\x18\\xf5O<\\x18\\x9a.\\x96j\\x15|\\x7f\\x15\\xe3\\xb1{\\xe4W\\xde\\\\ \\x1c\\xdc\\x94\\xe4qov\\x9do\\x81\\xc8\\xc9\\xef\\x85\\xcf- \\x15\\xed\\xddy\\x02\\xb8\\xacP\\x8d\\xf1\\xeb\\xd6\\xe6D\\xa9\\xad\\xd7\\xb4\\x0c\\xc1\\x9e\\x9dK\\xe0\\xa4f\\xe1\\xba\\xa3\\x04\\xd0\\xb5{]\\xafb \\xec\\xda\\xb3\\x88\\x85\\xbd\\xcf\\x11 \\xb1\\x17o\\xb8\\xc0DQT\\xees\\xe7f\\x1a\\xc2\\xeaR\\xfe&E\\r\\x1c\\x8ef\\x11\\x14r\\xfe\\xa3/\\xcd\\xd0\\x8c}\\x1dpo\\x92\\x86\\xff\\xee\\xdc\\xb3\\xf5I\\xd0\\x9bNNy\\xeaL\\x9e8C\\xc7\\xca\\x06d\\xc8\\x0c\\x07\\xb6S\\x0e\\xe4TH\\xc5\\x7fs\\xa3\\x9a\\xd1\\xce%\\xb0\\xfa\\x01\\xfc\\xd4P\\xb7\\xad\\x06!\\xb3\\xa3X\\x906B)O\\xaeH\\xb5r\\x00\\xbb\\x08\\xf2_`\\xb5\\x96+\\xba}1\\x8c}\\xd5\\x931\\xfe\\xc6;f\\xccm5\\x9a\\xd26t\\x9f\\xdf\\x1bJ\\x1d\\r\\xcdd\\xb1\\xdc\\x10n\\x9c/\\xcc5\\x15\\xe6\\xfdd&b\\xe6\\':j\\xaa\\xdb\\xce\\xefG\\x00\\xf7c\\x0e\\xcd\\x15\\xa9\\xfb\\xa9 \\xd9Z\\xd7\\x96>\\x03\\x9b\\x10\\xecV\\xf0\\x90\\xd4|\\xd8=w\\x85\\xb3d\\xa4\\xd0+T\\xd3\\xc5\\x8c\\xab\\xf0\\xbe\\xc6\\xe2\\xe4\\x82\\xd9_N9z\\x00`\\xcc\\xe1\\xb5b\\xb5#H/s\\x93\\xae\\xf8\\\\\\xf6\\xcb\\x89\\xc5f\\x1a\\xec\\x80\\x9e\\x8f\\xb9\\xd5\\xebo\\xd3\\xb8*U\\xbcw\\xe4o5\\x90\\x85cJNp\\xd0\\x08\\x95\\x9a]\\xd0\\xa8:N}\\xb2\\n\\x82\\xe4.+\\xcf\\x14\\xb4b\\x1e_P\\xdf\\x10\\x9bm\\\\fX8\\xb0\\xdc\\xcby\\xa5:\\xefl\\xcc<\\x118\\xda\\xb7\\x16XhH\\x9fE\\xefnm\\x86\\xc85\\x07\\x05\\xd2\\xb7\\x1e\\nm8\\xffC\\x7f\\x0cu5\\xaa\\x11\\xef\\xf3\\xd8\\x0c@e\\xf33\\xfd\\x12\\x94\\xb2M\\xa60{-\\xf8\\x12rU_k:U\\xd9:IPOp]\\xb7|&\\x04\\x9d{\\x97t\\xd0\\'/\\xedJ\\xd8\\x13w\\xe0\\x07[\\x80\\xceB\\\\\\x9d\\xe0\\xd0\\xe1mEq\\n6\\x8e$\\x9c\\x16\\x0cg\\x1d\\x97 \\x92Vo\\x8cg\\x90G\\xaf^\\x9c\\x1e-\\xc9\\xa0\\xed?S\\x99\\x0cY\\x12|\\x1e#h=\\x89\\x97\\xea\\xd59\\x90\\xac\\x01\\xcb\\xd2\\x16\\xd5;\\xfb4\\xd2\\'\\xe3\\x81\\xbf\\x9cu\\xd5u$\"\\x1e\\n\\xdf\\xdc\\x0e\\xd52\\xf5\\xa6\\x84\\x8csy\\xbe\\\\U\\xe9<\\x02b\\x13\\x80\\xc7m\\xa7v\\x0e\\xd4\\xb1XZ\\x99T\\xf8\\x0fF+\\x92\\x89\\x99\\xcaA\\x8aF.\\xd1a\\xb7\\xc5\\xd3\\xdb\\xf8IH\\xc4M?\\xa48\\xf0?\\xb3t\\xc5R\\xea\\xe9\\xe2\\x89\\x18\\xa4\\xfb&D\\xa6\\x0c\\xa2\\x94\\xc0\\xf0|\\xd8\\xf1!\\xa7\\\\Wf_\\x01d\\xfbpiBRV\\xf7\\xe1^\\x8d\\x12g`#Q\\xe8~\\xb6\\xadA\\xea\\x89wG|\\x9cdX\\xc8A\\xbew\\xcd9 +zZ\\x04\\x8f=\\xf3\\xa2\\xec\\xc5Mm_\\xb7\\xf1l\\xde.\\x18u\\x1c\\x1e\\xc1+\\x94\\x8a\\xd1\\x18\\x8b\\xa9\\x1d9$l\\x93D\\xc5\\xb3\\x8b\\xc4cwM,\\xd9\\x93\\xc6\\x98\\xb0/~\\xf1\\xf1\\xcd@a\\x7f\\xa1\\xc8\\xd7\\x85a%vB\\xafRq\\xecn\\xea\\xf7\\xf2l\\xbb\\x92\\n\\x035z\\x97\\xf6\\xb5\\xcd0\\x88K\\x10B\\x9ci^\\xa1\\xd0)\\x08ci\\xb7\\x9c\\xdc\\xf4\\x816\\xe2\\xc1\\x94$\\xce_\\xda\\xf3=\\xd9\\xd0/\\x17\\xa1\\xce_]p\\x81=\\xe8\\xdfH\\xf0\\xca>\\x9bT\\x83\\x16E+T\\xeb\\xf6D\\xdc\\xf6)y\\xf9U\\x17\\xb5z0\\xe4\\x9e)JN\\xddG\\\\\\x01Q\\xcfBT\\x03\\x05V+AJ\\x8a\\x1c\\x93\\x19@\\xa8\\x1f\\x0b\\xcb\\xa0a&^\\xd6\\x1e\\x93\\xe9\\xc8i*\\xc0J\\xe3mo\\x8f\\xff\\xc3b\\x9f\\x19c_c$wb\\xb4\\xab\\xa9h\\xd1$\\xf2\\xb4\\x13K\\x81\\xba\\x1b\\x06D\\x0e\\xea\\xda\\x87\\xe8\\x1eK\\x16\\x7f\\x01\\x08\\xdf\\x7f\\xe9];=s\\x9b\\xc4z\\x9esq\\x0c\\xd8]\\xd3\\xc8\\xcb\\x15X\\xe3>\\xc0X\\x88@8\\x8b\\xf7\\x1c\\x1c\\xdc\\xf4\\x0eE\\x85{\\xf3E\\x91L\\xca0|\\x86\\xb9\\xb5\\x0f \\x9f(\\xc5V\\xe0\\r\\x90\\xb0\\x14:\\xfaHt\\x98\\xd5\\xe4\\xba\\x07\\x18j\\xa9\\xf7+W\\x84\\x16\\xa3\\x08,fN\\xcb\\xf1\\x15\\xe2g\\xc78\\xe4\\x8a\\xd2r\\xf5\\xc7\\xbd\\x95\\xdf\\xd2G\\xe1\\x03\\x1f#9\\x9e\\xd2\\x96\\x01;2\\xba0@$\\xcd?Chuck Tucker (SC side username) <chuck.tucker@santeecooper.com>\\xc2\\xc1s\\x04\\x13\\x01\\x08\\x00\\x1d\\x05\\x02^\\xd5M\\x9b\\x02\\x1b\\x0e\\x04\\x0b\\t\\x08\\x07\\x05\\x15\\x08\\t\\n\\x0b\\x05\\x16\\x02\\x03\\x01\\x00\\x02\\x1e\\x01\\x00\\n\\t\\x10/\\xe5\\xe8\\xf5\\xba\\xe8i~\\x17c\\x0f\\xff{\\xfa\\x9b\\xa5\\xcc(dPx%\\x93g\\xd2\\xcd\\xc7\\'\\x90\\x8d\\xd5Y\\xd2\\x8f\\xb1tI\\xb8\\xdf\\xd6\\xd86\\x0f\\xf0ZAm\\x12T\\x86\\xf0\\xd9(\\xebQf4\"\\xe3\\xf8DC\\xad\\xd2%\\xdc\\x97\\x8c\\xbd\\xd9\\xde\\x8f\\xa7\\xfa1\\xaf\\x9a\\xf8#\\xb3z\\t\\xd5\\xe7\\xb7\\x94*\\xf6\\x8b[\\x95>\\xa6\\x04%\\x92\\xf3:\\xa4Ft\\x0e\\xb8\\xfe\\xf1\\xe8I-\\xdf)\\x08\\xa5\\xde\\xc4\\xdf>\\xad}ds\\xabaH1L\\xe58\\x1bxd8\\xf4\\x87\\xf7\\xfe\\xee\\xed\\xb7\\xf9T\\x1f\\xe8\\x8d\\xe6\\xf8\\x0c\\xc9A\\xcc\\xf1\\xcf\\xc9 8\\xf9{\\xe5,%\\x0c\\x98\\xaa\\xb6\\xc0\\x02\\x19\\xbc\\xf8\\xc4\\xdfas\\xac\\x94\\x1f]G\\t\\xbf\\xb4N\\xce\\xec\\x82\\x9a\\xa3\\x8b\\xdb\\x02$\\xe6g\\x8b\\xc2\\x19\\x06\\x03\\x7f\\x0b\\xcd\\xbc\\xe2]\\x81v\\x0c\\x93[\\xe4\\xfb5&\\xfc\\xa2\\xa2\\'\\xb3!\\xabr\\t\\xac\\xac\\xfb\\\\\\xaa\\x98\\x08\\x81\\x8cB\\xae\\xaf\\xcfk\\x06x\\x9e\\x93\\x81\\x94!\\xf2{\\x8c|7\\x9e\\x0fm}\\xdc?v\\xe9d\\tW\\xc1\\x8e7<\\x92}\\xc8\\x1da\\xaf\\xe2\\x87\\xaf\\xeb\\xbb\\x88\\x05\\x1c\\xfb\\xf6\\x13X\\xe1\\xb33\\x89a\\xc0\\x8b\\xac\\x02MO\\xfd\\xd4\\xdc\\xb1\\x85\\xd3\\xae!(\\xfd)q\\xc5\\x0f\\x92jUnl\\xe0\\x16\\x13\\x80sH\\xec\\xa6\\xc1\\x1am%\\x0e\\xb4\\x8a\\xbd\\xd5\\x15\\x03\\x10\\xaa:\\xa3\\xfd\\x03\\'\\xc7\\x83J\\x9b\\xbe\\xce\\x1b+\\x89me\\xebxY\\xa0\\x8dF\\xe4}?&i\\x11w\\xed\\x99h\\x16\\xd5\\x7f\\x013\\x1d.\\xb4\\x16\\x80g\\x86\\xaboHo\\xca\\xe3\\x91\\xef\\xc8\\xc6\\x9f\\x8d\\x96EL\\xd5\\xee\\x06-\\xbb]\\xe8\\x02\\xb3\\x9f]\\x08\\xda\\x1a\\x8b\\xf7\\xd4\\xed\\xe1A1\\x8d\\x88\\x9dh\\x9c\\xe9\\xa6\\xa25\\x8f\\x0cq\\x04f\\x9f\\xc3C\\xc6|\\x191M\\x90)\\xcd(\\xe7{\\xbc\\xbe\\xfc\\xa2\\r\\xfc\\x1b\\xf6@\\x98\\x00f\\xcc(/\\x97\\x1d\\x1e\\x1a\\x05\\x06w$\\xb1T0\\xe1\\xb1\\xe6\\x1fy\\xf7%\\xbc\\x0eb\\x03\\xd4\\x1f\\x7f^\\xdb\\x82\\xc8\\x1e\\x058\\xf9T<\\xec0\\x1fpy\\x1c c\\xce\\xa6j\\xf5\\xcd\\xf8\\x08\\xd6^\\x10\\x1a\\xf3\\xe7\\xda$\\xab\\x19\\x19E\\xde\\xdcg\\x7f\\xcf\\x9f\\xc62'"
      ]
     },
     "execution_count": 28,
     "metadata": {},
     "output_type": "execute_result"
    }
   ],
   "source": [
    "keybytes"
   ]
  },
  {
   "cell_type": "code",
   "execution_count": null,
   "metadata": {},
   "outputs": [],
   "source": [
    "# view the private key block\n",
    "# keystr"
   ]
  },
  {
   "cell_type": "code",
   "execution_count": null,
   "metadata": {},
   "outputs": [],
   "source": []
  },
  {
   "cell_type": "markdown",
   "metadata": {},
   "source": [
    "- Creating New Messages\n",
    "    - This is the total process for encryption\n",
    "    - Note: **messages are not encrypted and must be encrypted**"
   ]
  },
  {
   "cell_type": "code",
   "execution_count": 30,
   "metadata": {},
   "outputs": [],
   "source": [
    "# pack (read contents of) a file into a message\n",
    "# PGPMessage will store the basename of the file and the time it was last modified\n",
    "message = pgpy.PGPMessage.new('Sample_XML_Data/RMS_BATCH_CANDIDATE_EXPORT_CLIENT_SANTEECOOPER_Sample - Copy', file=True)"
   ]
  },
  {
   "cell_type": "code",
   "execution_count": 31,
   "metadata": {},
   "outputs": [
    {
     "data": {
      "text/plain": [
       "'-----BEGIN PGP MESSAGE-----\\n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\\nBjlJizyoX+El1hOu/T8=\\n=ixX+\\n-----END PGP MESSAGE-----\\n'"
      ]
     },
     "execution_count": 31,
     "metadata": {},
     "output_type": "execute_result"
    }
   ],
   "source": [
    "str(message)"
   ]
  },
  {
   "cell_type": "markdown",
   "metadata": {},
   "source": [
    "- To Encrypting a message\n",
    "    - Requires a public key, decryption is done with a private key\n",
    "    - Add the public key to the private key created earlier\n",
    "    - I tried to do this much later in this tutorial, and I got some errors\n",
    "        - It appears you can only run `with key.unlock()` once before throwing strange exceptions\n",
    "    - Be sure to add public keys by this point"
   ]
  },
  {
   "cell_type": "code",
   "execution_count": 32,
   "metadata": {},
   "outputs": [],
   "source": [
    "# you can get a public key from a private key by accessing the pubkey attribute\n",
    "rsa_pub_key = key.pubkey"
   ]
  },
  {
   "cell_type": "markdown",
   "metadata": {},
   "source": [
    "#### Write public key to file"
   ]
  },
  {
   "cell_type": "code",
   "execution_count": 33,
   "metadata": {},
   "outputs": [],
   "source": [
    "# can distribute this public key for encryption of data\n",
    "with open('pub_key_file.asc', 'w') as pub_key_file:\n",
    "    pub_key_file.write(str(rsa_pub_key))"
   ]
  },
  {
   "cell_type": "markdown",
   "metadata": {},
   "source": [
    "#### Load public key from file"
   ]
  },
  {
   "cell_type": "code",
   "execution_count": 34,
   "metadata": {},
   "outputs": [],
   "source": [
    "rsa_pub_key2, _ = pgpy.PGPKey.from_file('pub_key_file.asc')"
   ]
  },
  {
   "cell_type": "code",
   "execution_count": 35,
   "metadata": {},
   "outputs": [
    {
     "data": {
      "text/plain": [
       "True"
      ]
     },
     "execution_count": 35,
     "metadata": {},
     "output_type": "execute_result"
    }
   ],
   "source": [
    "rsa_pub_key2.is_public"
   ]
  },
  {
   "cell_type": "code",
   "execution_count": 36,
   "metadata": {},
   "outputs": [],
   "source": [
    "# this returns a new PGPMessage that contains an encrypted form of the original message\n",
    "# using the key created above\n",
    "\n",
    "encrypted_message = rsa_pub_key.encrypt(message)"
   ]
  },
  {
   "cell_type": "markdown",
   "metadata": {},
   "source": [
    "## NOTES:\n",
    "- May want to modify the 'w' write parameter below in an app"
   ]
  },
  {
   "cell_type": "code",
   "execution_count": 37,
   "metadata": {},
   "outputs": [],
   "source": [
    "# write the encrypted message to a file\n",
    "# could also write the bytes version to a file (bytes(file_message))\n",
    "\n",
    "\n",
    "out_file_path = 'Sample_XML_Data/encrypted_message.txt'\n",
    "with open(out_file_path, 'w') as output_file:\n",
    "    output_file.write(str(encrypted_message))"
   ]
  },
  {
   "cell_type": "markdown",
   "metadata": {},
   "source": [
    "- Loading existing messages\n",
    "    - a message from a file for example"
   ]
  },
  {
   "cell_type": "code",
   "execution_count": 38,
   "metadata": {},
   "outputs": [],
   "source": [
    "# read in the message from an encrypted file\n",
    "message_from_file = pgpy.PGPMessage.from_file('Sample_XML_Data/encrypted_message.txt')"
   ]
  },
  {
   "cell_type": "code",
   "execution_count": 39,
   "metadata": {},
   "outputs": [
    {
     "data": {
      "text/plain": [
       "'-----BEGIN PGP MESSAGE-----\\n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\\nTghcXeRHzzO6\\n=OXVH\\n-----END PGP MESSAGE-----\\n'"
      ]
     },
     "execution_count": 39,
     "metadata": {},
     "output_type": "execute_result"
    }
   ],
   "source": [
    "# view the encrypted information\n",
    "str(message_from_file)"
   ]
  },
  {
   "cell_type": "code",
   "execution_count": 40,
   "metadata": {},
   "outputs": [
    {
     "name": "stdout",
     "output_type": "stream",
     "text": [
      "Help on PGPMessage in module pgpy.pgp object:\n",
      "\n",
      "class PGPMessage(pgpy.types.Armorable, pgpy.types.PGPObject)\n",
      " |  Method resolution order:\n",
      " |      PGPMessage\n",
      " |      pgpy.types.Armorable\n",
      " |      pgpy.types.PGPObject\n",
      " |      builtins.object\n",
      " |  \n",
      " |  Methods defined here:\n",
      " |  \n",
      " |  __bytearray__(self)\n",
      " |      Returns the contents of concrete subclasses in a binary format that can be understood by other OpenPGP\n",
      " |      implementations\n",
      " |  \n",
      " |  __copy__(self)\n",
      " |  \n",
      " |  __init__(self)\n",
      " |      PGPMessage objects represent OpenPGP message compositions.\n",
      " |      \n",
      " |      PGPMessage implements the `__str__` method, the output of which will be the message composition in\n",
      " |      OpenPGP-compliant ASCII-armored format.\n",
      " |      \n",
      " |      PGPMessage implements the `__bytes__` method, the output of which will be the message composition in\n",
      " |      OpenPGP-compliant binary format.\n",
      " |      \n",
      " |      Any signatures within the PGPMessage that are marked as being non-exportable will not be included in the output\n",
      " |      of either of those methods.\n",
      " |  \n",
      " |  __iter__(self)\n",
      " |  \n",
      " |  __or__(self, other)\n",
      " |  \n",
      " |  __str__(self)\n",
      " |      Return str(self).\n",
      " |  \n",
      " |  decrypt(self, passphrase)\n",
      " |      Attempt to decrypt this message using a passphrase.\n",
      " |      \n",
      " |      :param passphrase: The passphrase to use to attempt to decrypt this message.\n",
      " |      :type passphrase: ``str``, ``unicode``, ``bytes``\n",
      " |      :raises: :py:exc:`~errors.PGPDecryptionError` if decryption failed for any reason.\n",
      " |      :returns: A new :py:obj:`PGPMessage` containing the decrypted contents of this message\n",
      " |  \n",
      " |  encrypt(self, passphrase, sessionkey=None, **prefs)\n",
      " |      Encrypt the contents of this message using a passphrase.\n",
      " |      :param passphrase: The passphrase to use for encrypting this message.\n",
      " |      :type passphrase: ``str``, ``unicode``, ``bytes``\n",
      " |      \n",
      " |      :optional param sessionkey: Provide a session key to use when encrypting something. Default is ``None``.\n",
      " |                                  If ``None``, a session key of the appropriate length will be generated randomly.\n",
      " |      \n",
      " |                                  .. warning::\n",
      " |      \n",
      " |                                      Care should be taken when making use of this option! Session keys *absolutely need*\n",
      " |                                      to be unpredictable! Use the ``gen_key()`` method on the desired\n",
      " |                                      :py:obj:`~constants.SymmetricKeyAlgorithm` to generate the session key!\n",
      " |      \n",
      " |      :type sessionkey: ``bytes``, ``str``\n",
      " |      :raises: :py:exc:`~errors.PGPEncryptionError`\n",
      " |      :returns: A new :py:obj:`PGPMessage` containing the encrypted contents of this message.\n",
      " |  \n",
      " |  parse(self, packet)\n",
      " |      this method is too abstract to understand\n",
      " |  \n",
      " |  ----------------------------------------------------------------------\n",
      " |  Class methods defined here:\n",
      " |  \n",
      " |  new(message, **kwargs) from abc.ABCMeta\n",
      " |      Create a new PGPMessage object.\n",
      " |      \n",
      " |      :param message: The message to be stored.\n",
      " |      :type message: ``str``, ``unicode``, ``bytes``, ``bytearray``\n",
      " |      :returns: :py:obj:`PGPMessage`\n",
      " |      \n",
      " |      The following optional keyword arguments can be used with :py:meth:`PGPMessage.new`:\n",
      " |      \n",
      " |      :keyword file: if True, ``message`` should be a path to a file. The contents of that file will be read and used\n",
      " |                     as the contents of the message.\n",
      " |      :type file: ``bool``\n",
      " |      :keyword cleartext: if True, the message will be cleartext with inline signatures.\n",
      " |      :type cleartext: ``bool``\n",
      " |      :keyword sensitive: if True, the filename will be set to '_CONSOLE' to signal other OpenPGP clients to treat\n",
      " |                          this message as being 'for your eyes only'. Ignored if cleartext is True.\n",
      " |      :type sensitive: ``bool``\n",
      " |      :keyword format: Set the message format identifier. Ignored if cleartext is True.\n",
      " |      :type format: ``str``\n",
      " |      :keyword compression: Set the compression algorithm for the new message.\n",
      " |                            Defaults to :py:obj:`CompressionAlgorithm.ZIP`. Ignored if cleartext is True.\n",
      " |      :keyword encoding: Set the Charset header for the message.\n",
      " |      :type encoding: ``str`` representing a valid codec in codecs\n",
      " |  \n",
      " |  ----------------------------------------------------------------------\n",
      " |  Static methods defined here:\n",
      " |  \n",
      " |  dash_escape(text)\n",
      " |  \n",
      " |  dash_unescape(text)\n",
      " |  \n",
      " |  ----------------------------------------------------------------------\n",
      " |  Data descriptors defined here:\n",
      " |  \n",
      " |  encrypters\n",
      " |      A ``set`` containing all key ids (if any) to which this message was encrypted.\n",
      " |  \n",
      " |  filename\n",
      " |      If applicable, returns the original filename of the message. Otherwise, returns an empty string.\n",
      " |  \n",
      " |  is_compressed\n",
      " |      ``True`` if this message will be compressed when exported\n",
      " |  \n",
      " |  is_encrypted\n",
      " |      ``True`` if this message is encrypted; otherwise, ``False``\n",
      " |  \n",
      " |  is_sensitive\n",
      " |      ``True`` if this message is marked sensitive; otherwise ``False``\n",
      " |  \n",
      " |  is_signed\n",
      " |      ``True`` if this message is signed; otherwise, ``False``.\n",
      " |      Should always be ``False`` if the message is encrypted.\n",
      " |  \n",
      " |  issuers\n",
      " |      A ``set`` containing all key ids (if any) which have signed or encrypted this message.\n",
      " |  \n",
      " |  magic\n",
      " |      The magic string identifier for the current PGP type\n",
      " |  \n",
      " |  message\n",
      " |      The message contents\n",
      " |  \n",
      " |  signatures\n",
      " |      A ``set`` containing all key ids (if any) which have signed this message.\n",
      " |  \n",
      " |  signers\n",
      " |      A ``set`` containing all key ids (if any) which have signed this message.\n",
      " |  \n",
      " |  type\n",
      " |  \n",
      " |  ----------------------------------------------------------------------\n",
      " |  Data and other attributes defined here:\n",
      " |  \n",
      " |  __abstractmethods__ = frozenset()\n",
      " |  \n",
      " |  ----------------------------------------------------------------------\n",
      " |  Class methods inherited from pgpy.types.Armorable:\n",
      " |  \n",
      " |  from_blob(blob) from abc.ABCMeta\n",
      " |  \n",
      " |  from_file(filename) from abc.ABCMeta\n",
      " |  \n",
      " |  ----------------------------------------------------------------------\n",
      " |  Static methods inherited from pgpy.types.Armorable:\n",
      " |  \n",
      " |  ascii_unarmor(text)\n",
      " |      Takes an ASCII-armored PGP block and returns the decoded byte value.\n",
      " |      \n",
      " |      :param text: An ASCII-armored PGP block, to un-armor.\n",
      " |      :raises: :py:exc:`ValueError` if ``text`` did not contain an ASCII-armored PGP block.\n",
      " |      :raises: :py:exc:`TypeError` if ``text`` is not a ``str``, ``bytes``, or ``bytearray``\n",
      " |      :returns: A ``dict`` containing information from ``text``, including the de-armored data.\n",
      " |      It can contain the following keys: ``magic``, ``headers``, ``hashes``, ``cleartext``, ``body``, ``crc``.\n",
      " |  \n",
      " |  crc24(data)\n",
      " |  \n",
      " |  is_armor(text)\n",
      " |      Whether the ``text`` provided is an ASCII-armored PGP block.\n",
      " |      :param text: A possible ASCII-armored PGP block.\n",
      " |      :raises: :py:exc:`TypeError` if ``text`` is not a ``str``, ``bytes``, or ``bytearray``\n",
      " |      :returns: Whether the text is ASCII-armored.\n",
      " |  \n",
      " |  is_ascii(text)\n",
      " |  \n",
      " |  ----------------------------------------------------------------------\n",
      " |  Data descriptors inherited from pgpy.types.Armorable:\n",
      " |  \n",
      " |  __dict__\n",
      " |      dictionary for instance variables (if defined)\n",
      " |  \n",
      " |  __weakref__\n",
      " |      list of weak references to the object (if defined)\n",
      " |  \n",
      " |  charset\n",
      " |  \n",
      " |  ----------------------------------------------------------------------\n",
      " |  Methods inherited from pgpy.types.PGPObject:\n",
      " |  \n",
      " |  __bytes__(self)\n",
      " |      Return the contents of concrete subclasses in a binary format that can be understood by other OpenPGP\n",
      " |      implementations\n",
      " |  \n",
      " |  ----------------------------------------------------------------------\n",
      " |  Static methods inherited from pgpy.types.PGPObject:\n",
      " |  \n",
      " |  bytes_to_int(b, order='big')\n",
      " |      convert bytes to integer\n",
      " |  \n",
      " |  bytes_to_text(text)\n",
      " |  \n",
      " |  int_byte_len(i)\n",
      " |  \n",
      " |  int_to_bytes(i, minlen=1, order='big')\n",
      " |      convert integer to bytes\n",
      " |  \n",
      " |  text_to_bytes(text)\n",
      "\n"
     ]
    }
   ],
   "source": [
    "help(message_from_file)"
   ]
  },
  {
   "cell_type": "code",
   "execution_count": 41,
   "metadata": {},
   "outputs": [
    {
     "data": {
      "text/plain": [
       "True"
      ]
     },
     "execution_count": 41,
     "metadata": {},
     "output_type": "execute_result"
    }
   ],
   "source": [
    "message_from_file.is_encrypted"
   ]
  },
  {
   "cell_type": "code",
   "execution_count": 42,
   "metadata": {},
   "outputs": [],
   "source": [
    "# decrypt the message\n",
    "# must unlock the key to decrypt\n",
    "with key.unlock('P@ssw0rd'):\n",
    "    decrypted_message = key.decrypt(message_from_file)"
   ]
  },
  {
   "cell_type": "code",
   "execution_count": 43,
   "metadata": {},
   "outputs": [
    {
     "data": {
      "text/plain": [
       "'-----BEGIN PGP MESSAGE-----\\n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\\nf/c//+p8/Ev9/wE=\\n=tIYV\\n-----END PGP MESSAGE-----\\n'"
      ]
     },
     "execution_count": 43,
     "metadata": {},
     "output_type": "execute_result"
    }
   ],
   "source": [
    "str(decrypted_message)"
   ]
  },
  {
   "cell_type": "code",
   "execution_count": 44,
   "metadata": {},
   "outputs": [
    {
     "name": "stdout",
     "output_type": "stream",
     "text": [
      "Help on PGPMessage in module pgpy.pgp object:\n",
      "\n",
      "class PGPMessage(pgpy.types.Armorable, pgpy.types.PGPObject)\n",
      " |  Method resolution order:\n",
      " |      PGPMessage\n",
      " |      pgpy.types.Armorable\n",
      " |      pgpy.types.PGPObject\n",
      " |      builtins.object\n",
      " |  \n",
      " |  Methods defined here:\n",
      " |  \n",
      " |  __bytearray__(self)\n",
      " |      Returns the contents of concrete subclasses in a binary format that can be understood by other OpenPGP\n",
      " |      implementations\n",
      " |  \n",
      " |  __copy__(self)\n",
      " |  \n",
      " |  __init__(self)\n",
      " |      PGPMessage objects represent OpenPGP message compositions.\n",
      " |      \n",
      " |      PGPMessage implements the `__str__` method, the output of which will be the message composition in\n",
      " |      OpenPGP-compliant ASCII-armored format.\n",
      " |      \n",
      " |      PGPMessage implements the `__bytes__` method, the output of which will be the message composition in\n",
      " |      OpenPGP-compliant binary format.\n",
      " |      \n",
      " |      Any signatures within the PGPMessage that are marked as being non-exportable will not be included in the output\n",
      " |      of either of those methods.\n",
      " |  \n",
      " |  __iter__(self)\n",
      " |  \n",
      " |  __or__(self, other)\n",
      " |  \n",
      " |  __str__(self)\n",
      " |      Return str(self).\n",
      " |  \n",
      " |  decrypt(self, passphrase)\n",
      " |      Attempt to decrypt this message using a passphrase.\n",
      " |      \n",
      " |      :param passphrase: The passphrase to use to attempt to decrypt this message.\n",
      " |      :type passphrase: ``str``, ``unicode``, ``bytes``\n",
      " |      :raises: :py:exc:`~errors.PGPDecryptionError` if decryption failed for any reason.\n",
      " |      :returns: A new :py:obj:`PGPMessage` containing the decrypted contents of this message\n",
      " |  \n",
      " |  encrypt(self, passphrase, sessionkey=None, **prefs)\n",
      " |      Encrypt the contents of this message using a passphrase.\n",
      " |      :param passphrase: The passphrase to use for encrypting this message.\n",
      " |      :type passphrase: ``str``, ``unicode``, ``bytes``\n",
      " |      \n",
      " |      :optional param sessionkey: Provide a session key to use when encrypting something. Default is ``None``.\n",
      " |                                  If ``None``, a session key of the appropriate length will be generated randomly.\n",
      " |      \n",
      " |                                  .. warning::\n",
      " |      \n",
      " |                                      Care should be taken when making use of this option! Session keys *absolutely need*\n",
      " |                                      to be unpredictable! Use the ``gen_key()`` method on the desired\n",
      " |                                      :py:obj:`~constants.SymmetricKeyAlgorithm` to generate the session key!\n",
      " |      \n",
      " |      :type sessionkey: ``bytes``, ``str``\n",
      " |      :raises: :py:exc:`~errors.PGPEncryptionError`\n",
      " |      :returns: A new :py:obj:`PGPMessage` containing the encrypted contents of this message.\n",
      " |  \n",
      " |  parse(self, packet)\n",
      " |      this method is too abstract to understand\n",
      " |  \n",
      " |  ----------------------------------------------------------------------\n",
      " |  Class methods defined here:\n",
      " |  \n",
      " |  new(message, **kwargs) from abc.ABCMeta\n",
      " |      Create a new PGPMessage object.\n",
      " |      \n",
      " |      :param message: The message to be stored.\n",
      " |      :type message: ``str``, ``unicode``, ``bytes``, ``bytearray``\n",
      " |      :returns: :py:obj:`PGPMessage`\n",
      " |      \n",
      " |      The following optional keyword arguments can be used with :py:meth:`PGPMessage.new`:\n",
      " |      \n",
      " |      :keyword file: if True, ``message`` should be a path to a file. The contents of that file will be read and used\n",
      " |                     as the contents of the message.\n",
      " |      :type file: ``bool``\n",
      " |      :keyword cleartext: if True, the message will be cleartext with inline signatures.\n",
      " |      :type cleartext: ``bool``\n",
      " |      :keyword sensitive: if True, the filename will be set to '_CONSOLE' to signal other OpenPGP clients to treat\n",
      " |                          this message as being 'for your eyes only'. Ignored if cleartext is True.\n",
      " |      :type sensitive: ``bool``\n",
      " |      :keyword format: Set the message format identifier. Ignored if cleartext is True.\n",
      " |      :type format: ``str``\n",
      " |      :keyword compression: Set the compression algorithm for the new message.\n",
      " |                            Defaults to :py:obj:`CompressionAlgorithm.ZIP`. Ignored if cleartext is True.\n",
      " |      :keyword encoding: Set the Charset header for the message.\n",
      " |      :type encoding: ``str`` representing a valid codec in codecs\n",
      " |  \n",
      " |  ----------------------------------------------------------------------\n",
      " |  Static methods defined here:\n",
      " |  \n",
      " |  dash_escape(text)\n",
      " |  \n",
      " |  dash_unescape(text)\n",
      " |  \n",
      " |  ----------------------------------------------------------------------\n",
      " |  Data descriptors defined here:\n",
      " |  \n",
      " |  encrypters\n",
      " |      A ``set`` containing all key ids (if any) to which this message was encrypted.\n",
      " |  \n",
      " |  filename\n",
      " |      If applicable, returns the original filename of the message. Otherwise, returns an empty string.\n",
      " |  \n",
      " |  is_compressed\n",
      " |      ``True`` if this message will be compressed when exported\n",
      " |  \n",
      " |  is_encrypted\n",
      " |      ``True`` if this message is encrypted; otherwise, ``False``\n",
      " |  \n",
      " |  is_sensitive\n",
      " |      ``True`` if this message is marked sensitive; otherwise ``False``\n",
      " |  \n",
      " |  is_signed\n",
      " |      ``True`` if this message is signed; otherwise, ``False``.\n",
      " |      Should always be ``False`` if the message is encrypted.\n",
      " |  \n",
      " |  issuers\n",
      " |      A ``set`` containing all key ids (if any) which have signed or encrypted this message.\n",
      " |  \n",
      " |  magic\n",
      " |      The magic string identifier for the current PGP type\n",
      " |  \n",
      " |  message\n",
      " |      The message contents\n",
      " |  \n",
      " |  signatures\n",
      " |      A ``set`` containing all key ids (if any) which have signed this message.\n",
      " |  \n",
      " |  signers\n",
      " |      A ``set`` containing all key ids (if any) which have signed this message.\n",
      " |  \n",
      " |  type\n",
      " |  \n",
      " |  ----------------------------------------------------------------------\n",
      " |  Data and other attributes defined here:\n",
      " |  \n",
      " |  __abstractmethods__ = frozenset()\n",
      " |  \n",
      " |  ----------------------------------------------------------------------\n",
      " |  Class methods inherited from pgpy.types.Armorable:\n",
      " |  \n",
      " |  from_blob(blob) from abc.ABCMeta\n",
      " |  \n",
      " |  from_file(filename) from abc.ABCMeta\n",
      " |  \n",
      " |  ----------------------------------------------------------------------\n",
      " |  Static methods inherited from pgpy.types.Armorable:\n",
      " |  \n",
      " |  ascii_unarmor(text)\n",
      " |      Takes an ASCII-armored PGP block and returns the decoded byte value.\n",
      " |      \n",
      " |      :param text: An ASCII-armored PGP block, to un-armor.\n",
      " |      :raises: :py:exc:`ValueError` if ``text`` did not contain an ASCII-armored PGP block.\n",
      " |      :raises: :py:exc:`TypeError` if ``text`` is not a ``str``, ``bytes``, or ``bytearray``\n",
      " |      :returns: A ``dict`` containing information from ``text``, including the de-armored data.\n",
      " |      It can contain the following keys: ``magic``, ``headers``, ``hashes``, ``cleartext``, ``body``, ``crc``.\n",
      " |  \n",
      " |  crc24(data)\n",
      " |  \n",
      " |  is_armor(text)\n",
      " |      Whether the ``text`` provided is an ASCII-armored PGP block.\n",
      " |      :param text: A possible ASCII-armored PGP block.\n",
      " |      :raises: :py:exc:`TypeError` if ``text`` is not a ``str``, ``bytes``, or ``bytearray``\n",
      " |      :returns: Whether the text is ASCII-armored.\n",
      " |  \n",
      " |  is_ascii(text)\n",
      " |  \n",
      " |  ----------------------------------------------------------------------\n",
      " |  Data descriptors inherited from pgpy.types.Armorable:\n",
      " |  \n",
      " |  __dict__\n",
      " |      dictionary for instance variables (if defined)\n",
      " |  \n",
      " |  __weakref__\n",
      " |      list of weak references to the object (if defined)\n",
      " |  \n",
      " |  charset\n",
      " |  \n",
      " |  ----------------------------------------------------------------------\n",
      " |  Methods inherited from pgpy.types.PGPObject:\n",
      " |  \n",
      " |  __bytes__(self)\n",
      " |      Return the contents of concrete subclasses in a binary format that can be understood by other OpenPGP\n",
      " |      implementations\n",
      " |  \n",
      " |  ----------------------------------------------------------------------\n",
      " |  Static methods inherited from pgpy.types.PGPObject:\n",
      " |  \n",
      " |  bytes_to_int(b, order='big')\n",
      " |      convert bytes to integer\n",
      " |  \n",
      " |  bytes_to_text(text)\n",
      " |  \n",
      " |  int_byte_len(i)\n",
      " |  \n",
      " |  int_to_bytes(i, minlen=1, order='big')\n",
      " |      convert integer to bytes\n",
      " |  \n",
      " |  text_to_bytes(text)\n",
      "\n"
     ]
    }
   ],
   "source": [
    "help(decrypted_message)"
   ]
  },
  {
   "cell_type": "code",
   "execution_count": 45,
   "metadata": {},
   "outputs": [
    {
     "data": {
      "text/plain": [
       "bytearray"
      ]
     },
     "execution_count": 45,
     "metadata": {},
     "output_type": "execute_result"
    }
   ],
   "source": [
    "type(decrypted_message.message)"
   ]
  },
  {
   "cell_type": "code",
   "execution_count": 46,
   "metadata": {},
   "outputs": [],
   "source": [
    "contents = decrypted_message.message.decode()"
   ]
  },
  {
   "cell_type": "code",
   "execution_count": 47,
   "metadata": {},
   "outputs": [],
   "source": [
    "# remove hard returns that were added in this case\n",
    "contents = contents.replace('\\r', '')"
   ]
  },
  {
   "cell_type": "code",
   "execution_count": 48,
   "metadata": {},
   "outputs": [],
   "source": [
    "# write the decrypted contents to a file\n",
    "# could also write the bytes version to a file (bytes(file_message))\n",
    "\n",
    "\n",
    "final_file_path = 'Sample_XML_Data/decrypted_data'\n",
    "with open(final_file_path, 'w') as output_file:\n",
    "    output_file.write(contents)"
   ]
  },
  {
   "cell_type": "code",
   "execution_count": null,
   "metadata": {},
   "outputs": [],
   "source": []
  },
  {
   "cell_type": "code",
   "execution_count": 50,
   "metadata": {},
   "outputs": [
    {
     "data": {
      "text/plain": [
       "True"
      ]
     },
     "execution_count": 50,
     "metadata": {},
     "output_type": "execute_result"
    }
   ],
   "source": [
    "# miscellaneous\n",
    "type(key) == pgpy.pgp.PGPKey"
   ]
  },
  {
   "cell_type": "code",
   "execution_count": null,
   "metadata": {},
   "outputs": [],
   "source": []
  },
  {
   "cell_type": "code",
   "execution_count": null,
   "metadata": {},
   "outputs": [],
   "source": []
  }
 ],
 "metadata": {
  "kernelspec": {
   "display_name": "Python 3",
   "language": "python",
   "name": "python3"
  },
  "language_info": {
   "codemirror_mode": {
    "name": "ipython",
    "version": 3
   },
   "file_extension": ".py",
   "mimetype": "text/x-python",
   "name": "python",
   "nbconvert_exporter": "python",
   "pygments_lexer": "ipython3",
   "version": "3.7.7"
  }
 },
 "nbformat": 4,
 "nbformat_minor": 4
}
