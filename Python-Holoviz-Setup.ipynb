{
 "cells": [
  {
   "cell_type": "markdown",
   "metadata": {},
   "source": [
    "# Holoviz Suite Setup\n",
    "- Holoviz Suite Includes\n",
    "    - Panel\n",
    "    - HvPlot\n",
    "    - HoloViews\n",
    "    - GeoViews\n",
    "    - Datashader\n",
    "    - Param\n",
    "    - Colorcet"
   ]
  },
  {
   "cell_type": "markdown",
   "metadata": {},
   "source": [
    "## New Environment Setup Instructions"
   ]
  },
  {
   "cell_type": "markdown",
   "metadata": {},
   "source": [
    "```python\n",
    "# create a new python 3.7 environment\n",
    "# naming this one holoviz, but pick your name and python version\n",
    "conda create -n holoviz python=3.7\n",
    "\n",
    "# install holoviz packages\n",
    "conda install -c pyviz holoviz\n",
    "\n",
    "# if including plotly in this environment, follow the Python-Plotly install instructions\n",
    "\n",
    "# additional support if not following the plotly installations\n",
    "conda install jupyterlab \"ipywidgets=7.5\"\n",
    "\n",
    "# I recommend installing jupyterlab manager and nodejs\n",
    "conda install -c conda-forge nodejs\n",
    "\n",
    "# may need to run\n",
    "conda update --all\n",
    "\n",
    "# jupyterlab manager and extras\n",
    "jupyter labextension install @jupyter-widgets/jupyterlab-manager\n",
    "pip install nbserverproxy\n",
    "jupyter serverextension enable --py nbserverproxy\n",
    "jupyter labextension install @pyviz/jupyterlab_pyviz\n",
    "\n",
    "# finally, may need to build jupyter lab to incorporate these changes\n",
    "jupyter lab build\n",
    "\n",
    "# you can install holoviz examples by running the following command\n",
    "# run this in the dir where you want the examples installed\n",
    "holoviz examples\n",
    "```"
   ]
  },
  {
   "cell_type": "code",
   "execution_count": null,
   "metadata": {},
   "outputs": [],
   "source": []
  }
 ],
 "metadata": {
  "kernelspec": {
   "display_name": "Python 3",
   "language": "python",
   "name": "python3"
  },
  "language_info": {
   "codemirror_mode": {
    "name": "ipython",
    "version": 3
   },
   "file_extension": ".py",
   "mimetype": "text/x-python",
   "name": "python",
   "nbconvert_exporter": "python",
   "pygments_lexer": "ipython3",
   "version": "3.7.7"
  },
  "widgets": {
   "application/vnd.jupyter.widget-state+json": {
    "state": {},
    "version_major": 2,
    "version_minor": 0
   }
  }
 },
 "nbformat": 4,
 "nbformat_minor": 4
}
