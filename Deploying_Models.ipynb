{
 "cells": [
  {
   "cell_type": "markdown",
   "metadata": {},
   "source": [
    "# Deploying Models Into Production\n",
    "[YouTube Video](https://www.youtube.com/watch?v=f3I0izerPvc)"
   ]
  },
  {
   "cell_type": "markdown",
   "metadata": {},
   "source": [
    "## GitLab\n",
    "- What it does\n",
    "    - unifies issues\n",
    "    - code review\n",
    "    - continuous integration (CI) and continuous deployment (CD) into a single UI\n",
    "        - CD/CI new-ish to GitLab, can accomplish with Jenkins\n",
    "        - CI - packaging with all dependencies and preparing for\n",
    "        - CD - continuous deployment\n",
    "- Use\n",
    "    - create separate repos for each model\n",
    "    - create branches for each edit/update or work\n",
    "    - merge branches into master when complete\n",
    "    - merging to master results in auto-deployment"
   ]
  },
  {
   "cell_type": "markdown",
   "metadata": {},
   "source": [
    "## Jenkins\n",
    "- What it is\n",
    "    - leading open source automation server\n",
    "    - plugins for building, automating, and deploying projects\n",
    "- What it does\n",
    "    - pipelines as code (Jenkinsfile) to describe CI process\n",
    "        - Jenkinsfile contains stages to execute\n",
    "- Use\n",
    "    - create a separate pipeline for each model/environment\n",
    "    - monitors master branch for changes\n",
    "    - runs a Jenkinsfile specific to each environment\n",
    "        - checkout code\n",
    "        - create docker container\n",
    "        - publish to docker registry\n",
    "        - extrats unit-test coverage\n",
    "    - can monitor how long each 'stage' of the Jenkinsfile takes\n",
    "        - git checkout\n",
    "        - docker prepare\n",
    "        - docker build, etc."
   ]
  },
  {
   "cell_type": "markdown",
   "metadata": {},
   "source": [
    "## Docker\n",
    "- What it is\n",
    "    - packaging (wrapper) for application/model\n",
    "    - runs everywhere (any system)\n",
    "    - no dependency issues (all dependencies included)\n",
    "    - lightweight app compared to VM's\n",
    "- Use\n",
    "    - docker file for each model\n",
    "    - run unit-tests to ensure no broken container\n",
    "    - install miniconda\n",
    "    - install dependencies\n",
    "    - run unit/coverage tests\n",
    "    - can only add layers, so cleanup/removal must occur in the same layer the stuff is added"
   ]
  },
  {
   "cell_type": "markdown",
   "metadata": {},
   "source": [
    "## Kubernetes\n",
    "- What it is\n",
    "    - open source system for automating deployment, scaling, and management of containerized apps\n",
    "    - allows running of containers on across multiple machines while in use\n",
    "        - Kubernetes manages the running of the containers and distributes the load\n",
    "- Use\n",
    "    - separate deployment file per model\n",
    "    - defines number of cpu's, memory, etc. a model can allocate/use\n",
    "    - monitors its health (liveliness, readiness)"
   ]
  },
  {
   "cell_type": "markdown",
   "metadata": {},
   "source": [
    "## Heapster\n",
    "- What it does\n",
    "    - monitors containers\n",
    "    - ELK for collecting logs\n",
    "        - filebeat/logstash transferring logs to Elastic Search\n",
    "        - Kibana to create dashboards and debug"
   ]
  },
  {
   "cell_type": "markdown",
   "metadata": {},
   "source": [
    "## Implementation\n",
    "- Custom Flask app which exposes DS model using REST API calls"
   ]
  },
  {
   "cell_type": "markdown",
   "metadata": {},
   "source": [
    "## Workflow\n",
    "- First Time\n",
    "    - create and fit model\n",
    "    - write wrapper to fit model in library (dataframe in/dataframe out)\n",
    "    - create requirements.txt file\n",
    "    - run wizard to generate templates (Jenkins/docker/kubernetes)\n",
    "    - push to GitLab\n",
    "- Second Time\n",
    "    - merge changes to master branch\n",
    "    - wait\n",
    "- Production Testing (to test model/containers stability, etc.)\n",
    "    - Dev\n",
    "    - Test\n",
    "    - Accept\n",
    "    - Production"
   ]
  }
 ],
 "metadata": {
  "kernelspec": {
   "display_name": "Python 3",
   "language": "python",
   "name": "python3"
  },
  "language_info": {
   "codemirror_mode": {
    "name": "ipython",
    "version": 3
   },
   "file_extension": ".py",
   "mimetype": "text/x-python",
   "name": "python",
   "nbconvert_exporter": "python",
   "pygments_lexer": "ipython3",
   "version": "3.7.3"
  }
 },
 "nbformat": 4,
 "nbformat_minor": 4
}
