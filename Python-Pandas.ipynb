{
 "cells": [
  {
   "cell_type": "markdown",
   "metadata": {},
   "source": [
    "# Pandas Library"
   ]
  },
  {
   "cell_type": "code",
   "execution_count": 3,
   "metadata": {},
   "outputs": [],
   "source": [
    "# import pandas as pd\n",
    "import pandas as pd\n",
    "\n",
    "# import numpy as np\n",
    "import numpy as np\n",
    "\n",
    "# import create_engine from sqlalchemy\n",
    "from sqlalchemy import create_engine\n",
    "\n",
    "# import web scraping functions\n",
    "from urllib.request import urlretrieve, urlopen, Request"
   ]
  },
  {
   "cell_type": "markdown",
   "metadata": {},
   "source": [
    "## General Info and Commands\n",
    "#### Basic Commands\n",
    "- These commands assume a dataframe name of `df`\n",
    "- Print the 'head' or first 5 rows\n",
    "    - `print(df.head())` use the '.head()' method of a dataframe\n",
    "    - works without the `print()` call\n",
    "- Print the 'tail' or last 5 rows\n",
    "    - `print(df.tail())`\n",
    "    - works without the `print()` call\n",
    "- Access the 'keys' of a dataframe\n",
    "    - `df.keys()`\n",
    "- Combining indexing with other methods\n",
    "    - you have a dataframe that each key is associated with a dataframe (a dataframe of dataframes)\n",
    "    - `print(df['key1'].head())` will print the head of the dataframe associate with 'key1'"
   ]
  },
  {
   "cell_type": "markdown",
   "metadata": {},
   "source": [
    "## Creating and Converting DataFrames\n",
    "\n",
    "#### Creating a Dataframe\n",
    "- From a python dictionary as `dict`\n",
    "    - `df = pd.dataframe(dict)`\n",
    "        - keys become column names, values remain values\n",
    "        - row labels are auto generated, 0 indexed\n",
    "- From a CSV file\n",
    "    - `df = pd.read_csv('path/to/file.csv')`\n",
    "        - can set `index_col=0` if you don't want pandas to auto generate row numbers in an unnamed column\n",
    "    - Formatting CSV for input\n",
    "        - good practice to use unnamed col with row keys\n",
    "        - can let pandas generate this, or set up CSV file with no col name and row keys in first col\n",
    "\n",
    "#### Changing row labels\n",
    "- create a list as `l` with length equal to the number of rows\n",
    "    - `df.index = l`\n",
    "\n",
    "#### Convert Dataframe to Numpy Array\n",
    "- `array = dataframe.values`\n",
    "    - these \"values\" must all be the same type"
   ]
  },
  {
   "cell_type": "markdown",
   "metadata": {},
   "source": [
    "## Selecting Elements in a Dataframe\n",
    "#### Select rows or columns, dataframe as `df`\n",
    "- Select entire column(s) using col names\n",
    "    - `df['column_name']`\n",
    "        - returns a pandas series object, with extra info in it (not a dataframe)\n",
    "    - `df[['column_name']]`\n",
    "        - returns a dataframe object\n",
    "        - can supply multiple column names in the supplied list\n",
    "- Selecting row(s) with slicing\n",
    "    - `df[start:end]`\n",
    "        - specify the index for *start* and *end*\n",
    "        - works like slicing a list\n",
    "        - returns the *start* index and stops at index before the *end* index\n",
    "        - leave *start* empty to start at the beginning\n",
    "        - leave *end* empty to slice until the end\n",
    "- loc\n",
    "    - `df.loc['row_label']`\n",
    "        - returns a pandas series object\n",
    "    - `df.loc[['row_label']]`\n",
    "        - returns a pandas dataframe object\n",
    "        - can include multiple row labels in the list\n",
    "    - `df.loc[['row_label'], ['column_label']]`\n",
    "        - can supply a second list containing column labels to select\n",
    "    - `df.loc[:, ['column_label']]`\n",
    "        - selects all rows and the columns you specify in the second list\n",
    "- iloc\n",
    "    - same as loc, except you supply indexes rather than names\n",
    "    - `df.iloc[[1]]`\n",
    "        - select the 2nd row as a dataframe\n",
    "    - `df.iloc[[0, 1, 2], [0, 2]]`\n",
    "        - select the first 3 rows and the first/third column as dataframe\n",
    "    - `df.iloc[:, [4, 5]]`\n",
    "        - all rows in the 5th/6th columns\n",
    "\n",
    "#### Boolean Indexing\n",
    "- Combine conditionals with indexing\n",
    "- Return a series object full of booleans\n",
    "    - `df['column_name']conditional`   # conditional something like `< value`\n",
    "        - can supply whatever conditional you choose\n",
    "- Can use the series object as the index to return a dataframe that only selects 'True' values\n",
    "    - Use directly as the index\n",
    "        - `df[df['column_name'] < value]`\n",
    "    - Store in a variable first\n",
    "        - `bool_index = df['column_name'] = value`  # returns a series object\n",
    "        - `df_new = df[bool_index]` # returns a dataframe\n",
    "- Logical operators\n",
    "    - Use numpy logical and/logical or\n",
    "    - `bool_index = np.logical_and(df['column_name'] > 8, df['column_name'] < 20)`  # returns a series object\n",
    "    - `df_new = df[bool_index]`  # returns a dataframe\n",
    "    - Use `np.logical_or` the same way"
   ]
  },
  {
   "cell_type": "code",
   "execution_count": 4,
   "metadata": {},
   "outputs": [
    {
     "name": "stdout",
     "output_type": "stream",
     "text": [
      "   Colors   Spanish  Length_Colors  Length_Spanish\n",
      "0   Brown      Cafe              5               4\n",
      "1   Green     Verde              5               5\n",
      "2   Black     Negro              5               5\n",
      "3  Yellow  Amarillo              6               8\n",
      "\n",
      "   Colors   Spanish  Length_Colors  Length_Spanish\n",
      "0   Brown      Cafe              5               4\n",
      "3  Yellow  Amarillo              6               8\n",
      "\n",
      "   Length_Colors  Length_Spanish\n",
      "1              5               5\n",
      "2              5               5\n",
      "3              6               8\n"
     ]
    }
   ],
   "source": [
    "# create a dataframe from a dictionary\n",
    "colors = ['Brown', 'Green', 'Black', 'Yellow']\n",
    "spanish = ['Cafe', 'Verde', 'Negro', 'Amarillo']\n",
    "length_colors = [5, 5, 5, 6]\n",
    "length_spanish = [4, 5, 5, 8]\n",
    "dict1 = {'Colors': colors, 'Spanish': spanish, 'Length_Colors': length_colors, 'Length_Spanish': length_spanish}\n",
    "df = pd.DataFrame(dict1)\n",
    "print(df)\n",
    "print()\n",
    "\n",
    "# select all columns and rows that have spanish != 5\n",
    "bool_index = df['Length_Spanish'] != 5\n",
    "print(df[bool_index])\n",
    "print()\n",
    "\n",
    "# select both length cols where Length_Colors is 5 or more and Length_Spanish is 5 or more\n",
    "bool_index = np.logical_and(df['Length_Colors'] >= 5, df['Length_Spanish'] >= 5)\n",
    "df_subset = df[bool_index]\n",
    "print(df_subset.loc[:, ['Length_Colors', 'Length_Spanish']])"
   ]
  },
  {
   "cell_type": "markdown",
   "metadata": {},
   "source": [
    "## Looping Through Dataframes"
   ]
  },
  {
   "cell_type": "markdown",
   "metadata": {},
   "source": [
    "- Column Labels\n",
    "    - `for i in df: statements`\n",
    "- Rows  # need to use `.iterrows()` method\n",
    "    - `for index, row in df.iterrows(): statements`\n",
    "        - `index` refers to the row labels\n",
    "        - `row` refers to a series object including col name and values"
   ]
  },
  {
   "cell_type": "code",
   "execution_count": 5,
   "metadata": {},
   "outputs": [
    {
     "name": "stdout",
     "output_type": "stream",
     "text": [
      "Colors\n",
      "Spanish\n",
      "Length_Colors\n",
      "Length_Spanish\n"
     ]
    }
   ],
   "source": [
    "# using the df created above\n",
    "# note that there is no col label for the row labels\n",
    "\n",
    "for i in df:\n",
    "    print(i)"
   ]
  },
  {
   "cell_type": "code",
   "execution_count": 15,
   "metadata": {},
   "outputs": [
    {
     "name": "stdout",
     "output_type": "stream",
     "text": [
      "Row: 0     Spanish: Cafe        Spanish Length: 4\n",
      "Row: 1     Spanish: Verde       Spanish Length: 5\n",
      "Row: 2     Spanish: Negro       Spanish Length: 5\n",
      "Row: 3     Spanish: Amarillo    Spanish Length: 8\n"
     ]
    }
   ],
   "source": [
    "# access columns\n",
    "# .ljust(width) helps with alignment and spacing\n",
    "for index, row in df.iterrows():\n",
    "    print(('Row: ' + str(index)).ljust(10), ('Spanish: ' + str(row[1])).ljust(20), 'Spanish Length: ' + str(row[3]))"
   ]
  },
  {
   "cell_type": "code",
   "execution_count": 7,
   "metadata": {},
   "outputs": [
    {
     "name": "stdout",
     "output_type": "stream",
     "text": [
      "14\n",
      "15\n",
      "15\n",
      "18\n"
     ]
    }
   ],
   "source": [
    "# loop through a column's values\n",
    "for index, row in df.iterrows():\n",
    "    print(row[3] + 10)"
   ]
  },
  {
   "cell_type": "markdown",
   "metadata": {},
   "source": [
    "#### Creating a New Column Based on a Calculation\n",
    "- Using `.iterrows()` can do the same thing, but it's less efficient and best on small dataframes\n",
    "- `df['new_column'] = df['column'].apply(function)`\n",
    "    - supply a new column name and a function to use"
   ]
  },
  {
   "cell_type": "code",
   "execution_count": 8,
   "metadata": {},
   "outputs": [
    {
     "name": "stdout",
     "output_type": "stream",
     "text": [
      "0     brown\n",
      "1     green\n",
      "2     black\n",
      "3    yellow\n",
      "Name: color_lower, dtype: object\n",
      "\n",
      "0    15\n",
      "1    15\n",
      "2    15\n",
      "3    16\n",
      "Name: length_plus_ten, dtype: int64\n"
     ]
    }
   ],
   "source": [
    "# create a new column from the calculation above\n",
    "df['color_lower'] = df['Colors'].apply(str.lower)\n",
    "print(df['color_lower'])\n",
    "print()\n",
    "\n",
    "# apply a numeric function to a column to create a new column\n",
    "def add_ten(x):\n",
    "    return x + 10\n",
    "\n",
    "df['length_plus_ten'] = df['Length_Colors'].apply(add_ten)\n",
    "print(df['length_plus_ten'])"
   ]
  },
  {
   "cell_type": "markdown",
   "metadata": {},
   "source": [
    "## Working With File Types"
   ]
  },
  {
   "cell_type": "markdown",
   "metadata": {},
   "source": [
    "#### Importing Flat Files\n",
    "- Such as csv and txt files with rows and cols\n",
    "- `dataframe = pd.read_csv(filename[, sep][, comment][, na_values][, nrows][, header])`\n",
    "    - `sep` is pandas version of delimiter with default `','`\n",
    "    - `comment` takes the char that comments appear after (for python it's '#')\n",
    "    - `na_values` takes a list of strings to identify as NA or NaN\n",
    "    - `nrows` specifies an integer for the number of rows to retrieve\n",
    "    - `header=None` if no header\n",
    "    - view the header and first 5 lines of the dataframe with `.head()` method `dataframe.head()`"
   ]
  },
  {
   "cell_type": "markdown",
   "metadata": {},
   "source": [
    "#### Iterating Through Large Files\n",
    "- Simple example using chunking to record each unique value and it's number of occurrences\n",
    "    - Initialize empty dictionary\n",
    "        - `dict1 = {}`\n",
    "    - Iterate over the file\n",
    "          `for chunk in pd.read_csv(filevariable, chunksize=100):`\n",
    "              `# iterate over a column in the file`\n",
    "              `for entry in chunk['col_name']:`\n",
    "                  `if entry in dict1.keys():`\n",
    "                      `dict1[entry] += 1`\n",
    "                  `else:`\n",
    "                      `dict1[entry] = 1`\n",
    "    - Convert to a dataframe\n",
    "        - `df = pd.DataFrame(dict1)`\n",
    "\n",
    "\n",
    "#### Complex Example\n",
    "- Use a reader object to read the files a specific number of lines at a time\n",
    "    - `file_name_reader = pd.read_csv('filename', chunksize=num)`\n",
    "        - common to store filename in a variable and use the variable\n",
    "        - *num* is the number of lines to read, 1000 is a good number\n",
    "- Initialize empty df\n",
    "    - `data = pd.DataFrame()`\n",
    "- Iterate over each chunk\n",
    "    - `for grp in file_name_reader:` \n",
    "          `filtered_data = grp[grp['col_of_interest'] == condition]`\n",
    "          # exclude all data not meeting condition\n",
    "- Zip any columns you want\n",
    "    - `data_zip = zip(filtered_data['col_name1'], filtered_data['col_name2])`\n",
    "- Convert zip object to a list\n",
    "    - `data_list = list(data_zip)`\n",
    "- Create new dataframe column (this example does a calculation on the two columns to get a %)\n",
    "    - use list comprehension if needed to create your new column\n",
    "        - `filtered_data['new_column'] = [int(tup[0] * tup[1] * 0.01) for tup in data_list]`\n",
    "- Append this 'chunk' to the dataframe\n",
    "    - `data = data.append(filtered_data)\n",
    "- Can nest this entire thing in a function to call by supplying relatively few parameters\n",
    "    - DataCamp example similar to this in old `Python Library.docx` file"
   ]
  },
  {
   "cell_type": "markdown",
   "metadata": {},
   "source": [
    "#### Excel Files\n",
    "- `datafile = pd.ExcelFile('filename')`\n",
    "- view different sheets in the file/dataframe\n",
    "    - `print(datafile.sheet_names)`\n",
    "    - use `.sheet_names` attribute of this object\n",
    "- extract a sheet into a dataframe\n",
    "    - `dataframe = datafile.parse(sheet[, skiprows][, names][, usecols])`\n",
    "        - `sheet` supply sheet name as a str or index as float (0 indexed)\n",
    "        - the following args must be in list format\n",
    "            - `[arg]` if only supplying one value\n",
    "        - `skiprows` supply a list of rows to skip (0 indexed)\n",
    "        - `names` supply a list of names for your imported columns\n",
    "        - `usecols` supply a list of columns to import (0 indexed)\n",
    "- Read Excel file and store each sheet as a dataframe with sheet names as the keys to each individual dataframe\n",
    "    - `df = pd.read_excel('filename', sheetname=none)`\n",
    "        - can specify a 'sheet' or if sheet='none' will save all sheets using sheet names as keys\n",
    "        - can use a 'url' as the 'filename' to scrape data from the web"
   ]
  },
  {
   "cell_type": "markdown",
   "metadata": {},
   "source": [
    "#### SAS and Stata Files\n",
    "- SAS Files\n",
    "    - `from sas7bdat import SAS7BDAT`\n",
    "    - `with SAS7BDAT('filename.sas7bdat') as file:`\n",
    "          `dfsas = file.to_data_frame()`\n",
    "- Stata Files\n",
    "    `data = pd.read_stata('filename.dta')`"
   ]
  },
  {
   "cell_type": "markdown",
   "metadata": {},
   "source": [
    "#### HDF5 Files\n",
    "- HDF5 is becoming the industry standard for big data sets\n",
    "- hierachy of key values, where a value here then becomes a key\n",
    "- `import h5py`\n",
    "  `filename = filename.hdf5`\n",
    "  `data = h5py.File(filename, 'r')`\n",
    "- exploring data structure\n",
    "    - `for key in data.keys():`\n",
    "      `print(key)`\n",
    "    - provides keys that can be accessed such as 'meta' for metadata\n",
    "    - access its contents\n",
    "        - `for key in data['meta'].keys():`\n",
    "          `print(key)` returns another key in this example 'Description'\n",
    "    - accessing values\n",
    "        - `data['meta']['Description'].value`"
   ]
  },
  {
   "cell_type": "markdown",
   "metadata": {},
   "source": [
    "#### Scraping Data fro the Web\n",
    "- Some functionality using the 'urllib' package\n",
    "    - `from urllib.request import urlretrieve, urlopen, Request`\n",
    "    - import not necessary when using some of the functions below\n",
    "- Import data into a dataframe using a url\n",
    "    - `url = 'http://....filename.csv'`\n",
    "    - `df = pd.read_csv(url, sep=';')` using the appropriate separator (delimiter)\n",
    "    - `df = pd.read_excel(url, sheetname=none)` "
   ]
  },
  {
   "cell_type": "markdown",
   "metadata": {},
   "source": [
    "## Working with Databases\n",
    "- Need to import the appropriate package\n",
    "    - `from sqlalchemy import create_engine`\n",
    "- Creating an engine (sqlalchemy package)\n",
    "    - `engine = create_engine('sqlite:///db_name.sqlite')`\n",
    "        - above syntax `'db_type:///db_name.extension'`\n",
    "- Running a query using Pandas\n",
    "    - `df = pd.read_sql_query(\"SELECT * FROM table_name\", engine)\n",
    "    - `engine` is the engine to connect to (see above)"
   ]
  },
  {
   "cell_type": "code",
   "execution_count": null,
   "metadata": {},
   "outputs": [],
   "source": []
  }
 ],
 "metadata": {
  "kernelspec": {
   "display_name": "Python 3",
   "language": "python",
   "name": "python3"
  },
  "language_info": {
   "codemirror_mode": {
    "name": "ipython",
    "version": 3
   },
   "file_extension": ".py",
   "mimetype": "text/x-python",
   "name": "python",
   "nbconvert_exporter": "python",
   "pygments_lexer": "ipython3",
   "version": "3.7.3"
  }
 },
 "nbformat": 4,
 "nbformat_minor": 2
}
