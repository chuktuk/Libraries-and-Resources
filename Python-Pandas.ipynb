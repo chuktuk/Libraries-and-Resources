{
 "cells": [
  {
   "cell_type": "markdown",
   "metadata": {},
   "source": [
    "# Pandas Library"
   ]
  },
  {
   "cell_type": "code",
   "execution_count": 1,
   "metadata": {},
   "outputs": [],
   "source": [
    "# import pandas as pd\n",
    "import pandas as pd"
   ]
  },
  {
   "cell_type": "markdown",
   "metadata": {},
   "source": [
    "## Working With File Types"
   ]
  },
  {
   "cell_type": "markdown",
   "metadata": {},
   "source": [
    "#### Importing Flat Files\n",
    "- Such as csv and txt files with rows and cols\n",
    "- `dataframe = pd.read_csv(filename[, sep][, comment][, na_values][, nrows][, header])`\n",
    "    - `sep` is pandas version of delimiter with default `','`\n",
    "    - `comment` takes the char that comments appear after (for python it's '#')\n",
    "    - `na_values` takes a list of strings to identify as NA or NaN\n",
    "    - `nrows` specifies an integer for the number of rows to retrieve\n",
    "    - `header=None` if no header\n",
    "    - view the header and first 5 lines of the dataframe with `.head()` method `dataframe.head()`"
   ]
  },
  {
   "cell_type": "markdown",
   "metadata": {},
   "source": [
    "#### Excel Files\n",
    "- `datafile = pd.ExcelFile('filename')`\n",
    "- view different sheets in the file/dataframe\n",
    "    - `print(datafile.sheet_names)`\n",
    "    - use `.sheet_names` attribute of this object\n",
    "- extract a sheet into a dataframe\n",
    "    - `dataframe = datafile.parse(sheet[, skiprows][, names][, usecols])`\n",
    "        - `sheet` supply sheet name as a str or index as float (0 indexed)\n",
    "        - the following args must be in list format\n",
    "            - `[arg]` if only supplying one value\n",
    "        - `skiprows` supply a list of rows to skip (0 indexed)\n",
    "        - `names` supply a list of names for your imported columns\n",
    "        - `usecols` supply a list of columns to import (0 indexed)"
   ]
  },
  {
   "cell_type": "markdown",
   "metadata": {},
   "source": [
    "#### SAS and Stata Files\n",
    "- SAS Files\n",
    "    - `from sas7bdat import SAS7BDAT`\n",
    "    - `with SAS7BDAT('filename.sas7bdat') as file:`\n",
    "          `dfsas = file.to_data_frame()`\n",
    "- Stata Files\n",
    "    `data = pd.read_stata('filename.dta')`"
   ]
  },
  {
   "cell_type": "markdown",
   "metadata": {},
   "source": [
    "#### HDF5 Files\n",
    "- HDF5 is becoming the industry standard for big data sets\n",
    "- hierachy of key values, where a value here then becomes a key\n",
    "- `import h5py`\n",
    "  `filename = filename.hdf5`\n",
    "  `data = h5py.File(filename, 'r')`\n",
    "- exploring data structure\n",
    "    - `for key in data.keys():`\n",
    "      `print(key)`\n",
    "    - provides keys that can be accessed such as 'meta' for metadata\n",
    "    - access its contents\n",
    "        - `for key in data['meta'].keys():`\n",
    "          `print(key)` returns another key in this example 'Description'\n",
    "    - accessing values\n",
    "        - `data['meta']['Description'].value`"
   ]
  },
  {
   "cell_type": "markdown",
   "metadata": {},
   "source": [
    "## Convert Dataframe to Numpy Array\n",
    "- `array = dataframe.values`\n",
    "    - these \"values\" must all be the same type"
   ]
  },
  {
   "cell_type": "code",
   "execution_count": null,
   "metadata": {},
   "outputs": [],
   "source": []
  }
 ],
 "metadata": {
  "kernelspec": {
   "display_name": "Python 3",
   "language": "python",
   "name": "python3"
  },
  "language_info": {
   "codemirror_mode": {
    "name": "ipython",
    "version": 3
   },
   "file_extension": ".py",
   "mimetype": "text/x-python",
   "name": "python",
   "nbconvert_exporter": "python",
   "pygments_lexer": "ipython3",
   "version": "3.7.3"
  }
 },
 "nbformat": 4,
 "nbformat_minor": 2
}
