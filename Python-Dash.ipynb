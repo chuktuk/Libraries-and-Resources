{
 "cells": [
  {
   "cell_type": "markdown",
   "metadata": {},
   "source": [
    "# Dash"
   ]
  },
  {
   "cell_type": "markdown",
   "metadata": {},
   "source": [
    "## Basics\n",
    "- Dash apps are composed of two parts:\n",
    "    - layout\n",
    "    - callbacks"
   ]
  },
  {
   "cell_type": "markdown",
   "metadata": {},
   "source": [
    "## Layout\n",
    "- Defines the layout of the app: what it looks like\n",
    "- Dash provides classes for all of the visual components of the app\n",
    "- Components\n",
    "    - A set is created/maintained by dash\n",
    "        - `dash_core_components` and `dash_html_components` libraries\n",
    "    - Can build your own with JS and React.js\n",
    "    \n",
    "#### Layout Notes (see `app.py` file in `First_Dash_App`)\n",
    "1. The `layout` is composed of a tree of 'components' like `html.Div` and `dcc.Graph`\n",
    "2. The `dash_html_components` library has a component for every HTML tag\n",
    "    - The `html.H1(children='Hello Dash')` component generates a `<h1>Hello Dash</h1>` HTML element in the app\n",
    "3. Not all components are pure HTML\n",
    "    - The `dash_core_components` library describes higher-level components that are interactive and generated with JavaScript, HTML, and CSS through the React.js library\n",
    "4. Each component is described entirely through keyword attributes\n",
    "    - Dash is *declarative*: you will primarily describe your app through these attributes\n",
    "5. The `children` property is special\n",
    "    - By convention, it's the first attribute, and you can't omit it\n",
    "    - `html.H1(children='Hello Dash')` = `html.H1('Hello Dash')`\n",
    "    - Can be a string, number, a single component, or a list of components\n",
    "6. Visit the [css tutorial](https://dash.plotly.com/external-resources) for more info on creating style sheets\n",
    "7. 'Hot Reloading'\n",
    "    - New to dash 0.30.0 and dash-renderer 0.15.0\n",
    "    - Activated by default when you run `app.run_server(debug=True)` in the main function call"
   ]
  },
  {
   "cell_type": "markdown",
   "metadata": {},
   "source": [
    "#### Styling\n",
    "- Create a dictionary of available styles to add inline to components\n",
    "- The keys are camelCase rather than standard CSS\n",
    "    - `text-algin` in CSS is `textAlign` in dash\n",
    "- The HTML `class` attribute is `className` in dash\n",
    "- Since `children` is the first argument, the name is often omitted in dash apps\n",
    "    - I will include it for readability\n",
    "```python\n",
    "# can add this type of line after the app = dash.Dash(__name__, external_stylesheets=) line\n",
    "colors = {\n",
    "    'background': '#111111',\n",
    "    'text': '#7FDBFF'\n",
    "}\n",
    "```"
   ]
  },
  {
   "cell_type": "markdown",
   "metadata": {},
   "source": [
    "#### Applying Inline Styling\n",
    "- Add a named arg of `style={}` to a component\n",
    "    - Supply a dictionary that contains the item to style as the key (string)\n",
    "    - Two options for supplying a value\n",
    "        - Supply the item defined in a css style dictionary as the value \n",
    "            - `colors['text']` or `colors['background']` if using the example above\n",
    "        - Name it there `'textAlign': 'center'`"
   ]
  },
  {
   "cell_type": "markdown",
   "metadata": {},
   "source": [
    "## Visualizations\n",
    "- The `dash_core_components` library includes a component called `Graph`\n",
    "- `Graph` renders interactive data visualizations using [plotly.js](https://github.com/plotly/plotly.js)\n",
    "- The `figure` argument in the `dash_core_components.Graph` component is the same `figure` argument used by [plotly.py](https://plotly.com/python)"
   ]
  },
  {
   "cell_type": "markdown",
   "metadata": {},
   "source": [
    "## Running a Dash App Locally\n",
    "- Save the `app.py` file\n",
    "- Open a new `terminal` session\n",
    "- Run `python app.py` to launch the server\n",
    "- Visit [http://127.0.0.1:8050/](http://127.0.0.1:8050/) to view the app"
   ]
  },
  {
   "cell_type": "markdown",
   "metadata": {},
   "source": [
    "## Publish to RStudio Connect\n",
    "- Use the rsconnect-python package [rsconnect-python](https://pypi.org/project/rsconnect-python/)\n",
    "    - See the [user guide](https://docs.rstudio.com/connect/user/dash/)"
   ]
  },
  {
   "cell_type": "code",
   "execution_count": null,
   "metadata": {},
   "outputs": [],
   "source": []
  }
 ],
 "metadata": {
  "kernelspec": {
   "display_name": "Python 3",
   "language": "python",
   "name": "python3"
  },
  "language_info": {
   "codemirror_mode": {
    "name": "ipython",
    "version": 3
   },
   "file_extension": ".py",
   "mimetype": "text/x-python",
   "name": "python",
   "nbconvert_exporter": "python",
   "pygments_lexer": "ipython3",
   "version": "3.7.7"
  }
 },
 "nbformat": 4,
 "nbformat_minor": 4
}
