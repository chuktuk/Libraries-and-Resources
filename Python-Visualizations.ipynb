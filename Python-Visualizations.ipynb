{
 "cells": [
  {
   "cell_type": "markdown",
   "metadata": {},
   "source": [
    "# Python Visualizations"
   ]
  },
  {
   "cell_type": "code",
   "execution_count": 1,
   "metadata": {},
   "outputs": [],
   "source": [
    "# import numpy\n",
    "import numpy as np\n",
    "\n",
    "# import pandas\n",
    "import pandas as pd\n",
    "\n",
    "# import pyplot\n",
    "import matplotlib.pyplot as plt\n",
    "\n",
    "# run matplotlib inline for displaying using Jupyter notebook\n",
    "%matplotlib inline"
   ]
  },
  {
   "cell_type": "markdown",
   "metadata": {},
   "source": [
    "## matplotlib\n",
    "#### Display a Plot\n",
    "- Display a figure\n",
    "    - `plt.show()`\n",
    "- Save a figure as an image\n",
    "    - `plt.savefig('filename.png')`\n",
    "\n",
    "#### Assigning Data\n",
    "- `%matplotlib inline` is necessary to display plots in the cell in Jupyter notebook\n",
    "- `plt.plot(x-var, y-var[, options])`\n",
    "    - Options\n",
    "        - `color=''`\n",
    "- Can assign more than one plot to the same graph, just specify the same `x-var` in multiple `plt.plot` commands\n",
    "    - specify a different color for each plot"
   ]
  },
  {
   "cell_type": "markdown",
   "metadata": {},
   "source": [
    "#### Labels and Axis Control\n",
    "- Labels and Graph Items\n",
    "    - `plt.xlabel(string)`\n",
    "    - `plt.ylabel(string)`\n",
    "    - `plt.title(string)`\n",
    "- Axis Ranges (use either tuples or lists to supply)\n",
    "    - `axis([xmin, xmax, ymin, ymax])`\n",
    "        - sets all at once\n",
    "    - `xlim([xmin, xmax])` sets only the x axis \n",
    "        - will use default vertical scale that fits all the data\n",
    "    - `ylim([ymin, ymax])` sets only the y axis\n",
    "        - will use default horizontal scale that fits all the data\n",
    "    - other `axis` options\n",
    "        - `'off'` hides the axis lines/labels\n",
    "        - `'equal'` sets the scale equal for x, y\n",
    "            - equal axis doesn't mean square plot, especially evident with multiple plots\n",
    "        - `'square'` forces a square plot\n",
    "        - `'tight'` sets xlim(), ylim() to show all data"
   ]
  },
  {
   "cell_type": "markdown",
   "metadata": {},
   "source": [
    "#### Default Style Sheets\n",
    "- Provides defaults for lines, points, backgrounds, etc.\n",
    "- `plt.style.availabe`\n",
    "    - provides a list of styles available to use\n",
    "- `plt.style.use('style')` to set the style to use\n",
    "    - `'ggplot'`\n",
    "    - `'fivethirtyeight'`"
   ]
  },
  {
   "cell_type": "markdown",
   "metadata": {},
   "source": [
    "#### Multiple Plots Using 'Axes'\n",
    "- Assigning axes values\n",
    "    - Useful for control over axes\n",
    "    - Useful when showing multiple sets on one plot that have different value ranges\n",
    "        - can produce two plots side by side if you specify these numbers correctly\n",
    "            - could also overlay\n",
    "            - depends on where your bottom left corner is, and the width you set\n",
    "        - can produce two plots on top of each other\n",
    "            - adjust your bottom left corner and the height you set\n",
    "    - `plt.axes([x_lo, y_lo, width, height])`\n",
    "        - list args all expressed in 'figure units'(numbers 0-1 scaled to the dimensions of the figure)\n",
    "            - `x_lo` \n",
    "            - `y_lo`\n",
    "                - these two values set the lower left corner locations of the plot\n",
    "            - `width`\n",
    "            - `height`\n",
    "                - these two values set the size of the plot\n",
    "        - every `plt.` command that follows will use the specified `axes` until it is changed\n",
    "        - the first `axes` command will appear on the left of the plot, the second on the right"
   ]
  },
  {
   "cell_type": "markdown",
   "metadata": {},
   "source": [
    "#### Multiple Plots Using 'Subplot' (better than axes)\n",
    "- Use to display multiple plots\n",
    "    - the 'rows' and 'cols' below are how the different plots are arranged\n",
    "    - 'rows' and 'cols' numbers are 1-indexed starting at the top left corner\n",
    "- `plt.subplot(nrows, ncols, nsubplot)`\n",
    "    - `nrows` = number of rows\n",
    "    - `ncols` = number of columns\n",
    "    - `nsubplot` = the number of the subplot to activate for subsequent commands\n",
    "        - numbering is left to right, then down a row, left to right like numbering words on a page\n",
    "        - each command that follows applies to the active subplot, until another subplot is activated\n",
    "    - `plt.subplot(1, 2, x)` is side by side\n",
    "    - `plt.subplot(2, 1, x)` is top and bottom\n",
    "- `plt.tight_layout()`\n",
    "    - Makes sure that axis labels/titles don't overlap"
   ]
  },
  {
   "cell_type": "markdown",
   "metadata": {},
   "source": [
    "#### Scatter Plots\n",
    "- `plt.scatter(x_data, y_data, marker='', color='', label='')`\n",
    "    - `marker` is used to set the shape of the marker\n",
    "    - `color` is pretty obvious\n",
    "    - `label` is important if creating a legend"
   ]
  },
  {
   "cell_type": "markdown",
   "metadata": {},
   "source": [
    "#### Legend and Annotate for Labeling Plots\n",
    "- `plt.legend(loc='')`\n",
    "    - must supply a `label` for each plot (see scatter example above)\n",
    "    - supply a `loc` description as a string listed below or its integer counterpart\n",
    "        - 'upper left' = 2\n",
    "        - 'center left' = 6\n",
    "        - 'best' = 0\n",
    "        - 'upper center' = 9\n",
    "        - 'center' = 10\n",
    "        - 'lower center' = 8\n",
    "        - 'upper right' = 1\n",
    "        - 'center right' = 7\n",
    "        - 'lower right' = 4\n",
    "        - 'right' = 5\n",
    "- `plt.annotate('label', xy=(xcoord, ycoord)[, xytext(xcoord, ycoord), arrowprops])`\n",
    "    - will place your supplied 'label' at the xy coordinates specified by your supplied tuple\n",
    "    - can draw an arrow if you supply `xytext` and `arrowprops`\n",
    "        - `arrowprops` is a dictionary with the arrow's properties\n",
    "            - `{'color':''}` at mininum to draw the arrow\n",
    "            - `xy` will be where the arrow points\n",
    "            - `xytext` is where the text is and where the arrow comes from"
   ]
  }
 ],
 "metadata": {
  "kernelspec": {
   "display_name": "Python 3",
   "language": "python",
   "name": "python3"
  },
  "language_info": {
   "codemirror_mode": {
    "name": "ipython",
    "version": 3
   },
   "file_extension": ".py",
   "mimetype": "text/x-python",
   "name": "python",
   "nbconvert_exporter": "python",
   "pygments_lexer": "ipython3",
   "version": "3.7.3"
  }
 },
 "nbformat": 4,
 "nbformat_minor": 2
}
