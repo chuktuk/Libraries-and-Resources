{
 "cells": [
  {
   "cell_type": "markdown",
   "metadata": {},
   "source": [
    "# Statistics Using Python"
   ]
  },
  {
   "cell_type": "code",
   "execution_count": 1,
   "metadata": {},
   "outputs": [],
   "source": [
    "# import packages\n",
    "import numpy as np\n",
    "import pandas as pd\n",
    "import seaborn as sns\n",
    "import matplotlib.pyplot as plt"
   ]
  },
  {
   "cell_type": "code",
   "execution_count": 2,
   "metadata": {},
   "outputs": [],
   "source": [
    "# set some defaults\n",
    "\n",
    "# default style for plt plots to seaborn\n",
    "sns.set()"
   ]
  },
  {
   "cell_type": "markdown",
   "metadata": {},
   "source": [
    "## Exploratory Data Analysis\n",
    "- It's best practice to do quick exploration prior to advanced analysis\n",
    "    - viewing structure\n",
    "    - checking for NaN's\n",
    "    - plotting histograms\n",
    "    - plotting boxplots to check for outliers\n",
    "    - bee swarm plots to check distribution\n",
    "        - avoids binning bias from histograms\n",
    "        - however don't do well with too many data points\n",
    "    - empirical cumulative distribution function (ECDF)\n",
    "        - very good plot, do this early to examine the data\n",
    "        - often include multiple columns (or separate by categories) if it makes sense to do this\n",
    "        - good function for returning the x, y values for an ECDF\n",
    "        \n",
    "```python\n",
    "def ecdf(data):\n",
    "\"\"\"Return x, y data for an ECDF receiving a 1d array, list, or series.\"\"\"\n",
    "         \n",
    "    # compute the number of points\n",
    "    n = len(data)\n",
    "            \n",
    "    # sort the x data and store\n",
    "    x = np.sort(data)\n",
    "            \n",
    "    # compute y using the distribution\n",
    "    y = np.arange(1, n+1) / n\n",
    "            \n",
    "    # return x and y\n",
    "    return x, y\n",
    "```"
   ]
  },
  {
   "cell_type": "code",
   "execution_count": null,
   "metadata": {},
   "outputs": [],
   "source": []
  },
  {
   "cell_type": "code",
   "execution_count": null,
   "metadata": {},
   "outputs": [],
   "source": []
  }
 ],
 "metadata": {
  "kernelspec": {
   "display_name": "Python 3",
   "language": "python",
   "name": "python3"
  },
  "language_info": {
   "codemirror_mode": {
    "name": "ipython",
    "version": 3
   },
   "file_extension": ".py",
   "mimetype": "text/x-python",
   "name": "python",
   "nbconvert_exporter": "python",
   "pygments_lexer": "ipython3",
   "version": "3.7.3"
  }
 },
 "nbformat": 4,
 "nbformat_minor": 4
}
