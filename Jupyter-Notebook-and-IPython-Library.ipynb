{
 "cells": [
  {
   "cell_type": "markdown",
   "metadata": {},
   "source": [
    "# Jupyter Notebook and IPython"
   ]
  },
  {
   "cell_type": "markdown",
   "metadata": {},
   "source": [
    "## Running Jupyter Notebook\n",
    "- In the anaconda shell\n",
    "    - navigate to the directory where you want to create/access a Jupyter notebook file\n",
    "    - enter `Jupyter notebook`\n",
    "    - leave the command prompt open and running until you quit Jupyter notebook\n",
    "- You can also start from the `Anaconda Navigator` program\n",
    "- The notebook uses your computer as the server and starts a kernel on localhost\n",
    "    - if the preferred port is in use, it will search for an open port automatically"
   ]
  },
  {
   "cell_type": "markdown",
   "metadata": {},
   "source": [
    "## Renumber In/Out Lines\n",
    "- restart the kernel, then \"run all\""
   ]
  },
  {
   "cell_type": "markdown",
   "metadata": {},
   "source": [
    "## Markdown\n",
    "- To change a cell to markdown, use the dropdown select box or 'cell'->'cell type' from the menu\n",
    "- Create Headings\n",
    "    - use one `#` for HTML style H1\n",
    "    - use two `##` for H2, and so on\n",
    "- Create bullet/numbered lists\n",
    "    - use \\- or \\* to start a list\n",
    "    - indent then use \\- or \\* to do subsets\n",
    "    - use a number, period, space to do a numbered list, and indent for mulitple levels\n",
    "    - only one primary list type per cell, but secondary levels can be bullets or numbers\n",
    "- Escape character\n",
    "    - use \\\\ or sometimes \\\\\\\\ to escape certain chars and display them\n",
    "    - can also use monospace font to display special chars\n",
    "- Monospace font\n",
    "    - to make monospace font, put text between back single quote mark (same key as ~)\n",
    "    - use `monospace` for files, paths, text users should enter, or messages text users see\n",
    "- Mimic code of a language\n",
    "    - to make a formatted code block\n",
    "        - three back ticks and the language name on the first line\n",
    "        - write your code block formatted properly with new lines and indents\n",
    "        - place three back ticks on the line underneath your code block\n",
    "    - Example:\n",
    "        ```python\n",
    "        for index, value in enumerate(my_list):\n",
    "            print('index: ', index, ', value: ', value)\n",
    "        ```\n",
    "- Bold/italic text\n",
    "    - use \\*\\***for bold**\\*\\*\n",
    "    - use \\**for italic*\\*\n",
    "    - use \\ to escape the \\* char and output it\n",
    "- Horizontal lines\n",
    "    - three \\* symbols, and it spans the entire width of the window\n",
    "***\n",
    "- Geometric shapes\n",
    "    - use \"\\&\\#reference_number;\"\n",
    "    - Visit  [UTF-8 Geometric Shapes](https://tinyurl.com/y5amtg8v) for codes from w3schools.com\n",
    "- Images\n",
    "    - you can drag/drop images into markdown cells\n",
    "    - use <img=src alt= title= /> html code to add images to other cell types\n",
    "- Internal links\n",
    "    - `[section title](#section-title)`\n",
    "        - or\n",
    "    - add `<a id=\"section_id\"></a>` right above section title\n",
    "    - then `[section title](#section_id)`\n",
    "- External links\n",
    "    - use `[link text](url)`\n",
    "- Mathematical symbols\n",
    "    - put math symbols between `$math goes here$`\n",
    "    - escaping dollar signs appears to be tricky in the same cell, but can do once with two \\\\\n",
    "    - $2 + 2 = 4$\n",
    "- Line breaks\n",
    "    - use the HTML `<br>` to force a line break\n",
    "- Indent quoting\n",
    "    - type the \\> char, a space, then your text\n",
    "> This text is an example of indent quoting\n",
    "- Click the `run` button to view the output\n",
    "    - double click a cell to edit a cell"
   ]
  },
  {
   "cell_type": "markdown",
   "metadata": {},
   "source": [
    "## Help\n",
    "- Use the built-in `help()` function for info ex. `help(len)`\n",
    "    - IPython also allows you to put `?` after the subject you want help with ex. `len?`\n",
    "    - These tools work on built-in functions, methods, objects etc. as well as my stuff\n",
    "    - Wildcard `*` is used when searching for a term somewhere in an object, attribute, or method\n",
    "        - `*` matches 0 or more chars\n",
    "        - click `Run` to display the output\n",
    "        - `*Warning?` searches everything with \"Warning\" at the end\n",
    "        - `str.*find*?` searches methods of str objects with \"find\" somewhere\n",
    "- Access source code\n",
    "    - Use `??` after a function or method to return its source code\n",
    "    - If the object in question is built in C or other language `??` returns the same info as `?`"
   ]
  },
  {
   "cell_type": "markdown",
   "metadata": {},
   "source": [
    "## Auto-Completion\n",
    "- Tab completion\n",
    "    - When you see `TAB` that means press the `TAB` key\n",
    "        - all other chars are literal like `.`\n",
    "    - See a list of all available attribtues of an object\n",
    "        - `object.TAB`\n",
    "        - narrow down the list by typing the first char(s) of an attribute between `.` and `TAB`\n",
    "            - `object.cTAB`\n",
    "        - if only one option is availabe, pressing `TAB` will autocomplete the attribute\n",
    "        - private attributes that have `__atr__` are omitted by default\n",
    "            - to show them, use `object._TAB`\n",
    "    - Importing objects from packages\n",
    "        - `from package import cTAB`\n",
    "            - this code will show all objects that start with \"c\" in \"package\"\n",
    "        - import `TAB`\n",
    "            - will display all imports available on the system\n",
    "            - can add letter(s) before the `TAB` press to narrow the list            "
   ]
  },
  {
   "cell_type": "markdown",
   "metadata": {},
   "source": [
    "## Keyboard Shortcuts\n",
    "- Most of these should work in Jupyter notebook, but this is primarily for IPython Shell\n",
    "- Navigation\n",
    "    - `Ctrl-a` move cursor to beginning of the line\n",
    "    - `Crtl-e` move cursor to the end of the line\n",
    "- Text entry\n",
    "    - `Ctrl-k` cut text from cursor to end of the line\n",
    "    - `Ctrl-u` cut text from beginning of line to cursor\n",
    "    - `Ctrl-y` \"yank\" (i.e. paste) tet that was previously cut\n",
    "    - `Ctrl-t` \"transpose\" (i.e. switch) pervious two chars\n",
    "- Command history\n",
    "    - `up arrow` shows history one command at a time working backwards\n",
    "        - if you type chars first, it will only show commands that match\n",
    "    - `down arrow` scrolls back to more recent commands\n",
    "    - `Ctrl-r` revers-search through command history\n",
    "        - then start typing chars, IPython will fill the most recent command that matches\n",
    "- Misc\n",
    "    - `Ctrl-l` clear terminal screen\n",
    "    - `Ctrl-c` interrupt the command\n",
    "    - `Ctrl-d` exit the IPython session"
   ]
  },
  {
   "cell_type": "markdown",
   "metadata": {},
   "source": [
    "## IPython Magic Commands\n",
    "- Line magics (begin with %)\n",
    "    - `%lsmagic` will list all available line magic commands\n",
    "    - `%magic` will provide general description of available magic functions\n",
    "    - `%paste` both enters and executes copied code, correctly formatting indentation and such\n",
    "    - `%cpaste` like %paste but uses interactive multiline prompt to paste more stuff to execute in a batch\n",
    "    - `%run file` enter a file name, and it is executed and made available in the current session\n",
    "    - `%timeit statement` outputs the performance in time of a single-line statement (cell magic version too)\n",
    "- Cell magics (begin with %%)\n",
    "    - `%%timeit statements` statements should begin on next line of the cell (works like %timeit)\n",
    "- Magic help\n",
    "    - just type `?` after a magic command for help on it"
   ]
  },
  {
   "cell_type": "markdown",
   "metadata": {},
   "source": [
    "## Input and Output Objects\n",
    "- IPython actually creates `In` and `Out` objects as you run code\n",
    "    - `In` is a list that is 1 indexed (so when it says \"In \\[1\\]\" on the side, you can access this code using `In[1]`)\n",
    "    - `Out` is a dictionary\n",
    "        - keys are the index number\n",
    "        - values are output (if any)\n",
    "        - any code with no output is not added\n",
    "- Underscore to access previous output\n",
    "    - one `_` accesses the last output\n",
    "    - two `__` accesses the second to last output\n",
    "    - three `___` accesses the third to last output, and this is where it stops\n",
    "- Surpressing output\n",
    "    - adding a `;` at the end of a line will not display output nor add to out dictionary"
   ]
  },
  {
   "cell_type": "markdown",
   "metadata": {},
   "source": [
    "## Command Line Interface\n",
    "- Use `!` to access system command line\n",
    "    - anything after a `!` on a line will be executed by the system command line\n",
    "    - some command line commands do not work, but they usually have associated magic commands\n",
    "- You can store output from a shell command in a variable\n",
    "    - `contents = !ls`\n",
    "    - the resulting object is similar to a list, but is a special \"shell list\" type\n",
    "    - this adds functionality to this object\n",
    "- You can pass info from IPython to the shell\n",
    "    - store info in a variable\n",
    "    - use `{variable}` in the shell command to pass information to the shell"
   ]
  },
  {
   "cell_type": "markdown",
   "metadata": {},
   "source": [
    "## Errors and Debugging\n",
    "- `%xmode type` controlls how much info is displayed after an exception\n",
    "    - type is either \"Plain\" (short), \"Context\" (default), or \"Verbose\" (more details)\n",
    "- IPython debugger can be useful\n",
    "    - `ipdb` has [online documentation](https://github.com/gotcha/ipdb)\n",
    "- `%debug` magic\n",
    "    - call `%debug` immediately after throwing an exception\n",
    "    - can run IPython commands to `print()` values, etc. to debug\n",
    "    - call `up` or `down` in the debugger to step through the code\n",
    "        - let's you check variables at different stages of the code\n",
    "    - `list` shows the current location in the file\n",
    "    - `h(elp)` show a list of commands or find help on a specific command\n",
    "    - `n(ext)` go to the next step of the program\n",
    "    - `<enter>` repeat the previous command\n",
    "    - `s(tep)` step into a subroutine\n",
    "    - `c(ontinue)` quit the debugger and continue the program\n",
    "    - run `quit` to exit the debugger and end the program"
   ]
  },
  {
   "cell_type": "markdown",
   "metadata": {},
   "source": [
    "## Profiling and Timing Code (Efficiency)\n",
    "- Get code working first, then can possibly streamline to run more efficiently\n",
    "- `%time`, `%timeit`, and `%%timeit` can provide info\n",
    "- `%prun function`\n",
    "    - use this on a function to show details on time on each function call\n",
    "    - use help on this function for more details\n",
    "- Line Profiler\n",
    "    - need to install `pip install line_profiler`\n",
    "        - need to load `%load_ext line_profiler`\n",
    "    - `%lprun -f function(args)` to check efficiency of your function with specified args\n",
    "    - use help for more info\n",
    "- Memory Profiler\n",
    "    - let's you know how much memory an operation uses\n",
    "    - need to install `pip install memory_profiler`\n",
    "        - need to load `%load_ext memory_profiler`\n",
    "    - `%memit` works like `%timeit` but on memory\n",
    "    - `%mprun` works like `%lprun` but on memory (line by line memory use)\n",
    "        - this magic only works on functions imported from separate modules\n",
    "            - to create a separate file (module) in the same session\n",
    "                - `%%file filename.py` then include your function(s) below this line\n",
    "                - this would overwrite any information in `filename.py`\n",
    "            - from `filename` import `function`\n",
    "            - `%mprun -f function function(args)`\n",
    "                - function name twice to access the imported package"
   ]
  },
  {
   "cell_type": "markdown",
   "metadata": {},
   "source": [
    "## IPython Additional Resources\n",
    "- p. 30-31 of *Python Data Science Handbook* has more web and book resources for IPython\n",
    "- Web Resources\n",
    "    - [IPython Website](http://ipython.org)\n",
    "    - [nbviewer Website](http://nbviewer.ipython.org/)\n",
    "    - [Gallery of IPython Notebooks](http://github.com/ipython/ipython/wiki/A-gallery-of-interesting-IPython-Notebooks/)\n",
    "    - Video tutorials from PyCon, SciPy, PyData"
   ]
  }
 ],
 "metadata": {
  "kernelspec": {
   "display_name": "Python 3",
   "language": "python",
   "name": "python3"
  },
  "language_info": {
   "codemirror_mode": {
    "name": "ipython",
    "version": 3
   },
   "file_extension": ".py",
   "mimetype": "text/x-python",
   "name": "python",
   "nbconvert_exporter": "python",
   "pygments_lexer": "ipython3",
   "version": "3.7.3"
  }
 },
 "nbformat": 4,
 "nbformat_minor": 2
}
