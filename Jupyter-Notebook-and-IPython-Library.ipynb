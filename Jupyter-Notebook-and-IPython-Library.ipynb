{
 "cells": [
  {
   "cell_type": "markdown",
   "metadata": {},
   "source": [
    "# Jupyter Notebook and IPython"
   ]
  },
  {
   "cell_type": "markdown",
   "metadata": {},
   "source": [
    "## Markdown\n",
    "- To change a cell to markdown, use the dropdown select box or 'cell'->'cell type' from the menu\n",
    "- Create Headings\n",
    "    - use one \\# for HTML style H1\n",
    "    - use two \\#\\# for H2, and so on\n",
    "- Create bullet/numbered lists\n",
    "    - use \\- or \\* to start a list\n",
    "    - indent then use \\- or \\* to do subsets\n",
    "    - use a number, period, space to do a numbered list, and indent for mulitple levels\n",
    "- Bold/italic text\n",
    "    - use \\*\\***for bold**\\*\\*\n",
    "    - use \\**for italic*\\*\n",
    "    - use \\ to escape the \\* char and output it\n",
    "- Click the 'run' button to view the output\n",
    "    - double click a cell to edit a markdown cell"
   ]
  },
  {
   "cell_type": "code",
   "execution_count": null,
   "metadata": {},
   "outputs": [],
   "source": []
  }
 ],
 "metadata": {
  "kernelspec": {
   "display_name": "Python 3",
   "language": "python",
   "name": "python3"
  },
  "language_info": {
   "codemirror_mode": {
    "name": "ipython",
    "version": 3
   },
   "file_extension": ".py",
   "mimetype": "text/x-python",
   "name": "python",
   "nbconvert_exporter": "python",
   "pygments_lexer": "ipython3",
   "version": "3.7.3"
  }
 },
 "nbformat": 4,
 "nbformat_minor": 2
}
