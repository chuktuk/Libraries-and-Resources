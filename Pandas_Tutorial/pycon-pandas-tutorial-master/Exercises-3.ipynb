{
  "nbformat_minor": 0, 
  "nbformat": 4, 
  "cells": [
    {
      "execution_count": 1, 
      "cell_type": "code", 
      "source": [
        "%matplotlib inline\n", 
        "import pandas as pd"
      ], 
      "outputs": [], 
      "metadata": {
        "collapsed": false
      }
    }, 
    {
      "execution_count": 2, 
      "cell_type": "code", 
      "source": [
        "from IPython.core.display import HTML\n", 
        "css = open('style-table.css').read() + open('style-notebook.css').read()\n", 
        "HTML('<style>{}</style>'.format(css))"
      ], 
      "outputs": [
        {
          "execution_count": 2, 
          "output_type": "execute_result", 
          "data": {
            "text/plain": [
              "<IPython.core.display.HTML object>"
            ], 
            "text/html": [
              "<style>body {\n", 
              "    margin: 0;\n", 
              "    font-family: Helvetica;\n", 
              "}\n", 
              "table.dataframe {\n", 
              "    border-collapse: collapse;\n", 
              "    border: none;\n", 
              "}\n", 
              "table.dataframe tr {\n", 
              "    border: none;\n", 
              "}\n", 
              "table.dataframe td, table.dataframe th {\n", 
              "    margin: 0;\n", 
              "    border: 1px solid white;\n", 
              "    padding-left: 0.25em;\n", 
              "    padding-right: 0.25em;\n", 
              "}\n", 
              "table.dataframe th:not(:empty) {\n", 
              "    background-color: #fec;\n", 
              "    text-align: left;\n", 
              "    font-weight: normal;\n", 
              "}\n", 
              "table.dataframe tr:nth-child(2) th:empty {\n", 
              "    border-left: none;\n", 
              "    border-right: 1px dashed #888;\n", 
              "}\n", 
              "table.dataframe td {\n", 
              "    border: 2px solid #ccf;\n", 
              "    background-color: #f4f4ff;\n", 
              "}\n", 
              "h3 {\n", 
              "    color: white;\n", 
              "    background-color: black;\n", 
              "    padding: 0.5em;\n", 
              "}\n", 
              "</style>"
            ]
          }, 
          "metadata": {}
        }
      ], 
      "metadata": {
        "collapsed": false
      }
    }, 
    {
      "execution_count": 3, 
      "cell_type": "code", 
      "source": [
        "titles = pd.read_csv('data/titles.csv')\n", 
        "titles.head()"
      ], 
      "outputs": [
        {
          "execution_count": 3, 
          "output_type": "execute_result", 
          "data": {
            "text/plain": [
              "                          title  year\n", 
              "0                 A L\u00e9lek \u00f3r\u00e1sa  1923\n", 
              "1  Aizaugusa gravi viegli krist  1986\n", 
              "2                     Agliyorum  1988\n", 
              "3                         0_1_0  2008\n", 
              "4              97 fung lau mung  1994"
            ], 
            "text/html": [
              "<div style=\"max-height:1000px;max-width:1500px;overflow:auto;\">\n", 
              "<table border=\"1\" class=\"dataframe\">\n", 
              "  <thead>\n", 
              "    <tr style=\"text-align: right;\">\n", 
              "      <th></th>\n", 
              "      <th>title</th>\n", 
              "      <th>year</th>\n", 
              "    </tr>\n", 
              "  </thead>\n", 
              "  <tbody>\n", 
              "    <tr>\n", 
              "      <th>0</th>\n", 
              "      <td>A L\u00e9lek \u00f3r\u00e1sa</td>\n", 
              "      <td>1923</td>\n", 
              "    </tr>\n", 
              "    <tr>\n", 
              "      <th>1</th>\n", 
              "      <td>Aizaugusa gravi viegli krist</td>\n", 
              "      <td>1986</td>\n", 
              "    </tr>\n", 
              "    <tr>\n", 
              "      <th>2</th>\n", 
              "      <td>Agliyorum</td>\n", 
              "      <td>1988</td>\n", 
              "    </tr>\n", 
              "    <tr>\n", 
              "      <th>3</th>\n", 
              "      <td>0_1_0</td>\n", 
              "      <td>2008</td>\n", 
              "    </tr>\n", 
              "    <tr>\n", 
              "      <th>4</th>\n", 
              "      <td>97 fung lau mung</td>\n", 
              "      <td>1994</td>\n", 
              "    </tr>\n", 
              "  </tbody>\n", 
              "</table>\n", 
              "</div>"
            ]
          }, 
          "metadata": {}
        }
      ], 
      "metadata": {
        "collapsed": false
      }
    }, 
    {
      "execution_count": 4, 
      "cell_type": "code", 
      "source": [
        "cast = pd.read_csv('data/cast.csv')\n", 
        "cast.head()"
      ], 
      "outputs": [
        {
          "execution_count": 4, 
          "output_type": "execute_result", 
          "data": {
            "text/plain": [
              "                           title  year               name   type  \\\n", 
              "0                       The Core  2003  Alejandro Abellan  actor   \n", 
              "1         Il momento di uccidere  1968    Remo De Angelis  actor   \n", 
              "2              Across the Divide  1921      Thomas Delmar  actor   \n", 
              "3                          Revan  2012        Diego James  actor   \n", 
              "4  Un homme marche dans la ville  1950       Fabien Loris  actor   \n", 
              "\n", 
              "        character   n  \n", 
              "0  U.S.S. Soldier NaN  \n", 
              "1            Dago   9  \n", 
              "2            Dago   4  \n", 
              "3            Dago NaN  \n", 
              "4            Dago  12  "
            ], 
            "text/html": [
              "<div style=\"max-height:1000px;max-width:1500px;overflow:auto;\">\n", 
              "<table border=\"1\" class=\"dataframe\">\n", 
              "  <thead>\n", 
              "    <tr style=\"text-align: right;\">\n", 
              "      <th></th>\n", 
              "      <th>title</th>\n", 
              "      <th>year</th>\n", 
              "      <th>name</th>\n", 
              "      <th>type</th>\n", 
              "      <th>character</th>\n", 
              "      <th>n</th>\n", 
              "    </tr>\n", 
              "  </thead>\n", 
              "  <tbody>\n", 
              "    <tr>\n", 
              "      <th>0</th>\n", 
              "      <td>The Core</td>\n", 
              "      <td>2003</td>\n", 
              "      <td>Alejandro Abellan</td>\n", 
              "      <td>actor</td>\n", 
              "      <td>U.S.S. Soldier</td>\n", 
              "      <td>NaN</td>\n", 
              "    </tr>\n", 
              "    <tr>\n", 
              "      <th>1</th>\n", 
              "      <td>Il momento di uccidere</td>\n", 
              "      <td>1968</td>\n", 
              "      <td>Remo De Angelis</td>\n", 
              "      <td>actor</td>\n", 
              "      <td>Dago</td>\n", 
              "      <td>9</td>\n", 
              "    </tr>\n", 
              "    <tr>\n", 
              "      <th>2</th>\n", 
              "      <td>Across the Divide</td>\n", 
              "      <td>1921</td>\n", 
              "      <td>Thomas Delmar</td>\n", 
              "      <td>actor</td>\n", 
              "      <td>Dago</td>\n", 
              "      <td>4</td>\n", 
              "    </tr>\n", 
              "    <tr>\n", 
              "      <th>3</th>\n", 
              "      <td>Revan</td>\n", 
              "      <td>2012</td>\n", 
              "      <td>Diego James</td>\n", 
              "      <td>actor</td>\n", 
              "      <td>Dago</td>\n", 
              "      <td>NaN</td>\n", 
              "    </tr>\n", 
              "    <tr>\n", 
              "      <th>4</th>\n", 
              "      <td>Un homme marche dans la ville</td>\n", 
              "      <td>1950</td>\n", 
              "      <td>Fabien Loris</td>\n", 
              "      <td>actor</td>\n", 
              "      <td>Dago</td>\n", 
              "      <td>12</td>\n", 
              "    </tr>\n", 
              "  </tbody>\n", 
              "</table>\n", 
              "</div>"
            ]
          }, 
          "metadata": {}
        }
      ], 
      "metadata": {
        "collapsed": false
      }
    }, 
    {
      "execution_count": null, 
      "cell_type": "code", 
      "source": [], 
      "outputs": [], 
      "metadata": {
        "collapsed": false
      }
    }, 
    {
      "source": "### Using groupby(), plot the number of films that have been released each decade in the history of cinema.", 
      "cell_type": "markdown", 
      "metadata": {
        "collapsed": true
      }
    }, 
    {
      "execution_count": null, 
      "cell_type": "code", 
      "source": [], 
      "outputs": [], 
      "metadata": {
        "collapsed": true
      }
    }, 
    {
      "execution_count": null, 
      "cell_type": "code", 
      "source": [], 
      "outputs": [], 
      "metadata": {
        "collapsed": true
      }
    }, 
    {
      "source": "### Use groupby() to plot the number of \"Hamlet\" films made each decade.", 
      "cell_type": "markdown", 
      "metadata": {
        "collapsed": true
      }
    }, 
    {
      "execution_count": null, 
      "cell_type": "code", 
      "source": [], 
      "outputs": [], 
      "metadata": {
        "collapsed": true
      }
    }, 
    {
      "execution_count": null, 
      "cell_type": "code", 
      "source": [], 
      "outputs": [], 
      "metadata": {
        "collapsed": true
      }
    }, 
    {
      "source": "### How many leading (n=1) roles were available to actors, and how many to actresses, in each year of the 1950s?", 
      "cell_type": "markdown", 
      "metadata": {
        "collapsed": true
      }
    }, 
    {
      "execution_count": null, 
      "cell_type": "code", 
      "source": [], 
      "outputs": [], 
      "metadata": {
        "collapsed": true
      }
    }, 
    {
      "execution_count": null, 
      "cell_type": "code", 
      "source": [], 
      "outputs": [], 
      "metadata": {
        "collapsed": true
      }
    }, 
    {
      "source": "### In the 1950s decade taken as a whole, how many total roles were available to actors, and how many to actresses, for each \"n\" number 1 through 5?", 
      "cell_type": "markdown", 
      "metadata": {
        "collapsed": true
      }
    }, 
    {
      "execution_count": null, 
      "cell_type": "code", 
      "source": [], 
      "outputs": [], 
      "metadata": {
        "collapsed": true
      }
    }, 
    {
      "execution_count": null, 
      "cell_type": "code", 
      "source": [], 
      "outputs": [], 
      "metadata": {
        "collapsed": true
      }
    }, 
    {
      "source": "### Use groupby() to determine how many roles are listed for each of the Pink Panther movies.", 
      "cell_type": "markdown", 
      "metadata": {
        "collapsed": true
      }
    }, 
    {
      "execution_count": null, 
      "cell_type": "code", 
      "source": [], 
      "outputs": [], 
      "metadata": {
        "collapsed": true
      }
    }, 
    {
      "execution_count": null, 
      "cell_type": "code", 
      "source": [], 
      "outputs": [], 
      "metadata": {
        "collapsed": true
      }
    }, 
    {
      "source": "### List, in order by year, each of the films in which Frank Oz has played more than 1 role.", 
      "cell_type": "markdown", 
      "metadata": {
        "collapsed": true
      }
    }, 
    {
      "execution_count": null, 
      "cell_type": "code", 
      "source": [], 
      "outputs": [], 
      "metadata": {
        "collapsed": true
      }
    }, 
    {
      "execution_count": null, 
      "cell_type": "code", 
      "source": [], 
      "outputs": [], 
      "metadata": {
        "collapsed": true
      }
    }, 
    {
      "source": "### List each of the characters that Frank Oz has portrayed at least twice.", 
      "cell_type": "markdown", 
      "metadata": {
        "collapsed": true
      }
    }, 
    {
      "execution_count": null, 
      "cell_type": "code", 
      "source": [], 
      "outputs": [], 
      "metadata": {
        "collapsed": true
      }
    }, 
    {
      "execution_count": null, 
      "cell_type": "code", 
      "source": [], 
      "outputs": [], 
      "metadata": {
        "collapsed": true
      }
    }
  ], 
  "metadata": {
    "kernelspec": {
      "display_name": "Python 3", 
      "name": "python3", 
      "language": "python"
    }, 
    "language_info": {
      "mimetype": "text/x-python", 
      "nbconvert_exporter": "python", 
      "name": "python", 
      "file_extension": ".py", 
      "version": "3.4.3", 
      "pygments_lexer": "ipython3", 
      "codemirror_mode": {
        "version": 3, 
        "name": "ipython"
      }
    }
  }
}