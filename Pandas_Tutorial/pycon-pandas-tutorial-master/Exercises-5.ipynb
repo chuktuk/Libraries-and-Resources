{
  "nbformat_minor": 0, 
  "nbformat": 4, 
  "cells": [
    {
      "execution_count": 1, 
      "cell_type": "code", 
      "source": [
        "%matplotlib inline\n", 
        "import pandas as pd"
      ], 
      "outputs": [], 
      "metadata": {
        "collapsed": false
      }
    }, 
    {
      "execution_count": 2, 
      "cell_type": "code", 
      "source": [
        "from IPython.core.display import HTML\n", 
        "css = open('style-table.css').read() + open('style-notebook.css').read()\n", 
        "HTML('<style>{}</style>'.format(css))"
      ], 
      "outputs": [
        {
          "execution_count": 2, 
          "output_type": "execute_result", 
          "data": {
            "text/plain": [
              "<IPython.core.display.HTML object>"
            ], 
            "text/html": [
              "<style>body {\n", 
              "    margin: 0;\n", 
              "    font-family: Helvetica;\n", 
              "}\n", 
              "table.dataframe {\n", 
              "    border-collapse: collapse;\n", 
              "    border: none;\n", 
              "}\n", 
              "table.dataframe tr {\n", 
              "    border: none;\n", 
              "}\n", 
              "table.dataframe td, table.dataframe th {\n", 
              "    margin: 0;\n", 
              "    border: 1px solid white;\n", 
              "    padding-left: 0.25em;\n", 
              "    padding-right: 0.25em;\n", 
              "}\n", 
              "table.dataframe th:not(:empty) {\n", 
              "    background-color: #fec;\n", 
              "    text-align: left;\n", 
              "    font-weight: normal;\n", 
              "}\n", 
              "table.dataframe tr:nth-child(2) th:empty {\n", 
              "    border-left: none;\n", 
              "    border-right: 1px dashed #888;\n", 
              "}\n", 
              "table.dataframe td {\n", 
              "    border: 2px solid #ccf;\n", 
              "    background-color: #f4f4ff;\n", 
              "}\n", 
              "h3 {\n", 
              "    color: white;\n", 
              "    background-color: black;\n", 
              "    padding: 0.5em;\n", 
              "}\n", 
              "</style>"
            ]
          }, 
          "metadata": {}
        }
      ], 
      "metadata": {
        "collapsed": false
      }
    }, 
    {
      "execution_count": 3, 
      "cell_type": "code", 
      "source": [
        "cast = pd.read_csv('data/cast.csv')\n", 
        "cast.head()"
      ], 
      "outputs": [
        {
          "execution_count": 3, 
          "output_type": "execute_result", 
          "data": {
            "text/plain": [
              "                           title  year               name   type  \\\n", 
              "0                       The Core  2003  Alejandro Abellan  actor   \n", 
              "1         Il momento di uccidere  1968    Remo De Angelis  actor   \n", 
              "2              Across the Divide  1921      Thomas Delmar  actor   \n", 
              "3                          Revan  2012        Diego James  actor   \n", 
              "4  Un homme marche dans la ville  1950       Fabien Loris  actor   \n", 
              "\n", 
              "        character   n  \n", 
              "0  U.S.S. Soldier NaN  \n", 
              "1            Dago   9  \n", 
              "2            Dago   4  \n", 
              "3            Dago NaN  \n", 
              "4            Dago  12  "
            ], 
            "text/html": [
              "<div style=\"max-height:1000px;max-width:1500px;overflow:auto;\">\n", 
              "<table border=\"1\" class=\"dataframe\">\n", 
              "  <thead>\n", 
              "    <tr style=\"text-align: right;\">\n", 
              "      <th></th>\n", 
              "      <th>title</th>\n", 
              "      <th>year</th>\n", 
              "      <th>name</th>\n", 
              "      <th>type</th>\n", 
              "      <th>character</th>\n", 
              "      <th>n</th>\n", 
              "    </tr>\n", 
              "  </thead>\n", 
              "  <tbody>\n", 
              "    <tr>\n", 
              "      <th>0</th>\n", 
              "      <td>The Core</td>\n", 
              "      <td>2003</td>\n", 
              "      <td>Alejandro Abellan</td>\n", 
              "      <td>actor</td>\n", 
              "      <td>U.S.S. Soldier</td>\n", 
              "      <td>NaN</td>\n", 
              "    </tr>\n", 
              "    <tr>\n", 
              "      <th>1</th>\n", 
              "      <td>Il momento di uccidere</td>\n", 
              "      <td>1968</td>\n", 
              "      <td>Remo De Angelis</td>\n", 
              "      <td>actor</td>\n", 
              "      <td>Dago</td>\n", 
              "      <td>9</td>\n", 
              "    </tr>\n", 
              "    <tr>\n", 
              "      <th>2</th>\n", 
              "      <td>Across the Divide</td>\n", 
              "      <td>1921</td>\n", 
              "      <td>Thomas Delmar</td>\n", 
              "      <td>actor</td>\n", 
              "      <td>Dago</td>\n", 
              "      <td>4</td>\n", 
              "    </tr>\n", 
              "    <tr>\n", 
              "      <th>3</th>\n", 
              "      <td>Revan</td>\n", 
              "      <td>2012</td>\n", 
              "      <td>Diego James</td>\n", 
              "      <td>actor</td>\n", 
              "      <td>Dago</td>\n", 
              "      <td>NaN</td>\n", 
              "    </tr>\n", 
              "    <tr>\n", 
              "      <th>4</th>\n", 
              "      <td>Un homme marche dans la ville</td>\n", 
              "      <td>1950</td>\n", 
              "      <td>Fabien Loris</td>\n", 
              "      <td>actor</td>\n", 
              "      <td>Dago</td>\n", 
              "      <td>12</td>\n", 
              "    </tr>\n", 
              "  </tbody>\n", 
              "</table>\n", 
              "</div>"
            ]
          }, 
          "metadata": {}
        }
      ], 
      "metadata": {
        "collapsed": false
      }
    }, 
    {
      "execution_count": 4, 
      "cell_type": "code", 
      "source": [
        "release_dates = pd.read_csv('data/release_dates.csv',\n", 
        "                                      parse_dates=['date'], infer_datetime_format=True)\n", 
        "release_dates.head()"
      ], 
      "outputs": [
        {
          "execution_count": 4, 
          "output_type": "execute_result", 
          "data": {
            "text/plain": [
              "                title  year      country       date\n", 
              "0               0_1_0  2008       Poland 2008-11-14\n", 
              "1         Ai no Sanka  1967        Japan 1967-01-01\n", 
              "2   A Thousand to One  1920          USA 1920-12-07\n", 
              "3  A Prince of a King  1923          USA 1923-10-13\n", 
              "4  A Prince of a King  1923  Netherlands 1924-08-08"
            ], 
            "text/html": [
              "<div style=\"max-height:1000px;max-width:1500px;overflow:auto;\">\n", 
              "<table border=\"1\" class=\"dataframe\">\n", 
              "  <thead>\n", 
              "    <tr style=\"text-align: right;\">\n", 
              "      <th></th>\n", 
              "      <th>title</th>\n", 
              "      <th>year</th>\n", 
              "      <th>country</th>\n", 
              "      <th>date</th>\n", 
              "    </tr>\n", 
              "  </thead>\n", 
              "  <tbody>\n", 
              "    <tr>\n", 
              "      <th>0</th>\n", 
              "      <td>0_1_0</td>\n", 
              "      <td>2008</td>\n", 
              "      <td>Poland</td>\n", 
              "      <td>2008-11-14</td>\n", 
              "    </tr>\n", 
              "    <tr>\n", 
              "      <th>1</th>\n", 
              "      <td>Ai no Sanka</td>\n", 
              "      <td>1967</td>\n", 
              "      <td>Japan</td>\n", 
              "      <td>1967-01-01</td>\n", 
              "    </tr>\n", 
              "    <tr>\n", 
              "      <th>2</th>\n", 
              "      <td>A Thousand to One</td>\n", 
              "      <td>1920</td>\n", 
              "      <td>USA</td>\n", 
              "      <td>1920-12-07</td>\n", 
              "    </tr>\n", 
              "    <tr>\n", 
              "      <th>3</th>\n", 
              "      <td>A Prince of a King</td>\n", 
              "      <td>1923</td>\n", 
              "      <td>USA</td>\n", 
              "      <td>1923-10-13</td>\n", 
              "    </tr>\n", 
              "    <tr>\n", 
              "      <th>4</th>\n", 
              "      <td>A Prince of a King</td>\n", 
              "      <td>1923</td>\n", 
              "      <td>Netherlands</td>\n", 
              "      <td>1924-08-08</td>\n", 
              "    </tr>\n", 
              "  </tbody>\n", 
              "</table>\n", 
              "</div>"
            ]
          }, 
          "metadata": {}
        }
      ], 
      "metadata": {
        "collapsed": false
      }
    }, 
    {
      "execution_count": null, 
      "cell_type": "code", 
      "source": [], 
      "outputs": [], 
      "metadata": {
        "collapsed": true
      }
    }, 
    {
      "source": "### Make a bar plot of the months in which movies with \"Christmas\" in their title tend to be released in the USA.", 
      "cell_type": "markdown", 
      "metadata": {
        "collapsed": true
      }
    }, 
    {
      "execution_count": null, 
      "cell_type": "code", 
      "source": [], 
      "outputs": [], 
      "metadata": {
        "collapsed": true
      }
    }, 
    {
      "execution_count": null, 
      "cell_type": "code", 
      "source": [], 
      "outputs": [], 
      "metadata": {
        "collapsed": true
      }
    }, 
    {
      "source": "### Make a bar plot of the months in which movies whose titles start with \"The Hobbit\" are released in the USA.", 
      "cell_type": "markdown", 
      "metadata": {
        "collapsed": true
      }
    }, 
    {
      "execution_count": null, 
      "cell_type": "code", 
      "source": [], 
      "outputs": [], 
      "metadata": {
        "collapsed": true
      }
    }, 
    {
      "execution_count": null, 
      "cell_type": "code", 
      "source": [], 
      "outputs": [], 
      "metadata": {
        "collapsed": true
      }
    }, 
    {
      "source": "### Make a bar plot of the day of the week on which movies with \"Romance\" in their title tend to be released in the USA.", 
      "cell_type": "markdown", 
      "metadata": {
        "collapsed": true
      }
    }, 
    {
      "execution_count": null, 
      "cell_type": "code", 
      "source": [], 
      "outputs": [], 
      "metadata": {
        "collapsed": true
      }
    }, 
    {
      "execution_count": null, 
      "cell_type": "code", 
      "source": [], 
      "outputs": [], 
      "metadata": {
        "collapsed": true
      }
    }, 
    {
      "source": "### Make a bar plot of the day of the week on which movies with \"Action\" in their title tend to be released in the USA.", 
      "cell_type": "markdown", 
      "metadata": {
        "collapsed": true
      }
    }, 
    {
      "execution_count": null, 
      "cell_type": "code", 
      "source": [], 
      "outputs": [], 
      "metadata": {
        "collapsed": true
      }
    }, 
    {
      "execution_count": null, 
      "cell_type": "code", 
      "source": [], 
      "outputs": [], 
      "metadata": {
        "collapsed": true
      }
    }, 
    {
      "source": "### On which date was each Judi Dench movie from the 1990s released in the USA?", 
      "cell_type": "markdown", 
      "metadata": {
        "collapsed": true
      }
    }, 
    {
      "execution_count": null, 
      "cell_type": "code", 
      "source": [], 
      "outputs": [], 
      "metadata": {
        "collapsed": true
      }
    }, 
    {
      "execution_count": null, 
      "cell_type": "code", 
      "source": [], 
      "outputs": [], 
      "metadata": {
        "collapsed": true
      }
    }, 
    {
      "source": "### In which months do films with Judi Dench tend to be released in the USA?", 
      "cell_type": "markdown", 
      "metadata": {
        "collapsed": true
      }
    }, 
    {
      "execution_count": null, 
      "cell_type": "code", 
      "source": [], 
      "outputs": [], 
      "metadata": {
        "collapsed": true
      }
    }, 
    {
      "execution_count": null, 
      "cell_type": "code", 
      "source": [], 
      "outputs": [], 
      "metadata": {
        "collapsed": true
      }
    }, 
    {
      "source": "### In which months do films with Tom Cruise tend to be released in the USA?", 
      "cell_type": "markdown", 
      "metadata": {
        "collapsed": true
      }
    }, 
    {
      "execution_count": null, 
      "cell_type": "code", 
      "source": [], 
      "outputs": [], 
      "metadata": {
        "collapsed": true
      }
    }, 
    {
      "execution_count": null, 
      "cell_type": "code", 
      "source": [], 
      "outputs": [], 
      "metadata": {
        "collapsed": true
      }
    }
  ], 
  "metadata": {
    "kernelspec": {
      "display_name": "Python 3", 
      "name": "python3", 
      "language": "python"
    }, 
    "language_info": {
      "mimetype": "text/x-python", 
      "nbconvert_exporter": "python", 
      "name": "python", 
      "file_extension": ".py", 
      "version": "3.4.3", 
      "pygments_lexer": "ipython3", 
      "codemirror_mode": {
        "version": 3, 
        "name": "ipython"
      }
    }
  }
}