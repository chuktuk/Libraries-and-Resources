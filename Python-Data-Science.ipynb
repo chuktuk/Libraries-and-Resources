{
 "cells": [
  {
   "cell_type": "markdown",
   "metadata": {},
   "source": [
    "# Python for Data Science\n",
    "#### See 'Python Library.docx' for additional info"
   ]
  },
  {
   "cell_type": "code",
   "execution_count": 1,
   "metadata": {},
   "outputs": [],
   "source": [
    "# import math module as m\n",
    "import math as m\n",
    "\n",
    "# import copy module\n",
    "import copy\n",
    "\n",
    "# import collections module or just the Counter type\n",
    "# from collections import Counter\n",
    "import collections\n",
    "\n",
    "# import datetime data type from datetime module\n",
    "from datetime import datetime\n",
    "\n",
    "# import timezone object from pytz\n",
    "from pytz import timezone\n",
    "\n",
    "# import timedelta from datetime\n",
    "from datetime import timedelta\n",
    "\n",
    "# import pendulum\n",
    "import pendulum\n",
    "\n",
    "# import numpy as np\n",
    "import numpy as np\n",
    "\n",
    "# import pandas as pd\n",
    "import pandas as pd\n",
    "\n",
    "# import random module\n",
    "import random\n",
    "\n",
    "# import sql alchemy db engine\n",
    "from sqlalchemy import create_engine\n",
    "\n",
    "# import the necessary functions from the urllib.request package\n",
    "from urllib.request import urlretrieve, urlopen, Request\n",
    "\n",
    "# import requests for url requests\n",
    "import requests\n",
    "\n",
    "# import json\n",
    "import json\n",
    "\n",
    "# import glob\n",
    "import glob\n",
    "\n",
    "# import re\n",
    "import re"
   ]
  },
  {
   "cell_type": "markdown",
   "metadata": {},
   "source": [
    "## Functions/Methods\n",
    "- `int(data)` converts data to 'int' (truncates floats)\n",
    "- `float(data)` converts data to 'float'\n",
    "- `str(data)` converts data to string\n",
    "- `max(data)` returns the maximum value\n",
    "    - data could be values separated by commas or a list (see numpy for arrays)\n",
    "- `round(num[, digits])` rounds number to specified digits (not decimal places) or 'int' by default\n",
    "\n",
    "#### Math Module\n",
    "- `import math as m`\n",
    "- `m.pow(num, pow)` raises num to pow (num ** pow)\n",
    "- `m.sqrt(num)` returns the square root of num\n",
    "- `m.ceil(num)` rounds num up\n",
    "- `m.floor(num)` rounds num down\n",
    "- `m.pi` returns pi to 15 decimal places\n",
    "\n",
    "#### String Functions\n",
    "- `str(x)` converts x to a string\n",
    "- `len(str)` returns the length of the supplied string\n",
    "\n",
    "#### String Methods\n",
    "- `.isalpha()` returns 'True' if every char of the string is a letter\n",
    "- `.islower()` returns 'True' if all chars are lower case\n",
    "- `.isupper()` returns 'True' if all chars are upper case\n",
    "- `.isdigit()` returns 'True' if all chars are digits 0-9\n",
    "- `.startswith(str)` returns 'True' if the object string starts with the supplied string\n",
    "- `.endswith(str)` returns 'True' if the object string ends with the supplied string\n",
    "- `.lower()` and `.upper()` covert all chars to lower case and upper case respectively\n",
    "- `.title()` will capitalize the first letter of ALL words\n",
    "- `.lstrip()` and `.rstrip()` will strip whitespace from the left and right sides respectively\n",
    "- `.strip()` will strip whitespace from both sides of a string\n",
    "- `.ljust(width)` left justifies the string with added whitespace to fill the supplied width\n",
    "- `.rjust(width)` like ljust, but right justifies\n",
    "- `.center(width)` same as the justified methods, but centers the string\n",
    "- `.find(str[, start][, end])` searches the object string for the supplied string\n",
    "    - can specify optional `start` and `end` index values\n",
    "- `.replace(old, new[, num])` replaces occurrences of old string with new string in the object string\n",
    "    - can specify optional `num` number of occurrences to replace\n",
    "- `.split([delimiter][, num])` splits the string into substrings at each delimiter\n",
    "    - default `delimiter` is any whitespace\n",
    "    - can supply optional `num` number of occurrences to split\n",
    "- `.join(sequence)` uses the object string as a delimiter to concat the list supplied as the `sequence` into a string\n",
    "    - works on a list, or will delimit chars of a string if a string is supplied as the `sequence`\n",
    "    - `', '.join(names)` would join a list of names delimited by ', '"
   ]
  },
  {
   "cell_type": "markdown",
   "metadata": {},
   "source": [
    "## Simultaneous State Updates\n",
    "- Use when doing recursive type functions or functions that update variables\n",
    "    - this way you can update all variables simultaneously and not mix updated vs. old variables\n",
    "    - syntax is like tuple unpacking, perform the function, then unpack the variable\n",
    "    ```python\n",
    "    x, y, dx, dy = (x + dx * t,\n",
    "                    y + dy * t,\n",
    "                    influence(m, x, y, dx, dy, partial='x'),\n",
    "                    influence(m, x, y, dx, dy, partial='y'))\n",
    "    ```\n",
    "    - this code will run all equations prior to updating the variable, then update all at once"
   ]
  },
  {
   "cell_type": "markdown",
   "metadata": {},
   "source": [
    "## Lists\n",
    "#### List Comprehensions\n",
    "- Process lists without using for loops and increases efficiency by saving memory and time\n",
    "- Works like any iterable\n",
    "- `new_list = [var_statement for var in old_list]`\n",
    "    - `var_statement` is your calculation or code to execute for each list item\n",
    "    - `var_statement` should reference `var` which is assigned by you and represents each element\n",
    "    - `old_list` is the original list\n",
    "- `new_list = [statement_with_var1_var2 for var1 in list1 for var2 in list2]`\n",
    "    - nested syntax\n",
    "- `statement` is something to return\n",
    "    - () would return a tuple\n",
    "    - [] would return a list\n",
    "    - can also do arithmetic or other math-like-stuff\n",
    "\n",
    "#### List Operations to Remember\n",
    "- Slicing\n",
    "    - `list[start:end:step]` just like with numpy arrays\n",
    "    - if start or stop is blank, starts at the beginning or goes to the end respectively\n",
    "    - default step is 1\n",
    "- Creating a Deep Copy\n",
    "    - `copy.deepcopy(list)` outputs a copy of a list, not just another reference to it\n",
    "- `len(list)`, `min(list)`, and `max(list)` all perform as expected\n",
    "- Sorting\n",
    "    - `sorted(list[, key=function])`\n",
    "        - **returns a new list** sorted, with optional function to run before sorting\n",
    "            - option function like `key=str.lower` does not affect values, just sort behavior\n",
    "            - see .sort() method for rearranging a list\n",
    "    - `list.sort([key=function])`\n",
    "        - **modifies the current list** and sorts, based on optional function\n",
    "        - default sort order in all cases is 0-9, A-Z, a-z\n",
    "- Other list functions using `random` module\n",
    "    - `random.choice(list)` returns a randomly selected item from the list\n",
    "    - `random.shuffle(list)` shuffles the items randomly\n",
    "- List methods\n",
    "    - `list.append(item)` adds item to the end of a list\n",
    "    - `list.remove(item)` removes item from the list\n",
    "    - `list.index(item)` returns the index for the item\n",
    "    - `list.pop([index])` removes and returns item at specified index (or last item by default)\n",
    "    - `list.count(item)` returns the number of occurrences of item in list or 0 if none\n",
    "    - `list.reverse()` reverses the order of items in the list"
   ]
  },
  {
   "cell_type": "markdown",
   "metadata": {},
   "source": [
    "## Dictionaries\n",
    "- Checking if a key exists\n",
    "    - `if 'key' in dictionary:`\n",
    "    - if they key is an index value, do not put in quotes\n",
    "- Creating a dictionary from two lists\n",
    "    - `dictioncary = dict(izip(key_list, value_list))`\n",
    "    - `izip` saves memory over `zip`\n",
    "- Deleting items\n",
    "    - `del dictionary[key]`\n",
    "        - throws an error if 'key' does not exist\n",
    "    - `dictionary.pop[key[, default_value]]`\n",
    "        - returns the popped (deleted) value, and can return a 'default_value'\n",
    "    - `dictionary.clear()` deletes all dictionary items\n",
    "- `dictionary.get(key[, default_value])`\n",
    "    - returns the value associated with key, or default_value if specified and key doesn't exist\n",
    "    - works like `dictionary[key]` except you can specify default value\n",
    "    - returns 'None' if the key does not exist or the default value provided\n",
    "- `dictionary.keys()`\n",
    "    - returns a view object of all the keys (**default iterator for a dictionary**)\n",
    "- `dictionary.items()`\n",
    "    - returns a view object containing a tuple of each key/value pair\n",
    "    - use `.iteritems()` if you want to iterate over the key/value pairs\n",
    "        - only in python 2, gone from python 3\n",
    "- `dictionary.values()`\n",
    "    - returns a view object containing all of the values\n",
    "- `dictionary[key].update(list_or_tuple)`\n",
    "    - will add a list or tuple under the specified key (key should be new, or it will change/update that key\n",
    "- `print(list(dictionary.items())[:num])`\n",
    "    - lets you slice the dictionary to only print `num` number of items\n",
    "\n",
    "#### Looping Through Dictionaries\n",
    "- More information below in looping section\n",
    "- Need an iterator obtained using the `.keys()`, `.items()`, or `.values()` methods\n",
    "    - can supply the `iter()` function around the dictionary to use an iterable object\n",
    "        - uses less memory and speeds up code\n",
    "- `for key in dictionary.keys():`\n",
    "    - `statements with dictionary[key]`\n",
    "- `for key, value in dictionary.items():`\n",
    "    - `statements using key and value`\n",
    "- `for value in dictionary.values()`\n",
    "    - `statements using value\n",
    "    \n",
    "#### Creating a Dictionary with Histogram Counts of List Values\n",
    "- Problem: how many times does a value appear in a list?\n",
    "    - Solution: turn it into a dictionary with values as keys and their counts as values\n",
    "        ```python\n",
    "        # assumes a list called values\n",
    "    \n",
    "        d = {}\n",
    "        for value in values:\n",
    "            d[value] = d.get(value, 0) + 1\n",
    "            \n",
    "        # resulting dictionary holds each key once and records it number of occurences in 'values'\n",
    "        ```\n",
    "    - Solution 2: use defaultdict from the collections module, see below\n",
    "    \n",
    "#### Grouping a List Using Dictionaries\n",
    "- Solution 1:\n",
    "    - I want to take a list and group values by some measure into a dictionary\n",
    "        ```python\n",
    "        \"\"\" Take a list of names and put them in a dictionary.\n",
    "        \n",
    "        This dictionary will have name length as keys.\n",
    "        All names of that length will be assigned to that key.\n",
    "        \"\"\"\n",
    "\n",
    "        d = {}\n",
    "        for name in names:\n",
    "            key = len(name)\n",
    "            if key not in d:\n",
    "                d[key] = []\n",
    "            d[key].append(name)\n",
    "        ```\n",
    "    - Change the 'key' line to group by something different<br><br>\n",
    "- Solution 2 (better):\n",
    "    ```python\n",
    "    d = {}\n",
    "    for name in names:\n",
    "        key = len(name)\n",
    "        d.setdefault(key, []).append(name)\n",
    "    ```\n",
    "- Solution 3 (best, use defaultdict from the collections module):\n",
    "    ```python\n",
    "    from collections import defaultdict\n",
    "    \n",
    "    d = defaultdict(list)\n",
    "    for name in names:\n",
    "        key = len(name)\n",
    "        d[key].append(name)\n",
    "    ```"
   ]
  },
  {
   "cell_type": "markdown",
   "metadata": {},
   "source": [
    "## Sets\n",
    "- Sets\n",
    "    - Are similar to lists\n",
    "    - Contain only distinct values\n",
    "    - Are unordered\n",
    "    - Are mutable\n",
    "    - Are usually created from lists\n",
    "- Creating a set\n",
    "    - `set(list_name)` creates a set from a list\n",
    "        - the set will only contain the unique values from the list\n",
    "    - `set()` creates an empty set\n",
    "- Methods of sets\n",
    "    - `.add(value)` only adds the value if it doesn't exist in the set, if it does, nothing happens\n",
    "    - `.update(list_or_set)` accepts a list/set and merges the two together\n",
    "    - `.discard(value)` removes the item specified by *value* from the set, nothing happens if value is not found\n",
    "    - `.pop(key)` removes the item at the index provided, throws a key error if the key doesn't exist\n",
    "    - `.union(set2)` accepts a second set as an arg, and returns all of the unique values from the two sets\n",
    "    - `.intersection(set2)` accepts a second set as an arg, and only returns values found in both sets\n",
    "    - `.difference(set2)` returns the values from set1 that aren't in set2"
   ]
  },
  {
   "cell_type": "markdown",
   "metadata": {},
   "source": [
    "## Collections Module\n",
    "#### Basics\n",
    "- Need to `import collections` or its sub packages `from collections import subpackage`\n",
    "    - Subpackages\n",
    "        - `Counter`\n",
    "            - `counter_object = collections.Counter()`\n",
    "                - creates an empty counter object\n",
    "            - `counter_object = collections.Counter(dictionary)`\n",
    "                - returns a counter object with each unique value as a key, and the number of occurrences as the value\n",
    "            - counter object is similar to a dictionary\n",
    "            - basically returns a dictionary histogram of your data\n",
    "            - `counter_object[key]` will return the hist value for the specified key\n",
    "            - `counter_object.most_common(num)` will return the `num` of most common records in descending order\n",
    "        - `defaultdict`\n",
    "            - `dfdict_object = collections.defaultdict(list)` \n",
    "                - pass the function a default data type that each key will have even if it doesn't exit\n",
    "                    - useful for looping\n",
    "                - use to count the number of occurrences in a list\n",
    "                    ```python\n",
    "                       store_counts = collections.defaultdict(int)\n",
    "                       for item in my_list:\n",
    "                           store_counts[item] += 1\n",
    "                    ```\n",
    "                - use to count the number of key occurrences in a dictionary\n",
    "                    - `store_counts = collections.defaultdict(int)` create a place to store the counts\n",
    "                    - `for item in dictionary:` \n",
    "                        - `if item.get('key1'):`\n",
    "                            - `store_counts['key1'] += 1`\n",
    "                        - `if item.get('key2'):`\n",
    "                            - `store_counts['key2'] += 1`\n",
    "                    - this might work better to store the keys in a list first and use the previous method\n",
    "                        ```python\n",
    "                        store_counts = defaultdict(int)\n",
    "\n",
    "                        d_keys = list(dictionary.keys())\n",
    "                        for item in d_keys:\n",
    "                            store_counts[item] += 1\n",
    "                        ```\n",
    "                    - when finished looping, `store_counts` will store these counts\n",
    "                    - `print(store_counts)` will show each 'key' and its counts\n",
    "                - can also always convert the parts of a dictionary to a list, and use the list method\n",
    "                    - `key_list = dictionary.keys()` then use the list method\n",
    "                    - `value_list = dictionary.values()` then use the list method\n",
    "                - group list objects together by a 'key' function you specify\n",
    "                    - group each 'name' from a list 'names' by the length, with the length as the key\n",
    "                        ```python\n",
    "                        from collections import defaultdict\n",
    "\n",
    "                        d = defaultdict(list)\n",
    "                        for name in names:\n",
    "                            key = len(name)\n",
    "                            d[key].append(name)\n",
    "                        ```\n",
    "        - `OrderedDict`\n",
    "            - `ord_dict = collections.OrderedDict()`\n",
    "            - creates an ordered dictionary (standard dict vs. Python 3.6 and higher, but not before then)\n",
    "            - use `.popitem()` on an ordered dictionary to remove the last item and return it\n",
    "            - add the `last=False` argument to remove the first item\n",
    "        - `namedtuple`\n",
    "            - Alternative to a dictionary or pandas df\n",
    "            - See examples below for syntax using a constructor and without a constructor\n",
    "            - Using a constructor:\n",
    "                - `MyTuple = collections.namedtuple('MyTuple', field_list)`\n",
    "                - where `field_list` is a list of strings that name your fields\n",
    "                - works like defining and creating an object\n",
    "                    - `MyTuple()` is now a constructor\n",
    "            - in an instance of a named tuple\n",
    "                - each 'field' of the named tuple is available as an attribute\n",
    "                    - `result.field1` to access the value\n",
    "                - slicing an instace to get rows `result[:num]` no list conversion needed\n",
    "        - `deque(list)`\n",
    "            - will change the data structure of a list to allow faster deletes, pops, and appends at either end\n",
    "            - use with `del list_name[0]`, `list_name.popleft()`, `list_name.appendleft()`\n",
    "                - when used with `deque`, the code performance is much faster\n",
    "        - See 'ChainMap' for joining dictionaries"
   ]
  },
  {
   "cell_type": "code",
   "execution_count": 2,
   "metadata": {},
   "outputs": [
    {
     "name": "stdout",
     "output_type": "stream",
     "text": [
      "Named Tuple Using No Constructor:\n",
      "ATuple(bigkey1={'field1': 'value1', 'field2': 'value3', 'field3': 3}, bigkey2={'field1': 'value4', 'field2': 'value5', 'field3': 6})\n",
      "\n",
      "bigkey2 value from field2:  value5\n",
      "\n",
      "Named Tuple Using a Constructor:\n",
      "MyTuple(bigkey1={'field1': 'value1', 'field2': 'value3', 'field3': 3}, bigkey2={'field1': 'value4', 'field2': 'value5', 'field3': 6})\n",
      "\n",
      "bigkey1 value from field3:  3\n"
     ]
    }
   ],
   "source": [
    "# named tuple example converting from a dictionary directly without a constructor\n",
    "my_dict = {'bigkey1': {'field1': 'value1', 'field2': 'value3', 'field3': 3}, \n",
    "         'bigkey2': {'field1': 'value4', 'field2': 'value5', 'field3': 6}}\n",
    "my_tuple = collections.namedtuple('ATuple', my_dict.keys())(*my_dict.values())\n",
    "print('Named Tuple Using No Constructor:')\n",
    "print(my_tuple)\n",
    "print()\n",
    "print('bigkey2 value from field2: ', my_tuple.bigkey2['field2'])\n",
    "print()\n",
    "\n",
    "# using a constructor\n",
    "MyTuple = collections.namedtuple('MyTuple', ' '.join(sorted(my_dict.keys())))\n",
    "my_tuple2 = MyTuple(**my_dict)\n",
    "print('Named Tuple Using a Constructor:')\n",
    "print(my_tuple2)\n",
    "print()\n",
    "print('bigkey1 value from field3: ', my_tuple2.bigkey1['field3'])"
   ]
  },
  {
   "cell_type": "markdown",
   "metadata": {},
   "source": [
    "## Dates and Times\n",
    "#### datetime Module\n",
    "- Need to `import datetime` or datetime type `from datetime import datetime`\n",
    "- Create a datetime object for 'now' based on system time on your machine\n",
    "    - `now = datetime.now()`\n",
    "    - `now_utc = datetime.utcnow()` sets the time in utc timezone\n",
    "- Timzones, naive, and aware datetimes\n",
    "    - Use the 'pytz' module and 'timezone' object\n",
    "        - `from pytz import timezone`\n",
    "    - Naive datetimes have no info on timezone\n",
    "    - Aware datetimes have timezones attached to them\n",
    "    - Examples:\n",
    "        - create or get a datetime object `dto` for this example\n",
    "            - this begins as a naive datetime\n",
    "        - set timezone to an object `ny_tz = timezone('US/Eastern')`\n",
    "        - use `.replace()` method to change the timezone setting\n",
    "            - `ny_date = dto.replace(tzinfo=ny_tz)`\n",
    "            - `ny_date` is now an aware datetime\n",
    "        - can convert to other timezones on aware datetimes using `.astimezone(tz)` method\n",
    "            - `la_tz = timezone(US/Pacific)`\n",
    "            - `la_date = ny_date.astimezone(la_tz)`\n",
    "- Convert a string to a datetime\n",
    "    - `dto = datetime.strptime(string, format_string)`\n",
    "    - you supply the 'format_string' as a string using format codes below to format the datetime object\n",
    "- Format Codes\n",
    "    - use the codes plus any delimiters like '/' or '-' to create a format string\n",
    "    - `%d` two digit day\n",
    "    - `%m` two digit month\n",
    "    - `%y` two digit year\n",
    "    - `%Y` four digit year\n",
    "    - `%H` hour as 24 hour\n",
    "    - `%I` hour in 12 hr format, only use to display, not create\n",
    "        - `%p` am/pm specifier\n",
    "    - `%f` microsecond\n",
    "    - `%M` minute\n",
    "    - `%S` second\n",
    "    - `%a` weekday abbr 'Sat'\n",
    "    - `%A` weekday name 'Saturday'\n",
    "    - `%b` month abbr 'Oct'\n",
    "    - `%B` month name 'October'\n",
    "    - `%c` date/time formatted for locale (if set)\n",
    "    - `%x` date formatted for locale\n",
    "    - `%X` time formatted for locale\n",
    "- Convert a datetime to a string with given format\n",
    "    - `string = dto.strftime(format_code)` lets you specify the format\n",
    "    - `string = dto.isoformat()` spits out the string as ISO format 'YYYY-MM-DDTHH:MM:SS'\n",
    "- Adding/Subtracting datetimes\n",
    "    - Use the 'timedelta' object\n",
    "        - `from datetime import timedelta`\n",
    "    - Add/subtract a length of time\n",
    "        - Set a change in time to a timedelta object\n",
    "            - `dt_diff = timedelta(type=value)` sets the type of parameter to the value supplied\n",
    "                - Types\n",
    "                    - days, months, years, minutes etc.\n",
    "        - Perform the operation\n",
    "            - `dt_span = old_dt +/- dt_diff` add/subtract or whatever using the 'timedelta' object created\n",
    "    - Find the difference between two datetimes\n",
    "        - `time_diff = datetime1 - datetime2` this returns a timedelta object\n",
    "        \n",
    "#### Pendulum Module\n",
    "- Need to import\n",
    "    - `import pendulum`\n",
    "- Create a pedulum datetime object for 'now'\n",
    "    - `now_dt = pendulum.now(timezone_string)`\n",
    "- Creating a pendulum datetime object from a string\n",
    "    - `parsed_dt = pendulum.parse(string, tz=timezone_string)`\n",
    "        - where you provide a string containing datetime info and a string with timezone info\n",
    "        - timezone strings are the same as for the datetime module above\n",
    "        - to use datetime, you would have to create a dt object, then alter the timezone in different steps\n",
    "    - if date is not in iso8601 format, add arg `strict=False` to parse the date\n",
    "- Converting a pendulum datetime to another timezone\n",
    "    - `new_dt = old_dt.in_timezone(timezone_string)`\n",
    "- Converting a pendulum datetime to iso string\n",
    "    - `iso_dt = old_dt.to_iso8601_string()`\n",
    "- Differences between datetimes\n",
    "    - `diff = pendulum_time1 - pendulum_time2`\n",
    "        - the `.in_XX()` method will display this difference in a meaningful way\n",
    "            - `in_words()`\n",
    "            - `in_days()`\n",
    "            - `in_hours()`\n",
    "        - Example:\n",
    "            - `print(diff.in_words())` will display this difference in words that makes sense\n",
    "                - 'x days y hours z minutes'"
   ]
  },
  {
   "cell_type": "markdown",
   "metadata": {},
   "source": [
    "## Formatting Numbers as Strings\n",
    "- Used for display or converting numbers to strings\n",
    "- `\"{:format_specification}\".format(data)` formats supplied `data` to `:format_specification`\n",
    "- It is possible to pass mulitple format specifications and multiple data entries/types\n",
    "    - `\"{:form_spec1}{:form_spec2}{form_spec3}\".format(\"str\", float, int)`\n",
    "    - can print grid if doing multiple times using consistent `field_width` in each position\n",
    "- format_sepcification is comprised of:\n",
    "    - `[field_width][,][.decimal_places][type_code]`\n",
    "    - `field_width` is specified in pixels as 'int'\n",
    "        - by default, strings are justified left and numbers justified right\n",
    "        - add `>` or `<` just before pixels to specify 'right' and 'left' justified\n",
    "    - `,` specifies whether large numbers use commas\n",
    "    - `.decimal_places` dot with number of decimal places to include\n",
    "    - `type_code` specifies data type\n",
    "        - `d` integer (decimals can't be specified)\n",
    "        - `f` float (will round to specified decimal places)\n",
    "        - `%` percent (supply decimal, it multiplies by 100 and adds '%'\n",
    "        - `e` converted to scientific notation"
   ]
  },
  {
   "cell_type": "code",
   "execution_count": 3,
   "metadata": {},
   "outputs": [
    {
     "name": "stdout",
     "output_type": "stream",
     "text": [
      "item              price     qty\n",
      "hammer             9.99      11\n",
      "nails              1.99      24\n"
     ]
    }
   ],
   "source": [
    "# format grid example\n",
    "heads = [\"item\", \"price\", \"qty\"]\n",
    "x = [\"hammer\", 9.99, 11]\n",
    "y = [\"nails\", 1.99, 24]\n",
    "print(\"{:15}{:>8}{:>8}\".format(heads[0], heads[1], heads[2]))\n",
    "print(\"{:15}{:8.2f}{:8d}\".format(x[0], x[1], x[2]))\n",
    "print(\"{:15}{:8.2f}{:8d}\".format(y[0], y[1], y[2]))"
   ]
  },
  {
   "cell_type": "markdown",
   "metadata": {},
   "source": [
    "## Program Structure\n",
    "#### Shebang\n",
    "- `#!/usr/bin/env python3`\n",
    "    - first line of a .py file\n",
    "    - ignored by Windows but used by Unix-like systems to use correct interpreter\n",
    "\n",
    "#### Three-Tier Approach\n",
    "- Good practice when writing a program to use three tier approach\n",
    "- Main function\n",
    "    - starts an application, but is defined last\n",
    "    - `def main:` with code to execute the app\n",
    "    - `if __name__ == '__main__':\n",
    "        - `main()`\n",
    "- UI Tier\n",
    "    - User interface\n",
    "    - Contains the `__main__` function\n",
    "    - Console app is usually procedural code vs GUI which is object-oriented\n",
    "- Business or Object Tier\n",
    "    - Processing tier\n",
    "    - OOP to work with classes/objects and data from a database\n",
    "- Database Tier\n",
    "    - Provide database access"
   ]
  },
  {
   "cell_type": "markdown",
   "metadata": {},
   "source": [
    "## Iterables and Looping\n",
    "#### Iterators and Iterables\n",
    "- Iterator is any object with an `iter()` method\n",
    "    - lists, strings, dictionaries, etc.\n",
    "    - using `iter()` around any iterable object can improve performance\n",
    "    - Use `next()` to iterate through the object\n",
    "    - Access all (remaining) values at once using `next(*var)`"
   ]
  },
  {
   "cell_type": "code",
   "execution_count": 4,
   "metadata": {},
   "outputs": [
    {
     "name": "stdout",
     "output_type": "stream",
     "text": [
      "1\n",
      "2\n",
      "[3, 4, 5, 6]\n"
     ]
    }
   ],
   "source": [
    "# create the iterable object\n",
    "# use next to iterate\n",
    "# throws StopIteration Error when out of values\n",
    "var = iter([1, 2, 3, 4, 5, 6])\n",
    "print(next(var))\n",
    "print(next(var))\n",
    "print([next(var), next(var), next(var), next(var)])\n",
    "# print(next(var)) # throws exception because out of values!"
   ]
  },
  {
   "cell_type": "markdown",
   "metadata": {},
   "source": [
    "#### Zip and iZip Objects\n",
    "- `izip` will save memory over using `zip`\n",
    "    - use `izip` whenever possible\n",
    "- `zip(iterables)` iterables separated by commas\n",
    "    - zipping will take two or more iterables (such as lists) and stitch them together\n",
    "    - it matches values at the same index and combines into a tuple\n",
    "        - you end up with a zip object containing tuples\n",
    "        - the tuple at index 0 contains all of the index 0 values\n",
    "    - convert to a list using `list(zip_obj)`\n",
    "    - convert to a dictionary using `dict(zip_obj)`"
   ]
  },
  {
   "cell_type": "markdown",
   "metadata": {},
   "source": [
    "#### Iterating Through a File\n",
    "- `with open('file.txt') as file:`\n",
    "    - `it = iter(file)`\n",
    "    - `print(next(it))` print the next line of the file\n",
    "- Pandas Jupyter Notebook file has more on working with files"
   ]
  },
  {
   "cell_type": "markdown",
   "metadata": {},
   "source": [
    "#### While Loops\n",
    "- Will run as long as the condition is True, until a `return` is executed\n",
    "- See examples"
   ]
  },
  {
   "cell_type": "code",
   "execution_count": 5,
   "metadata": {},
   "outputs": [
    {
     "name": "stdout",
     "output_type": "stream",
     "text": [
      "[0, 1, 2, 3, 4, 5, 6, 7, 8, 9, 10]\n"
     ]
    }
   ],
   "source": [
    "# will run until conditional is no longer true\n",
    "mylist = []\n",
    "i = 0\n",
    "while len(mylist) < 11:\n",
    "    mylist.append(i)\n",
    "    i += 1\n",
    "print(mylist)"
   ]
  },
  {
   "cell_type": "code",
   "execution_count": 6,
   "metadata": {
    "scrolled": true
   },
   "outputs": [
    {
     "name": "stdout",
     "output_type": "stream",
     "text": [
      "You win!\n",
      "Bye!\n"
     ]
    }
   ],
   "source": [
    "# will run until '4' is entered\n",
    "num = 4\n",
    "inp = 4 # comment this line out and uncomment input line to run\n",
    "while True:\n",
    "    # inp = input(\"Guess a number between 1 and 5: \")\n",
    "    if int(inp) == num:\n",
    "        print(\"You win!\")\n",
    "        print(\"Bye!\")\n",
    "        break\n",
    "    elif int(inp) != num:\n",
    "        print(\"Guess again!\")"
   ]
  },
  {
   "cell_type": "markdown",
   "metadata": {},
   "source": [
    "#### For Loops \n",
    "- **Note:**\n",
    "    - When iterating, performance can be improved by wrapping iterable in `iter()`\n",
    "- `for i in range(data):`\n",
    "    - followed by statements\n",
    "    - can use `range(data)` to specify a number of times\n",
    "    - use `xrange(data)` for very large sets in Python 2\n",
    "        - `xrange` no longer exists in Python 3\n",
    "- Looping backwards\n",
    "    - `for i in reversed(range):`\n",
    "    - `for i in sorted(data, reversed=True):`\n",
    "        - when you need to sort the data backwards\n",
    "- Lists    \n",
    "    - General Syntax    \n",
    "        - `for i in list:` to loop through each list item\n",
    "    - **Enumerating a list**\n",
    "        - lets you access the index of each list value\n",
    "        - `for index, var in enumerate(list):`\n",
    "            - can also use `en_obj = enumerate(list):`\n",
    "                - this object will contain tuples of (index, value) pairs\n",
    "                - can set `start=num` to change 0 indexing\n",
    "    - Sorting a list to loop\n",
    "        - `for i in sorted(list):`\n",
    "            - add optional `reversed=True` arg to sort backwards\n",
    "    - Key functions for custom sorting\n",
    "        - `for i in sorted(list, key=fxn):`\n",
    "            - where 'fxn' is your sort function\n",
    "                - i.e. `len`\n",
    "    - Combining Lists for Looping\n",
    "        - use `izip` instead of `zip` to combine lists for looping\n",
    "        - `izip` is an iterator that won't waste memory like `zip` when used in a loop\n",
    "- Dictionaries\n",
    "    - `for key, value in dictionary.items():` to work with keys and values\n",
    "        - makes a big long list to go through\n",
    "    - `for key in dictionary:` to work with just the keys\n",
    "        - or can use `for key in dictionary.keys():`\n",
    "        - this way is necessary if you want to edit/mutate the keys\n",
    "    - `for value in dictionary.values():` to just wokr with the values\n",
    "- Call a function until a sentinel value\n",
    "    - a sentinel value is one that signifies the end of a loop\n",
    "    - `for i in iter(partial(f.read, 32), ''):`\n",
    "        - assumes a file stored in 'f', reading the file 32 bytes at a time\n",
    "- Can add an `else:` statement at the end to run immediately after the loop is finished\n",
    "    - would add this before a final return/yield statment\n",
    "    - Example to return the index of a value if in a list, otherwise return -1:\n",
    "        ```python\n",
    "        def find(seq, trg):\n",
    "            for i, value in enumerate(seq):\n",
    "                if value == trg:\n",
    "                    break\n",
    "                else:\n",
    "                    return -1\n",
    "                return i\n",
    "        ```"
   ]
  },
  {
   "cell_type": "markdown",
   "metadata": {},
   "source": [
    "#### List Comprehensions\n",
    "- List processing without using a \"for loop\"\n",
    "    - Use a **generator** (see below) if possible for improved performance\n",
    "- Works with **any iterable**\n",
    "- Syntax\n",
    "    - `new_list = [output_expression for iterator_var in iterable]`\n",
    "        - `output_expression` itself can be a list comprehension"
   ]
  },
  {
   "cell_type": "code",
   "execution_count": 7,
   "metadata": {},
   "outputs": [
    {
     "name": "stdout",
     "output_type": "stream",
     "text": [
      "[0, 1, 2, 3, 4, 5, 6, 7, 8, 9]\n",
      "[0, 1, 4, 9, 16, 25, 36, 49, 64, 81]\n"
     ]
    }
   ],
   "source": [
    "# simple list comprehensions\n",
    "nums = [num for num in range(10)] # populate a list\n",
    "print(nums)\n",
    "nums_squared = [num ** 2 for num in nums] # perform arithmetic on a list\n",
    "print(nums_squared)"
   ]
  },
  {
   "cell_type": "code",
   "execution_count": 8,
   "metadata": {},
   "outputs": [
    {
     "name": "stdout",
     "output_type": "stream",
     "text": [
      "[[0, 1, 2, 3, 4], [0, 1, 2, 3, 4], [0, 1, 2, 3, 4], [0, 1, 2, 3, 4], [0, 1, 2, 3, 4]]\n",
      "[[0 1 2 3 4]\n",
      " [0 1 2 3 4]\n",
      " [0 1 2 3 4]\n",
      " [0 1 2 3 4]\n",
      " [0 1 2 3 4]]\n"
     ]
    }
   ],
   "source": [
    "# nested list comprehension to create a 5x5 matrix\n",
    "# unformatted, so right now is list of lists\n",
    "# can convert to numpy array\n",
    "matrix = [[col for col in range(0,5)] for row in range(0,5)]\n",
    "print(matrix)\n",
    "# convert to numpy array\n",
    "np_matrix = np.array(matrix)\n",
    "print(np_matrix)"
   ]
  },
  {
   "cell_type": "code",
   "execution_count": 9,
   "metadata": {},
   "outputs": [
    {
     "name": "stdout",
     "output_type": "stream",
     "text": [
      "[(0, 4), (0, 5), (0, 6), (1, 4), (1, 5), (1, 6), (2, 4), (2, 5), (2, 6)]\n"
     ]
    }
   ],
   "source": [
    "# nested list comprehension for combining every possibility\n",
    "poss_tuples = [(num1, num2) for num1 in range(0, 3) for num2 in range(4, 7)]\n",
    "print(poss_tuples)"
   ]
  },
  {
   "cell_type": "markdown",
   "metadata": {},
   "source": [
    "- Conditionals with list comprehensions\n",
    "    - can be placed on the output expression or the iterable"
   ]
  },
  {
   "cell_type": "code",
   "execution_count": 10,
   "metadata": {},
   "outputs": [
    {
     "name": "stdout",
     "output_type": "stream",
     "text": [
      "[0, 4, 16, 36, 64, 100]\n"
     ]
    }
   ],
   "source": [
    "# list comprehension with conditional on the iterable\n",
    "# square only the even numbers in this range\n",
    "even_squares = [num ** 2 for num in range(11) if num % 2 == 0]\n",
    "print(even_squares)"
   ]
  },
  {
   "cell_type": "code",
   "execution_count": 11,
   "metadata": {},
   "outputs": [
    {
     "name": "stdout",
     "output_type": "stream",
     "text": [
      "[0, 0, 6, 0, 12, 0, 18, 0, 24, 0, 30]\n"
     ]
    }
   ],
   "source": [
    "# list comprehension with conditional on the output expression\n",
    "# code doesn't run without the 'else' statement\n",
    "# output is a '0' for every odd num\n",
    "result = [num * 3 if num % 2 == 0 else 0 for num in range(11)]\n",
    "print(result)"
   ]
  },
  {
   "cell_type": "markdown",
   "metadata": {},
   "source": [
    "- Dictionary Comprehenions\n",
    "    - use `{}` instead of `[]`\n",
    "    - use `.items()` on the dictionary\n",
    "    - separate key/value pairs with colon `key: value`"
   ]
  },
  {
   "cell_type": "code",
   "execution_count": 12,
   "metadata": {},
   "outputs": [
    {
     "name": "stdout",
     "output_type": "stream",
     "text": [
      "{'a': 2, 'b': 4, 'c': 6, 'd': 8}\n"
     ]
    }
   ],
   "source": [
    "# dictionary comprehension\n",
    "# use .items()\n",
    "my_dict = {'a': 1, 'b': 2, 'c': 3, 'd': 4}\n",
    "doubles = {key:value*2 for (key, value) in my_dict.items()}\n",
    "print(doubles)"
   ]
  },
  {
   "cell_type": "markdown",
   "metadata": {},
   "source": [
    "#### Generators\n",
    "- \"Lazy Evaluation\"\n",
    "    - data aren't stored in memory and only called on when needed\n",
    "    - saves memory when using very large amounts of data\n",
    "- Syntax\n",
    "    - like a list comprehension but use `()` instead of `[]`\n",
    "- Creates a generator object, which is an iterable\n",
    "    - these types of objects can only be iterated through once before throwing an exception"
   ]
  },
  {
   "cell_type": "code",
   "execution_count": 13,
   "metadata": {},
   "outputs": [
    {
     "name": "stdout",
     "output_type": "stream",
     "text": [
      "2\n",
      "4\n"
     ]
    }
   ],
   "source": [
    "# create a huge generator object of only even numbers\n",
    "# the numbers are not stored in memory, and are only generated when called\n",
    "# generate a huge generator object containing even values\n",
    "gen_obj = (num for num in range(1, 10 ** 1000000) if num % 2 == 0)\n",
    "print(next(gen_obj))\n",
    "print(next(gen_obj))"
   ]
  },
  {
   "cell_type": "markdown",
   "metadata": {},
   "source": [
    "- Generator functions\n",
    "    - use `yield` rather than `return`\n",
    "    - when called and stored in a var, creates a generator object"
   ]
  },
  {
   "cell_type": "code",
   "execution_count": 14,
   "metadata": {},
   "outputs": [
    {
     "name": "stdout",
     "output_type": "stream",
     "text": [
      "0\n",
      "1\n",
      "2\n"
     ]
    }
   ],
   "source": [
    "# generator function to create an object of specified size\n",
    "def gen(n):\n",
    "    \"\"\"Generate values from 0 to n\"\"\"\n",
    "    i = 0\n",
    "    while i < n:\n",
    "        yield i\n",
    "        i += 1\n",
    "big_obj = gen(100000000000000)\n",
    "print(next(big_obj))\n",
    "print(next(big_obj))\n",
    "print(next(big_obj))"
   ]
  },
  {
   "cell_type": "code",
   "execution_count": 15,
   "metadata": {},
   "outputs": [
    {
     "name": "stdout",
     "output_type": "stream",
     "text": [
      "285\n"
     ]
    }
   ],
   "source": [
    "# generator comprehension within a function\n",
    "print(sum(i**2 for i in range(10)))"
   ]
  },
  {
   "cell_type": "markdown",
   "metadata": {},
   "source": [
    "## Functions\n",
    "#### Special Info for args and kwargs\n",
    "- `*args`\n",
    "    - use the `*` modifier before the temp name of a tuple often 'args'\n",
    "    - unpack this tuple in the function"
   ]
  },
  {
   "cell_type": "code",
   "execution_count": 16,
   "metadata": {},
   "outputs": [
    {
     "name": "stdout",
     "output_type": "stream",
     "text": [
      "[5, 6, 'seven', 4.5]\n"
     ]
    }
   ],
   "source": [
    "# *args example\n",
    "def args_func(*args):\n",
    "    \"\"\"returns your list of args\"\"\"\n",
    "    list_of_args = []\n",
    "    for arg in args:\n",
    "        list_of_args.append(arg)\n",
    "    return list_of_args\n",
    "example = args_func(5, 6, 'seven', 4.5)\n",
    "print(example)"
   ]
  },
  {
   "cell_type": "markdown",
   "metadata": {},
   "source": [
    "- `**kwargs`\n",
    "    - use the `**` modifier before the temp name of a dictionary often 'kwargs'\n",
    "    - use `kwargs.items()` in your code to acces keys and values\n",
    "    - allows the use of named args"
   ]
  },
  {
   "cell_type": "code",
   "execution_count": 17,
   "metadata": {},
   "outputs": [
    {
     "name": "stdout",
     "output_type": "stream",
     "text": [
      "{'name': 'me', 'height': 1.8, 'size': 'XL'}\n"
     ]
    }
   ],
   "source": [
    "# **kwargs example\n",
    "def kwargs_func(**kwargs):\n",
    "    \"\"\"returns your dictionary of kwargs\"\"\"\n",
    "    dict_of_kwargs = {}\n",
    "    for key, value in kwargs.items():\n",
    "        dict_of_kwargs[key] = value\n",
    "    return dict_of_kwargs\n",
    "example2 = kwargs_func(name='me', height=1.8, size='XL') # key names don't need quotes\n",
    "print(example2)"
   ]
  },
  {
   "cell_type": "markdown",
   "metadata": {},
   "source": [
    "## Lambda Functions\n",
    "- Quick and easy way to write a function\n",
    "    - syntax often not entirely clear\n",
    "- Use\n",
    "    - anonymous functions, where function is an arg of another function\n",
    "- Syntax\n",
    "    - `func_name = lambda args: statements`\n",
    "    - can supply 0 or more args"
   ]
  },
  {
   "cell_type": "code",
   "execution_count": 18,
   "metadata": {},
   "outputs": [
    {
     "data": {
      "text/plain": [
       "['wow!!!', 'whoa!!!', 'holy cow!!!']"
      ]
     },
     "execution_count": 18,
     "metadata": {},
     "output_type": "execute_result"
    }
   ],
   "source": [
    "# example using a lambda function for the arg in a 'map' function\n",
    "my_list = ['wow', 'whoa', 'holy cow']\n",
    "result = map(lambda item: item + '!!!', my_list) # item is an arg here, and represents each list item\n",
    "list(result) # print(result) indicates this is a map object, must convert back to a list"
   ]
  },
  {
   "cell_type": "code",
   "execution_count": 19,
   "metadata": {},
   "outputs": [
    {
     "data": {
      "text/plain": [
       "['whoa', 'holy cow']"
      ]
     },
     "execution_count": 19,
     "metadata": {},
     "output_type": "execute_result"
    }
   ],
   "source": [
    "# example using 'filter' function with lambda function as the conditional\n",
    "result2 = filter(lambda item: len(item) > 3, my_list) # filters only items with more than 3 chars\n",
    "list(result2)"
   ]
  },
  {
   "cell_type": "markdown",
   "metadata": {},
   "source": [
    "## Database Interfaces\n",
    "#### See Pandas Library\n",
    "- `df = pd.read_sql_query(\"SELECT * FROM table_name\", engine)\n",
    "    - `engine` is the engine to connect to\n",
    "    - see below for 'Creating an engine'\n",
    "\n",
    "#### SQL Alchemy\n",
    "- Need to import the appropriate package\n",
    "    - `from sqlalchemy import create_engine`\n",
    "- Creating an engine\n",
    "    - `engine = create_engine('sqlite:///db_name.sqlite')\n",
    "        - above syntax `'db_type:///db_name.extension'`\n",
    "- Store table names as a list\n",
    "    - `table_names = engine.table_names()`\n",
    "        - use the `table_names()` method of an engine object\n",
    "    - can `print(table_names)` to view the list contents\n",
    "- Create a database connection object\n",
    "    - necessary to execute queries\n",
    "    - `con = engine.connect()`\n",
    "            - don't forget to close it!\n",
    "    - `with engine.connect() as con:`\n",
    "        - nest all statements requiring a connection inside this with statement to avoid having to close the connection\n",
    "- Create a SQL Alchemy result object\n",
    "    - `rs = con.execute(\"SQL query\")` where \"SQL query\" is any single SQL query\n",
    "- Create a Pandas dataframe from a result object\n",
    "    - `df = pd.DataFrame(rs.fetchall())` to return all rows from the result\n",
    "    - see also\n",
    "        - `rs.fetchmany(size=num)` where you supply the 'num' of rows to fetch\n",
    "- Set the column names\n",
    "    - `df.columns = rs.keys()`\n",
    "- Close the database connection\n",
    "    - `con.close()`\n",
    "    - not necessary when using the `with engine.connect() as con:` strategy"
   ]
  },
  {
   "cell_type": "markdown",
   "metadata": {},
   "source": [
    "## Scraping Data from the Web\n",
    "#### urllib Package\n",
    "- Interface for fetching data from the web\n",
    "- Need to import the appropriate functions\n",
    "    - `from urllib.request import urlretrieve, urlopen, Request`\n",
    "- Store URL in a variable\n",
    "    - `url = 'http://..../filename.csv'`\n",
    "- Use the contents of the url to write to a file\n",
    "    - `urlretrieve(url, 'filename.csv')` \n",
    "    - this saves the file to the local system\n",
    "- Import the data directly to a dataframe without saving to the local system using pandas\n",
    "    - `df = pd.read_csv(url, sep=';')` using the appropriate separator (delimiter)\n",
    "    - `df = pd.read_excel(url, sheetname=none)` can import all sheets 'none' or specify a sheet name\n",
    "        - sheet names are keys to each dataframe\n",
    "- Open URL's\n",
    "    - `urlopen(url)` works like `open()` but accepts urls\n",
    "- Workflow for obtaining the HTML from a website as a string ('Requests' package below is better for this)\n",
    "    - `url = 'http:....'`\n",
    "    - `request = Request(url)`\n",
    "    - `response = urlopen(request)`\n",
    "    - `html = response.read()` gets html from a website as a string\n",
    "    - `response.close()` close the response\n",
    "        - could probably do `with urlopen(request):`\n",
    "\n",
    "#### GET requests using 'Requests' package (great API for making requests)\n",
    "- Great package!\n",
    "- Need to import\n",
    "    - `import requests`\n",
    "- Workflow to GET the html from a website as a string\n",
    "    - `url = 'http:....'`\n",
    "    - `r = requests.get(url)`\n",
    "    - `html = r.text` returns the HTML as a string\n",
    "- See API section below for more info\n",
    "- To create a dictionary when GET request retrieves a json file\n",
    "    - `json_data = r.json()` creates a dictionary when 'url' retrieves a json file\n",
    "\n",
    "#### Beautiful Soup Package to Work with HTML Data\n",
    "- View website for more info https://www.crummy.com/software/BeautifulSoup/\n",
    "- Import it\n",
    "    - `from bs4 import BeautifulSoup`\n",
    "- Scrape data from the web using the 'Requests' package above to get the html as a string\n",
    "- Create a beautiful soup object\n",
    "    - `soup = BeautifulSoup(html)` using the 'html' string object returned from the 'text' attribute above\n",
    "- 'Prettify' the html\n",
    "    - `soup.prettify()` cleans up the html to make it more useful\n",
    "    - view it `print(soup.prettify())`\n",
    "- Methods/Attributes of 'Beautiful Soup' Objects\n",
    "    - `soup.title` access the `<title>` tag\n",
    "    - `soup.get_text()` accesses the text from the page\n",
    "    - `.get(tag)` will access the value of a specified tag\n",
    "        - see use below with `.find_all()` method\n",
    "    - `soup.findall('tag')` will return all of the specified tags (don't wrap the tag, example `a`)\n",
    "        - `for link in soup.find_all('a'): print(link.get('href'))`\n",
    "        - code above will print all of the 'href' values for every 'a' tag"
   ]
  },
  {
   "cell_type": "markdown",
   "metadata": {},
   "source": [
    "## JSON Files\n",
    "#### Loading JSON Files from Local Storage\n",
    "- `import json` to import the package\n",
    "- `with open ('filename.json', 'r') as json_file: json_data = json.load(json_file)`\n",
    "    - this creates the python object `json_data`, which is a dictionary"
   ]
  },
  {
   "cell_type": "markdown",
   "metadata": {},
   "source": [
    "## APIs\n",
    "#### Getting Data Using 'Requests' Package\n",
    "- Import package `import requests`\n",
    "- Assign url `url = 'http://www.....com'`\n",
    "\n",
    "#### Using APIs\n",
    "- View documentation on the API homepage (when availabe)\n",
    "    - info on how to send requests for different queries\n",
    "        - url path for requests\n",
    "        - formatting query string to pass variables requesting specific info\n",
    "        - 'apikey' or other required args for retrieving data\n"
   ]
  },
  {
   "cell_type": "code",
   "execution_count": 20,
   "metadata": {},
   "outputs": [
    {
     "name": "stdout",
     "output_type": "stream",
     "text": [
      "Title:  Hackers\n",
      "Year:  1995\n",
      "Rated:  PG-13\n",
      "Released:  15 Sep 1995\n",
      "Runtime:  107 min\n",
      "Genre:  Comedy, Crime, Drama, Thriller\n",
      "Director:  Iain Softley\n",
      "Writer:  Rafael Moreu\n",
      "Actors:  Jonny Lee Miller, Angelina Jolie, Jesse Bradford, Matthew Lillard\n",
      "Plot:  Hackers are blamed for making a virus that will capsize five oil tankers.\n",
      "Language:  English, Italian, Japanese, Russian\n",
      "Country:  USA\n",
      "Awards:  N/A\n",
      "Poster:  https://m.media-amazon.com/images/M/MV5BNmExMTkyYjItZTg0YS00NWYzLTkwMjItZWJiOWQ2M2ZkYjE4XkEyXkFqcGdeQXVyMTQxNzMzNDI@._V1_SX300.jpg\n",
      "Ratings:  [{'Source': 'Internet Movie Database', 'Value': '6.2/10'}, {'Source': 'Rotten Tomatoes', 'Value': '33%'}, {'Source': 'Metacritic', 'Value': '46/100'}]\n",
      "Metascore:  46\n",
      "imdbRating:  6.2\n",
      "imdbVotes:  62,125\n",
      "imdbID:  tt0113243\n",
      "Type:  movie\n",
      "DVD:  24 Apr 2001\n",
      "BoxOffice:  N/A\n",
      "Production:  MGM\n",
      "Website:  N/A\n",
      "Response:  True\n"
     ]
    }
   ],
   "source": [
    "# import requests\n",
    "# already done\n",
    "\n",
    "# assign url (hackers movie from open movie database API)\n",
    "# see open movie database api documentation http://www.omdbapi.com/\n",
    "url = 'http://www.omdbapi.com/?i=tt3896198&apikey=b90e9eaa&t=hackers'\n",
    "\n",
    "# package and send 'get request'\n",
    "r = requests.get(url)\n",
    "\n",
    "# use .json() decoder method of a response object\n",
    "# saves as a dictionary\n",
    "json_data = r.json()\n",
    "\n",
    "# print out the dictionary\n",
    "for k in json_data.keys():\n",
    "    # print(k + ': ' + str(json_data[k]))\n",
    "        # datatype issue with list vs string\n",
    "        # format by using 'json_data[k]' rather than key, value in for loop\n",
    "        # convert 'values' to strings\n",
    "        # or solve by not trying to concatenate the values to the keys\n",
    "    print(k + ': ', json_data[k])"
   ]
  },
  {
   "cell_type": "markdown",
   "metadata": {},
   "source": [
    "#### Twitter API\n",
    "- Setting up twitter API\n",
    "    - Must have twitter acct to use\n",
    "    - Login to twitter apps and create a new app\n",
    "    - Info needed to access API in 'Keys and Access Tokens' tab\n",
    "- REST API\n",
    "    - For reading/writing twitter data\n",
    "- Streaming API\n",
    "    - Monitor/process tweets in real time\n",
    "- 'Tweepy' is a package for working with Twitter data\n",
    "    - `import tweepy`\n",
    "    - Have to set several things obtained from twitter API 'Keys and Access Tokens'\n",
    "        - `access_token = '...'`\n",
    "        - `access_token_secret = '...'`\n",
    "        - `consumer_key = '...'`\n",
    "        - `consumer_secret = '...'`\n",
    "        - `auth = tweepy.OAuthHandler(consumer_key, consumer_secret)`\n",
    "        - `auth.set_access_token(access_token, access_token_secret)`\n",
    "        - must define a 'twitter stream listener class'\n",
    "    - Create an instance from your class, and authenticate it\n",
    "        - `l = ClassName()`\n",
    "        - `sream = tweepy.Sream(auth, l)` \n",
    "    - Can filter streams to catch data by keywords\n",
    "        - `stream.filter(track=['apples', 'oranges'])`"
   ]
  },
  {
   "cell_type": "markdown",
   "metadata": {},
   "source": [
    "## Cleaning and Combining Data\n",
    "#### Using Pandas & Matplotlib\n",
    "- Using `df` as the dataframe name for examples\n",
    "- View summary info about the dataframe\n",
    "    - View the `.head()` and `.tail()` of the dataframe as a quick check\n",
    "    - View the `.columns` attribute to check column headers\n",
    "    - View the `.shape` attribute to see the size of the dataframe\n",
    "    - Call `.info()` to see more general info on the dataframe\n",
    "        - Let's you quickly see the number of NULL values\n",
    "        - Let's you quickly see the datatype for each column\n",
    "- Check the non-null values with `.value_counts()` method\n",
    "    - `df.column_name.value_counts(dropna=False)`\n",
    "        - could also use `['column_name']` notation instead of dot notation to select the column_name\n",
    "        - this is necessary if the column name has special chars, spaces, or is a python keyword\n",
    "    - `dropna=False` will directly report the number of NaN or NULL values\n",
    "    - can chain the `.head()` method to this call to only return the top 5 of the results\n",
    "- Check data types\n",
    "    - `df.dtypes` using dtypes attribute\n",
    "    - lists the datatypes for each column\n",
    "- Run summary stats using the `.describe()` method\n",
    "    - `df.describe()` will report the following stats for numeric cols only:\n",
    "        - count  -- non missing values\n",
    "        - mean\n",
    "        - std\n",
    "        - min\n",
    "        - 25% percentile\n",
    "        - 50% percentile (median)\n",
    "        - 75% percentile\n",
    "        - max\n",
    "- Visualize the data to check for outliers then use slicing to check for those values\n",
    "    - Histogram\n",
    "        - `df.column_name.plot('hist')`\n",
    "        - `plt.show()`\n",
    "    - Slice to find the issue\n",
    "        - `df[df.column_name > weird_value]` # replacing condition and *weird value* with the outlier you're looking for\n",
    "    - Boxplots\n",
    "        - `df.boxplot(column='y_col_name', by='x_col_name')`  # x_col_name is what you are grouping by\n",
    "        - `plt.show()`\n",
    "\n",
    "#### Convert Column to a Different Data Type\n",
    "- Check the data types for each column using the `.dtype` attribute of a dataframe\n",
    "- Assign the data to a column using the `.astype(type)` method, and specifying a data type\n",
    "    - Data types:\n",
    "        - `str` # converts to string\n",
    "        - `float` # converts to a float, or use .to_numeric()\n",
    "        - `int` # converts to an int, or use .to_numeric()\n",
    "        - `'category'` # converts to a categorical variable\n",
    "            - advantages of using 'category' as dtype:\n",
    "                - reduce memory storage if there are only a few different categories that are repeated\n",
    "                - adds functionality/efficiency for analysis with certain packages\n",
    "    - Example:\n",
    "        - `df['column1'] = df['column1'].astype(str)` to convert/overwrite the column to string data type\n",
    "- Convert to numeric values using the `pd.to_numeric()` function\n",
    "    - `df['column1'] = pd.to_numeric(df['column1'], errors='coerce')`\n",
    "        - the `errors='coerce'` option will convert any invalid entries to NaN/missing\n",
    "        - will throw an exception if trying to convert non-numeric values without `errors='coerce'`"
   ]
  },
  {
   "cell_type": "markdown",
   "metadata": {},
   "source": [
    "#### Concatenating Dataframes Using Pandas\n",
    "- Useful when combining data sources\n",
    "- `df_concat = pd.concat([df1, df2], axis=0,ignore_index=True)`\n",
    "    - works well when your dataframes have the same columns in the same order\n",
    "        - adds rows, keeping your columns\n",
    "    - `axis` is optional\n",
    "        - `axis=0` is default, and adds rows to your columns\n",
    "        - `axis=1` will add new columns on the right of the dataframe, matching on row index\n",
    "            - your row indexes must be in the correct order, if not, then merge the sets (see below)\n",
    "    - `ignore_index` is optional\n",
    "        - default is `ignore_index=False` and keeps original index values (produces duplicate row indexes)\n",
    "        - `ignore_index=True` will reindex the new dataframe\n",
    "- Use `glob` to find files based on a pattern\n",
    "    - need to `import glob`\n",
    "    - useful when trying to process thousands of files for concatenation\n",
    "    - uses **wildcards** to help matching\n",
    "        - `*` matches zero or more of any char\n",
    "        - `?` matches any single char in that position\n",
    "        - `[ ]` matches chars specified within\n",
    "            - `[0-9]` matches number 0-9\n",
    "            - `[09]` mathces 0 and matches 9\n",
    "    - creates a list of file names that match your pattern\n",
    "    - Example:\n",
    "        - `csv_files = glob.glob('*.csv')` will store a list of all csv files\n",
    "- Example: to combine these skills to create a large dataframe from many files\n",
    "    - `list_data = []`\n",
    "    - `for filename in csv_files:`\n",
    "        - `data = pd.read_csv(filename)`\n",
    "        - `list_data.append(data)`\n",
    "            - this results in a list of dataframes, which can be loaded into `pd.concat`\n",
    "    - `df = pd.concat(list_data)`"
   ]
  },
  {
   "cell_type": "markdown",
   "metadata": {},
   "source": [
    "#### Merge Data into a Dataframe\n",
    "- Do when row indexes from multiple dataframes do not refer to the same instance\n",
    "    - i.e. row 2 is not equivalent to row 2 in the other dataframe\n",
    "    - similar to a SQL JOIN\n",
    "- `pd.merge(left=df_left, right=df_right, on=None, left_on='left_col_name', right_on='right_col_name')\n",
    "    - this will combine all cols from both dataframes\n",
    "    - it does this by using 'left_col_name' and 'right_col_name' as keys\n",
    "        - both 'left_col_name' and 'right_col_name' will be included in the merged df\n",
    "        - can use `on='name'` if the column names to match are spelled the same, otherwise use `left_on`/`right_on`\n",
    "        - use either `on=` or `left_on` and `right_on`, don't need both methods at once\n",
    "- Three types of merges\n",
    "    - one:one\n",
    "    - one:many/many:one\n",
    "    - many:many\n",
    "        - if the number of keys do not match, values will be added from the one with fewer to equal the one with more\n",
    "    - no difference in syntax to accomplish this"
   ]
  },
  {
   "cell_type": "markdown",
   "metadata": {},
   "source": [
    "#### Tidy Data\n",
    "- Should incorporate the following principles\n",
    "    - Columns represent separate variables\n",
    "    - Rows represent individual observations\n",
    "    - Observational units form tables\n",
    "- Organize for analysis, not necessarily for reporting\n",
    "    - Use `pd.melt()` when cols contain values, rather than variables\n",
    "        - Ex. cols -> treatmenta, treatmentb -> should be one col as treatment\n",
    "- Melt \n",
    "    - `pd.melt(frame=df, id_vars=[, value_vars=][, var_name=][, value_name=])` function\n",
    "    - Turns columns into rows\n",
    "    - Provide single *string*, or list of strings as args to `id_vars` and `value_vars`\n",
    "        - `id_vars` are cols you don't want to alter\n",
    "        - `value_vars` are cols made up of values rather than variables\n",
    "            - .melt() will use all cols not specified in id_vars if nothing specified for value_vars\n",
    "    - Default name for variable cols is 'variable' and value is 'value'\n",
    "        - add additional args of `var_name='', value_name=''` to the melt() function to change these\n",
    "    - Melting does not always achieve tidy data, must use when necessary to meet the three principles above\n",
    "- Pivot \n",
    "    - `df.pivot(index='', columns='', values='')` method\n",
    "    - Only works when not pivoting duplicate values (use pivot table method for that case)\n",
    "    - Turns unique row values into columns\n",
    "    - Use when multiple variables are stored in the same column, or individual observations are restricted to a single row\n",
    "    - Arguments\n",
    "        - index = column or columns to fix during the pivot, the col with duplicated observations\n",
    "        - columns = column to pivot into new columns\n",
    "        - values = the values to fill in the new columns created by the pivot\n",
    "- Pivot Table\n",
    "    - Allows you to specify how to deal with duplicate values\n",
    "    - `df.pivot_table(index='', columns='', values='', aggfunc=)`\n",
    "        - works similar to pivot\n",
    "        - aggfunc: np.mean (numpy mean) is the default aggfunc if none specified\n",
    "            - this argument is NOT a string!\n",
    "- Melt and Pivot are the reverse operations of each other\n",
    "    - If you call `.pivot()` or `.pivot_table()` you may need to reset the index\n",
    "        - `df.reset_index()`# this fixes the col headers\n",
    "- Melting/Parsing when needing to reshape data\n",
    "    - Ex. two cols contain values, each col header is a single sex and age range\n",
    "        - what we want is a sex col and a separate col for each age range\n",
    "    - Strategy\n",
    "        - Melt the two cols together `df_new = pd.melt(frame=df, id_vars='cols_to_keep_as_list_of_strings')`\n",
    "        - Parse (slice) out the char that indicates the sex into a new column `df_new['sex'] = df_new.variable.str[0]`\n",
    "            - use `str` and index of 0 to grab the first char from column 'variable', which was created when melting\n",
    "        - Parse (slice) out the rest of the chars into the age column `df_new['age_group'] = df_new.variable.str[1:]`\n",
    "            - `.str[1:]` starts slicing at 1, and continues to the end of the string\n",
    "    - Additional Parsing Tips\n",
    "        - Split a string at a certain char `_` for this example...\n",
    "        - store it in a col as a list, then parse out the parts of that list \n",
    "        - Example: in code block below"
   ]
  },
  {
   "cell_type": "code",
   "execution_count": 21,
   "metadata": {},
   "outputs": [
    {
     "name": "stdout",
     "output_type": "stream",
     "text": [
      "   parse_this      str_split single0 single1\n",
      "0  two_values  [two, values]     two  values\n"
     ]
    }
   ],
   "source": [
    "# parsing out one col with two values separated by an '_'\n",
    "\n",
    "df = pd.DataFrame(data={'parse_this': ['two_values']})\n",
    "df['str_split'] = df.parse_this.str.split('_')\n",
    "df['single0'] = df.str_split.str.get(0)\n",
    "df['single1'] = df.str_split.str.get(1)\n",
    "print(df.head())"
   ]
  },
  {
   "cell_type": "code",
   "execution_count": 7,
   "metadata": {},
   "outputs": [
    {
     "name": "stdout",
     "output_type": "stream",
     "text": [
      "Original DataFrame\n",
      "   names  treatmenta  treatmentb\n",
      "0     ed          23          32\n",
      "1  frank          44          53\n",
      "2  linda          54          22\n",
      "3    jon          95          43\n",
      "\n",
      "Melted Dataframe\n",
      "   names   treatment  value\n",
      "0     ed  treatmenta     23\n",
      "1  frank  treatmenta     44\n",
      "2  linda  treatmenta     54\n",
      "3    jon  treatmenta     95\n",
      "4     ed  treatmentb     32\n",
      "\n",
      "Pivoted DataFrame\n",
      "treatment  treatmenta  treatmentb\n",
      "names                            \n",
      "ed                 23          32\n",
      "frank              44          53\n",
      "jon                95          43\n",
      "linda              54          22\n",
      "\n",
      "Pivoted DF with Reset Index\n",
      "treatment  names  treatmenta  treatmentb\n",
      "0             ed          23          32\n",
      "1          frank          44          53\n",
      "2            jon          95          43\n",
      "3          linda          54          22\n"
     ]
    }
   ],
   "source": [
    "# melting a dataframe\n",
    "\n",
    "names = ['ed', 'frank', 'linda', 'jon']\n",
    "treatmenta = [23, 44, 54, 95]\n",
    "treatmentb = [32, 53, 22, 43]\n",
    "df = pd.DataFrame()\n",
    "df['names'] = names\n",
    "df['treatmenta'] = treatmenta\n",
    "df['treatmentb'] = treatmentb\n",
    "\n",
    "print('Original DataFrame')\n",
    "print(df.head())\n",
    "\n",
    "# melt it\n",
    "df_melt = pd.melt(frame=df, id_vars='names', value_vars=['treatmenta', 'treatmentb'], \n",
    "                  var_name='treatment', value_name='value')\n",
    "\n",
    "print()\n",
    "print('Melted Dataframe')\n",
    "print(df_melt.head())\n",
    "\n",
    "# pivot it back to the original\n",
    "df_pivot = df_melt.pivot_table(index='names', columns='treatment', values='value')\n",
    "\n",
    "print()\n",
    "print('Pivoted DataFrame')\n",
    "print(df_pivot.head())\n",
    "\n",
    "# reset the index to flatten the pivoted df\n",
    "df_orig = df_pivot.reset_index()\n",
    "\n",
    "print()\n",
    "print('Pivoted DF with Reset Index')\n",
    "print(df_orig.head())"
   ]
  },
  {
   "cell_type": "markdown",
   "metadata": {},
   "source": [
    "#### Cleaning String Data\n",
    "- **Regular Expressions** Using the `re` Library\n",
    "    - `import re`\n",
    "- Specifying Patterns\n",
    "    - Special Chars for Patterns\n",
    "        - `^` put this at the beginning of a pattern, tells the pattern to start searching at the beginning\n",
    "        - put a dollar sign at the end of a pattern to check for something at the end\n",
    "        - `\\d` any digit\n",
    "        - `\\w` alphanumeric (non-whitespace) chars\n",
    "        - `\\.` a period/decimal point\n",
    "        - `[ ]` will find any chars in the range supplied\n",
    "            - `[A-Z]` any cap letters, `[13579]` any odd digit, etc.\n",
    "        - use `\\` before a dollar sign to escape it, Jupyter doesn't have an escape for it unfortunately\n",
    "    - Specifying the Number of Chars to Match\n",
    "        - `*` 0 or more times\n",
    "        - `+` 1 or more times\n",
    "        - `{num}` specifies the number of chars (specified) just before to match\n",
    "    - Examples:\n",
    "        - `\\d*` 0 or more digits\n",
    "        - `\\d+` 1 or more digits\n",
    "        - `\\d*\\.\\d{2}` specifies any number of digits, a decimal, then two more digits\n",
    "- Store a pattern in a variable\n",
    "    - `pattern = re.compile('')` enter the pattern between single quotation marks\n",
    "- Matching\n",
    "    - `match_object = pattern.match('string')` returns a match object when checking the supplied 'string'\n",
    "    - `bool(match_object)` returns true/false\n",
    "        - convert to true/false using the `bool()` function\n",
    "- Return all instances found\n",
    "    - `re.findall(pattern, 'string')` will return every instance where the pattern is found in the supplied string"
   ]
  },
  {
   "cell_type": "markdown",
   "metadata": {},
   "source": [
    "#### Cleaning String Data\n",
    "#### Using Functions with Regular Expressions on Pandas Dataframes\n",
    "- Import the modules\n",
    "    - NaN from numpy (or just use it through numpy)\n",
    "        - `np.nan`\n",
    "    - re\n",
    "- Store a compiled pattern to match\n",
    "- Write a function `function_name` in this example\n",
    "    - arguments should be `(row, pattern)`\n",
    "    - access the column you want using `local_row_var = row['column_name']` and store in a local variable in the function\n",
    "    - use `if bool(pattern.match(local_row_var)):` to check for data that match the pattern\n",
    "        - use the standard 'and' if checking multiple columns for certain patterns\n",
    "        - within the if statement, you can:\n",
    "            - `local_row_var.replace(\"this value\", \"with this value\")` replace part of the cell contents\n",
    "                - to remove char(s), supply empty string for the second arg\n",
    "            - `local_row_var = float(local_row_var)` convert data types\n",
    "            - `return local_row_var1 - local_row_var2` return a calculation involing more than one row, if defined those vars\n",
    "        - can `else: return(NaN)` when if condition not met\n",
    "- If function is relatively simple, use a **lambda function** inside `.apply()`\n",
    "    - `(lambda x: statements with x)` x represents the value of each row in this column\n",
    "- Use `.apply(function)` method to apply the function to each row\n",
    "    - The entire row is passed each time\n",
    "    - `df['new_column'] = df.apply(function_name, axis=1, pattern=pattern)`\n",
    "        - `axis=1` to check each row (`axis=0` is default and will work on each column)\n",
    "            - doing this because using more than one column of data\n",
    "        - pass the `pattern` to `df.apply` since it was defined outside the the function\n",
    "            - can pass any additional parameters that are needed for a function this way\n",
    "- Use `.apply(function)` for just one column\n",
    "    - `df['new_column_name'] = df.column_name.apply(function_name)`\n",
    "    - do not set `axis=1` for this method, because only using one column"
   ]
  },
  {
   "cell_type": "markdown",
   "metadata": {},
   "source": [
    "#### Duplicate and NaN Values\n",
    "- Remove duplicates with the `df.drop_duplicates()` method\n",
    "    - the row index is not a factor limiting this method\n",
    "    - different indexes with all duplicated values will be dropped\n",
    "- NaN Values\n",
    "    - Three options\n",
    "        - can leave them\n",
    "        - can drop them\n",
    "        - can replace them\n",
    "    - Count NaN's\n",
    "        - `df.info()` will provide counts\n",
    "    - Dropping NaN's\n",
    "        - `df.dropna()` will return a new dataframe with only complete rows\n",
    "            - drops entire row if any NaN values detected\n",
    "    - Replace NaN's\n",
    "        - `df.fillna()` will replace all NaN values with an option below\n",
    "            - fill with user provided value\n",
    "            - fill with summary stat\n",
    "        - typically used one column at a time\n",
    "            - `df['column1'] = df['column1'].fillna('missing')`\n",
    "        - can provide a list of columns to fill several at once\n",
    "            - `df[['column1', 'column2']] = df[['column1', 'column2']].fillna(0)`\n",
    "        - **Using a Stat** to replace values\n",
    "            - Be careful here, mean ok if no outliers, median better if outliers\n",
    "            - `mean_value = df['column_name'].mean()`\n",
    "            - `df['column_name'] = df['column_name'].fillna(mean_value)`\n",
    "- Assert Statements to Verify No Missing Data\n",
    "    - will return nothing if evaluates to true, returns an error if evaluates to false\n",
    "    - Check one column    \n",
    "        - `assert df.column_name.notnull().all()`\n",
    "        - `.notnull()` checks for null values\n",
    "        - `.all()` requires all values be not null to return true\n",
    "    - Check entire dataframe\n",
    "        - `assert df.notnull().all().all()`\n",
    "        - first `.all()` checks all columns\n",
    "        - second `.all()` requires all columns to return true\n",
    "- Assert Statements to Check Values\n",
    "    - Check for non-negative values\n",
    "        - `assert (df.column1 >= 0).all()` check a column \n",
    "        - `assert (df >= 0).all().all()` check an entire dataframe"
   ]
  },
  {
   "cell_type": "markdown",
   "metadata": {},
   "source": [
    "#### Write the Cleaned Data to a File\n",
    "- `df.to_csv['cleaned_filename.csv']`"
   ]
  },
  {
   "cell_type": "code",
   "execution_count": null,
   "metadata": {},
   "outputs": [],
   "source": []
  }
 ],
 "metadata": {
  "kernelspec": {
   "display_name": "Python 3",
   "language": "python",
   "name": "python3"
  },
  "language_info": {
   "codemirror_mode": {
    "name": "ipython",
    "version": 3
   },
   "file_extension": ".py",
   "mimetype": "text/x-python",
   "name": "python",
   "nbconvert_exporter": "python",
   "pygments_lexer": "ipython3",
   "version": "3.7.3"
  }
 },
 "nbformat": 4,
 "nbformat_minor": 2
}
