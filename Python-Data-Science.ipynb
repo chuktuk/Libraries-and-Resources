{
 "cells": [
  {
   "cell_type": "markdown",
   "metadata": {},
   "source": [
    "# Python for Data Science\n",
    "#### See 'Python Library.docx' for additional info"
   ]
  },
  {
   "cell_type": "code",
   "execution_count": 1,
   "metadata": {},
   "outputs": [],
   "source": [
    "# import math module as m\n",
    "import math as m\n",
    "\n",
    "# import copy module\n",
    "import copy"
   ]
  },
  {
   "cell_type": "markdown",
   "metadata": {},
   "source": [
    "## Functions\n",
    "- `int(data)` converts data to 'int' (truncates floats)\n",
    "- `float(data)` converts data to 'float'\n",
    "- `str(data)` converts data to string\n",
    "- `max(data)` returns the maximum value\n",
    "    - data could be values separated by commas or a list (see numpy for arrays)\n",
    "- `round(num[, digits])` rounds number to specified digits (not decimal places) or 'int' by default\n",
    "\n",
    "#### Math Module\n",
    "- `import math as m`\n",
    "- `m.pow(num, pow)` raises num to pow (num ** pow)\n",
    "- `m.sqrt(num)` returns the square root of num\n",
    "- `m.ceil(num)` rounds num up\n",
    "- `m.floor(num)` rounds num down\n",
    "- `m.pi` returns pi to 15 decimal places"
   ]
  },
  {
   "cell_type": "markdown",
   "metadata": {},
   "source": [
    "## Lists\n",
    "#### List Comprehensions\n",
    "- Process lists without using for loops and increases efficiency by saving memory and time\n",
    "- Works like any iterable\n",
    "- `new_list = [var_statement for var in old_list]`\n",
    "    - `var_statement` is your calculation or code to execute for each list item\n",
    "    - `var_statement` should reference `var` which is assigned by you and represents each element\n",
    "    - `old_list` is the original list\n",
    "- `new_list = [statement_with_var1_var2 for var1 in list1 for var2 in list2]`\n",
    "    - nested syntax\n",
    "- `statement` is something to return\n",
    "    - () would return a tuple\n",
    "    - [] would return a list\n",
    "    - can also do arithmetic or other math-like-stuff\n",
    "\n",
    "#### List Operations to Remember\n",
    "- Slicing\n",
    "    - `list[start:end:step]` just like with numpy arrays\n",
    "    - if start or stop is blank, starts at the beginning or goes to the end respectively\n",
    "    - default step is 1\n",
    "- Creating a Deep Copy\n",
    "    - `copy.deepcopy(list)` outputs a copy of a list, not just another reference to it\n",
    "- `len(list)`, `min(list)`, and `max(list)` all perform as expected\n",
    "- Sorting\n",
    "    - `sorted(list[, key=function])`\n",
    "        - **returns a new list** sorted, with optional function to run before sorting\n",
    "            - option function like `key=str.lower` does not affect values, just sort behavior\n",
    "            - see .sort() method for rearranging a list\n",
    "    - `list.sort([key=function])`\n",
    "        - **modifies the current list** and sorts, based on optional function\n",
    "        - default sort order in all cases is 0-9, A-Z, a-z\n",
    "- `list.append(item)` adds item to the end of a list\n",
    "- `list.remove(item)` removes item from the list\n",
    "- `list.index(item)` returns the index for the item\n",
    "- `list.pop([index])` removes and returns item at specified index (or last item by default)\n",
    "- `list.count(item)` returns the number of occurrences of item in list or 0 if none\n",
    "- `list.reverse()` reverses the order of items in the list"
   ]
  },
  {
   "cell_type": "markdown",
   "metadata": {},
   "source": [
    "## Dictionaries\n",
    "- Checking if a key exists\n",
    "    - `if key in dictionary:`\n",
    "- Deleting items\n",
    "    - `del dictionary['key']\n",
    "    - `dictionary.pop['key'[, default_value]]\n",
    "        - these throw errors if 'key' doesn't exist, or will return a 'default_value'\n",
    "    - `dictionary.clear()` deletes all dictionary items\n",
    "- `dictionary.get(key[, default_value])`\n",
    "    - returns the value associated with key, or default_value if specified and key doesn't exist\n",
    "    - works like `dictionary[key]` except you can specify default value\n",
    "- `dictionary.keys()`\n",
    "    - returns a view object of all the keys (**default iterator for a dictionary**)\n",
    "- `dictionary.items()`\n",
    "    - returns a view object containing a tuple of each key/value pair\n",
    "- `dictionary.values()`\n",
    "    - returns a view object containing all of the values\n",
    "    \n",
    "#### Looping Through Dictionaries\n",
    "- Need an iterator obtained using the `.keys()`, `.items()`, or `.values()` methods\n",
    "- `for key in dictionary.keys():`\n",
    "    - `statements with dictionary[key]`\n",
    "- `for key, value in dictionary.items():`\n",
    "    - `statements using key and value`\n",
    "- `for value in dictionary.values()`\n",
    "    - `statements using value"
   ]
  },
  {
   "cell_type": "markdown",
   "metadata": {},
   "source": [
    "## Formatting Numbers as Strings\n",
    "- Used for display or converting numbers to strings\n",
    "- `\"{:format_specification}\".format(data)` formats supplied `data` to `:format_specification`\n",
    "- It is possible to pass mulitple format specifications and multiple data entries/types\n",
    "    - `\"{:form_spec1}{:form_spec2}{form_spec3}\".format(\"str\", float, int)\n",
    "    - can print grid if doing multiple times using consistent `field_width` in each position\n",
    "- format_sepcification is comprised of:\n",
    "    - `[field_width][,][.decimal_places][type_code]`\n",
    "    - `field_width` is specified in pixels as 'int'\n",
    "        - by default, strings are justified left and numbers justified right\n",
    "        - add `>` or `<` just before pixels to specify 'right' and 'left' justified\n",
    "    - `,` specifies whether large numbers use commas\n",
    "    - `.decimal_places` dot with number of decimal places to include\n",
    "    - `type_code` specifies data type\n",
    "        - `d` integer (decimals can't be specified)\n",
    "        - `f` float (will round to specified decimal places)\n",
    "        - `%` percent (supply decimal, it multiplies by 100 and adds '%'\n",
    "        - `e` converted to scientific notation"
   ]
  },
  {
   "cell_type": "code",
   "execution_count": 2,
   "metadata": {},
   "outputs": [
    {
     "name": "stdout",
     "output_type": "stream",
     "text": [
      "item              price     qty\n",
      "hammer             9.99      11\n",
      "nails              1.99      24\n"
     ]
    }
   ],
   "source": [
    "# format grid example\n",
    "heads = [\"item\", \"price\", \"qty\"]\n",
    "x = [\"hammer\", 9.99, 11]\n",
    "y = [\"nails\", 1.99, 24]\n",
    "print(\"{:15}{:>8}{:>8}\".format(heads[0], heads[1], heads[2]))\n",
    "print(\"{:15}{:8.2f}{:8d}\".format(x[0], x[1], x[2]))\n",
    "print(\"{:15}{:8.2f}{:8d}\".format(y[0], y[1], y[2]))"
   ]
  },
  {
   "cell_type": "markdown",
   "metadata": {},
   "source": [
    "## Program Structure\n",
    "#### Shebang\n",
    "- `#!/usr/bin/env python3`\n",
    "    - first line of a .py file\n",
    "    - ignored by Windows but used by Unix-like systems to use correct interpreter\n",
    "\n",
    "#### Three-Tier Approach\n",
    "- Good practice when writing a program to use three tier approach\n",
    "- Main function\n",
    "    - starts an application, but is defined last\n",
    "    - `def main:` with code to execute the app\n",
    "    - `if __name__ == '__main__':\n",
    "        - `main()`\n",
    "- UI Tier\n",
    "    - User interface\n",
    "    - Contains the `__main__` function\n",
    "    - Console app is usually procedural code vs GUI which is object-oriented\n",
    "- Business or Object Tier\n",
    "    - Processing tier\n",
    "    - OOP to work with classes/objects and data from a database\n",
    "- Database Tier\n",
    "    - Provide database access"
   ]
  },
  {
   "cell_type": "markdown",
   "metadata": {},
   "source": [
    "## Iterables and Looping\n",
    "#### Iterators and Iterables\n",
    "- Iterator is any object with an `iter()` method\n",
    "    - lists, strings, dictionaries, etc.\n",
    "    - Use `next()` to iterate through the object\n",
    "    - Access all (remaining) values at once using `next(*var)`"
   ]
  },
  {
   "cell_type": "code",
   "execution_count": 3,
   "metadata": {},
   "outputs": [
    {
     "name": "stdout",
     "output_type": "stream",
     "text": [
      "1\n",
      "2\n",
      "[3, 4, 5, 6]\n"
     ]
    },
    {
     "ename": "StopIteration",
     "evalue": "",
     "output_type": "error",
     "traceback": [
      "\u001b[1;31m---------------------------------------------------------------------------\u001b[0m",
      "\u001b[1;31mStopIteration\u001b[0m                             Traceback (most recent call last)",
      "\u001b[1;32m<ipython-input-3-ee6bfcb451e9>\u001b[0m in \u001b[0;36m<module>\u001b[1;34m\u001b[0m\n\u001b[0;32m      6\u001b[0m \u001b[0mprint\u001b[0m\u001b[1;33m(\u001b[0m\u001b[0mnext\u001b[0m\u001b[1;33m(\u001b[0m\u001b[0mvar\u001b[0m\u001b[1;33m)\u001b[0m\u001b[1;33m)\u001b[0m\u001b[1;33m\u001b[0m\u001b[1;33m\u001b[0m\u001b[0m\n\u001b[0;32m      7\u001b[0m \u001b[0mprint\u001b[0m\u001b[1;33m(\u001b[0m\u001b[1;33m[\u001b[0m\u001b[0mnext\u001b[0m\u001b[1;33m(\u001b[0m\u001b[0mvar\u001b[0m\u001b[1;33m)\u001b[0m\u001b[1;33m,\u001b[0m \u001b[0mnext\u001b[0m\u001b[1;33m(\u001b[0m\u001b[0mvar\u001b[0m\u001b[1;33m)\u001b[0m\u001b[1;33m,\u001b[0m \u001b[0mnext\u001b[0m\u001b[1;33m(\u001b[0m\u001b[0mvar\u001b[0m\u001b[1;33m)\u001b[0m\u001b[1;33m,\u001b[0m \u001b[0mnext\u001b[0m\u001b[1;33m(\u001b[0m\u001b[0mvar\u001b[0m\u001b[1;33m)\u001b[0m\u001b[1;33m]\u001b[0m\u001b[1;33m)\u001b[0m\u001b[1;33m\u001b[0m\u001b[1;33m\u001b[0m\u001b[0m\n\u001b[1;32m----> 8\u001b[1;33m \u001b[0mprint\u001b[0m\u001b[1;33m(\u001b[0m\u001b[0mnext\u001b[0m\u001b[1;33m(\u001b[0m\u001b[0mvar\u001b[0m\u001b[1;33m)\u001b[0m\u001b[1;33m)\u001b[0m \u001b[1;31m# throws exception because out of values!\u001b[0m\u001b[1;33m\u001b[0m\u001b[1;33m\u001b[0m\u001b[0m\n\u001b[0m",
      "\u001b[1;31mStopIteration\u001b[0m: "
     ]
    }
   ],
   "source": [
    "# create the iterable object\n",
    "# use next to iterate\n",
    "# throws StopIteration Error when out of values\n",
    "var = iter([1, 2, 3, 4, 5, 6])\n",
    "print(next(var))\n",
    "print(next(var))\n",
    "print([next(var), next(var), next(var), next(var)])\n",
    "print(next(var)) # throws exception because out of values!"
   ]
  },
  {
   "cell_type": "markdown",
   "metadata": {},
   "source": [
    "#### Iterating Through a File\n",
    "- `with open('file.txt') as file:`\n",
    "    - `it = iter(file)`\n",
    "    - `print(next(it))` print the next line of the file"
   ]
  },
  {
   "cell_type": "markdown",
   "metadata": {},
   "source": [
    "#### While Loops\n",
    "- Will run as long as the condition is True, until a `return` is executed\n",
    "- See examples"
   ]
  },
  {
   "cell_type": "code",
   "execution_count": 4,
   "metadata": {},
   "outputs": [
    {
     "name": "stdout",
     "output_type": "stream",
     "text": [
      "[0, 1, 2, 3, 4, 5, 6, 7, 8, 9, 10]\n"
     ]
    }
   ],
   "source": [
    "# will run until conditional is no longer true\n",
    "mylist = []\n",
    "i = 0\n",
    "while len(mylist) < 11:\n",
    "    mylist.append(i)\n",
    "    i += 1\n",
    "print(mylist)"
   ]
  },
  {
   "cell_type": "code",
   "execution_count": 5,
   "metadata": {},
   "outputs": [
    {
     "name": "stdout",
     "output_type": "stream",
     "text": [
      "Guess a number between 1 and 5.2\n",
      "Guess again!\n",
      "Guess a number between 1 and 5.4\n",
      "You win!\n",
      "Bye!\n"
     ]
    }
   ],
   "source": [
    "# will run until '4' is entered\n",
    "num = 4\n",
    "while True:\n",
    "    inp = input(\"Guess a number between 1 and 5.\")\n",
    "    if int(inp) == num:\n",
    "        print(\"You win!\")\n",
    "        print(\"Bye!\")\n",
    "        break\n",
    "    elif int(inp) != num:\n",
    "        print(\"Guess again!\")"
   ]
  },
  {
   "cell_type": "code",
   "execution_count": null,
   "metadata": {},
   "outputs": [],
   "source": []
  }
 ],
 "metadata": {
  "kernelspec": {
   "display_name": "Python 3",
   "language": "python",
   "name": "python3"
  },
  "language_info": {
   "codemirror_mode": {
    "name": "ipython",
    "version": 3
   },
   "file_extension": ".py",
   "mimetype": "text/x-python",
   "name": "python",
   "nbconvert_exporter": "python",
   "pygments_lexer": "ipython3",
   "version": "3.7.3"
  }
 },
 "nbformat": 4,
 "nbformat_minor": 2
}
