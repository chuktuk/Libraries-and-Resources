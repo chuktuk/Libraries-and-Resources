{
 "cells": [
  {
   "cell_type": "markdown",
   "metadata": {},
   "source": [
    "# Python for Data Science\n",
    "#### See 'Python Library.docx' for additional info"
   ]
  },
  {
   "cell_type": "code",
   "execution_count": 1,
   "metadata": {},
   "outputs": [],
   "source": [
    "# import math module as m\n",
    "import math as m\n",
    "\n",
    "# import copy module\n",
    "import copy\n",
    "\n",
    "# import numpy as np\n",
    "import numpy as np\n",
    "\n",
    "# import pandas as pd\n",
    "import pandas as pd\n",
    "\n",
    "# import sql alchemy db engine\n",
    "from sqlalchemy import create_engine"
   ]
  },
  {
   "cell_type": "markdown",
   "metadata": {},
   "source": [
    "## Functions\n",
    "- `int(data)` converts data to 'int' (truncates floats)\n",
    "- `float(data)` converts data to 'float'\n",
    "- `str(data)` converts data to string\n",
    "- `max(data)` returns the maximum value\n",
    "    - data could be values separated by commas or a list (see numpy for arrays)\n",
    "- `round(num[, digits])` rounds number to specified digits (not decimal places) or 'int' by default\n",
    "\n",
    "#### Math Module\n",
    "- `import math as m`\n",
    "- `m.pow(num, pow)` raises num to pow (num ** pow)\n",
    "- `m.sqrt(num)` returns the square root of num\n",
    "- `m.ceil(num)` rounds num up\n",
    "- `m.floor(num)` rounds num down\n",
    "- `m.pi` returns pi to 15 decimal places"
   ]
  },
  {
   "cell_type": "markdown",
   "metadata": {},
   "source": [
    "## Lists\n",
    "#### List Comprehensions\n",
    "- Process lists without using for loops and increases efficiency by saving memory and time\n",
    "- Works like any iterable\n",
    "- `new_list = [var_statement for var in old_list]`\n",
    "    - `var_statement` is your calculation or code to execute for each list item\n",
    "    - `var_statement` should reference `var` which is assigned by you and represents each element\n",
    "    - `old_list` is the original list\n",
    "- `new_list = [statement_with_var1_var2 for var1 in list1 for var2 in list2]`\n",
    "    - nested syntax\n",
    "- `statement` is something to return\n",
    "    - () would return a tuple\n",
    "    - [] would return a list\n",
    "    - can also do arithmetic or other math-like-stuff\n",
    "\n",
    "#### List Operations to Remember\n",
    "- Slicing\n",
    "    - `list[start:end:step]` just like with numpy arrays\n",
    "    - if start or stop is blank, starts at the beginning or goes to the end respectively\n",
    "    - default step is 1\n",
    "- Creating a Deep Copy\n",
    "    - `copy.deepcopy(list)` outputs a copy of a list, not just another reference to it\n",
    "- `len(list)`, `min(list)`, and `max(list)` all perform as expected\n",
    "- Sorting\n",
    "    - `sorted(list[, key=function])`\n",
    "        - **returns a new list** sorted, with optional function to run before sorting\n",
    "            - option function like `key=str.lower` does not affect values, just sort behavior\n",
    "            - see .sort() method for rearranging a list\n",
    "    - `list.sort([key=function])`\n",
    "        - **modifies the current list** and sorts, based on optional function\n",
    "        - default sort order in all cases is 0-9, A-Z, a-z\n",
    "- `list.append(item)` adds item to the end of a list\n",
    "- `list.remove(item)` removes item from the list\n",
    "- `list.index(item)` returns the index for the item\n",
    "- `list.pop([index])` removes and returns item at specified index (or last item by default)\n",
    "- `list.count(item)` returns the number of occurrences of item in list or 0 if none\n",
    "- `list.reverse()` reverses the order of items in the list"
   ]
  },
  {
   "cell_type": "markdown",
   "metadata": {},
   "source": [
    "## Dictionaries\n",
    "- Checking if a key exists\n",
    "    - `if key in dictionary:`\n",
    "- Deleting items\n",
    "    - `del dictionary['key']\n",
    "    - `dictionary.pop['key'[, default_value]]\n",
    "        - these throw errors if 'key' doesn't exist, or will return a 'default_value'\n",
    "    - `dictionary.clear()` deletes all dictionary items\n",
    "- `dictionary.get(key[, default_value])`\n",
    "    - returns the value associated with key, or default_value if specified and key doesn't exist\n",
    "    - works like `dictionary[key]` except you can specify default value\n",
    "- `dictionary.keys()`\n",
    "    - returns a view object of all the keys (**default iterator for a dictionary**)\n",
    "- `dictionary.items()`\n",
    "    - returns a view object containing a tuple of each key/value pair\n",
    "- `dictionary.values()`\n",
    "    - returns a view object containing all of the values\n",
    "    \n",
    "#### Looping Through Dictionaries\n",
    "- Need an iterator obtained using the `.keys()`, `.items()`, or `.values()` methods\n",
    "- `for key in dictionary.keys():`\n",
    "    - `statements with dictionary[key]`\n",
    "- `for key, value in dictionary.items():`\n",
    "    - `statements using key and value`\n",
    "- `for value in dictionary.values()`\n",
    "    - `statements using value"
   ]
  },
  {
   "cell_type": "markdown",
   "metadata": {},
   "source": [
    "## Formatting Numbers as Strings\n",
    "- Used for display or converting numbers to strings\n",
    "- `\"{:format_specification}\".format(data)` formats supplied `data` to `:format_specification`\n",
    "- It is possible to pass mulitple format specifications and multiple data entries/types\n",
    "    - `\"{:form_spec1}{:form_spec2}{form_spec3}\".format(\"str\", float, int)\n",
    "    - can print grid if doing multiple times using consistent `field_width` in each position\n",
    "- format_sepcification is comprised of:\n",
    "    - `[field_width][,][.decimal_places][type_code]`\n",
    "    - `field_width` is specified in pixels as 'int'\n",
    "        - by default, strings are justified left and numbers justified right\n",
    "        - add `>` or `<` just before pixels to specify 'right' and 'left' justified\n",
    "    - `,` specifies whether large numbers use commas\n",
    "    - `.decimal_places` dot with number of decimal places to include\n",
    "    - `type_code` specifies data type\n",
    "        - `d` integer (decimals can't be specified)\n",
    "        - `f` float (will round to specified decimal places)\n",
    "        - `%` percent (supply decimal, it multiplies by 100 and adds '%'\n",
    "        - `e` converted to scientific notation"
   ]
  },
  {
   "cell_type": "code",
   "execution_count": 2,
   "metadata": {},
   "outputs": [
    {
     "name": "stdout",
     "output_type": "stream",
     "text": [
      "item              price     qty\n",
      "hammer             9.99      11\n",
      "nails              1.99      24\n"
     ]
    }
   ],
   "source": [
    "# format grid example\n",
    "heads = [\"item\", \"price\", \"qty\"]\n",
    "x = [\"hammer\", 9.99, 11]\n",
    "y = [\"nails\", 1.99, 24]\n",
    "print(\"{:15}{:>8}{:>8}\".format(heads[0], heads[1], heads[2]))\n",
    "print(\"{:15}{:8.2f}{:8d}\".format(x[0], x[1], x[2]))\n",
    "print(\"{:15}{:8.2f}{:8d}\".format(y[0], y[1], y[2]))"
   ]
  },
  {
   "cell_type": "markdown",
   "metadata": {},
   "source": [
    "## Program Structure\n",
    "#### Shebang\n",
    "- `#!/usr/bin/env python3`\n",
    "    - first line of a .py file\n",
    "    - ignored by Windows but used by Unix-like systems to use correct interpreter\n",
    "\n",
    "#### Three-Tier Approach\n",
    "- Good practice when writing a program to use three tier approach\n",
    "- Main function\n",
    "    - starts an application, but is defined last\n",
    "    - `def main:` with code to execute the app\n",
    "    - `if __name__ == '__main__':\n",
    "        - `main()`\n",
    "- UI Tier\n",
    "    - User interface\n",
    "    - Contains the `__main__` function\n",
    "    - Console app is usually procedural code vs GUI which is object-oriented\n",
    "- Business or Object Tier\n",
    "    - Processing tier\n",
    "    - OOP to work with classes/objects and data from a database\n",
    "- Database Tier\n",
    "    - Provide database access"
   ]
  },
  {
   "cell_type": "markdown",
   "metadata": {},
   "source": [
    "## Iterables and Looping\n",
    "#### Iterators and Iterables\n",
    "- Iterator is any object with an `iter()` method\n",
    "    - lists, strings, dictionaries, etc.\n",
    "    - Use `next()` to iterate through the object\n",
    "    - Access all (remaining) values at once using `next(*var)`"
   ]
  },
  {
   "cell_type": "code",
   "execution_count": 3,
   "metadata": {},
   "outputs": [
    {
     "name": "stdout",
     "output_type": "stream",
     "text": [
      "1\n",
      "2\n",
      "[3, 4, 5, 6]\n"
     ]
    }
   ],
   "source": [
    "# create the iterable object\n",
    "# use next to iterate\n",
    "# throws StopIteration Error when out of values\n",
    "var = iter([1, 2, 3, 4, 5, 6])\n",
    "print(next(var))\n",
    "print(next(var))\n",
    "print([next(var), next(var), next(var), next(var)])\n",
    "# print(next(var)) # throws exception because out of values!"
   ]
  },
  {
   "cell_type": "markdown",
   "metadata": {},
   "source": [
    "#### Zip Objects\n",
    "- `zip(iterables)` iterables separated by commas\n",
    "    - zipping will take two or more iterables (such as lists) and stitch them together\n",
    "    - it matches values at the same index and combines into a tuple\n",
    "        - you end up with a zip object containing tuples\n",
    "        - the tuple at index 0 contains all of the index 0 values\n",
    "    - convert to a list using `list(zip_obj)`\n",
    "    - convert to a dictionary using `dict(zip_obj)`"
   ]
  },
  {
   "cell_type": "markdown",
   "metadata": {},
   "source": [
    "#### Iterating Through a File\n",
    "- `with open('file.txt') as file:`\n",
    "    - `it = iter(file)`\n",
    "    - `print(next(it))` print the next line of the file"
   ]
  },
  {
   "cell_type": "markdown",
   "metadata": {},
   "source": [
    "#### While Loops\n",
    "- Will run as long as the condition is True, until a `return` is executed\n",
    "- See examples"
   ]
  },
  {
   "cell_type": "code",
   "execution_count": 4,
   "metadata": {},
   "outputs": [
    {
     "name": "stdout",
     "output_type": "stream",
     "text": [
      "[0, 1, 2, 3, 4, 5, 6, 7, 8, 9, 10]\n"
     ]
    }
   ],
   "source": [
    "# will run until conditional is no longer true\n",
    "mylist = []\n",
    "i = 0\n",
    "while len(mylist) < 11:\n",
    "    mylist.append(i)\n",
    "    i += 1\n",
    "print(mylist)"
   ]
  },
  {
   "cell_type": "code",
   "execution_count": 5,
   "metadata": {
    "scrolled": true
   },
   "outputs": [
    {
     "name": "stdout",
     "output_type": "stream",
     "text": [
      "You win!\n",
      "Bye!\n"
     ]
    }
   ],
   "source": [
    "# will run until '4' is entered\n",
    "num = 4\n",
    "inp = 4 # comment this line out and uncomment input line to run\n",
    "while True:\n",
    "    # inp = input(\"Guess a number between 1 and 5: \")\n",
    "    if int(inp) == num:\n",
    "        print(\"You win!\")\n",
    "        print(\"Bye!\")\n",
    "        break\n",
    "    elif int(inp) != num:\n",
    "        print(\"Guess again!\")"
   ]
  },
  {
   "cell_type": "markdown",
   "metadata": {},
   "source": [
    "#### For Loops \n",
    "- `for i in range(data):`\n",
    "    - followed by statements\n",
    "    - can use `range(data)` to specify a number of times\n",
    "- Lists    \n",
    "    - `for i in list:` to loop through each list item\n",
    "    - **Enumerating a list**\n",
    "    - lets you access the index of each list value\n",
    "    - `for index, var in enumerate(list):`\n",
    "        - can also use `en_obj = enumerate(list)`\n",
    "            - this object will contain tuples of (index, value) pairs\n",
    "            - can set `start=num` to change 0 indexing\n",
    "- Dictionaries\n",
    "    - `for key, value in dictionary.items():`\n",
    "- Can add an `else:` statement at the end to run immediately after finished"
   ]
  },
  {
   "cell_type": "markdown",
   "metadata": {},
   "source": [
    "#### List Comprehensions\n",
    "- List processing without using a \"for loop\"\n",
    "- Works with **any iterable**\n",
    "- Syntax\n",
    "    - `new_list = [output_expression for iterator_var in iterable]`\n",
    "        - `output_expression` itself can be a list comprehension"
   ]
  },
  {
   "cell_type": "code",
   "execution_count": 6,
   "metadata": {},
   "outputs": [
    {
     "name": "stdout",
     "output_type": "stream",
     "text": [
      "[0, 1, 2, 3, 4, 5, 6, 7, 8, 9]\n",
      "[0, 1, 4, 9, 16, 25, 36, 49, 64, 81]\n"
     ]
    }
   ],
   "source": [
    "# simple list comprehensions\n",
    "nums = [num for num in range(10)] # populate a list\n",
    "print(nums)\n",
    "nums_squared = [num ** 2 for num in nums] # perform arithmetic on a list\n",
    "print(nums_squared)"
   ]
  },
  {
   "cell_type": "code",
   "execution_count": 7,
   "metadata": {},
   "outputs": [
    {
     "name": "stdout",
     "output_type": "stream",
     "text": [
      "[[0, 1, 2, 3, 4], [0, 1, 2, 3, 4], [0, 1, 2, 3, 4], [0, 1, 2, 3, 4], [0, 1, 2, 3, 4]]\n",
      "[[0 1 2 3 4]\n",
      " [0 1 2 3 4]\n",
      " [0 1 2 3 4]\n",
      " [0 1 2 3 4]\n",
      " [0 1 2 3 4]]\n"
     ]
    }
   ],
   "source": [
    "# nested list comprehension to create a 5x5 matrix\n",
    "# unformatted, so right now is list of lists\n",
    "# can convert to numpy array\n",
    "matrix = [[col for col in range(0,5)] for row in range(0,5)]\n",
    "print(matrix)\n",
    "# convert to numpy array\n",
    "np_matrix = np.array(matrix)\n",
    "print(np_matrix)"
   ]
  },
  {
   "cell_type": "code",
   "execution_count": 8,
   "metadata": {},
   "outputs": [
    {
     "name": "stdout",
     "output_type": "stream",
     "text": [
      "[(0, 4), (0, 5), (0, 6), (1, 4), (1, 5), (1, 6), (2, 4), (2, 5), (2, 6)]\n"
     ]
    }
   ],
   "source": [
    "# nested list comprehension for combining every possibility\n",
    "poss_tuples = [(num1, num2) for num1 in range(0, 3) for num2 in range(4, 7)]\n",
    "print(poss_tuples)"
   ]
  },
  {
   "cell_type": "markdown",
   "metadata": {},
   "source": [
    "- Conditionals with list comprehensions\n",
    "    - can be placed on the output expression or the iterable"
   ]
  },
  {
   "cell_type": "code",
   "execution_count": 9,
   "metadata": {},
   "outputs": [
    {
     "name": "stdout",
     "output_type": "stream",
     "text": [
      "[0, 4, 16, 36, 64, 100]\n"
     ]
    }
   ],
   "source": [
    "# list comprehension with conditional on the iterable\n",
    "# square only the even numbers in this range\n",
    "even_squares = [num ** 2 for num in range(11) if num % 2 == 0]\n",
    "print(even_squares)"
   ]
  },
  {
   "cell_type": "code",
   "execution_count": 10,
   "metadata": {},
   "outputs": [
    {
     "name": "stdout",
     "output_type": "stream",
     "text": [
      "[0, 0, 6, 0, 12, 0, 18, 0, 24, 0, 30]\n"
     ]
    }
   ],
   "source": [
    "# list comprehension with conditional on the output expression\n",
    "# code doesn't run without the 'else' statement\n",
    "# output is a '0' for every odd num\n",
    "result = [num * 3 if num % 2 == 0 else 0 for num in range(11)]\n",
    "print(result)"
   ]
  },
  {
   "cell_type": "markdown",
   "metadata": {},
   "source": [
    "- Dictionary Comprehenions\n",
    "    - use `{}` instead of `[]`\n",
    "    - use `.items()` on the dictionary\n",
    "    - separate key/value pairs with colon `key: value`"
   ]
  },
  {
   "cell_type": "code",
   "execution_count": 11,
   "metadata": {},
   "outputs": [
    {
     "name": "stdout",
     "output_type": "stream",
     "text": [
      "{'a': 2, 'b': 4, 'c': 6, 'd': 8}\n"
     ]
    }
   ],
   "source": [
    "# dictionary comprehension\n",
    "# use .items()\n",
    "my_dict = {'a': 1, 'b': 2, 'c': 3, 'd': 4}\n",
    "doubles = {key:value*2 for (key, value) in my_dict.items()}\n",
    "print(doubles)"
   ]
  },
  {
   "cell_type": "markdown",
   "metadata": {},
   "source": [
    "#### Generators\n",
    "- \"Lazy Evaluation\"\n",
    "    - data aren't stored in memory and only called on when needed\n",
    "    - saves memory when using very large amounts of data\n",
    "- Syntax\n",
    "    - like a list comprehension but use `()` instead of `[]`\n",
    "- Creates a generator object, which is an iterable\n",
    "    - these types of objects can only be iterated through once before throwing an exception"
   ]
  },
  {
   "cell_type": "code",
   "execution_count": 12,
   "metadata": {},
   "outputs": [
    {
     "name": "stdout",
     "output_type": "stream",
     "text": [
      "2\n",
      "4\n"
     ]
    }
   ],
   "source": [
    "# create a huge generator object of only even numbers\n",
    "# the numbers are not stored in memory, and are only generated when called\n",
    "# generate a huge generator object containing even values\n",
    "gen_obj = (num for num in range(1, 10 ** 1000000) if num % 2 == 0)\n",
    "print(next(gen_obj))\n",
    "print(next(gen_obj))"
   ]
  },
  {
   "cell_type": "markdown",
   "metadata": {},
   "source": [
    "- Generator functions\n",
    "    - use `yield` rather than `return`\n",
    "    - when called and stored in a var, creates a generator object"
   ]
  },
  {
   "cell_type": "code",
   "execution_count": 13,
   "metadata": {},
   "outputs": [
    {
     "name": "stdout",
     "output_type": "stream",
     "text": [
      "0\n",
      "1\n",
      "2\n"
     ]
    }
   ],
   "source": [
    "# generator function to create an object of specified size\n",
    "def gen(n):\n",
    "    \"\"\"Generate values from 0 to n\"\"\"\n",
    "    i = 0\n",
    "    while i < n:\n",
    "        yield i\n",
    "        i += 1\n",
    "big_obj = gen(100000000000000)\n",
    "print(next(big_obj))\n",
    "print(next(big_obj))\n",
    "print(next(big_obj))"
   ]
  },
  {
   "cell_type": "markdown",
   "metadata": {},
   "source": [
    "## Functions\n",
    "#### Special Info for args and kwargs\n",
    "- `*args`\n",
    "    - use the `*` modifier before the temp name of a tuple often 'args'\n",
    "    - unpack this tuple in the function"
   ]
  },
  {
   "cell_type": "code",
   "execution_count": 14,
   "metadata": {},
   "outputs": [
    {
     "name": "stdout",
     "output_type": "stream",
     "text": [
      "[5, 6, 'seven', 4.5]\n"
     ]
    }
   ],
   "source": [
    "# *args example\n",
    "def args_func(*args):\n",
    "    \"\"\"returns your list of args\"\"\"\n",
    "    list_of_args = []\n",
    "    for arg in args:\n",
    "        list_of_args.append(arg)\n",
    "    return list_of_args\n",
    "example = args_func(5, 6, 'seven', 4.5)\n",
    "print(example)"
   ]
  },
  {
   "cell_type": "markdown",
   "metadata": {},
   "source": [
    "- `**kwargs`\n",
    "    - use the `**` modifier before the temp name of a dictionary often 'kwargs'\n",
    "    - use `kwargs.items()` in your code to acces keys and values\n",
    "    - allows the use of named args"
   ]
  },
  {
   "cell_type": "code",
   "execution_count": 15,
   "metadata": {},
   "outputs": [
    {
     "name": "stdout",
     "output_type": "stream",
     "text": [
      "{'name': 'me', 'height': 1.8, 'size': 'XL'}\n"
     ]
    }
   ],
   "source": [
    "# **kwargs example\n",
    "def kwargs_func(**kwargs):\n",
    "    \"\"\"returns your dictionary of kwargs\"\"\"\n",
    "    dict_of_kwargs = {}\n",
    "    for key, value in kwargs.items():\n",
    "        dict_of_kwargs[key] = value\n",
    "    return dict_of_kwargs\n",
    "example2 = kwargs_func(name='me', height=1.8, size='XL') # key names don't need quotes\n",
    "print(example2)"
   ]
  },
  {
   "cell_type": "markdown",
   "metadata": {},
   "source": [
    "## Lambda Functions\n",
    "- Quick and easy way to write a function\n",
    "    - syntax often not entirely clear\n",
    "- Use\n",
    "    - anonymous functions, where function is an arg of another function\n",
    "- Syntax\n",
    "    - `func_name = lambda args: statements`\n",
    "    - can supply 0 or more args"
   ]
  },
  {
   "cell_type": "code",
   "execution_count": 16,
   "metadata": {},
   "outputs": [
    {
     "data": {
      "text/plain": [
       "['wow!!!', 'whoa!!!', 'holy cow!!!']"
      ]
     },
     "execution_count": 16,
     "metadata": {},
     "output_type": "execute_result"
    }
   ],
   "source": [
    "# example using a lambda function for the arg in a 'map' function\n",
    "my_list = ['wow', 'whoa', 'holy cow']\n",
    "result = map(lambda item: item + '!!!', my_list) # item is an arg here, and represents each list item\n",
    "list(result) # print(result) indicates this is a map object, must convert back to a list"
   ]
  },
  {
   "cell_type": "code",
   "execution_count": 17,
   "metadata": {},
   "outputs": [
    {
     "data": {
      "text/plain": [
       "['whoa', 'holy cow']"
      ]
     },
     "execution_count": 17,
     "metadata": {},
     "output_type": "execute_result"
    }
   ],
   "source": [
    "# example using 'filter' function with lambda function as the conditional\n",
    "result2 = filter(lambda item: len(item) > 3, my_list) # filters only items with more than 3 chars\n",
    "list(result2)"
   ]
  },
  {
   "cell_type": "markdown",
   "metadata": {},
   "source": [
    "## Database Interfaces\n",
    "#### See Pandas Library\n",
    "- `df = pd.read_sql_query(\"SELECT * FROM table_name\", engine)\n",
    "    - `engine` is the engine to connect to\n",
    "    - see below for 'Creating an engine'\n",
    "#### SQL Alchemy\n",
    "- Need to import the appropriate package\n",
    "    - `from sqlalchemy import create_engine`\n",
    "- Creating an engine\n",
    "    - `engine = create_engine('sqlite:///db_name.sqlite')\n",
    "        - above syntax `'db_type:///db_name.extension'`\n",
    "- Store table names as a list\n",
    "    - `table_names = engine.table_names()`\n",
    "        - use the `table_names()` method of an engine object\n",
    "    - can `print(table_names)` to view the list contents\n",
    "- Create a database connection object\n",
    "    - necessary to execute queries\n",
    "    - `con = engine.connect()`\n",
    "            - don't forget to close it!\n",
    "    - `with engine.connect() as con:`\n",
    "        - nest all statements requiring a connection inside this with statement to avoid having to close the connection\n",
    "- Create a SQL Alchemy result object\n",
    "    - `rs = con.execute(\"SQL query\")` where \"SQL query\" is any single SQL query\n",
    "- Create a Pandas dataframe from a result object\n",
    "    - `df = pd.DataFrame(rs.fetchall())` to return all rows from the result\n",
    "    - see also\n",
    "        - `rs.fetchmany(size=num)` where you supply the 'num' of rows to fetch\n",
    "- Set the column names\n",
    "    - `df.columns = rs.keys()`\n",
    "- Close the database connection\n",
    "    - `con.close()`\n",
    "    - not necessary when using the `with engine.connect() as con:` strategy"
   ]
  },
  {
   "cell_type": "code",
   "execution_count": null,
   "metadata": {},
   "outputs": [],
   "source": []
  }
 ],
 "metadata": {
  "kernelspec": {
   "display_name": "Python 3",
   "language": "python",
   "name": "python3"
  },
  "language_info": {
   "codemirror_mode": {
    "name": "ipython",
    "version": 3
   },
   "file_extension": ".py",
   "mimetype": "text/x-python",
   "name": "python",
   "nbconvert_exporter": "python",
   "pygments_lexer": "ipython3",
   "version": "3.7.3"
  }
 },
 "nbformat": 4,
 "nbformat_minor": 2
}
