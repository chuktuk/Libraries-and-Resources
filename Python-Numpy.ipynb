{
 "cells": [
  {
   "cell_type": "markdown",
   "metadata": {},
   "source": [
    "# Numpy Library"
   ]
  },
  {
   "cell_type": "code",
   "execution_count": 1,
   "metadata": {},
   "outputs": [],
   "source": [
    "# import numpy as np\n",
    "import numpy as np"
   ]
  },
  {
   "cell_type": "markdown",
   "metadata": {},
   "source": [
    "## Numpy General Info\n",
    "- Numpy arrays must contain all the same datatype\n",
    "    - if a list contains floats and ints, all will be converted to floats if possible\n",
    "    - use Pandas if wanting a dataframe with multiple data types"
   ]
  },
  {
   "cell_type": "markdown",
   "metadata": {},
   "source": [
    "## Creating Numpy Arrays\n",
    "- `np.array(list)`\n",
    "    - can supply the list as a variable or as a list of values in `[]`\n",
    "    - can specify type of array `dtype='type'` for 'int', 'float32', etc."
   ]
  },
  {
   "cell_type": "markdown",
   "metadata": {},
   "source": [
    "#### Numpy Data Types\n",
    "- set using `dtype='datatype'` or `dtype=np.datatype` in args\n",
    "    - `bool_` True or False store as a byte\n",
    "    - `int_` default integer type, normally either int64 or int32\n",
    "    - `intc` identical to C int (int32 or int64)\n",
    "    - `intp` int used for indexing\n",
    "    - `int8` byte (-128 to 127)\n",
    "    - `int16` integer (-32768 to 32767)\n",
    "    - `int32` integer (-2147483648 to 2147483647)\n",
    "    - `int64` integer (well, the biggest one)\n",
    "    - `uint8` unsigned int (0 to 255)\n",
    "    - `uint16` unsigned int (0 to 65535)\n",
    "    - `uint32` unsigned int (0 to 4294967295)\n",
    "    - `uint64` unsigned int (the biggest one)\n",
    "    - `float_` shorthand for float64\n",
    "    - `float16` half-precision float: sign bit, 5 bits exponent, 10 bits mantissa\n",
    "    - `float32` single-precision float: sign bit, 8 bits exponent, 23 bits mantissa\n",
    "    - `float64` double-precision float: sign bit, 11 bits exponent, 52 bits mantissa\n",
    "    - `complex_` short for complex128\n",
    "    - `complex64` complex number, with 32-bit floats\n",
    "    - `complex128` complex number, with 64-bit floats\n",
    "- more advanced type specification possible at [numpy documentation](http://numpy.org)"
   ]
  },
  {
   "cell_type": "markdown",
   "metadata": {},
   "source": [
    "#### Create Arrays from Lists"
   ]
  },
  {
   "cell_type": "code",
   "execution_count": 2,
   "metadata": {},
   "outputs": [
    {
     "data": {
      "text/plain": [
       "array([1., 2., 3., 4., 5., 6.], dtype=float32)"
      ]
     },
     "execution_count": 2,
     "metadata": {},
     "output_type": "execute_result"
    }
   ],
   "source": [
    "# create an array from a list using np.array()\n",
    "np.array([1, 2, 3, 4, 5, 6], dtype='float32')"
   ]
  },
  {
   "cell_type": "code",
   "execution_count": 3,
   "metadata": {},
   "outputs": [
    {
     "data": {
      "text/plain": [
       "array([ 2,  4,  6,  8, 10])"
      ]
     },
     "execution_count": 3,
     "metadata": {},
     "output_type": "execute_result"
    }
   ],
   "source": [
    "# create an array from a list stored in a variable using np.asarray()\n",
    "mylist = [2, 4, 6, 8, 10]\n",
    "np.asarray(mylist, dtype='int')"
   ]
  },
  {
   "cell_type": "markdown",
   "metadata": {},
   "source": [
    "#### Explicit Multidimensional Array"
   ]
  },
  {
   "cell_type": "code",
   "execution_count": 4,
   "metadata": {},
   "outputs": [
    {
     "data": {
      "text/plain": [
       "array([[2, 3, 4],\n",
       "       [4, 5, 6],\n",
       "       [6, 7, 8]])"
      ]
     },
     "execution_count": 4,
     "metadata": {},
     "output_type": "execute_result"
    }
   ],
   "source": [
    "# creates three rows [2, 4, 6] as starting i values, with ranges +3 over i\n",
    "# row 1 range(2, 5), row 2 range(4, 7), row 3 range(6, 9)\n",
    "np.array([range(i, i + 3) for i in [2, 4, 6]])"
   ]
  },
  {
   "cell_type": "markdown",
   "metadata": {},
   "source": [
    "#### Creating Arrays from Scratch\n",
    "- This section contains info on generating random arrays too\n",
    "- Can specify a *seed* when using the `np.random` package\n",
    "    - `np.random.seed(num)` where \"num\" is an integer you supply\n",
    "    - calling `np.random` using the same parameters will result in the same random numbers after this!\n",
    "    - this could be useful for reproducibility in some cases"
   ]
  },
  {
   "cell_type": "code",
   "execution_count": 5,
   "metadata": {},
   "outputs": [
    {
     "data": {
      "text/plain": [
       "array([0, 0, 0, 0, 0, 0, 0, 0, 0, 0])"
      ]
     },
     "execution_count": 5,
     "metadata": {},
     "output_type": "execute_result"
    }
   ],
   "source": [
    "# length-10 int array filled with zeros using np.zeros(num, dtype)\n",
    "# instead of 10, use (rows, columns) for multi-dimensional array\n",
    "np.zeros(10, dtype=int)"
   ]
  },
  {
   "cell_type": "code",
   "execution_count": 6,
   "metadata": {},
   "outputs": [
    {
     "data": {
      "text/plain": [
       "array([[1., 1., 1., 1., 1.],\n",
       "       [1., 1., 1., 1., 1.],\n",
       "       [1., 1., 1., 1., 1.]])"
      ]
     },
     "execution_count": 6,
     "metadata": {},
     "output_type": "execute_result"
    }
   ],
   "source": [
    "# 3x5 arrays of floats filled with ones using np.ones\n",
    "np.ones((3, 5), dtype=float)"
   ]
  },
  {
   "cell_type": "code",
   "execution_count": 7,
   "metadata": {},
   "outputs": [
    {
     "data": {
      "text/plain": [
       "array([[3.14, 3.14, 3.14, 3.14, 3.14, 3.14],\n",
       "       [3.14, 3.14, 3.14, 3.14, 3.14, 3.14],\n",
       "       [3.14, 3.14, 3.14, 3.14, 3.14, 3.14],\n",
       "       [3.14, 3.14, 3.14, 3.14, 3.14, 3.14]])"
      ]
     },
     "execution_count": 7,
     "metadata": {},
     "output_type": "execute_result"
    }
   ],
   "source": [
    "# create an array where you specify the value to fill using np.full\n",
    "np.full((4, 6), 3.14, dtype=float)"
   ]
  },
  {
   "cell_type": "code",
   "execution_count": 8,
   "metadata": {},
   "outputs": [
    {
     "data": {
      "text/plain": [
       "array([ 0,  2,  4,  6,  8, 10, 12, 14, 16, 18])"
      ]
     },
     "execution_count": 8,
     "metadata": {},
     "output_type": "execute_result"
    }
   ],
   "source": [
    "# create an array specifying a start, stop, and step using np.arange()\n",
    "# similar to the range() function\n",
    "# args are (start_val, stop_not_included, step)\n",
    "np.arange(0, 20, 2)"
   ]
  },
  {
   "cell_type": "code",
   "execution_count": 9,
   "metadata": {},
   "outputs": [
    {
     "data": {
      "text/plain": [
       "array([0.  , 0.25, 0.5 , 0.75, 1.  ])"
      ]
     },
     "execution_count": 9,
     "metadata": {},
     "output_type": "execute_result"
    }
   ],
   "source": [
    "# create an array from start to stop with evenly spaced steps between using np.linspace()\n",
    "# args are (first_val, last_val, num_of_vals)\n",
    "np.linspace(0, 1, 5)"
   ]
  },
  {
   "cell_type": "code",
   "execution_count": 10,
   "metadata": {},
   "outputs": [
    {
     "data": {
      "text/plain": [
       "array([[0.37312613, 0.70133611, 0.27573336],\n",
       "       [0.85038517, 0.68947881, 0.30302937],\n",
       "       [0.02321078, 0.33738511, 0.36386887],\n",
       "       [0.81801482, 0.8707027 , 0.20365378]])"
      ]
     },
     "execution_count": 10,
     "metadata": {},
     "output_type": "execute_result"
    }
   ],
   "source": [
    "# create array of uniformly dist random values between 0-1 using np.random.random()\n",
    "# can set the \"seed\" using np.random.seed(value)\n",
    "np.random.random((4, 3))"
   ]
  },
  {
   "cell_type": "code",
   "execution_count": 11,
   "metadata": {},
   "outputs": [
    {
     "data": {
      "text/plain": [
       "array([[-0.442534  , -0.10722454, -0.0318288 ],\n",
       "       [ 0.61570818,  0.42899879,  0.26139669],\n",
       "       [-0.64980345, -0.06753001, -0.72745616]])"
      ]
     },
     "execution_count": 11,
     "metadata": {},
     "output_type": "execute_result"
    }
   ],
   "source": [
    "# create array of normally dist random values mean of 0 and stdev of 1\n",
    "# can set the \"seed\" using np.random.seed(value)\n",
    "# args are (mu, sigma, shape_or_number_of_vals)\n",
    "# mu = mean, sigma = stdev\n",
    "np.random.normal(0, 1, (3, 3))"
   ]
  },
  {
   "cell_type": "code",
   "execution_count": 12,
   "metadata": {},
   "outputs": [
    {
     "data": {
      "text/plain": [
       "array([[8, 8, 9, 1, 6],\n",
       "       [4, 3, 8, 1, 6],\n",
       "       [5, 4, 6, 1, 6],\n",
       "       [0, 1, 0, 3, 5],\n",
       "       [4, 0, 5, 2, 2]])"
      ]
     },
     "execution_count": 12,
     "metadata": {},
     "output_type": "execute_result"
    }
   ],
   "source": [
    "# create array of random ints using np.random.randint()\n",
    "# can set the \"seed\" using np.random.seed(value)\n",
    "# args are (start, stop_not_included, shape_or_num_of_vals)\n",
    "np.random.randint(0, 10, (5, 5))"
   ]
  },
  {
   "cell_type": "code",
   "execution_count": 13,
   "metadata": {},
   "outputs": [
    {
     "data": {
      "text/plain": [
       "array([[1., 0., 0., 0.],\n",
       "       [0., 1., 0., 0.],\n",
       "       [0., 0., 1., 0.],\n",
       "       [0., 0., 0., 1.]])"
      ]
     },
     "execution_count": 13,
     "metadata": {},
     "output_type": "execute_result"
    }
   ],
   "source": [
    "# create identity matrix (1's on diagonal, all else 0's) using np.eye()\n",
    "# always a square matrix\n",
    "# dtype looks like float by default\n",
    "np.eye(4)"
   ]
  },
  {
   "cell_type": "markdown",
   "metadata": {},
   "source": [
    "## Array Attributes\n",
    "- This attributes section will use the following x1, x2, and x3 arrays as examples:\n",
    "    - these are 1d, 2d, and 3d arrays respectively\n",
    "- Attributes\n",
    "    - access using `object.attribute`\n",
    "    - `ndim` number of dimensions\n",
    "    - `shape` size of each dimension\n",
    "    - `size` total size (number of items)\n",
    "    - `dtype` data type of array\n",
    "    - `itemsize` size in bytes of each array element\n",
    "    - `nbytes` total size in bytes of the array\n",
    "        - `nbytes` should equal `itemsize` times `size`"
   ]
  },
  {
   "cell_type": "code",
   "execution_count": 14,
   "metadata": {},
   "outputs": [],
   "source": [
    "# seed for reproducibility with np.random\n",
    "np.random.seed(0)\n",
    "\n",
    "x1 = np.random.randint(10, size=6) # 1d array len=6\n",
    "x2 = np.random.randint(10, size=(3, 4)) # 2d array 3x4\n",
    "x3 = np.random.randint(10, size=(3, 4, 5)) # 3d array 3x4x5"
   ]
  },
  {
   "cell_type": "code",
   "execution_count": 18,
   "metadata": {},
   "outputs": [
    {
     "name": "stdout",
     "output_type": "stream",
     "text": [
      "x1 ndim:  1\n",
      "x2 ndim:  2\n",
      "x3 ndim:  3\n"
     ]
    }
   ],
   "source": [
    "# print number of dimensions\n",
    "print(\"x1 ndim: \", x1.ndim)\n",
    "print(\"x2 ndim: \", x2.ndim)\n",
    "print(\"x3 ndim: \", x3.ndim)"
   ]
  },
  {
   "cell_type": "code",
   "execution_count": 19,
   "metadata": {},
   "outputs": [
    {
     "name": "stdout",
     "output_type": "stream",
     "text": [
      "x1 nbytes:  24\n",
      "x2 nbytes:  48\n",
      "x3 nbytes:  240\n"
     ]
    }
   ],
   "source": [
    "# print total size using nbytes\n",
    "print(\"x1 nbytes: \", x1.nbytes)\n",
    "print(\"x2 nbytes: \", x2.nbytes)\n",
    "print(\"x3 nbytes: \", x3.nbytes)"
   ]
  },
  {
   "cell_type": "markdown",
   "metadata": {},
   "source": [
    "## Accessing Array Elements\n",
    "#### Access a single value (uses 0 indexing)\n",
    "- `array[index]` for 1d\n",
    "- `array[row_index, column_index]` for 2d\n",
    "- `array[box_index, row_index, column_index]` for 3d"
   ]
  },
  {
   "cell_type": "code",
   "execution_count": 20,
   "metadata": {},
   "outputs": [
    {
     "data": {
      "text/plain": [
       "array([[[8, 1, 5, 9, 8],\n",
       "        [9, 4, 3, 0, 3],\n",
       "        [5, 0, 2, 3, 8],\n",
       "        [1, 3, 3, 3, 7]],\n",
       "\n",
       "       [[0, 1, 9, 9, 0],\n",
       "        [4, 7, 3, 2, 7],\n",
       "        [2, 0, 0, 4, 5],\n",
       "        [5, 6, 8, 4, 1]],\n",
       "\n",
       "       [[4, 9, 8, 1, 1],\n",
       "        [7, 9, 9, 3, 6],\n",
       "        [7, 2, 0, 3, 5],\n",
       "        [9, 4, 4, 6, 4]]])"
      ]
     },
     "execution_count": 20,
     "metadata": {},
     "output_type": "execute_result"
    }
   ],
   "source": [
    "# show x3 values\n",
    "x3"
   ]
  },
  {
   "cell_type": "code",
   "execution_count": 21,
   "metadata": {},
   "outputs": [
    {
     "data": {
      "text/plain": [
       "0"
      ]
     },
     "execution_count": 21,
     "metadata": {},
     "output_type": "execute_result"
    }
   ],
   "source": [
    "# select the middle box (index of 1), then first row first column\n",
    "x3[1, 0, 0]"
   ]
  },
  {
   "cell_type": "markdown",
   "metadata": {},
   "source": [
    "#### Array Slicing\n",
    "- assigning an array slice or value to a variable can allow you to change the variable's value\n",
    "    - **this will in turn modify the original array too!**\n",
    "    - to create a copy of an array that won't modify the original use `copy()`\n",
    "        - `subarray_copy = array[rows, cols].copy()` \n",
    "- 1d arrays\n",
    "    - `array[start:stop:step]`\n",
    "    - `array[:5]` first 5 elements (index 0 through 4)\n",
    "    - `array[5:]` elements starting with index 5 until the end\n",
    "    - `array[4:7]` elements from index 4 through index 6\n",
    "    - `array[::2]` every other element\n",
    "    - `array[1::2]` every other element starting at index 1\n",
    "    - `array[::-1]` all elements reversed\n",
    "    - `array[5::-2]` every other element in reverse from index 5 to 0 (1 really)"
   ]
  },
  {
   "cell_type": "code",
   "execution_count": 23,
   "metadata": {},
   "outputs": [
    {
     "data": {
      "text/plain": [
       "array([5, 0, 3, 3, 7, 9])"
      ]
     },
     "execution_count": 23,
     "metadata": {},
     "output_type": "execute_result"
    }
   ],
   "source": [
    "x1"
   ]
  },
  {
   "cell_type": "code",
   "execution_count": 24,
   "metadata": {},
   "outputs": [
    {
     "data": {
      "text/plain": [
       "array([0, 3, 3])"
      ]
     },
     "execution_count": 24,
     "metadata": {},
     "output_type": "execute_result"
    }
   ],
   "source": [
    "x1[1:4]"
   ]
  },
  {
   "cell_type": "code",
   "execution_count": 25,
   "metadata": {},
   "outputs": [
    {
     "data": {
      "text/plain": [
       "array([9, 7, 3, 3, 0, 5])"
      ]
     },
     "execution_count": 25,
     "metadata": {},
     "output_type": "execute_result"
    }
   ],
   "source": [
    "x1[::-1]"
   ]
  },
  {
   "cell_type": "markdown",
   "metadata": {},
   "source": [
    "- multidimensional arrays\n",
    "    - creating subarrays\n",
    "        - `array[:rows, :cols]` accesses :rows number of rows and :cols number of columns\n",
    "            - `array[:2, :3]` two rows, three columns\n",
    "        - `array[:rows, ::cols]` ::cols acts like a step\n",
    "            - `array[:3, ::2]` three rows, every other column\n",
    "        - `array[::-1, ::-1]` reverses the rows and reverses the columns\n",
    "    - accessing rows and columns\n",
    "        - `array[:, col]` accesses all rows in column at specified index\n",
    "        - `array[row, :]` accesses entire row at specified index"
   ]
  },
  {
   "cell_type": "code",
   "execution_count": 26,
   "metadata": {},
   "outputs": [
    {
     "data": {
      "text/plain": [
       "array([[3, 5, 2, 4],\n",
       "       [7, 6, 8, 8],\n",
       "       [1, 6, 7, 7]])"
      ]
     },
     "execution_count": 26,
     "metadata": {},
     "output_type": "execute_result"
    }
   ],
   "source": [
    "# view x2\n",
    "x2"
   ]
  },
  {
   "cell_type": "code",
   "execution_count": 33,
   "metadata": {},
   "outputs": [
    {
     "name": "stdout",
     "output_type": "stream",
     "text": [
      "[1 6 7 7]\n"
     ]
    }
   ],
   "source": [
    "# assign 3rd row to a subarray variable\n",
    "# modifying this subarray will change the original\n",
    "x2sub = x2[2, :]\n",
    "print(x2sub)"
   ]
  },
  {
   "cell_type": "code",
   "execution_count": 35,
   "metadata": {},
   "outputs": [
    {
     "name": "stdout",
     "output_type": "stream",
     "text": [
      "[[ 3  5  2  4]\n",
      " [ 7  6  8  8]\n",
      " [99  6  7  7]]\n"
     ]
    }
   ],
   "source": [
    "# modifying the subarray modifies the original array\n",
    "x2sub[0] = 99\n",
    "print(x2)"
   ]
  },
  {
   "cell_type": "code",
   "execution_count": 37,
   "metadata": {},
   "outputs": [
    {
     "name": "stdout",
     "output_type": "stream",
     "text": [
      "[99  6  7  7]\n",
      "[1 6 7 7]\n",
      "\n",
      "[[ 3  5  2  4]\n",
      " [ 7  6  8  8]\n",
      " [99  6  7  7]]\n"
     ]
    }
   ],
   "source": [
    "# copies can be modified without altering the original\n",
    "x2subcopy = x2[2, :].copy()\n",
    "print(x2subcopy)\n",
    "x2subcopy[0] = 1\n",
    "print(x2subcopy)\n",
    "print()\n",
    "print(x2)"
   ]
  },
  {
   "cell_type": "code",
   "execution_count": null,
   "metadata": {},
   "outputs": [],
   "source": []
  }
 ],
 "metadata": {
  "kernelspec": {
   "display_name": "Python 3",
   "language": "python",
   "name": "python3"
  },
  "language_info": {
   "codemirror_mode": {
    "name": "ipython",
    "version": 3
   },
   "file_extension": ".py",
   "mimetype": "text/x-python",
   "name": "python",
   "nbconvert_exporter": "python",
   "pygments_lexer": "ipython3",
   "version": "3.7.3"
  }
 },
 "nbformat": 4,
 "nbformat_minor": 2
}
