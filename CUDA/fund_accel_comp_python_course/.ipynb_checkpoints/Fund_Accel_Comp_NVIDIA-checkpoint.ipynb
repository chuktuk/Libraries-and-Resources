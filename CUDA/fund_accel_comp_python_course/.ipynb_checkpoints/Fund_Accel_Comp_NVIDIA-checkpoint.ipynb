{
 "cells": [
  {
   "cell_type": "markdown",
   "id": "commercial-excitement",
   "metadata": {},
   "source": [
    "# Fundamentals of Accelerated Computing with CUDA Python\n",
    "#### Notes from the NVIDIA Course"
   ]
  },
  {
   "cell_type": "markdown",
   "id": "radical-mortality",
   "metadata": {},
   "source": [
    "Remarks\n",
    "- This course used a live CUDA virtual environment in the cloud enabled with an NVIDIA GPU"
   ]
  },
  {
   "cell_type": "code",
   "execution_count": null,
   "id": "treated-twenty",
   "metadata": {},
   "outputs": [],
   "source": []
  }
 ],
 "metadata": {
  "kernelspec": {
   "display_name": "Python 3",
   "language": "python",
   "name": "python3"
  },
  "language_info": {
   "codemirror_mode": {
    "name": "ipython",
    "version": 3
   },
   "file_extension": ".py",
   "mimetype": "text/x-python",
   "name": "python",
   "nbconvert_exporter": "python",
   "pygments_lexer": "ipython3",
   "version": "3.7.7"
  }
 },
 "nbformat": 4,
 "nbformat_minor": 5
}
